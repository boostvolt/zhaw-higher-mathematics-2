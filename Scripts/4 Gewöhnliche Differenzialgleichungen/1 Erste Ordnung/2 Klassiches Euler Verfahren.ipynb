{
 "cells": [
  {
   "cell_type": "code",
   "execution_count": 14,
   "metadata": {},
   "outputs": [
    {
     "data": {
      "text/markdown": [
       "**Schritt 1:**"
      ],
      "text/plain": [
       "<IPython.core.display.Markdown object>"
      ]
     },
     "metadata": {},
     "output_type": "display_data"
    },
    {
     "data": {
      "text/markdown": [
       "$x_1 = a + i*h = 0 + 1*0.7 = 0.7$"
      ],
      "text/plain": [
       "<IPython.core.display.Markdown object>"
      ]
     },
     "metadata": {},
     "output_type": "display_data"
    },
    {
     "data": {
      "text/markdown": [
       "$y_1 = y_0 + h * f(x_0, y_0) = 2.0 + 0.7 * f(0.0, 2.0) = 2.1715$"
      ],
      "text/plain": [
       "<IPython.core.display.Markdown object>"
      ]
     },
     "metadata": {},
     "output_type": "display_data"
    },
    {
     "data": {
      "text/markdown": [
       "**Absoluter Fehler:**"
      ],
      "text/plain": [
       "<IPython.core.display.Markdown object>"
      ]
     },
     "metadata": {},
     "output_type": "display_data"
    },
    {
     "data": {
      "text/markdown": [
       "$|Yres_1 - Y_1| = |2.028381949568013 - 2.1715| = 0.1431180504319869$"
      ],
      "text/plain": [
       "<IPython.core.display.Markdown object>"
      ]
     },
     "metadata": {},
     "output_type": "display_data"
    },
    {
     "name": "stdout",
     "output_type": "stream",
     "text": [
      "\n"
     ]
    },
    {
     "data": {
      "text/markdown": [
       "**Schritt 2:**"
      ],
      "text/plain": [
       "<IPython.core.display.Markdown object>"
      ]
     },
     "metadata": {},
     "output_type": "display_data"
    },
    {
     "data": {
      "text/markdown": [
       "$x_2 = a + i*h = 0 + 2*0.7 = 1.4$"
      ],
      "text/plain": [
       "<IPython.core.display.Markdown object>"
      ]
     },
     "metadata": {},
     "output_type": "display_data"
    },
    {
     "data": {
      "text/markdown": [
       "$y_2 = y_1 + h * f(x_1, y_1) = 2.1715 + 0.7 * f(0.7, 2.1715) = 2.8033213216670503$"
      ],
      "text/plain": [
       "<IPython.core.display.Markdown object>"
      ]
     },
     "metadata": {},
     "output_type": "display_data"
    },
    {
     "data": {
      "text/markdown": [
       "**Absoluter Fehler:**"
      ],
      "text/plain": [
       "<IPython.core.display.Markdown object>"
      ]
     },
     "metadata": {},
     "output_type": "display_data"
    },
    {
     "data": {
      "text/markdown": [
       "$|Yres_2 - Y_2| = |2.2169047491190654 - 2.8033213216670503| = 0.5864165725479848$"
      ],
      "text/plain": [
       "<IPython.core.display.Markdown object>"
      ]
     },
     "metadata": {},
     "output_type": "display_data"
    },
    {
     "name": "stdout",
     "output_type": "stream",
     "text": [
      "\n"
     ]
    }
   ],
   "source": [
    "import numpy as np\n",
    "from IPython.display import display, Markdown\n",
    "\n",
    "def euler(f, a, b, n, y0):\n",
    "    h = (b-a)/(n)\n",
    "    x = a\n",
    "    y = y0\n",
    "\n",
    "    X = np.zeros(n+1)\n",
    "    Y = np.zeros(n+1)\n",
    "\n",
    "    X[0] = x\n",
    "    Y[0] = y\n",
    "\n",
    "    for i in range(1,n+1):\n",
    "        x = a + i*h\n",
    "        X[i] = x\n",
    "        y = y + h * f(x,y)\n",
    "        Y[i] = y    \n",
    "        display(Markdown(f\"**Schritt {i}:**\"))\n",
    "        display(Markdown(f\"$x_{i} = a + i*h = {a} + {i}*{h} = {x}$\"))\n",
    "        display(Markdown(f\"$y_{i} = y_{i-1} + h * f(x_{i-1}, y_{i-1}) = {Y[i-1]} + {h} * f({X[i-1]}, {Y[i-1]}) = {y}$\"))\n",
    "\n",
    "        Xres = np.arange(a,b+h,h)\n",
    "        Yres = np.sqrt(((Xres**3)/3)+4)\n",
    "        abs_error = np.abs(Yres[i]-Y[i])\n",
    "        display(Markdown(f\"**Absoluter Fehler:**\"))\n",
    "        display(Markdown(f\"$|Yres_{i} - Y_{i}| = |{Yres[i]} - {Y[i]}| = {abs_error}$\"))\n",
    "        print()\n",
    "\n",
    "    return X,Y\n",
    "\n",
    "\"\"\"\n",
    "=======================================================================================================================\n",
    "INPUT\n",
    "=======================================================================================================================\n",
    "\"\"\"\n",
    "\n",
    "def f(x,y):\n",
    "    return (x**2 / y) # Rechte Seite der DGL y' = f(x, y)\n",
    "\n",
    "a = 0\n",
    "b = 1.4\n",
    "n = 2\n",
    "y0 = 2\n",
    "\n",
    "\"\"\"\n",
    "=======================================================================================================================\n",
    "\"\"\"\n",
    "\n",
    "X,Y = euler(f, a, b, n, y0)"
   ]
  }
 ],
 "metadata": {
  "language_info": {
   "name": "python"
  }
 },
 "nbformat": 4,
 "nbformat_minor": 2
}
