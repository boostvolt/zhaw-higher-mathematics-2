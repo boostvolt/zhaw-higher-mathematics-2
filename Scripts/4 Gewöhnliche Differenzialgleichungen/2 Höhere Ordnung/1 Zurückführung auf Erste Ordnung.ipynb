{
 "cells": [
  {
   "cell_type": "code",
   "execution_count": 20,
   "metadata": {},
   "outputs": [
    {
     "data": {
      "text/latex": [
       "$\\displaystyle \\text{Differentialgleichung:}$"
      ],
      "text/plain": [
       "<IPython.core.display.Math object>"
      ]
     },
     "metadata": {},
     "output_type": "display_data"
    },
    {
     "data": {
      "text/latex": [
       "$\\displaystyle \\frac{d^{2}}{d x^{2}} y{\\left(x \\right)} = - 0.1 \\left|{\\frac{d}{d x} y{\\left(x \\right)}}\\right| \\frac{d}{d x} y{\\left(x \\right)} - 10$"
      ],
      "text/plain": [
       "<IPython.core.display.Math object>"
      ]
     },
     "metadata": {},
     "output_type": "display_data"
    },
    {
     "name": "stdout",
     "output_type": "stream",
     "text": [
      "\n"
     ]
    },
    {
     "data": {
      "text/latex": [
       "$\\displaystyle \\text{Definition der neuen Variablen:}$"
      ],
      "text/plain": [
       "<IPython.core.display.Math object>"
      ]
     },
     "metadata": {},
     "output_type": "display_data"
    },
    {
     "data": {
      "text/latex": [
       "$\\displaystyle z_{1}(x) = y^{(0)}(x)$"
      ],
      "text/plain": [
       "<IPython.core.display.Math object>"
      ]
     },
     "metadata": {},
     "output_type": "display_data"
    },
    {
     "data": {
      "text/latex": [
       "$\\displaystyle z_{2}(x) = y^{(1)}(x)$"
      ],
      "text/plain": [
       "<IPython.core.display.Math object>"
      ]
     },
     "metadata": {},
     "output_type": "display_data"
    },
    {
     "name": "stdout",
     "output_type": "stream",
     "text": [
      "\n"
     ]
    },
    {
     "data": {
      "text/latex": [
       "$\\displaystyle \\text{Umformung der Differentialgleichung in ein System erster Ordnung:}$"
      ],
      "text/plain": [
       "<IPython.core.display.Math object>"
      ]
     },
     "metadata": {},
     "output_type": "display_data"
    },
    {
     "data": {
      "text/latex": [
       "$\\displaystyle \\frac{d}{d x} z_{1}{\\left(x \\right)} = z_{2}{\\left(x \\right)}$"
      ],
      "text/plain": [
       "<IPython.core.display.Math object>"
      ]
     },
     "metadata": {},
     "output_type": "display_data"
    },
    {
     "data": {
      "text/latex": [
       "$\\displaystyle \\frac{d}{d x} z_{2}{\\left(x \\right)} = - 0.1 \\left|{\\frac{d}{d x} z_{1}{\\left(x \\right)}}\\right| \\frac{d}{d x} z_{1}{\\left(x \\right)} - 10$"
      ],
      "text/plain": [
       "<IPython.core.display.Math object>"
      ]
     },
     "metadata": {},
     "output_type": "display_data"
    },
    {
     "name": "stdout",
     "output_type": "stream",
     "text": [
      "\n"
     ]
    },
    {
     "data": {
      "text/latex": [
       "$\\displaystyle \\text{Vektor } z \\text{ und dessen Ableitung:}$"
      ],
      "text/plain": [
       "<IPython.core.display.Math object>"
      ]
     },
     "metadata": {},
     "output_type": "display_data"
    },
    {
     "data": {
      "text/latex": [
       "$\\displaystyle z = \\left[\\begin{matrix}z_{1}{\\left(x \\right)}\\\\z_{2}{\\left(x \\right)}\\end{matrix}\\right]$"
      ],
      "text/plain": [
       "<IPython.core.display.Math object>"
      ]
     },
     "metadata": {},
     "output_type": "display_data"
    },
    {
     "data": {
      "text/latex": [
       "$\\displaystyle z' = \\left[\\begin{matrix}z_{2}{\\left(x \\right)}\\\\- 0.1 \\left|{\\frac{d}{d x} z_{1}{\\left(x \\right)}}\\right| \\frac{d}{d x} z_{1}{\\left(x \\right)} - 10\\end{matrix}\\right]$"
      ],
      "text/plain": [
       "<IPython.core.display.Math object>"
      ]
     },
     "metadata": {},
     "output_type": "display_data"
    },
    {
     "name": "stdout",
     "output_type": "stream",
     "text": [
      "\n"
     ]
    },
    {
     "data": {
      "text/latex": [
       "$\\displaystyle \\text{Anfangsbedingungen:}$"
      ],
      "text/plain": [
       "<IPython.core.display.Math object>"
      ]
     },
     "metadata": {},
     "output_type": "display_data"
    },
    {
     "data": {
      "text/latex": [
       "$\\displaystyle z(0) = \\begin{pmatrix}20 \\\\ 0\\end{pmatrix}$"
      ],
      "text/plain": [
       "<IPython.core.display.Math object>"
      ]
     },
     "metadata": {},
     "output_type": "display_data"
    }
   ],
   "source": [
    "from re import L\n",
    "import sympy as sp\n",
    "from IPython.display import display, Math\n",
    "\n",
    "# Funktion zur automatischen Umformung und Darstellung\n",
    "def transform_and_display_dgl(initial_conditions, highest_order, solved_eq):\n",
    "    # Umformung der DGL\n",
    "    lhs = y.diff(x, highest_order)\n",
    "    rhs = solved_eq\n",
    "    \n",
    "    display(Math(r\"\\text{Differentialgleichung:}\"))\n",
    "    display(Math(sp.latex(lhs) + \" = \" + sp.latex(rhs)))\n",
    "    \n",
    "    # Definition der neuen Variablen\n",
    "    z = sp.Function('z')(x)\n",
    "    z_vars = [sp.Function(f'z{i}')(x) for i in range(1, highest_order + 1)]\n",
    "    z_eqs = [sp.Eq(z_vars[i], y.diff(x, i)) for i in range(highest_order)]\n",
    "    \n",
    "    print()\n",
    "    display(Math(r\"\\text{Definition der neuen Variablen:}\"))\n",
    "    for i, eq in enumerate(z_eqs):\n",
    "        display(Math(r\"z_{\" + str(i+1) + r\"}(x) = y^{(\" + str(i) + r\")}(x)\"))\n",
    "    \n",
    "    # Differentialgleichungen der neuen Variablen\n",
    "    dz_eqs = [sp.Eq(z_vars[i].diff(x), z_vars[i+1]) for i in range(highest_order-1)]\n",
    "    dz_eqs.append(sp.Eq(z_vars[-1].diff(x), rhs.subs(y.diff(x, highest_order), z_vars[-1]).subs({y.diff(x, i): z_vars[i] for i in range(highest_order-1)})))\n",
    "    \n",
    "    print()\n",
    "    display(Math(r\"\\text{Umformung der Differentialgleichung in ein System erster Ordnung:}\"))\n",
    "    for eq in dz_eqs:\n",
    "        display(Math(sp.latex(eq)))\n",
    "    \n",
    "    # Vektor z und dessen Ableitung\n",
    "    z_vec = sp.Matrix(z_vars)\n",
    "    dz_vec = sp.Matrix([eq.rhs for eq in dz_eqs])\n",
    "    \n",
    "    print()\n",
    "    display(Math(r\"\\text{Vektor } z \\text{ und dessen Ableitung:}\"))\n",
    "    display(Math(r\"z = \" + sp.latex(z_vec)))\n",
    "    display(Math(r\"z' = \" + sp.latex(dz_vec)))\n",
    "    \n",
    "    # Anfangsbedingungen\n",
    "    ic_vals = sp.Matrix([initial_conditions.get(y.diff(x, i), 0) for i in range(highest_order)])\n",
    "    print()\n",
    "    display(Math(r\"\\text{Anfangsbedingungen:}\"))\n",
    "    display(Math(r\"z(0) = \\begin{pmatrix}\" + \" \\\\\\\\ \".join([str(ic_vals[i]) for i in range(highest_order)]) + r\"\\end{pmatrix}\"))\n",
    "\n",
    "\"\"\"\n",
    "=======================================================================================================================\n",
    "INPUT\n",
    "=======================================================================================================================\n",
    "\"\"\"\n",
    "\n",
    "# Definition der Symbole\n",
    "x = sp.symbols('x')\n",
    "y = sp.Function('y')(x)\n",
    "\n",
    "# Höchste Ableitungsordnung und gelöste Gleichung\n",
    "highest_order = 2\n",
    "solved_eq = -0.1 * y.diff(x, 1) * sp.Abs(y.diff(x, 1)) - 10\n",
    "\n",
    "# Anfangsbedingungen\n",
    "initial_conditions = {\n",
    "    y.diff(x, 0): 20,\n",
    "    y.diff(x, 1): 0,\n",
    "}\n",
    "\n",
    "# Transformation und Anzeige\n",
    "transform_and_display_dgl(initial_conditions, highest_order, solved_eq)"
   ]
  }
 ],
 "metadata": {
  "kernelspec": {
   "display_name": "base",
   "language": "python",
   "name": "python3"
  },
  "language_info": {
   "codemirror_mode": {
    "name": "ipython",
    "version": 3
   },
   "file_extension": ".py",
   "mimetype": "text/x-python",
   "name": "python",
   "nbconvert_exporter": "python",
   "pygments_lexer": "ipython3",
   "version": "3.11.8"
  }
 },
 "nbformat": 4,
 "nbformat_minor": 2
}
