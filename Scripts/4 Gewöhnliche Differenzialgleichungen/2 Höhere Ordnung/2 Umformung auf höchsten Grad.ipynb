{
 "cells": [
  {
   "cell_type": "code",
   "execution_count": 3,
   "metadata": {},
   "outputs": [
    {
     "data": {
      "text/plain": [
       "'x2 = (C*(-R*x1 + U) - x0)/(C*L)'"
      ]
     },
     "execution_count": 3,
     "metadata": {},
     "output_type": "execute_result"
    }
   ],
   "source": [
    "# Importieren der benötigten Bibliothek\n",
    "import sympy as sp\n",
    "\n",
    "def umformen(gleichung, variable):\n",
    "    # Parse die Gleichung und die Variable mit sympy\n",
    "    eq = sp.sympify(gleichung)\n",
    "    var = sp.symbols(variable)\n",
    "\n",
    "    # Löse die Gleichung für die gewünschte Variable\n",
    "    solved_eq = sp.solve(eq, var)\n",
    "\n",
    "    # Rückgabe der umgeformten Gleichung\n",
    "    return f\"{var} = {solved_eq[0]}\"\n",
    "\n",
    "# Verwendung der Funktion\n",
    "umformen('L * x2 + R * x1 + (1/C) * x0 - U', 'x2')"
   ]
  }
 ],
 "metadata": {
  "kernelspec": {
   "display_name": "base",
   "language": "python",
   "name": "python3"
  },
  "language_info": {
   "codemirror_mode": {
    "name": "ipython",
    "version": 3
   },
   "file_extension": ".py",
   "mimetype": "text/x-python",
   "name": "python",
   "nbconvert_exporter": "python",
   "pygments_lexer": "ipython3",
   "version": "3.11.8"
  }
 },
 "nbformat": 4,
 "nbformat_minor": 2
}
