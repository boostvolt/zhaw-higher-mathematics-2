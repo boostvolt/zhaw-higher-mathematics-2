{
 "cells": [
  {
   "cell_type": "code",
   "execution_count": 19,
   "metadata": {},
   "outputs": [
    {
     "data": {
      "text/latex": [
       "$\\displaystyle \\text{Bilde die Jacobi-Matrix } Df(x) \\text{ für } f(x) = \\left[\\begin{matrix}x_{3}^{2} + \\log{\\left(x_{1}^{2} + x_{2}^{2} \\right)}\\\\x_{1}^{2} + e^{x_{2}^{2} + x_{3}^{2}}\\\\x_{2}^{2} + \\frac{1}{x_{1}^{2} + x_{3}^{2}}\\end{matrix}\\right] \\text{ mit } x = \\left[\\begin{matrix}x_{1}\\\\x_{2}\\\\x_{3}\\end{matrix}\\right]$"
      ],
      "text/plain": [
       "<IPython.core.display.Math object>"
      ]
     },
     "metadata": {},
     "output_type": "display_data"
    },
    {
     "name": "stdout",
     "output_type": "stream",
     "text": [
      "Berechne den Eintrag der Jacobi-Matrix in Zeile 1, Spalte 1.\n"
     ]
    },
    {
     "data": {
      "text/latex": [
       "$\\displaystyle \\text{Berechne dazu die partielle Ableitung von } f_1 \\text{ nach } x_1: \\frac{\\partial f_1}{\\partial x_1} = \\frac{2 x_{1}}{x_{1}^{2} + x_{2}^{2}}$"
      ],
      "text/plain": [
       "<IPython.core.display.Math object>"
      ]
     },
     "metadata": {},
     "output_type": "display_data"
    },
    {
     "name": "stdout",
     "output_type": "stream",
     "text": [
      "\n",
      "Berechne den Eintrag der Jacobi-Matrix in Zeile 1, Spalte 2.\n"
     ]
    },
    {
     "data": {
      "text/latex": [
       "$\\displaystyle \\text{Berechne dazu die partielle Ableitung von } f_1 \\text{ nach } x_2: \\frac{\\partial f_1}{\\partial x_2} = \\frac{2 x_{2}}{x_{1}^{2} + x_{2}^{2}}$"
      ],
      "text/plain": [
       "<IPython.core.display.Math object>"
      ]
     },
     "metadata": {},
     "output_type": "display_data"
    },
    {
     "name": "stdout",
     "output_type": "stream",
     "text": [
      "\n",
      "Berechne den Eintrag der Jacobi-Matrix in Zeile 1, Spalte 3.\n"
     ]
    },
    {
     "data": {
      "text/latex": [
       "$\\displaystyle \\text{Berechne dazu die partielle Ableitung von } f_1 \\text{ nach } x_3: \\frac{\\partial f_1}{\\partial x_3} = 2 x_{3}$"
      ],
      "text/plain": [
       "<IPython.core.display.Math object>"
      ]
     },
     "metadata": {},
     "output_type": "display_data"
    },
    {
     "name": "stdout",
     "output_type": "stream",
     "text": [
      "\n",
      "Berechne den Eintrag der Jacobi-Matrix in Zeile 2, Spalte 1.\n"
     ]
    },
    {
     "data": {
      "text/latex": [
       "$\\displaystyle \\text{Berechne dazu die partielle Ableitung von } f_2 \\text{ nach } x_1: \\frac{\\partial f_2}{\\partial x_1} = 2 x_{1}$"
      ],
      "text/plain": [
       "<IPython.core.display.Math object>"
      ]
     },
     "metadata": {},
     "output_type": "display_data"
    },
    {
     "name": "stdout",
     "output_type": "stream",
     "text": [
      "\n",
      "Berechne den Eintrag der Jacobi-Matrix in Zeile 2, Spalte 2.\n"
     ]
    },
    {
     "data": {
      "text/latex": [
       "$\\displaystyle \\text{Berechne dazu die partielle Ableitung von } f_2 \\text{ nach } x_2: \\frac{\\partial f_2}{\\partial x_2} = 2 x_{2} e^{x_{2}^{2} + x_{3}^{2}}$"
      ],
      "text/plain": [
       "<IPython.core.display.Math object>"
      ]
     },
     "metadata": {},
     "output_type": "display_data"
    },
    {
     "name": "stdout",
     "output_type": "stream",
     "text": [
      "\n",
      "Berechne den Eintrag der Jacobi-Matrix in Zeile 2, Spalte 3.\n"
     ]
    },
    {
     "data": {
      "text/latex": [
       "$\\displaystyle \\text{Berechne dazu die partielle Ableitung von } f_2 \\text{ nach } x_3: \\frac{\\partial f_2}{\\partial x_3} = 2 x_{3} e^{x_{2}^{2} + x_{3}^{2}}$"
      ],
      "text/plain": [
       "<IPython.core.display.Math object>"
      ]
     },
     "metadata": {},
     "output_type": "display_data"
    },
    {
     "name": "stdout",
     "output_type": "stream",
     "text": [
      "\n",
      "Berechne den Eintrag der Jacobi-Matrix in Zeile 3, Spalte 1.\n"
     ]
    },
    {
     "data": {
      "text/latex": [
       "$\\displaystyle \\text{Berechne dazu die partielle Ableitung von } f_3 \\text{ nach } x_1: \\frac{\\partial f_3}{\\partial x_1} = - \\frac{2 x_{1}}{\\left(x_{1}^{2} + x_{3}^{2}\\right)^{2}}$"
      ],
      "text/plain": [
       "<IPython.core.display.Math object>"
      ]
     },
     "metadata": {},
     "output_type": "display_data"
    },
    {
     "name": "stdout",
     "output_type": "stream",
     "text": [
      "\n",
      "Berechne den Eintrag der Jacobi-Matrix in Zeile 3, Spalte 2.\n"
     ]
    },
    {
     "data": {
      "text/latex": [
       "$\\displaystyle \\text{Berechne dazu die partielle Ableitung von } f_3 \\text{ nach } x_2: \\frac{\\partial f_3}{\\partial x_2} = 2 x_{2}$"
      ],
      "text/plain": [
       "<IPython.core.display.Math object>"
      ]
     },
     "metadata": {},
     "output_type": "display_data"
    },
    {
     "name": "stdout",
     "output_type": "stream",
     "text": [
      "\n",
      "Berechne den Eintrag der Jacobi-Matrix in Zeile 3, Spalte 3.\n"
     ]
    },
    {
     "data": {
      "text/latex": [
       "$\\displaystyle \\text{Berechne dazu die partielle Ableitung von } f_3 \\text{ nach } x_3: \\frac{\\partial f_3}{\\partial x_3} = - \\frac{2 x_{3}}{\\left(x_{1}^{2} + x_{3}^{2}\\right)^{2}}$"
      ],
      "text/plain": [
       "<IPython.core.display.Math object>"
      ]
     },
     "metadata": {},
     "output_type": "display_data"
    },
    {
     "name": "stdout",
     "output_type": "stream",
     "text": [
      "\n",
      "------------------------------------------------------------------------------------------------------------\n"
     ]
    },
    {
     "data": {
      "text/latex": [
       "$\\displaystyle \\text{Ganze Jacobi-Matrix: } Df = \\left[\\begin{matrix}\\frac{2 x_{1}}{x_{1}^{2} + x_{2}^{2}} & \\frac{2 x_{2}}{x_{1}^{2} + x_{2}^{2}} & 2 x_{3}\\\\2 x_{1} & 2 x_{2} e^{x_{2}^{2} + x_{3}^{2}} & 2 x_{3} e^{x_{2}^{2} + x_{3}^{2}}\\\\- \\frac{2 x_{1}}{\\left(x_{1}^{2} + x_{3}^{2}\\right)^{2}} & 2 x_{2} & - \\frac{2 x_{3}}{\\left(x_{1}^{2} + x_{3}^{2}\\right)^{2}}\\end{matrix}\\right]$"
      ],
      "text/plain": [
       "<IPython.core.display.Math object>"
      ]
     },
     "metadata": {},
     "output_type": "display_data"
    },
    {
     "data": {
      "text/latex": [
       "$\\displaystyle \\text{Jacobi-Matrix ausgewertet an Stelle } x_0 = \\left[\\begin{matrix}1\\\\2\\\\3\\end{matrix}\\right]: Df(x_0) = \\left[\\begin{matrix}0.4 & 0.8 & 6.0\\\\2.0 & 1769653.56803568 & 2654480.35205352\\\\-0.02 & 4.0 & -0.06\\end{matrix}\\right]$"
      ],
      "text/plain": [
       "<IPython.core.display.Math object>"
      ]
     },
     "metadata": {},
     "output_type": "display_data"
    }
   ],
   "source": [
    "from IPython.display import display, Math\n",
    "import sympy as sy\n",
    "\n",
    "x1, x2, x3, x4, x5, x6, x7, x8, x9 = sy.symbols('x1, x2, x3, x4, x5, x6, x7, x8, x9')\n",
    "\n",
    "\"\"\"\n",
    "=======================================================================================================================\n",
    "INPUT\n",
    "=======================================================================================================================\n",
    "\"\"\"\n",
    "\n",
    "# ACHTUNG: Für sinus/cosinus/Exponentialfunktion immer sy.sin/sy.cos/sy.exp/sy.ln/sy.abs verwenden!\n",
    "f = sy.Matrix([\n",
    "    sy.ln(x1**2 + x2**2) + x3**2,   # f1\n",
    "    sy.exp(x2**2 + x3**2) + x1**2,  # f2\n",
    "    1/(x3**2 + x1**2) + x2**2       # f3\n",
    "])\n",
    "\n",
    "x = sy.Matrix([x1, x2, x3])  # Wenn mehr oder weniger als 3 Variablen auftreten, diese Liste anpassen!\n",
    "x0 = sy.Matrix([1, 2, 3])    # Stelle, an welcher die Jacobi-Matrix ausgewertet werden soll, z.B. x0 bei Newton\n",
    "\n",
    "\"\"\"\n",
    "=======================================================================================================================\n",
    "\"\"\"\n",
    "\n",
    "display(Math(r'\\text{Bilde die Jacobi-Matrix } Df(x) \\text{ für } f(x) = ' + sy.latex(f) + r' \\text{ mit } x = ' + sy.latex(x)))\n",
    "\n",
    "# Für jede Teilfunktion von f gibt es eine Zeile in der Jacobi-Matrix\n",
    "for row in range(f.shape[0]):\n",
    "\n",
    "    # Für jede Variable im Vektor x gibt es eine Spalte in der Jacobi-Matrix\n",
    "    for col in range(x.shape[0]):\n",
    "\n",
    "        rd = row + 1\n",
    "        cd = col + 1\n",
    "\n",
    "        print('Berechne den Eintrag der Jacobi-Matrix in Zeile ' + str(rd) + ', Spalte ' + str(cd) + '.')\n",
    "        d = sy.diff(f[row], x[col])\n",
    "        display(Math(r'\\text{Berechne dazu die partielle Ableitung von } f_' + str(rd) + r' \\text{ nach } x_' + str(cd) + r': \\frac{\\partial f_' + str(rd) + '}{\\partial x_' + str(cd) + '} = ' + sy.latex(d)))\n",
    "        print()\n",
    "\n",
    "print('------------------------------------------------------------------------------------------------------------')\n",
    "\n",
    "Df = f.jacobian(x)\n",
    "\n",
    "display(Math(r'\\text{Ganze Jacobi-Matrix: } Df = ' + sy.latex(Df)))\n",
    "\n",
    "Dfx0 = Df\n",
    "for i in range(x.shape[0]):\n",
    "    Dfx0 = Dfx0.subs(x[i], x0[i])\n",
    "\n",
    "Dfx0_eval = Dfx0.evalf()\n",
    "\n",
    "display(Math(r'\\text{Jacobi-Matrix ausgewertet an Stelle } x_0 = ' + sy.latex(x0) + \": Df(x_0) = \" + sy.latex(Dfx0_eval)))\n"
   ]
  }
 ],
 "metadata": {
  "kernelspec": {
   "display_name": "base",
   "language": "python",
   "name": "python3"
  },
  "language_info": {
   "codemirror_mode": {
    "name": "ipython",
    "version": 3
   },
   "file_extension": ".py",
   "mimetype": "text/x-python",
   "name": "python",
   "nbconvert_exporter": "python",
   "pygments_lexer": "ipython3",
   "version": "3.11.8"
  }
 },
 "nbformat": 4,
 "nbformat_minor": 2
}
