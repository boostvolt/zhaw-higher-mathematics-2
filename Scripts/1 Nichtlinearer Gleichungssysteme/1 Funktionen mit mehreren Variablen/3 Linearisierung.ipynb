{
 "cells": [
  {
   "cell_type": "code",
   "execution_count": 1,
   "metadata": {},
   "outputs": [
    {
     "data": {
      "text/latex": [
       "$\\displaystyle \\text{Bilde die Jacobi-Matrix } Df(x) \\text{ für } f(x) = \\left[\\begin{matrix}x_{1} + x_{2}^{2} - x_{3}^{2} - 13\\\\e^{\\frac{x_{3}}{2} - 1} + \\log{\\left(\\frac{x_{2}}{4} \\right)} - 1\\\\- x_{3}^{3} + \\left(x_{2} - 3\\right)^{2} + 7\\end{matrix}\\right] \\text{ mit } x = \\left[\\begin{matrix}x_{1}\\\\x_{2}\\\\x_{3}\\end{matrix}\\right]$"
      ],
      "text/plain": [
       "<IPython.core.display.Math object>"
      ]
     },
     "metadata": {},
     "output_type": "display_data"
    },
    {
     "data": {
      "text/latex": [
       "$\\displaystyle \\text{Ganze Jacobi-Matrix: } Df = \\left[\\begin{matrix}1 & 2 x_{2} & - 2 x_{3}\\\\0 & \\frac{1}{x_{2}} & \\frac{e^{\\frac{x_{3}}{2} - 1}}{2}\\\\0 & 2 x_{2} - 6 & - 3 x_{3}^{2}\\end{matrix}\\right]$"
      ],
      "text/plain": [
       "<IPython.core.display.Math object>"
      ]
     },
     "metadata": {},
     "output_type": "display_data"
    },
    {
     "data": {
      "text/latex": [
       "$\\displaystyle \\text{Jacobi-Matrix ausgewertet an Stelle } x_0 = \\left[\\begin{matrix}1.5\\\\3\\\\2.5\\end{matrix}\\right]: Df(x_0) = \\left[\\begin{matrix}1.0 & 6.0 & -5.0\\\\0 & 0.333333333333333 & 0.642012708343871\\\\0 & 0 & -18.75\\end{matrix}\\right]$"
      ],
      "text/plain": [
       "<IPython.core.display.Math object>"
      ]
     },
     "metadata": {},
     "output_type": "display_data"
    },
    {
     "data": {
      "text/latex": [
       "$\\displaystyle \\text{Funktion f ausgewertet an Stelle } x_0 = \\left[\\begin{matrix}1.5\\\\3\\\\2.5\\end{matrix}\\right]: f(x_0) = \\left[\\begin{matrix}-8.75\\\\-0.00365665576403953\\\\-8.625\\end{matrix}\\right]$"
      ],
      "text/plain": [
       "<IPython.core.display.Math object>"
      ]
     },
     "metadata": {},
     "output_type": "display_data"
    },
    {
     "data": {
      "text/latex": [
       "$\\displaystyle \\text{Linearisierung } g(x) = f(x_0) + Df(x_0) * (x - x_0) = \\left[\\begin{matrix}1.0 x_{1} + 6.0 x_{2} - 5.0 x_{3} - 15.75\\\\0.333333333333333 x_{2} + 0.642012708343871 x_{3} - 2.60868842662372\\\\38.25 - 18.75 x_{3}\\end{matrix}\\right]$"
      ],
      "text/plain": [
       "<IPython.core.display.Math object>"
      ]
     },
     "metadata": {},
     "output_type": "display_data"
    }
   ],
   "source": [
    "from IPython.display import display, Math\n",
    "import sympy as sy\n",
    "\n",
    "x1, x2, x3, x4, x5, x6, x7, x8, x9 = sy.symbols('x1, x2, x3, x4, x5, x6, x7, x8, x9')\n",
    "\n",
    "\"\"\"\n",
    "=======================================================================================================================\n",
    "INPUT\n",
    "=======================================================================================================================\n",
    "\"\"\"\n",
    "\n",
    "# ACHTUNG: Für sinus/cosinus/Exponentialfunktion immer sy.sin/sy.cos/sy.exp/sy.ln/sy.abs verwenden!\n",
    "f = sy.Matrix([\n",
    "    x1 + x2**2 - x3**2 - 13,\n",
    "    sy.ln(x2 / 4) + sy.exp((x3 / 2) - 1) - 1,\n",
    "    (x2 - 3)**2 - x3**3 + 7\n",
    "])\n",
    "\n",
    "x = sy.Matrix([x1, x2, x3])  # Wenn mehr oder weniger als 3 Variablen auftreten, diese Liste anpassen!\n",
    "x0 = sy.Matrix([3/2, 3, 5/2])    # Stelle, an welcher die Jacobi-Matrix ausgewertet werden soll, z.B. x0 bei Newton\n",
    "\n",
    "\"\"\"\n",
    "=======================================================================================================================\n",
    "\"\"\"\n",
    "\n",
    "display(Math(r'\\text{Bilde die Jacobi-Matrix } Df(x) \\text{ für } f(x) = ' + sy.latex(f) + r' \\text{ mit } x = ' + sy.latex(x)))\n",
    "\n",
    "Df = f.jacobian(x)\n",
    "\n",
    "display(Math(r'\\text{Ganze Jacobi-Matrix: } Df = ' + sy.latex(Df)))\n",
    "\n",
    "Dfx0 = Df\n",
    "fx0 = f\n",
    "\n",
    "# Ersetze alle xi-Variablen mit konkreten Werten\n",
    "for i in range(x.shape[0]):\n",
    "    Dfx0 = Dfx0.subs(x[i], x0[i])\n",
    "    fx0 = fx0.subs(x[i], x0[i])\n",
    "\n",
    "Dfx0_eval = Dfx0.evalf()\n",
    "fx0_eval = fx0.evalf()\n",
    "\n",
    "display(Math(r'\\text{Jacobi-Matrix ausgewertet an Stelle } x_0 = ' + sy.latex(x0) + r': Df(x_0) = ' + sy.latex(Dfx0_eval)))\n",
    "\n",
    "display(Math(r'\\text{Funktion f ausgewertet an Stelle } x_0 = ' + sy.latex(x0) + r': f(x_0) = ' + sy.latex(fx0_eval)))\n",
    "\n",
    "g = fx0_eval + Dfx0_eval * (x - x0)\n",
    "\n",
    "display(Math(r'\\text{Linearisierung } g(x) = f(x_0) + Df(x_0) * (x - x_0) = ' + sy.latex(g)))"
   ]
  }
 ],
 "metadata": {
  "kernelspec": {
   "display_name": "base",
   "language": "python",
   "name": "python3"
  },
  "language_info": {
   "codemirror_mode": {
    "name": "ipython",
    "version": 3
   },
   "file_extension": ".py",
   "mimetype": "text/x-python",
   "name": "python",
   "nbconvert_exporter": "python",
   "pygments_lexer": "ipython3",
   "version": "3.11.8"
  }
 },
 "nbformat": 4,
 "nbformat_minor": 2
}
