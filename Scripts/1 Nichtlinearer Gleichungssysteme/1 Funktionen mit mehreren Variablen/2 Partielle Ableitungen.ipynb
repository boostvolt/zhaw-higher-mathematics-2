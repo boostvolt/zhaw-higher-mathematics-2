{
 "cells": [
  {
   "cell_type": "code",
   "execution_count": 3,
   "metadata": {},
   "outputs": [
    {
     "data": {
      "text/latex": [
       "$\\displaystyle f = x^{3} + x y + \\sin{\\left(y \\right)}$"
      ],
      "text/plain": [
       "<IPython.core.display.Math object>"
      ]
     },
     "metadata": {},
     "output_type": "display_data"
    },
    {
     "data": {
      "text/latex": [
       "$\\displaystyle \\frac{\\partial f}{\\partial x} = 3 x^{2} + y$"
      ],
      "text/plain": [
       "<IPython.core.display.Math object>"
      ]
     },
     "metadata": {},
     "output_type": "display_data"
    },
    {
     "data": {
      "text/latex": [
       "$\\displaystyle \\frac{\\partial f}{\\partial y} = x + \\cos{\\left(y \\right)}$"
      ],
      "text/plain": [
       "<IPython.core.display.Math object>"
      ]
     },
     "metadata": {},
     "output_type": "display_data"
    },
    {
     "data": {
      "text/latex": [
       "$\\displaystyle \\frac{\\partial^2 f}{\\partial x^2} = 6 x$"
      ],
      "text/plain": [
       "<IPython.core.display.Math object>"
      ]
     },
     "metadata": {},
     "output_type": "display_data"
    },
    {
     "data": {
      "text/latex": [
       "$\\displaystyle \\frac{\\partial^2 f}{\\partial y^2} = - \\sin{\\left(y \\right)}$"
      ],
      "text/plain": [
       "<IPython.core.display.Math object>"
      ]
     },
     "metadata": {},
     "output_type": "display_data"
    },
    {
     "data": {
      "text/latex": [
       "$\\displaystyle \\frac{\\partial^2 f}{\\partial x \\partial y} = 1$"
      ],
      "text/plain": [
       "<IPython.core.display.Math object>"
      ]
     },
     "metadata": {},
     "output_type": "display_data"
    }
   ],
   "source": [
    "from IPython.display import display, Math\n",
    "import sympy as sy\n",
    "\n",
    "x, y, z = sy.symbols('x y z')\n",
    "\n",
    "\"\"\"\n",
    "=======================================================================================================================\n",
    "INPUT\n",
    "=======================================================================================================================\n",
    "\"\"\"\n",
    "\n",
    "f = x**3 + x * y + sy.sin(y)  # ACHTUNG: Für sinus/cosinus/Exponentialfunktion immer sy.sin/sy.cos/sy.exp verwenden!\n",
    "\n",
    "\"\"\"\n",
    "=======================================================================================================================\n",
    "\"\"\"\n",
    "\n",
    "display(Math(r'f = ' + sy.latex(f)))\n",
    "\n",
    "# 1. Partielle Ableitung nach x\n",
    "dfx1 = sy.diff(f, x)\n",
    "display(Math(r'\\frac{\\partial f}{\\partial x} = ' + sy.latex(dfx1)))\n",
    "\n",
    "# 1. Partielle Ableitung nach y\n",
    "dfy1 = sy.diff(f, y)\n",
    "display(Math(r'\\frac{\\partial f}{\\partial y} = ' + sy.latex(dfy1)))\n",
    "\n",
    "# 2. Partielle Ableitung nach x\n",
    "dfx2 = sy.diff(f, x, x)\n",
    "display(Math(r'\\frac{\\partial^2 f}{\\partial x^2} = ' + sy.latex(dfx2)))\n",
    "\n",
    "# 2. Partielle Ableitung nach y\n",
    "dfy2 = sy.diff(f, y, y)\n",
    "display(Math(r'\\frac{\\partial^2 f}{\\partial y^2} = ' + sy.latex(dfy2)))\n",
    "\n",
    "# Partielle Ableitung nach x und y\n",
    "dfxy = sy.diff(f, x, y)\n",
    "display(Math(r'\\frac{\\partial^2 f}{\\partial x \\partial y} = ' + sy.latex(dfxy)))\n"
   ]
  }
 ],
 "metadata": {
  "kernelspec": {
   "display_name": "base",
   "language": "python",
   "name": "python3"
  },
  "language_info": {
   "codemirror_mode": {
    "name": "ipython",
    "version": 3
   },
   "file_extension": ".py",
   "mimetype": "text/x-python",
   "name": "python",
   "nbconvert_exporter": "python",
   "pygments_lexer": "ipython3",
   "version": "3.11.8"
  }
 },
 "nbformat": 4,
 "nbformat_minor": 2
}
