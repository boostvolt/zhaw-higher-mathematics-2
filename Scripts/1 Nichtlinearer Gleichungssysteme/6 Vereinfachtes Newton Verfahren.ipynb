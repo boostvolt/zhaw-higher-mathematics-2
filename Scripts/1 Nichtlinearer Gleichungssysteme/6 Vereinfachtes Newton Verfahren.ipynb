{
 "cells": [
  {
   "cell_type": "code",
   "execution_count": 3,
   "metadata": {},
   "outputs": [
    {
     "data": {
      "text/latex": [
       "$\\displaystyle \\text{Bilde die Jacobi-Matrix } Df(x) \\text{ für } f(x) = \\left[\\begin{matrix}\\frac{x_{1}^{2}}{34596} - \\frac{x_{2}^{2}}{55404} - 1\\\\- \\frac{\\left(x_{1} - 300\\right)^{2}}{172159} + \\frac{\\left(x_{2} - 500\\right)^{2}}{77841} - 1\\end{matrix}\\right] \\text{ mit } x = \\left[\\begin{matrix}x_{1}\\\\x_{2}\\end{matrix}\\right]$"
      ],
      "text/plain": [
       "<IPython.core.display.Math object>"
      ]
     },
     "metadata": {},
     "output_type": "display_data"
    },
    {
     "data": {
      "text/latex": [
       "$\\displaystyle \\text{Ganze Jacobi-Matrix: } Df = \\left[\\begin{matrix}\\frac{x_{1}}{17298} & - \\frac{x_{2}}{27702}\\\\\\frac{600}{172159} - \\frac{2 x_{1}}{172159} & \\frac{2 x_{2}}{77841} - \\frac{1000}{77841}\\end{matrix}\\right]$"
      ],
      "text/plain": [
       "<IPython.core.display.Math object>"
      ]
     },
     "metadata": {},
     "output_type": "display_data"
    },
    {
     "data": {
      "text/latex": [
       "$\\displaystyle x({0}) = \\left[\\begin{matrix}-1000\\\\1500\\end{matrix}\\right]$"
      ],
      "text/plain": [
       "<IPython.core.display.Math object>"
      ]
     },
     "metadata": {},
     "output_type": "display_data"
    },
    {
     "name": "stdout",
     "output_type": "stream",
     "text": [
      "\n",
      "ITERATION 1\n",
      "-------------------------------------\n"
     ]
    },
    {
     "data": {
      "text/latex": [
       "$\\displaystyle \\delta_{0} \\text{ ist die Lösung des LGS } Df(x_0) * \\delta_{0} = -1 * f(x_{0})$"
      ],
      "text/plain": [
       "<IPython.core.display.Math object>"
      ]
     },
     "metadata": {},
     "output_type": "display_data"
    },
    {
     "data": {
      "text/latex": [
       "$\\displaystyle \\left[\\begin{matrix}-0.0578101514625968 & -0.0541477149664284\\\\0.0151023182058446 & 0.025693400650043\\end{matrix}\\right]\\cdot\\delta_{0}=-1\\cdot\\left[\\begin{matrix}-12.7057104935229\\\\2.03019349122253\\end{matrix}\\right]$"
      ],
      "text/plain": [
       "<IPython.core.display.Math object>"
      ]
     },
     "metadata": {},
     "output_type": "display_data"
    },
    {
     "data": {
      "text/latex": [
       "$\\displaystyle \\delta_{0} = \\left[\\begin{matrix}-324.337879297676\\\\111.626343558185\\end{matrix}\\right]$"
      ],
      "text/plain": [
       "<IPython.core.display.Math object>"
      ]
     },
     "metadata": {},
     "output_type": "display_data"
    },
    {
     "name": "stdout",
     "output_type": "stream",
     "text": [
      "\n"
     ]
    },
    {
     "data": {
      "text/latex": [
       "$\\displaystyle x_{1} = x_{0} + \\delta_{0}$"
      ],
      "text/plain": [
       "<IPython.core.display.Math object>"
      ]
     },
     "metadata": {},
     "output_type": "display_data"
    },
    {
     "data": {
      "text/latex": [
       "$\\displaystyle x_{1} = \\left[\\begin{matrix}-1324.33787929768\\\\1611.62634355818\\end{matrix}\\right]$"
      ],
      "text/plain": [
       "<IPython.core.display.Math object>"
      ]
     },
     "metadata": {},
     "output_type": "display_data"
    },
    {
     "data": {
      "text/latex": [
       "$\\displaystyle \\|f(x_{1})\\|_2 = 2.851652661892706$"
      ],
      "text/plain": [
       "<IPython.core.display.Math object>"
      ]
     },
     "metadata": {},
     "output_type": "display_data"
    },
    {
     "data": {
      "text/latex": [
       "$\\displaystyle \\|x_{1} - x_{0}\\|_2 = 343.00947585086294$"
      ],
      "text/plain": [
       "<IPython.core.display.Math object>"
      ]
     },
     "metadata": {},
     "output_type": "display_data"
    },
    {
     "name": "stdout",
     "output_type": "stream",
     "text": [
      "\n",
      "ITERATION 2\n",
      "-------------------------------------\n"
     ]
    },
    {
     "data": {
      "text/latex": [
       "$\\displaystyle \\delta_{1} \\text{ ist die Lösung des LGS } Df(x_0) * \\delta_{1} = -1 * f(x_{1})$"
      ],
      "text/plain": [
       "<IPython.core.display.Math object>"
      ]
     },
     "metadata": {},
     "output_type": "display_data"
    },
    {
     "data": {
      "text/latex": [
       "$\\displaystyle \\left[\\begin{matrix}-0.0578101514625968 & -0.0541477149664284\\\\0.0151023182058446 & 0.025693400650043\\end{matrix}\\right]\\cdot\\delta_{1}=-1\\cdot\\left[\\begin{matrix}2.8157697127774\\\\-0.450958788233756\\end{matrix}\\right]$"
      ],
      "text/plain": [
       "<IPython.core.display.Math object>"
      ]
     },
     "metadata": {},
     "output_type": "display_data"
    },
    {
     "data": {
      "text/latex": [
       "$\\displaystyle \\delta_{1} = \\left[\\begin{matrix}71.7937477127005\\\\-24.6480893494538\\end{matrix}\\right]$"
      ],
      "text/plain": [
       "<IPython.core.display.Math object>"
      ]
     },
     "metadata": {},
     "output_type": "display_data"
    },
    {
     "name": "stdout",
     "output_type": "stream",
     "text": [
      "\n"
     ]
    },
    {
     "data": {
      "text/latex": [
       "$\\displaystyle x_{2} = x_{1} + \\delta_{1}$"
      ],
      "text/plain": [
       "<IPython.core.display.Math object>"
      ]
     },
     "metadata": {},
     "output_type": "display_data"
    },
    {
     "data": {
      "text/latex": [
       "$\\displaystyle x_{2} = \\left[\\begin{matrix}-1252.54413158498\\\\1586.97825420873\\end{matrix}\\right]$"
      ],
      "text/plain": [
       "<IPython.core.display.Math object>"
      ]
     },
     "metadata": {},
     "output_type": "display_data"
    },
    {
     "data": {
      "text/latex": [
       "$\\displaystyle \\|f(x_{2})\\|_2 = 1.1229392914021301$"
      ],
      "text/plain": [
       "<IPython.core.display.Math object>"
      ]
     },
     "metadata": {},
     "output_type": "display_data"
    },
    {
     "data": {
      "text/latex": [
       "$\\displaystyle \\|x_{2} - x_{1}\\|_2 = 75.90698597107871$"
      ],
      "text/plain": [
       "<IPython.core.display.Math object>"
      ]
     },
     "metadata": {},
     "output_type": "display_data"
    },
    {
     "name": "stdout",
     "output_type": "stream",
     "text": [
      "\n",
      "ITERATION 3\n",
      "-------------------------------------\n"
     ]
    },
    {
     "data": {
      "text/latex": [
       "$\\displaystyle \\delta_{2} \\text{ ist die Lösung des LGS } Df(x_0) * \\delta_{2} = -1 * f(x_{2})$"
      ],
      "text/plain": [
       "<IPython.core.display.Math object>"
      ]
     },
     "metadata": {},
     "output_type": "display_data"
    },
    {
     "data": {
      "text/latex": [
       "$\\displaystyle \\left[\\begin{matrix}-0.0578101514625968 & -0.0541477149664284\\\\0.0151023182058446 & 0.025693400650043\\end{matrix}\\right]\\cdot\\delta_{2}=-1\\cdot\\left[\\begin{matrix}-1.10879262962219\\\\0.177683867219899\\end{matrix}\\right]$"
      ],
      "text/plain": [
       "<IPython.core.display.Math object>"
      ]
     },
     "metadata": {},
     "output_type": "display_data"
    },
    {
     "data": {
      "text/latex": [
       "$\\displaystyle \\delta_{2} = \\left[\\begin{matrix}-28.2623548741436\\\\9.69677827895868\\end{matrix}\\right]$"
      ],
      "text/plain": [
       "<IPython.core.display.Math object>"
      ]
     },
     "metadata": {},
     "output_type": "display_data"
    },
    {
     "name": "stdout",
     "output_type": "stream",
     "text": [
      "\n"
     ]
    },
    {
     "data": {
      "text/latex": [
       "$\\displaystyle x_{3} = x_{2} + \\delta_{2}$"
      ],
      "text/plain": [
       "<IPython.core.display.Math object>"
      ]
     },
     "metadata": {},
     "output_type": "display_data"
    },
    {
     "data": {
      "text/latex": [
       "$\\displaystyle x_{3} = \\left[\\begin{matrix}-1280.80648645912\\\\1596.67503248769\\end{matrix}\\right]$"
      ],
      "text/plain": [
       "<IPython.core.display.Math object>"
      ]
     },
     "metadata": {},
     "output_type": "display_data"
    },
    {
     "data": {
      "text/latex": [
       "$\\displaystyle \\|f(x_{3})\\|_2 = 0.4087150074214672$"
      ],
      "text/plain": [
       "<IPython.core.display.Math object>"
      ]
     },
     "metadata": {},
     "output_type": "display_data"
    },
    {
     "data": {
      "text/latex": [
       "$\\displaystyle \\|x_{3} - x_{2}\\|_2 = 29.879561777631665$"
      ],
      "text/plain": [
       "<IPython.core.display.Math object>"
      ]
     },
     "metadata": {},
     "output_type": "display_data"
    },
    {
     "name": "stdout",
     "output_type": "stream",
     "text": [
      "\n",
      "ITERATION 4\n",
      "-------------------------------------\n"
     ]
    },
    {
     "data": {
      "text/latex": [
       "$\\displaystyle \\delta_{3} \\text{ ist die Lösung des LGS } Df(x_0) * \\delta_{3} = -1 * f(x_{3})$"
      ],
      "text/plain": [
       "<IPython.core.display.Math object>"
      ]
     },
     "metadata": {},
     "output_type": "display_data"
    },
    {
     "data": {
      "text/latex": [
       "$\\displaystyle \\left[\\begin{matrix}-0.0578101514625968 & -0.0541477149664284\\\\0.0151023182058446 & 0.025693400650043\\end{matrix}\\right]\\cdot\\delta_{3}=-1\\cdot\\left[\\begin{matrix}0.403564825125095\\\\-0.0646791250194507\\end{matrix}\\right]$"
      ],
      "text/plain": [
       "<IPython.core.display.Math object>"
      ]
     },
     "metadata": {},
     "output_type": "display_data"
    },
    {
     "data": {
      "text/latex": [
       "$\\displaystyle \\delta_{3} = \\left[\\begin{matrix}10.2859452603036\\\\-3.5286295724113\\end{matrix}\\right]$"
      ],
      "text/plain": [
       "<IPython.core.display.Math object>"
      ]
     },
     "metadata": {},
     "output_type": "display_data"
    },
    {
     "name": "stdout",
     "output_type": "stream",
     "text": [
      "\n"
     ]
    },
    {
     "data": {
      "text/latex": [
       "$\\displaystyle x_{4} = x_{3} + \\delta_{3}$"
      ],
      "text/plain": [
       "<IPython.core.display.Math object>"
      ]
     },
     "metadata": {},
     "output_type": "display_data"
    },
    {
     "data": {
      "text/latex": [
       "$\\displaystyle x_{4} = \\left[\\begin{matrix}-1270.52054119882\\\\1593.14640291528\\end{matrix}\\right]$"
      ],
      "text/plain": [
       "<IPython.core.display.Math object>"
      ]
     },
     "metadata": {},
     "output_type": "display_data"
    },
    {
     "data": {
      "text/latex": [
       "$\\displaystyle \\|f(x_{4})\\|_2 = 0.15376666702559433$"
      ],
      "text/plain": [
       "<IPython.core.display.Math object>"
      ]
     },
     "metadata": {},
     "output_type": "display_data"
    },
    {
     "data": {
      "text/latex": [
       "$\\displaystyle \\|x_{4} - x_{3}\\|_2 = 10.874368788911745$"
      ],
      "text/plain": [
       "<IPython.core.display.Math object>"
      ]
     },
     "metadata": {},
     "output_type": "display_data"
    },
    {
     "name": "stdout",
     "output_type": "stream",
     "text": [
      "\n",
      "ITERATION 5\n",
      "-------------------------------------\n"
     ]
    },
    {
     "data": {
      "text/latex": [
       "$\\displaystyle \\delta_{4} \\text{ ist die Lösung des LGS } Df(x_0) * \\delta_{4} = -1 * f(x_{4})$"
      ],
      "text/plain": [
       "<IPython.core.display.Math object>"
      ]
     },
     "metadata": {},
     "output_type": "display_data"
    },
    {
     "data": {
      "text/latex": [
       "$\\displaystyle \\left[\\begin{matrix}-0.0578101514625968 & -0.0541477149664284\\\\0.0151023182058446 & 0.025693400650043\\end{matrix}\\right]\\cdot\\delta_{4}=-1\\cdot\\left[\\begin{matrix}-0.151828809439621\\\\0.0243351702748758\\end{matrix}\\right]$"
      ],
      "text/plain": [
       "<IPython.core.display.Math object>"
      ]
     },
     "metadata": {},
     "output_type": "display_data"
    },
    {
     "data": {
      "text/latex": [
       "$\\displaystyle \\delta_{4} = \\left[\\begin{matrix}-3.86963593753522\\\\1.3273954451995\\end{matrix}\\right]$"
      ],
      "text/plain": [
       "<IPython.core.display.Math object>"
      ]
     },
     "metadata": {},
     "output_type": "display_data"
    },
    {
     "name": "stdout",
     "output_type": "stream",
     "text": [
      "\n"
     ]
    },
    {
     "data": {
      "text/latex": [
       "$\\displaystyle x_{5} = x_{4} + \\delta_{4}$"
      ],
      "text/plain": [
       "<IPython.core.display.Math object>"
      ]
     },
     "metadata": {},
     "output_type": "display_data"
    },
    {
     "data": {
      "text/latex": [
       "$\\displaystyle x_{5} = \\left[\\begin{matrix}-1274.39017713635\\\\1594.47379836048\\end{matrix}\\right]$"
      ],
      "text/plain": [
       "<IPython.core.display.Math object>"
      ]
     },
     "metadata": {},
     "output_type": "display_data"
    },
    {
     "data": {
      "text/latex": [
       "$\\displaystyle \\|f(x_{5})\\|_2 = 0.05717488808056143$"
      ],
      "text/plain": [
       "<IPython.core.display.Math object>"
      ]
     },
     "metadata": {},
     "output_type": "display_data"
    },
    {
     "data": {
      "text/latex": [
       "$\\displaystyle \\|x_{5} - x_{4}\\|_2 = 4.090973106364756$"
      ],
      "text/plain": [
       "<IPython.core.display.Math object>"
      ]
     },
     "metadata": {},
     "output_type": "display_data"
    },
    {
     "name": "stdout",
     "output_type": "stream",
     "text": [
      "\n",
      "ITERATION 6\n",
      "-------------------------------------\n"
     ]
    },
    {
     "data": {
      "text/latex": [
       "$\\displaystyle \\delta_{5} \\text{ ist die Lösung des LGS } Df(x_0) * \\delta_{5} = -1 * f(x_{5})$"
      ],
      "text/plain": [
       "<IPython.core.display.Math object>"
      ]
     },
     "metadata": {},
     "output_type": "display_data"
    },
    {
     "data": {
      "text/latex": [
       "$\\displaystyle \\left[\\begin{matrix}-0.0578101514625968 & -0.0541477149664284\\\\0.0151023182058446 & 0.025693400650043\\end{matrix}\\right]\\cdot\\delta_{5}=-1\\cdot\\left[\\begin{matrix}0.0564543247343749\\\\-0.00904859358190357\\end{matrix}\\right]$"
      ],
      "text/plain": [
       "<IPython.core.display.Math object>"
      ]
     },
     "metadata": {},
     "output_type": "display_data"
    },
    {
     "data": {
      "text/latex": [
       "$\\displaystyle \\delta_{5} = \\left[\\begin{matrix}1.43883591611497\\\\-0.493557253941835\\end{matrix}\\right]$"
      ],
      "text/plain": [
       "<IPython.core.display.Math object>"
      ]
     },
     "metadata": {},
     "output_type": "display_data"
    },
    {
     "name": "stdout",
     "output_type": "stream",
     "text": [
      "\n"
     ]
    },
    {
     "data": {
      "text/latex": [
       "$\\displaystyle x_{6} = x_{5} + \\delta_{5}$"
      ],
      "text/plain": [
       "<IPython.core.display.Math object>"
      ]
     },
     "metadata": {},
     "output_type": "display_data"
    },
    {
     "data": {
      "text/latex": [
       "$\\displaystyle x_{6} = \\left[\\begin{matrix}-1272.95134122024\\\\1593.98024110654\\end{matrix}\\right]$"
      ],
      "text/plain": [
       "<IPython.core.display.Math object>"
      ]
     },
     "metadata": {},
     "output_type": "display_data"
    },
    {
     "data": {
      "text/latex": [
       "$\\displaystyle \\|f(x_{6})\\|_2 = 0.021354061572708152$"
      ],
      "text/plain": [
       "<IPython.core.display.Math object>"
      ]
     },
     "metadata": {},
     "output_type": "display_data"
    },
    {
     "data": {
      "text/latex": [
       "$\\displaystyle \\|x_{6} - x_{5}\\|_2 = 1.521133641867571$"
      ],
      "text/plain": [
       "<IPython.core.display.Math object>"
      ]
     },
     "metadata": {},
     "output_type": "display_data"
    },
    {
     "name": "stdout",
     "output_type": "stream",
     "text": [
      "\n",
      "ITERATION 7\n",
      "-------------------------------------\n"
     ]
    },
    {
     "data": {
      "text/latex": [
       "$\\displaystyle \\delta_{6} \\text{ ist die Lösung des LGS } Df(x_0) * \\delta_{6} = -1 * f(x_{6})$"
      ],
      "text/plain": [
       "<IPython.core.display.Math object>"
      ]
     },
     "metadata": {},
     "output_type": "display_data"
    },
    {
     "data": {
      "text/latex": [
       "$\\displaystyle \\left[\\begin{matrix}-0.0578101514625968 & -0.0541477149664284\\\\0.0151023182058446 & 0.025693400650043\\end{matrix}\\right]\\cdot\\delta_{6}=-1\\cdot\\left[\\begin{matrix}-0.0210849370205608\\\\0.00337955270560997\\end{matrix}\\right]$"
      ],
      "text/plain": [
       "<IPython.core.display.Math object>"
      ]
     },
     "metadata": {},
     "output_type": "display_data"
    },
    {
     "data": {
      "text/latex": [
       "$\\displaystyle \\delta_{6} = \\left[\\begin{matrix}-0.537384090968244\\\\0.18433499323271\\end{matrix}\\right]$"
      ],
      "text/plain": [
       "<IPython.core.display.Math object>"
      ]
     },
     "metadata": {},
     "output_type": "display_data"
    },
    {
     "name": "stdout",
     "output_type": "stream",
     "text": [
      "\n"
     ]
    },
    {
     "data": {
      "text/latex": [
       "$\\displaystyle x_{7} = x_{6} + \\delta_{6}$"
      ],
      "text/plain": [
       "<IPython.core.display.Math object>"
      ]
     },
     "metadata": {},
     "output_type": "display_data"
    },
    {
     "data": {
      "text/latex": [
       "$\\displaystyle x_{7} = \\left[\\begin{matrix}-1273.4887253112\\\\1594.16457609977\\end{matrix}\\right]$"
      ],
      "text/plain": [
       "<IPython.core.display.Math object>"
      ]
     },
     "metadata": {},
     "output_type": "display_data"
    },
    {
     "data": {
      "text/latex": [
       "$\\displaystyle \\|f(x_{7})\\|_2 = 0.007962294237122143$"
      ],
      "text/plain": [
       "<IPython.core.display.Math object>"
      ]
     },
     "metadata": {},
     "output_type": "display_data"
    },
    {
     "data": {
      "text/latex": [
       "$\\displaystyle \\|x_{7} - x_{6}\\|_2 = 0.568120630637534$"
      ],
      "text/plain": [
       "<IPython.core.display.Math object>"
      ]
     },
     "metadata": {},
     "output_type": "display_data"
    },
    {
     "name": "stdout",
     "output_type": "stream",
     "text": [
      "\n",
      "ITERATION 8\n",
      "-------------------------------------\n"
     ]
    },
    {
     "data": {
      "text/latex": [
       "$\\displaystyle \\delta_{7} \\text{ ist die Lösung des LGS } Df(x_0) * \\delta_{7} = -1 * f(x_{7})$"
      ],
      "text/plain": [
       "<IPython.core.display.Math object>"
      ]
     },
     "metadata": {},
     "output_type": "display_data"
    },
    {
     "data": {
      "text/latex": [
       "$\\displaystyle \\left[\\begin{matrix}-0.0578101514625968 & -0.0541477149664284\\\\0.0151023182058446 & 0.025693400650043\\end{matrix}\\right]\\cdot\\delta_{7}=-1\\cdot\\left[\\begin{matrix}0.00786194562139997\\\\-0.00126013513745882\\end{matrix}\\right]$"
      ],
      "text/plain": [
       "<IPython.core.display.Math object>"
      ]
     },
     "metadata": {},
     "output_type": "display_data"
    },
    {
     "data": {
      "text/latex": [
       "$\\displaystyle \\delta_{7} = \\left[\\begin{matrix}0.200374497308339\\\\-0.0687329912175292\\end{matrix}\\right]$"
      ],
      "text/plain": [
       "<IPython.core.display.Math object>"
      ]
     },
     "metadata": {},
     "output_type": "display_data"
    },
    {
     "name": "stdout",
     "output_type": "stream",
     "text": [
      "\n"
     ]
    },
    {
     "data": {
      "text/latex": [
       "$\\displaystyle x_{8} = x_{7} + \\delta_{7}$"
      ],
      "text/plain": [
       "<IPython.core.display.Math object>"
      ]
     },
     "metadata": {},
     "output_type": "display_data"
    },
    {
     "data": {
      "text/latex": [
       "$\\displaystyle x_{8} = \\left[\\begin{matrix}-1273.2883508139\\\\1594.09584310855\\end{matrix}\\right]$"
      ],
      "text/plain": [
       "<IPython.core.display.Math object>"
      ]
     },
     "metadata": {},
     "output_type": "display_data"
    },
    {
     "data": {
      "text/latex": [
       "$\\displaystyle \\|f(x_{8})\\|_2 = 0.002970733736168226$"
      ],
      "text/plain": [
       "<IPython.core.display.Math object>"
      ]
     },
     "metadata": {},
     "output_type": "display_data"
    },
    {
     "data": {
      "text/latex": [
       "$\\displaystyle \\|x_{8} - x_{7}\\|_2 = 0.21183522665804244$"
      ],
      "text/plain": [
       "<IPython.core.display.Math object>"
      ]
     },
     "metadata": {},
     "output_type": "display_data"
    },
    {
     "name": "stdout",
     "output_type": "stream",
     "text": [
      "\n",
      "ITERATION 9\n",
      "-------------------------------------\n"
     ]
    },
    {
     "data": {
      "text/latex": [
       "$\\displaystyle \\delta_{8} \\text{ ist die Lösung des LGS } Df(x_0) * \\delta_{8} = -1 * f(x_{8})$"
      ],
      "text/plain": [
       "<IPython.core.display.Math object>"
      ]
     },
     "metadata": {},
     "output_type": "display_data"
    },
    {
     "data": {
      "text/latex": [
       "$\\displaystyle \\left[\\begin{matrix}-0.0578101514625968 & -0.0541477149664284\\\\0.0151023182058446 & 0.025693400650043\\end{matrix}\\right]\\cdot\\delta_{8}=-1\\cdot\\left[\\begin{matrix}-0.00293329359062966\\\\0.000470157040124874\\end{matrix}\\right]$"
      ],
      "text/plain": [
       "<IPython.core.display.Math object>"
      ]
     },
     "metadata": {},
     "output_type": "display_data"
    },
    {
     "data": {
      "text/latex": [
       "$\\displaystyle \\delta_{8} = \\left[\\begin{matrix}-0.0747597392609752\\\\0.0256442632937047\\end{matrix}\\right]$"
      ],
      "text/plain": [
       "<IPython.core.display.Math object>"
      ]
     },
     "metadata": {},
     "output_type": "display_data"
    },
    {
     "name": "stdout",
     "output_type": "stream",
     "text": [
      "\n"
     ]
    },
    {
     "data": {
      "text/latex": [
       "$\\displaystyle x_{9} = x_{8} + \\delta_{8}$"
      ],
      "text/plain": [
       "<IPython.core.display.Math object>"
      ]
     },
     "metadata": {},
     "output_type": "display_data"
    },
    {
     "data": {
      "text/latex": [
       "$\\displaystyle x_{9} = \\left[\\begin{matrix}-1273.36311055316\\\\1594.12148737184\\end{matrix}\\right]$"
      ],
      "text/plain": [
       "<IPython.core.display.Math object>"
      ]
     },
     "metadata": {},
     "output_type": "display_data"
    },
    {
     "data": {
      "text/latex": [
       "$\\displaystyle \\|f(x_{9})\\|_2 = 0.0011081263282770324$"
      ],
      "text/plain": [
       "<IPython.core.display.Math object>"
      ]
     },
     "metadata": {},
     "output_type": "display_data"
    },
    {
     "data": {
      "text/latex": [
       "$\\displaystyle \\|x_{9} - x_{8}\\|_2 = 0.07903573150326892$"
      ],
      "text/plain": [
       "<IPython.core.display.Math object>"
      ]
     },
     "metadata": {},
     "output_type": "display_data"
    },
    {
     "name": "stdout",
     "output_type": "stream",
     "text": [
      "\n",
      "-------------------------------------\n",
      "\n"
     ]
    },
    {
     "data": {
      "text/latex": [
       "$\\displaystyle \\text{Die approximierten Werte sind: }\\left[\\begin{matrix}-1000.0 & 1500.0\\\\-1324.33787929768 & 1611.62634355818\\\\-1252.54413158498 & 1586.97825420873\\\\-1280.80648645912 & 1596.67503248769\\\\-1270.52054119882 & 1593.14640291528\\\\-1274.39017713635 & 1594.47379836048\\\\-1272.95134122024 & 1593.98024110654\\\\-1273.4887253112 & 1594.16457609977\\\\-1273.2883508139 & 1594.09584310855\\\\-1273.36311055316 & 1594.12148737184\\end{matrix}\\right]$"
      ],
      "text/plain": [
       "<IPython.core.display.Math object>"
      ]
     },
     "metadata": {},
     "output_type": "display_data"
    }
   ],
   "source": [
    "from IPython.display import display, Math\n",
    "import sympy as sy\n",
    "import numpy as np\n",
    "\n",
    "# Definieren der Symbole\n",
    "x1, x2, x3, x4, x5, x6, x7, x8, x9 = sy.symbols('x1, x2, x3, x4, x5, x6, x7, x8, x9')\n",
    "\n",
    "# Abbruchkriterium a): Abbruch nach einer bestimmten Anzahl Iterationen\n",
    "def is_finished_max_iterations(f, x, n_max):\n",
    "    return x.shape[0] - 1 >= n_max\n",
    "\n",
    "# Abbruchkriterium b): Abbruch, wenn ‖x(n+1) - x(n)‖₂ ≤ ‖x(n+1)‖₂ * 𝛜\n",
    "def is_finished_relative_error(f, x, eps):\n",
    "    if x.shape[0] < 2:\n",
    "        return False\n",
    "    return np.linalg.norm(x[-1] - x[-2], 2) <= np.linalg.norm(x[-1], 2) * eps\n",
    "\n",
    "# Abbruchkriterium c): Abbruch, wenn ‖x(n+1) - x(n)‖₂ ≤ 𝛜\n",
    "def is_finished_absolute_error(f, x, eps):\n",
    "    if x.shape[0] < 2:\n",
    "        return False\n",
    "    return np.linalg.norm(x[-1] - x[-2], 2) <= eps\n",
    "\n",
    "# Abbruchkriterium d): Abbruch, wenn ‖f(x(n+1))‖₂ ≤ 𝛜\n",
    "def is_finished_max_residual(f, x, eps):\n",
    "    if x.shape[0] < 1:\n",
    "        return False\n",
    "    return np.linalg.norm(f(x[-1]), 2) <= eps\n",
    "\n",
    "\n",
    "\"\"\"\n",
    "=======================================================================================================================\n",
    "INPUT\n",
    "=======================================================================================================================\n",
    "\"\"\"\n",
    "\n",
    "# ACHTUNG: Für sinus/cosinus/Exponentialfunktion immer sy.sin/sy.cos/sy.exp/sy.ln/sy.abs verwenden!\n",
    "f = sy.Matrix([\n",
    "    x1 ** 2 / 186 ** 2 - x2 ** 2 / (300 ** 2 - 186 ** 2) - 1,\n",
    "    (x2 - 500) ** 2 / 279 ** 2 - (x1 - 300) ** 2 / (500 ** 2 - 279 ** 2) - 1\n",
    "])\n",
    "# f = sy.Matrix([\n",
    "#     x1 + x2 * sy.exp(x3 * 1) - 40,\n",
    "#     x1 + x2 * sy.exp(x3 * 1.6) - 250,\n",
    "#     x1 + x2 * sy.exp(x3 * 2) - 800\n",
    "# ])\n",
    "\n",
    "x = sy.Matrix([x1, x2])\n",
    "# x= sy.Matrix([x1, x2, x3])\n",
    "\n",
    "# Startwert\n",
    "x0 = np.array([-1000, 1500])\n",
    "# x0 = np.array([1, 2, 3])\n",
    "\n",
    "# Wähle das Abbruchkriterium (bei passender Zeile Kommentar entfernen):\n",
    "def is_finished(f, x):\n",
    "    return is_finished_max_iterations(f, x, 9)      # Abbruchkriterium a)\n",
    "    # return is_finished_relative_error(f, x, 1e-5)  # Abbruchkriterium b)\n",
    "    # return is_finished_absolute_error(f, x, 1e-5)  # Abbruchkriterium c)\n",
    "    # return is_finished_max_residual(f, x, 1e-5)    # Abbruchkriterium d)\n",
    "\n",
    "\"\"\"\n",
    "=======================================================================================================================\n",
    "\"\"\"\n",
    "\n",
    "display(Math(r'\\text{Bilde die Jacobi-Matrix } Df(x) \\text{ für } f(x) = ' + sy.latex(f) + r' \\text{ mit } x = ' + sy.latex(x)))\n",
    "\n",
    "# Berechnung der Jacobi-Matrix\n",
    "Df = f.jacobian(x)\n",
    "\n",
    "display(Math(r'\\text{Ganze Jacobi-Matrix: } Df = ' + sy.latex(Df)))\n",
    "\n",
    "# Sympy-Funktionen in NumPy-kompatible Funktionen umwandeln\n",
    "f_lambda = sy.lambdify([x], f, \"numpy\")\n",
    "Df_lambda = sy.lambdify([x], Df, \"numpy\")\n",
    "\n",
    "# Newton-Iterationen\n",
    "x_approx = np.empty(shape=(0, len(x)), dtype=np.float64)  # Array mit Lösungsvektoren x0 bis xn\n",
    "x_approx = np.append(x_approx, [x0], axis=0)  # Startwert in Array einfügen\n",
    "display(Math(r'x({0}) = ' + sy.latex(sy.Matrix(x0))))\n",
    "\n",
    "while not is_finished(f_lambda, x_approx):\n",
    "    i = x_approx.shape[0] - 1\n",
    "    print()\n",
    "    print(f'ITERATION {i + 1}')\n",
    "    print('-------------------------------------')\n",
    "\n",
    "    x_n = x_approx[-1]  # x(n) (letzter berechneter Wert)\n",
    "\n",
    "    display(Math(r'\\delta_{' + str(i) + r'} \\text{ ist die Lösung des LGS } Df(x_0) * \\delta_{' + str(i) + r'} = -1 * f(x_{' + str(i) + r'})'))\n",
    "    display(Math(sy.latex(sy.Matrix(Df_lambda(x0))) + '\\\\cdot\\\\delta_{' + str(i) + '}=-1\\\\cdot' + sy.latex(sy.Matrix(f_lambda(x_n)))))\n",
    "\n",
    "    Q, R = np.linalg.qr(Df_lambda(x0))\n",
    "    delta = np.linalg.solve(R, -Q.T @ f_lambda(x_n)).flatten()  # 𝛅(n) aus Df(x(n)) * 𝛅(n) = -1 * f(x(n))\n",
    "    display(Math(r'\\delta_{' + str(i) + r'} = ' + sy.latex(sy.Matrix(delta))))\n",
    "\n",
    "    x_next = x_n + delta.reshape(x0.shape[0], )  # x(n+1) = x(n) + 𝛅(n)\n",
    "   \n",
    "    print()\n",
    "    display(Math(r'x_{' + str(i + 1) + r'} = x_{' + str(i) + r'} + \\delta_{' + str(i) + r'}'))\n",
    "    display(Math(r'x_{' + str(i + 1) + r'} = ' + sy.latex(sy.Matrix(x_next))))\n",
    "    display(Math(r'\\|f(x_{' + str(i + 1) + r'})\\|_2 = ' + str(np.linalg.norm(f_lambda(x_next), 2))))\n",
    "    display(Math(r'\\|x_{' + str(i + 1) + r'} - x_{' + str(i) + r'}\\|_2 = ' + str(np.linalg.norm(x_next - x_n, 2))))\n",
    "\n",
    "    x_approx = np.append(x_approx, [x_next], axis=0)\n",
    "\n",
    "print()\n",
    "print('-------------------------------------')\n",
    "print()\n",
    "\n",
    "display(Math(r'\\text{Die approximierten Werte sind: }' + sy.latex(sy.Matrix(x_approx))))"
   ]
  }
 ],
 "metadata": {
  "kernelspec": {
   "display_name": "base",
   "language": "python",
   "name": "python3"
  },
  "language_info": {
   "codemirror_mode": {
    "name": "ipython",
    "version": 3
   },
   "file_extension": ".py",
   "mimetype": "text/x-python",
   "name": "python",
   "nbconvert_exporter": "python",
   "pygments_lexer": "ipython3",
   "version": "3.11.8"
  }
 },
 "nbformat": 4,
 "nbformat_minor": 2
}
