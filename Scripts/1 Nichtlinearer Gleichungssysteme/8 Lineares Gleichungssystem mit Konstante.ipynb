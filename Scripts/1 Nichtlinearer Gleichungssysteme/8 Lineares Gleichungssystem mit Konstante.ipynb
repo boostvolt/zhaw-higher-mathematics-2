{
 "cells": [
  {
   "cell_type": "code",
   "execution_count": 1,
   "metadata": {},
   "outputs": [
    {
     "data": {
      "text/latex": [
       "$\\displaystyle \\left\\{\\left( - 0.125 a - 0.5, \\  1.0 - 0.25 a\\right)\\right\\}$"
      ],
      "text/plain": [
       "{(-0.125*a - 0.5, 1.0 - 0.25*a)}"
      ]
     },
     "metadata": {},
     "output_type": "display_data"
    }
   ],
   "source": [
    "from sympy import symbols, Matrix, linsolve\n",
    "from IPython.display import display\n",
    "\n",
    "a, x, y = symbols('a x y')\n",
    "\n",
    "# Definiere die Matrix und den Vektor\n",
    "Df = Matrix([[-4.0, 2.0], [0, -4.0/a]])\n",
    "f = Matrix([-4.0, -1 + 4.0/a])\n",
    "\n",
    "# Multipliziere den Vektor f mit -1\n",
    "# ACHTUNG: Wird hier gebraucht weil wir vom Newton Verfahren ausgehen\n",
    "f = -1 * f\n",
    "\n",
    "solution = linsolve((Df, f), symbols('delta0:2'))\n",
    "\n",
    "display(solution)"
   ]
  }
 ],
 "metadata": {
  "kernelspec": {
   "display_name": "base",
   "language": "python",
   "name": "python3"
  },
  "language_info": {
   "codemirror_mode": {
    "name": "ipython",
    "version": 3
   },
   "file_extension": ".py",
   "mimetype": "text/x-python",
   "name": "python",
   "nbconvert_exporter": "python",
   "pygments_lexer": "ipython3",
   "version": "3.11.8"
  }
 },
 "nbformat": 4,
 "nbformat_minor": 2
}
