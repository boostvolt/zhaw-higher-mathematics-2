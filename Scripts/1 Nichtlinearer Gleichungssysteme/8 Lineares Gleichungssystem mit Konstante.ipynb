{
 "cells": [
  {
   "cell_type": "code",
   "execution_count": 1,
   "metadata": {},
   "outputs": [
    {
     "data": {
      "image/png": "[encoded data removed]",
      "text/latex": [
       "$\\displaystyle \\left\\{\\left( - 0.125 a - 0.5, \\  1.0 - 0.25 a\\right)\\right\\}$"
      ],
      "text/plain": [
       "{(-0.125⋅a - 0.5, 1.0 - 0.25⋅a)}"
      ]
     },
     "metadata": {},
     "output_type": "display_data"
    }
   ],
   "source": [
    "from sympy import symbols, Matrix, linsolve, init_printing\n",
    "from IPython.display import display\n",
    "\n",
    "# Aktivieren Sie die schönere Ausgabe\n",
    "init_printing()\n",
    "\n",
    "# Definieren Sie die Symbole\n",
    "a, x, y = symbols('a x y')\n",
    "\n",
    "# Definieren Sie die Matrix und den Vektor\n",
    "Df = Matrix([[-4.0, 2.0], [0, -4.0/a]])\n",
    "f = Matrix([-4.0, -1 + 4.0/a])\n",
    "\n",
    "# Multiplizieren Sie den Vektor f mit -1\n",
    "# ACHTUNG: Wird hier gebraucht weil wir vom Newton Verfahren ausgehen\n",
    "f = -1 * f\n",
    "\n",
    "# Definieren Sie die Unbekannten\n",
    "delta0 = symbols('delta0:2')\n",
    "\n",
    "# Lösen Sie das lineare Gleichungssystem\n",
    "solution = linsolve((Df, f), delta0)\n",
    "\n",
    "# Drucken Sie das Ergebnis\n",
    "display(solution)"
   ]
  }
 ],
 "metadata": {
  "kernelspec": {
   "display_name": "base",
   "language": "python",
   "name": "python3"
  },
  "language_info": {
   "codemirror_mode": {
    "name": "ipython",
    "version": 3
   },
   "file_extension": ".py",
   "mimetype": "text/x-python",
   "name": "python",
   "nbconvert_exporter": "python",
   "pygments_lexer": "ipython3",
   "version": "3.11.8"
  }
 },
 "nbformat": 4,
 "nbformat_minor": 2
}
