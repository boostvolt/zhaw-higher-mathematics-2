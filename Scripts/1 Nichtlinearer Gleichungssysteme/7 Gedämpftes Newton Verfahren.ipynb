{
 "cells": [
  {
   "cell_type": "code",
   "execution_count": 33,
   "metadata": {},
   "outputs": [
    {
     "data": {
      "text/latex": [
       "$\\displaystyle \\text{Bilde die Jacobi-Matrix } Df(x) \\text{ für } f(x) = \\left[\\begin{matrix}\\frac{x_{1}^{2}}{34596} - \\frac{x_{2}^{2}}{55404} - 1\\\\- \\frac{\\left(x_{1} - 300\\right)^{2}}{172159} + \\frac{\\left(x_{2} - 500\\right)^{2}}{77841} - 1\\end{matrix}\\right] \\text{ mit } x = \\left[\\begin{matrix}x_{1}\\\\x_{2}\\end{matrix}\\right]$"
      ],
      "text/plain": [
       "<IPython.core.display.Math object>"
      ]
     },
     "metadata": {},
     "output_type": "display_data"
    },
    {
     "data": {
      "text/latex": [
       "$\\displaystyle \\text{Ganze Jacobi-Matrix: } Df = \\left[\\begin{matrix}\\frac{x_{1}}{17298} & - \\frac{x_{2}}{27702}\\\\\\frac{600}{172159} - \\frac{2 x_{1}}{172159} & \\frac{2 x_{2}}{77841} - \\frac{1000}{77841}\\end{matrix}\\right]$"
      ],
      "text/plain": [
       "<IPython.core.display.Math object>"
      ]
     },
     "metadata": {},
     "output_type": "display_data"
    },
    {
     "data": {
      "text/latex": [
       "$\\displaystyle x({0}) = \\left[\\begin{matrix}-1000\\\\900\\end{matrix}\\right]$"
      ],
      "text/plain": [
       "<IPython.core.display.Math object>"
      ]
     },
     "metadata": {},
     "output_type": "display_data"
    },
    {
     "name": "stdout",
     "output_type": "stream",
     "text": [
      "\n",
      "ITERATION 1\n",
      "-------------------------------------\n"
     ]
    },
    {
     "data": {
      "text/latex": [
       "$\\displaystyle \\delta_{0} \\text{ ist die Lösung des LGS } Df(x_{0}) * \\delta_{0} = -1 * f(x_{0})$"
      ],
      "text/plain": [
       "<IPython.core.display.Math object>"
      ]
     },
     "metadata": {},
     "output_type": "display_data"
    },
    {
     "data": {
      "text/latex": [
       "$\\displaystyle \\left[\\begin{matrix}-0.0578101514625968 & -0.032488628979857\\\\0.0151023182058446 & 0.0102773602600172\\end{matrix}\\right]\\cdot\\delta_{0}=-1\\cdot\\left[\\begin{matrix}13.2851926903627\\\\-8.76103478179555\\end{matrix}\\right]$"
      ],
      "text/plain": [
       "<IPython.core.display.Math object>"
      ]
     },
     "metadata": {},
     "output_type": "display_data"
    },
    {
     "data": {
      "text/latex": [
       "$\\displaystyle \\delta_{0} = \\left[\\begin{matrix}-1431.13871256961\\\\2955.48139281377\\end{matrix}\\right]$"
      ],
      "text/plain": [
       "<IPython.core.display.Math object>"
      ]
     },
     "metadata": {},
     "output_type": "display_data"
    },
    {
     "data": {
      "text/latex": [
       "$\\displaystyle \\text{Berechne das Residuum der letzten Iteration } \\|f(x(n))\\|_2 = 15.913895665986344$"
      ],
      "text/plain": [
       "<IPython.core.display.Math object>"
      ]
     },
     "metadata": {},
     "output_type": "display_data"
    },
    {
     "name": "stdout",
     "output_type": "stream",
     "text": [
      "\n",
      "Versuche es mit k = 0:\n"
     ]
    },
    {
     "data": {
      "text/latex": [
       "$\\displaystyle \\text{Berechne das neue Residuum } \\|f(x_n + \\frac{\\delta(n)}{2^k})\\|_2 = 140.55986985636582$"
      ],
      "text/plain": [
       "<IPython.core.display.Math object>"
      ]
     },
     "metadata": {},
     "output_type": "display_data"
    },
    {
     "name": "stdout",
     "output_type": "stream",
     "text": [
      "Das neue Residuum ist grösser oder gleich gross, versuche ein anderes k (bzw. k = 0 wenn k_max erreicht ist)\n",
      "\n",
      "\n",
      "Versuche es mit k = 1:\n"
     ]
    },
    {
     "data": {
      "text/latex": [
       "$\\displaystyle \\text{Berechne das neue Residuum } \\|f(x_n + \\frac{\\delta(n)}{2^k})\\|_2 = 27.411840070302965$"
      ],
      "text/plain": [
       "<IPython.core.display.Math object>"
      ]
     },
     "metadata": {},
     "output_type": "display_data"
    },
    {
     "name": "stdout",
     "output_type": "stream",
     "text": [
      "Das neue Residuum ist grösser oder gleich gross, versuche ein anderes k (bzw. k = 0 wenn k_max erreicht ist)\n",
      "\n",
      "\n",
      "Versuche es mit k = 2:\n"
     ]
    },
    {
     "data": {
      "text/latex": [
       "$\\displaystyle \\text{Berechne das neue Residuum } \\|f(x_n + \\frac{\\delta(n)}{2^k})\\|_2 = 3.8222854244991704$"
      ],
      "text/plain": [
       "<IPython.core.display.Math object>"
      ]
     },
     "metadata": {},
     "output_type": "display_data"
    },
    {
     "name": "stdout",
     "output_type": "stream",
     "text": [
      "Das neue Residuum ist kleiner, verwende also k = 2\n"
     ]
    },
    {
     "data": {
      "text/latex": [
       "$\\displaystyle \\delta_0 = \\frac{\\delta_0}{2^2}= \\left[\\begin{matrix}-357.784678142402\\\\738.870348203443\\end{matrix}\\right]$"
      ],
      "text/plain": [
       "<IPython.core.display.Math object>"
      ]
     },
     "metadata": {},
     "output_type": "display_data"
    },
    {
     "name": "stdout",
     "output_type": "stream",
     "text": [
      "\n"
     ]
    },
    {
     "data": {
      "text/latex": [
       "$\\displaystyle x_1 = x_0 + \\delta_0$"
      ],
      "text/plain": [
       "<IPython.core.display.Math object>"
      ]
     },
     "metadata": {},
     "output_type": "display_data"
    },
    {
     "data": {
      "text/latex": [
       "$\\displaystyle x_{1} = \\left[\\begin{matrix}-1357.7846781424\\\\1638.87034820344\\end{matrix}\\right] \\quad (k = 2)$"
      ],
      "text/plain": [
       "<IPython.core.display.Math object>"
      ]
     },
     "metadata": {},
     "output_type": "display_data"
    },
    {
     "data": {
      "text/latex": [
       "$\\displaystyle \\|f(x_1)\\|_2 = 3.8222854244991704$"
      ],
      "text/plain": [
       "<IPython.core.display.Math object>"
      ]
     },
     "metadata": {},
     "output_type": "display_data"
    },
    {
     "data": {
      "text/latex": [
       "$\\displaystyle \\|x_1 - x_0\\|_2 = 820.9380411259665$"
      ],
      "text/plain": [
       "<IPython.core.display.Math object>"
      ]
     },
     "metadata": {},
     "output_type": "display_data"
    },
    {
     "name": "stdout",
     "output_type": "stream",
     "text": [
      "\n",
      "ITERATION 2\n",
      "-------------------------------------\n"
     ]
    },
    {
     "data": {
      "text/latex": [
       "$\\displaystyle \\delta_{1} \\text{ ist die Lösung des LGS } Df(x_{1}) * \\delta_{1} = -1 * f(x_{1})$"
      ],
      "text/plain": [
       "<IPython.core.display.Math object>"
      ]
     },
     "metadata": {},
     "output_type": "display_data"
    },
    {
     "data": {
      "text/latex": [
       "$\\displaystyle \\left[\\begin{matrix}-0.0784937378970056 & -0.0591607229876342\\\\0.0192587628662156 & 0.0292614521448451\\end{matrix}\\right]\\cdot\\delta_{1}=-1\\cdot\\left[\\begin{matrix}3.81041998198418\\\\-0.300940903225976\\end{matrix}\\right]$"
      ],
      "text/plain": [
       "<IPython.core.display.Math object>"
      ]
     },
     "metadata": {},
     "output_type": "display_data"
    },
    {
     "data": {
      "text/latex": [
       "$\\displaystyle \\delta_{1} = \\left[\\begin{matrix}80.947116519568\\\\-42.991728923813\\end{matrix}\\right]$"
      ],
      "text/plain": [
       "<IPython.core.display.Math object>"
      ]
     },
     "metadata": {},
     "output_type": "display_data"
    },
    {
     "data": {
      "text/latex": [
       "$\\displaystyle \\text{Berechne das Residuum der letzten Iteration } \\|f(x(n))\\|_2 = 3.8222854244991704$"
      ],
      "text/plain": [
       "<IPython.core.display.Math object>"
      ]
     },
     "metadata": {},
     "output_type": "display_data"
    },
    {
     "name": "stdout",
     "output_type": "stream",
     "text": [
      "\n",
      "Versuche es mit k = 0:\n"
     ]
    },
    {
     "data": {
      "text/latex": [
       "$\\displaystyle \\text{Berechne das neue Residuum } \\|f(x_n + \\frac{\\delta(n)}{2^k})\\|_2 = 0.15669378763465286$"
      ],
      "text/plain": [
       "<IPython.core.display.Math object>"
      ]
     },
     "metadata": {},
     "output_type": "display_data"
    },
    {
     "name": "stdout",
     "output_type": "stream",
     "text": [
      "Das neue Residuum ist kleiner, verwende also k = 0\n"
     ]
    },
    {
     "data": {
      "text/latex": [
       "$\\displaystyle \\delta_1 = \\frac{\\delta_1}{2^0}= \\left[\\begin{matrix}80.947116519568\\\\-42.991728923813\\end{matrix}\\right]$"
      ],
      "text/plain": [
       "<IPython.core.display.Math object>"
      ]
     },
     "metadata": {},
     "output_type": "display_data"
    },
    {
     "name": "stdout",
     "output_type": "stream",
     "text": [
      "\n"
     ]
    },
    {
     "data": {
      "text/latex": [
       "$\\displaystyle x_2 = x_1 + \\delta_1$"
      ],
      "text/plain": [
       "<IPython.core.display.Math object>"
      ]
     },
     "metadata": {},
     "output_type": "display_data"
    },
    {
     "data": {
      "text/latex": [
       "$\\displaystyle x_{2} = \\left[\\begin{matrix}-1276.83756162283\\\\1595.87861927963\\end{matrix}\\right] \\quad (k = 0)$"
      ],
      "text/plain": [
       "<IPython.core.display.Math object>"
      ]
     },
     "metadata": {},
     "output_type": "display_data"
    },
    {
     "data": {
      "text/latex": [
       "$\\displaystyle \\|f(x_2)\\|_2 = 0.15669378763465286$"
      ],
      "text/plain": [
       "<IPython.core.display.Math object>"
      ]
     },
     "metadata": {},
     "output_type": "display_data"
    },
    {
     "data": {
      "text/latex": [
       "$\\displaystyle \\|x_2 - x_1\\|_2 = 91.65546589642717$"
      ],
      "text/plain": [
       "<IPython.core.display.Math object>"
      ]
     },
     "metadata": {},
     "output_type": "display_data"
    },
    {
     "name": "stdout",
     "output_type": "stream",
     "text": [
      "\n",
      "ITERATION 3\n",
      "-------------------------------------\n"
     ]
    },
    {
     "data": {
      "text/latex": [
       "$\\displaystyle \\delta_{2} \\text{ ist die Lösung des LGS } Df(x_{2}) * \\delta_{2} = -1 * f(x_{2})$"
      ],
      "text/plain": [
       "<IPython.core.display.Math object>"
      ]
     },
     "metadata": {},
     "output_type": "display_data"
    },
    {
     "data": {
      "text/latex": [
       "$\\displaystyle \\left[\\begin{matrix}-0.0738141728305489 & -0.0576087870651805\\\\0.0183183866265816 & 0.0281568484289675\\end{matrix}\\right]\\cdot\\delta_{2}=-1\\cdot\\left[\\begin{matrix}0.156038445105054\\\\-0.0143159607603121\\end{matrix}\\right]$"
      ],
      "text/plain": [
       "<IPython.core.display.Math object>"
      ]
     },
     "metadata": {},
     "output_type": "display_data"
    },
    {
     "data": {
      "text/latex": [
       "$\\displaystyle \\delta_{2} = \\left[\\begin{matrix}3.48833434518455\\\\-1.76101727374253\\end{matrix}\\right]$"
      ],
      "text/plain": [
       "<IPython.core.display.Math object>"
      ]
     },
     "metadata": {},
     "output_type": "display_data"
    },
    {
     "data": {
      "text/latex": [
       "$\\displaystyle \\text{Berechne das Residuum der letzten Iteration } \\|f(x(n))\\|_2 = 0.15669378763465286$"
      ],
      "text/plain": [
       "<IPython.core.display.Math object>"
      ]
     },
     "metadata": {},
     "output_type": "display_data"
    },
    {
     "name": "stdout",
     "output_type": "stream",
     "text": [
      "\n",
      "Versuche es mit k = 0:\n"
     ]
    },
    {
     "data": {
      "text/latex": [
       "$\\displaystyle \\text{Berechne das neue Residuum } \\|f(x_n + \\frac{\\delta(n)}{2^k})\\|_2 = 0.0002973605086600504$"
      ],
      "text/plain": [
       "<IPython.core.display.Math object>"
      ]
     },
     "metadata": {},
     "output_type": "display_data"
    },
    {
     "name": "stdout",
     "output_type": "stream",
     "text": [
      "Das neue Residuum ist kleiner, verwende also k = 0\n"
     ]
    },
    {
     "data": {
      "text/latex": [
       "$\\displaystyle \\delta_2 = \\frac{\\delta_2}{2^0}= \\left[\\begin{matrix}3.48833434518455\\\\-1.76101727374253\\end{matrix}\\right]$"
      ],
      "text/plain": [
       "<IPython.core.display.Math object>"
      ]
     },
     "metadata": {},
     "output_type": "display_data"
    },
    {
     "name": "stdout",
     "output_type": "stream",
     "text": [
      "\n"
     ]
    },
    {
     "data": {
      "text/latex": [
       "$\\displaystyle x_3 = x_2 + \\delta_2$"
      ],
      "text/plain": [
       "<IPython.core.display.Math object>"
      ]
     },
     "metadata": {},
     "output_type": "display_data"
    },
    {
     "data": {
      "text/latex": [
       "$\\displaystyle x_{3} = \\left[\\begin{matrix}-1273.34922727765\\\\1594.11760200589\\end{matrix}\\right] \\quad (k = 0)$"
      ],
      "text/plain": [
       "<IPython.core.display.Math object>"
      ]
     },
     "metadata": {},
     "output_type": "display_data"
    },
    {
     "data": {
      "text/latex": [
       "$\\displaystyle \\|f(x_3)\\|_2 = 0.0002973605086600504$"
      ],
      "text/plain": [
       "<IPython.core.display.Math object>"
      ]
     },
     "metadata": {},
     "output_type": "display_data"
    },
    {
     "data": {
      "text/latex": [
       "$\\displaystyle \\|x_3 - x_2\\|_2 = 3.907641020131361$"
      ],
      "text/plain": [
       "<IPython.core.display.Math object>"
      ]
     },
     "metadata": {},
     "output_type": "display_data"
    },
    {
     "name": "stdout",
     "output_type": "stream",
     "text": [
      "\n",
      "ITERATION 4\n",
      "-------------------------------------\n"
     ]
    },
    {
     "data": {
      "text/latex": [
       "$\\displaystyle \\delta_{3} \\text{ ist die Lösung des LGS } Df(x_{3}) * \\delta_{3} = -1 * f(x_{3})$"
      ],
      "text/plain": [
       "<IPython.core.display.Math object>"
      ]
     },
     "metadata": {},
     "output_type": "display_data"
    },
    {
     "data": {
      "text/latex": [
       "$\\displaystyle \\left[\\begin{matrix}-0.0736125116937016 & -0.0575452170242541\\\\0.0182778620609745 & 0.0281116019066016\\end{matrix}\\right]\\cdot\\delta_{3}=-1\\cdot\\left[\\begin{matrix}0.000295756764785438\\\\-3.08416632854858 \\cdot 10^{-5}\\end{matrix}\\right]$"
      ],
      "text/plain": [
       "<IPython.core.display.Math object>"
      ]
     },
     "metadata": {},
     "output_type": "display_data"
    },
    {
     "data": {
      "text/latex": [
       "$\\displaystyle \\delta_{3} = \\left[\\begin{matrix}0.0064265427356423\\\\-0.00308135404924042\\end{matrix}\\right]$"
      ],
      "text/plain": [
       "<IPython.core.display.Math object>"
      ]
     },
     "metadata": {},
     "output_type": "display_data"
    },
    {
     "data": {
      "text/latex": [
       "$\\displaystyle \\text{Berechne das Residuum der letzten Iteration } \\|f(x(n))\\|_2 = 0.0002973605086600504$"
      ],
      "text/plain": [
       "<IPython.core.display.Math object>"
      ]
     },
     "metadata": {},
     "output_type": "display_data"
    },
    {
     "name": "stdout",
     "output_type": "stream",
     "text": [
      "\n",
      "Versuche es mit k = 0:\n"
     ]
    },
    {
     "data": {
      "text/latex": [
       "$\\displaystyle \\text{Berechne das neue Residuum } \\|f(x_n + \\frac{\\delta(n)}{2^k})\\|_2 = 1.0291990823971774e-09$"
      ],
      "text/plain": [
       "<IPython.core.display.Math object>"
      ]
     },
     "metadata": {},
     "output_type": "display_data"
    },
    {
     "name": "stdout",
     "output_type": "stream",
     "text": [
      "Das neue Residuum ist kleiner, verwende also k = 0\n"
     ]
    },
    {
     "data": {
      "text/latex": [
       "$\\displaystyle \\delta_3 = \\frac{\\delta_3}{2^0}= \\left[\\begin{matrix}0.0064265427356423\\\\-0.00308135404924042\\end{matrix}\\right]$"
      ],
      "text/plain": [
       "<IPython.core.display.Math object>"
      ]
     },
     "metadata": {},
     "output_type": "display_data"
    },
    {
     "name": "stdout",
     "output_type": "stream",
     "text": [
      "\n"
     ]
    },
    {
     "data": {
      "text/latex": [
       "$\\displaystyle x_4 = x_3 + \\delta_3$"
      ],
      "text/plain": [
       "<IPython.core.display.Math object>"
      ]
     },
     "metadata": {},
     "output_type": "display_data"
    },
    {
     "data": {
      "text/latex": [
       "$\\displaystyle x_{4} = \\left[\\begin{matrix}-1273.34280073491\\\\1594.11452065184\\end{matrix}\\right] \\quad (k = 0)$"
      ],
      "text/plain": [
       "<IPython.core.display.Math object>"
      ]
     },
     "metadata": {},
     "output_type": "display_data"
    },
    {
     "data": {
      "text/latex": [
       "$\\displaystyle \\|f(x_4)\\|_2 = 1.0291990823971774e-09$"
      ],
      "text/plain": [
       "<IPython.core.display.Math object>"
      ]
     },
     "metadata": {},
     "output_type": "display_data"
    },
    {
     "data": {
      "text/latex": [
       "$\\displaystyle \\|x_4 - x_3\\|_2 = 0.007127074737247635$"
      ],
      "text/plain": [
       "<IPython.core.display.Math object>"
      ]
     },
     "metadata": {},
     "output_type": "display_data"
    },
    {
     "name": "stdout",
     "output_type": "stream",
     "text": [
      "\n",
      "ITERATION 5\n",
      "-------------------------------------\n"
     ]
    },
    {
     "data": {
      "text/latex": [
       "$\\displaystyle \\delta_{4} \\text{ ist die Lösung des LGS } Df(x_{4}) * \\delta_{4} = -1 * f(x_{4})$"
      ],
      "text/plain": [
       "<IPython.core.display.Math object>"
      ]
     },
     "metadata": {},
     "output_type": "display_data"
    },
    {
     "data": {
      "text/latex": [
       "$\\displaystyle \\left[\\begin{matrix}-0.0736121401742927 & -0.0575451057920669\\\\0.0182777874027488 & 0.0281115227361375\\end{matrix}\\right]\\cdot\\delta_{4}=-1\\cdot\\left[\\begin{matrix}1.02242125876728 \\cdot 10^{-9}\\\\-1.17921672426746 \\cdot 10^{-10}\\end{matrix}\\right]$"
      ],
      "text/plain": [
       "<IPython.core.display.Math object>"
      ]
     },
     "metadata": {},
     "output_type": "display_data"
    },
    {
     "data": {
      "text/latex": [
       "$\\displaystyle \\delta_{4} = \\left[\\begin{matrix}2.15772759264748 \\cdot 10^{-8}\\\\-9.83451491698865 \\cdot 10^{-9}\\end{matrix}\\right]$"
      ],
      "text/plain": [
       "<IPython.core.display.Math object>"
      ]
     },
     "metadata": {},
     "output_type": "display_data"
    },
    {
     "data": {
      "text/latex": [
       "$\\displaystyle \\text{Berechne das Residuum der letzten Iteration } \\|f(x(n))\\|_2 = 1.0291990823971774e-09$"
      ],
      "text/plain": [
       "<IPython.core.display.Math object>"
      ]
     },
     "metadata": {},
     "output_type": "display_data"
    },
    {
     "name": "stdout",
     "output_type": "stream",
     "text": [
      "\n",
      "Versuche es mit k = 0:\n"
     ]
    },
    {
     "data": {
      "text/latex": [
       "$\\displaystyle \\text{Berechne das neue Residuum } \\|f(x_n + \\frac{\\delta(n)}{2^k})\\|_2 = 7.32410687763558e-15$"
      ],
      "text/plain": [
       "<IPython.core.display.Math object>"
      ]
     },
     "metadata": {},
     "output_type": "display_data"
    },
    {
     "name": "stdout",
     "output_type": "stream",
     "text": [
      "Das neue Residuum ist kleiner, verwende also k = 0\n"
     ]
    },
    {
     "data": {
      "text/latex": [
       "$\\displaystyle \\delta_4 = \\frac{\\delta_4}{2^0}= \\left[\\begin{matrix}2.15772759264748 \\cdot 10^{-8}\\\\-9.83451491698865 \\cdot 10^{-9}\\end{matrix}\\right]$"
      ],
      "text/plain": [
       "<IPython.core.display.Math object>"
      ]
     },
     "metadata": {},
     "output_type": "display_data"
    },
    {
     "name": "stdout",
     "output_type": "stream",
     "text": [
      "\n"
     ]
    },
    {
     "data": {
      "text/latex": [
       "$\\displaystyle x_5 = x_4 + \\delta_4$"
      ],
      "text/plain": [
       "<IPython.core.display.Math object>"
      ]
     },
     "metadata": {},
     "output_type": "display_data"
    },
    {
     "data": {
      "text/latex": [
       "$\\displaystyle x_{5} = \\left[\\begin{matrix}-1273.34280071334\\\\1594.114520642\\end{matrix}\\right] \\quad (k = 0)$"
      ],
      "text/plain": [
       "<IPython.core.display.Math object>"
      ]
     },
     "metadata": {},
     "output_type": "display_data"
    },
    {
     "data": {
      "text/latex": [
       "$\\displaystyle \\|f(x_5)\\|_2 = 7.32410687763558e-15$"
      ],
      "text/plain": [
       "<IPython.core.display.Math object>"
      ]
     },
     "metadata": {},
     "output_type": "display_data"
    },
    {
     "data": {
      "text/latex": [
       "$\\displaystyle \\|x_5 - x_4\\|_2 = 2.3712853278060503e-08$"
      ],
      "text/plain": [
       "<IPython.core.display.Math object>"
      ]
     },
     "metadata": {},
     "output_type": "display_data"
    },
    {
     "name": "stdout",
     "output_type": "stream",
     "text": [
      "\n",
      "ITERATION 6\n",
      "-------------------------------------\n"
     ]
    },
    {
     "data": {
      "text/latex": [
       "$\\displaystyle \\delta_{5} \\text{ ist die Lösung des LGS } Df(x_{5}) * \\delta_{5} = -1 * f(x_{5})$"
      ],
      "text/plain": [
       "<IPython.core.display.Math object>"
      ]
     },
     "metadata": {},
     "output_type": "display_data"
    },
    {
     "data": {
      "text/latex": [
       "$\\displaystyle \\left[\\begin{matrix}-0.0736121401730453 & -0.0575451057917119\\\\0.0182777874024981 & 0.0281115227358848\\end{matrix}\\right]\\cdot\\delta_{5}=-1\\cdot\\left[\\begin{matrix}7.105427357601 \\cdot 10^{-15}\\\\-1.77635683940025 \\cdot 10^{-15}\\end{matrix}\\right]$"
      ],
      "text/plain": [
       "<IPython.core.display.Math object>"
      ]
     },
     "metadata": {},
     "output_type": "display_data"
    },
    {
     "data": {
      "text/latex": [
       "$\\displaystyle \\delta_{5} = \\left[\\begin{matrix}9.58415165188225 \\cdot 10^{-14}\\\\8.7458713521827 \\cdot 10^{-16}\\end{matrix}\\right]$"
      ],
      "text/plain": [
       "<IPython.core.display.Math object>"
      ]
     },
     "metadata": {},
     "output_type": "display_data"
    },
    {
     "data": {
      "text/latex": [
       "$\\displaystyle \\text{Berechne das Residuum der letzten Iteration } \\|f(x(n))\\|_2 = 7.32410687763558e-15$"
      ],
      "text/plain": [
       "<IPython.core.display.Math object>"
      ]
     },
     "metadata": {},
     "output_type": "display_data"
    },
    {
     "name": "stdout",
     "output_type": "stream",
     "text": [
      "\n",
      "Versuche es mit k = 0:\n"
     ]
    },
    {
     "data": {
      "text/latex": [
       "$\\displaystyle \\text{Berechne das neue Residuum } \\|f(x_n + \\frac{\\delta(n)}{2^k})\\|_2 = 7.32410687763558e-15$"
      ],
      "text/plain": [
       "<IPython.core.display.Math object>"
      ]
     },
     "metadata": {},
     "output_type": "display_data"
    },
    {
     "name": "stdout",
     "output_type": "stream",
     "text": [
      "Das neue Residuum ist grösser oder gleich gross, versuche ein anderes k (bzw. k = 0 wenn k_max erreicht ist)\n",
      "\n",
      "\n",
      "Versuche es mit k = 1:\n"
     ]
    },
    {
     "data": {
      "text/latex": [
       "$\\displaystyle \\text{Berechne das neue Residuum } \\|f(x_n + \\frac{\\delta(n)}{2^k})\\|_2 = 7.32410687763558e-15$"
      ],
      "text/plain": [
       "<IPython.core.display.Math object>"
      ]
     },
     "metadata": {},
     "output_type": "display_data"
    },
    {
     "name": "stdout",
     "output_type": "stream",
     "text": [
      "Das neue Residuum ist grösser oder gleich gross, versuche ein anderes k (bzw. k = 0 wenn k_max erreicht ist)\n",
      "\n",
      "\n",
      "Versuche es mit k = 2:\n"
     ]
    },
    {
     "data": {
      "text/latex": [
       "$\\displaystyle \\text{Berechne das neue Residuum } \\|f(x_n + \\frac{\\delta(n)}{2^k})\\|_2 = 7.32410687763558e-15$"
      ],
      "text/plain": [
       "<IPython.core.display.Math object>"
      ]
     },
     "metadata": {},
     "output_type": "display_data"
    },
    {
     "name": "stdout",
     "output_type": "stream",
     "text": [
      "Das neue Residuum ist grösser oder gleich gross, versuche ein anderes k (bzw. k = 0 wenn k_max erreicht ist)\n",
      "\n",
      "\n",
      "Versuche es mit k = 3:\n"
     ]
    },
    {
     "data": {
      "text/latex": [
       "$\\displaystyle \\text{Berechne das neue Residuum } \\|f(x_n + \\frac{\\delta(n)}{2^k})\\|_2 = 7.32410687763558e-15$"
      ],
      "text/plain": [
       "<IPython.core.display.Math object>"
      ]
     },
     "metadata": {},
     "output_type": "display_data"
    },
    {
     "name": "stdout",
     "output_type": "stream",
     "text": [
      "Das neue Residuum ist grösser oder gleich gross, versuche ein anderes k (bzw. k = 0 wenn k_max erreicht ist)\n",
      "\n",
      "\n",
      "Versuche es mit k = 4:\n"
     ]
    },
    {
     "data": {
      "text/latex": [
       "$\\displaystyle \\text{Berechne das neue Residuum } \\|f(x_n + \\frac{\\delta(n)}{2^k})\\|_2 = 7.32410687763558e-15$"
      ],
      "text/plain": [
       "<IPython.core.display.Math object>"
      ]
     },
     "metadata": {},
     "output_type": "display_data"
    },
    {
     "name": "stdout",
     "output_type": "stream",
     "text": [
      "Das neue Residuum ist grösser oder gleich gross, versuche ein anderes k (bzw. k = 0 wenn k_max erreicht ist)\n",
      "\n"
     ]
    },
    {
     "data": {
      "text/latex": [
       "$\\displaystyle x_{6} = \\left[\\begin{matrix}-1273.34280071334\\\\1594.114520642\\end{matrix}\\right] \\quad (k = 0)$"
      ],
      "text/plain": [
       "<IPython.core.display.Math object>"
      ]
     },
     "metadata": {},
     "output_type": "display_data"
    },
    {
     "data": {
      "text/latex": [
       "$\\displaystyle \\|f(x_6)\\|_2 = 7.32410687763558e-15$"
      ],
      "text/plain": [
       "<IPython.core.display.Math object>"
      ]
     },
     "metadata": {},
     "output_type": "display_data"
    },
    {
     "data": {
      "text/latex": [
       "$\\displaystyle \\|x_6 - x_5\\|_2 = 0.0$"
      ],
      "text/plain": [
       "<IPython.core.display.Math object>"
      ]
     },
     "metadata": {},
     "output_type": "display_data"
    },
    {
     "name": "stdout",
     "output_type": "stream",
     "text": [
      "\n",
      "ITERATION 7\n",
      "-------------------------------------\n"
     ]
    },
    {
     "data": {
      "text/latex": [
       "$\\displaystyle \\delta_{6} \\text{ ist die Lösung des LGS } Df(x_{6}) * \\delta_{6} = -1 * f(x_{6})$"
      ],
      "text/plain": [
       "<IPython.core.display.Math object>"
      ]
     },
     "metadata": {},
     "output_type": "display_data"
    },
    {
     "data": {
      "text/latex": [
       "$\\displaystyle \\left[\\begin{matrix}-0.0736121401730453 & -0.0575451057917119\\\\0.0182777874024981 & 0.0281115227358848\\end{matrix}\\right]\\cdot\\delta_{6}=-1\\cdot\\left[\\begin{matrix}7.105427357601 \\cdot 10^{-15}\\\\-1.77635683940025 \\cdot 10^{-15}\\end{matrix}\\right]$"
      ],
      "text/plain": [
       "<IPython.core.display.Math object>"
      ]
     },
     "metadata": {},
     "output_type": "display_data"
    },
    {
     "data": {
      "text/latex": [
       "$\\displaystyle \\delta_{6} = \\left[\\begin{matrix}9.58415165188225 \\cdot 10^{-14}\\\\8.7458713521827 \\cdot 10^{-16}\\end{matrix}\\right]$"
      ],
      "text/plain": [
       "<IPython.core.display.Math object>"
      ]
     },
     "metadata": {},
     "output_type": "display_data"
    },
    {
     "data": {
      "text/latex": [
       "$\\displaystyle \\text{Berechne das Residuum der letzten Iteration } \\|f(x(n))\\|_2 = 7.32410687763558e-15$"
      ],
      "text/plain": [
       "<IPython.core.display.Math object>"
      ]
     },
     "metadata": {},
     "output_type": "display_data"
    },
    {
     "name": "stdout",
     "output_type": "stream",
     "text": [
      "\n",
      "Versuche es mit k = 0:\n"
     ]
    },
    {
     "data": {
      "text/latex": [
       "$\\displaystyle \\text{Berechne das neue Residuum } \\|f(x_n + \\frac{\\delta(n)}{2^k})\\|_2 = 7.32410687763558e-15$"
      ],
      "text/plain": [
       "<IPython.core.display.Math object>"
      ]
     },
     "metadata": {},
     "output_type": "display_data"
    },
    {
     "name": "stdout",
     "output_type": "stream",
     "text": [
      "Das neue Residuum ist grösser oder gleich gross, versuche ein anderes k (bzw. k = 0 wenn k_max erreicht ist)\n",
      "\n",
      "\n",
      "Versuche es mit k = 1:\n"
     ]
    },
    {
     "data": {
      "text/latex": [
       "$\\displaystyle \\text{Berechne das neue Residuum } \\|f(x_n + \\frac{\\delta(n)}{2^k})\\|_2 = 7.32410687763558e-15$"
      ],
      "text/plain": [
       "<IPython.core.display.Math object>"
      ]
     },
     "metadata": {},
     "output_type": "display_data"
    },
    {
     "name": "stdout",
     "output_type": "stream",
     "text": [
      "Das neue Residuum ist grösser oder gleich gross, versuche ein anderes k (bzw. k = 0 wenn k_max erreicht ist)\n",
      "\n",
      "\n",
      "Versuche es mit k = 2:\n"
     ]
    },
    {
     "data": {
      "text/latex": [
       "$\\displaystyle \\text{Berechne das neue Residuum } \\|f(x_n + \\frac{\\delta(n)}{2^k})\\|_2 = 7.32410687763558e-15$"
      ],
      "text/plain": [
       "<IPython.core.display.Math object>"
      ]
     },
     "metadata": {},
     "output_type": "display_data"
    },
    {
     "name": "stdout",
     "output_type": "stream",
     "text": [
      "Das neue Residuum ist grösser oder gleich gross, versuche ein anderes k (bzw. k = 0 wenn k_max erreicht ist)\n",
      "\n",
      "\n",
      "Versuche es mit k = 3:\n"
     ]
    },
    {
     "data": {
      "text/latex": [
       "$\\displaystyle \\text{Berechne das neue Residuum } \\|f(x_n + \\frac{\\delta(n)}{2^k})\\|_2 = 7.32410687763558e-15$"
      ],
      "text/plain": [
       "<IPython.core.display.Math object>"
      ]
     },
     "metadata": {},
     "output_type": "display_data"
    },
    {
     "name": "stdout",
     "output_type": "stream",
     "text": [
      "Das neue Residuum ist grösser oder gleich gross, versuche ein anderes k (bzw. k = 0 wenn k_max erreicht ist)\n",
      "\n",
      "\n",
      "Versuche es mit k = 4:\n"
     ]
    },
    {
     "data": {
      "text/latex": [
       "$\\displaystyle \\text{Berechne das neue Residuum } \\|f(x_n + \\frac{\\delta(n)}{2^k})\\|_2 = 7.32410687763558e-15$"
      ],
      "text/plain": [
       "<IPython.core.display.Math object>"
      ]
     },
     "metadata": {},
     "output_type": "display_data"
    },
    {
     "name": "stdout",
     "output_type": "stream",
     "text": [
      "Das neue Residuum ist grösser oder gleich gross, versuche ein anderes k (bzw. k = 0 wenn k_max erreicht ist)\n",
      "\n"
     ]
    },
    {
     "data": {
      "text/latex": [
       "$\\displaystyle x_{7} = \\left[\\begin{matrix}-1273.34280071334\\\\1594.114520642\\end{matrix}\\right] \\quad (k = 0)$"
      ],
      "text/plain": [
       "<IPython.core.display.Math object>"
      ]
     },
     "metadata": {},
     "output_type": "display_data"
    },
    {
     "data": {
      "text/latex": [
       "$\\displaystyle \\|f(x_7)\\|_2 = 7.32410687763558e-15$"
      ],
      "text/plain": [
       "<IPython.core.display.Math object>"
      ]
     },
     "metadata": {},
     "output_type": "display_data"
    },
    {
     "data": {
      "text/latex": [
       "$\\displaystyle \\|x_7 - x_6\\|_2 = 0.0$"
      ],
      "text/plain": [
       "<IPython.core.display.Math object>"
      ]
     },
     "metadata": {},
     "output_type": "display_data"
    },
    {
     "name": "stdout",
     "output_type": "stream",
     "text": [
      "\n",
      "ITERATION 8\n",
      "-------------------------------------\n"
     ]
    },
    {
     "data": {
      "text/latex": [
       "$\\displaystyle \\delta_{7} \\text{ ist die Lösung des LGS } Df(x_{7}) * \\delta_{7} = -1 * f(x_{7})$"
      ],
      "text/plain": [
       "<IPython.core.display.Math object>"
      ]
     },
     "metadata": {},
     "output_type": "display_data"
    },
    {
     "data": {
      "text/latex": [
       "$\\displaystyle \\left[\\begin{matrix}-0.0736121401730453 & -0.0575451057917119\\\\0.0182777874024981 & 0.0281115227358848\\end{matrix}\\right]\\cdot\\delta_{7}=-1\\cdot\\left[\\begin{matrix}7.105427357601 \\cdot 10^{-15}\\\\-1.77635683940025 \\cdot 10^{-15}\\end{matrix}\\right]$"
      ],
      "text/plain": [
       "<IPython.core.display.Math object>"
      ]
     },
     "metadata": {},
     "output_type": "display_data"
    },
    {
     "data": {
      "text/latex": [
       "$\\displaystyle \\delta_{7} = \\left[\\begin{matrix}9.58415165188225 \\cdot 10^{-14}\\\\8.7458713521827 \\cdot 10^{-16}\\end{matrix}\\right]$"
      ],
      "text/plain": [
       "<IPython.core.display.Math object>"
      ]
     },
     "metadata": {},
     "output_type": "display_data"
    },
    {
     "data": {
      "text/latex": [
       "$\\displaystyle \\text{Berechne das Residuum der letzten Iteration } \\|f(x(n))\\|_2 = 7.32410687763558e-15$"
      ],
      "text/plain": [
       "<IPython.core.display.Math object>"
      ]
     },
     "metadata": {},
     "output_type": "display_data"
    },
    {
     "name": "stdout",
     "output_type": "stream",
     "text": [
      "\n",
      "Versuche es mit k = 0:\n"
     ]
    },
    {
     "data": {
      "text/latex": [
       "$\\displaystyle \\text{Berechne das neue Residuum } \\|f(x_n + \\frac{\\delta(n)}{2^k})\\|_2 = 7.32410687763558e-15$"
      ],
      "text/plain": [
       "<IPython.core.display.Math object>"
      ]
     },
     "metadata": {},
     "output_type": "display_data"
    },
    {
     "name": "stdout",
     "output_type": "stream",
     "text": [
      "Das neue Residuum ist grösser oder gleich gross, versuche ein anderes k (bzw. k = 0 wenn k_max erreicht ist)\n",
      "\n",
      "\n",
      "Versuche es mit k = 1:\n"
     ]
    },
    {
     "data": {
      "text/latex": [
       "$\\displaystyle \\text{Berechne das neue Residuum } \\|f(x_n + \\frac{\\delta(n)}{2^k})\\|_2 = 7.32410687763558e-15$"
      ],
      "text/plain": [
       "<IPython.core.display.Math object>"
      ]
     },
     "metadata": {},
     "output_type": "display_data"
    },
    {
     "name": "stdout",
     "output_type": "stream",
     "text": [
      "Das neue Residuum ist grösser oder gleich gross, versuche ein anderes k (bzw. k = 0 wenn k_max erreicht ist)\n",
      "\n",
      "\n",
      "Versuche es mit k = 2:\n"
     ]
    },
    {
     "data": {
      "text/latex": [
       "$\\displaystyle \\text{Berechne das neue Residuum } \\|f(x_n + \\frac{\\delta(n)}{2^k})\\|_2 = 7.32410687763558e-15$"
      ],
      "text/plain": [
       "<IPython.core.display.Math object>"
      ]
     },
     "metadata": {},
     "output_type": "display_data"
    },
    {
     "name": "stdout",
     "output_type": "stream",
     "text": [
      "Das neue Residuum ist grösser oder gleich gross, versuche ein anderes k (bzw. k = 0 wenn k_max erreicht ist)\n",
      "\n",
      "\n",
      "Versuche es mit k = 3:\n"
     ]
    },
    {
     "data": {
      "text/latex": [
       "$\\displaystyle \\text{Berechne das neue Residuum } \\|f(x_n + \\frac{\\delta(n)}{2^k})\\|_2 = 7.32410687763558e-15$"
      ],
      "text/plain": [
       "<IPython.core.display.Math object>"
      ]
     },
     "metadata": {},
     "output_type": "display_data"
    },
    {
     "name": "stdout",
     "output_type": "stream",
     "text": [
      "Das neue Residuum ist grösser oder gleich gross, versuche ein anderes k (bzw. k = 0 wenn k_max erreicht ist)\n",
      "\n",
      "\n",
      "Versuche es mit k = 4:\n"
     ]
    },
    {
     "data": {
      "text/latex": [
       "$\\displaystyle \\text{Berechne das neue Residuum } \\|f(x_n + \\frac{\\delta(n)}{2^k})\\|_2 = 7.32410687763558e-15$"
      ],
      "text/plain": [
       "<IPython.core.display.Math object>"
      ]
     },
     "metadata": {},
     "output_type": "display_data"
    },
    {
     "name": "stdout",
     "output_type": "stream",
     "text": [
      "Das neue Residuum ist grösser oder gleich gross, versuche ein anderes k (bzw. k = 0 wenn k_max erreicht ist)\n",
      "\n"
     ]
    },
    {
     "data": {
      "text/latex": [
       "$\\displaystyle x_{8} = \\left[\\begin{matrix}-1273.34280071334\\\\1594.114520642\\end{matrix}\\right] \\quad (k = 0)$"
      ],
      "text/plain": [
       "<IPython.core.display.Math object>"
      ]
     },
     "metadata": {},
     "output_type": "display_data"
    },
    {
     "data": {
      "text/latex": [
       "$\\displaystyle \\|f(x_8)\\|_2 = 7.32410687763558e-15$"
      ],
      "text/plain": [
       "<IPython.core.display.Math object>"
      ]
     },
     "metadata": {},
     "output_type": "display_data"
    },
    {
     "data": {
      "text/latex": [
       "$\\displaystyle \\|x_8 - x_7\\|_2 = 0.0$"
      ],
      "text/plain": [
       "<IPython.core.display.Math object>"
      ]
     },
     "metadata": {},
     "output_type": "display_data"
    },
    {
     "name": "stdout",
     "output_type": "stream",
     "text": [
      "\n",
      "ITERATION 9\n",
      "-------------------------------------\n"
     ]
    },
    {
     "data": {
      "text/latex": [
       "$\\displaystyle \\delta_{8} \\text{ ist die Lösung des LGS } Df(x_{8}) * \\delta_{8} = -1 * f(x_{8})$"
      ],
      "text/plain": [
       "<IPython.core.display.Math object>"
      ]
     },
     "metadata": {},
     "output_type": "display_data"
    },
    {
     "data": {
      "text/latex": [
       "$\\displaystyle \\left[\\begin{matrix}-0.0736121401730453 & -0.0575451057917119\\\\0.0182777874024981 & 0.0281115227358848\\end{matrix}\\right]\\cdot\\delta_{8}=-1\\cdot\\left[\\begin{matrix}7.105427357601 \\cdot 10^{-15}\\\\-1.77635683940025 \\cdot 10^{-15}\\end{matrix}\\right]$"
      ],
      "text/plain": [
       "<IPython.core.display.Math object>"
      ]
     },
     "metadata": {},
     "output_type": "display_data"
    },
    {
     "data": {
      "text/latex": [
       "$\\displaystyle \\delta_{8} = \\left[\\begin{matrix}9.58415165188225 \\cdot 10^{-14}\\\\8.7458713521827 \\cdot 10^{-16}\\end{matrix}\\right]$"
      ],
      "text/plain": [
       "<IPython.core.display.Math object>"
      ]
     },
     "metadata": {},
     "output_type": "display_data"
    },
    {
     "data": {
      "text/latex": [
       "$\\displaystyle \\text{Berechne das Residuum der letzten Iteration } \\|f(x(n))\\|_2 = 7.32410687763558e-15$"
      ],
      "text/plain": [
       "<IPython.core.display.Math object>"
      ]
     },
     "metadata": {},
     "output_type": "display_data"
    },
    {
     "name": "stdout",
     "output_type": "stream",
     "text": [
      "\n",
      "Versuche es mit k = 0:\n"
     ]
    },
    {
     "data": {
      "text/latex": [
       "$\\displaystyle \\text{Berechne das neue Residuum } \\|f(x_n + \\frac{\\delta(n)}{2^k})\\|_2 = 7.32410687763558e-15$"
      ],
      "text/plain": [
       "<IPython.core.display.Math object>"
      ]
     },
     "metadata": {},
     "output_type": "display_data"
    },
    {
     "name": "stdout",
     "output_type": "stream",
     "text": [
      "Das neue Residuum ist grösser oder gleich gross, versuche ein anderes k (bzw. k = 0 wenn k_max erreicht ist)\n",
      "\n",
      "\n",
      "Versuche es mit k = 1:\n"
     ]
    },
    {
     "data": {
      "text/latex": [
       "$\\displaystyle \\text{Berechne das neue Residuum } \\|f(x_n + \\frac{\\delta(n)}{2^k})\\|_2 = 7.32410687763558e-15$"
      ],
      "text/plain": [
       "<IPython.core.display.Math object>"
      ]
     },
     "metadata": {},
     "output_type": "display_data"
    },
    {
     "name": "stdout",
     "output_type": "stream",
     "text": [
      "Das neue Residuum ist grösser oder gleich gross, versuche ein anderes k (bzw. k = 0 wenn k_max erreicht ist)\n",
      "\n",
      "\n",
      "Versuche es mit k = 2:\n"
     ]
    },
    {
     "data": {
      "text/latex": [
       "$\\displaystyle \\text{Berechne das neue Residuum } \\|f(x_n + \\frac{\\delta(n)}{2^k})\\|_2 = 7.32410687763558e-15$"
      ],
      "text/plain": [
       "<IPython.core.display.Math object>"
      ]
     },
     "metadata": {},
     "output_type": "display_data"
    },
    {
     "name": "stdout",
     "output_type": "stream",
     "text": [
      "Das neue Residuum ist grösser oder gleich gross, versuche ein anderes k (bzw. k = 0 wenn k_max erreicht ist)\n",
      "\n",
      "\n",
      "Versuche es mit k = 3:\n"
     ]
    },
    {
     "data": {
      "text/latex": [
       "$\\displaystyle \\text{Berechne das neue Residuum } \\|f(x_n + \\frac{\\delta(n)}{2^k})\\|_2 = 7.32410687763558e-15$"
      ],
      "text/plain": [
       "<IPython.core.display.Math object>"
      ]
     },
     "metadata": {},
     "output_type": "display_data"
    },
    {
     "name": "stdout",
     "output_type": "stream",
     "text": [
      "Das neue Residuum ist grösser oder gleich gross, versuche ein anderes k (bzw. k = 0 wenn k_max erreicht ist)\n",
      "\n",
      "\n",
      "Versuche es mit k = 4:\n"
     ]
    },
    {
     "data": {
      "text/latex": [
       "$\\displaystyle \\text{Berechne das neue Residuum } \\|f(x_n + \\frac{\\delta(n)}{2^k})\\|_2 = 7.32410687763558e-15$"
      ],
      "text/plain": [
       "<IPython.core.display.Math object>"
      ]
     },
     "metadata": {},
     "output_type": "display_data"
    },
    {
     "name": "stdout",
     "output_type": "stream",
     "text": [
      "Das neue Residuum ist grösser oder gleich gross, versuche ein anderes k (bzw. k = 0 wenn k_max erreicht ist)\n",
      "\n"
     ]
    },
    {
     "data": {
      "text/latex": [
       "$\\displaystyle x_{9} = \\left[\\begin{matrix}-1273.34280071334\\\\1594.114520642\\end{matrix}\\right] \\quad (k = 0)$"
      ],
      "text/plain": [
       "<IPython.core.display.Math object>"
      ]
     },
     "metadata": {},
     "output_type": "display_data"
    },
    {
     "data": {
      "text/latex": [
       "$\\displaystyle \\|f(x_9)\\|_2 = 7.32410687763558e-15$"
      ],
      "text/plain": [
       "<IPython.core.display.Math object>"
      ]
     },
     "metadata": {},
     "output_type": "display_data"
    },
    {
     "data": {
      "text/latex": [
       "$\\displaystyle \\|x_9 - x_8\\|_2 = 0.0$"
      ],
      "text/plain": [
       "<IPython.core.display.Math object>"
      ]
     },
     "metadata": {},
     "output_type": "display_data"
    },
    {
     "name": "stdout",
     "output_type": "stream",
     "text": [
      "\n",
      "-------------------------------------\n",
      "\n"
     ]
    },
    {
     "data": {
      "text/latex": [
       "$\\displaystyle \\text{Die approximierten}\\left[\\begin{matrix}-1000.0 & 900.0\\\\-1357.7846781424 & 1638.87034820344\\\\-1276.83756162283 & 1595.87861927963\\\\-1273.34922727765 & 1594.11760200589\\\\-1273.34280073491 & 1594.11452065184\\\\-1273.34280071334 & 1594.114520642\\\\-1273.34280071334 & 1594.114520642\\\\-1273.34280071334 & 1594.114520642\\\\-1273.34280071334 & 1594.114520642\\\\-1273.34280071334 & 1594.114520642\\end{matrix}\\right]$"
      ],
      "text/plain": [
       "<IPython.core.display.Math object>"
      ]
     },
     "metadata": {},
     "output_type": "display_data"
    }
   ],
   "source": [
    "from IPython.display import display, Math\n",
    "import sympy as sy\n",
    "import numpy as np\n",
    "\n",
    "# Definieren der Symbole\n",
    "x1, x2, x3, x4, x5, x6, x7, x8, x9 = sy.symbols('x1, x2, x3, x4, x5, x6, x7, x8, x9')\n",
    "\n",
    "# Abbruchkriterium a): Abbruch nach einer bestimmten Anzahl Iterationen\n",
    "def is_finished_max_iterations(f, x, n_max):\n",
    "    return x.shape[0] - 1 >= n_max\n",
    "\n",
    "# Abbruchkriterium b): Abbruch, wenn ‖x(n+1) - x(n)‖₂ ≤ ‖x(n+1)‖₂ * 𝛜\n",
    "def is_finished_relative_error(f, x, eps):\n",
    "    if x.shape[0] < 2:\n",
    "        return False\n",
    "    return np.linalg.norm(x[-1] - x[-2], 2) <= np.linalg.norm(x[-1], 2) * eps\n",
    "\n",
    "# Abbruchkriterium c): Abbruch, wenn ‖x(n+1) - x(n)‖₂ ≤ 𝛜\n",
    "def is_finished_absolute_error(f, x, eps):\n",
    "    if x.shape[0] < 2:\n",
    "        return False\n",
    "    return np.linalg.norm(x[-1] - x[-2], 2) <= eps\n",
    "\n",
    "# Abbruchkriterium d): Abbruch, wenn ‖f(x(n+1))‖₂ ≤ 𝛜\n",
    "def is_finished_max_residual(f, x, eps):\n",
    "    if x.shape[0] < 1:\n",
    "        return False\n",
    "    return np.linalg.norm(f(x[-1]), 2) <= eps\n",
    "\n",
    "\"\"\"\n",
    "=======================================================================================================================\n",
    "INPUT\n",
    "=======================================================================================================================\n",
    "\"\"\"\n",
    "\n",
    "# ACHTUNG: Für sinus/cosinus/Exponentialfunktion immer sy.sin/sy.cos/sy.exp/sy.ln/sy.abs verwenden!\n",
    "f = sy.Matrix([\n",
    "    x1 ** 2 / 186 ** 2 - x2 ** 2 / (300 ** 2 - 186 ** 2) - 1,\n",
    "    (x2 - 500) ** 2 / 279 ** 2 - (x1 - 300) ** 2 / (500 ** 2 - 279 ** 2) - 1\n",
    "])\n",
    "# f = sy.Matrix([\n",
    "#     x1 + x2 * sy.exp(x3 * 1) - 40,\n",
    "#     x1 + x2 * sy.exp(x3 * 1.6) - 250,\n",
    "#     x1 + x2 * sy.exp(x3 * 2) - 800\n",
    "# ])\n",
    "\n",
    "x = sy.Matrix([x1, x2])\n",
    "# x = sy.Matrix([x1, x2, x3])\n",
    "\n",
    "# Startwert\n",
    "x0 = np.array([-1000, 900])  \n",
    "# x0 = np.array([1, 2, 3])\n",
    "\n",
    "k_max = 4  # Maximale Alternativen für 𝛅 (vgl. Skript Seite 107)\n",
    "\n",
    "# Wähle das Abbruchkriterium (bei passender Zeile Kommentar entfernen):\n",
    "def is_finished(f, x):\n",
    "    return is_finished_max_iterations(f, x, 9)      # Abbruchkriterium a)\n",
    "    # return is_finished_relative_error(f, x, 1e-5)  # Abbruchkriterium b)\n",
    "    # return is_finished_absolute_error(f, x, 1e-5)  # Abbruchkriterium c)\n",
    "    # return is_finished_max_residual(f, x, 1e-5)    # Abbruchkriterium d)\n",
    "\n",
    "\"\"\"\n",
    "=======================================================================================================================\n",
    "\"\"\"\n",
    "\n",
    "display(Math(r'\\text{Bilde die Jacobi-Matrix } Df(x) \\text{ für } f(x) = ' + sy.latex(f) + r' \\text{ mit } x = ' + sy.latex(x)))\n",
    "\n",
    "# Berechnung der Jacobi-Matrix\n",
    "Df = f.jacobian(x)\n",
    "\n",
    "display(Math(r'\\text{Ganze Jacobi-Matrix: } Df = ' + sy.latex(Df)))\n",
    "\n",
    "# Sympy-Funktionen in NumPy-kompatible Funktionen umwandeln\n",
    "f_lambda = sy.lambdify([x], f, \"numpy\")\n",
    "Df_lambda = sy.lambdify([x], Df, \"numpy\")\n",
    "\n",
    "# Newton-Iterationen\n",
    "x_approx = np.empty(shape=(0, len(x)), dtype=np.float64)  # Array mit Lösungsvektoren x0 bis xn\n",
    "x_approx = np.append(x_approx, [x0], axis=0)  # Startwert in Array einfügen\n",
    "display(Math(r'x({0}) = ' + sy.latex(sy.Matrix(x0))))\n",
    "\n",
    "while not is_finished(f_lambda, x_approx):\n",
    "    i = x_approx.shape[0] - 1\n",
    "    print()\n",
    "    print(f'ITERATION {i + 1}')\n",
    "    print('-------------------------------------')\n",
    "\n",
    "    x_n = x_approx[-1]  # x(n) (letzter berechneter Wert)\n",
    "\n",
    "    display(Math(r'\\delta_{' + str(i) + r'} \\text{ ist die Lösung des LGS } Df(x_{' + str(i) + r'}) * \\delta_{' + str(i) + r'} = -1 * f(x_{' + str(i) + r'})'))\n",
    "    display(Math(sy.latex(sy.Matrix(Df_lambda(x_n))) + '\\\\cdot\\\\delta_{' + str(i) + '}=-1\\\\cdot' + sy.latex(sy.Matrix(f_lambda(x_n)))))\n",
    "\n",
    "    Q, R = np.linalg.qr(Df_lambda(x_n))\n",
    "    delta = np.linalg.solve(R, -Q.T @ f_lambda(x_n)).flatten()  # 𝛅(n) aus Df(x(n)) * 𝛅(n) = -1 * f(x(n))\n",
    "    display(Math(r'\\delta_{' + str(i) + r'} = ' + sy.latex(sy.Matrix(delta))))\n",
    "\n",
    "    x_next = x_n + delta.reshape(x0.shape[0], )  # x(n+1) = x(n) + 𝛅(n) (provisorischer Kandidat, falls Dämpfung nichts nützt)\n",
    "\n",
    "    # Finde das minimale k ∈ {0, 1, ..., k_max} für welches 𝛅(n) / 2^k eine verbessernde Lösung ist (vgl. Skript S. 107)\n",
    "    last_residual = np.linalg.norm(f_lambda(x_n), 2)  # ‖f(x(n))‖₂\n",
    "    display(Math(r'\\text{Berechne das Residuum der letzten Iteration } \\|f(x(n))\\|_2 = ' + str(last_residual)))\n",
    "\n",
    "    k = 0\n",
    "    k_actual = 0\n",
    "    while k <= k_max:\n",
    "        print()\n",
    "        print('Versuche es mit k = ' + str(k) + ':')\n",
    "        new_residual = np.linalg.norm(f_lambda(x_n + (delta.reshape(x0.shape[0], ) / (2 ** k))), 2)  # ‖f(x(n) + 𝛅(n) / 2^k)‖₂\n",
    "        display(Math(r'\\text{Berechne das neue Residuum } \\|f(x_n + \\frac{\\delta(n)}{2^k})\\|_2 = ' + str(new_residual)))\n",
    "\n",
    "        if new_residual < last_residual:\n",
    "            print('Das neue Residuum ist kleiner, verwende also k = ' + str(k))\n",
    "\n",
    "            delta = delta / (2**k)\n",
    "            display(Math(r'\\delta_{} = \\frac{{\\delta_{}}}{{2^{}}}= {}'.format(i, i, k, sy.latex(sy.Matrix(delta.T)))))\n",
    "\n",
    "            x_next = x_n + delta.reshape(x0.shape[0], )  # x(n+1) = x(n) + 𝛅(n) / 2^k\n",
    "            print()\n",
    "            display(Math(r'x_{} = x_{} + \\delta_{}'.format(i + 1, i, i)))\n",
    "\n",
    "            k_actual = k\n",
    "            break  # Minimales k, für welches das Residuum besser ist wurde gefunden -> abbrechen\n",
    "        else:\n",
    "            print('Das neue Residuum ist grösser oder gleich gross, versuche ein anderes k (bzw. k = 0 wenn k_max erreicht ist)')\n",
    "\n",
    "        print()\n",
    "        k += 1\n",
    "\n",
    "    x_approx = np.append(x_approx, [x_next], axis=0)\n",
    "\n",
    "    display(Math(r'x_{{{}}} = {} \\quad (k = {})'.format(x_approx.shape[0] - 1, sy.latex(sy.Matrix(x_next)), k_actual)))\n",
    "    display(Math(r'\\|f(x_{})\\|_2 = {}'.format(i + 1, np.linalg.norm(f_lambda(x_next), 2))))\n",
    "    display(Math(r'\\|x_{} - x_{}\\|_2 = {}'.format(i + 1, i, np.linalg.norm(x_next - x_n, 2))))\n",
    "\n",
    "print()\n",
    "print('-------------------------------------')\n",
    "print()\n",
    "\n",
    "display(Math(r'\\text{Die approximierten}' + sy.latex(sy.Matrix(x_approx))))"
   ]
  }
 ],
 "metadata": {
  "kernelspec": {
   "display_name": "base",
   "language": "python",
   "name": "python3"
  },
  "language_info": {
   "codemirror_mode": {
    "name": "ipython",
    "version": 3
   },
   "file_extension": ".py",
   "mimetype": "text/x-python",
   "name": "python",
   "nbconvert_exporter": "python",
   "pygments_lexer": "ipython3",
   "version": "3.11.8"
  }
 },
 "nbformat": 4,
 "nbformat_minor": 2
}
