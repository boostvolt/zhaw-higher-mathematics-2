{
 "cells": [
  {
   "cell_type": "code",
   "execution_count": 31,
   "metadata": {},
   "outputs": [
    {
     "data": {
      "text/latex": [
       "$\\displaystyle \\text{Bilde die Jacobi-Matrix } Df(x) \\text{ für } f(x) = \\left[\\begin{matrix}\\frac{x_{1}^{2}}{34596} - \\frac{x_{2}^{2}}{55404} - 1\\\\- \\frac{\\left(x_{1} - 300\\right)^{2}}{172159} + \\frac{\\left(x_{2} - 500\\right)^{2}}{77841} - 1\\end{matrix}\\right] \\text{ mit } x = \\left[\\begin{matrix}x_{1}\\\\x_{2}\\end{matrix}\\right]$"
      ],
      "text/plain": [
       "<IPython.core.display.Math object>"
      ]
     },
     "metadata": {},
     "output_type": "display_data"
    },
    {
     "data": {
      "text/latex": [
       "$\\displaystyle \\text{Ganze Jacobi-Matrix: } Df = \\left[\\begin{matrix}\\frac{x_{1}}{17298} & - \\frac{x_{2}}{27702}\\\\\\frac{600}{172159} - \\frac{2 x_{1}}{172159} & \\frac{2 x_{2}}{77841} - \\frac{1000}{77841}\\end{matrix}\\right]$"
      ],
      "text/plain": [
       "<IPython.core.display.Math object>"
      ]
     },
     "metadata": {},
     "output_type": "display_data"
    },
    {
     "data": {
      "text/latex": [
       "$\\displaystyle x({0}) = \\left[\\begin{matrix}-1000\\\\1500\\end{matrix}\\right]$"
      ],
      "text/plain": [
       "<IPython.core.display.Math object>"
      ]
     },
     "metadata": {},
     "output_type": "display_data"
    },
    {
     "name": "stdout",
     "output_type": "stream",
     "text": [
      "\n",
      "ITERATION 1\n",
      "-------------------------------------\n"
     ]
    },
    {
     "data": {
      "text/latex": [
       "$\\displaystyle \\delta_{0} \\text{ ist die Lösung des LGS } Df(x_{0}) * \\delta_{0} = -1 * f(x_{0})$"
      ],
      "text/plain": [
       "<IPython.core.display.Math object>"
      ]
     },
     "metadata": {},
     "output_type": "display_data"
    },
    {
     "data": {
      "text/latex": [
       "$\\displaystyle \\left[\\begin{matrix}-0.0578101514625968 & -0.0541477149664284\\\\0.0151023182058446 & 0.025693400650043\\end{matrix}\\right]\\cdot\\delta_{0}=-1\\cdot\\left[\\begin{matrix}-12.7057104935229\\\\2.03019349122253\\end{matrix}\\right]$"
      ],
      "text/plain": [
       "<IPython.core.display.Math object>"
      ]
     },
     "metadata": {},
     "output_type": "display_data"
    },
    {
     "data": {
      "text/latex": [
       "$\\displaystyle \\delta_{0} = \\left[\\begin{matrix}-324.337879297676\\\\111.626343558185\\end{matrix}\\right]$"
      ],
      "text/plain": [
       "<IPython.core.display.Math object>"
      ]
     },
     "metadata": {},
     "output_type": "display_data"
    },
    {
     "name": "stdout",
     "output_type": "stream",
     "text": [
      "\n"
     ]
    },
    {
     "data": {
      "text/latex": [
       "$\\displaystyle x_{1} = x_{0} + \\delta_{0}$"
      ],
      "text/plain": [
       "<IPython.core.display.Math object>"
      ]
     },
     "metadata": {},
     "output_type": "display_data"
    },
    {
     "data": {
      "text/latex": [
       "$\\displaystyle x_{1} = \\left[\\begin{matrix}-1324.33787929768\\\\1611.62634355818\\end{matrix}\\right]$"
      ],
      "text/plain": [
       "<IPython.core.display.Math object>"
      ]
     },
     "metadata": {},
     "output_type": "display_data"
    },
    {
     "data": {
      "text/latex": [
       "$\\displaystyle \\|f(x_{1})\\|_2 = 2.851652661892706$"
      ],
      "text/plain": [
       "<IPython.core.display.Math object>"
      ]
     },
     "metadata": {},
     "output_type": "display_data"
    },
    {
     "data": {
      "text/latex": [
       "$\\displaystyle \\|x_{1} - x_{0}\\|_2 = 343.00947585086294$"
      ],
      "text/plain": [
       "<IPython.core.display.Math object>"
      ]
     },
     "metadata": {},
     "output_type": "display_data"
    },
    {
     "name": "stdout",
     "output_type": "stream",
     "text": [
      "\n",
      "ITERATION 2\n",
      "-------------------------------------\n"
     ]
    },
    {
     "data": {
      "text/latex": [
       "$\\displaystyle \\delta_{1} \\text{ ist die Lösung des LGS } Df(x_{1}) * \\delta_{1} = -1 * f(x_{1})$"
      ],
      "text/plain": [
       "<IPython.core.display.Math object>"
      ]
     },
     "metadata": {},
     "output_type": "display_data"
    },
    {
     "data": {
      "text/latex": [
       "$\\displaystyle \\left[\\begin{matrix}-0.0765601733898529 & -0.0581772559222506\\\\0.0188702057899695 & 0.0285614610181828\\end{matrix}\\right]\\cdot\\delta_{1}=-1\\cdot\\left[\\begin{matrix}2.8157697127774\\\\-0.450958788233756\\end{matrix}\\right]$"
      ],
      "text/plain": [
       "<IPython.core.display.Math object>"
      ]
     },
     "metadata": {},
     "output_type": "display_data"
    },
    {
     "data": {
      "text/latex": [
       "$\\displaystyle \\delta_{1} = \\left[\\begin{matrix}49.7651394498571\\\\-17.0901493463807\\end{matrix}\\right]$"
      ],
      "text/plain": [
       "<IPython.core.display.Math object>"
      ]
     },
     "metadata": {},
     "output_type": "display_data"
    },
    {
     "name": "stdout",
     "output_type": "stream",
     "text": [
      "\n"
     ]
    },
    {
     "data": {
      "text/latex": [
       "$\\displaystyle x_{2} = x_{1} + \\delta_{1}$"
      ],
      "text/plain": [
       "<IPython.core.display.Math object>"
      ]
     },
     "metadata": {},
     "output_type": "display_data"
    },
    {
     "data": {
      "text/latex": [
       "$\\displaystyle x_{2} = \\left[\\begin{matrix}-1274.57273984782\\\\1594.5361942118\\end{matrix}\\right]$"
      ],
      "text/plain": [
       "<IPython.core.display.Math object>"
      ]
     },
     "metadata": {},
     "output_type": "display_data"
    },
    {
     "data": {
      "text/latex": [
       "$\\displaystyle \\|f(x_{2})\\|_2 = 0.06716080591448517$"
      ],
      "text/plain": [
       "<IPython.core.display.Math object>"
      ]
     },
     "metadata": {},
     "output_type": "display_data"
    },
    {
     "data": {
      "text/latex": [
       "$\\displaystyle \\|x_{2} - x_{1}\\|_2 = 52.617889630289426$"
      ],
      "text/plain": [
       "<IPython.core.display.Math object>"
      ]
     },
     "metadata": {},
     "output_type": "display_data"
    },
    {
     "name": "stdout",
     "output_type": "stream",
     "text": [
      "\n",
      "ITERATION 3\n",
      "-------------------------------------\n"
     ]
    },
    {
     "data": {
      "text/latex": [
       "$\\displaystyle \\delta_{2} \\text{ ist die Lösung des LGS } Df(x_{2}) * \\delta_{2} = -1 * f(x_{2})$"
      ],
      "text/plain": [
       "<IPython.core.display.Math object>"
      ]
     },
     "metadata": {},
     "output_type": "display_data"
    },
    {
     "data": {
      "text/latex": [
       "$\\displaystyle \\left[\\begin{matrix}-0.0736832431406994 & -0.0575603275652229\\\\0.0182920758118695 & 0.0281223569638572\\end{matrix}\\right]\\cdot\\delta_{2}=-1\\cdot\\left[\\begin{matrix}0.0663137186395133\\\\-0.0106331825566297\\end{matrix}\\right]$"
      ],
      "text/plain": [
       "<IPython.core.display.Math object>"
      ]
     },
     "metadata": {},
     "output_type": "display_data"
    },
    {
     "data": {
      "text/latex": [
       "$\\displaystyle \\delta_{2} = \\left[\\begin{matrix}1.22918845128708\\\\-0.421416519128149\\end{matrix}\\right]$"
      ],
      "text/plain": [
       "<IPython.core.display.Math object>"
      ]
     },
     "metadata": {},
     "output_type": "display_data"
    },
    {
     "name": "stdout",
     "output_type": "stream",
     "text": [
      "\n"
     ]
    },
    {
     "data": {
      "text/latex": [
       "$\\displaystyle x_{3} = x_{2} + \\delta_{2}$"
      ],
      "text/plain": [
       "<IPython.core.display.Math object>"
      ]
     },
     "metadata": {},
     "output_type": "display_data"
    },
    {
     "data": {
      "text/latex": [
       "$\\displaystyle x_{3} = \\left[\\begin{matrix}-1273.34355139653\\\\1594.11477769268\\end{matrix}\\right]$"
      ],
      "text/plain": [
       "<IPython.core.display.Math object>"
      ]
     },
     "metadata": {},
     "output_type": "display_data"
    },
    {
     "data": {
      "text/latex": [
       "$\\displaystyle \\|f(x_{3})\\|_2 = 4.098527116670869e-05$"
      ],
      "text/plain": [
       "<IPython.core.display.Math object>"
      ]
     },
     "metadata": {},
     "output_type": "display_data"
    },
    {
     "data": {
      "text/latex": [
       "$\\displaystyle \\|x_{3} - x_{2}\\|_2 = 1.2994214602550336$"
      ],
      "text/plain": [
       "<IPython.core.display.Math object>"
      ]
     },
     "metadata": {},
     "output_type": "display_data"
    },
    {
     "name": "stdout",
     "output_type": "stream",
     "text": [
      "\n",
      "ITERATION 4\n",
      "-------------------------------------\n"
     ]
    },
    {
     "data": {
      "text/latex": [
       "$\\displaystyle \\delta_{3} \\text{ ist die Lösung des LGS } Df(x_{3}) * \\delta_{3} = -1 * f(x_{3})$"
      ],
      "text/plain": [
       "<IPython.core.display.Math object>"
      ]
     },
     "metadata": {},
     "output_type": "display_data"
    },
    {
     "data": {
      "text/latex": [
       "$\\displaystyle \\left[\\begin{matrix}-0.0736121835701545 & -0.0575451150708496\\\\0.0182777961233108 & 0.0281115293403907\\end{matrix}\\right]\\cdot\\delta_{3}=-1\\cdot\\left[\\begin{matrix}4.04674035152652 \\cdot 10^{-5}\\\\-6.49474444003317 \\cdot 10^{-6}\\end{matrix}\\right]$"
      ],
      "text/plain": [
       "<IPython.core.display.Math object>"
      ]
     },
     "metadata": {},
     "output_type": "display_data"
    },
    {
     "data": {
      "text/latex": [
       "$\\displaystyle \\delta_{3} = \\left[\\begin{matrix}0.0007506829149504\\\\-0.000257050576835762\\end{matrix}\\right]$"
      ],
      "text/plain": [
       "<IPython.core.display.Math object>"
      ]
     },
     "metadata": {},
     "output_type": "display_data"
    },
    {
     "name": "stdout",
     "output_type": "stream",
     "text": [
      "\n"
     ]
    },
    {
     "data": {
      "text/latex": [
       "$\\displaystyle x_{4} = x_{3} + \\delta_{3}$"
      ],
      "text/plain": [
       "<IPython.core.display.Math object>"
      ]
     },
     "metadata": {},
     "output_type": "display_data"
    },
    {
     "data": {
      "text/latex": [
       "$\\displaystyle x_{4} = \\left[\\begin{matrix}-1273.34280071362\\\\1594.1145206421\\end{matrix}\\right]$"
      ],
      "text/plain": [
       "<IPython.core.display.Math object>"
      ]
     },
     "metadata": {},
     "output_type": "display_data"
    },
    {
     "data": {
      "text/latex": [
       "$\\displaystyle \\|f(x_{4})\\|_2 = 1.5292485182251903e-11$"
      ],
      "text/plain": [
       "<IPython.core.display.Math object>"
      ]
     },
     "metadata": {},
     "output_type": "display_data"
    },
    {
     "data": {
      "text/latex": [
       "$\\displaystyle \\|x_{4} - x_{3}\\|_2 = 0.0007934732748357863$"
      ],
      "text/plain": [
       "<IPython.core.display.Math object>"
      ]
     },
     "metadata": {},
     "output_type": "display_data"
    },
    {
     "name": "stdout",
     "output_type": "stream",
     "text": [
      "\n",
      "ITERATION 5\n",
      "-------------------------------------\n"
     ]
    },
    {
     "data": {
      "text/latex": [
       "$\\displaystyle \\delta_{4} \\text{ ist die Lösung des LGS } Df(x_{4}) * \\delta_{4} = -1 * f(x_{4})$"
      ],
      "text/plain": [
       "<IPython.core.display.Math object>"
      ]
     },
     "metadata": {},
     "output_type": "display_data"
    },
    {
     "data": {
      "text/latex": [
       "$\\displaystyle \\left[\\begin{matrix}-0.0736121401730614 & -0.0575451057917154\\\\0.0182777874025014 & 0.0281115227358872\\end{matrix}\\right]\\cdot\\delta_{4}=-1\\cdot\\left[\\begin{matrix}1.50990331349021 \\cdot 10^{-11}\\\\-2.42472708578134 \\cdot 10^{-12}\\end{matrix}\\right]$"
      ],
      "text/plain": [
       "<IPython.core.display.Math object>"
      ]
     },
     "metadata": {},
     "output_type": "display_data"
    },
    {
     "data": {
      "text/latex": [
       "$\\displaystyle \\delta_{4} = \\left[\\begin{matrix}2.80010846346635 \\cdot 10^{-10}\\\\-9.58059675187472 \\cdot 10^{-11}\\end{matrix}\\right]$"
      ],
      "text/plain": [
       "<IPython.core.display.Math object>"
      ]
     },
     "metadata": {},
     "output_type": "display_data"
    },
    {
     "name": "stdout",
     "output_type": "stream",
     "text": [
      "\n"
     ]
    },
    {
     "data": {
      "text/latex": [
       "$\\displaystyle x_{5} = x_{4} + \\delta_{4}$"
      ],
      "text/plain": [
       "<IPython.core.display.Math object>"
      ]
     },
     "metadata": {},
     "output_type": "display_data"
    },
    {
     "data": {
      "text/latex": [
       "$\\displaystyle x_{5} = \\left[\\begin{matrix}-1273.34280071334\\\\1594.114520642\\end{matrix}\\right]$"
      ],
      "text/plain": [
       "<IPython.core.display.Math object>"
      ]
     },
     "metadata": {},
     "output_type": "display_data"
    },
    {
     "data": {
      "text/latex": [
       "$\\displaystyle \\|f(x_{5})\\|_2 = 1.464821375527116e-14$"
      ],
      "text/plain": [
       "<IPython.core.display.Math object>"
      ]
     },
     "metadata": {},
     "output_type": "display_data"
    },
    {
     "data": {
      "text/latex": [
       "$\\displaystyle \\|x_{5} - x_{4}\\|_2 = 2.9602838810420675e-10$"
      ],
      "text/plain": [
       "<IPython.core.display.Math object>"
      ]
     },
     "metadata": {},
     "output_type": "display_data"
    },
    {
     "name": "stdout",
     "output_type": "stream",
     "text": [
      "\n",
      "ITERATION 6\n",
      "-------------------------------------\n"
     ]
    },
    {
     "data": {
      "text/latex": [
       "$\\displaystyle \\delta_{5} \\text{ ist die Lösung des LGS } Df(x_{5}) * \\delta_{5} = -1 * f(x_{5})$"
      ],
      "text/plain": [
       "<IPython.core.display.Math object>"
      ]
     },
     "metadata": {},
     "output_type": "display_data"
    },
    {
     "data": {
      "text/latex": [
       "$\\displaystyle \\left[\\begin{matrix}-0.0736121401730453 & -0.0575451057917119\\\\0.0182777874024981 & 0.0281115227358848\\end{matrix}\\right]\\cdot\\delta_{5}=-1\\cdot\\left[\\begin{matrix}-1.4210854715202 \\cdot 10^{-14}\\\\3.5527136788005 \\cdot 10^{-15}\\end{matrix}\\right]$"
      ],
      "text/plain": [
       "<IPython.core.display.Math object>"
      ]
     },
     "metadata": {},
     "output_type": "display_data"
    },
    {
     "data": {
      "text/latex": [
       "$\\displaystyle \\delta_{5} = \\left[\\begin{matrix}-1.91683033037645 \\cdot 10^{-13}\\\\-1.74917427043657 \\cdot 10^{-15}\\end{matrix}\\right]$"
      ],
      "text/plain": [
       "<IPython.core.display.Math object>"
      ]
     },
     "metadata": {},
     "output_type": "display_data"
    },
    {
     "name": "stdout",
     "output_type": "stream",
     "text": [
      "\n"
     ]
    },
    {
     "data": {
      "text/latex": [
       "$\\displaystyle x_{6} = x_{5} + \\delta_{5}$"
      ],
      "text/plain": [
       "<IPython.core.display.Math object>"
      ]
     },
     "metadata": {},
     "output_type": "display_data"
    },
    {
     "data": {
      "text/latex": [
       "$\\displaystyle x_{6} = \\left[\\begin{matrix}-1273.34280071334\\\\1594.114520642\\end{matrix}\\right]$"
      ],
      "text/plain": [
       "<IPython.core.display.Math object>"
      ]
     },
     "metadata": {},
     "output_type": "display_data"
    },
    {
     "data": {
      "text/latex": [
       "$\\displaystyle \\|f(x_{6})\\|_2 = 7.32410687763558e-15$"
      ],
      "text/plain": [
       "<IPython.core.display.Math object>"
      ]
     },
     "metadata": {},
     "output_type": "display_data"
    },
    {
     "data": {
      "text/latex": [
       "$\\displaystyle \\|x_{6} - x_{5}\\|_2 = 2.2737367544323206e-13$"
      ],
      "text/plain": [
       "<IPython.core.display.Math object>"
      ]
     },
     "metadata": {},
     "output_type": "display_data"
    },
    {
     "name": "stdout",
     "output_type": "stream",
     "text": [
      "\n",
      "ITERATION 7\n",
      "-------------------------------------\n"
     ]
    },
    {
     "data": {
      "text/latex": [
       "$\\displaystyle \\delta_{6} \\text{ ist die Lösung des LGS } Df(x_{6}) * \\delta_{6} = -1 * f(x_{6})$"
      ],
      "text/plain": [
       "<IPython.core.display.Math object>"
      ]
     },
     "metadata": {},
     "output_type": "display_data"
    },
    {
     "data": {
      "text/latex": [
       "$\\displaystyle \\left[\\begin{matrix}-0.0736121401730453 & -0.0575451057917119\\\\0.0182777874024981 & 0.0281115227358848\\end{matrix}\\right]\\cdot\\delta_{6}=-1\\cdot\\left[\\begin{matrix}7.105427357601 \\cdot 10^{-15}\\\\-1.77635683940025 \\cdot 10^{-15}\\end{matrix}\\right]$"
      ],
      "text/plain": [
       "<IPython.core.display.Math object>"
      ]
     },
     "metadata": {},
     "output_type": "display_data"
    },
    {
     "data": {
      "text/latex": [
       "$\\displaystyle \\delta_{6} = \\left[\\begin{matrix}9.58415165188225 \\cdot 10^{-14}\\\\8.7458713521827 \\cdot 10^{-16}\\end{matrix}\\right]$"
      ],
      "text/plain": [
       "<IPython.core.display.Math object>"
      ]
     },
     "metadata": {},
     "output_type": "display_data"
    },
    {
     "name": "stdout",
     "output_type": "stream",
     "text": [
      "\n"
     ]
    },
    {
     "data": {
      "text/latex": [
       "$\\displaystyle x_{7} = x_{6} + \\delta_{6}$"
      ],
      "text/plain": [
       "<IPython.core.display.Math object>"
      ]
     },
     "metadata": {},
     "output_type": "display_data"
    },
    {
     "data": {
      "text/latex": [
       "$\\displaystyle x_{7} = \\left[\\begin{matrix}-1273.34280071334\\\\1594.114520642\\end{matrix}\\right]$"
      ],
      "text/plain": [
       "<IPython.core.display.Math object>"
      ]
     },
     "metadata": {},
     "output_type": "display_data"
    },
    {
     "data": {
      "text/latex": [
       "$\\displaystyle \\|f(x_{7})\\|_2 = 7.32410687763558e-15$"
      ],
      "text/plain": [
       "<IPython.core.display.Math object>"
      ]
     },
     "metadata": {},
     "output_type": "display_data"
    },
    {
     "data": {
      "text/latex": [
       "$\\displaystyle \\|x_{7} - x_{6}\\|_2 = 0.0$"
      ],
      "text/plain": [
       "<IPython.core.display.Math object>"
      ]
     },
     "metadata": {},
     "output_type": "display_data"
    },
    {
     "name": "stdout",
     "output_type": "stream",
     "text": [
      "\n",
      "ITERATION 8\n",
      "-------------------------------------\n"
     ]
    },
    {
     "data": {
      "text/latex": [
       "$\\displaystyle \\delta_{7} \\text{ ist die Lösung des LGS } Df(x_{7}) * \\delta_{7} = -1 * f(x_{7})$"
      ],
      "text/plain": [
       "<IPython.core.display.Math object>"
      ]
     },
     "metadata": {},
     "output_type": "display_data"
    },
    {
     "data": {
      "text/latex": [
       "$\\displaystyle \\left[\\begin{matrix}-0.0736121401730453 & -0.0575451057917119\\\\0.0182777874024981 & 0.0281115227358848\\end{matrix}\\right]\\cdot\\delta_{7}=-1\\cdot\\left[\\begin{matrix}7.105427357601 \\cdot 10^{-15}\\\\-1.77635683940025 \\cdot 10^{-15}\\end{matrix}\\right]$"
      ],
      "text/plain": [
       "<IPython.core.display.Math object>"
      ]
     },
     "metadata": {},
     "output_type": "display_data"
    },
    {
     "data": {
      "text/latex": [
       "$\\displaystyle \\delta_{7} = \\left[\\begin{matrix}9.58415165188225 \\cdot 10^{-14}\\\\8.7458713521827 \\cdot 10^{-16}\\end{matrix}\\right]$"
      ],
      "text/plain": [
       "<IPython.core.display.Math object>"
      ]
     },
     "metadata": {},
     "output_type": "display_data"
    },
    {
     "name": "stdout",
     "output_type": "stream",
     "text": [
      "\n"
     ]
    },
    {
     "data": {
      "text/latex": [
       "$\\displaystyle x_{8} = x_{7} + \\delta_{7}$"
      ],
      "text/plain": [
       "<IPython.core.display.Math object>"
      ]
     },
     "metadata": {},
     "output_type": "display_data"
    },
    {
     "data": {
      "text/latex": [
       "$\\displaystyle x_{8} = \\left[\\begin{matrix}-1273.34280071334\\\\1594.114520642\\end{matrix}\\right]$"
      ],
      "text/plain": [
       "<IPython.core.display.Math object>"
      ]
     },
     "metadata": {},
     "output_type": "display_data"
    },
    {
     "data": {
      "text/latex": [
       "$\\displaystyle \\|f(x_{8})\\|_2 = 7.32410687763558e-15$"
      ],
      "text/plain": [
       "<IPython.core.display.Math object>"
      ]
     },
     "metadata": {},
     "output_type": "display_data"
    },
    {
     "data": {
      "text/latex": [
       "$\\displaystyle \\|x_{8} - x_{7}\\|_2 = 0.0$"
      ],
      "text/plain": [
       "<IPython.core.display.Math object>"
      ]
     },
     "metadata": {},
     "output_type": "display_data"
    },
    {
     "name": "stdout",
     "output_type": "stream",
     "text": [
      "\n",
      "ITERATION 9\n",
      "-------------------------------------\n"
     ]
    },
    {
     "data": {
      "text/latex": [
       "$\\displaystyle \\delta_{8} \\text{ ist die Lösung des LGS } Df(x_{8}) * \\delta_{8} = -1 * f(x_{8})$"
      ],
      "text/plain": [
       "<IPython.core.display.Math object>"
      ]
     },
     "metadata": {},
     "output_type": "display_data"
    },
    {
     "data": {
      "text/latex": [
       "$\\displaystyle \\left[\\begin{matrix}-0.0736121401730453 & -0.0575451057917119\\\\0.0182777874024981 & 0.0281115227358848\\end{matrix}\\right]\\cdot\\delta_{8}=-1\\cdot\\left[\\begin{matrix}7.105427357601 \\cdot 10^{-15}\\\\-1.77635683940025 \\cdot 10^{-15}\\end{matrix}\\right]$"
      ],
      "text/plain": [
       "<IPython.core.display.Math object>"
      ]
     },
     "metadata": {},
     "output_type": "display_data"
    },
    {
     "data": {
      "text/latex": [
       "$\\displaystyle \\delta_{8} = \\left[\\begin{matrix}9.58415165188225 \\cdot 10^{-14}\\\\8.7458713521827 \\cdot 10^{-16}\\end{matrix}\\right]$"
      ],
      "text/plain": [
       "<IPython.core.display.Math object>"
      ]
     },
     "metadata": {},
     "output_type": "display_data"
    },
    {
     "name": "stdout",
     "output_type": "stream",
     "text": [
      "\n"
     ]
    },
    {
     "data": {
      "text/latex": [
       "$\\displaystyle x_{9} = x_{8} + \\delta_{8}$"
      ],
      "text/plain": [
       "<IPython.core.display.Math object>"
      ]
     },
     "metadata": {},
     "output_type": "display_data"
    },
    {
     "data": {
      "text/latex": [
       "$\\displaystyle x_{9} = \\left[\\begin{matrix}-1273.34280071334\\\\1594.114520642\\end{matrix}\\right]$"
      ],
      "text/plain": [
       "<IPython.core.display.Math object>"
      ]
     },
     "metadata": {},
     "output_type": "display_data"
    },
    {
     "data": {
      "text/latex": [
       "$\\displaystyle \\|f(x_{9})\\|_2 = 7.32410687763558e-15$"
      ],
      "text/plain": [
       "<IPython.core.display.Math object>"
      ]
     },
     "metadata": {},
     "output_type": "display_data"
    },
    {
     "data": {
      "text/latex": [
       "$\\displaystyle \\|x_{9} - x_{8}\\|_2 = 0.0$"
      ],
      "text/plain": [
       "<IPython.core.display.Math object>"
      ]
     },
     "metadata": {},
     "output_type": "display_data"
    },
    {
     "name": "stdout",
     "output_type": "stream",
     "text": [
      "\n",
      "-------------------------------------\n",
      "\n"
     ]
    },
    {
     "data": {
      "text/latex": [
       "$\\displaystyle \\text{Die approximierten Werte sind: }\\left[\\begin{matrix}-1000.0 & 1500.0\\\\-1324.33787929768 & 1611.62634355818\\\\-1274.57273984782 & 1594.5361942118\\\\-1273.34355139653 & 1594.11477769268\\\\-1273.34280071362 & 1594.1145206421\\\\-1273.34280071334 & 1594.114520642\\\\-1273.34280071334 & 1594.114520642\\\\-1273.34280071334 & 1594.114520642\\\\-1273.34280071334 & 1594.114520642\\\\-1273.34280071334 & 1594.114520642\\end{matrix}\\right]$"
      ],
      "text/plain": [
       "<IPython.core.display.Math object>"
      ]
     },
     "metadata": {},
     "output_type": "display_data"
    }
   ],
   "source": [
    "from IPython.display import display, Math\n",
    "import sympy as sy\n",
    "import numpy as np\n",
    "\n",
    "x1, x2, x3, x4, x5, x6, x7, x8, x9 = sy.symbols('x1, x2, x3, x4, x5, x6, x7, x8, x9')\n",
    "\n",
    "# Abbruchkriterium a): Abbruch nach einer bestimmten Anzahl Iterationen\n",
    "def is_finished_max_iterations(f, x, n_max):\n",
    "    return x.shape[0] - 1 >= n_max\n",
    "\n",
    "# Abbruchkriterium b): Abbruch, wenn ‖x(n+1) - x(n)‖₂ ≤ ‖x(n+1)‖₂ * 𝛜\n",
    "def is_finished_relative_error(f, x, eps):\n",
    "    if x.shape[0] < 2:\n",
    "        return False\n",
    "    return np.linalg.norm(x[-1] - x[-2], 2) <= np.linalg.norm(x[-1], 2) * 1.0 * eps\n",
    "\n",
    "# Abbruchkriterium c): Abbruch, wenn ‖x(n+1) - x(n)‖₂ ≤ 𝛜\n",
    "def is_finished_absolute_error(f, x, eps):\n",
    "    if x.shape[0] < 2:\n",
    "        return False\n",
    "    return np.linalg.norm(x[-1] - x[-2], 2) <= 1.0 * eps\n",
    "\n",
    "# Abbruchkriterium d): Abbruch, wenn ‖f(x(n+1))‖₂ ≤ 𝛜\n",
    "def is_finished_max_residual(f, x, eps):\n",
    "    if x.shape[0] < 1:\n",
    "        return False\n",
    "    return np.linalg.norm(f(x[-1]), 2) <= 1.0 * eps\n",
    "\n",
    "\"\"\"\n",
    "=======================================================================================================================\n",
    "INPUT\n",
    "=======================================================================================================================\n",
    "\"\"\"\n",
    "\n",
    "# ACHTUNG: Für sinus/cosinus/Exponentialfunktion immer sy.sin/sy.cos/sy.exp/sy.ln/sy.abs verwenden!\n",
    "f = sy.Matrix([\n",
    "    x1 ** 2 / 186 ** 2 - x2 ** 2 / (300 ** 2 - 186 ** 2) - 1,\n",
    "    (x2 - 500) ** 2 / 279 ** 2 - (x1 - 300) ** 2 / (500 ** 2 - 279 ** 2) - 1\n",
    "])\n",
    "# f = sy.Matrix([\n",
    "#     x1 + x2 * sy.exp(x3 * 1) - 40,\n",
    "#     x1 + x2 * sy.exp(x3 * 1.6) - 250,\n",
    "#     x1 + x2 * sy.exp(x3 * 2) - 800\n",
    "# ])\n",
    "\n",
    "x = sy.Matrix([x1, x2])\n",
    "# x = sy.Matrix([x1, x2, x3])\n",
    "\n",
    " # Startwert\n",
    "x0 = np.array([-1000, 1500])\n",
    "# x0 = np.array([1, 2, 3])\n",
    "\n",
    "# Wähle das Abbruchkriterium (bei passender Zeile Kommentar entfernen):\n",
    "def is_finished(f, x):\n",
    "    return is_finished_max_iterations(f, x, 9)      # Criterion a)\n",
    "    # return is_finished_relative_error(f, x, 1e-5)  # Criterion b)\n",
    "    # return is_finished_absolute_error(f, x, 1e-5)  # Criterion c)\n",
    "    # return is_finished_max_residual(f, x, 1e-5)    # Criterion d)\n",
    "\n",
    "\"\"\"\n",
    "=======================================================================================================================\n",
    "\"\"\"\n",
    "\n",
    "display(Math(r'\\text{Bilde die Jacobi-Matrix } Df(x) \\text{ für } f(x) = ' + sy.latex(f) + r' \\text{ mit } x = ' + sy.latex(x)))\n",
    "\n",
    "# Bilde die allgemeine Jacobi-Matrix\n",
    "Df = f.jacobian(x)\n",
    "\n",
    "display(Math(r'\\text{Ganze Jacobi-Matrix: } Df = ' + sy.latex(Df)))\n",
    "\n",
    "# Sympy-Funktionen kompatibel mit Numpy machen\n",
    "f_lambda = sy.lambdify([x], f, \"numpy\")\n",
    "Df_lambda = sy.lambdify([x], Df, \"numpy\")\n",
    "\n",
    "# Newton-Iterationen\n",
    "x_approx = np.empty(shape=(0, len(x)), dtype=np.float64) # Array mit Lösungsvektoren x0 bis xn\n",
    "x_approx = np.append(x_approx, [x0], axis=0) # Start-Vektor in Array einfügen\n",
    "display(Math(r'x({0}) = ' + sy.latex(sy.Matrix(x0))))\n",
    "\n",
    "while not is_finished(f_lambda, x_approx):\n",
    "    i = x_approx.shape[0] - 1\n",
    "    print()\n",
    "    print(f'ITERATION {i + 1}')\n",
    "    print('-------------------------------------')\n",
    "\n",
    "    x_n = x_approx[-1] # x(n) (letzter berechneter Wert)\n",
    "\n",
    "    display(Math(r'\\delta_{' + str(i) + r'} \\text{ ist die Lösung des LGS } Df(x_{' + str(i) + r'}) * \\delta_{' + str(i) + r'} = -1 * f(x_{' + str(i) + r'})'))\n",
    "    display(Math(sy.latex(sy.Matrix(Df_lambda(x_n))) + '\\\\cdot\\\\delta_{' + str(i) + '}=-1\\\\cdot' + sy.latex(sy.Matrix(f_lambda(x_n)))))\n",
    "\n",
    "    Q, R = np.linalg.qr(Df_lambda(x_n))\n",
    "    delta = np.linalg.solve(R, -Q.T @ f_lambda(x_n)).flatten()  # 𝛅(n) aus Df(x(n)) * 𝛅(n) = -1 * f(x(n))\n",
    "    display(Math(r'\\delta_{' + str(i) + r'} = ' + sy.latex(sy.Matrix(delta))))\n",
    "\n",
    "    x_next = x_n + delta.reshape(x0.shape[0], )  # x(n+1) = x(n) + 𝛅(n)\n",
    "\n",
    "    print()\n",
    "    display(Math(r'x_{' + str(i + 1) + r'} = x_{' + str(i) + r'} + \\delta_{' + str(i) + r'}'))\n",
    "    display(Math(r'x_{' + str(i + 1) + r'} = ' + sy.latex(sy.Matrix(x_next))))\n",
    "    display(Math(r'\\|f(x_{' + str(i + 1) + r'})\\|_2 = ' + str(np.linalg.norm(f_lambda(x_next), 2))))\n",
    "    display(Math(r'\\|x_{' + str(i + 1) + r'} - x_{' + str(i) + r'}\\|_2 = ' + str(np.linalg.norm(x_next - x_n, 2))))\n",
    "\n",
    "    x_approx = np.append(x_approx, [x_next], axis=0)\n",
    "\n",
    "print()\n",
    "print('-------------------------------------')\n",
    "print()\n",
    "\n",
    "display(Math(r'\\text{Die approximierten Werte sind: }' + sy.latex(sy.Matrix(x_approx))))"
   ]
  }
 ],
 "metadata": {
  "kernelspec": {
   "display_name": "base",
   "language": "python",
   "name": "python3"
  },
  "language_info": {
   "codemirror_mode": {
    "name": "ipython",
    "version": 3
   },
   "file_extension": ".py",
   "mimetype": "text/x-python",
   "name": "python",
   "nbconvert_exporter": "python",
   "pygments_lexer": "ipython3",
   "version": "3.11.8"
  }
 },
 "nbformat": 4,
 "nbformat_minor": 2
}
