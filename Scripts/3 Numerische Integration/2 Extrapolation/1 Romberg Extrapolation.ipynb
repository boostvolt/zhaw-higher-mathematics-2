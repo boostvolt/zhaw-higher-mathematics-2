{
 "cells": [
  {
   "cell_type": "code",
   "execution_count": 12,
   "metadata": {},
   "outputs": [
    {
     "data": {
      "text/latex": [
       "$\\displaystyle \\text{1. Berechne die Tj0 mit der Trapezregel:}$"
      ],
      "text/plain": [
       "<IPython.core.display.Math object>"
      ]
     },
     "metadata": {},
     "output_type": "display_data"
    },
    {
     "data": {
      "text/latex": [
       "$\\displaystyle \\text{----------------------------------------}$"
      ],
      "text/plain": [
       "<IPython.core.display.Math object>"
      ]
     },
     "metadata": {},
     "output_type": "display_data"
    },
    {
     "data": {
      "text/latex": [
       "$\\displaystyle \\text{{Startwert a = }}0$"
      ],
      "text/plain": [
       "<IPython.core.display.Math object>"
      ]
     },
     "metadata": {},
     "output_type": "display_data"
    },
    {
     "data": {
      "text/latex": [
       "$\\displaystyle \\text{{Endwert b = }}40$"
      ],
      "text/plain": [
       "<IPython.core.display.Math object>"
      ]
     },
     "metadata": {},
     "output_type": "display_data"
    },
    {
     "data": {
      "text/latex": [
       "$\\displaystyle \\text{{Anzahl Schritte n = }}1$"
      ],
      "text/plain": [
       "<IPython.core.display.Math object>"
      ]
     },
     "metadata": {},
     "output_type": "display_data"
    },
    {
     "data": {
      "text/latex": [
       "$\\displaystyle \\text{{Schrittweite h = (}}40 - 0) / 1 = 40.0$"
      ],
      "text/plain": [
       "<IPython.core.display.Math object>"
      ]
     },
     "metadata": {},
     "output_type": "display_data"
    },
    {
     "data": {
      "text/latex": [
       "$\\displaystyle xi = []$"
      ],
      "text/plain": [
       "<IPython.core.display.Math object>"
      ]
     },
     "metadata": {},
     "output_type": "display_data"
    },
    {
     "data": {
      "text/latex": [
       "$\\displaystyle T_{0,0} = h \\times \\left(\\frac{f(a) + f(b)}{2} + \\sum f(xi)\\right) = 9.002813977541e-06$"
      ],
      "text/plain": [
       "<IPython.core.display.Math object>"
      ]
     },
     "metadata": {},
     "output_type": "display_data"
    },
    {
     "data": {
      "text/latex": [
       "$\\displaystyle \\text{{Startwert a = }}0$"
      ],
      "text/plain": [
       "<IPython.core.display.Math object>"
      ]
     },
     "metadata": {},
     "output_type": "display_data"
    },
    {
     "data": {
      "text/latex": [
       "$\\displaystyle \\text{{Endwert b = }}40$"
      ],
      "text/plain": [
       "<IPython.core.display.Math object>"
      ]
     },
     "metadata": {},
     "output_type": "display_data"
    },
    {
     "data": {
      "text/latex": [
       "$\\displaystyle \\text{{Anzahl Schritte n = }}2$"
      ],
      "text/plain": [
       "<IPython.core.display.Math object>"
      ]
     },
     "metadata": {},
     "output_type": "display_data"
    },
    {
     "data": {
      "text/latex": [
       "$\\displaystyle \\text{{Schrittweite h = (}}40 - 0) / 2 = 20.0$"
      ],
      "text/plain": [
       "<IPython.core.display.Math object>"
      ]
     },
     "metadata": {},
     "output_type": "display_data"
    },
    {
     "data": {
      "text/latex": [
       "$\\displaystyle xi = [20.]$"
      ],
      "text/plain": [
       "<IPython.core.display.Math object>"
      ]
     },
     "metadata": {},
     "output_type": "display_data"
    },
    {
     "data": {
      "text/latex": [
       "$\\displaystyle T_{1,0} = h \\times \\left(\\frac{f(a) + f(b)}{2} + \\sum f(xi)\\right) = 4.000000450141e+01$"
      ],
      "text/plain": [
       "<IPython.core.display.Math object>"
      ]
     },
     "metadata": {},
     "output_type": "display_data"
    },
    {
     "data": {
      "text/latex": [
       "$\\displaystyle \\text{{Startwert a = }}0$"
      ],
      "text/plain": [
       "<IPython.core.display.Math object>"
      ]
     },
     "metadata": {},
     "output_type": "display_data"
    },
    {
     "data": {
      "text/latex": [
       "$\\displaystyle \\text{{Endwert b = }}40$"
      ],
      "text/plain": [
       "<IPython.core.display.Math object>"
      ]
     },
     "metadata": {},
     "output_type": "display_data"
    },
    {
     "data": {
      "text/latex": [
       "$\\displaystyle \\text{{Anzahl Schritte n = }}4$"
      ],
      "text/plain": [
       "<IPython.core.display.Math object>"
      ]
     },
     "metadata": {},
     "output_type": "display_data"
    },
    {
     "data": {
      "text/latex": [
       "$\\displaystyle \\text{{Schrittweite h = (}}40 - 0) / 4 = 10.0$"
      ],
      "text/plain": [
       "<IPython.core.display.Math object>"
      ]
     },
     "metadata": {},
     "output_type": "display_data"
    },
    {
     "data": {
      "text/latex": [
       "$\\displaystyle xi = [10. 20. 30.]$"
      ],
      "text/plain": [
       "<IPython.core.display.Math object>"
      ]
     },
     "metadata": {},
     "output_type": "display_data"
    },
    {
     "data": {
      "text/latex": [
       "$\\displaystyle T_{2,0} = h \\times \\left(\\frac{f(a) + f(b)}{2} + \\sum f(xi)\\right) = 3.471517989756e+01$"
      ],
      "text/plain": [
       "<IPython.core.display.Math object>"
      ]
     },
     "metadata": {},
     "output_type": "display_data"
    },
    {
     "data": {
      "text/latex": [
       "$\\displaystyle \\text{{Startwert a = }}0$"
      ],
      "text/plain": [
       "<IPython.core.display.Math object>"
      ]
     },
     "metadata": {},
     "output_type": "display_data"
    },
    {
     "data": {
      "text/latex": [
       "$\\displaystyle \\text{{Endwert b = }}40$"
      ],
      "text/plain": [
       "<IPython.core.display.Math object>"
      ]
     },
     "metadata": {},
     "output_type": "display_data"
    },
    {
     "data": {
      "text/latex": [
       "$\\displaystyle \\text{{Anzahl Schritte n = }}8$"
      ],
      "text/plain": [
       "<IPython.core.display.Math object>"
      ]
     },
     "metadata": {},
     "output_type": "display_data"
    },
    {
     "data": {
      "text/latex": [
       "$\\displaystyle \\text{{Schrittweite h = (}}40 - 0) / 8 = 5.0$"
      ],
      "text/plain": [
       "<IPython.core.display.Math object>"
      ]
     },
     "metadata": {},
     "output_type": "display_data"
    },
    {
     "data": {
      "text/latex": [
       "$\\displaystyle xi = [ 5. 10. 15. 20. 25. 30. 35.]$"
      ],
      "text/plain": [
       "<IPython.core.display.Math object>"
      ]
     },
     "metadata": {},
     "output_type": "display_data"
    },
    {
     "data": {
      "text/latex": [
       "$\\displaystyle T_{3,0} = h \\times \\left(\\frac{f(a) + f(b)}{2} + \\sum f(xi)\\right) = 3.627244551360e+01$"
      ],
      "text/plain": [
       "<IPython.core.display.Math object>"
      ]
     },
     "metadata": {},
     "output_type": "display_data"
    },
    {
     "data": {
      "text/latex": [
       "$\\displaystyle \\text{2. Berechne die Tjk aus den Tj0:}$"
      ],
      "text/plain": [
       "<IPython.core.display.Math object>"
      ]
     },
     "metadata": {},
     "output_type": "display_data"
    },
    {
     "data": {
      "text/latex": [
       "$\\displaystyle \\text{--------------------------------}$"
      ],
      "text/plain": [
       "<IPython.core.display.Math object>"
      ]
     },
     "metadata": {},
     "output_type": "display_data"
    },
    {
     "data": {
      "text/latex": [
       "$\\displaystyle T_{0,1} = \\left(4^{1} \\cdot T_{1,0} - T_{0,0}\\right) / \\left(4^{1} - 1\\right) = 53.333336334271$"
      ],
      "text/plain": [
       "<IPython.core.display.Math object>"
      ]
     },
     "metadata": {},
     "output_type": "display_data"
    },
    {
     "data": {
      "text/latex": [
       "$\\displaystyle T_{1,1} = \\left(4^{1} \\cdot T_{2,0} - T_{1,0}\\right) / \\left(4^{1} - 1\\right) = 32.953571696279$"
      ],
      "text/plain": [
       "<IPython.core.display.Math object>"
      ]
     },
     "metadata": {},
     "output_type": "display_data"
    },
    {
     "data": {
      "text/latex": [
       "$\\displaystyle T_{2,1} = \\left(4^{1} \\cdot T_{3,0} - T_{2,0}\\right) / \\left(4^{1} - 1\\right) = 36.791534052279$"
      ],
      "text/plain": [
       "<IPython.core.display.Math object>"
      ]
     },
     "metadata": {},
     "output_type": "display_data"
    },
    {
     "data": {
      "text/latex": [
       "$\\displaystyle T_{0,2} = \\left(4^{2} \\cdot T_{1,1} - T_{0,1}\\right) / \\left(4^{2} - 1\\right) = 31.594920720413$"
      ],
      "text/plain": [
       "<IPython.core.display.Math object>"
      ]
     },
     "metadata": {},
     "output_type": "display_data"
    },
    {
     "data": {
      "text/latex": [
       "$\\displaystyle T_{1,2} = \\left(4^{2} \\cdot T_{2,1} - T_{1,1}\\right) / \\left(4^{2} - 1\\right) = 37.047398209346$"
      ],
      "text/plain": [
       "<IPython.core.display.Math object>"
      ]
     },
     "metadata": {},
     "output_type": "display_data"
    },
    {
     "data": {
      "text/latex": [
       "$\\displaystyle T_{0,3} = \\left(4^{3} \\cdot T_{1,2} - T_{0,2}\\right) / \\left(4^{3} - 1\\right) = 37.133945471075$"
      ],
      "text/plain": [
       "<IPython.core.display.Math object>"
      ]
     },
     "metadata": {},
     "output_type": "display_data"
    },
    {
     "data": {
      "text/latex": [
       "$\\displaystyle \\text{Das Integral der Funktion }2 e^{- \\left(\\frac{x}{10} - 2\\right)^{4}}\\text{ im Intervall } [0,40] \\text{ mittels Romberg-Extrapolation ist: }37.13394547107514$"
      ],
      "text/plain": [
       "<IPython.core.display.Math object>"
      ]
     },
     "metadata": {},
     "output_type": "display_data"
    }
   ],
   "source": [
    "from IPython.display import display, Math\n",
    "import sympy as sy\n",
    "import numpy as np\n",
    "\n",
    "# Definition der Funktion Tf, die die Trapezsumme berechnet\n",
    "def Tf(f, a, b, n, j):\n",
    "    display(Math(r'\\text{{Startwert a = }}' + str(a)))\n",
    "    display(Math(r'\\text{{Endwert b = }}' + str(b)))\n",
    "    display(Math(r'\\text{{Anzahl Schritte n = }}' + str(n)))\n",
    "    \n",
    "    '''----------INPUT----------'''\n",
    "    # Schritweite h definieren\n",
    "    h = (b - a) / n\n",
    "    '''----------INPUT----------'''\n",
    "\n",
    "    display(Math(r'\\text{{Schrittweite h = (}}' + str(b) + r' - ' + str(a) + r') / ' + str(n) + r' = ' + str(h)))\n",
    "    \n",
    "    xi = np.array([a + i * h for i in range(1, n)], dtype=np.float64)\n",
    "    display(Math(r'xi = ' + str(xi)))\n",
    "    \n",
    "    T = h * ((f(a) + f(b)) / 2 + np.sum(f(xi)))\n",
    "    display(Math(r'T_{{{:d},0}} = h \\times \\left(\\frac{{f(a) + f(b)}}{{2}} + \\sum f(xi)\\right) = {:.12e}'.format(j, T)))\n",
    "\n",
    "    \n",
    "    return T\n",
    "\n",
    "# Definition der Funktion romberg_extrapolate, die die Romberg-Extrapolation durchführt\n",
    "def romberg_extrapolate(f_sympy, a, b, m):\n",
    "    f = sy.lambdify(x, f_sympy, \"numpy\")\n",
    "    T = np.zeros((m + 1, m + 1), dtype=np.float64)\n",
    "    \n",
    "    display(Math(r'\\text{1. Berechne die Tj0 mit der Trapezregel:}'))\n",
    "    display(Math(r'\\text{----------------------------------------}'))\n",
    "    for j in range(m + 1):\n",
    "        T[j, 0] = Tf(f, a, b, 2 ** j, j)\n",
    "    \n",
    "    display(Math(r'\\text{2. Berechne die Tjk aus den Tj0:}'))\n",
    "    display(Math(r'\\text{--------------------------------}'))\n",
    "    for k in range(1, m + 1):\n",
    "        for j in range(m + 1 - k):\n",
    "            T[j, k] = (4**k * T[j + 1, k - 1] - T[j, k - 1]) / (4**k - 1)\n",
    "            display(Math(r'T_{{{:d},{:d}}} = \\left(4^{{{:d}}} \\cdot T_{{{:d},{:d}}} - T_{{{:d},{:d}}}\\right) / \\left(4^{{{:d}}} - 1\\right) = {:.12f}'.format(j, k, k, j+1, k-1, j, k-1, k, T[j, k])))\n",
    "    \n",
    "    return T[0, m]\n",
    "\n",
    "'''----------INPUT----------'''\n",
    "# Definition der zu integrierenden Funktion als Sympy-Ausdruck\n",
    "x = sy.symbols('x')\n",
    "f_sympy = 2 * sy.exp(-((x/10)-2)**4)\n",
    "\n",
    "# Start- und End-Intervall sowie Anzahl der Schritte festlegen\n",
    "a = 0\n",
    "b = 40\n",
    "m = 3\n",
    "'''----------INPUT----------'''\n",
    "\n",
    "# Durchführung der Romberg-Extrapolation\n",
    "T = romberg_extrapolate(f_sympy, a, b, m)\n",
    "\n",
    "# Ausgabe\n",
    "display(Math(r'\\text{Das Integral der Funktion }' + sy.latex(f_sympy) + r'\\text{ im Intervall } [' + str(a) + ',' + str(b) + r'] \\text{ mittels Romberg-Extrapolation ist: }' + str(T)))"
   ]
  }
 ],
 "metadata": {
  "kernelspec": {
   "display_name": "base",
   "language": "python",
   "name": "python3"
  },
  "language_info": {
   "codemirror_mode": {
    "name": "ipython",
    "version": 3
   },
   "file_extension": ".py",
   "mimetype": "text/x-python",
   "name": "python",
   "nbconvert_exporter": "python",
   "pygments_lexer": "ipython3",
   "version": "3.11.4"
  }
 },
 "nbformat": 4,
 "nbformat_minor": 2
}
