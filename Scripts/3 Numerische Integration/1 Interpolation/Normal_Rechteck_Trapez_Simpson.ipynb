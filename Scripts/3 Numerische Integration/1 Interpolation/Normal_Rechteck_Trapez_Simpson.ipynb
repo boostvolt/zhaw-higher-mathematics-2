{
 "cells": [
  {
   "cell_type": "code",
   "execution_count": 1,
   "metadata": {},
   "outputs": [
    {
     "data": {
      "text/latex": [
       "**Rechteck-Regel**"
      ],
      "text/plain": [
       "<IPython.core.display.Latex object>"
      ]
     },
     "metadata": {},
     "output_type": "display_data"
    },
    {
     "data": {
      "text/latex": [
       "$\\int_{a}^{b} f(x) \\, dx \\approx (b-a) \\cdot f\\left(\\frac{a+b}{2}\\right)$"
      ],
      "text/plain": [
       "<IPython.core.display.Latex object>"
      ]
     },
     "metadata": {},
     "output_type": "display_data"
    },
    {
     "data": {
      "text/latex": [
       "$\\int_{2}^{4} f(x) \\, dx \\approx 2 \\cdot f\\left(\\frac{6}2\\right)$"
      ],
      "text/plain": [
       "<IPython.core.display.Latex object>"
      ]
     },
     "metadata": {},
     "output_type": "display_data"
    },
    {
     "data": {
      "text/latex": [
       "Wert des Integrals (scipy) = 0.6931471805599453"
      ],
      "text/plain": [
       "<IPython.core.display.Latex object>"
      ]
     },
     "metadata": {},
     "output_type": "display_data"
    },
    {
     "data": {
      "text/latex": [
       "Wert mit Rechteckregel     = 0.6666666666666666"
      ],
      "text/plain": [
       "<IPython.core.display.Latex object>"
      ]
     },
     "metadata": {},
     "output_type": "display_data"
    },
    {
     "data": {
      "text/latex": [
       "Absoluter Fehler = 0.026480513893278657"
      ],
      "text/plain": [
       "<IPython.core.display.Latex object>"
      ]
     },
     "metadata": {},
     "output_type": "display_data"
    },
    {
     "data": {
      "text/latex": [
       "-----------------------------------------------"
      ],
      "text/plain": [
       "<IPython.core.display.Latex object>"
      ]
     },
     "metadata": {},
     "output_type": "display_data"
    },
    {
     "data": {
      "text/latex": [
       "**Trapez-Regel**"
      ],
      "text/plain": [
       "<IPython.core.display.Latex object>"
      ]
     },
     "metadata": {},
     "output_type": "display_data"
    },
    {
     "data": {
      "text/latex": [
       "$\\int_{a}^{b} f(x) \\, dx \\approx (b-a) \\cdot \\left(\\frac{f(a) + f(b)}{2}\\right)$"
      ],
      "text/plain": [
       "<IPython.core.display.Latex object>"
      ]
     },
     "metadata": {},
     "output_type": "display_data"
    },
    {
     "data": {
      "text/latex": [
       "$\\int_{2}^{4} f(x) \\, dx \\approx (4-2) \\cdot \\left(\\frac{f(2) + f(4)}2\\right)$"
      ],
      "text/plain": [
       "<IPython.core.display.Latex object>"
      ]
     },
     "metadata": {},
     "output_type": "display_data"
    },
    {
     "data": {
      "text/latex": [
       "Wert des Integrals (scipy) = 0.6931471805599453"
      ],
      "text/plain": [
       "<IPython.core.display.Latex object>"
      ]
     },
     "metadata": {},
     "output_type": "display_data"
    },
    {
     "data": {
      "text/latex": [
       "Wert mit Trapezregel       = 0.75"
      ],
      "text/plain": [
       "<IPython.core.display.Latex object>"
      ]
     },
     "metadata": {},
     "output_type": "display_data"
    },
    {
     "data": {
      "text/latex": [
       "Absoluter Fehler = 0.056852819440054714"
      ],
      "text/plain": [
       "<IPython.core.display.Latex object>"
      ]
     },
     "metadata": {},
     "output_type": "display_data"
    },
    {
     "data": {
      "text/latex": [
       "-----------------------------------------------"
      ],
      "text/plain": [
       "<IPython.core.display.Latex object>"
      ]
     },
     "metadata": {},
     "output_type": "display_data"
    },
    {
     "data": {
      "text/latex": [
       "**Simpson-Regel**"
      ],
      "text/plain": [
       "<IPython.core.display.Latex object>"
      ]
     },
     "metadata": {},
     "output_type": "display_data"
    },
    {
     "data": {
      "text/latex": [
       "$\\int_{a}^{b} f(x) \\, dx \\approx \\frac{b-a}{6} f(a) + 4f\\left(\\frac{a+b}{2}\\right) + f(b)$"
      ],
      "text/plain": [
       "<IPython.core.display.Latex object>"
      ]
     },
     "metadata": {},
     "output_type": "display_data"
    },
    {
     "data": {
      "text/latex": [
       "$\\int_2^4 f(x) \\, dx \\approx \\frac26 \\left(f(2) + 4f\\left(\\frac62\\right) + f(4)\\right)$"
      ],
      "text/plain": [
       "<IPython.core.display.Latex object>"
      ]
     },
     "metadata": {},
     "output_type": "display_data"
    },
    {
     "data": {
      "text/latex": [
       "Wert des Integrals (scipy) = 0.6931471805599453"
      ],
      "text/plain": [
       "<IPython.core.display.Latex object>"
      ]
     },
     "metadata": {},
     "output_type": "display_data"
    },
    {
     "data": {
      "text/latex": [
       "Wert mit Simpsonregel      = 0.6944444444444443"
      ],
      "text/plain": [
       "<IPython.core.display.Latex object>"
      ]
     },
     "metadata": {},
     "output_type": "display_data"
    },
    {
     "data": {
      "text/latex": [
       "Absoluter Fehler = 0.0012972638844990225"
      ],
      "text/plain": [
       "<IPython.core.display.Latex object>"
      ]
     },
     "metadata": {},
     "output_type": "display_data"
    },
    {
     "data": {
      "text/latex": [
       "-----------------------------------------------"
      ],
      "text/plain": [
       "<IPython.core.display.Latex object>"
      ]
     },
     "metadata": {},
     "output_type": "display_data"
    }
   ],
   "source": [
    "# Schritt 1: Importieren der benötigten Bibliotheken\n",
    "from IPython.display import display, Latex\n",
    "import numpy as np\n",
    "import scipy.integrate\n",
    "\n",
    "# Schritt 2: Definition der Funktion und Parameter\n",
    "'''INPUT'''\n",
    "def f(x):\n",
    "    return 1 / x\n",
    "\n",
    "a = 2\n",
    "b = 4\n",
    "tol = 1e-3\n",
    "'''INPUT'''\n",
    "\n",
    "# Schritt 3: Implementierung der numerischen Integrationsmethoden\n",
    "def normale_Rechtecksregel(f, a, b):\n",
    "    return f((a+b)/2) * (b-a)\n",
    "\n",
    "def normale_Trapezregel(f, a, b):\n",
    "    return ((f(a) + f(b)) / 2) * (b - a)\n",
    "\n",
    "def normale_Simpsonregel(f, a, b):\n",
    "    return ((b - a) / 6) * (f(a) + 4 * f((a + b) / 2) + f(b))\n",
    "\n",
    "# Schritt 4: Berechnung des Integrals und der Fehler\n",
    "integral, _ = scipy.integrate.quad(f, a, b, epsabs=1e-10)\n",
    "\n",
    "# Rechtecksregel\n",
    "error = np.abs(integral - normale_Rechtecksregel(f, a, b))\n",
    "display(Latex(f'**Rechteck-Regel**'))\n",
    "display(Latex(r'$\\int_{a}^{b} f(x) \\, dx \\approx (b-a) \\cdot f\\left(\\frac{a+b}{2}\\right)$'))\n",
    "display(Latex(rf'$\\int_{{{a}}}^{{{b}}} f(x) \\, dx \\approx {b-a} \\cdot f\\left(\\frac{{{a+b}}}{2}\\right)$'))\n",
    "display(Latex(f'Wert des Integrals (scipy) = {integral}'))\n",
    "display(Latex(f'Wert mit Rechteckregel     = {normale_Rechtecksregel(f, a, b)}'))\n",
    "display(Latex(f'Absoluter Fehler = {error}'))\n",
    "display(Latex('-----------------------------------------------'))\n",
    "\n",
    "# Trapezregel\n",
    "error = np.abs(integral - normale_Trapezregel(f, a, b))\n",
    "display(Latex(f'**Trapez-Regel**'))\n",
    "display(Latex(r'$\\int_{a}^{b} f(x) \\, dx \\approx (b-a) \\cdot \\left(\\frac{f(a) + f(b)}{2}\\right)$'))\n",
    "display(Latex(rf'$\\int_{{{a}}}^{{{b}}} f(x) \\, dx \\approx ({b}-{a}) \\cdot \\left(\\frac{{f({a}) + f({b})}}{2}\\right)$'))\n",
    "display(Latex(f'Wert des Integrals (scipy) = {integral}'))\n",
    "display(Latex(f'Wert mit Trapezregel       = {normale_Trapezregel(f, a, b)}'))\n",
    "display(Latex(f'Absoluter Fehler = {error}'))\n",
    "display(Latex('-----------------------------------------------'))\n",
    "\n",
    "# Simpsonregel\n",
    "error = np.abs(integral - normale_Simpsonregel(f, a, b))\n",
    "display(Latex(f'**Simpson-Regel**'))\n",
    "display(Latex(r'$\\int_{a}^{b} f(x) \\, dx \\approx \\frac{b-a}{6} f(a) + 4f\\left(\\frac{a+b}{2}\\right) + f(b)$'))\n",
    "display(Latex(rf'$\\int_{a}^{b} f(x) \\, dx \\approx \\frac{b-a}{6} \\left(f({a}) + 4f\\left(\\frac{a+b}{2}\\right) + f({b})\\right)$'))\n",
    "display(Latex(f'Wert des Integrals (scipy) = {integral}'))\n",
    "display(Latex(f'Wert mit Simpsonregel      = {normale_Simpsonregel(f, a, b)}'))\n",
    "display(Latex(f'Absoluter Fehler = {error}'))\n",
    "display(Latex('-----------------------------------------------'))"
   ]
  }
 ],
 "metadata": {
  "kernelspec": {
   "display_name": "Python 3",
   "language": "python",
   "name": "python3"
  },
  "language_info": {
   "codemirror_mode": {
    "name": "ipython",
    "version": 3
   },
   "file_extension": ".py",
   "mimetype": "text/x-python",
   "name": "python",
   "nbconvert_exporter": "python",
   "pygments_lexer": "ipython3",
   "version": "3.11.4"
  }
 },
 "nbformat": 4,
 "nbformat_minor": 2
}
