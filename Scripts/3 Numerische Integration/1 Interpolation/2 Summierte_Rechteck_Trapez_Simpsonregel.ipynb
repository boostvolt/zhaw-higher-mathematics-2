{
 "cells": [
  {
   "cell_type": "code",
   "execution_count": 14,
   "metadata": {},
   "outputs": [
    {
     "data": {
      "text/latex": [
       "RECHTECK-REGEL"
      ],
      "text/plain": [
       "<IPython.core.display.Latex object>"
      ]
     },
     "metadata": {},
     "output_type": "display_data"
    },
    {
     "data": {
      "text/latex": [
       "Rechteck-Regel: $R(f) = h \\sum_{i=0}^{n-1} f(x_i + \\frac{h}{2})$"
      ],
      "text/plain": [
       "<IPython.core.display.Latex object>"
      ]
     },
     "metadata": {},
     "output_type": "display_data"
    },
    {
     "data": {
      "text/latex": [
       "Rechteck-Regel: $R(f) = h \\sum_{i=0}^{n-1} f(a + i * h + \\frac{h}{2})$"
      ],
      "text/plain": [
       "<IPython.core.display.Latex object>"
      ]
     },
     "metadata": {},
     "output_type": "display_data"
    },
    {
     "data": {
      "text/latex": [
       "Rechteck-Regel: $R(f) = 10.0 \\sum_0^2 f(0+10.0*i + \\frac{10.0}2)$"
      ],
      "text/plain": [
       "<IPython.core.display.Latex object>"
      ]
     },
     "metadata": {},
     "output_type": "display_data"
    },
    {
     "data": {
      "text/latex": [
       "Wert des Integrals (scipy) = 5655.507848577467"
      ],
      "text/plain": [
       "<IPython.core.display.Latex object>"
      ]
     },
     "metadata": {},
     "output_type": "display_data"
    },
    {
     "data": {
      "text/latex": [
       "Wert mit Rechteckregel     = 5619.885926742126"
      ],
      "text/plain": [
       "<IPython.core.display.Latex object>"
      ]
     },
     "metadata": {},
     "output_type": "display_data"
    },
    {
     "data": {
      "text/latex": [
       "Absoluter Fehler           = 35.6219218353408"
      ],
      "text/plain": [
       "<IPython.core.display.Latex object>"
      ]
     },
     "metadata": {},
     "output_type": "display_data"
    },
    {
     "data": {
      "text/latex": [
       "n = 3"
      ],
      "text/plain": [
       "<IPython.core.display.Latex object>"
      ]
     },
     "metadata": {},
     "output_type": "display_data"
    },
    {
     "data": {
      "text/latex": [
       "h = 10.0"
      ],
      "text/plain": [
       "<IPython.core.display.Latex object>"
      ]
     },
     "metadata": {},
     "output_type": "display_data"
    },
    {
     "data": {
      "text/latex": [
       "-----------------------------------------------"
      ],
      "text/plain": [
       "<IPython.core.display.Latex object>"
      ]
     },
     "metadata": {},
     "output_type": "display_data"
    },
    {
     "data": {
      "text/latex": [
       "TRAPEZ-REGEL"
      ],
      "text/plain": [
       "<IPython.core.display.Latex object>"
      ]
     },
     "metadata": {},
     "output_type": "display_data"
    },
    {
     "data": {
      "text/latex": [
       "Trapez-Regel: $T(f) = h \\left(\\frac{f(a) + f(b)}{2} + \\sum_{i=1}^{n-1} f(x_i)\\right)$"
      ],
      "text/plain": [
       "<IPython.core.display.Latex object>"
      ]
     },
     "metadata": {},
     "output_type": "display_data"
    },
    {
     "data": {
      "text/latex": [
       "Trapez-Regel: $T(f) = h \\left(\\frac{f(a) + f(b)}{2} + \\sum_{i=1}^{n-1} f(a + i\\cdot h)\\right)$"
      ],
      "text/plain": [
       "<IPython.core.display.Latex object>"
      ]
     },
     "metadata": {},
     "output_type": "display_data"
    },
    {
     "data": {
      "text/latex": [
       "Trapez-Regel: $T(f) = 10.0 \\left(\\frac{f(0) + f(30)}2 + \\sum_1^2 f(0 + i * 10.0)\\right)$"
      ],
      "text/plain": [
       "<IPython.core.display.Latex object>"
      ]
     },
     "metadata": {},
     "output_type": "display_data"
    },
    {
     "data": {
      "text/latex": [
       "Wert des Integrals (scipy) = 5655.507848577467"
      ],
      "text/plain": [
       "<IPython.core.display.Latex object>"
      ]
     },
     "metadata": {},
     "output_type": "display_data"
    },
    {
     "data": {
      "text/latex": [
       "Wert mit Trapezregel       = 5726.830778828045"
      ],
      "text/plain": [
       "<IPython.core.display.Latex object>"
      ]
     },
     "metadata": {},
     "output_type": "display_data"
    },
    {
     "data": {
      "text/latex": [
       "Absoluter Fehler           = 71.32293025057879"
      ],
      "text/plain": [
       "<IPython.core.display.Latex object>"
      ]
     },
     "metadata": {},
     "output_type": "display_data"
    },
    {
     "data": {
      "text/latex": [
       "n = 3"
      ],
      "text/plain": [
       "<IPython.core.display.Latex object>"
      ]
     },
     "metadata": {},
     "output_type": "display_data"
    },
    {
     "data": {
      "text/latex": [
       "h = 10.0"
      ],
      "text/plain": [
       "<IPython.core.display.Latex object>"
      ]
     },
     "metadata": {},
     "output_type": "display_data"
    },
    {
     "data": {
      "text/latex": [
       "-----------------------------------------------"
      ],
      "text/plain": [
       "<IPython.core.display.Latex object>"
      ]
     },
     "metadata": {},
     "output_type": "display_data"
    },
    {
     "data": {
      "text/latex": [
       "SIMPSON-REGEL"
      ],
      "text/plain": [
       "<IPython.core.display.Latex object>"
      ]
     },
     "metadata": {},
     "output_type": "display_data"
    },
    {
     "data": {
      "text/latex": [
       "Simpson-Regel: $S(f) = \\frac{h}{3} \\left(\\frac{1}{2}f(a) + \\sum_{i=1}^{n-1} f(x_i) + 2\\sum_{i=1}^{n} f\\left(\\frac{x_{i-1} + x_i}{2}\\right) + \\frac{1}{2}f(b)\\right)$"
      ],
      "text/plain": [
       "<IPython.core.display.Latex object>"
      ]
     },
     "metadata": {},
     "output_type": "display_data"
    },
    {
     "data": {
      "text/latex": [
       "Simpson-Regel: $S(f) = \\frac{10.0}3 \\left(\\frac12f(a) + \\sum_1^2 f(x_i) + 2\\sum_1^3 f\\left(\\frac{x_{i-1} + x_i}2\\right) + \\frac12f(30)\\right)$"
      ],
      "text/plain": [
       "<IPython.core.display.Latex object>"
      ]
     },
     "metadata": {},
     "output_type": "display_data"
    },
    {
     "data": {
      "text/latex": [
       "Wert des Integrals (scipy) = 5655.507848577467"
      ],
      "text/plain": [
       "<IPython.core.display.Latex object>"
      ]
     },
     "metadata": {},
     "output_type": "display_data"
    },
    {
     "data": {
      "text/latex": [
       "Wert mit Simpson-Regel     = 5655.534210770767"
      ],
      "text/plain": [
       "<IPython.core.display.Latex object>"
      ]
     },
     "metadata": {},
     "output_type": "display_data"
    },
    {
     "data": {
      "text/latex": [
       "Absoluter Fehler           = 0.026362193299974024"
      ],
      "text/plain": [
       "<IPython.core.display.Latex object>"
      ]
     },
     "metadata": {},
     "output_type": "display_data"
    },
    {
     "data": {
      "text/latex": [
       "n = 3"
      ],
      "text/plain": [
       "<IPython.core.display.Latex object>"
      ]
     },
     "metadata": {},
     "output_type": "display_data"
    },
    {
     "data": {
      "text/latex": [
       "h = 10.0"
      ],
      "text/plain": [
       "<IPython.core.display.Latex object>"
      ]
     },
     "metadata": {},
     "output_type": "display_data"
    },
    {
     "data": {
      "text/latex": [
       "-----------------------------------------------"
      ],
      "text/plain": [
       "<IPython.core.display.Latex object>"
      ]
     },
     "metadata": {},
     "output_type": "display_data"
    }
   ],
   "source": [
    "import numpy as np\n",
    "import scipy.integrate\n",
    "from IPython.display import display, Latex\n",
    "\n",
    "'''INPUT'''\n",
    "a, b = 0, 30\n",
    "\n",
    "# Berechnung von n oder direkt angeben\n",
    "n = int((b - a) / 10) # n = (b - a) / h\n",
    "\n",
    "# Zu integrierende Funktion\n",
    "def f(x):\n",
    "    return 2000 * np.log(10000 / (10000 - (100 * x))) - 9.8 * x\n",
    "'''INPUT'''\n",
    "\n",
    "def Rf(f, a, b, n):\n",
    "    h = (b - a) / n\n",
    "    xi = np.array([a + i * h for i in range(n)], dtype=np.float64)\n",
    "    return h * np.sum(f(xi + (h / 2)))\n",
    "\n",
    "def Tf(f, a, b, n):\n",
    "    h = (b - a) / n\n",
    "    xi = np.array([a + i * h for i in range(1, n)], dtype=np.float64)\n",
    "    return h * ((f(a) + f(b)) / 2 + np.sum(f(xi)))\n",
    "\n",
    "def Sf(f, a, b, n):\n",
    "    h = (b - a) / n\n",
    "    xi_1_n_m1 = np.array([a + i * h for i in range(1, n)], dtype=np.float64)\n",
    "    xi_1_n = np.array([a + i * h for i in range(1, n + 1)], dtype=np.float64)\n",
    "    xi_m1_1_n = np.array([a + (i - 1) * h for i in range(1, n + 1)], dtype=np.float64)\n",
    "    return (h / 3) * ((1 / 2) * f(a) + np.sum(f(xi_1_n_m1)) + 2 * np.sum(f((xi_m1_1_n + xi_1_n) / 2)) + (1 / 2) * f(b))\n",
    "\n",
    "integral, _ = scipy.integrate.quad(f, a, b, epsabs=1e-10)\n",
    "\n",
    "# Rechteck-Regel\n",
    "h = (b - a) / n\n",
    "display(Latex('RECHTECK-REGEL'))\n",
    "display(Latex(r'Rechteck-Regel: $R(f) = h \\sum_{i=0}^{n-1} f(x_i + \\frac{h}{2})$'))\n",
    "display(Latex(r'Rechteck-Regel: $R(f) = h \\sum_{i=0}^{n-1} f(a + i * h + \\frac{h}{2})$'))\n",
    "display(Latex(rf'Rechteck-Regel: $R(f) = {h} \\sum_{0}^{n-1} f({a}+{h}*i + \\frac{{{h}}}{2})$'))\n",
    "display(Latex(f'Wert des Integrals (scipy) = {integral}'))\n",
    "display(Latex(f'Wert mit Rechteckregel     = {Rf(f, a, b, n)}'))\n",
    "display(Latex(f'Absoluter Fehler           = {abs(integral - Rf(f, a, b, n))}'))\n",
    "display(Latex(f'n = {n}'))\n",
    "display(Latex(f'h = {(b - a) / n}'))\n",
    "display(Latex('-----------------------------------------------'))\n",
    "\n",
    "# Trapez-Regel\n",
    "display(Latex('TRAPEZ-REGEL'))\n",
    "display(Latex(r'Trapez-Regel: $T(f) = h \\left(\\frac{f(a) + f(b)}{2} + \\sum_{i=1}^{n-1} f(x_i)\\right)$'))\n",
    "display(Latex(r'Trapez-Regel: $T(f) = h \\left(\\frac{f(a) + f(b)}{2} + \\sum_{i=1}^{n-1} f(a + i\\cdot h)\\right)$'))\n",
    "display(Latex(rf'Trapez-Regel: $T(f) = {h} \\left(\\frac{{f({a}) + f({b})}}{2} + \\sum_{1}^{n-1} f({a} + i * {h})\\right)$'))\n",
    "display(Latex(f'Wert des Integrals (scipy) = {integral}'))\n",
    "display(Latex(f'Wert mit Trapezregel       = {Tf(f, a, b, n)}'))\n",
    "display(Latex(f'Absoluter Fehler           = {abs(integral - Tf(f, a, b, n))}'))\n",
    "display(Latex(f'n = {n}'))\n",
    "display(Latex(f'h = {(b - a) / n}'))\n",
    "display(Latex('-----------------------------------------------'))\n",
    "\n",
    "# Simpson-Regel\n",
    "display(Latex('SIMPSON-REGEL'))\n",
    "display(Latex(r'Simpson-Regel: $S(f) = \\frac{h}{3} \\left(\\frac{1}{2}f(a) + \\sum_{i=1}^{n-1} f(x_i) + 2\\sum_{i=1}^{n} f\\left(\\frac{x_{i-1} + x_i}{2}\\right) + \\frac{1}{2}f(b)\\right)$'))\n",
    "display(Latex(rf'Simpson-Regel: $S(f) = \\frac{{{h}}}{3} \\left(\\frac{1}{2}f(a) + \\sum_{1}^{n-1} f(x_i) + 2\\sum_{1}^{n} f\\left(\\frac{{x_{{i-1}} + x_i}}{2}\\right) + \\frac{1}{2}f({b})\\right)$'))\n",
    "display(Latex(f'Wert des Integrals (scipy) = {integral}'))\n",
    "display(Latex(f'Wert mit Simpson-Regel     = {Sf(f, a, b, n)}'))\n",
    "display(Latex(f'Absoluter Fehler           = {abs(integral - Sf(f, a, b, n))}'))\n",
    "display(Latex(f'n = {n}'))\n",
    "display(Latex(f'h = {(b - a) / n}'))\n",
    "display(Latex('-----------------------------------------------'))"
   ]
  }
 ],
 "metadata": {
  "kernelspec": {
   "display_name": "Python 3",
   "language": "python",
   "name": "python3"
  },
  "language_info": {
   "codemirror_mode": {
    "name": "ipython",
    "version": 3
   },
   "file_extension": ".py",
   "mimetype": "text/x-python",
   "name": "python",
   "nbconvert_exporter": "python",
   "pygments_lexer": "ipython3",
   "version": "3.11.8"
  }
 },
 "nbformat": 4,
 "nbformat_minor": 2
}
