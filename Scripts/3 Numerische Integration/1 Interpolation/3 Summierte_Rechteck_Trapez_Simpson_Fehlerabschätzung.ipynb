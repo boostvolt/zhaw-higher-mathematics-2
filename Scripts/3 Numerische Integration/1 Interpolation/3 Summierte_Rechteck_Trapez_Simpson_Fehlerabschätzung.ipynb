{
 "cells": [
  {
   "cell_type": "code",
   "execution_count": 1,
   "metadata": {},
   "outputs": [
    {
     "data": {
      "text/latex": [
       "RECHTECK-REGEL"
      ],
      "text/plain": [
       "<IPython.core.display.Latex object>"
      ]
     },
     "metadata": {},
     "output_type": "display_data"
    },
    {
     "data": {
      "text/latex": [
       "Rechteck-Regel: $R(f) = h \\sum_{i=0}^{n-1} f(x_i + \\frac{h}{2})$"
      ],
      "text/plain": [
       "<IPython.core.display.Latex object>"
      ]
     },
     "metadata": {},
     "output_type": "display_data"
    },
    {
     "data": {
      "text/latex": [
       "Rechteck-Regel: $R(f) = h \\sum_{i=0}^{n-1} f(a + i \\cdot h + \\frac{h}{2})$"
      ],
      "text/plain": [
       "<IPython.core.display.Latex object>"
      ]
     },
     "metadata": {},
     "output_type": "display_data"
    },
    {
     "data": {
      "text/latex": [
       "\n",
       "Rechteck-Regel: $R(f) = 10.0 \\sum_{i=0}^{2} f(0 + i \\cdot 10.0 + \\frac{10.0}{2}) = 10.0 \\left(53.59 + 178.04 + 330.36\\right)$\n"
      ],
      "text/plain": [
       "<IPython.core.display.Latex object>"
      ]
     },
     "metadata": {},
     "output_type": "display_data"
    },
    {
     "data": {
      "text/latex": [
       "Wert des Integrals (scipy) = 5655.507848577467"
      ],
      "text/plain": [
       "<IPython.core.display.Latex object>"
      ]
     },
     "metadata": {},
     "output_type": "display_data"
    },
    {
     "data": {
      "text/latex": [
       "Wert mit Rechteckregel     = 5619.885926742126"
      ],
      "text/plain": [
       "<IPython.core.display.Latex object>"
      ]
     },
     "metadata": {},
     "output_type": "display_data"
    },
    {
     "data": {
      "text/latex": [
       "Absoluter Fehler           = 35.6219218353408"
      ],
      "text/plain": [
       "<IPython.core.display.Latex object>"
      ]
     },
     "metadata": {},
     "output_type": "display_data"
    },
    {
     "data": {
      "text/latex": [
       "n = 3"
      ],
      "text/plain": [
       "<IPython.core.display.Latex object>"
      ]
     },
     "metadata": {},
     "output_type": "display_data"
    },
    {
     "data": {
      "text/latex": [
       "h = 10.0"
      ],
      "text/plain": [
       "<IPython.core.display.Latex object>"
      ]
     },
     "metadata": {},
     "output_type": "display_data"
    },
    {
     "data": {
      "text/latex": [
       "-----------------------------------------------"
      ],
      "text/plain": [
       "<IPython.core.display.Latex object>"
      ]
     },
     "metadata": {},
     "output_type": "display_data"
    },
    {
     "data": {
      "text/latex": [
       "TRAPEZ-REGEL"
      ],
      "text/plain": [
       "<IPython.core.display.Latex object>"
      ]
     },
     "metadata": {},
     "output_type": "display_data"
    },
    {
     "data": {
      "text/latex": [
       "Trapez-Regel: $T(f) = h \\left(\\frac{f(a) + f(b)}{2} + \\sum_{i=1}^{n-1} f(x_i)\\right)$"
      ],
      "text/plain": [
       "<IPython.core.display.Latex object>"
      ]
     },
     "metadata": {},
     "output_type": "display_data"
    },
    {
     "data": {
      "text/latex": [
       "Trapez-Regel: $T(f) = h \\left(\\frac{f(a) + f(b)}{2} + \\sum_{i=1}^{n-1} f(a + i \\cdot h)\\right)$"
      ],
      "text/plain": [
       "<IPython.core.display.Latex object>"
      ]
     },
     "metadata": {},
     "output_type": "display_data"
    },
    {
     "data": {
      "text/latex": [
       "\n",
       "Traprez-Regel: $T(f) = 10.0 \\left(\\frac{f(0) + f(30)}2 + \\sum_{i=1}^{2} f(0 + i \\cdot 10.0)\\right) = 10.0 \\cdot \\left(\\frac{0.0 + 419.34988787746477}2 + (112.72 + 250.29)\\right)$\n"
      ],
      "text/plain": [
       "<IPython.core.display.Latex object>"
      ]
     },
     "metadata": {},
     "output_type": "display_data"
    },
    {
     "data": {
      "text/latex": [
       "Wert des Integrals (scipy) = 5655.507848577467"
      ],
      "text/plain": [
       "<IPython.core.display.Latex object>"
      ]
     },
     "metadata": {},
     "output_type": "display_data"
    },
    {
     "data": {
      "text/latex": [
       "Wert mit Trapezregel       = 5726.830778828045"
      ],
      "text/plain": [
       "<IPython.core.display.Latex object>"
      ]
     },
     "metadata": {},
     "output_type": "display_data"
    },
    {
     "data": {
      "text/latex": [
       "Absoluter Fehler           = 71.32293025057879"
      ],
      "text/plain": [
       "<IPython.core.display.Latex object>"
      ]
     },
     "metadata": {},
     "output_type": "display_data"
    },
    {
     "data": {
      "text/latex": [
       "n = 3"
      ],
      "text/plain": [
       "<IPython.core.display.Latex object>"
      ]
     },
     "metadata": {},
     "output_type": "display_data"
    },
    {
     "data": {
      "text/latex": [
       "h = 10.0"
      ],
      "text/plain": [
       "<IPython.core.display.Latex object>"
      ]
     },
     "metadata": {},
     "output_type": "display_data"
    },
    {
     "data": {
      "text/latex": [
       "-----------------------------------------------"
      ],
      "text/plain": [
       "<IPython.core.display.Latex object>"
      ]
     },
     "metadata": {},
     "output_type": "display_data"
    },
    {
     "data": {
      "text/latex": [
       "SIMPSON-REGEL"
      ],
      "text/plain": [
       "<IPython.core.display.Latex object>"
      ]
     },
     "metadata": {},
     "output_type": "display_data"
    },
    {
     "data": {
      "text/latex": [
       "Simpson-Regel: $S(f) = \\frac{h}{3} \\left(\\frac{1}{2}f(a) + \\sum_{i=1}^{n-1} f(x_i) + 2\\sum_{i=1}^{n} f\\left(\\frac{x_{i-1} + x_i}{2}\\right) + \\frac{1}{2}f(b)\\right)$"
      ],
      "text/plain": [
       "<IPython.core.display.Latex object>"
      ]
     },
     "metadata": {},
     "output_type": "display_data"
    },
    {
     "data": {
      "text/latex": [
       "\n",
       "Simpson-Regel: $S(f) = \\frac{10.0}{3} \\left(\\frac{1}{2}f(0) + \\sum_{i=1}^{2} f(x_i) + 2\\sum_{i=1}^{3} f\\left(\\frac{x_{i-1} + x_i}2\\right) + \\frac{1}{2}f(30)\\right) = \\frac{10.0}{3} \\left(\\frac{1}{2} \\cdot 0.0 + (112.72 + 250.29) + (107.17 + 356.08 + 660.73) + \\frac{1}{2} \\cdot 419.34988787746477\\right)$\n"
      ],
      "text/plain": [
       "<IPython.core.display.Latex object>"
      ]
     },
     "metadata": {},
     "output_type": "display_data"
    },
    {
     "data": {
      "text/latex": [
       "Wert des Integrals (scipy) = 5655.507848577467"
      ],
      "text/plain": [
       "<IPython.core.display.Latex object>"
      ]
     },
     "metadata": {},
     "output_type": "display_data"
    },
    {
     "data": {
      "text/latex": [
       "Wert mit Simpson-Regel     = 5655.534210770767"
      ],
      "text/plain": [
       "<IPython.core.display.Latex object>"
      ]
     },
     "metadata": {},
     "output_type": "display_data"
    },
    {
     "data": {
      "text/latex": [
       "Absoluter Fehler           = 0.026362193299974024"
      ],
      "text/plain": [
       "<IPython.core.display.Latex object>"
      ]
     },
     "metadata": {},
     "output_type": "display_data"
    },
    {
     "data": {
      "text/latex": [
       "n = 3"
      ],
      "text/plain": [
       "<IPython.core.display.Latex object>"
      ]
     },
     "metadata": {},
     "output_type": "display_data"
    },
    {
     "data": {
      "text/latex": [
       "h = 10.0"
      ],
      "text/plain": [
       "<IPython.core.display.Latex object>"
      ]
     },
     "metadata": {},
     "output_type": "display_data"
    },
    {
     "data": {
      "text/latex": [
       "-----------------------------------------------"
      ],
      "text/plain": [
       "<IPython.core.display.Latex object>"
      ]
     },
     "metadata": {},
     "output_type": "display_data"
    }
   ],
   "source": [
    "import numpy as np\n",
    "import scipy.integrate\n",
    "from IPython.display import display, Latex\n",
    "\n",
    "'''INPUT'''\n",
    "n = 3\n",
    "a, b = 0, 30\n",
    "# Zu integrierende Funktion\n",
    "def f(x):\n",
    "    return 2000*np.log(10000/(10000-100*x)) - 9.8*x\n",
    "'''INPUT'''\n",
    "\n",
    "def Rf(f, a, b, n):\n",
    "    xi = np.array([a + i * ((b - a) / n) for i in range(n)], dtype=np.float64)\n",
    "    h = (b - a) / n\n",
    "    return h * np.sum(f(xi + (h / 2)))\n",
    "\n",
    "def Tf(f, a, b, n):\n",
    "    h = (b - a) / n\n",
    "    xi = np.array([a + i * h for i in range(1, n)], dtype=np.float64)\n",
    "    return h * ((f(a) + f(b)) / 2 + np.sum(f(xi)))\n",
    "\n",
    "def Sf(f, a, b, n):\n",
    "    h = (b - a) / n\n",
    "    xi_1_n_m1 = np.array([a + i * h for i in range(1, n)], dtype=np.float64)\n",
    "    xi_1_n = np.array([a + i * h for i in range(1, n + 1)], dtype=np.float64)\n",
    "    xi_m1_1_n = np.array([a + (i - 1) * h for i in range(1, n + 1)], dtype=np.float64)\n",
    "    return (h / 3) * ((1 / 2) * f(a) + np.sum(f(xi_1_n_m1)) + 2 * np.sum(f((xi_m1_1_n + xi_1_n) / 2)) + (1 / 2) * f(b))\n",
    "\n",
    "integral, _ = scipy.integrate.quad(f, a, b, epsabs=1e-10)\n",
    "\n",
    "# Rechteck-Regel\n",
    "h = (b - a) / n\n",
    "sum_values_rect = [f(a + i * h + h / 2) for i in range(n)]\n",
    "sum_values_rect_str = ' + '.join([f'f({a + i * h + h / 2}) = {value:.2f}' for i, value in enumerate(sum_values_rect)])\n",
    "sum_values_rect_computed_str = ' + '.join([f'{value:.2f}' for value in sum_values_rect])\n",
    "\n",
    "display(Latex('RECHTECK-REGEL'))\n",
    "display(Latex(r'Rechteck-Regel: $R(f) = h \\sum_{i=0}^{n-1} f(x_i + \\frac{h}{2})$'))\n",
    "display(Latex(r'Rechteck-Regel: $R(f) = h \\sum_{i=0}^{n-1} f(a + i \\cdot h + \\frac{h}{2})$'))\n",
    "display(Latex(rf'''\n",
    "Rechteck-Regel: $R(f) = {h} \\sum_{{i=0}}^{{{n-1}}} f({a} + i \\cdot {h} + \\frac{{{h}}}{{2}}) = {h} \\left({sum_values_rect_computed_str}\\right)$\n",
    "'''))\n",
    "display(Latex(f'Wert des Integrals (scipy) = {integral}'))\n",
    "display(Latex(f'Wert mit Rechteckregel     = {Rf(f, a, b, n)}'))\n",
    "display(Latex(f'Absoluter Fehler           = {abs(integral - Rf(f, a, b, n))}'))\n",
    "display(Latex(f'n = {n}'))\n",
    "display(Latex(f'h = {(b - a) / n}'))\n",
    "display(Latex('-----------------------------------------------'))\n",
    "\n",
    "# Trapez-Regel\n",
    "sum_values_trap = [f(a + i * h) for i in range(1, n)]\n",
    "sum_values_trap_str = ' + '.join([f'f({a + i * h}) = {value:.2f}' for i, value in enumerate(sum_values_trap)])\n",
    "sum_values_trap_computed_str = ' + '.join([f'{value:.2f}' for value in sum_values_trap])\n",
    "\n",
    "display(Latex('TRAPEZ-REGEL'))\n",
    "display(Latex(r'Trapez-Regel: $T(f) = h \\left(\\frac{f(a) + f(b)}{2} + \\sum_{i=1}^{n-1} f(x_i)\\right)$'))\n",
    "display(Latex(r'Trapez-Regel: $T(f) = h \\left(\\frac{f(a) + f(b)}{2} + \\sum_{i=1}^{n-1} f(a + i \\cdot h)\\right)$'))\n",
    "display(Latex(rf'''\n",
    "Traprez-Regel: $T(f) = {h} \\left(\\frac{{f({a}) + f({b})}}{2} + \\sum_{{i=1}}^{{{n-1}}} f({a} + i \\cdot {h})\\right) = {h} \\cdot \\left(\\frac{{{f(a)} + {f(b)}}}{2} + ({sum_values_trap_computed_str})\\right)$\n",
    "'''))\n",
    "display(Latex(f'Wert des Integrals (scipy) = {integral}'))\n",
    "display(Latex(f'Wert mit Trapezregel       = {Tf(f, a, b, n)}'))\n",
    "display(Latex(f'Absoluter Fehler           = {abs(integral - Tf(f, a, b, n))}'))\n",
    "display(Latex(f'n = {n}'))\n",
    "display(Latex(f'h = {(b - a) / n}'))\n",
    "display(Latex('-----------------------------------------------'))\n",
    "\n",
    "# Simpson-Regel\n",
    "sum_values_simp = [f(a + i * h) for i in range(1, n)]\n",
    "sum_values_simp2 = [f((a + (i - 1) * h + a + i * h) / 2) for i in range(1, n + 1)]\n",
    "sum_values_simp_str = ' + '.join([f'f({a + i * h}) = {value:.2f}' for i, value in enumerate(sum_values_simp)])\n",
    "sum_values_simp2_str = ' + '.join([f'2 \\cdot f({(a + (i - 1) * h + a + i * h) / 2}) = {2 * value:.2f}' for i, value in enumerate(sum_values_simp2)])\n",
    "sum_values_simp_computed_str = ' + '.join([f'{value:.2f}' for value in sum_values_simp])\n",
    "sum_values_simp2_computed_str = ' + '.join([f'{2 * value:.2f}' for value in sum_values_simp2])\n",
    "\n",
    "display(Latex('SIMPSON-REGEL'))\n",
    "display(Latex(r'Simpson-Regel: $S(f) = \\frac{h}{3} \\left(\\frac{1}{2}f(a) + \\sum_{i=1}^{n-1} f(x_i) + 2\\sum_{i=1}^{n} f\\left(\\frac{x_{i-1} + x_i}{2}\\right) + \\frac{1}{2}f(b)\\right)$'))\n",
    "display(Latex(rf'''\n",
    "Simpson-Regel: $S(f) = \\frac{{{h}}}{{3}} \\left(\\frac{{1}}{{2}}f({a}) + \\sum_{{i=1}}^{{{n-1}}} f(x_i) + 2\\sum_{{i=1}}^{{{n}}} f\\left(\\frac{{x_{{i-1}} + x_i}}{2}\\right) + \\frac{{1}}{{2}}f({b})\\right) = \\frac{{{h}}}{{3}} \\left(\\frac{{1}}{{2}} \\cdot {f(a)} + ({sum_values_simp_computed_str}) + ({sum_values_simp2_computed_str}) + \\frac{{1}}{{2}} \\cdot {f(b)}\\right)$\n",
    "'''))\n",
    "display(Latex(f'Wert des Integrals (scipy) = {integral}'))\n",
    "display(Latex(f'Wert mit Simpson-Regel     = {Sf(f, a, b, n)}'))\n",
    "display(Latex(f'Absoluter Fehler           = {abs(integral - Sf(f, a, b, n))}'))\n",
    "display(Latex(f'n = {n}'))\n",
    "display(Latex(f'h = {(b - a) / n}'))\n",
    "display(Latex('-----------------------------------------------'))"
   ]
  }
 ],
 "metadata": {
  "kernelspec": {
   "display_name": "Python 3",
   "language": "python",
   "name": "python3"
  },
  "language_info": {
   "codemirror_mode": {
    "name": "ipython",
    "version": 3
   },
   "file_extension": ".py",
   "mimetype": "text/x-python",
   "name": "python",
   "nbconvert_exporter": "python",
   "pygments_lexer": "ipython3",
   "version": "3.11.4"
  }
 },
 "nbformat": 4,
 "nbformat_minor": 2
}
