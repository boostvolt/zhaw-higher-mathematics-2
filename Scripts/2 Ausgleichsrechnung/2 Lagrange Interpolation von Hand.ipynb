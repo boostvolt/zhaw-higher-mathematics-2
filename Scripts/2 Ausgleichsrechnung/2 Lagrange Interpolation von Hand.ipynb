{
 "cells": [
  {
   "cell_type": "code",
   "execution_count": 27,
   "metadata": {},
   "outputs": [
    {
     "name": "stdout",
     "output_type": "stream",
     "text": [
      "Interpolationspolynom vom Grad 3:\n"
     ]
    },
    {
     "data": {
      "text/latex": [
       "$\\displaystyle P_n(x) = \\sum_{i = 0}^{3} y_i * \\ell_i(x)$"
      ],
      "text/plain": [
       "<IPython.core.display.Math object>"
      ]
     },
     "metadata": {},
     "output_type": "display_data"
    },
    {
     "data": {
      "text/latex": [
       "$\\displaystyle P_n(x) = 1013 * \\ell_0(x) + 747 * \\ell_1(x) + 540 * \\ell_2(x) + 226 * \\ell_3(x)\\text{ mit } x = 3750$"
      ],
      "text/plain": [
       "<IPython.core.display.Math object>"
      ]
     },
     "metadata": {},
     "output_type": "display_data"
    },
    {
     "name": "stdout",
     "output_type": "stream",
     "text": [
      "\n"
     ]
    },
    {
     "data": {
      "text/latex": [
       "$\\displaystyle \\text{Lagrange-Polynome } \\ell_i \\text{:}$"
      ],
      "text/plain": [
       "<IPython.core.display.Math object>"
      ]
     },
     "metadata": {},
     "output_type": "display_data"
    },
    {
     "data": {
      "text/latex": [
       "$\\displaystyle \\ell_0(x) = \\frac{(x - x_1)}{(x_0 - x_1)} * \\frac{(x - x_2)}{(x_0 - x_2)} * \\frac{(x - x_3)}{(x_0 - x_3)} = \\frac{(3750 - 2500)}{(0 - 2500)} * \\frac{(3750 - 5000)}{(0 - 5000)} * \\frac{(3750 - 10000)}{(0 - 10000)} = -0.078125$"
      ],
      "text/plain": [
       "<IPython.core.display.Math object>"
      ]
     },
     "metadata": {},
     "output_type": "display_data"
    },
    {
     "data": {
      "text/latex": [
       "$\\displaystyle \\ell_1(x) = \\frac{(x - x_0)}{(x_1 - x_0)} * \\frac{(x - x_2)}{(x_1 - x_2)} * \\frac{(x - x_3)}{(x_1 - x_3)} = \\frac{(3750 - 0)}{(2500 - 0)} * \\frac{(3750 - 5000)}{(2500 - 5000)} * \\frac{(3750 - 10000)}{(2500 - 10000)} = 0.625$"
      ],
      "text/plain": [
       "<IPython.core.display.Math object>"
      ]
     },
     "metadata": {},
     "output_type": "display_data"
    },
    {
     "data": {
      "text/latex": [
       "$\\displaystyle \\ell_2(x) = \\frac{(x - x_0)}{(x_2 - x_0)} * \\frac{(x - x_1)}{(x_2 - x_1)} * \\frac{(x - x_3)}{(x_2 - x_3)} = \\frac{(3750 - 0)}{(5000 - 0)} * \\frac{(3750 - 2500)}{(5000 - 2500)} * \\frac{(3750 - 10000)}{(5000 - 10000)} = 0.46875$"
      ],
      "text/plain": [
       "<IPython.core.display.Math object>"
      ]
     },
     "metadata": {},
     "output_type": "display_data"
    },
    {
     "data": {
      "text/latex": [
       "$\\displaystyle \\ell_3(x) = \\frac{(x - x_0)}{(x_3 - x_0)} * \\frac{(x - x_1)}{(x_3 - x_1)} * \\frac{(x - x_2)}{(x_3 - x_2)} = \\frac{(3750 - 0)}{(10000 - 0)} * \\frac{(3750 - 2500)}{(10000 - 2500)} * \\frac{(3750 - 5000)}{(10000 - 5000)} = -0.015625$"
      ],
      "text/plain": [
       "<IPython.core.display.Math object>"
      ]
     },
     "metadata": {},
     "output_type": "display_data"
    },
    {
     "name": "stdout",
     "output_type": "stream",
     "text": [
      "\n"
     ]
    },
    {
     "data": {
      "text/latex": [
       "$\\displaystyle \\text{Einsetzen in } P_n(x) = 1013 * \\ell_0(x) + 747 * \\ell_1(x) + 540 * \\ell_2(x) + 226 * \\ell_3(x) = 637.328125$"
      ],
      "text/plain": [
       "<IPython.core.display.Math object>"
      ]
     },
     "metadata": {},
     "output_type": "display_data"
    },
    {
     "data": {
      "text/latex": [
       "$\\displaystyle f(3750) = 637.328125$"
      ],
      "text/plain": [
       "<IPython.core.display.Math object>"
      ]
     },
     "metadata": {},
     "output_type": "display_data"
    }
   ],
   "source": [
    "from IPython.display import display, Math\n",
    "import numpy as np\n",
    "\n",
    "\"\"\"\n",
    "=======================================================================================================================\n",
    "INPUT\n",
    "=======================================================================================================================\n",
    "\"\"\"\n",
    "\n",
    "x = np.array([0, 2500, 5000, 10000])  # xi\n",
    "y = np.array([1013, 747, 540, 226])  # yi\n",
    "x_int = 3750  # Zu interpolierende Stelle\n",
    "\n",
    "\"\"\"\n",
    "=======================================================================================================================\n",
    "\"\"\"\n",
    "\n",
    "def lagrange_int(x, y, x_int):\n",
    "    return np.sum([y[i] * np.prod([(x_int - x[j] * 1.0) / (x[i] - x[j]) for j in range(x.shape[0]) if j != i]) for i in\n",
    "                   range(x.shape[0])])\n",
    "\n",
    "n = x.shape[0] - 1\n",
    "\n",
    "print('Interpolationspolynom vom Grad {}:'.format(n))\n",
    "display(Math('P_n(x) = \\sum_{{i = 0}}^{{{:d}}} y_i * \\ell_i(x)'.format(n)))\n",
    "\n",
    "sum_out = ''\n",
    "for i in range(n + 1):\n",
    "    sum_out += '{} * \\ell_{}(x)'.format(y[i], i)\n",
    "    if i < n:\n",
    "        sum_out += ' + '\n",
    "\n",
    "display(Math('P_n(x) = ' + str(sum_out) + r'\\text{ mit } x = ' + str(x_int)))\n",
    "\n",
    "print()\n",
    "display(Math(r'\\text{Lagrange-Polynome } \\ell_i \\text{:}'))\n",
    "\n",
    "for i in range(n + 1):\n",
    "    prod_out_sym = ''\n",
    "    prod_out_con = ''\n",
    "    prod_res = 1\n",
    "\n",
    "    for j in range(n + 1):\n",
    "        last = j == n or (i == n and j == n - 1)\n",
    "        if j == i:\n",
    "            continue\n",
    "\n",
    "        prod_out_sym += '\\\\frac{{(x - x_{})}}{{(x_{} - x_{})}}'.format(j, i, j)\n",
    "        prod_out_con += '\\\\frac{{({} - {})}}{{({} - {})}}'.format(x_int, x[j], x[i], x[j])\n",
    "        prod_res *= (x_int - x[j]) / (x[i] - x[j])\n",
    "\n",
    "        if not last:\n",
    "            prod_out_sym += ' * '\n",
    "            prod_out_con += ' * '\n",
    "\n",
    "    display(Math('\\ell_{}(x) = {} = {} = {}'.format(i, prod_out_sym, prod_out_con, prod_res)))\n",
    "\n",
    "y_int = lagrange_int(x, y, x_int)\n",
    "\n",
    "print()\n",
    "display(Math(r'\\text{Einsetzen in } P_n(x) = ' + str(sum_out) + ' = ' + str(y_int)))\n",
    "display(Math('f({}) = {}'.format(x_int, y_int)))\n"
   ]
  }
 ],
 "metadata": {
  "kernelspec": {
   "display_name": "base",
   "language": "python",
   "name": "python3"
  },
  "language_info": {
   "codemirror_mode": {
    "name": "ipython",
    "version": 3
   },
   "file_extension": ".py",
   "mimetype": "text/x-python",
   "name": "python",
   "nbconvert_exporter": "python",
   "pygments_lexer": "ipython3",
   "version": "3.11.8"
  }
 },
 "nbformat": 4,
 "nbformat_minor": 2
}
