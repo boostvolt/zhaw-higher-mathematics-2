{
 "cells": [
  {
   "cell_type": "code",
   "execution_count": 27,
   "metadata": {},
   "outputs": [
    {
     "data": {
      "text/latex": [
       "$\\displaystyle \\text{Iteration: } 1$"
      ],
      "text/plain": [
       "<IPython.core.display.Math object>"
      ]
     },
     "metadata": {},
     "output_type": "display_data"
    },
    {
     "data": {
      "text/latex": [
       "$\\displaystyle \\text{{QR-Zerlegung von }} Dg(\\lambda_{0}) = Q_0 \\cdot R_0:$"
      ],
      "text/plain": [
       "<IPython.core.display.Math object>"
      ]
     },
     "metadata": {},
     "output_type": "display_data"
    },
    {
     "data": {
      "text/latex": [
       "$\\displaystyle \\text{{Q}}_0= \\left[\\begin{matrix}-0.107128611987356 & -0.0539499626589407 & 0.441275978849065\\\\-0.209098055692035 & -0.146680682830861 & 0.705605889636949\\\\-0.708969608253572 & -0.647084537808591 & -0.255835524486682\\\\-0.653200120878657 & 0.74040444712633 & -0.111842607280491\\\\-0.124471523877383 & 0.09304318576858 & 0.478994002684559\\end{matrix}\\right]$"
      ],
      "text/plain": [
       "<IPython.core.display.Math object>"
      ]
     },
     "metadata": {},
     "output_type": "display_data"
    },
    {
     "data": {
      "text/latex": [
       "$\\displaystyle \\text{{R}}_0= \\left[\\begin{matrix}2.40853395508183 \\cdot 10^{-6} & -3.89660942980535 & -0.450640423107013\\\\0 & -38.5385765526341 & -0.0103940789364515\\\\0 & 0 & -0.0925682501638006\\end{matrix}\\right]$"
      ],
      "text/plain": [
       "<IPython.core.display.Math object>"
      ]
     },
     "metadata": {},
     "output_type": "display_data"
    },
    {
     "data": {
      "text/latex": [
       "$\\displaystyle Dg(\\lambda_{0}) = \\left[\\begin{matrix}-2.58022899532333 \\cdot 10^{-7} & 2.49659312561522 & 0.00798909800196872\\\\-5.03619767075857 \\cdot 10^{-7} & 6.46763817963331 & 0.0304359443747449\\\\-1.70757737459979 \\cdot 10^{-6} & 27.7002946573285 & 0.349898458829413\\\\-1.5732546705998 \\cdot 10^{-6} & -25.988867714923 & 0.297015631027691\\\\-2.99793891699455 \\cdot 10^{-7} & -3.10073502376052 & 0.0107851653000366\\end{matrix}\\right]$"
      ],
      "text/plain": [
       "<IPython.core.display.Math object>"
      ]
     },
     "metadata": {},
     "output_type": "display_data"
    },
    {
     "name": "stdout",
     "output_type": "stream",
     "text": [
      "\n"
     ]
    },
    {
     "data": {
      "text/latex": [
       "$\\displaystyle \\text{{Auflösen nach }} \\delta_0\\text{{ mit }} R_0\\cdot \\delta_0= -Q_0^T \\cdot g(\\lambda_0):$"
      ],
      "text/plain": [
       "<IPython.core.display.Math object>"
      ]
     },
     "metadata": {},
     "output_type": "display_data"
    },
    {
     "data": {
      "text/latex": [
       "$\\displaystyle Q_0^T\\left[\\begin{matrix}-0.107128611987356 & -0.209098055692035 & -0.708969608253572 & -0.653200120878657 & -0.124471523877383\\\\-0.0539499626589407 & -0.146680682830861 & -0.647084537808591 & 0.74040444712633 & 0.09304318576858\\\\0.441275978849065 & 0.705605889636949 & -0.255835524486682 & -0.111842607280491 & 0.478994002684559\\end{matrix}\\right]$"
      ],
      "text/plain": [
       "<IPython.core.display.Math object>"
      ]
     },
     "metadata": {},
     "output_type": "display_data"
    },
    {
     "data": {
      "text/latex": [
       "$\\displaystyle -Q_0^T\\left[\\begin{matrix}0.107128611987356 & 0.209098055692035 & 0.708969608253572 & 0.653200120878657 & 0.124471523877383\\\\0.0539499626589407 & 0.146680682830861 & 0.647084537808591 & -0.74040444712633 & -0.09304318576858\\\\-0.441275978849065 & -0.705605889636949 & 0.255835524486682 & 0.111842607280491 & -0.478994002684559\\end{matrix}\\right]$"
      ],
      "text/plain": [
       "<IPython.core.display.Math object>"
      ]
     },
     "metadata": {},
     "output_type": "display_data"
    },
    {
     "data": {
      "text/latex": [
       "$\\displaystyle g(\\lambda_0) = \\left[\\begin{matrix}21.1977100467667\\\\63.6380232924143\\\\52.2422625400211\\\\-76.3254670599799\\\\-9.97938916994553\\end{matrix}\\right]$"
      ],
      "text/plain": [
       "<IPython.core.display.Math object>"
      ]
     },
     "metadata": {},
     "output_type": "display_data"
    },
    {
     "data": {
      "text/latex": [
       "$\\displaystyle \\delta_0 = \\left[\\begin{matrix}86393855.5922392\\\\-2.76961032518523\\\\482.328976176537\\end{matrix}\\right]$"
      ],
      "text/plain": [
       "<IPython.core.display.Math object>"
      ]
     },
     "metadata": {},
     "output_type": "display_data"
    },
    {
     "name": "stdout",
     "output_type": "stream",
     "text": [
      "\n"
     ]
    },
    {
     "data": {
      "text/latex": [
       "$\\displaystyle \\text{Optimales } p: 0$"
      ],
      "text/plain": [
       "<IPython.core.display.Math object>"
      ]
     },
     "metadata": {},
     "output_type": "display_data"
    },
    {
     "data": {
      "text/latex": [
       "$\\displaystyle \\text{{Lambda berechnen: }} \\lambda_1 = \\lambda_0 + \\frac{{\\delta_0}}{{2^0}}$"
      ],
      "text/plain": [
       "<IPython.core.display.Math object>"
      ]
     },
     "metadata": {},
     "output_type": "display_data"
    },
    {
     "data": {
      "text/latex": [
       "$\\displaystyle \\left[\\begin{matrix}100000000.0\\\\50.0\\\\600.0\\end{matrix}\\right] + \\frac{{\\left[\\begin{matrix}86393855.5922392\\\\-2.76961032518523\\\\482.328976176537\\end{matrix}\\right]}}{{2^0}} = \\left[\\begin{matrix}186393855.592239\\\\47.2303896748148\\\\1082.32897617654\\end{matrix}\\right]$"
      ],
      "text/plain": [
       "<IPython.core.display.Math object>"
      ]
     },
     "metadata": {},
     "output_type": "display_data"
    },
    {
     "name": "stdout",
     "output_type": "stream",
     "text": [
      "\n"
     ]
    },
    {
     "data": {
      "text/latex": [
       "$\\displaystyle \\lambda_{1} = 1.86e+08, 4.72e+01, 1.08e+03$"
      ],
      "text/plain": [
       "<IPython.core.display.Math object>"
      ]
     },
     "metadata": {},
     "output_type": "display_data"
    },
    {
     "data": {
      "text/latex": [
       "$\\displaystyle \\text{Inkrement} = 86393855.59358567$"
      ],
      "text/plain": [
       "<IPython.core.display.Math object>"
      ]
     },
     "metadata": {},
     "output_type": "display_data"
    },
    {
     "data": {
      "text/latex": [
       "$\\displaystyle \\text{Fehlerfunktional} = 6411.808016738334$"
      ],
      "text/plain": [
       "<IPython.core.display.Math object>"
      ]
     },
     "metadata": {},
     "output_type": "display_data"
    },
    {
     "name": "stdout",
     "output_type": "stream",
     "text": [
      "-----------------------------------------\n",
      "\n"
     ]
    },
    {
     "data": {
      "text/latex": [
       "$\\displaystyle \\text{Iteration: } 2$"
      ],
      "text/plain": [
       "<IPython.core.display.Math object>"
      ]
     },
     "metadata": {},
     "output_type": "display_data"
    },
    {
     "data": {
      "text/latex": [
       "$\\displaystyle \\text{{QR-Zerlegung von }} Dg(\\lambda_{1}) = Q_1 \\cdot R_1:$"
      ],
      "text/plain": [
       "<IPython.core.display.Math object>"
      ]
     },
     "metadata": {},
     "output_type": "display_data"
    },
    {
     "data": {
      "text/latex": [
       "$\\displaystyle \\text{{Q}}_1= \\left[\\begin{matrix}-0.233418688729112 & -0.258689523501341 & 0.495691956499888\\\\-0.400963909786344 & -0.484743287876194 & 0.458659809185847\\\\-0.721118450227441 & -0.221284621077544 & -0.613011888392304\\\\-0.485625731242143 & 0.768792458400773 & 0.161362216313788\\\\-0.169998496163753 & 0.24102893533825 & 0.37696063923826\\end{matrix}\\right]$"
      ],
      "text/plain": [
       "<IPython.core.display.Math object>"
      ]
     },
     "metadata": {},
     "output_type": "display_data"
    },
    {
     "data": {
      "text/latex": [
       "$\\displaystyle \\text{{R}}_1= \\left[\\begin{matrix}1.1425185400796 \\cdot 10^{-6} & -2.83276757594483 & -0.301056304150419\\\\0 & -12.9892580652978 & -0.00991558623465567\\\\0 & 0 & -0.0890500757610372\\end{matrix}\\right]$"
      ],
      "text/plain": [
       "<IPython.core.display.Math object>"
      ]
     },
     "metadata": {},
     "output_type": "display_data"
    },
    {
     "data": {
      "text/latex": [
       "$\\displaystyle Dg(\\lambda_{1}) = \\left[\\begin{matrix}-2.66685179474079 \\cdot 10^{-7} & 4.02140587259921 & 0.0286958197462514\\\\-4.58108700833701 \\cdot 10^{-7} & 7.43229322441163 & 0.0846755358940433\\\\-8.23891198978318 \\cdot 10^{-7} & 4.91708401327772 & 0.2738801773266\\\\-5.54836401483859 \\cdot 10^{-7} & -8.61037881531509 & 0.124208342342567\\\\-1.94226433652738 \\cdot 10^{-7} & -2.64922081442043 & 0.015220802289699\\end{matrix}\\right]$"
      ],
      "text/plain": [
       "<IPython.core.display.Math object>"
      ]
     },
     "metadata": {},
     "output_type": "display_data"
    },
    {
     "name": "stdout",
     "output_type": "stream",
     "text": [
      "\n"
     ]
    },
    {
     "data": {
      "text/latex": [
       "$\\displaystyle \\text{{Auflösen nach }} \\delta_1\\text{{ mit }} R_1\\cdot \\delta_1= -Q_1^T \\cdot g(\\lambda_1):$"
      ],
      "text/plain": [
       "<IPython.core.display.Math object>"
      ]
     },
     "metadata": {},
     "output_type": "display_data"
    },
    {
     "data": {
      "text/latex": [
       "$\\displaystyle Q_1^T\\left[\\begin{matrix}-0.233418688729112 & -0.400963909786344 & -0.721118450227441 & -0.485625731242143 & -0.169998496163753\\\\-0.258689523501341 & -0.484743287876194 & -0.221284621077544 & 0.768792458400773 & 0.24102893533825\\\\0.495691956499888 & 0.458659809185847 & -0.613011888392304 & 0.161362216313788 & 0.37696063923826\\end{matrix}\\right]$"
      ],
      "text/plain": [
       "<IPython.core.display.Math object>"
      ]
     },
     "metadata": {},
     "output_type": "display_data"
    },
    {
     "data": {
      "text/latex": [
       "$\\displaystyle -Q_1^T\\left[\\begin{matrix}0.233418688729112 & 0.400963909786344 & 0.721118450227441 & 0.485625731242143 & 0.169998496163753\\\\0.258689523501341 & 0.484743287876194 & 0.221284621077544 & -0.768792458400773 & -0.24102893533825\\\\-0.495691956499888 & -0.458659809185847 & 0.613011888392304 & -0.161362216313788 & -0.37696063923826\\end{matrix}\\right]$"
      ],
      "text/plain": [
       "<IPython.core.display.Math object>"
      ]
     },
     "metadata": {},
     "output_type": "display_data"
    },
    {
     "data": {
      "text/latex": [
       "$\\displaystyle g(\\lambda_1) = \\left[\\begin{matrix}-2.70847883148186\\\\28.6113529712548\\\\69.4317428339186\\\\-22.4180960955001\\\\-16.2026138264641\\end{matrix}\\right]$"
      ],
      "text/plain": [
       "<IPython.core.display.Math object>"
      ]
     },
     "metadata": {},
     "output_type": "display_data"
    },
    {
     "data": {
      "text/latex": [
       "$\\displaystyle \\delta_1 = \\left[\\begin{matrix}-87112317.2542435\\\\-3.47690484135657\\\\-454.882921282633\\end{matrix}\\right]$"
      ],
      "text/plain": [
       "<IPython.core.display.Math object>"
      ]
     },
     "metadata": {},
     "output_type": "display_data"
    },
    {
     "name": "stdout",
     "output_type": "stream",
     "text": [
      "\n"
     ]
    },
    {
     "data": {
      "text/latex": [
       "$\\displaystyle \\text{Optimales } p: 0$"
      ],
      "text/plain": [
       "<IPython.core.display.Math object>"
      ]
     },
     "metadata": {},
     "output_type": "display_data"
    },
    {
     "data": {
      "text/latex": [
       "$\\displaystyle \\text{{Lambda berechnen: }} \\lambda_2 = \\lambda_1 + \\frac{{\\delta_1}}{{2^0}}$"
      ],
      "text/plain": [
       "<IPython.core.display.Math object>"
      ]
     },
     "metadata": {},
     "output_type": "display_data"
    },
    {
     "data": {
      "text/latex": [
       "$\\displaystyle \\left[\\begin{matrix}186393855.592239\\\\47.2303896748148\\\\1082.32897617654\\end{matrix}\\right] + \\frac{{\\left[\\begin{matrix}-87112317.2542435\\\\-3.47690484135657\\\\-454.882921282633\\end{matrix}\\right]}}{{2^0}} = \\left[\\begin{matrix}99281538.3379957\\\\43.7534848334582\\\\627.446054893903\\end{matrix}\\right]$"
      ],
      "text/plain": [
       "<IPython.core.display.Math object>"
      ]
     },
     "metadata": {},
     "output_type": "display_data"
    },
    {
     "name": "stdout",
     "output_type": "stream",
     "text": [
      "\n"
     ]
    },
    {
     "data": {
      "text/latex": [
       "$\\displaystyle \\lambda_{2} = 9.93e+07, 4.38e+01, 6.27e+02$"
      ],
      "text/plain": [
       "<IPython.core.display.Math object>"
      ]
     },
     "metadata": {},
     "output_type": "display_data"
    },
    {
     "data": {
      "text/latex": [
       "$\\displaystyle \\text{Inkrement} = 87112317.25543125$"
      ],
      "text/plain": [
       "<IPython.core.display.Math object>"
      ]
     },
     "metadata": {},
     "output_type": "display_data"
    },
    {
     "data": {
      "text/latex": [
       "$\\displaystyle \\text{Fehlerfunktional} = 874.0082153114539$"
      ],
      "text/plain": [
       "<IPython.core.display.Math object>"
      ]
     },
     "metadata": {},
     "output_type": "display_data"
    },
    {
     "name": "stdout",
     "output_type": "stream",
     "text": [
      "-----------------------------------------\n",
      "\n"
     ]
    },
    {
     "data": {
      "text/latex": [
       "$\\displaystyle \\text{Iteration: } 3$"
      ],
      "text/plain": [
       "<IPython.core.display.Math object>"
      ]
     },
     "metadata": {},
     "output_type": "display_data"
    },
    {
     "data": {
      "text/latex": [
       "$\\displaystyle \\text{{QR-Zerlegung von }} Dg(\\lambda_{2}) = Q_2 \\cdot R_2:$"
      ],
      "text/plain": [
       "<IPython.core.display.Math object>"
      ]
     },
     "metadata": {},
     "output_type": "display_data"
    },
    {
     "data": {
      "text/latex": [
       "$\\displaystyle \\text{{Q}}_2= \\left[\\begin{matrix}-0.17154279150787 & -0.285494958506001 & 0.302436760341343\\\\-0.405929796782098 & -0.832204493998968 & 0.0723446439361606\\\\-0.868919609683919 & 0.367653711451355 & -0.325049690902424\\\\-0.216765218979991 & 0.297932822373745 & 0.853641786967761\\\\-0.0615274126990048 & 0.0446664375570309 & 0.262557910706781\\end{matrix}\\right]$"
      ],
      "text/plain": [
       "<IPython.core.display.Math object>"
      ]
     },
     "metadata": {},
     "output_type": "display_data"
    },
    {
     "data": {
      "text/latex": [
       "$\\displaystyle \\text{{R}}_2= \\left[\\begin{matrix}2.83511884144103 \\cdot 10^{-6} & 4.44289876749374 & -0.739458105639454\\\\0 & -21.2307998939924 & 0.146431451194676\\\\0 & 0 & -0.183755678656608\\end{matrix}\\right]$"
      ],
      "text/plain": [
       "<IPython.core.display.Math object>"
      ]
     },
     "metadata": {},
     "output_type": "display_data"
    },
    {
     "data": {
      "text/latex": [
       "$\\displaystyle Dg(\\lambda_{2}) = \\left[\\begin{matrix}-4.86344200317354 \\cdot 10^{-7} & 5.29913907782181 & 0.0294687944144868\\\\-1.15085921515926 \\cdot 10^{-6} & 15.8648620891611 & 0.165013427660439\\\\-2.46349035711246 \\cdot 10^{-6} & -11.6661042410232 & 0.756095441583671\\\\-6.14555156499264 \\cdot 10^{-7} & -7.28841805791107 & 0.0470540078402787\\\\-1.74437527008067 \\cdot 10^{-7} & -1.22166426379831 & 0.0037910082418897\\end{matrix}\\right]$"
      ],
      "text/plain": [
       "<IPython.core.display.Math object>"
      ]
     },
     "metadata": {},
     "output_type": "display_data"
    },
    {
     "name": "stdout",
     "output_type": "stream",
     "text": [
      "\n"
     ]
    },
    {
     "data": {
      "text/latex": [
       "$\\displaystyle \\text{{Auflösen nach }} \\delta_2\\text{{ mit }} R_2\\cdot \\delta_2= -Q_2^T \\cdot g(\\lambda_2):$"
      ],
      "text/plain": [
       "<IPython.core.display.Math object>"
      ]
     },
     "metadata": {},
     "output_type": "display_data"
    },
    {
     "data": {
      "text/latex": [
       "$\\displaystyle Q_2^T\\left[\\begin{matrix}-0.17154279150787 & -0.405929796782098 & -0.868919609683919 & -0.216765218979991 & -0.0615274126990048\\\\-0.285494958506001 & -0.832204493998968 & 0.367653711451355 & 0.297932822373745 & 0.0446664375570309\\\\0.302436760341343 & 0.0723446439361606 & -0.325049690902424 & 0.853641786967761 & 0.262557910706781\\end{matrix}\\right]$"
      ],
      "text/plain": [
       "<IPython.core.display.Math object>"
      ]
     },
     "metadata": {},
     "output_type": "display_data"
    },
    {
     "data": {
      "text/latex": [
       "$\\displaystyle -Q_2^T\\left[\\begin{matrix}0.17154279150787 & 0.405929796782098 & 0.868919609683919 & 0.216765218979991 & 0.0615274126990048\\\\0.285494958506001 & 0.832204493998968 & -0.367653711451355 & -0.297932822373745 & -0.0446664375570309\\\\-0.302436760341343 & -0.0723446439361606 & 0.325049690902424 & -0.853641786967761 & -0.262557910706781\\end{matrix}\\right]$"
      ],
      "text/plain": [
       "<IPython.core.display.Math object>"
      ]
     },
     "metadata": {},
     "output_type": "display_data"
    },
    {
     "data": {
      "text/latex": [
       "$\\displaystyle g(\\lambda_2) = \\left[\\begin{matrix}-1.28500036926926\\\\-0.259073291469264\\\\-21.5791123349439\\\\19.9860186692053\\\\2.68157397476347\\end{matrix}\\right]$"
      ],
      "text/plain": [
       "<IPython.core.display.Math object>"
      ]
     },
     "metadata": {},
     "output_type": "display_data"
    },
    {
     "data": {
      "text/latex": [
       "$\\displaystyle \\delta_2 = \\left[\\begin{matrix}28111656.3181878\\\\0.854634902035486\\\\132.63197747262\\end{matrix}\\right]$"
      ],
      "text/plain": [
       "<IPython.core.display.Math object>"
      ]
     },
     "metadata": {},
     "output_type": "display_data"
    },
    {
     "name": "stdout",
     "output_type": "stream",
     "text": [
      "\n"
     ]
    },
    {
     "data": {
      "text/latex": [
       "$\\displaystyle \\text{Optimales } p: 0$"
      ],
      "text/plain": [
       "<IPython.core.display.Math object>"
      ]
     },
     "metadata": {},
     "output_type": "display_data"
    },
    {
     "data": {
      "text/latex": [
       "$\\displaystyle \\text{{Lambda berechnen: }} \\lambda_3 = \\lambda_2 + \\frac{{\\delta_2}}{{2^0}}$"
      ],
      "text/plain": [
       "<IPython.core.display.Math object>"
      ]
     },
     "metadata": {},
     "output_type": "display_data"
    },
    {
     "data": {
      "text/latex": [
       "$\\displaystyle \\left[\\begin{matrix}99281538.3379957\\\\43.7534848334582\\\\627.446054893903\\end{matrix}\\right] + \\frac{{\\left[\\begin{matrix}28111656.3181878\\\\0.854634902035486\\\\132.63197747262\\end{matrix}\\right]}}{{2^0}} = \\left[\\begin{matrix}127393194.656183\\\\44.6081197354937\\\\760.078032366524\\end{matrix}\\right]$"
      ],
      "text/plain": [
       "<IPython.core.display.Math object>"
      ]
     },
     "metadata": {},
     "output_type": "display_data"
    },
    {
     "name": "stdout",
     "output_type": "stream",
     "text": [
      "\n"
     ]
    },
    {
     "data": {
      "text/latex": [
       "$\\displaystyle \\lambda_{3} = 1.27e+08, 4.46e+01, 7.60e+02$"
      ],
      "text/plain": [
       "<IPython.core.display.Math object>"
      ]
     },
     "metadata": {},
     "output_type": "display_data"
    },
    {
     "data": {
      "text/latex": [
       "$\\displaystyle \\text{Inkrement} = 28111656.31850066$"
      ],
      "text/plain": [
       "<IPython.core.display.Math object>"
      ]
     },
     "metadata": {},
     "output_type": "display_data"
    },
    {
     "data": {
      "text/latex": [
       "$\\displaystyle \\text{Fehlerfunktional} = 77.72629445309288$"
      ],
      "text/plain": [
       "<IPython.core.display.Math object>"
      ]
     },
     "metadata": {},
     "output_type": "display_data"
    },
    {
     "name": "stdout",
     "output_type": "stream",
     "text": [
      "-----------------------------------------\n",
      "\n"
     ]
    },
    {
     "data": {
      "text/latex": [
       "$\\displaystyle \\text{Iteration: } 4$"
      ],
      "text/plain": [
       "<IPython.core.display.Math object>"
      ]
     },
     "metadata": {},
     "output_type": "display_data"
    },
    {
     "data": {
      "text/latex": [
       "$\\displaystyle \\text{{QR-Zerlegung von }} Dg(\\lambda_{3}) = Q_3 \\cdot R_3:$"
      ],
      "text/plain": [
       "<IPython.core.display.Math object>"
      ]
     },
     "metadata": {},
     "output_type": "display_data"
    },
    {
     "data": {
      "text/latex": [
       "$\\displaystyle \\text{{Q}}_3= \\left[\\begin{matrix}-0.197801333548866 & -0.294893856107422 & 0.344532184008668\\\\-0.415181705035405 & -0.735663111531124 & 0.274685521013313\\\\-0.833850961660566 & 0.230504156282213 & -0.492387080976437\\\\-0.292726424458899 & 0.554113447950182 & 0.700127242901786\\\\-0.0866175410147529 & 0.107997780994913 & 0.270596091919505\\end{matrix}\\right]$"
      ],
      "text/plain": [
       "<IPython.core.display.Math object>"
      ]
     },
     "metadata": {},
     "output_type": "display_data"
    },
    {
     "data": {
      "text/latex": [
       "$\\displaystyle \\text{{R}}_3= \\left[\\begin{matrix}2.07142500374247 \\cdot 10^{-6} & -1.7095348002254 & -0.569050422122224\\\\0 & -16.5156167461517 & 0.0583444009713611\\\\0 & 0 & -0.18239938044717\\end{matrix}\\right]$"
      ],
      "text/plain": [
       "<IPython.core.display.Math object>"
      ]
     },
     "metadata": {},
     "output_type": "display_data"
    },
    {
     "data": {
      "text/latex": [
       "$\\displaystyle Dg(\\lambda_{3}) = \\left[\\begin{matrix}-4.09730628086727 \\cdot 10^{-7} & 5.20850217149776 & 0.0325110700603073\\\\-8.6001776490677 \\cdot 10^{-7} & 12.8596975775044 & 0.143235032098174\\\\-1.7272597313784 \\cdot 10^{-6} & -2.38142106639192 & 0.577762967149954\\\\-6.06360834880297 \\cdot 10^{-7} & -8.65109933067582 & 0.0712027372560238\\\\-1.79421740220649 \\cdot 10^{-7} & -1.63557425967213 & 0.00623425459847535\\end{matrix}\\right]$"
      ],
      "text/plain": [
       "<IPython.core.display.Math object>"
      ]
     },
     "metadata": {},
     "output_type": "display_data"
    },
    {
     "name": "stdout",
     "output_type": "stream",
     "text": [
      "\n"
     ]
    },
    {
     "data": {
      "text/latex": [
       "$\\displaystyle \\text{{Auflösen nach }} \\delta_3\\text{{ mit }} R_3\\cdot \\delta_3= -Q_3^T \\cdot g(\\lambda_3):$"
      ],
      "text/plain": [
       "<IPython.core.display.Math object>"
      ]
     },
     "metadata": {},
     "output_type": "display_data"
    },
    {
     "data": {
      "text/latex": [
       "$\\displaystyle Q_3^T\\left[\\begin{matrix}-0.197801333548866 & -0.415181705035405 & -0.833850961660566 & -0.292726424458899 & -0.0866175410147529\\\\-0.294893856107422 & -0.735663111531124 & 0.230504156282213 & 0.554113447950182 & 0.107997780994913\\\\0.344532184008668 & 0.274685521013313 & -0.492387080976437 & 0.700127242901786 & 0.270596091919505\\end{matrix}\\right]$"
      ],
      "text/plain": [
       "<IPython.core.display.Math object>"
      ]
     },
     "metadata": {},
     "output_type": "display_data"
    },
    {
     "data": {
      "text/latex": [
       "$\\displaystyle -Q_3^T\\left[\\begin{matrix}0.197801333548866 & 0.415181705035405 & 0.833850961660566 & 0.292726424458899 & 0.0866175410147529\\\\0.294893856107422 & 0.735663111531124 & -0.230504156282213 & -0.554113447950182 & -0.107997780994913\\\\-0.344532184008668 & -0.274685521013313 & 0.492387080976437 & -0.700127242901786 & -0.270596091919505\\end{matrix}\\right]$"
      ],
      "text/plain": [
       "<IPython.core.display.Math object>"
      ]
     },
     "metadata": {},
     "output_type": "display_data"
    },
    {
     "data": {
      "text/latex": [
       "$\\displaystyle g(\\lambda_3) = \\left[\\begin{matrix}-5.19689366045273\\\\4.43958946745603\\\\2.95886481872392\\\\3.75375613020843\\\\-2.85710867748026\\end{matrix}\\right]$"
      ],
      "text/plain": [
       "<IPython.core.display.Math object>"
      ]
     },
     "metadata": {},
     "output_type": "display_data"
    },
    {
     "data": {
      "text/latex": [
       "$\\displaystyle \\delta_3 = \\left[\\begin{matrix}1768434.28849969\\\\0.0402437813255908\\\\-0.948076139083151\\end{matrix}\\right]$"
      ],
      "text/plain": [
       "<IPython.core.display.Math object>"
      ]
     },
     "metadata": {},
     "output_type": "display_data"
    },
    {
     "name": "stdout",
     "output_type": "stream",
     "text": [
      "\n"
     ]
    },
    {
     "data": {
      "text/latex": [
       "$\\displaystyle \\text{Optimales } p: 0$"
      ],
      "text/plain": [
       "<IPython.core.display.Math object>"
      ]
     },
     "metadata": {},
     "output_type": "display_data"
    },
    {
     "data": {
      "text/latex": [
       "$\\displaystyle \\text{{Lambda berechnen: }} \\lambda_4 = \\lambda_3 + \\frac{{\\delta_3}}{{2^0}}$"
      ],
      "text/plain": [
       "<IPython.core.display.Math object>"
      ]
     },
     "metadata": {},
     "output_type": "display_data"
    },
    {
     "data": {
      "text/latex": [
       "$\\displaystyle \\left[\\begin{matrix}127393194.656183\\\\44.6081197354937\\\\760.078032366524\\end{matrix}\\right] + \\frac{{\\left[\\begin{matrix}1768434.28849969\\\\0.0402437813255908\\\\-0.948076139083151\\end{matrix}\\right]}}{{2^0}} = \\left[\\begin{matrix}129161628.944683\\\\44.6483635168193\\\\759.129956227441\\end{matrix}\\right]$"
      ],
      "text/plain": [
       "<IPython.core.display.Math object>"
      ]
     },
     "metadata": {},
     "output_type": "display_data"
    },
    {
     "name": "stdout",
     "output_type": "stream",
     "text": [
      "\n"
     ]
    },
    {
     "data": {
      "text/latex": [
       "$\\displaystyle \\lambda_{4} = 1.29e+08, 4.46e+01, 7.59e+02$"
      ],
      "text/plain": [
       "<IPython.core.display.Math object>"
      ]
     },
     "metadata": {},
     "output_type": "display_data"
    },
    {
     "data": {
      "text/latex": [
       "$\\displaystyle \\text{Inkrement} = 1768434.2884999476$"
      ],
      "text/plain": [
       "<IPython.core.display.Math object>"
      ]
     },
     "metadata": {},
     "output_type": "display_data"
    },
    {
     "data": {
      "text/latex": [
       "$\\displaystyle \\text{Fehlerfunktional} = 60.08132610004532$"
      ],
      "text/plain": [
       "<IPython.core.display.Math object>"
      ]
     },
     "metadata": {},
     "output_type": "display_data"
    },
    {
     "name": "stdout",
     "output_type": "stream",
     "text": [
      "-----------------------------------------\n",
      "\n"
     ]
    },
    {
     "data": {
      "text/latex": [
       "$\\displaystyle \\text{Iteration: } 5$"
      ],
      "text/plain": [
       "<IPython.core.display.Math object>"
      ]
     },
     "metadata": {},
     "output_type": "display_data"
    },
    {
     "data": {
      "text/latex": [
       "$\\displaystyle \\text{{QR-Zerlegung von }} Dg(\\lambda_{4}) = Q_4 \\cdot R_4:$"
      ],
      "text/plain": [
       "<IPython.core.display.Math object>"
      ]
     },
     "metadata": {},
     "output_type": "display_data"
    },
    {
     "data": {
      "text/latex": [
       "$\\displaystyle \\text{{Q}}_4= \\left[\\begin{matrix}-0.196774606294406 & -0.293035717476363 & 0.345411422657354\\\\-0.412999684601962 & -0.733051376244836 & 0.284034823284426\\\\-0.834792155401836 & 0.222807832283681 & -0.494500335427971\\\\-0.293785583105953 & 0.561400495176121 & 0.695024436931734\\\\-0.0867358246344195 & 0.109324754551373 & 0.269120082098973\\end{matrix}\\right]$"
      ],
      "text/plain": [
       "<IPython.core.display.Math object>"
      ]
     },
     "metadata": {},
     "output_type": "display_data"
    },
    {
     "data": {
      "text/latex": [
       "$\\displaystyle \\text{{R}}_4= \\left[\\begin{matrix}2.07511000872815 \\cdot 10^{-6} & -1.84862802453397 & -0.579125797325237\\\\0 & -16.7198722164075 & 0.057560100788617\\\\0 & 0 & -0.186426032637521\\end{matrix}\\right]$"
      ],
      "text/plain": [
       "<IPython.core.display.Math object>"
      ]
     },
     "metadata": {},
     "output_type": "display_data"
    },
    {
     "data": {
      "text/latex": [
       "$\\displaystyle Dg(\\lambda_{4}) = \\left[\\begin{matrix}-4.08328954985062 \\cdot 10^{-7} & 5.26328280276055 & 0.0326964041773106\\\\-8.57019779119099 \\cdot 10^{-7} & 13.0200081299542 & 0.14403277530448\\\\-1.73228555688209 \\cdot 10^{-6} & -2.18209831146094 & 0.588462249552444\\\\-6.09637403923199 \\cdot 10^{-7} & -8.84344427943891 & 0.0728824307807016\\\\-1.79986377814173 \\cdot 10^{-7} & -1.66755365003882 & 0.00635270827994237\\end{matrix}\\right]$"
      ],
      "text/plain": [
       "<IPython.core.display.Math object>"
      ]
     },
     "metadata": {},
     "output_type": "display_data"
    },
    {
     "name": "stdout",
     "output_type": "stream",
     "text": [
      "\n"
     ]
    },
    {
     "data": {
      "text/latex": [
       "$\\displaystyle \\text{{Auflösen nach }} \\delta_4\\text{{ mit }} R_4\\cdot \\delta_4= -Q_4^T \\cdot g(\\lambda_4):$"
      ],
      "text/plain": [
       "<IPython.core.display.Math object>"
      ]
     },
     "metadata": {},
     "output_type": "display_data"
    },
    {
     "data": {
      "text/latex": [
       "$\\displaystyle Q_4^T\\left[\\begin{matrix}-0.196774606294406 & -0.412999684601962 & -0.834792155401836 & -0.293785583105953 & -0.0867358246344195\\\\-0.293035717476363 & -0.733051376244836 & 0.222807832283681 & 0.561400495176121 & 0.109324754551373\\\\0.345411422657354 & 0.284034823284426 & -0.494500335427971 & 0.695024436931734 & 0.269120082098973\\end{matrix}\\right]$"
      ],
      "text/plain": [
       "<IPython.core.display.Math object>"
      ]
     },
     "metadata": {},
     "output_type": "display_data"
    },
    {
     "data": {
      "text/latex": [
       "$\\displaystyle -Q_4^T\\left[\\begin{matrix}0.196774606294406 & 0.412999684601962 & 0.834792155401836 & 0.293785583105953 & 0.0867358246344195\\\\0.293035717476363 & 0.733051376244836 & -0.222807832283681 & -0.561400495176121 & -0.109324754551373\\\\-0.345411422657354 & -0.284034823284426 & 0.494500335427971 & -0.695024436931734 & -0.269120082098973\\end{matrix}\\right]$"
      ],
      "text/plain": [
       "<IPython.core.display.Math object>"
      ]
     },
     "metadata": {},
     "output_type": "display_data"
    },
    {
     "data": {
      "text/latex": [
       "$\\displaystyle g(\\lambda_4) = \\left[\\begin{matrix}-5.74043297115077\\\\3.30592929116459\\\\-0.744824324238948\\\\2.25823984367183\\\\-3.24733374633182\\end{matrix}\\right]$"
      ],
      "text/plain": [
       "<IPython.core.display.Math object>"
      ]
     },
     "metadata": {},
     "output_type": "display_data"
    },
    {
     "data": {
      "text/latex": [
       "$\\displaystyle \\delta_4 = \\left[\\begin{matrix}28702.5444685388\\\\0.000703125887626192\\\\0.10788703727758\\end{matrix}\\right]$"
      ],
      "text/plain": [
       "<IPython.core.display.Math object>"
      ]
     },
     "metadata": {},
     "output_type": "display_data"
    },
    {
     "name": "stdout",
     "output_type": "stream",
     "text": [
      "\n"
     ]
    },
    {
     "data": {
      "text/latex": [
       "$\\displaystyle \\text{Optimales } p: 0$"
      ],
      "text/plain": [
       "<IPython.core.display.Math object>"
      ]
     },
     "metadata": {},
     "output_type": "display_data"
    },
    {
     "data": {
      "text/latex": [
       "$\\displaystyle \\text{{Lambda berechnen: }} \\lambda_5 = \\lambda_4 + \\frac{{\\delta_4}}{{2^0}}$"
      ],
      "text/plain": [
       "<IPython.core.display.Math object>"
      ]
     },
     "metadata": {},
     "output_type": "display_data"
    },
    {
     "data": {
      "text/latex": [
       "$\\displaystyle \\left[\\begin{matrix}129161628.944683\\\\44.6483635168193\\\\759.129956227441\\end{matrix}\\right] + \\frac{{\\left[\\begin{matrix}28702.5444685388\\\\0.000703125887626192\\\\0.10788703727758\\end{matrix}\\right]}}{{2^0}} = \\left[\\begin{matrix}129190331.489152\\\\44.6490666427069\\\\759.237843264718\\end{matrix}\\right]$"
      ],
      "text/plain": [
       "<IPython.core.display.Math object>"
      ]
     },
     "metadata": {},
     "output_type": "display_data"
    },
    {
     "name": "stdout",
     "output_type": "stream",
     "text": [
      "\n"
     ]
    },
    {
     "data": {
      "text/latex": [
       "$\\displaystyle \\lambda_{5} = 1.29e+08, 4.46e+01, 7.59e+02$"
      ],
      "text/plain": [
       "<IPython.core.display.Math object>"
      ]
     },
     "metadata": {},
     "output_type": "display_data"
    },
    {
     "data": {
      "text/latex": [
       "$\\displaystyle \\text{Inkrement} = 28702.54446874153$"
      ],
      "text/plain": [
       "<IPython.core.display.Math object>"
      ]
     },
     "metadata": {},
     "output_type": "display_data"
    },
    {
     "data": {
      "text/latex": [
       "$\\displaystyle \\text{Fehlerfunktional} = 60.08087301417229$"
      ],
      "text/plain": [
       "<IPython.core.display.Math object>"
      ]
     },
     "metadata": {},
     "output_type": "display_data"
    },
    {
     "name": "stdout",
     "output_type": "stream",
     "text": [
      "-----------------------------------------\n",
      "\n"
     ]
    },
    {
     "data": {
      "text/latex": [
       "$\\displaystyle \\text{Iteration: } 6$"
      ],
      "text/plain": [
       "<IPython.core.display.Math object>"
      ]
     },
     "metadata": {},
     "output_type": "display_data"
    },
    {
     "data": {
      "text/latex": [
       "$\\displaystyle \\text{{QR-Zerlegung von }} Dg(\\lambda_{5}) = Q_5 \\cdot R_5:$"
      ],
      "text/plain": [
       "<IPython.core.display.Math object>"
      ]
     },
     "metadata": {},
     "output_type": "display_data"
    },
    {
     "data": {
      "text/latex": [
       "$\\displaystyle \\text{{Q}}_5= \\left[\\begin{matrix}-0.196794461229601 & -0.293030946377347 & 0.345468210603871\\\\-0.413005828345696 & -0.732951356931421 & 0.284176450820309\\\\-0.834759655373214 & 0.222663601270304 & -0.49461454252991\\\\-0.293849355621062 & 0.561580585446196 & 0.694854406020772\\\\-0.0867582834322772 & 0.10937705224055 & 0.269126864160344\\end{matrix}\\right]$"
      ],
      "text/plain": [
       "<IPython.core.display.Math object>"
      ]
     },
     "metadata": {},
     "output_type": "display_data"
    },
    {
     "data": {
      "text/latex": [
       "$\\displaystyle \\text{{R}}_5= \\left[\\begin{matrix}2.07461629920162 \\cdot 10^{-6} & -1.85142599432784 & -0.579022785289806\\\\0 & -16.718314762857 & 0.0574996835752227\\\\0 & 0 & -0.186413495479377\\end{matrix}\\right]$"
      ],
      "text/plain": [
       "<IPython.core.display.Math object>"
      ]
     },
     "metadata": {},
     "output_type": "display_data"
    },
    {
     "data": {
      "text/latex": [
       "$\\displaystyle Dg(\\lambda_{5}) = \\left[\\begin{matrix}-4.08272996859531 \\cdot 10^{-7} & 5.26333397785459 & 0.0326993536606517\\\\-8.56828623151247 \\cdot 10^{-7} & 13.0183612174508 & 0.144020988439725\\\\-1.7318059869532 \\cdot 10^{-6} & -2.17706444729411 & 0.588350773106452\\\\-6.09624662681348 \\cdot 10^{-7} & -8.84464065678571 & 0.0729059396368886\\\\-1.79990148899356 \\cdot 10^{-7} & -1.66797344602118 & 0.00635528933860868\\end{matrix}\\right]$"
      ],
      "text/plain": [
       "<IPython.core.display.Math object>"
      ]
     },
     "metadata": {},
     "output_type": "display_data"
    },
    {
     "name": "stdout",
     "output_type": "stream",
     "text": [
      "\n"
     ]
    },
    {
     "data": {
      "text/latex": [
       "$\\displaystyle \\text{{Auflösen nach }} \\delta_5\\text{{ mit }} R_5\\cdot \\delta_5= -Q_5^T \\cdot g(\\lambda_5):$"
      ],
      "text/plain": [
       "<IPython.core.display.Math object>"
      ]
     },
     "metadata": {},
     "output_type": "display_data"
    },
    {
     "data": {
      "text/latex": [
       "$\\displaystyle Q_5^T\\left[\\begin{matrix}-0.196794461229601 & -0.413005828345696 & -0.834759655373214 & -0.293849355621062 & -0.0867582834322772\\\\-0.293030946377347 & -0.732951356931421 & 0.222663601270304 & 0.561580585446196 & 0.10937705224055\\\\0.345468210603871 & 0.284176450820309 & -0.49461454252991 & 0.694854406020772 & 0.269126864160344\\end{matrix}\\right]$"
      ],
      "text/plain": [
       "<IPython.core.display.Math object>"
      ]
     },
     "metadata": {},
     "output_type": "display_data"
    },
    {
     "data": {
      "text/latex": [
       "$\\displaystyle -Q_5^T\\left[\\begin{matrix}0.196794461229601 & 0.413005828345696 & 0.834759655373214 & 0.293849355621062 & 0.0867582834322772\\\\0.293030946377347 & 0.732951356931421 & -0.222663601270304 & -0.561580585446196 & -0.10937705224055\\\\-0.345468210603871 & -0.284176450820309 & 0.49461454252991 & -0.694854406020772 & -0.269126864160344\\end{matrix}\\right]$"
      ],
      "text/plain": [
       "<IPython.core.display.Math object>"
      ]
     },
     "metadata": {},
     "output_type": "display_data"
    },
    {
     "data": {
      "text/latex": [
       "$\\displaystyle g(\\lambda_5) = \\left[\\begin{matrix}-5.74492380235215\\\\3.30602614569692\\\\-0.732589529380789\\\\2.24238774423432\\\\-3.25298700108958\\end{matrix}\\right]$"
      ],
      "text/plain": [
       "<IPython.core.display.Math object>"
      ]
     },
     "metadata": {},
     "output_type": "display_data"
    },
    {
     "data": {
      "text/latex": [
       "$\\displaystyle \\delta_5 = \\left[\\begin{matrix}-232.815765535704\\\\3.51484244122081 \\cdot 10^{-5}\\\\-0.000952298989692525\\end{matrix}\\right]$"
      ],
      "text/plain": [
       "<IPython.core.display.Math object>"
      ]
     },
     "metadata": {},
     "output_type": "display_data"
    },
    {
     "name": "stdout",
     "output_type": "stream",
     "text": [
      "\n"
     ]
    },
    {
     "data": {
      "text/latex": [
       "$\\displaystyle \\text{Optimales } p: 0$"
      ],
      "text/plain": [
       "<IPython.core.display.Math object>"
      ]
     },
     "metadata": {},
     "output_type": "display_data"
    },
    {
     "data": {
      "text/latex": [
       "$\\displaystyle \\text{{Lambda berechnen: }} \\lambda_6 = \\lambda_5 + \\frac{{\\delta_5}}{{2^0}}$"
      ],
      "text/plain": [
       "<IPython.core.display.Math object>"
      ]
     },
     "metadata": {},
     "output_type": "display_data"
    },
    {
     "data": {
      "text/latex": [
       "$\\displaystyle \\left[\\begin{matrix}129190331.489152\\\\44.6490666427069\\\\759.237843264718\\end{matrix}\\right] + \\frac{{\\left[\\begin{matrix}-232.815765535704\\\\3.51484244122081 \\cdot 10^{-5}\\\\-0.000952298989692525\\end{matrix}\\right]}}{{2^0}} = \\left[\\begin{matrix}129190098.673386\\\\44.6491017911313\\\\759.236890965728\\end{matrix}\\right]$"
      ],
      "text/plain": [
       "<IPython.core.display.Math object>"
      ]
     },
     "metadata": {},
     "output_type": "display_data"
    },
    {
     "name": "stdout",
     "output_type": "stream",
     "text": [
      "\n"
     ]
    },
    {
     "data": {
      "text/latex": [
       "$\\displaystyle \\lambda_{6} = 1.29e+08, 4.46e+01, 7.59e+02$"
      ],
      "text/plain": [
       "<IPython.core.display.Math object>"
      ]
     },
     "metadata": {},
     "output_type": "display_data"
    },
    {
     "data": {
      "text/latex": [
       "$\\displaystyle \\text{Inkrement} = 232.81576553765416$"
      ],
      "text/plain": [
       "<IPython.core.display.Math object>"
      ]
     },
     "metadata": {},
     "output_type": "display_data"
    },
    {
     "data": {
      "text/latex": [
       "$\\displaystyle \\text{Fehlerfunktional} = 60.08087256461085$"
      ],
      "text/plain": [
       "<IPython.core.display.Math object>"
      ]
     },
     "metadata": {},
     "output_type": "display_data"
    },
    {
     "name": "stdout",
     "output_type": "stream",
     "text": [
      "-----------------------------------------\n",
      "\n"
     ]
    },
    {
     "data": {
      "text/latex": [
       "$\\displaystyle \\text{Iteration: } 7$"
      ],
      "text/plain": [
       "<IPython.core.display.Math object>"
      ]
     },
     "metadata": {},
     "output_type": "display_data"
    },
    {
     "data": {
      "text/latex": [
       "$\\displaystyle \\text{{QR-Zerlegung von }} Dg(\\lambda_{6}) = Q_6 \\cdot R_6:$"
      ],
      "text/plain": [
       "<IPython.core.display.Math object>"
      ]
     },
     "metadata": {},
     "output_type": "display_data"
    },
    {
     "data": {
      "text/latex": [
       "$\\displaystyle \\text{{Q}}_6= \\left[\\begin{matrix}-0.196793530090417 & -0.293029267906507 & 0.345468974704482\\\\-0.413003883421867 & -0.732949051335369 & 0.284184671191899\\\\-0.834760516639994 & 0.222656842621597 & -0.494616285467193\\\\-0.293850241365203 & 0.561586928885975 & 0.694849938483861\\\\-0.0867583673287577 & 0.109378188113347 & 0.269125534492358\\end{matrix}\\right]$"
      ],
      "text/plain": [
       "<IPython.core.display.Math object>"
      ]
     },
     "metadata": {},
     "output_type": "display_data"
    },
    {
     "data": {
      "text/latex": [
       "$\\displaystyle \\text{{R}}_6= \\left[\\begin{matrix}2.07462006362688 \\cdot 10^{-6} & -1.85152437727319 & -0.57902390069858\\\\0 & -16.7182685113371 & 0.0574982000455634\\\\0 & 0 & -0.186414537123625\\end{matrix}\\right]$"
      ],
      "text/plain": [
       "<IPython.core.display.Math object>"
      ]
     },
     "metadata": {},
     "output_type": "display_data"
    },
    {
     "data": {
      "text/latex": [
       "$\\displaystyle Dg(\\lambda_{6}) = \\left[\\begin{matrix}-4.08271805917539 \\cdot 10^{-7} & 5.26331000079356 & 0.0326990629497941\\\\-8.56826142902821 \\cdot 10^{-7} & 13.0183258034186 & 0.144019714467836\\\\-1.73181091614487 \\cdot 10^{-6} & -2.17685743509028 & 0.588352324081795\\\\-6.09627606437851 \\cdot 10^{-7} & -8.8446901844176 & 0.07290642090371\\\\-1.79990649547751 \\cdot 10^{-7} & -1.66797868612085 & 0.00635530526915891\\end{matrix}\\right]$"
      ],
      "text/plain": [
       "<IPython.core.display.Math object>"
      ]
     },
     "metadata": {},
     "output_type": "display_data"
    },
    {
     "name": "stdout",
     "output_type": "stream",
     "text": [
      "\n"
     ]
    },
    {
     "data": {
      "text/latex": [
       "$\\displaystyle \\text{{Auflösen nach }} \\delta_6\\text{{ mit }} R_6\\cdot \\delta_6= -Q_6^T \\cdot g(\\lambda_6):$"
      ],
      "text/plain": [
       "<IPython.core.display.Math object>"
      ]
     },
     "metadata": {},
     "output_type": "display_data"
    },
    {
     "data": {
      "text/latex": [
       "$\\displaystyle Q_6^T\\left[\\begin{matrix}-0.196793530090417 & -0.413003883421867 & -0.834760516639994 & -0.293850241365203 & -0.0867583673287577\\\\-0.293029267906507 & -0.732949051335369 & 0.222656842621597 & 0.561586928885975 & 0.109378188113347\\\\0.345468974704482 & 0.284184671191899 & -0.494616285467193 & 0.694849938483861 & 0.269125534492358\\end{matrix}\\right]$"
      ],
      "text/plain": [
       "<IPython.core.display.Math object>"
      ]
     },
     "metadata": {},
     "output_type": "display_data"
    },
    {
     "data": {
      "text/latex": [
       "$\\displaystyle -Q_6^T\\left[\\begin{matrix}0.196793530090417 & 0.413003883421867 & 0.834760516639994 & 0.293850241365203 & 0.0867583673287577\\\\0.293029267906507 & 0.732949051335369 & -0.222656842621597 & -0.561586928885975 & -0.109378188113347\\\\-0.345468974704482 & -0.284184671191899 & 0.494616285467193 & -0.694849938483861 & -0.269125534492358\\end{matrix}\\right]$"
      ],
      "text/plain": [
       "<IPython.core.display.Math object>"
      ]
     },
     "metadata": {},
     "output_type": "display_data"
    },
    {
     "data": {
      "text/latex": [
       "$\\displaystyle g(\\lambda_6) = \\left[\\begin{matrix}-5.74467489204842\\\\3.30654605244766\\\\-0.732823140402786\\\\2.24214937027376\\\\-3.25300977536087\\end{matrix}\\right]$"
      ],
      "text/plain": [
       "<IPython.core.display.Math object>"
      ]
     },
     "metadata": {},
     "output_type": "display_data"
    },
    {
     "data": {
      "text/latex": [
       "$\\displaystyle \\delta_6 = \\left[\\begin{matrix}28.5331314964572\\\\1.14428088501427 \\cdot 10^{-6}\\\\9.85697970503211 \\cdot 10^{-5}\\end{matrix}\\right]$"
      ],
      "text/plain": [
       "<IPython.core.display.Math object>"
      ]
     },
     "metadata": {},
     "output_type": "display_data"
    },
    {
     "name": "stdout",
     "output_type": "stream",
     "text": [
      "\n"
     ]
    },
    {
     "data": {
      "text/latex": [
       "$\\displaystyle \\text{Optimales } p: 0$"
      ],
      "text/plain": [
       "<IPython.core.display.Math object>"
      ]
     },
     "metadata": {},
     "output_type": "display_data"
    },
    {
     "data": {
      "text/latex": [
       "$\\displaystyle \\text{{Lambda berechnen: }} \\lambda_7 = \\lambda_6 + \\frac{{\\delta_6}}{{2^0}}$"
      ],
      "text/plain": [
       "<IPython.core.display.Math object>"
      ]
     },
     "metadata": {},
     "output_type": "display_data"
    },
    {
     "data": {
      "text/latex": [
       "$\\displaystyle \\left[\\begin{matrix}129190098.673386\\\\44.6491017911313\\\\759.236890965728\\end{matrix}\\right] + \\frac{{\\left[\\begin{matrix}28.5331314964572\\\\1.14428088501427 \\cdot 10^{-6}\\\\9.85697970503211 \\cdot 10^{-5}\\end{matrix}\\right]}}{{2^0}} = \\left[\\begin{matrix}129190127.206518\\\\44.6491029354122\\\\759.236989535525\\end{matrix}\\right]$"
      ],
      "text/plain": [
       "<IPython.core.display.Math object>"
      ]
     },
     "metadata": {},
     "output_type": "display_data"
    },
    {
     "name": "stdout",
     "output_type": "stream",
     "text": [
      "\n"
     ]
    },
    {
     "data": {
      "text/latex": [
       "$\\displaystyle \\lambda_{7} = 1.29e+08, 4.46e+01, 7.59e+02$"
      ],
      "text/plain": [
       "<IPython.core.display.Math object>"
      ]
     },
     "metadata": {},
     "output_type": "display_data"
    },
    {
     "data": {
      "text/latex": [
       "$\\displaystyle \\text{Inkrement} = 28.53313149662745$"
      ],
      "text/plain": [
       "<IPython.core.display.Math object>"
      ]
     },
     "metadata": {},
     "output_type": "display_data"
    },
    {
     "data": {
      "text/latex": [
       "$\\displaystyle \\text{Fehlerfunktional} = 60.08087256408009$"
      ],
      "text/plain": [
       "<IPython.core.display.Math object>"
      ]
     },
     "metadata": {},
     "output_type": "display_data"
    },
    {
     "name": "stdout",
     "output_type": "stream",
     "text": [
      "-----------------------------------------\n",
      "\n"
     ]
    },
    {
     "data": {
      "text/latex": [
       "$\\displaystyle \\text{Iteration: } 8$"
      ],
      "text/plain": [
       "<IPython.core.display.Math object>"
      ]
     },
     "metadata": {},
     "output_type": "display_data"
    },
    {
     "data": {
      "text/latex": [
       "$\\displaystyle \\text{{QR-Zerlegung von }} Dg(\\lambda_{7}) = Q_7 \\cdot R_7:$"
      ],
      "text/plain": [
       "<IPython.core.display.Math object>"
      ]
     },
     "metadata": {},
     "output_type": "display_data"
    },
    {
     "data": {
      "text/latex": [
       "$\\displaystyle \\text{{Q}}_7= \\left[\\begin{matrix}-0.196793539055934 & -0.293029242658653 & 0.345469041953638\\\\-0.413003866088471 & -0.732948921249823 & 0.284184915486344\\\\-0.834760493914436 & 0.222656613358968 & -0.494616423168657\\\\-0.293850317211295 & 0.561587189655722 & 0.694849710682265\\\\-0.0867583912734969 & 0.109378255278279 & 0.269125525281925\\end{matrix}\\right]$"
      ],
      "text/plain": [
       "<IPython.core.display.Math object>"
      ]
     },
     "metadata": {},
     "output_type": "display_data"
    },
    {
     "data": {
      "text/latex": [
       "$\\displaystyle \\text{{R}}_7= \\left[\\begin{matrix}2.0746196054422 \\cdot 10^{-6} & -1.85152845537023 & -0.579023818322397\\\\0 & -16.7182666276953 & 0.0574981212984702\\\\0 & 0 & -0.186414539924326\\end{matrix}\\right]$"
      ],
      "text/plain": [
       "<IPython.core.display.Math object>"
      ]
     },
     "metadata": {},
     "output_type": "display_data"
    },
    {
     "data": {
      "text/latex": [
       "$\\displaystyle Dg(\\lambda_{7}) = \\left[\\begin{matrix}-4.08271734349795 \\cdot 10^{-7} & 5.26330984587405 & 0.0326990629530731\\\\-8.56825917710564 \\cdot 10^{-7} & 13.0183239001769 & 0.144019689271032\\\\-1.7318104865235 \\cdot 10^{-6} & -2.1768498206534 & 0.588352238497848\\\\-6.09627629151961 \\cdot 10^{-7} & -8.84469214742616 & 0.0729064519040376\\\\-1.79990659472622 \\cdot 10^{-7} & -1.66797920482936 & 0.00635530819877157\\end{matrix}\\right]$"
      ],
      "text/plain": [
       "<IPython.core.display.Math object>"
      ]
     },
     "metadata": {},
     "output_type": "display_data"
    },
    {
     "name": "stdout",
     "output_type": "stream",
     "text": [
      "\n"
     ]
    },
    {
     "data": {
      "text/latex": [
       "$\\displaystyle \\text{{Auflösen nach }} \\delta_7\\text{{ mit }} R_7\\cdot \\delta_7= -Q_7^T \\cdot g(\\lambda_7):$"
      ],
      "text/plain": [
       "<IPython.core.display.Math object>"
      ]
     },
     "metadata": {},
     "output_type": "display_data"
    },
    {
     "data": {
      "text/latex": [
       "$\\displaystyle Q_7^T\\left[\\begin{matrix}-0.196793539055934 & -0.413003866088471 & -0.834760493914436 & -0.293850317211295 & -0.0867583912734969\\\\-0.293029242658653 & -0.732948921249823 & 0.222656613358968 & 0.561587189655722 & 0.109378255278279\\\\0.345469041953638 & 0.284184915486344 & -0.494616423168657 & 0.694849710682265 & 0.269125525281925\\end{matrix}\\right]$"
      ],
      "text/plain": [
       "<IPython.core.display.Math object>"
      ]
     },
     "metadata": {},
     "output_type": "display_data"
    },
    {
     "data": {
      "text/latex": [
       "$\\displaystyle -Q_7^T\\left[\\begin{matrix}0.196793539055934 & 0.413003866088471 & 0.834760493914436 & 0.293850317211295 & 0.0867583912734969\\\\0.293029242658653 & 0.732948921249823 & -0.222656613358968 & -0.561587189655722 & -0.109378255278279\\\\-0.345469041953638 & -0.284184915486344 & 0.494616423168657 & -0.694849710682265 & -0.269125525281925\\end{matrix}\\right]$"
      ],
      "text/plain": [
       "<IPython.core.display.Math object>"
      ]
     },
     "metadata": {},
     "output_type": "display_data"
    },
    {
     "data": {
      "text/latex": [
       "$\\displaystyle g(\\lambda_7) = \\left[\\begin{matrix}-5.74467729547558\\\\3.30655069713096\\\\-0.732817051552246\\\\2.24212904125035\\\\-3.25301619325301\\end{matrix}\\right]$"
      ],
      "text/plain": [
       "<IPython.core.display.Math object>"
      ]
     },
     "metadata": {},
     "output_type": "display_data"
    },
    {
     "data": {
      "text/latex": [
       "$\\displaystyle \\delta_7 = \\left[\\begin{matrix}0.106640177509371\\\\4.97725086899276 \\cdot 10^{-8}\\\\2.22921311411853 \\cdot 10^{-7}\\end{matrix}\\right]$"
      ],
      "text/plain": [
       "<IPython.core.display.Math object>"
      ]
     },
     "metadata": {},
     "output_type": "display_data"
    },
    {
     "name": "stdout",
     "output_type": "stream",
     "text": [
      "\n"
     ]
    },
    {
     "data": {
      "text/latex": [
       "$\\displaystyle \\text{Optimales } p: 0$"
      ],
      "text/plain": [
       "<IPython.core.display.Math object>"
      ]
     },
     "metadata": {},
     "output_type": "display_data"
    },
    {
     "data": {
      "text/latex": [
       "$\\displaystyle \\text{{Lambda berechnen: }} \\lambda_8 = \\lambda_7 + \\frac{{\\delta_7}}{{2^0}}$"
      ],
      "text/plain": [
       "<IPython.core.display.Math object>"
      ]
     },
     "metadata": {},
     "output_type": "display_data"
    },
    {
     "data": {
      "text/latex": [
       "$\\displaystyle \\left[\\begin{matrix}129190127.206518\\\\44.6491029354122\\\\759.236989535525\\end{matrix}\\right] + \\frac{{\\left[\\begin{matrix}0.106640177509371\\\\4.97725086899276 \\cdot 10^{-8}\\\\2.22921311411853 \\cdot 10^{-7}\\end{matrix}\\right]}}{{2^0}} = \\left[\\begin{matrix}129190127.313158\\\\44.6491029851847\\\\759.236989758447\\end{matrix}\\right]$"
      ],
      "text/plain": [
       "<IPython.core.display.Math object>"
      ]
     },
     "metadata": {},
     "output_type": "display_data"
    },
    {
     "name": "stdout",
     "output_type": "stream",
     "text": [
      "\n"
     ]
    },
    {
     "data": {
      "text/latex": [
       "$\\displaystyle \\lambda_{8} = 1.29e+08, 4.46e+01, 7.59e+02$"
      ],
      "text/plain": [
       "<IPython.core.display.Math object>"
      ]
     },
     "metadata": {},
     "output_type": "display_data"
    },
    {
     "data": {
      "text/latex": [
       "$\\displaystyle \\text{Inkrement} = 0.10664017750961526$"
      ],
      "text/plain": [
       "<IPython.core.display.Math object>"
      ]
     },
     "metadata": {},
     "output_type": "display_data"
    },
    {
     "data": {
      "text/latex": [
       "$\\displaystyle \\text{Fehlerfunktional} = 60.08087256407955$"
      ],
      "text/plain": [
       "<IPython.core.display.Math object>"
      ]
     },
     "metadata": {},
     "output_type": "display_data"
    },
    {
     "name": "stdout",
     "output_type": "stream",
     "text": [
      "-----------------------------------------\n",
      "\n"
     ]
    },
    {
     "data": {
      "text/latex": [
       "$\\displaystyle \\text{Iteration: } 9$"
      ],
      "text/plain": [
       "<IPython.core.display.Math object>"
      ]
     },
     "metadata": {},
     "output_type": "display_data"
    },
    {
     "data": {
      "text/latex": [
       "$\\displaystyle \\text{{QR-Zerlegung von }} Dg(\\lambda_{8}) = Q_8 \\cdot R_8:$"
      ],
      "text/plain": [
       "<IPython.core.display.Math object>"
      ]
     },
     "metadata": {},
     "output_type": "display_data"
    },
    {
     "data": {
      "text/latex": [
       "$\\displaystyle \\text{{Q}}_8= \\left[\\begin{matrix}-0.196793538213757 & -0.293029240638311 & 0.345469043549588\\\\-0.413003863892033 & -0.732948917317532 & 0.28418492684408\\\\-0.834760494518371 & 0.222656603676286 & -0.494616426618608\\\\-0.293850319035706 & 0.561587199296479 & 0.694849703357025\\\\-0.0867583916495746 & 0.109378257252846 & 0.269125523812311\\end{matrix}\\right]$"
      ],
      "text/plain": [
       "<IPython.core.display.Math object>"
      ]
     },
     "metadata": {},
     "output_type": "display_data"
    },
    {
     "data": {
      "text/latex": [
       "$\\displaystyle \\text{{R}}_8= \\left[\\begin{matrix}2.07461960372974 \\cdot 10^{-6} & -1.8515286052785 & -0.579023818455051\\\\0 & -16.7182665574048 & 0.0574981188276417\\\\0 & 0 & -0.186414541019671\\end{matrix}\\right]$"
      ],
      "text/plain": [
       "<IPython.core.display.Math object>"
      ]
     },
     "metadata": {},
     "output_type": "display_data"
    },
    {
     "data": {
      "text/latex": [
       "$\\displaystyle Dg(\\lambda_{8}) = \\left[\\begin{matrix}-4.082717322656 \\cdot 10^{-7} & 5.26330981944193 & 0.0326990626558131\\\\-8.56825912446542 \\cdot 10^{-7} & 13.0183238407624 & 0.144019687662592\\\\-1.73181048634695 \\cdot 10^{-6} & -2.1768495168694 & 0.58835223903629\\\\-6.09627632433714 \\cdot 10^{-7} & -8.84469222170012 & 0.0729064527705659\\\\-1.7999066010427 \\cdot 10^{-7} & -1.66797921645032 & 0.00635530825048945\\end{matrix}\\right]$"
      ],
      "text/plain": [
       "<IPython.core.display.Math object>"
      ]
     },
     "metadata": {},
     "output_type": "display_data"
    },
    {
     "name": "stdout",
     "output_type": "stream",
     "text": [
      "\n"
     ]
    },
    {
     "data": {
      "text/latex": [
       "$\\displaystyle \\text{{Auflösen nach }} \\delta_8\\text{{ mit }} R_8\\cdot \\delta_8= -Q_8^T \\cdot g(\\lambda_8):$"
      ],
      "text/plain": [
       "<IPython.core.display.Math object>"
      ]
     },
     "metadata": {},
     "output_type": "display_data"
    },
    {
     "data": {
      "text/latex": [
       "$\\displaystyle Q_8^T\\left[\\begin{matrix}-0.196793538213757 & -0.413003863892033 & -0.834760494518371 & -0.293850319035706 & -0.0867583916495746\\\\-0.293029240638311 & -0.732948917317532 & 0.222656603676286 & 0.561587199296479 & 0.109378257252846\\\\0.345469043549588 & 0.28418492684408 & -0.494616426618608 & 0.694849703357025 & 0.269125523812311\\end{matrix}\\right]$"
      ],
      "text/plain": [
       "<IPython.core.display.Math object>"
      ]
     },
     "metadata": {},
     "output_type": "display_data"
    },
    {
     "data": {
      "text/latex": [
       "$\\displaystyle -Q_8^T\\left[\\begin{matrix}0.196793538213757 & 0.413003863892033 & 0.834760494518371 & 0.293850319035706 & 0.0867583916495746\\\\0.293029240638311 & 0.732948917317532 & -0.222656603676286 & -0.561587199296479 & -0.109378257252846\\\\-0.345469043549588 & -0.28418492684408 & 0.494616426618608 & -0.694849703357025 & -0.269125523812311\\end{matrix}\\right]$"
      ],
      "text/plain": [
       "<IPython.core.display.Math object>"
      ]
     },
     "metadata": {},
     "output_type": "display_data"
    },
    {
     "data": {
      "text/latex": [
       "$\\displaystyle g(\\lambda_8) = \\left[\\begin{matrix}-5.74467706975629\\\\3.3065512858186\\\\-0.732817213423857\\\\2.24212855226946\\\\-3.25301629405002\\end{matrix}\\right]$"
      ],
      "text/plain": [
       "<IPython.core.display.Math object>"
      ]
     },
     "metadata": {},
     "output_type": "display_data"
    },
    {
     "data": {
      "text/latex": [
       "$\\displaystyle \\delta_8 = \\left[\\begin{matrix}0.0304347896239604\\\\1.77221743833545 \\cdot 10^{-9}\\\\1.03379676806875 \\cdot 10^{-7}\\end{matrix}\\right]$"
      ],
      "text/plain": [
       "<IPython.core.display.Math object>"
      ]
     },
     "metadata": {},
     "output_type": "display_data"
    },
    {
     "name": "stdout",
     "output_type": "stream",
     "text": [
      "\n"
     ]
    },
    {
     "data": {
      "text/latex": [
       "$\\displaystyle \\text{Aktuelles } p: 0$"
      ],
      "text/plain": [
       "<IPython.core.display.Math object>"
      ]
     },
     "metadata": {},
     "output_type": "display_data"
    },
    {
     "data": {
      "text/latex": [
       "$\\displaystyle \\text{Optimales } p: 1$"
      ],
      "text/plain": [
       "<IPython.core.display.Math object>"
      ]
     },
     "metadata": {},
     "output_type": "display_data"
    },
    {
     "data": {
      "text/latex": [
       "$\\displaystyle \\text{{Lambda berechnen: }} \\lambda_9 = \\lambda_8 + \\frac{{\\delta_8}}{{2^1}}$"
      ],
      "text/plain": [
       "<IPython.core.display.Math object>"
      ]
     },
     "metadata": {},
     "output_type": "display_data"
    },
    {
     "data": {
      "text/latex": [
       "$\\displaystyle \\left[\\begin{matrix}129190127.313158\\\\44.6491029851847\\\\759.236989758447\\end{matrix}\\right] + \\frac{{\\left[\\begin{matrix}0.0304347896239604\\\\1.77221743833545 \\cdot 10^{-9}\\\\1.03379676806875 \\cdot 10^{-7}\\end{matrix}\\right]}}{{2^1}} = \\left[\\begin{matrix}129190127.328375\\\\44.6491029860708\\\\759.236989810137\\end{matrix}\\right]$"
      ],
      "text/plain": [
       "<IPython.core.display.Math object>"
      ]
     },
     "metadata": {},
     "output_type": "display_data"
    },
    {
     "name": "stdout",
     "output_type": "stream",
     "text": [
      "\n"
     ]
    },
    {
     "data": {
      "text/latex": [
       "$\\displaystyle \\lambda_{9} = 1.29e+08, 4.46e+01, 7.59e+02$"
      ],
      "text/plain": [
       "<IPython.core.display.Math object>"
      ]
     },
     "metadata": {},
     "output_type": "display_data"
    },
    {
     "data": {
      "text/latex": [
       "$\\displaystyle \\text{Inkrement} = 0.01521739481206802$"
      ],
      "text/plain": [
       "<IPython.core.display.Math object>"
      ]
     },
     "metadata": {},
     "output_type": "display_data"
    },
    {
     "data": {
      "text/latex": [
       "$\\displaystyle \\text{Fehlerfunktional} = 60.08087256407933$"
      ],
      "text/plain": [
       "<IPython.core.display.Math object>"
      ]
     },
     "metadata": {},
     "output_type": "display_data"
    },
    {
     "name": "stdout",
     "output_type": "stream",
     "text": [
      "-----------------------------------------\n",
      "\n"
     ]
    },
    {
     "data": {
      "text/latex": [
       "$\\displaystyle \\text{Iteration: } 10$"
      ],
      "text/plain": [
       "<IPython.core.display.Math object>"
      ]
     },
     "metadata": {},
     "output_type": "display_data"
    },
    {
     "data": {
      "text/latex": [
       "$\\displaystyle \\text{{QR-Zerlegung von }} Dg(\\lambda_{9}) = Q_9 \\cdot R_9:$"
      ],
      "text/plain": [
       "<IPython.core.display.Math object>"
      ]
     },
     "metadata": {},
     "output_type": "display_data"
    },
    {
     "data": {
      "text/latex": [
       "$\\displaystyle \\text{{Q}}_9= \\left[\\begin{matrix}-0.19679353821323 & -0.293029240613169 & 0.345469043593607\\\\-0.413003863869865 & -0.73294891722726 & 0.284184927037694\\\\-0.834760494510426 & 0.222656603500504 & -0.494616426709845\\\\-0.2938503190855 & 0.561587199488097 & 0.694849703196281\\\\-0.0867583916640829 & 0.109378257299116 & 0.269125523798698\\end{matrix}\\right]$"
      ],
      "text/plain": [
       "<IPython.core.display.Math object>"
      ]
     },
     "metadata": {},
     "output_type": "display_data"
    },
    {
     "data": {
      "text/latex": [
       "$\\displaystyle \\text{{R}}_9= \\left[\\begin{matrix}2.07461960348537 \\cdot 10^{-6} & -1.85152860826993 & -0.579023818413784\\\\0 & -16.7182665560166 & 0.057498118772447\\\\0 & 0 & -0.186414541027741\\end{matrix}\\right]$"
      ],
      "text/plain": [
       "<IPython.core.display.Math object>"
      ]
     },
     "metadata": {},
     "output_type": "display_data"
    },
    {
     "data": {
      "text/latex": [
       "$\\displaystyle Dg(\\lambda_{9}) = \\left[\\begin{matrix}-4.08271732216416 \\cdot 10^{-7} & 5.26330981920255 & 0.0326990626540125\\\\-8.56825912299627 \\cdot 10^{-7} & 13.0183238394302 & 0.144019687639973\\\\-1.73181048612647 \\cdot 10^{-6} & -2.17684951113913 & 0.588352238995844\\\\-6.09627632465209 \\cdot 10^{-7} & -8.84469222315284 & 0.0729064527916503\\\\-1.79990660113168 \\cdot 10^{-7} & -1.66797921678566 & 0.00635530825229908\\end{matrix}\\right]$"
      ],
      "text/plain": [
       "<IPython.core.display.Math object>"
      ]
     },
     "metadata": {},
     "output_type": "display_data"
    },
    {
     "name": "stdout",
     "output_type": "stream",
     "text": [
      "\n"
     ]
    },
    {
     "data": {
      "text/latex": [
       "$\\displaystyle \\text{{Auflösen nach }} \\delta_9\\text{{ mit }} R_9\\cdot \\delta_9= -Q_9^T \\cdot g(\\lambda_9):$"
      ],
      "text/plain": [
       "<IPython.core.display.Math object>"
      ]
     },
     "metadata": {},
     "output_type": "display_data"
    },
    {
     "data": {
      "text/latex": [
       "$\\displaystyle Q_9^T\\left[\\begin{matrix}-0.19679353821323 & -0.413003863869865 & -0.834760494510426 & -0.2938503190855 & -0.0867583916640829\\\\-0.293029240613169 & -0.73294891722726 & 0.222656603500504 & 0.561587199488097 & 0.109378257299116\\\\0.345469043593607 & 0.284184927037694 & -0.494616426709845 & 0.694849703196281 & 0.269125523798698\\end{matrix}\\right]$"
      ],
      "text/plain": [
       "<IPython.core.display.Math object>"
      ]
     },
     "metadata": {},
     "output_type": "display_data"
    },
    {
     "data": {
      "text/latex": [
       "$\\displaystyle -Q_9^T\\left[\\begin{matrix}0.19679353821323 & 0.413003863869865 & 0.834760494510426 & 0.2938503190855 & 0.0867583916640829\\\\0.293029240613169 & 0.73294891722726 & -0.222656603500504 & -0.561587199488097 & -0.109378257299116\\\\-0.345469043593607 & -0.284184927037694 & 0.494616426709845 & -0.694849703196281 & -0.269125523798698\\end{matrix}\\right]$"
      ],
      "text/plain": [
       "<IPython.core.display.Math object>"
      ]
     },
     "metadata": {},
     "output_type": "display_data"
    },
    {
     "data": {
      "text/latex": [
       "$\\displaystyle g(\\lambda_9) = \\left[\\begin{matrix}-5.74467706961504\\\\3.30655129175996\\\\-0.732817211294559\\\\2.24212853892365\\\\-3.25301629793852\\end{matrix}\\right]$"
      ],
      "text/plain": [
       "<IPython.core.display.Math object>"
      ]
     },
     "metadata": {},
     "output_type": "display_data"
    },
    {
     "data": {
      "text/latex": [
       "$\\displaystyle \\delta_9 = \\left[\\begin{matrix}0.0154563295248382\\\\9.22268811672118 \\cdot 10^{-10}\\\\5.24302565719004 \\cdot 10^{-8}\\end{matrix}\\right]$"
      ],
      "text/plain": [
       "<IPython.core.display.Math object>"
      ]
     },
     "metadata": {},
     "output_type": "display_data"
    },
    {
     "name": "stdout",
     "output_type": "stream",
     "text": [
      "\n"
     ]
    },
    {
     "data": {
      "text/latex": [
       "$\\displaystyle \\text{Aktuelles } p: 0$"
      ],
      "text/plain": [
       "<IPython.core.display.Math object>"
      ]
     },
     "metadata": {},
     "output_type": "display_data"
    },
    {
     "data": {
      "text/latex": [
       "$\\displaystyle \\text{Aktuelles } p: 1$"
      ],
      "text/plain": [
       "<IPython.core.display.Math object>"
      ]
     },
     "metadata": {},
     "output_type": "display_data"
    },
    {
     "data": {
      "text/latex": [
       "$\\displaystyle \\text{Aktuelles } p: 2$"
      ],
      "text/plain": [
       "<IPython.core.display.Math object>"
      ]
     },
     "metadata": {},
     "output_type": "display_data"
    },
    {
     "data": {
      "text/latex": [
       "$\\displaystyle \\text{Aktuelles } p: 3$"
      ],
      "text/plain": [
       "<IPython.core.display.Math object>"
      ]
     },
     "metadata": {},
     "output_type": "display_data"
    },
    {
     "data": {
      "text/latex": [
       "$\\displaystyle \\text{Aktuelles } p: 4$"
      ],
      "text/plain": [
       "<IPython.core.display.Math object>"
      ]
     },
     "metadata": {},
     "output_type": "display_data"
    },
    {
     "data": {
      "text/latex": [
       "$\\displaystyle \\text{Kein minimales } p \\text{ gefunden, daher } p = 0$"
      ],
      "text/plain": [
       "<IPython.core.display.Math object>"
      ]
     },
     "metadata": {},
     "output_type": "display_data"
    },
    {
     "data": {
      "text/latex": [
       "$\\displaystyle \\text{Optimales } p: 0$"
      ],
      "text/plain": [
       "<IPython.core.display.Math object>"
      ]
     },
     "metadata": {},
     "output_type": "display_data"
    },
    {
     "data": {
      "text/latex": [
       "$\\displaystyle \\text{{Lambda berechnen: }} \\lambda_10 = \\lambda_9 + \\frac{{\\delta_9}}{{2^0}}$"
      ],
      "text/plain": [
       "<IPython.core.display.Math object>"
      ]
     },
     "metadata": {},
     "output_type": "display_data"
    },
    {
     "data": {
      "text/latex": [
       "$\\displaystyle \\left[\\begin{matrix}129190127.328375\\\\44.6491029860708\\\\759.236989810137\\end{matrix}\\right] + \\frac{{\\left[\\begin{matrix}0.0154563295248382\\\\9.22268811672118 \\cdot 10^{-10}\\\\5.24302565719004 \\cdot 10^{-8}\\end{matrix}\\right]}}{{2^0}} = \\left[\\begin{matrix}129190127.343832\\\\44.6491029869931\\\\759.236989862567\\end{matrix}\\right]$"
      ],
      "text/plain": [
       "<IPython.core.display.Math object>"
      ]
     },
     "metadata": {},
     "output_type": "display_data"
    },
    {
     "name": "stdout",
     "output_type": "stream",
     "text": [
      "\n"
     ]
    },
    {
     "data": {
      "text/latex": [
       "$\\displaystyle \\lambda_{10} = 1.29e+08, 4.46e+01, 7.59e+02$"
      ],
      "text/plain": [
       "<IPython.core.display.Math object>"
      ]
     },
     "metadata": {},
     "output_type": "display_data"
    },
    {
     "data": {
      "text/latex": [
       "$\\displaystyle \\text{Inkrement} = 0.01545632952492713$"
      ],
      "text/plain": [
       "<IPython.core.display.Math object>"
      ]
     },
     "metadata": {},
     "output_type": "display_data"
    },
    {
     "data": {
      "text/latex": [
       "$\\displaystyle \\text{Fehlerfunktional} = 60.08087256407958$"
      ],
      "text/plain": [
       "<IPython.core.display.Math object>"
      ]
     },
     "metadata": {},
     "output_type": "display_data"
    },
    {
     "name": "stdout",
     "output_type": "stream",
     "text": [
      "-----------------------------------------\n",
      "\n"
     ]
    },
    {
     "data": {
      "text/latex": [
       "$\\displaystyle \\text{Iteration: } 11$"
      ],
      "text/plain": [
       "<IPython.core.display.Math object>"
      ]
     },
     "metadata": {},
     "output_type": "display_data"
    },
    {
     "data": {
      "text/latex": [
       "$\\displaystyle \\text{{QR-Zerlegung von }} Dg(\\lambda_{10}) = Q_10 \\cdot R_10:$"
      ],
      "text/plain": [
       "<IPython.core.display.Math object>"
      ]
     },
     "metadata": {},
     "output_type": "display_data"
    },
    {
     "data": {
      "text/latex": [
       "$\\displaystyle \\text{{Q}}_10= \\left[\\begin{matrix}-0.196793538212267 & -0.293029240586691 & 0.345469043638973\\\\-0.413003863846307 & -0.732948917133885 & 0.284184927239455\\\\-0.834760494502694 & 0.222656603317646 & -0.494616426803951\\\\-0.293850319136829 & 0.561587199686962 & 0.694849703029847\\\\-0.086758391678959 & 0.109378257346957 & 0.269125523784169\\end{matrix}\\right]$"
      ],
      "text/plain": [
       "<IPython.core.display.Math object>"
      ]
     },
     "metadata": {},
     "output_type": "display_data"
    },
    {
     "data": {
      "text/latex": [
       "$\\displaystyle \\text{{R}}_10= \\left[\\begin{matrix}2.07461960323716 \\cdot 10^{-6} & -1.85152861137418 & -0.579023818372085\\\\0 & -16.7182665545757 & 0.0574981187153214\\\\0 & 0 & -0.186414541036468\\end{matrix}\\right]$"
      ],
      "text/plain": [
       "<IPython.core.display.Math object>"
      ]
     },
     "metadata": {},
     "output_type": "display_data"
    },
    {
     "data": {
      "text/latex": [
       "$\\displaystyle Dg(\\lambda_{10}) = \\left[\\begin{matrix}-4.08271732165571 \\cdot 10^{-7} & 5.26330981894677 & 0.0326990626520383\\\\-8.56825912148242 \\cdot 10^{-7} & 13.0183238380515 & 0.144019687616258\\\\-1.73181048590324 \\cdot 10^{-6} & -2.17684950518425 & 0.588352238955184\\\\-6.09627632498762 \\cdot 10^{-7} & -8.84469222466111 & 0.0729064528134329\\\\-1.79990660122497 \\cdot 10^{-7} & -1.667979217131 & 0.00635530825415705\\end{matrix}\\right]$"
      ],
      "text/plain": [
       "<IPython.core.display.Math object>"
      ]
     },
     "metadata": {},
     "output_type": "display_data"
    },
    {
     "name": "stdout",
     "output_type": "stream",
     "text": [
      "\n"
     ]
    },
    {
     "data": {
      "text/latex": [
       "$\\displaystyle \\text{{Auflösen nach }} \\delta_10\\text{{ mit }} R_10\\cdot \\delta_10= -Q_10^T \\cdot g(\\lambda_10):$"
      ],
      "text/plain": [
       "<IPython.core.display.Math object>"
      ]
     },
     "metadata": {},
     "output_type": "display_data"
    },
    {
     "data": {
      "text/latex": [
       "$\\displaystyle Q_10^T\\left[\\begin{matrix}-0.196793538212267 & -0.413003863846307 & -0.834760494502694 & -0.293850319136829 & -0.086758391678959\\\\-0.293029240586691 & -0.732948917133885 & 0.222656603317646 & 0.561587199686962 & 0.109378257346957\\\\0.345469043638973 & 0.284184927239455 & -0.494616426803951 & 0.694849703029847 & 0.269125523784169\\end{matrix}\\right]$"
      ],
      "text/plain": [
       "<IPython.core.display.Math object>"
      ]
     },
     "metadata": {},
     "output_type": "display_data"
    },
    {
     "data": {
      "text/latex": [
       "$\\displaystyle -Q_10^T\\left[\\begin{matrix}0.196793538212267 & 0.413003863846307 & 0.834760494502694 & 0.293850319136829 & 0.086758391678959\\\\0.293029240586691 & 0.732948917133885 & -0.222656603317646 & -0.561587199686962 & -0.109378257346957\\\\-0.345469043638973 & -0.284184927239455 & 0.494616426803951 & -0.694849703029847 & -0.269125523784169\\end{matrix}\\right]$"
      ],
      "text/plain": [
       "<IPython.core.display.Math object>"
      ]
     },
     "metadata": {},
     "output_type": "display_data"
    },
    {
     "data": {
      "text/latex": [
       "$\\displaystyle g(\\lambda_10) = \\left[\\begin{matrix}-5.7446770693568\\\\3.30655129807401\\\\-0.732817209222219\\\\2.24212852516634\\\\-3.25301630192564\\end{matrix}\\right]$"
      ],
      "text/plain": [
       "<IPython.core.display.Math object>"
      ]
     },
     "metadata": {},
     "output_type": "display_data"
    },
    {
     "data": {
      "text/latex": [
       "$\\displaystyle \\delta_10 = \\left[\\begin{matrix}0.000257428221725201\\\\3.75018732950236 \\cdot 10^{-11}\\\\8.02477632416615 \\cdot 10^{-10}\\end{matrix}\\right]$"
      ],
      "text/plain": [
       "<IPython.core.display.Math object>"
      ]
     },
     "metadata": {},
     "output_type": "display_data"
    },
    {
     "name": "stdout",
     "output_type": "stream",
     "text": [
      "\n"
     ]
    },
    {
     "data": {
      "text/latex": [
       "$\\displaystyle \\text{Aktuelles } p: 0$"
      ],
      "text/plain": [
       "<IPython.core.display.Math object>"
      ]
     },
     "metadata": {},
     "output_type": "display_data"
    },
    {
     "data": {
      "text/latex": [
       "$\\displaystyle \\text{Aktuelles } p: 1$"
      ],
      "text/plain": [
       "<IPython.core.display.Math object>"
      ]
     },
     "metadata": {},
     "output_type": "display_data"
    },
    {
     "data": {
      "text/latex": [
       "$\\displaystyle \\text{Optimales } p: 2$"
      ],
      "text/plain": [
       "<IPython.core.display.Math object>"
      ]
     },
     "metadata": {},
     "output_type": "display_data"
    },
    {
     "data": {
      "text/latex": [
       "$\\displaystyle \\text{{Lambda berechnen: }} \\lambda_11 = \\lambda_10 + \\frac{{\\delta_10}}{{2^2}}$"
      ],
      "text/plain": [
       "<IPython.core.display.Math object>"
      ]
     },
     "metadata": {},
     "output_type": "display_data"
    },
    {
     "data": {
      "text/latex": [
       "$\\displaystyle \\left[\\begin{matrix}129190127.343832\\\\44.6491029869931\\\\759.236989862567\\end{matrix}\\right] + \\frac{{\\left[\\begin{matrix}0.000257428221725201\\\\3.75018732950236 \\cdot 10^{-11}\\\\8.02477632416615 \\cdot 10^{-10}\\end{matrix}\\right]}}{{2^2}} = \\left[\\begin{matrix}129190127.343896\\\\44.6491029870025\\\\759.236989862768\\end{matrix}\\right]$"
      ],
      "text/plain": [
       "<IPython.core.display.Math object>"
      ]
     },
     "metadata": {},
     "output_type": "display_data"
    },
    {
     "name": "stdout",
     "output_type": "stream",
     "text": [
      "\n"
     ]
    },
    {
     "data": {
      "text/latex": [
       "$\\displaystyle \\lambda_{11} = 1.29e+08, 4.46e+01, 7.59e+02$"
      ],
      "text/plain": [
       "<IPython.core.display.Math object>"
      ]
     },
     "metadata": {},
     "output_type": "display_data"
    },
    {
     "data": {
      "text/latex": [
       "$\\displaystyle \\text{Inkrement} = 6.435705543161352e-05$"
      ],
      "text/plain": [
       "<IPython.core.display.Math object>"
      ]
     },
     "metadata": {},
     "output_type": "display_data"
    },
    {
     "data": {
      "text/latex": [
       "$\\displaystyle \\text{Fehlerfunktional} = 60.08087256407955$"
      ],
      "text/plain": [
       "<IPython.core.display.Math object>"
      ]
     },
     "metadata": {},
     "output_type": "display_data"
    },
    {
     "name": "stdout",
     "output_type": "stream",
     "text": [
      "-----------------------------------------\n",
      "\n"
     ]
    },
    {
     "data": {
      "image/png": "[encoded data removed]",
      "text/plain": [
       "<Figure size 640x480 with 1 Axes>"
      ]
     },
     "metadata": {},
     "output_type": "display_data"
    }
   ],
   "source": [
    "import matplotlib.pyplot as plt\n",
    "import numpy as np\n",
    "import sympy as sp\n",
    "from IPython.display import display, Math\n",
    "\n",
    "\"\"\"INPUT\"\"\"\n",
    "x = np.array([25, 35, 45, 55, 65], dtype=np.float64)\n",
    "y = np.array([47, 114, 223, 81, 20], dtype=np.float64)\n",
    "\n",
    "# Symbole für Ansatzfunktion\n",
    "p = sp.symbols(\"p0 p1 p2\")\n",
    "\n",
    "# Ansatzfunktion\n",
    "def f(x, p):\n",
    "    return p[0] / ((x**2 - p[1]**2)**2 + p[2]**2 )\n",
    "\n",
    "# Startvektor für Iteration\n",
    "lam0 = np.array([10**8, 50, 600], dtype=np.float64) \n",
    "\n",
    "# Fehlertoleranz für Abbruch\n",
    "tol = 10**-3\n",
    "max_iter = 30\n",
    "pmax = 4  # Maximale Dämpfung\n",
    "\n",
    "# Parameter für Plot\n",
    "a, b = 0, 70\n",
    "steps = 0.001\n",
    "\"\"\"INPUT\"\"\"\n",
    "\n",
    "sp.init_printing()\n",
    "\n",
    "def gauss_newton_d(g, Dg, lam0, tol, max_iter, pmax):\n",
    "    k = 0\n",
    "    lam = np.copy(lam0)\n",
    "    increment = tol + 1\n",
    "    err_func = np.linalg.norm(g(lam)) ** 2\n",
    "\n",
    "    while k < max_iter and increment > tol:\n",
    "        display(Math(f\"\\\\text{{Iteration: }} {k+1}\"))\n",
    "        Df = Dg(lam)\n",
    "        Q, R = np.linalg.qr(Df)\n",
    "        display(Math('\\\\text{{QR-Zerlegung von }} Dg(\\\\lambda_{' + str(k) + '}) = Q_' + str(k) + ' \\\\cdot R_' + str(k) + ':'))\n",
    "        display(Math('\\\\text{{Q}}_' + str(k) + '= ' + sp.latex(sp.Matrix(Q))))\n",
    "        display(Math('\\\\text{{R}}_' + str(k) + '= ' + sp.latex(sp.Matrix(R))))\n",
    "        display(Math('Dg(\\\\lambda_{' + str(k) + '}) = ' + sp.latex(sp.Matrix(Df))))\n",
    "        print()\n",
    "        \n",
    "        QT = Q.T\n",
    "        g_lambda_val = g(lam)\n",
    "        display(Math('\\\\text{{Auflösen nach }} \\\\delta_' + str(k) + '\\\\text{{ mit }} R_' + str(k) + '\\\\cdot \\\\delta_' + str(k) + '= -Q_' + str(k) + '^T \\\\cdot g(\\\\lambda_' + str(k) + '):'))\n",
    "        display(Math('Q_' + str(k) + '^T' + sp.latex(sp.Matrix(QT))))\n",
    "        display(Math('-Q_' + str(k) + '^T' + sp.latex(sp.Matrix(-1 * QT))))\n",
    "        display(Math('g(\\\\lambda_' + str(k) + ') = ' + sp.latex(sp.Matrix(g_lambda_val))))\n",
    "        \n",
    "        delta = np.linalg.solve(R, -QT @ g(lam)).flatten()\n",
    "        display(Math('\\\\delta_' + str(k) + ' = ' + sp.latex(sp.Matrix(delta))))\n",
    "        print()\n",
    "        \n",
    "       # Bestimmung der optimalen Dämpfung p\n",
    "        p = 0\n",
    "        while p < pmax and np.linalg.norm(g(lam + delta / (2**p))) ** 2 >= err_func:\n",
    "            display(Math(f\"\\\\text{{Aktuelles }} p: {p}\"))\n",
    "            p += 1\n",
    "        if p >= pmax and np.linalg.norm(g(lam + delta / (2**p))) ** 2 >= err_func:\n",
    "            display(Math(\"\\\\text{Kein minimales } p \\\\text{ gefunden, daher } p = 0\"))\n",
    "            p = 0\n",
    "\n",
    "        display(Math(f\"\\\\text{{Optimales }} p: {p}\"))\n",
    "\n",
    "        # Update des Vektors Lambda\n",
    "        lam_new = lam + delta / 2**p\n",
    "        display(Math('\\\\text{{Lambda berechnen: }} \\\\lambda_' + str(k+1) + ' = \\\\lambda_' + str(k) + ' + \\\\frac{{\\\\delta_' + str(k) + '}}{{2^' + str(p) + '}}'))\n",
    "        display(Math(sp.latex(sp.Matrix(lam)) + ' + \\\\frac{{' + sp.latex(sp.Matrix(delta)) + '}}{{2^' + str(p) + '}} = ' + sp.latex(sp.Matrix(lam_new))))\n",
    "        print()\n",
    "\n",
    "        err_func = np.linalg.norm(g(lam_new), 2) ** 2\n",
    "        increment = np.linalg.norm(delta / 2**p, 2)\n",
    "\n",
    "        # Ausgabe der Zwischenergebnisse mit IPython.display\n",
    "        display(Math(f\"\\\\lambda_{{{k+1}}} = \" + ', '.join(f\"{val:.2e}\" for val in lam_new)))\n",
    "        display(Math(f\"\\\\text{{Inkrement}} = {increment}\"))\n",
    "        display(Math(f\"\\\\text{{Fehlerfunktional}} = {err_func}\"))\n",
    "        print(\"-----------------------------------------\")\n",
    "        print()\n",
    "        \n",
    "        \n",
    "        # Aktualisierung von lam für die nächste Iteration\n",
    "        lam = lam_new\n",
    "        k += 1\n",
    "    \n",
    "    return lam, k\n",
    "\n",
    "def showPlot(lam, x, y, f):\n",
    "    t = sp.symbols(\"t\")\n",
    "    F = f(t, lam)\n",
    "    F = sp.lambdify([t], F, \"numpy\")\n",
    "    t = np.arange(a, b, steps)\n",
    "    plt.scatter(x, y, color=\"orange\", label=\"Daten\")\n",
    "    plt.plot(t, F(t), label=\"f(x)\")\n",
    "    plt.xlabel(\"x\")\n",
    "    plt.ylabel(\"y\")\n",
    "    plt.grid()\n",
    "    plt.legend()\n",
    "    plt.show()\n",
    "\n",
    "g = sp.Matrix([y[k] - f(x[k], p) for k in range(len(x))])\n",
    "Dg = g.jacobian(p)\n",
    "g = sp.lambdify([p], g, \"numpy\")\n",
    "Dg = sp.lambdify([p], Dg, \"numpy\")\n",
    "\n",
    "# Starte den Gauss-Newton-Algorithmus und zeige Zwischenergebnisse an\n",
    "lam_damp, n = gauss_newton_d(g, Dg, lam0, tol, max_iter, 5)\n",
    "\n",
    "# Zeige den finalen Plot der Funktion\n",
    "showPlot(lam_damp, x, y, f)\n"
   ]
  }
 ],
 "metadata": {
  "kernelspec": {
   "display_name": "base",
   "language": "python",
   "name": "python3"
  },
  "language_info": {
   "codemirror_mode": {
    "name": "ipython",
    "version": 3
   },
   "file_extension": ".py",
   "mimetype": "text/x-python",
   "name": "python",
   "nbconvert_exporter": "python",
   "pygments_lexer": "ipython3",
   "version": "3.11.8"
  }
 },
 "nbformat": 4,
 "nbformat_minor": 2
}
