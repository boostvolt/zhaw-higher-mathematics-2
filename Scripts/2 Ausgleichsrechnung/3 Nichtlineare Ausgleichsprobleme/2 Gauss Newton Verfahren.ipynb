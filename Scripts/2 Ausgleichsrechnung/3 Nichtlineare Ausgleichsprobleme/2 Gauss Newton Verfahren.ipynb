{
 "cells": [
  {
   "cell_type": "code",
   "execution_count": 38,
   "metadata": {},
   "outputs": [
    {
     "data": {
      "text/latex": [
       "$\\displaystyle \\text{Iteration: } 1$"
      ],
      "text/plain": [
       "<IPython.core.display.Math object>"
      ]
     },
     "metadata": {},
     "output_type": "display_data"
    },
    {
     "data": {
      "text/latex": [
       "$\\displaystyle \\text{QR-Zerlegung von } Dg(\\lambda_{0}) = Q_0 \\cdot R_0:$"
      ],
      "text/plain": [
       "<IPython.core.display.Math object>"
      ]
     },
     "metadata": {},
     "output_type": "display_data"
    },
    {
     "data": {
      "text/latex": [
       "$\\displaystyle \\text{Q}_0= \\left[\\begin{matrix}-0.107128611987356 & -0.0539499626589407 & 0.441275978849065\\\\-0.209098055692035 & -0.146680682830861 & 0.705605889636949\\\\-0.708969608253572 & -0.647084537808591 & -0.255835524486682\\\\-0.653200120878657 & 0.74040444712633 & -0.111842607280491\\\\-0.124471523877383 & 0.09304318576858 & 0.478994002684559\\end{matrix}\\right]$"
      ],
      "text/plain": [
       "<IPython.core.display.Math object>"
      ]
     },
     "metadata": {},
     "output_type": "display_data"
    },
    {
     "data": {
      "text/latex": [
       "$\\displaystyle \\text{R}_0= \\left[\\begin{matrix}2.40853395508183 \\cdot 10^{-6} & -3.89660942980535 & -0.450640423107013\\\\0 & -38.5385765526341 & -0.0103940789364515\\\\0 & 0 & -0.0925682501638006\\end{matrix}\\right]$"
      ],
      "text/plain": [
       "<IPython.core.display.Math object>"
      ]
     },
     "metadata": {},
     "output_type": "display_data"
    },
    {
     "name": "stdout",
     "output_type": "stream",
     "text": [
      "\n"
     ]
    },
    {
     "data": {
      "text/latex": [
       "$\\displaystyle \\text{Auflösen nach } \\delta_0\\text{ mit } R_0\\cdot \\delta_0= -Q_0^T \\cdot g(\\lambda_0):$"
      ],
      "text/plain": [
       "<IPython.core.display.Math object>"
      ]
     },
     "metadata": {},
     "output_type": "display_data"
    },
    {
     "data": {
      "text/latex": [
       "$\\displaystyle Q_0^T\\left[\\begin{matrix}-0.107128611987356 & -0.209098055692035 & -0.708969608253572 & -0.653200120878657 & -0.124471523877383\\\\-0.0539499626589407 & -0.146680682830861 & -0.647084537808591 & 0.74040444712633 & 0.09304318576858\\\\0.441275978849065 & 0.705605889636949 & -0.255835524486682 & -0.111842607280491 & 0.478994002684559\\end{matrix}\\right]$"
      ],
      "text/plain": [
       "<IPython.core.display.Math object>"
      ]
     },
     "metadata": {},
     "output_type": "display_data"
    },
    {
     "data": {
      "text/latex": [
       "$\\displaystyle -Q_0^T\\left[\\begin{matrix}0.107128611987356 & 0.209098055692035 & 0.708969608253572 & 0.653200120878657 & 0.124471523877383\\\\0.0539499626589407 & 0.146680682830861 & 0.647084537808591 & -0.74040444712633 & -0.09304318576858\\\\-0.441275978849065 & -0.705605889636949 & 0.255835524486682 & 0.111842607280491 & -0.478994002684559\\end{matrix}\\right]$"
      ],
      "text/plain": [
       "<IPython.core.display.Math object>"
      ]
     },
     "metadata": {},
     "output_type": "display_data"
    },
    {
     "data": {
      "text/latex": [
       "$\\displaystyle g(\\lambda_0) = \\left[\\begin{matrix}21.1977100467667\\\\63.6380232924143\\\\52.2422625400211\\\\-76.3254670599799\\\\-9.97938916994553\\end{matrix}\\right]$"
      ],
      "text/plain": [
       "<IPython.core.display.Math object>"
      ]
     },
     "metadata": {},
     "output_type": "display_data"
    },
    {
     "data": {
      "text/latex": [
       "$\\displaystyle \\delta_0 = \\left[\\begin{matrix}86393855.5922392\\\\-2.76961032518523\\\\482.328976176537\\end{matrix}\\right]$"
      ],
      "text/plain": [
       "<IPython.core.display.Math object>"
      ]
     },
     "metadata": {},
     "output_type": "display_data"
    },
    {
     "name": "stdout",
     "output_type": "stream",
     "text": [
      "\n"
     ]
    },
    {
     "data": {
      "text/latex": [
       "$\\displaystyle \\text{Lambda berechnen } \\lambda_{(1)} = \\lambda_0+ \\delta_0:$"
      ],
      "text/plain": [
       "<IPython.core.display.Math object>"
      ]
     },
     "metadata": {},
     "output_type": "display_data"
    },
    {
     "data": {
      "text/latex": [
       "$\\displaystyle \\left[\\begin{matrix}100000000.0\\\\50.0\\\\600.0\\end{matrix}\\right] + \\left[\\begin{matrix}86393855.5922392\\\\-2.76961032518523\\\\482.328976176537\\end{matrix}\\right] = \\left[\\begin{matrix}186393855.592239\\\\47.2303896748148\\\\1082.32897617654\\end{matrix}\\right]$"
      ],
      "text/plain": [
       "<IPython.core.display.Math object>"
      ]
     },
     "metadata": {},
     "output_type": "display_data"
    },
    {
     "name": "stdout",
     "output_type": "stream",
     "text": [
      "\n"
     ]
    },
    {
     "data": {
      "text/latex": [
       "$\\displaystyle \\lambda_1 = 186393855.59,47.23,1082.33$"
      ],
      "text/plain": [
       "<IPython.core.display.Math object>"
      ]
     },
     "metadata": {},
     "output_type": "display_data"
    },
    {
     "data": {
      "text/latex": [
       "$\\displaystyle \\text{Inkrement: } 86393855.59$"
      ],
      "text/plain": [
       "<IPython.core.display.Math object>"
      ]
     },
     "metadata": {},
     "output_type": "display_data"
    },
    {
     "data": {
      "text/latex": [
       "$\\displaystyle \\text{Fehlerfunktional: } 6411.81$"
      ],
      "text/plain": [
       "<IPython.core.display.Math object>"
      ]
     },
     "metadata": {},
     "output_type": "display_data"
    },
    {
     "name": "stdout",
     "output_type": "stream",
     "text": [
      "-----------------------------\n",
      "\n"
     ]
    },
    {
     "data": {
      "text/latex": [
       "$\\displaystyle \\text{Iteration: } 2$"
      ],
      "text/plain": [
       "<IPython.core.display.Math object>"
      ]
     },
     "metadata": {},
     "output_type": "display_data"
    },
    {
     "data": {
      "text/latex": [
       "$\\displaystyle \\text{QR-Zerlegung von } Dg(\\lambda_{1}) = Q_1 \\cdot R_1:$"
      ],
      "text/plain": [
       "<IPython.core.display.Math object>"
      ]
     },
     "metadata": {},
     "output_type": "display_data"
    },
    {
     "data": {
      "text/latex": [
       "$\\displaystyle \\text{Q}_1= \\left[\\begin{matrix}-0.233418688729112 & -0.258689523501341 & 0.495691956499888\\\\-0.400963909786344 & -0.484743287876194 & 0.458659809185847\\\\-0.721118450227441 & -0.221284621077544 & -0.613011888392304\\\\-0.485625731242143 & 0.768792458400773 & 0.161362216313788\\\\-0.169998496163753 & 0.24102893533825 & 0.37696063923826\\end{matrix}\\right]$"
      ],
      "text/plain": [
       "<IPython.core.display.Math object>"
      ]
     },
     "metadata": {},
     "output_type": "display_data"
    },
    {
     "data": {
      "text/latex": [
       "$\\displaystyle \\text{R}_1= \\left[\\begin{matrix}1.1425185400796 \\cdot 10^{-6} & -2.83276757594483 & -0.301056304150419\\\\0 & -12.9892580652978 & -0.00991558623465567\\\\0 & 0 & -0.0890500757610372\\end{matrix}\\right]$"
      ],
      "text/plain": [
       "<IPython.core.display.Math object>"
      ]
     },
     "metadata": {},
     "output_type": "display_data"
    },
    {
     "name": "stdout",
     "output_type": "stream",
     "text": [
      "\n"
     ]
    },
    {
     "data": {
      "text/latex": [
       "$\\displaystyle \\text{Auflösen nach } \\delta_1\\text{ mit } R_1\\cdot \\delta_1= -Q_1^T \\cdot g(\\lambda_1):$"
      ],
      "text/plain": [
       "<IPython.core.display.Math object>"
      ]
     },
     "metadata": {},
     "output_type": "display_data"
    },
    {
     "data": {
      "text/latex": [
       "$\\displaystyle Q_1^T\\left[\\begin{matrix}-0.233418688729112 & -0.400963909786344 & -0.721118450227441 & -0.485625731242143 & -0.169998496163753\\\\-0.258689523501341 & -0.484743287876194 & -0.221284621077544 & 0.768792458400773 & 0.24102893533825\\\\0.495691956499888 & 0.458659809185847 & -0.613011888392304 & 0.161362216313788 & 0.37696063923826\\end{matrix}\\right]$"
      ],
      "text/plain": [
       "<IPython.core.display.Math object>"
      ]
     },
     "metadata": {},
     "output_type": "display_data"
    },
    {
     "data": {
      "text/latex": [
       "$\\displaystyle -Q_1^T\\left[\\begin{matrix}0.233418688729112 & 0.400963909786344 & 0.721118450227441 & 0.485625731242143 & 0.169998496163753\\\\0.258689523501341 & 0.484743287876194 & 0.221284621077544 & -0.768792458400773 & -0.24102893533825\\\\-0.495691956499888 & -0.458659809185847 & 0.613011888392304 & -0.161362216313788 & -0.37696063923826\\end{matrix}\\right]$"
      ],
      "text/plain": [
       "<IPython.core.display.Math object>"
      ]
     },
     "metadata": {},
     "output_type": "display_data"
    },
    {
     "data": {
      "text/latex": [
       "$\\displaystyle g(\\lambda_1) = \\left[\\begin{matrix}-2.70847883148186\\\\28.6113529712548\\\\69.4317428339186\\\\-22.4180960955001\\\\-16.2026138264641\\end{matrix}\\right]$"
      ],
      "text/plain": [
       "<IPython.core.display.Math object>"
      ]
     },
     "metadata": {},
     "output_type": "display_data"
    },
    {
     "data": {
      "text/latex": [
       "$\\displaystyle \\delta_1 = \\left[\\begin{matrix}-87112317.2542435\\\\-3.47690484135657\\\\-454.882921282633\\end{matrix}\\right]$"
      ],
      "text/plain": [
       "<IPython.core.display.Math object>"
      ]
     },
     "metadata": {},
     "output_type": "display_data"
    },
    {
     "name": "stdout",
     "output_type": "stream",
     "text": [
      "\n"
     ]
    },
    {
     "data": {
      "text/latex": [
       "$\\displaystyle \\text{Lambda berechnen } \\lambda_{(2)} = \\lambda_1+ \\delta_1:$"
      ],
      "text/plain": [
       "<IPython.core.display.Math object>"
      ]
     },
     "metadata": {},
     "output_type": "display_data"
    },
    {
     "data": {
      "text/latex": [
       "$\\displaystyle \\left[\\begin{matrix}186393855.592239\\\\47.2303896748148\\\\1082.32897617654\\end{matrix}\\right] + \\left[\\begin{matrix}-87112317.2542435\\\\-3.47690484135657\\\\-454.882921282633\\end{matrix}\\right] = \\left[\\begin{matrix}99281538.3379957\\\\43.7534848334582\\\\627.446054893903\\end{matrix}\\right]$"
      ],
      "text/plain": [
       "<IPython.core.display.Math object>"
      ]
     },
     "metadata": {},
     "output_type": "display_data"
    },
    {
     "name": "stdout",
     "output_type": "stream",
     "text": [
      "\n"
     ]
    },
    {
     "data": {
      "text/latex": [
       "$\\displaystyle \\lambda_2 = 99281538.34,43.75,627.45$"
      ],
      "text/plain": [
       "<IPython.core.display.Math object>"
      ]
     },
     "metadata": {},
     "output_type": "display_data"
    },
    {
     "data": {
      "text/latex": [
       "$\\displaystyle \\text{Inkrement: } 87112317.26$"
      ],
      "text/plain": [
       "<IPython.core.display.Math object>"
      ]
     },
     "metadata": {},
     "output_type": "display_data"
    },
    {
     "data": {
      "text/latex": [
       "$\\displaystyle \\text{Fehlerfunktional: } 874.01$"
      ],
      "text/plain": [
       "<IPython.core.display.Math object>"
      ]
     },
     "metadata": {},
     "output_type": "display_data"
    },
    {
     "name": "stdout",
     "output_type": "stream",
     "text": [
      "-----------------------------\n",
      "\n"
     ]
    },
    {
     "data": {
      "text/latex": [
       "$\\displaystyle \\text{Iteration: } 3$"
      ],
      "text/plain": [
       "<IPython.core.display.Math object>"
      ]
     },
     "metadata": {},
     "output_type": "display_data"
    },
    {
     "data": {
      "text/latex": [
       "$\\displaystyle \\text{QR-Zerlegung von } Dg(\\lambda_{2}) = Q_2 \\cdot R_2:$"
      ],
      "text/plain": [
       "<IPython.core.display.Math object>"
      ]
     },
     "metadata": {},
     "output_type": "display_data"
    },
    {
     "data": {
      "text/latex": [
       "$\\displaystyle \\text{Q}_2= \\left[\\begin{matrix}-0.17154279150787 & -0.285494958506001 & 0.302436760341343\\\\-0.405929796782098 & -0.832204493998968 & 0.0723446439361606\\\\-0.868919609683919 & 0.367653711451355 & -0.325049690902424\\\\-0.216765218979991 & 0.297932822373745 & 0.853641786967761\\\\-0.0615274126990048 & 0.0446664375570309 & 0.262557910706781\\end{matrix}\\right]$"
      ],
      "text/plain": [
       "<IPython.core.display.Math object>"
      ]
     },
     "metadata": {},
     "output_type": "display_data"
    },
    {
     "data": {
      "text/latex": [
       "$\\displaystyle \\text{R}_2= \\left[\\begin{matrix}2.83511884144103 \\cdot 10^{-6} & 4.44289876749374 & -0.739458105639454\\\\0 & -21.2307998939924 & 0.146431451194676\\\\0 & 0 & -0.183755678656608\\end{matrix}\\right]$"
      ],
      "text/plain": [
       "<IPython.core.display.Math object>"
      ]
     },
     "metadata": {},
     "output_type": "display_data"
    },
    {
     "name": "stdout",
     "output_type": "stream",
     "text": [
      "\n"
     ]
    },
    {
     "data": {
      "text/latex": [
       "$\\displaystyle \\text{Auflösen nach } \\delta_2\\text{ mit } R_2\\cdot \\delta_2= -Q_2^T \\cdot g(\\lambda_2):$"
      ],
      "text/plain": [
       "<IPython.core.display.Math object>"
      ]
     },
     "metadata": {},
     "output_type": "display_data"
    },
    {
     "data": {
      "text/latex": [
       "$\\displaystyle Q_2^T\\left[\\begin{matrix}-0.17154279150787 & -0.405929796782098 & -0.868919609683919 & -0.216765218979991 & -0.0615274126990048\\\\-0.285494958506001 & -0.832204493998968 & 0.367653711451355 & 0.297932822373745 & 0.0446664375570309\\\\0.302436760341343 & 0.0723446439361606 & -0.325049690902424 & 0.853641786967761 & 0.262557910706781\\end{matrix}\\right]$"
      ],
      "text/plain": [
       "<IPython.core.display.Math object>"
      ]
     },
     "metadata": {},
     "output_type": "display_data"
    },
    {
     "data": {
      "text/latex": [
       "$\\displaystyle -Q_2^T\\left[\\begin{matrix}0.17154279150787 & 0.405929796782098 & 0.868919609683919 & 0.216765218979991 & 0.0615274126990048\\\\0.285494958506001 & 0.832204493998968 & -0.367653711451355 & -0.297932822373745 & -0.0446664375570309\\\\-0.302436760341343 & -0.0723446439361606 & 0.325049690902424 & -0.853641786967761 & -0.262557910706781\\end{matrix}\\right]$"
      ],
      "text/plain": [
       "<IPython.core.display.Math object>"
      ]
     },
     "metadata": {},
     "output_type": "display_data"
    },
    {
     "data": {
      "text/latex": [
       "$\\displaystyle g(\\lambda_2) = \\left[\\begin{matrix}-1.28500036926926\\\\-0.259073291469264\\\\-21.5791123349439\\\\19.9860186692053\\\\2.68157397476347\\end{matrix}\\right]$"
      ],
      "text/plain": [
       "<IPython.core.display.Math object>"
      ]
     },
     "metadata": {},
     "output_type": "display_data"
    },
    {
     "data": {
      "text/latex": [
       "$\\displaystyle \\delta_2 = \\left[\\begin{matrix}28111656.3181878\\\\0.854634902035486\\\\132.63197747262\\end{matrix}\\right]$"
      ],
      "text/plain": [
       "<IPython.core.display.Math object>"
      ]
     },
     "metadata": {},
     "output_type": "display_data"
    },
    {
     "name": "stdout",
     "output_type": "stream",
     "text": [
      "\n"
     ]
    },
    {
     "data": {
      "text/latex": [
       "$\\displaystyle \\text{Lambda berechnen } \\lambda_{(3)} = \\lambda_2+ \\delta_2:$"
      ],
      "text/plain": [
       "<IPython.core.display.Math object>"
      ]
     },
     "metadata": {},
     "output_type": "display_data"
    },
    {
     "data": {
      "text/latex": [
       "$\\displaystyle \\left[\\begin{matrix}99281538.3379957\\\\43.7534848334582\\\\627.446054893903\\end{matrix}\\right] + \\left[\\begin{matrix}28111656.3181878\\\\0.854634902035486\\\\132.63197747262\\end{matrix}\\right] = \\left[\\begin{matrix}127393194.656183\\\\44.6081197354937\\\\760.078032366524\\end{matrix}\\right]$"
      ],
      "text/plain": [
       "<IPython.core.display.Math object>"
      ]
     },
     "metadata": {},
     "output_type": "display_data"
    },
    {
     "name": "stdout",
     "output_type": "stream",
     "text": [
      "\n"
     ]
    },
    {
     "data": {
      "text/latex": [
       "$\\displaystyle \\lambda_3 = 127393194.66,44.61,760.08$"
      ],
      "text/plain": [
       "<IPython.core.display.Math object>"
      ]
     },
     "metadata": {},
     "output_type": "display_data"
    },
    {
     "data": {
      "text/latex": [
       "$\\displaystyle \\text{Inkrement: } 28111656.32$"
      ],
      "text/plain": [
       "<IPython.core.display.Math object>"
      ]
     },
     "metadata": {},
     "output_type": "display_data"
    },
    {
     "data": {
      "text/latex": [
       "$\\displaystyle \\text{Fehlerfunktional: } 77.73$"
      ],
      "text/plain": [
       "<IPython.core.display.Math object>"
      ]
     },
     "metadata": {},
     "output_type": "display_data"
    },
    {
     "name": "stdout",
     "output_type": "stream",
     "text": [
      "-----------------------------\n",
      "\n"
     ]
    },
    {
     "data": {
      "text/latex": [
       "$\\displaystyle \\text{Iteration: } 4$"
      ],
      "text/plain": [
       "<IPython.core.display.Math object>"
      ]
     },
     "metadata": {},
     "output_type": "display_data"
    },
    {
     "data": {
      "text/latex": [
       "$\\displaystyle \\text{QR-Zerlegung von } Dg(\\lambda_{3}) = Q_3 \\cdot R_3:$"
      ],
      "text/plain": [
       "<IPython.core.display.Math object>"
      ]
     },
     "metadata": {},
     "output_type": "display_data"
    },
    {
     "data": {
      "text/latex": [
       "$\\displaystyle \\text{Q}_3= \\left[\\begin{matrix}-0.197801333548866 & -0.294893856107422 & 0.344532184008668\\\\-0.415181705035405 & -0.735663111531124 & 0.274685521013313\\\\-0.833850961660566 & 0.230504156282213 & -0.492387080976437\\\\-0.292726424458899 & 0.554113447950182 & 0.700127242901786\\\\-0.0866175410147529 & 0.107997780994913 & 0.270596091919505\\end{matrix}\\right]$"
      ],
      "text/plain": [
       "<IPython.core.display.Math object>"
      ]
     },
     "metadata": {},
     "output_type": "display_data"
    },
    {
     "data": {
      "text/latex": [
       "$\\displaystyle \\text{R}_3= \\left[\\begin{matrix}2.07142500374247 \\cdot 10^{-6} & -1.7095348002254 & -0.569050422122224\\\\0 & -16.5156167461517 & 0.0583444009713611\\\\0 & 0 & -0.18239938044717\\end{matrix}\\right]$"
      ],
      "text/plain": [
       "<IPython.core.display.Math object>"
      ]
     },
     "metadata": {},
     "output_type": "display_data"
    },
    {
     "name": "stdout",
     "output_type": "stream",
     "text": [
      "\n"
     ]
    },
    {
     "data": {
      "text/latex": [
       "$\\displaystyle \\text{Auflösen nach } \\delta_3\\text{ mit } R_3\\cdot \\delta_3= -Q_3^T \\cdot g(\\lambda_3):$"
      ],
      "text/plain": [
       "<IPython.core.display.Math object>"
      ]
     },
     "metadata": {},
     "output_type": "display_data"
    },
    {
     "data": {
      "text/latex": [
       "$\\displaystyle Q_3^T\\left[\\begin{matrix}-0.197801333548866 & -0.415181705035405 & -0.833850961660566 & -0.292726424458899 & -0.0866175410147529\\\\-0.294893856107422 & -0.735663111531124 & 0.230504156282213 & 0.554113447950182 & 0.107997780994913\\\\0.344532184008668 & 0.274685521013313 & -0.492387080976437 & 0.700127242901786 & 0.270596091919505\\end{matrix}\\right]$"
      ],
      "text/plain": [
       "<IPython.core.display.Math object>"
      ]
     },
     "metadata": {},
     "output_type": "display_data"
    },
    {
     "data": {
      "text/latex": [
       "$\\displaystyle -Q_3^T\\left[\\begin{matrix}0.197801333548866 & 0.415181705035405 & 0.833850961660566 & 0.292726424458899 & 0.0866175410147529\\\\0.294893856107422 & 0.735663111531124 & -0.230504156282213 & -0.554113447950182 & -0.107997780994913\\\\-0.344532184008668 & -0.274685521013313 & 0.492387080976437 & -0.700127242901786 & -0.270596091919505\\end{matrix}\\right]$"
      ],
      "text/plain": [
       "<IPython.core.display.Math object>"
      ]
     },
     "metadata": {},
     "output_type": "display_data"
    },
    {
     "data": {
      "text/latex": [
       "$\\displaystyle g(\\lambda_3) = \\left[\\begin{matrix}-5.19689366045273\\\\4.43958946745603\\\\2.95886481872392\\\\3.75375613020843\\\\-2.85710867748026\\end{matrix}\\right]$"
      ],
      "text/plain": [
       "<IPython.core.display.Math object>"
      ]
     },
     "metadata": {},
     "output_type": "display_data"
    },
    {
     "data": {
      "text/latex": [
       "$\\displaystyle \\delta_3 = \\left[\\begin{matrix}1768434.28849969\\\\0.0402437813255908\\\\-0.948076139083151\\end{matrix}\\right]$"
      ],
      "text/plain": [
       "<IPython.core.display.Math object>"
      ]
     },
     "metadata": {},
     "output_type": "display_data"
    },
    {
     "name": "stdout",
     "output_type": "stream",
     "text": [
      "\n"
     ]
    },
    {
     "data": {
      "text/latex": [
       "$\\displaystyle \\text{Lambda berechnen } \\lambda_{(4)} = \\lambda_3+ \\delta_3:$"
      ],
      "text/plain": [
       "<IPython.core.display.Math object>"
      ]
     },
     "metadata": {},
     "output_type": "display_data"
    },
    {
     "data": {
      "text/latex": [
       "$\\displaystyle \\left[\\begin{matrix}127393194.656183\\\\44.6081197354937\\\\760.078032366524\\end{matrix}\\right] + \\left[\\begin{matrix}1768434.28849969\\\\0.0402437813255908\\\\-0.948076139083151\\end{matrix}\\right] = \\left[\\begin{matrix}129161628.944683\\\\44.6483635168193\\\\759.129956227441\\end{matrix}\\right]$"
      ],
      "text/plain": [
       "<IPython.core.display.Math object>"
      ]
     },
     "metadata": {},
     "output_type": "display_data"
    },
    {
     "name": "stdout",
     "output_type": "stream",
     "text": [
      "\n"
     ]
    },
    {
     "data": {
      "text/latex": [
       "$\\displaystyle \\lambda_4 = 129161628.94,44.65,759.13$"
      ],
      "text/plain": [
       "<IPython.core.display.Math object>"
      ]
     },
     "metadata": {},
     "output_type": "display_data"
    },
    {
     "data": {
      "text/latex": [
       "$\\displaystyle \\text{Inkrement: } 1768434.29$"
      ],
      "text/plain": [
       "<IPython.core.display.Math object>"
      ]
     },
     "metadata": {},
     "output_type": "display_data"
    },
    {
     "data": {
      "text/latex": [
       "$\\displaystyle \\text{Fehlerfunktional: } 60.08$"
      ],
      "text/plain": [
       "<IPython.core.display.Math object>"
      ]
     },
     "metadata": {},
     "output_type": "display_data"
    },
    {
     "name": "stdout",
     "output_type": "stream",
     "text": [
      "-----------------------------\n",
      "\n"
     ]
    },
    {
     "data": {
      "text/latex": [
       "$\\displaystyle \\text{Iteration: } 5$"
      ],
      "text/plain": [
       "<IPython.core.display.Math object>"
      ]
     },
     "metadata": {},
     "output_type": "display_data"
    },
    {
     "data": {
      "text/latex": [
       "$\\displaystyle \\text{QR-Zerlegung von } Dg(\\lambda_{4}) = Q_4 \\cdot R_4:$"
      ],
      "text/plain": [
       "<IPython.core.display.Math object>"
      ]
     },
     "metadata": {},
     "output_type": "display_data"
    },
    {
     "data": {
      "text/latex": [
       "$\\displaystyle \\text{Q}_4= \\left[\\begin{matrix}-0.196774606294406 & -0.293035717476363 & 0.345411422657354\\\\-0.412999684601962 & -0.733051376244836 & 0.284034823284426\\\\-0.834792155401836 & 0.222807832283681 & -0.494500335427971\\\\-0.293785583105953 & 0.561400495176121 & 0.695024436931734\\\\-0.0867358246344195 & 0.109324754551373 & 0.269120082098973\\end{matrix}\\right]$"
      ],
      "text/plain": [
       "<IPython.core.display.Math object>"
      ]
     },
     "metadata": {},
     "output_type": "display_data"
    },
    {
     "data": {
      "text/latex": [
       "$\\displaystyle \\text{R}_4= \\left[\\begin{matrix}2.07511000872815 \\cdot 10^{-6} & -1.84862802453397 & -0.579125797325237\\\\0 & -16.7198722164075 & 0.057560100788617\\\\0 & 0 & -0.186426032637521\\end{matrix}\\right]$"
      ],
      "text/plain": [
       "<IPython.core.display.Math object>"
      ]
     },
     "metadata": {},
     "output_type": "display_data"
    },
    {
     "name": "stdout",
     "output_type": "stream",
     "text": [
      "\n"
     ]
    },
    {
     "data": {
      "text/latex": [
       "$\\displaystyle \\text{Auflösen nach } \\delta_4\\text{ mit } R_4\\cdot \\delta_4= -Q_4^T \\cdot g(\\lambda_4):$"
      ],
      "text/plain": [
       "<IPython.core.display.Math object>"
      ]
     },
     "metadata": {},
     "output_type": "display_data"
    },
    {
     "data": {
      "text/latex": [
       "$\\displaystyle Q_4^T\\left[\\begin{matrix}-0.196774606294406 & -0.412999684601962 & -0.834792155401836 & -0.293785583105953 & -0.0867358246344195\\\\-0.293035717476363 & -0.733051376244836 & 0.222807832283681 & 0.561400495176121 & 0.109324754551373\\\\0.345411422657354 & 0.284034823284426 & -0.494500335427971 & 0.695024436931734 & 0.269120082098973\\end{matrix}\\right]$"
      ],
      "text/plain": [
       "<IPython.core.display.Math object>"
      ]
     },
     "metadata": {},
     "output_type": "display_data"
    },
    {
     "data": {
      "text/latex": [
       "$\\displaystyle -Q_4^T\\left[\\begin{matrix}0.196774606294406 & 0.412999684601962 & 0.834792155401836 & 0.293785583105953 & 0.0867358246344195\\\\0.293035717476363 & 0.733051376244836 & -0.222807832283681 & -0.561400495176121 & -0.109324754551373\\\\-0.345411422657354 & -0.284034823284426 & 0.494500335427971 & -0.695024436931734 & -0.269120082098973\\end{matrix}\\right]$"
      ],
      "text/plain": [
       "<IPython.core.display.Math object>"
      ]
     },
     "metadata": {},
     "output_type": "display_data"
    },
    {
     "data": {
      "text/latex": [
       "$\\displaystyle g(\\lambda_4) = \\left[\\begin{matrix}-5.74043297115077\\\\3.30592929116459\\\\-0.744824324238948\\\\2.25823984367183\\\\-3.24733374633182\\end{matrix}\\right]$"
      ],
      "text/plain": [
       "<IPython.core.display.Math object>"
      ]
     },
     "metadata": {},
     "output_type": "display_data"
    },
    {
     "data": {
      "text/latex": [
       "$\\displaystyle \\delta_4 = \\left[\\begin{matrix}28702.5444685388\\\\0.000703125887626192\\\\0.10788703727758\\end{matrix}\\right]$"
      ],
      "text/plain": [
       "<IPython.core.display.Math object>"
      ]
     },
     "metadata": {},
     "output_type": "display_data"
    },
    {
     "name": "stdout",
     "output_type": "stream",
     "text": [
      "\n"
     ]
    },
    {
     "data": {
      "text/latex": [
       "$\\displaystyle \\text{Lambda berechnen } \\lambda_{(5)} = \\lambda_4+ \\delta_4:$"
      ],
      "text/plain": [
       "<IPython.core.display.Math object>"
      ]
     },
     "metadata": {},
     "output_type": "display_data"
    },
    {
     "data": {
      "text/latex": [
       "$\\displaystyle \\left[\\begin{matrix}129161628.944683\\\\44.6483635168193\\\\759.129956227441\\end{matrix}\\right] + \\left[\\begin{matrix}28702.5444685388\\\\0.000703125887626192\\\\0.10788703727758\\end{matrix}\\right] = \\left[\\begin{matrix}129190331.489152\\\\44.6490666427069\\\\759.237843264718\\end{matrix}\\right]$"
      ],
      "text/plain": [
       "<IPython.core.display.Math object>"
      ]
     },
     "metadata": {},
     "output_type": "display_data"
    },
    {
     "name": "stdout",
     "output_type": "stream",
     "text": [
      "\n"
     ]
    },
    {
     "data": {
      "text/latex": [
       "$\\displaystyle \\lambda_5 = 129190331.49,44.65,759.24$"
      ],
      "text/plain": [
       "<IPython.core.display.Math object>"
      ]
     },
     "metadata": {},
     "output_type": "display_data"
    },
    {
     "data": {
      "text/latex": [
       "$\\displaystyle \\text{Inkrement: } 28702.54$"
      ],
      "text/plain": [
       "<IPython.core.display.Math object>"
      ]
     },
     "metadata": {},
     "output_type": "display_data"
    },
    {
     "data": {
      "text/latex": [
       "$\\displaystyle \\text{Fehlerfunktional: } 60.08$"
      ],
      "text/plain": [
       "<IPython.core.display.Math object>"
      ]
     },
     "metadata": {},
     "output_type": "display_data"
    },
    {
     "name": "stdout",
     "output_type": "stream",
     "text": [
      "-----------------------------\n",
      "\n"
     ]
    },
    {
     "data": {
      "text/latex": [
       "$\\displaystyle \\text{Iteration: } 6$"
      ],
      "text/plain": [
       "<IPython.core.display.Math object>"
      ]
     },
     "metadata": {},
     "output_type": "display_data"
    },
    {
     "data": {
      "text/latex": [
       "$\\displaystyle \\text{QR-Zerlegung von } Dg(\\lambda_{5}) = Q_5 \\cdot R_5:$"
      ],
      "text/plain": [
       "<IPython.core.display.Math object>"
      ]
     },
     "metadata": {},
     "output_type": "display_data"
    },
    {
     "data": {
      "text/latex": [
       "$\\displaystyle \\text{Q}_5= \\left[\\begin{matrix}-0.196794461229601 & -0.293030946377347 & 0.345468210603871\\\\-0.413005828345696 & -0.732951356931421 & 0.284176450820309\\\\-0.834759655373214 & 0.222663601270304 & -0.49461454252991\\\\-0.293849355621062 & 0.561580585446196 & 0.694854406020772\\\\-0.0867582834322772 & 0.10937705224055 & 0.269126864160344\\end{matrix}\\right]$"
      ],
      "text/plain": [
       "<IPython.core.display.Math object>"
      ]
     },
     "metadata": {},
     "output_type": "display_data"
    },
    {
     "data": {
      "text/latex": [
       "$\\displaystyle \\text{R}_5= \\left[\\begin{matrix}2.07461629920162 \\cdot 10^{-6} & -1.85142599432784 & -0.579022785289806\\\\0 & -16.718314762857 & 0.0574996835752227\\\\0 & 0 & -0.186413495479377\\end{matrix}\\right]$"
      ],
      "text/plain": [
       "<IPython.core.display.Math object>"
      ]
     },
     "metadata": {},
     "output_type": "display_data"
    },
    {
     "name": "stdout",
     "output_type": "stream",
     "text": [
      "\n"
     ]
    },
    {
     "data": {
      "text/latex": [
       "$\\displaystyle \\text{Auflösen nach } \\delta_5\\text{ mit } R_5\\cdot \\delta_5= -Q_5^T \\cdot g(\\lambda_5):$"
      ],
      "text/plain": [
       "<IPython.core.display.Math object>"
      ]
     },
     "metadata": {},
     "output_type": "display_data"
    },
    {
     "data": {
      "text/latex": [
       "$\\displaystyle Q_5^T\\left[\\begin{matrix}-0.196794461229601 & -0.413005828345696 & -0.834759655373214 & -0.293849355621062 & -0.0867582834322772\\\\-0.293030946377347 & -0.732951356931421 & 0.222663601270304 & 0.561580585446196 & 0.10937705224055\\\\0.345468210603871 & 0.284176450820309 & -0.49461454252991 & 0.694854406020772 & 0.269126864160344\\end{matrix}\\right]$"
      ],
      "text/plain": [
       "<IPython.core.display.Math object>"
      ]
     },
     "metadata": {},
     "output_type": "display_data"
    },
    {
     "data": {
      "text/latex": [
       "$\\displaystyle -Q_5^T\\left[\\begin{matrix}0.196794461229601 & 0.413005828345696 & 0.834759655373214 & 0.293849355621062 & 0.0867582834322772\\\\0.293030946377347 & 0.732951356931421 & -0.222663601270304 & -0.561580585446196 & -0.10937705224055\\\\-0.345468210603871 & -0.284176450820309 & 0.49461454252991 & -0.694854406020772 & -0.269126864160344\\end{matrix}\\right]$"
      ],
      "text/plain": [
       "<IPython.core.display.Math object>"
      ]
     },
     "metadata": {},
     "output_type": "display_data"
    },
    {
     "data": {
      "text/latex": [
       "$\\displaystyle g(\\lambda_5) = \\left[\\begin{matrix}-5.74492380235215\\\\3.30602614569692\\\\-0.732589529380789\\\\2.24238774423432\\\\-3.25298700108958\\end{matrix}\\right]$"
      ],
      "text/plain": [
       "<IPython.core.display.Math object>"
      ]
     },
     "metadata": {},
     "output_type": "display_data"
    },
    {
     "data": {
      "text/latex": [
       "$\\displaystyle \\delta_5 = \\left[\\begin{matrix}-232.815765535704\\\\3.51484244122081 \\cdot 10^{-5}\\\\-0.000952298989692525\\end{matrix}\\right]$"
      ],
      "text/plain": [
       "<IPython.core.display.Math object>"
      ]
     },
     "metadata": {},
     "output_type": "display_data"
    },
    {
     "name": "stdout",
     "output_type": "stream",
     "text": [
      "\n"
     ]
    },
    {
     "data": {
      "text/latex": [
       "$\\displaystyle \\text{Lambda berechnen } \\lambda_{(6)} = \\lambda_5+ \\delta_5:$"
      ],
      "text/plain": [
       "<IPython.core.display.Math object>"
      ]
     },
     "metadata": {},
     "output_type": "display_data"
    },
    {
     "data": {
      "text/latex": [
       "$\\displaystyle \\left[\\begin{matrix}129190331.489152\\\\44.6490666427069\\\\759.237843264718\\end{matrix}\\right] + \\left[\\begin{matrix}-232.815765535704\\\\3.51484244122081 \\cdot 10^{-5}\\\\-0.000952298989692525\\end{matrix}\\right] = \\left[\\begin{matrix}129190098.673386\\\\44.6491017911313\\\\759.236890965728\\end{matrix}\\right]$"
      ],
      "text/plain": [
       "<IPython.core.display.Math object>"
      ]
     },
     "metadata": {},
     "output_type": "display_data"
    },
    {
     "name": "stdout",
     "output_type": "stream",
     "text": [
      "\n"
     ]
    },
    {
     "data": {
      "text/latex": [
       "$\\displaystyle \\lambda_6 = 129190098.67,44.65,759.24$"
      ],
      "text/plain": [
       "<IPython.core.display.Math object>"
      ]
     },
     "metadata": {},
     "output_type": "display_data"
    },
    {
     "data": {
      "text/latex": [
       "$\\displaystyle \\text{Inkrement: } 232.82$"
      ],
      "text/plain": [
       "<IPython.core.display.Math object>"
      ]
     },
     "metadata": {},
     "output_type": "display_data"
    },
    {
     "data": {
      "text/latex": [
       "$\\displaystyle \\text{Fehlerfunktional: } 60.08$"
      ],
      "text/plain": [
       "<IPython.core.display.Math object>"
      ]
     },
     "metadata": {},
     "output_type": "display_data"
    },
    {
     "name": "stdout",
     "output_type": "stream",
     "text": [
      "-----------------------------\n",
      "\n"
     ]
    },
    {
     "data": {
      "text/latex": [
       "$\\displaystyle \\text{Iteration: } 7$"
      ],
      "text/plain": [
       "<IPython.core.display.Math object>"
      ]
     },
     "metadata": {},
     "output_type": "display_data"
    },
    {
     "data": {
      "text/latex": [
       "$\\displaystyle \\text{QR-Zerlegung von } Dg(\\lambda_{6}) = Q_6 \\cdot R_6:$"
      ],
      "text/plain": [
       "<IPython.core.display.Math object>"
      ]
     },
     "metadata": {},
     "output_type": "display_data"
    },
    {
     "data": {
      "text/latex": [
       "$\\displaystyle \\text{Q}_6= \\left[\\begin{matrix}-0.196793530090417 & -0.293029267906507 & 0.345468974704482\\\\-0.413003883421867 & -0.732949051335369 & 0.284184671191899\\\\-0.834760516639994 & 0.222656842621597 & -0.494616285467193\\\\-0.293850241365203 & 0.561586928885975 & 0.694849938483861\\\\-0.0867583673287577 & 0.109378188113347 & 0.269125534492358\\end{matrix}\\right]$"
      ],
      "text/plain": [
       "<IPython.core.display.Math object>"
      ]
     },
     "metadata": {},
     "output_type": "display_data"
    },
    {
     "data": {
      "text/latex": [
       "$\\displaystyle \\text{R}_6= \\left[\\begin{matrix}2.07462006362688 \\cdot 10^{-6} & -1.85152437727319 & -0.57902390069858\\\\0 & -16.7182685113371 & 0.0574982000455634\\\\0 & 0 & -0.186414537123625\\end{matrix}\\right]$"
      ],
      "text/plain": [
       "<IPython.core.display.Math object>"
      ]
     },
     "metadata": {},
     "output_type": "display_data"
    },
    {
     "name": "stdout",
     "output_type": "stream",
     "text": [
      "\n"
     ]
    },
    {
     "data": {
      "text/latex": [
       "$\\displaystyle \\text{Auflösen nach } \\delta_6\\text{ mit } R_6\\cdot \\delta_6= -Q_6^T \\cdot g(\\lambda_6):$"
      ],
      "text/plain": [
       "<IPython.core.display.Math object>"
      ]
     },
     "metadata": {},
     "output_type": "display_data"
    },
    {
     "data": {
      "text/latex": [
       "$\\displaystyle Q_6^T\\left[\\begin{matrix}-0.196793530090417 & -0.413003883421867 & -0.834760516639994 & -0.293850241365203 & -0.0867583673287577\\\\-0.293029267906507 & -0.732949051335369 & 0.222656842621597 & 0.561586928885975 & 0.109378188113347\\\\0.345468974704482 & 0.284184671191899 & -0.494616285467193 & 0.694849938483861 & 0.269125534492358\\end{matrix}\\right]$"
      ],
      "text/plain": [
       "<IPython.core.display.Math object>"
      ]
     },
     "metadata": {},
     "output_type": "display_data"
    },
    {
     "data": {
      "text/latex": [
       "$\\displaystyle -Q_6^T\\left[\\begin{matrix}0.196793530090417 & 0.413003883421867 & 0.834760516639994 & 0.293850241365203 & 0.0867583673287577\\\\0.293029267906507 & 0.732949051335369 & -0.222656842621597 & -0.561586928885975 & -0.109378188113347\\\\-0.345468974704482 & -0.284184671191899 & 0.494616285467193 & -0.694849938483861 & -0.269125534492358\\end{matrix}\\right]$"
      ],
      "text/plain": [
       "<IPython.core.display.Math object>"
      ]
     },
     "metadata": {},
     "output_type": "display_data"
    },
    {
     "data": {
      "text/latex": [
       "$\\displaystyle g(\\lambda_6) = \\left[\\begin{matrix}-5.74467489204842\\\\3.30654605244766\\\\-0.732823140402786\\\\2.24214937027376\\\\-3.25300977536087\\end{matrix}\\right]$"
      ],
      "text/plain": [
       "<IPython.core.display.Math object>"
      ]
     },
     "metadata": {},
     "output_type": "display_data"
    },
    {
     "data": {
      "text/latex": [
       "$\\displaystyle \\delta_6 = \\left[\\begin{matrix}28.5331314964572\\\\1.14428088501427 \\cdot 10^{-6}\\\\9.85697970503211 \\cdot 10^{-5}\\end{matrix}\\right]$"
      ],
      "text/plain": [
       "<IPython.core.display.Math object>"
      ]
     },
     "metadata": {},
     "output_type": "display_data"
    },
    {
     "name": "stdout",
     "output_type": "stream",
     "text": [
      "\n"
     ]
    },
    {
     "data": {
      "text/latex": [
       "$\\displaystyle \\text{Lambda berechnen } \\lambda_{(7)} = \\lambda_6+ \\delta_6:$"
      ],
      "text/plain": [
       "<IPython.core.display.Math object>"
      ]
     },
     "metadata": {},
     "output_type": "display_data"
    },
    {
     "data": {
      "text/latex": [
       "$\\displaystyle \\left[\\begin{matrix}129190098.673386\\\\44.6491017911313\\\\759.236890965728\\end{matrix}\\right] + \\left[\\begin{matrix}28.5331314964572\\\\1.14428088501427 \\cdot 10^{-6}\\\\9.85697970503211 \\cdot 10^{-5}\\end{matrix}\\right] = \\left[\\begin{matrix}129190127.206518\\\\44.6491029354122\\\\759.236989535525\\end{matrix}\\right]$"
      ],
      "text/plain": [
       "<IPython.core.display.Math object>"
      ]
     },
     "metadata": {},
     "output_type": "display_data"
    },
    {
     "name": "stdout",
     "output_type": "stream",
     "text": [
      "\n"
     ]
    },
    {
     "data": {
      "text/latex": [
       "$\\displaystyle \\lambda_7 = 129190127.21,44.65,759.24$"
      ],
      "text/plain": [
       "<IPython.core.display.Math object>"
      ]
     },
     "metadata": {},
     "output_type": "display_data"
    },
    {
     "data": {
      "text/latex": [
       "$\\displaystyle \\text{Inkrement: } 28.53$"
      ],
      "text/plain": [
       "<IPython.core.display.Math object>"
      ]
     },
     "metadata": {},
     "output_type": "display_data"
    },
    {
     "data": {
      "text/latex": [
       "$\\displaystyle \\text{Fehlerfunktional: } 60.08$"
      ],
      "text/plain": [
       "<IPython.core.display.Math object>"
      ]
     },
     "metadata": {},
     "output_type": "display_data"
    },
    {
     "name": "stdout",
     "output_type": "stream",
     "text": [
      "-----------------------------\n",
      "\n"
     ]
    },
    {
     "data": {
      "text/latex": [
       "$\\displaystyle \\text{Iteration: } 8$"
      ],
      "text/plain": [
       "<IPython.core.display.Math object>"
      ]
     },
     "metadata": {},
     "output_type": "display_data"
    },
    {
     "data": {
      "text/latex": [
       "$\\displaystyle \\text{QR-Zerlegung von } Dg(\\lambda_{7}) = Q_7 \\cdot R_7:$"
      ],
      "text/plain": [
       "<IPython.core.display.Math object>"
      ]
     },
     "metadata": {},
     "output_type": "display_data"
    },
    {
     "data": {
      "text/latex": [
       "$\\displaystyle \\text{Q}_7= \\left[\\begin{matrix}-0.196793539055934 & -0.293029242658653 & 0.345469041953638\\\\-0.413003866088471 & -0.732948921249823 & 0.284184915486344\\\\-0.834760493914436 & 0.222656613358968 & -0.494616423168657\\\\-0.293850317211295 & 0.561587189655722 & 0.694849710682265\\\\-0.0867583912734969 & 0.109378255278279 & 0.269125525281925\\end{matrix}\\right]$"
      ],
      "text/plain": [
       "<IPython.core.display.Math object>"
      ]
     },
     "metadata": {},
     "output_type": "display_data"
    },
    {
     "data": {
      "text/latex": [
       "$\\displaystyle \\text{R}_7= \\left[\\begin{matrix}2.0746196054422 \\cdot 10^{-6} & -1.85152845537023 & -0.579023818322397\\\\0 & -16.7182666276953 & 0.0574981212984702\\\\0 & 0 & -0.186414539924326\\end{matrix}\\right]$"
      ],
      "text/plain": [
       "<IPython.core.display.Math object>"
      ]
     },
     "metadata": {},
     "output_type": "display_data"
    },
    {
     "name": "stdout",
     "output_type": "stream",
     "text": [
      "\n"
     ]
    },
    {
     "data": {
      "text/latex": [
       "$\\displaystyle \\text{Auflösen nach } \\delta_7\\text{ mit } R_7\\cdot \\delta_7= -Q_7^T \\cdot g(\\lambda_7):$"
      ],
      "text/plain": [
       "<IPython.core.display.Math object>"
      ]
     },
     "metadata": {},
     "output_type": "display_data"
    },
    {
     "data": {
      "text/latex": [
       "$\\displaystyle Q_7^T\\left[\\begin{matrix}-0.196793539055934 & -0.413003866088471 & -0.834760493914436 & -0.293850317211295 & -0.0867583912734969\\\\-0.293029242658653 & -0.732948921249823 & 0.222656613358968 & 0.561587189655722 & 0.109378255278279\\\\0.345469041953638 & 0.284184915486344 & -0.494616423168657 & 0.694849710682265 & 0.269125525281925\\end{matrix}\\right]$"
      ],
      "text/plain": [
       "<IPython.core.display.Math object>"
      ]
     },
     "metadata": {},
     "output_type": "display_data"
    },
    {
     "data": {
      "text/latex": [
       "$\\displaystyle -Q_7^T\\left[\\begin{matrix}0.196793539055934 & 0.413003866088471 & 0.834760493914436 & 0.293850317211295 & 0.0867583912734969\\\\0.293029242658653 & 0.732948921249823 & -0.222656613358968 & -0.561587189655722 & -0.109378255278279\\\\-0.345469041953638 & -0.284184915486344 & 0.494616423168657 & -0.694849710682265 & -0.269125525281925\\end{matrix}\\right]$"
      ],
      "text/plain": [
       "<IPython.core.display.Math object>"
      ]
     },
     "metadata": {},
     "output_type": "display_data"
    },
    {
     "data": {
      "text/latex": [
       "$\\displaystyle g(\\lambda_7) = \\left[\\begin{matrix}-5.74467729547558\\\\3.30655069713096\\\\-0.732817051552246\\\\2.24212904125035\\\\-3.25301619325301\\end{matrix}\\right]$"
      ],
      "text/plain": [
       "<IPython.core.display.Math object>"
      ]
     },
     "metadata": {},
     "output_type": "display_data"
    },
    {
     "data": {
      "text/latex": [
       "$\\displaystyle \\delta_7 = \\left[\\begin{matrix}0.106640177509371\\\\4.97725086899276 \\cdot 10^{-8}\\\\2.22921311411853 \\cdot 10^{-7}\\end{matrix}\\right]$"
      ],
      "text/plain": [
       "<IPython.core.display.Math object>"
      ]
     },
     "metadata": {},
     "output_type": "display_data"
    },
    {
     "name": "stdout",
     "output_type": "stream",
     "text": [
      "\n"
     ]
    },
    {
     "data": {
      "text/latex": [
       "$\\displaystyle \\text{Lambda berechnen } \\lambda_{(8)} = \\lambda_7+ \\delta_7:$"
      ],
      "text/plain": [
       "<IPython.core.display.Math object>"
      ]
     },
     "metadata": {},
     "output_type": "display_data"
    },
    {
     "data": {
      "text/latex": [
       "$\\displaystyle \\left[\\begin{matrix}129190127.206518\\\\44.6491029354122\\\\759.236989535525\\end{matrix}\\right] + \\left[\\begin{matrix}0.106640177509371\\\\4.97725086899276 \\cdot 10^{-8}\\\\2.22921311411853 \\cdot 10^{-7}\\end{matrix}\\right] = \\left[\\begin{matrix}129190127.313158\\\\44.6491029851847\\\\759.236989758447\\end{matrix}\\right]$"
      ],
      "text/plain": [
       "<IPython.core.display.Math object>"
      ]
     },
     "metadata": {},
     "output_type": "display_data"
    },
    {
     "name": "stdout",
     "output_type": "stream",
     "text": [
      "\n"
     ]
    },
    {
     "data": {
      "text/latex": [
       "$\\displaystyle \\lambda_8 = 129190127.31,44.65,759.24$"
      ],
      "text/plain": [
       "<IPython.core.display.Math object>"
      ]
     },
     "metadata": {},
     "output_type": "display_data"
    },
    {
     "data": {
      "text/latex": [
       "$\\displaystyle \\text{Inkrement: } 0.11$"
      ],
      "text/plain": [
       "<IPython.core.display.Math object>"
      ]
     },
     "metadata": {},
     "output_type": "display_data"
    },
    {
     "data": {
      "text/latex": [
       "$\\displaystyle \\text{Fehlerfunktional: } 60.08$"
      ],
      "text/plain": [
       "<IPython.core.display.Math object>"
      ]
     },
     "metadata": {},
     "output_type": "display_data"
    },
    {
     "name": "stdout",
     "output_type": "stream",
     "text": [
      "-----------------------------\n",
      "\n"
     ]
    },
    {
     "data": {
      "text/latex": [
       "$\\displaystyle \\text{Iteration: } 9$"
      ],
      "text/plain": [
       "<IPython.core.display.Math object>"
      ]
     },
     "metadata": {},
     "output_type": "display_data"
    },
    {
     "data": {
      "text/latex": [
       "$\\displaystyle \\text{QR-Zerlegung von } Dg(\\lambda_{8}) = Q_8 \\cdot R_8:$"
      ],
      "text/plain": [
       "<IPython.core.display.Math object>"
      ]
     },
     "metadata": {},
     "output_type": "display_data"
    },
    {
     "data": {
      "text/latex": [
       "$\\displaystyle \\text{Q}_8= \\left[\\begin{matrix}-0.196793538213757 & -0.293029240638311 & 0.345469043549588\\\\-0.413003863892033 & -0.732948917317532 & 0.28418492684408\\\\-0.834760494518371 & 0.222656603676286 & -0.494616426618608\\\\-0.293850319035706 & 0.561587199296479 & 0.694849703357025\\\\-0.0867583916495746 & 0.109378257252846 & 0.269125523812311\\end{matrix}\\right]$"
      ],
      "text/plain": [
       "<IPython.core.display.Math object>"
      ]
     },
     "metadata": {},
     "output_type": "display_data"
    },
    {
     "data": {
      "text/latex": [
       "$\\displaystyle \\text{R}_8= \\left[\\begin{matrix}2.07461960372974 \\cdot 10^{-6} & -1.8515286052785 & -0.579023818455051\\\\0 & -16.7182665574048 & 0.0574981188276417\\\\0 & 0 & -0.186414541019671\\end{matrix}\\right]$"
      ],
      "text/plain": [
       "<IPython.core.display.Math object>"
      ]
     },
     "metadata": {},
     "output_type": "display_data"
    },
    {
     "name": "stdout",
     "output_type": "stream",
     "text": [
      "\n"
     ]
    },
    {
     "data": {
      "text/latex": [
       "$\\displaystyle \\text{Auflösen nach } \\delta_8\\text{ mit } R_8\\cdot \\delta_8= -Q_8^T \\cdot g(\\lambda_8):$"
      ],
      "text/plain": [
       "<IPython.core.display.Math object>"
      ]
     },
     "metadata": {},
     "output_type": "display_data"
    },
    {
     "data": {
      "text/latex": [
       "$\\displaystyle Q_8^T\\left[\\begin{matrix}-0.196793538213757 & -0.413003863892033 & -0.834760494518371 & -0.293850319035706 & -0.0867583916495746\\\\-0.293029240638311 & -0.732948917317532 & 0.222656603676286 & 0.561587199296479 & 0.109378257252846\\\\0.345469043549588 & 0.28418492684408 & -0.494616426618608 & 0.694849703357025 & 0.269125523812311\\end{matrix}\\right]$"
      ],
      "text/plain": [
       "<IPython.core.display.Math object>"
      ]
     },
     "metadata": {},
     "output_type": "display_data"
    },
    {
     "data": {
      "text/latex": [
       "$\\displaystyle -Q_8^T\\left[\\begin{matrix}0.196793538213757 & 0.413003863892033 & 0.834760494518371 & 0.293850319035706 & 0.0867583916495746\\\\0.293029240638311 & 0.732948917317532 & -0.222656603676286 & -0.561587199296479 & -0.109378257252846\\\\-0.345469043549588 & -0.28418492684408 & 0.494616426618608 & -0.694849703357025 & -0.269125523812311\\end{matrix}\\right]$"
      ],
      "text/plain": [
       "<IPython.core.display.Math object>"
      ]
     },
     "metadata": {},
     "output_type": "display_data"
    },
    {
     "data": {
      "text/latex": [
       "$\\displaystyle g(\\lambda_8) = \\left[\\begin{matrix}-5.74467706975629\\\\3.3065512858186\\\\-0.732817213423857\\\\2.24212855226946\\\\-3.25301629405002\\end{matrix}\\right]$"
      ],
      "text/plain": [
       "<IPython.core.display.Math object>"
      ]
     },
     "metadata": {},
     "output_type": "display_data"
    },
    {
     "data": {
      "text/latex": [
       "$\\displaystyle \\delta_8 = \\left[\\begin{matrix}0.0304347896239604\\\\1.77221743833545 \\cdot 10^{-9}\\\\1.03379676806875 \\cdot 10^{-7}\\end{matrix}\\right]$"
      ],
      "text/plain": [
       "<IPython.core.display.Math object>"
      ]
     },
     "metadata": {},
     "output_type": "display_data"
    },
    {
     "name": "stdout",
     "output_type": "stream",
     "text": [
      "\n"
     ]
    },
    {
     "data": {
      "text/latex": [
       "$\\displaystyle \\text{Lambda berechnen } \\lambda_{(9)} = \\lambda_8+ \\delta_8:$"
      ],
      "text/plain": [
       "<IPython.core.display.Math object>"
      ]
     },
     "metadata": {},
     "output_type": "display_data"
    },
    {
     "data": {
      "text/latex": [
       "$\\displaystyle \\left[\\begin{matrix}129190127.313158\\\\44.6491029851847\\\\759.236989758447\\end{matrix}\\right] + \\left[\\begin{matrix}0.0304347896239604\\\\1.77221743833545 \\cdot 10^{-9}\\\\1.03379676806875 \\cdot 10^{-7}\\end{matrix}\\right] = \\left[\\begin{matrix}129190127.343593\\\\44.6491029869569\\\\759.236989861826\\end{matrix}\\right]$"
      ],
      "text/plain": [
       "<IPython.core.display.Math object>"
      ]
     },
     "metadata": {},
     "output_type": "display_data"
    },
    {
     "name": "stdout",
     "output_type": "stream",
     "text": [
      "\n"
     ]
    },
    {
     "data": {
      "text/latex": [
       "$\\displaystyle \\lambda_9 = 129190127.34,44.65,759.24$"
      ],
      "text/plain": [
       "<IPython.core.display.Math object>"
      ]
     },
     "metadata": {},
     "output_type": "display_data"
    },
    {
     "data": {
      "text/latex": [
       "$\\displaystyle \\text{Inkrement: } 0.03$"
      ],
      "text/plain": [
       "<IPython.core.display.Math object>"
      ]
     },
     "metadata": {},
     "output_type": "display_data"
    },
    {
     "data": {
      "text/latex": [
       "$\\displaystyle \\text{Fehlerfunktional: } 60.08$"
      ],
      "text/plain": [
       "<IPython.core.display.Math object>"
      ]
     },
     "metadata": {},
     "output_type": "display_data"
    },
    {
     "name": "stdout",
     "output_type": "stream",
     "text": [
      "-----------------------------\n",
      "\n"
     ]
    },
    {
     "data": {
      "text/latex": [
       "$\\displaystyle \\text{Iteration: } 10$"
      ],
      "text/plain": [
       "<IPython.core.display.Math object>"
      ]
     },
     "metadata": {},
     "output_type": "display_data"
    },
    {
     "data": {
      "text/latex": [
       "$\\displaystyle \\text{QR-Zerlegung von } Dg(\\lambda_{9}) = Q_9 \\cdot R_9:$"
      ],
      "text/plain": [
       "<IPython.core.display.Math object>"
      ]
     },
     "metadata": {},
     "output_type": "display_data"
    },
    {
     "data": {
      "text/latex": [
       "$\\displaystyle \\text{Q}_9= \\left[\\begin{matrix}-0.196793538212704 & -0.293029240588027 & 0.345469043637626\\\\-0.413003863847698 & -0.732948917136988 & 0.284184927231306\\\\-0.834760494502482 & 0.222656603324724 & -0.494616426801083\\\\-0.293850319135293 & 0.561587199679714 & 0.694849703035538\\\\-0.0867583916785911 & 0.109378257345387 & 0.269125523785085\\end{matrix}\\right]$"
      ],
      "text/plain": [
       "<IPython.core.display.Math object>"
      ]
     },
     "metadata": {},
     "output_type": "display_data"
    },
    {
     "data": {
      "text/latex": [
       "$\\displaystyle \\text{R}_9= \\left[\\begin{matrix}2.074619603241 \\cdot 10^{-6} & -1.85152861126135 & -0.579023818372517\\\\0 & -16.7182665546285 & 0.0574981187172528\\\\0 & 0 & -0.186414541035811\\end{matrix}\\right]$"
      ],
      "text/plain": [
       "<IPython.core.display.Math object>"
      ]
     },
     "metadata": {},
     "output_type": "display_data"
    },
    {
     "name": "stdout",
     "output_type": "stream",
     "text": [
      "\n"
     ]
    },
    {
     "data": {
      "text/latex": [
       "$\\displaystyle \\text{Auflösen nach } \\delta_9\\text{ mit } R_9\\cdot \\delta_9= -Q_9^T \\cdot g(\\lambda_9):$"
      ],
      "text/plain": [
       "<IPython.core.display.Math object>"
      ]
     },
     "metadata": {},
     "output_type": "display_data"
    },
    {
     "data": {
      "text/latex": [
       "$\\displaystyle Q_9^T\\left[\\begin{matrix}-0.196793538212704 & -0.413003863847698 & -0.834760494502482 & -0.293850319135293 & -0.0867583916785911\\\\-0.293029240588027 & -0.732948917136988 & 0.222656603324724 & 0.561587199679714 & 0.109378257345387\\\\0.345469043637626 & 0.284184927231306 & -0.494616426801083 & 0.694849703035538 & 0.269125523785085\\end{matrix}\\right]$"
      ],
      "text/plain": [
       "<IPython.core.display.Math object>"
      ]
     },
     "metadata": {},
     "output_type": "display_data"
    },
    {
     "data": {
      "text/latex": [
       "$\\displaystyle -Q_9^T\\left[\\begin{matrix}0.196793538212704 & 0.413003863847698 & 0.834760494502482 & 0.293850319135293 & 0.0867583916785911\\\\0.293029240588027 & 0.732948917136988 & -0.222656603324724 & -0.561587199679714 & -0.109378257345387\\\\-0.345469043637626 & -0.284184927231306 & 0.494616426801083 & -0.694849703035538 & -0.269125523785085\\end{matrix}\\right]$"
      ],
      "text/plain": [
       "<IPython.core.display.Math object>"
      ]
     },
     "metadata": {},
     "output_type": "display_data"
    },
    {
     "data": {
      "text/latex": [
       "$\\displaystyle g(\\lambda_9) = \\left[\\begin{matrix}-5.74467706947382\\\\3.30655129770128\\\\-0.732817209165319\\\\2.24212852557791\\\\-3.25301630182701\\end{matrix}\\right]$"
      ],
      "text/plain": [
       "<IPython.core.display.Math object>"
      ]
     },
     "metadata": {},
     "output_type": "display_data"
    },
    {
     "data": {
      "text/latex": [
       "$\\displaystyle \\delta_9 = \\left[\\begin{matrix}0.000477920021011654\\\\7.23251241117041 \\cdot 10^{-11}\\\\1.48109062301585 \\cdot 10^{-9}\\end{matrix}\\right]$"
      ],
      "text/plain": [
       "<IPython.core.display.Math object>"
      ]
     },
     "metadata": {},
     "output_type": "display_data"
    },
    {
     "name": "stdout",
     "output_type": "stream",
     "text": [
      "\n"
     ]
    },
    {
     "data": {
      "text/latex": [
       "$\\displaystyle \\text{Lambda berechnen } \\lambda_{(10)} = \\lambda_9+ \\delta_9:$"
      ],
      "text/plain": [
       "<IPython.core.display.Math object>"
      ]
     },
     "metadata": {},
     "output_type": "display_data"
    },
    {
     "data": {
      "text/latex": [
       "$\\displaystyle \\left[\\begin{matrix}129190127.343593\\\\44.6491029869569\\\\759.236989861826\\end{matrix}\\right] + \\left[\\begin{matrix}0.000477920021011654\\\\7.23251241117041 \\cdot 10^{-11}\\\\1.48109062301585 \\cdot 10^{-9}\\end{matrix}\\right] = \\left[\\begin{matrix}129190127.344071\\\\44.6491029870293\\\\759.236989863308\\end{matrix}\\right]$"
      ],
      "text/plain": [
       "<IPython.core.display.Math object>"
      ]
     },
     "metadata": {},
     "output_type": "display_data"
    },
    {
     "name": "stdout",
     "output_type": "stream",
     "text": [
      "\n"
     ]
    },
    {
     "data": {
      "text/latex": [
       "$\\displaystyle \\lambda_10 = 129190127.34,44.65,759.24$"
      ],
      "text/plain": [
       "<IPython.core.display.Math object>"
      ]
     },
     "metadata": {},
     "output_type": "display_data"
    },
    {
     "data": {
      "text/latex": [
       "$\\displaystyle \\text{Inkrement: } 0.00$"
      ],
      "text/plain": [
       "<IPython.core.display.Math object>"
      ]
     },
     "metadata": {},
     "output_type": "display_data"
    },
    {
     "data": {
      "text/latex": [
       "$\\displaystyle \\text{Fehlerfunktional: } 60.08$"
      ],
      "text/plain": [
       "<IPython.core.display.Math object>"
      ]
     },
     "metadata": {},
     "output_type": "display_data"
    },
    {
     "name": "stdout",
     "output_type": "stream",
     "text": [
      "-----------------------------\n",
      "\n"
     ]
    },
    {
     "data": {
      "image/png": "[encoded data removed]",
      "text/plain": [
       "<Figure size 640x480 with 1 Axes>"
      ]
     },
     "metadata": {},
     "output_type": "display_data"
    }
   ],
   "source": [
    "from IPython.display import display, Math\n",
    "import numpy as np\n",
    "import sympy as sy\n",
    "import matplotlib.pyplot as plt\n",
    "\n",
    "'''INPUT'''\n",
    "# Messwerte\n",
    "x = np.array([25, 35, 45, 55, 65], dtype=np.float64)\n",
    "y = np.array([47, 114, 223, 81, 20], dtype=np.float64)\n",
    "\n",
    "# Modellfunktion\n",
    "def f(x, a):\n",
    "    return a[0] / ((x**2 - a[1]**2)**2 + a[2]**2 )\n",
    "\n",
    "# Startvektor für Iteration\n",
    "lam0 = np.array([10**8, 50, 600], dtype=np.float64)\n",
    "a = sy.symbols(\"a:3\")\n",
    "\n",
    "# Fehlertoleranz und maximale Iterationen\n",
    "tol = 10**-3\n",
    "max_iter = 30\n",
    "'''INPUT'''\n",
    "\n",
    "# Fehlerfunktion und deren Jacobimatrix\n",
    "g = sy.Matrix([y[k] - f(x[k], a) for k in range(x.shape[0])])\n",
    "Dg = g.jacobian(a)\n",
    "\n",
    "# Lambdify\n",
    "g_lambda = sy.lambdify([a], g, \"numpy\")\n",
    "Dg_lambda = sy.lambdify([a], Dg, \"numpy\")\n",
    "\n",
    "# Initialisierung\n",
    "k = 0\n",
    "lam = np.copy(lam0)\n",
    "increment = tol + 1\n",
    "err_func = np.linalg.norm(g_lambda(lam), 2) ** 2\n",
    "\n",
    "while increment > tol and k <= max_iter:\n",
    "    display(Math(f'\\\\text{{Iteration: }} {k + 1}'))\n",
    "\n",
    "    # QR-Zerlegung von Dg(lam)\n",
    "    [Q, R] = np.linalg.qr(Dg_lambda(lam))\n",
    "    display(Math('\\\\text{QR-Zerlegung von } Dg(\\\\lambda_{' + str(k) + '}) = Q_' + str(k) + ' \\\\cdot R_' + str(k) + ':'))\n",
    "    display(Math('\\\\text{Q}_' + str(k) + '= ' + sy.latex(sy.Matrix(Q))))\n",
    "    display(Math('\\\\text{R}_' + str(k) + '= ' + sy.latex(sy.Matrix(R))))\n",
    "    print()\n",
    "    \n",
    "    # Vor der Berechnung von delta\n",
    "    QT = Q.T\n",
    "    g_lambda_val = g_lambda(lam)\n",
    "    display(Math('\\\\text{Auflösen nach } \\\\delta_' + str(k) + '\\\\text{ mit } R_' + str(k) + '\\\\cdot \\\\delta_' + str(k) + '= -Q_' + str(k) + '^T \\\\cdot g(\\\\lambda_' + str(k) + '):'))\n",
    "    display(Math('Q_' + str(k) + '^T' + sy.latex(sy.Matrix(QT))))\n",
    "    display(Math('-Q_' + str(k) + '^T' + sy.latex(sy.Matrix(-1 * QT))))\n",
    "    display(Math('g(\\\\lambda_' + str(k) + ') = ' + sy.latex(sy.Matrix(g_lambda_val))))\n",
    "\n",
    "    # Berechnung von delta\n",
    "    delta = np.linalg.solve(R, -QT @ g_lambda_val).flatten()\n",
    "    display(Math('\\\\delta_' + str(k) + ' = ' + sy.latex(sy.Matrix(delta))))\n",
    "    print()\n",
    "    \n",
    "    # Aktualisierung von lam\n",
    "    lam_prev = lam\n",
    "    lam = lam + delta\n",
    "    display(Math('\\\\text{Lambda berechnen } \\\\lambda_{(' + str(k+1) + ')} = \\\\lambda_' + str(k) + '+ \\\\delta_' + str(k) + ':'))\n",
    "    display(Math(sy.latex(sy.Matrix(lam_prev)) + ' + ' + sy.latex(sy.Matrix(delta)) + ' = ' + sy.latex(sy.Matrix(lam))))\n",
    "    print()\n",
    "    \n",
    "    err_func = np.linalg.norm(g_lambda(lam)) ** 2\n",
    "    increment = np.linalg.norm(delta, 2)\n",
    "    k = k + 1\n",
    "    \n",
    "    # Ausgabe der Zwischenschritte\n",
    "    display(Math('\\\\lambda_' + str(k) + ' = ' + ','.join([f'{v:.2f}' for v in lam])))  # Geändert für Dezimaldarstellung\n",
    "    display(Math(f'\\\\text{{Inkrement: }} {increment:.2f}'))  # Geändert für Dezimaldarstellung\n",
    "    display(Math(f'\\\\text{{Fehlerfunktional: }} {err_func:.2f}'))  # Geändert für Dezimaldarstellung\n",
    "\n",
    "    print(\"-----------------------------\")\n",
    "    print()\n",
    "\n",
    "# Plot der Daten und der Anpassung\n",
    "plt.plot(x, y, \"o\", label=\"Messwerte\")\n",
    "x_plot = np.linspace(20, 70, 100)\n",
    "plt.plot(x_plot, f(x_plot, lam), \"-\", label=\"Modellanpassung\")\n",
    "plt.legend()\n",
    "plt.show()"
   ]
  }
 ],
 "metadata": {
  "kernelspec": {
   "display_name": "base",
   "language": "python",
   "name": "python3"
  },
  "language_info": {
   "codemirror_mode": {
    "name": "ipython",
    "version": 3
   },
   "file_extension": ".py",
   "mimetype": "text/x-python",
   "name": "python",
   "nbconvert_exporter": "python",
   "pygments_lexer": "ipython3",
   "version": "3.11.8"
  }
 },
 "nbformat": 4,
 "nbformat_minor": 2
}
