{
 "cells": [
  {
   "cell_type": "code",
   "execution_count": 21,
   "metadata": {},
   "outputs": [
    {
     "data": {
      "text/latex": [
       "$\\displaystyle \\frac{d^1}{dx^1}f(x) = 2^{x} \\log{\\left(2 \\right)}$"
      ],
      "text/plain": [
       "<IPython.core.display.Math object>"
      ]
     },
     "metadata": {},
     "output_type": "display_data"
    },
    {
     "data": {
      "text/latex": [
       "$\\displaystyle \\frac{d^2}{dx^2}f(x) = 2^{x} \\log{\\left(2 \\right)}^{2}$"
      ],
      "text/plain": [
       "<IPython.core.display.Math object>"
      ]
     },
     "metadata": {},
     "output_type": "display_data"
    },
    {
     "data": {
      "text/latex": [
       "$\\displaystyle \\frac{d^3}{dx^3}f(x) = 2^{x} \\log{\\left(2 \\right)}^{3}$"
      ],
      "text/plain": [
       "<IPython.core.display.Math object>"
      ]
     },
     "metadata": {},
     "output_type": "display_data"
    },
    {
     "data": {
      "text/latex": [
       "$\\displaystyle \\max\\left|f^{(3)}(x)\\right|_{[-1, 3]} = 2.6641972159114355$"
      ],
      "text/plain": [
       "<IPython.core.display.Math object>"
      ]
     },
     "metadata": {},
     "output_type": "display_data"
    },
    {
     "data": {
      "image/png": "[encoded data removed]",
      "text/plain": [
       "<Figure size 1000x600 with 1 Axes>"
      ]
     },
     "metadata": {},
     "output_type": "display_data"
    },
    {
     "data": {
      "text/latex": [
       "$\\displaystyle \\text{Der maximale Wert von f tritt auf bei } x = 3.0$"
      ],
      "text/plain": [
       "<IPython.core.display.Math object>"
      ]
     },
     "metadata": {},
     "output_type": "display_data"
    },
    {
     "data": {
      "text/latex": [
       "$\\displaystyle \\text{Produkt der Differenzen: } (x - -1) * (x - 1) * (x - 3) = -3$"
      ],
      "text/plain": [
       "<IPython.core.display.Math object>"
      ]
     },
     "metadata": {},
     "output_type": "display_data"
    },
    {
     "data": {
      "text/latex": [
       "$\\displaystyle \\text{Geschätzter Fehler bei } x = 2: \\quad \\frac{|-3|}{3!} \\cdot 2.6641972159114355 = 1.3320986079557178$"
      ],
      "text/plain": [
       "<IPython.core.display.Math object>"
      ]
     },
     "metadata": {},
     "output_type": "display_data"
    }
   ],
   "source": [
    "from IPython.display import display, Math\n",
    "import math\n",
    "import matplotlib.pyplot as plt\n",
    "import numpy as np\n",
    "import sympy as sp\n",
    "\n",
    "def f_derivative(f, n):\n",
    "    x_sym = sp.symbols('x')\n",
    "    f_sym = f(x_sym)\n",
    "    for k in range(1, n + 2):  # Geht von der ersten bis zur (n+1)-ten Ableitung\n",
    "        f_nth_derivative = sp.diff(f_sym, x_sym, k)\n",
    "        f_nth_derivative_func = sp.lambdify(x_sym, f_nth_derivative, 'numpy')\n",
    "        # Ausgabe der k-ten Ableitung in LaTeX\n",
    "        display(Math(f\"\\\\frac{{d^{k}}}{{dx^{k}}}f(x) = \" + sp.latex(f_nth_derivative)))\n",
    "        if k == n + 1:  # Nur die (n+1)-te Ableitungsfunktion wird zurückgegeben\n",
    "            return f_nth_derivative_func\n",
    "\n",
    "def max_derived_value_in_interval(f, x0, xn, n):\n",
    "    x_values = np.linspace(x0, xn, 100)  # Erzeugt 100 Punkte im Intervall [x0, xn]\n",
    "    f_n_plus_1_derivative_func = f_derivative(f, n)\n",
    "    max_value = np.max(np.abs(f_n_plus_1_derivative_func(x_values)))\n",
    "    # Ausgabe des maximalen Werts der (n+1)-ten Ableitung\n",
    "    display(Math(f\"\\\\max\\\\left|f^{{({n+1})}}(x)\\\\right|_{{[{x0}, {xn}]}} = {max_value}\"))\n",
    "    return max_value\n",
    "\n",
    "def produkt_der_differenzen(x, x_i):\n",
    "    produkt = 1\n",
    "    for xi in x_i:\n",
    "        produkt *= (x - xi)\n",
    "    # Ausgabe des Produkts der Differenzen in LaTeX\n",
    "    produkt_str = \" * \".join([f\"(x - {xi})\" for xi in x_i])\n",
    "    display(Math(f\"\\\\text{{Produkt der Differenzen: }} {produkt_str} = {produkt}\"))\n",
    "    return produkt\n",
    "\n",
    "def fehlerabschaetzung(x, x_i, max_f_n_plus_1):\n",
    "    n = len(x_i) - 1\n",
    "    produkt = produkt_der_differenzen(x, x_i)\n",
    "    fehler = abs(produkt) * max_f_n_plus_1 / math.factorial(n + 1)  # Ersetzen Sie np.math.factorial durch math.factorial\n",
    "    # Ausgabe des geschätzten Fehlers und der Fakultät in LaTeX\n",
    "    display(Math(f\"\\\\text{{Geschätzter Fehler bei }} x = {x}: \\\\quad \\\\frac{{|{produkt}|}}{{{n+1}!}} \\\\cdot {max_f_n_plus_1} = {fehler}\"))\n",
    "    return fehler\n",
    "\n",
    "\"\"\"\n",
    "=======================================================================================================================\n",
    "INPUT\n",
    "=======================================================================================================================\n",
    "\"\"\"\n",
    "\n",
    "# Beispiel-Funktion: f(x) = 2^x\n",
    "def f(x):\n",
    "    return 2 ** x\n",
    "\n",
    "# Beispielwerte\n",
    "x_i = np.array([-1, 1, 3])  # Interpolationspunkte\n",
    "x = 2  # Punkt, an dem der Fehler geschätzt wird\n",
    "\n",
    "\"\"\"\n",
    "=======================================================================================================================\n",
    "\"\"\"\n",
    "\n",
    "# Berechnung des Maximums der (n+1)-ten Ableitung im Intervall\n",
    "max_f_n_plus_1 = max_derived_value_in_interval(f, x_i[0], x_i[-1], len(x_i) - 1)\n",
    "\n",
    "# Plot der Funktion f\n",
    "x_values = np.linspace(x_i[0], x_i[-1], 1000)\n",
    "y_values = f(x_values)\n",
    "plt.figure(figsize=(10, 6))\n",
    "plt.plot(x_values, y_values, label='f(x)')\n",
    "plt.xlabel('x')\n",
    "plt.ylabel('f(x)')\n",
    "plt.title('Funktion f')\n",
    "plt.legend()\n",
    "plt.grid(True)\n",
    "plt.show()\n",
    "\n",
    "# Finden und ausgeben des x-Wertes, der den maximalen Wert von f hat\n",
    "max_f_index = np.argmax(y_values)\n",
    "max_f_x = x_values[max_f_index]\n",
    "display(Math(f\"\\\\text{{Der maximale Wert von f tritt auf bei }} x = {max_f_x}\"))\n",
    "\n",
    "# Fehlerabschätzung\n",
    "fehler = fehlerabschaetzung(x, x_i, max_f_n_plus_1)\n",
    "\n"
   ]
  }
 ],
 "metadata": {
  "kernelspec": {
   "display_name": "base",
   "language": "python",
   "name": "python3"
  },
  "language_info": {
   "codemirror_mode": {
    "name": "ipython",
    "version": 3
   },
   "file_extension": ".py",
   "mimetype": "text/x-python",
   "name": "python",
   "nbconvert_exporter": "python",
   "pygments_lexer": "ipython3",
   "version": "3.11.8"
  }
 },
 "nbformat": 4,
 "nbformat_minor": 2
}
