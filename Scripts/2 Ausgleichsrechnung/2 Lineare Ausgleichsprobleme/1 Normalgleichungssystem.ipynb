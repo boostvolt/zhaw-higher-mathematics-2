{
 "cells": [
  {
   "cell_type": "code",
   "execution_count": 1,
   "metadata": {},
   "outputs": [
    {
     "data": {
      "text/latex": [
       "Basisfunktionen: $[x, 1]$"
      ],
      "text/plain": [
       "<IPython.core.display.Latex object>"
      ]
     },
     "metadata": {},
     "output_type": "display_data"
    },
    {
     "data": {
      "text/latex": [
       "Matrix $A$: $$\\left[\\begin{matrix}0 & 1.0\\\\1.0 & 1.0\\\\2.0 & 1.0\\end{matrix}\\right]$$"
      ],
      "text/plain": [
       "<IPython.core.display.Latex object>"
      ]
     },
     "metadata": {},
     "output_type": "display_data"
    },
    {
     "data": {
      "text/latex": [
       "Vektor $y$: $$\\left[\\begin{matrix}0\\\\2\\\\1\\end{matrix}\\right]$$"
      ],
      "text/plain": [
       "<IPython.core.display.Latex object>"
      ]
     },
     "metadata": {},
     "output_type": "display_data"
    },
    {
     "data": {
      "text/latex": [
       "Matrix $A^T \\cdot A$: $$\\left[\\begin{matrix}5.0 & 3.0\\\\3.0 & 3.0\\end{matrix}\\right]$$"
      ],
      "text/plain": [
       "<IPython.core.display.Latex object>"
      ]
     },
     "metadata": {},
     "output_type": "display_data"
    },
    {
     "data": {
      "text/latex": [
       "Matrix $A^T \\cdot y$: $$\\left[\\begin{matrix}4.0\\\\3.0\\end{matrix}\\right]$$"
      ],
      "text/plain": [
       "<IPython.core.display.Latex object>"
      ]
     },
     "metadata": {},
     "output_type": "display_data"
    },
    {
     "name": "stdout",
     "output_type": "stream",
     "text": [
      "Normalgleichung (λ): \t [0.5 0.5] \n",
      "\n",
      "E(f)\t\t= 2.7733391199176196e-32\n"
     ]
    },
    {
     "data": {
      "image/png": "[encoded data removed]",
      "text/plain": [
       "<Figure size 640x480 with 1 Axes>"
      ]
     },
     "metadata": {},
     "output_type": "display_data"
    }
   ],
   "source": [
    "import numpy as np\n",
    "import matplotlib.pyplot as plt\n",
    "import sympy as sp\n",
    "from IPython.display import display, Latex\n",
    "\n",
    "'''INPUT'''\n",
    "x_sym = sp.symbols('x')\n",
    "x = np.array([0, 1, 2])\n",
    "y = np.array([0, 2, 1])\n",
    "funcs = np.array([x_sym ** 1, x_sym ** 0])\n",
    "'''INPUT'''\n",
    "\n",
    "def create_funcs_matrix(x, funcs, x_sym):\n",
    "    n = len(x)\n",
    "    m = len(funcs)\n",
    "    A = np.zeros((n, m))\n",
    "    for i in range(n):\n",
    "        for j in range(m):\n",
    "            A[i][j] = funcs[j].subs([(x_sym, x[i])])\n",
    "    return A\n",
    "\n",
    "def get_fx(lambdas, funcs, x):\n",
    "    f = 0\n",
    "    for lam, func in zip(lambdas, funcs):\n",
    "        f += lam * func\n",
    "    return sp.lambdify(x, f)\n",
    "\n",
    "def normalgleichung(A, y):\n",
    "    return np.linalg.solve(A.T @ A, A.T @ y)\n",
    "\n",
    "def fehlerfunktionale(A, y, lambdas):\n",
    "    Ef = np.linalg.norm(y - A @ lambdas, 2) ** 2\n",
    "    print(f\"E(f)\\t\\t= {Ef}\")\n",
    "\n",
    "def display_with_latex():\n",
    "    # Basisfunktionen ausgeben\n",
    "    basisfunktionen_str = ', '.join([sp.latex(func) for func in funcs])\n",
    "    display(Latex(f\"Basisfunktionen: $[{basisfunktionen_str}]$\"))\n",
    "\n",
    "    # Matrix A ausgeben\n",
    "    A = create_funcs_matrix(x, funcs, x_sym)\n",
    "    A_str = sp.latex(sp.Matrix(A))\n",
    "    display(Latex(f\"Matrix $A$: $${A_str}$$\"))\n",
    "\n",
    "    # Vektor y ausgeben\n",
    "    y_str = sp.latex(sp.Matrix(y))\n",
    "    display(Latex(f\"Vektor $y$: $${y_str}$$\"))\n",
    "\n",
    "    # Berechnung von A^T*A und A^T*y\n",
    "    ATA = A.T @ A\n",
    "    ATy = A.T @ y\n",
    "    ATA_str = sp.latex(sp.Matrix(ATA))\n",
    "    ATy_str = sp.latex(sp.Matrix(ATy))\n",
    "\n",
    "    # Ausgabe von A^T*A und A^T*y\n",
    "    display(Latex(rf\"Matrix $A^T \\cdot A$: $${ATA_str}$$\"))\n",
    "    display(Latex(rf\"Matrix $A^T \\cdot y$: $${ATy_str}$$\"))\n",
    "\n",
    "if __name__ == \"__main__\":\n",
    "    np.set_printoptions(suppress=True)\n",
    "    display_with_latex()  # Anzeige der Basisfunktionen, Matrix A und Vektor y mit Latex\n",
    "\n",
    "    A = create_funcs_matrix(x, funcs, x_sym)\n",
    "    lambdas = normalgleichung(A, y)\n",
    "    f = get_fx(lambdas, funcs, x_sym)\n",
    "    y_pred = f(x)\n",
    "\n",
    "    # Normalgleichung\n",
    "    print(f\"Normalgleichung (\\u03BB): \\t {lambdas} \\n\")\n",
    "\n",
    "    # Fehlerfunktionale\n",
    "    fehlerfunktionale(A, y_pred, lambdas)\n",
    "\n",
    "    # Plot\n",
    "    plt.plot(x, y, 'o', label='Daten')\n",
    "    plt.plot(x, y_pred, '-r', label='Normalgleichung a')\n",
    "    plt.xlabel('x')\n",
    "    plt.ylabel('y')\n",
    "    plt.legend()\n",
    "    plt.show()"
   ]
  }
 ],
 "metadata": {
  "kernelspec": {
   "display_name": "Python 3",
   "language": "python",
   "name": "python3"
  },
  "language_info": {
   "codemirror_mode": {
    "name": "ipython",
    "version": 3
   },
   "file_extension": ".py",
   "mimetype": "text/x-python",
   "name": "python",
   "nbconvert_exporter": "python",
   "pygments_lexer": "ipython3",
   "version": "3.11.8"
  }
 },
 "nbformat": 4,
 "nbformat_minor": 2
}
