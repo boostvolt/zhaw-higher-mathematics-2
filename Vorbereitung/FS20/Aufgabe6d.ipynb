{
 "cells": [
  {
   "cell_type": "code",
   "execution_count": 2,
   "metadata": {},
   "outputs": [
    {
     "data": {
      "text/latex": [
       "$\\displaystyle \\text{Iteration: } 1$"
      ],
      "text/plain": [
       "<IPython.core.display.Math object>"
      ]
     },
     "metadata": {},
     "output_type": "display_data"
    },
    {
     "data": {
      "text/latex": [
       "$\\displaystyle \\text{{QR-Zerlegung von }} Dg(\\lambda_{0}) = Q_0 \\cdot R_0:$"
      ],
      "text/plain": [
       "<IPython.core.display.Math object>"
      ]
     },
     "metadata": {},
     "output_type": "display_data"
    },
    {
     "data": {
      "text/latex": [
       "$\\displaystyle \\text{{Q}}_0= \\left[\\begin{matrix}0 & -0.0687408214122768 & -0.997517725393449\\\\0.408175138063914 & -0.910743710476808 & 0.0627316666729975\\\\0.526977846011198 & 0.234206568034747 & -0.00363586697659874\\\\0.527108755671041 & 0.235549675931914 & -0.0224540262012877\\\\0.527108875067409 & 0.235550900987997 & -0.0224882791913475\\end{matrix}\\right]$"
      ],
      "text/plain": [
       "<IPython.core.display.Math object>"
      ]
     },
     "metadata": {},
     "output_type": "display_data"
    },
    {
     "data": {
      "text/latex": [
       "$\\displaystyle \\text{{R}}_0= \\left[\\begin{matrix}-1.89714126832976 & -6.50084371988637 & -18108.479013424\\\\0 & 14.5473967208283 & 40257.7614863881\\\\0 & 0 & -2774.23801336696\\end{matrix}\\right]$"
      ],
      "text/plain": [
       "<IPython.core.display.Math object>"
      ]
     },
     "metadata": {},
     "output_type": "display_data"
    },
    {
     "data": {
      "text/latex": [
       "$\\displaystyle Dg(\\lambda_{0}) = \\left[\\begin{matrix}0 & -1.0 & 0\\\\-0.77436589912725 & -15.9024328502018 & -44229.9665673614\\\\-0.999751419163371 & -0.018704760936021 & -104.048350166773\\\\-0.999999773281482 & -1.70607571077478 \\cdot 10^{-5} & -0.142354957307047\\\\-0.999999999793259 & -1.55574002374099 \\cdot 10^{-8} & -0.000173081263441264\\end{matrix}\\right]$"
      ],
      "text/plain": [
       "<IPython.core.display.Math object>"
      ]
     },
     "metadata": {},
     "output_type": "display_data"
    },
    {
     "name": "stdout",
     "output_type": "stream",
     "text": [
      "\n"
     ]
    },
    {
     "data": {
      "text/latex": [
       "$\\displaystyle \\text{{Auflösen nach }} \\delta_0\\text{{ mit }} R_0\\cdot \\delta_0= -Q_0^T \\cdot g(\\lambda_0):$"
      ],
      "text/plain": [
       "<IPython.core.display.Math object>"
      ]
     },
     "metadata": {},
     "output_type": "display_data"
    },
    {
     "data": {
      "text/latex": [
       "$\\displaystyle Q_0^T\\left[\\begin{matrix}0 & 0.408175138063914 & 0.526977846011198 & 0.527108755671041 & 0.527108875067409\\\\-0.0687408214122768 & -0.910743710476808 & 0.234206568034747 & 0.235549675931914 & 0.235550900987997\\\\-0.997517725393449 & 0.0627316666729975 & -0.00363586697659874 & -0.0224540262012877 & -0.0224882791913475\\end{matrix}\\right]$"
      ],
      "text/plain": [
       "<IPython.core.display.Math object>"
      ]
     },
     "metadata": {},
     "output_type": "display_data"
    },
    {
     "data": {
      "text/latex": [
       "$\\displaystyle -Q_0^T\\left[\\begin{matrix}0 & -0.408175138063914 & -0.526977846011198 & -0.527108755671041 & -0.527108875067409\\\\0.0687408214122768 & 0.910743710476808 & -0.234206568034747 & -0.235549675931914 & -0.235550900987997\\\\0.997517725393449 & -0.0627316666729975 & 0.00363586697659874 & 0.0224540262012877 & 0.0224882791913475\\end{matrix}\\right]$"
      ],
      "text/plain": [
       "<IPython.core.display.Math object>"
      ]
     },
     "metadata": {},
     "output_type": "display_data"
    },
    {
     "data": {
      "text/latex": [
       "$\\displaystyle g(\\lambda_0) = \\left[\\begin{matrix}-171.0\\\\-24339.4635438579\\\\-14198.2835270883\\\\-4145.99661059587\\\\-1002.99999690926\\end{matrix}\\right]$"
      ],
      "text/plain": [
       "<IPython.core.display.Math object>"
      ]
     },
     "metadata": {},
     "output_type": "display_data"
    },
    {
     "data": {
      "text/latex": [
       "$\\displaystyle \\delta_0 = \\left[\\begin{matrix}-6429.2466109598\\\\-26.5737072987966\\\\-0.428588479639075\\end{matrix}\\right]$"
      ],
      "text/plain": [
       "<IPython.core.display.Math object>"
      ]
     },
     "metadata": {},
     "output_type": "display_data"
    },
    {
     "name": "stdout",
     "output_type": "stream",
     "text": [
      "\n"
     ]
    },
    {
     "data": {
      "text/latex": [
       "$\\displaystyle \\text{Aktuelles } p: 0$"
      ],
      "text/plain": [
       "<IPython.core.display.Math object>"
      ]
     },
     "metadata": {},
     "output_type": "display_data"
    },
    {
     "data": {
      "text/latex": [
       "$\\displaystyle \\text{Optimales } p: 1$"
      ],
      "text/plain": [
       "<IPython.core.display.Math object>"
      ]
     },
     "metadata": {},
     "output_type": "display_data"
    },
    {
     "data": {
      "text/latex": [
       "$\\displaystyle \\text{{Lambda berechnen: }} \\lambda_1 = \\lambda_0 + \\frac{{\\delta_0}}{{2^1}}$"
      ],
      "text/plain": [
       "<IPython.core.display.Math object>"
      ]
     },
     "metadata": {},
     "output_type": "display_data"
    },
    {
     "data": {
      "text/latex": [
       "$\\displaystyle \\left[\\begin{matrix}30000.0\\\\200.0\\\\0.5\\end{matrix}\\right] + \\frac{{\\left[\\begin{matrix}-6429.2466109598\\\\-26.5737072987966\\\\-0.428588479639075\\end{matrix}\\right]}}{{2^1}} = \\left[\\begin{matrix}26785.3766945201\\\\186.713146350602\\\\0.285705760180463\\end{matrix}\\right]$"
      ],
      "text/plain": [
       "<IPython.core.display.Math object>"
      ]
     },
     "metadata": {},
     "output_type": "display_data"
    },
    {
     "name": "stdout",
     "output_type": "stream",
     "text": [
      "\n"
     ]
    },
    {
     "data": {
      "text/latex": [
       "$\\displaystyle \\lambda_{1} = 26785.38, 186.71, 0.29$"
      ],
      "text/plain": [
       "<IPython.core.display.Math object>"
      ]
     },
     "metadata": {},
     "output_type": "display_data"
    },
    {
     "data": {
      "text/latex": [
       "$\\displaystyle \\text{Inkrement} = 3214.6507714736977$"
      ],
      "text/plain": [
       "<IPython.core.display.Math object>"
      ]
     },
     "metadata": {},
     "output_type": "display_data"
    },
    {
     "data": {
      "text/latex": [
       "$\\displaystyle \\text{Fehlerfunktional} = 129715514.75852662$"
      ],
      "text/plain": [
       "<IPython.core.display.Math object>"
      ]
     },
     "metadata": {},
     "output_type": "display_data"
    },
    {
     "name": "stdout",
     "output_type": "stream",
     "text": [
      "-----------------------------------------\n",
      "\n"
     ]
    },
    {
     "data": {
      "text/latex": [
       "$\\displaystyle \\text{Iteration: } 2$"
      ],
      "text/plain": [
       "<IPython.core.display.Math object>"
      ]
     },
     "metadata": {},
     "output_type": "display_data"
    },
    {
     "data": {
      "text/latex": [
       "$\\displaystyle \\text{{QR-Zerlegung von }} Dg(\\lambda_{1}) = Q_1 \\cdot R_1:$"
      ],
      "text/plain": [
       "<IPython.core.display.Math object>"
      ]
     },
     "metadata": {},
     "output_type": "display_data"
    },
    {
     "data": {
      "text/latex": [
       "$\\displaystyle \\text{{Q}}_1= \\left[\\begin{matrix}0 & -0.0341992042929112 & 0.195786254509872\\\\0.044780687319085 & -0.982239803284102 & 0.169001187999027\\\\0.541144402008253 & -0.126723312588702 & -0.815589705953523\\\\0.593271210634923 & 0.092577805632451 & 0.341764618495815\\\\0.594295126052817 & 0.0969842008832694 & 0.388737338169321\\end{matrix}\\right]$"
      ],
      "text/plain": [
       "<IPython.core.display.Math object>"
      ]
     },
     "metadata": {},
     "output_type": "display_data"
    },
    {
     "data": {
      "text/latex": [
       "$\\displaystyle \\text{{R}}_1= \\left[\\begin{matrix}-1.6826114940346 & -4.77570521856512 & -21631.3973282528\\\\0 & 29.240446398552 & 77819.0361076426\\\\0 & 0 & 13593.1356385824\\end{matrix}\\right]$"
      ],
      "text/plain": [
       "<IPython.core.display.Math object>"
      ]
     },
     "metadata": {},
     "output_type": "display_data"
    },
    {
     "data": {
      "text/latex": [
       "$\\displaystyle Dg(\\lambda_{1}) = \\left[\\begin{matrix}0 & -1.0 & 0\\\\-0.0753484991938618 & -28.9349896805738 & -75108.3674866084\\\\-0.910535790751566 & -6.28979237386501 & -32653.6171082783\\\\-0.998244958094141 & -0.126272053362397 & -983.316865697612\\\\-0.99996780994521 & -0.00231700742461292 & -24.0576059695455\\end{matrix}\\right]$"
      ],
      "text/plain": [
       "<IPython.core.display.Math object>"
      ]
     },
     "metadata": {},
     "output_type": "display_data"
    },
    {
     "name": "stdout",
     "output_type": "stream",
     "text": [
      "\n"
     ]
    },
    {
     "data": {
      "text/latex": [
       "$\\displaystyle \\text{{Auflösen nach }} \\delta_1\\text{{ mit }} R_1\\cdot \\delta_1= -Q_1^T \\cdot g(\\lambda_1):$"
      ],
      "text/plain": [
       "<IPython.core.display.Math object>"
      ]
     },
     "metadata": {},
     "output_type": "display_data"
    },
    {
     "data": {
      "text/latex": [
       "$\\displaystyle Q_1^T\\left[\\begin{matrix}0 & 0.044780687319085 & 0.541144402008253 & 0.593271210634923 & 0.594295126052817\\\\-0.0341992042929112 & -0.982239803284102 & -0.126723312588702 & 0.092577805632451 & 0.0969842008832694\\\\0.195786254509872 & 0.169001187999027 & -0.815589705953523 & 0.341764618495815 & 0.388737338169321\\end{matrix}\\right]$"
      ],
      "text/plain": [
       "<IPython.core.display.Math object>"
      ]
     },
     "metadata": {},
     "output_type": "display_data"
    },
    {
     "data": {
      "text/latex": [
       "$\\displaystyle -Q_1^T\\left[\\begin{matrix}0 & -0.044780687319085 & -0.541144402008253 & -0.593271210634923 & -0.594295126052817\\\\0.0341992042929112 & 0.982239803284102 & 0.126723312588702 & -0.092577805632451 & -0.0969842008832694\\\\-0.195786254509872 & -0.169001187999027 & 0.815589705953523 & -0.341764618495815 & -0.388737338169321\\end{matrix}\\right]$"
      ],
      "text/plain": [
       "<IPython.core.display.Math object>"
      ]
     },
     "metadata": {},
     "output_type": "display_data"
    },
    {
     "data": {
      "text/latex": [
       "$\\displaystyle g(\\lambda_1) = \\left[\\begin{matrix}-157.713146350602\\\\-5348.78089715645\\\\-9765.43107313978\\\\-907.943888336453\\\\2212.05291247691\\end{matrix}\\right]$"
      ],
      "text/plain": [
       "<IPython.core.display.Math object>"
      ]
     },
     "metadata": {},
     "output_type": "display_data"
    },
    {
     "data": {
      "text/latex": [
       "$\\displaystyle \\delta_1 = \\left[\\begin{matrix}777.879223298893\\\\1257.29093467658\\\\-0.557587397880044\\end{matrix}\\right]$"
      ],
      "text/plain": [
       "<IPython.core.display.Math object>"
      ]
     },
     "metadata": {},
     "output_type": "display_data"
    },
    {
     "name": "stdout",
     "output_type": "stream",
     "text": [
      "\n"
     ]
    },
    {
     "data": {
      "text/latex": [
       "$\\displaystyle \\text{Aktuelles } p: 0$"
      ],
      "text/plain": [
       "<IPython.core.display.Math object>"
      ]
     },
     "metadata": {},
     "output_type": "display_data"
    },
    {
     "data": {
      "text/latex": [
       "$\\displaystyle \\text{Aktuelles } p: 1$"
      ],
      "text/plain": [
       "<IPython.core.display.Math object>"
      ]
     },
     "metadata": {},
     "output_type": "display_data"
    },
    {
     "data": {
      "text/latex": [
       "$\\displaystyle \\text{Optimales } p: 2$"
      ],
      "text/plain": [
       "<IPython.core.display.Math object>"
      ]
     },
     "metadata": {},
     "output_type": "display_data"
    },
    {
     "data": {
      "text/latex": [
       "$\\displaystyle \\text{{Lambda berechnen: }} \\lambda_2 = \\lambda_1 + \\frac{{\\delta_1}}{{2^2}}$"
      ],
      "text/plain": [
       "<IPython.core.display.Math object>"
      ]
     },
     "metadata": {},
     "output_type": "display_data"
    },
    {
     "data": {
      "text/latex": [
       "$\\displaystyle \\left[\\begin{matrix}26785.3766945201\\\\186.713146350602\\\\0.285705760180463\\end{matrix}\\right] + \\frac{{\\left[\\begin{matrix}777.879223298893\\\\1257.29093467658\\\\-0.557587397880044\\end{matrix}\\right]}}{{2^2}} = \\left[\\begin{matrix}26979.8465003448\\\\501.035880019746\\\\0.146308910710451\\end{matrix}\\right]$"
      ],
      "text/plain": [
       "<IPython.core.display.Math object>"
      ]
     },
     "metadata": {},
     "output_type": "display_data"
    },
    {
     "name": "stdout",
     "output_type": "stream",
     "text": [
      "\n"
     ]
    },
    {
     "data": {
      "text/latex": [
       "$\\displaystyle \\lambda_{2} = 26979.85, 501.04, 0.15$"
      ],
      "text/plain": [
       "<IPython.core.display.Math object>"
      ]
     },
     "metadata": {},
     "output_type": "display_data"
    },
    {
     "data": {
      "text/latex": [
       "$\\displaystyle \\text{Inkrement} = 369.61778327108533$"
      ],
      "text/plain": [
       "<IPython.core.display.Math object>"
      ]
     },
     "metadata": {},
     "output_type": "display_data"
    },
    {
     "data": {
      "text/latex": [
       "$\\displaystyle \\text{Fehlerfunktional} = 12607985.590128211$"
      ],
      "text/plain": [
       "<IPython.core.display.Math object>"
      ]
     },
     "metadata": {},
     "output_type": "display_data"
    },
    {
     "name": "stdout",
     "output_type": "stream",
     "text": [
      "-----------------------------------------\n",
      "\n"
     ]
    },
    {
     "data": {
      "text/latex": [
       "$\\displaystyle \\text{Iteration: } 3$"
      ],
      "text/plain": [
       "<IPython.core.display.Math object>"
      ]
     },
     "metadata": {},
     "output_type": "display_data"
    },
    {
     "data": {
      "text/latex": [
       "$\\displaystyle \\text{{QR-Zerlegung von }} Dg(\\lambda_{2}) = Q_2 \\cdot R_2:$"
      ],
      "text/plain": [
       "<IPython.core.display.Math object>"
      ]
     },
     "metadata": {},
     "output_type": "display_data"
    },
    {
     "data": {
      "text/latex": [
       "$\\displaystyle \\text{{Q}}_2= \\left[\\begin{matrix}0 & -0.069737464552387 & 0.274847360225866\\\\0.0110400883826406 & -0.421790326693579 & 0.756247655527815\\\\0.215642681791819 & -0.851464350185779 & -0.237729547092346\\\\0.623153585057695 & -0.0575889981080529 & -0.389454450853527\\\\0.751702041814361 & 0.298197206568319 & 0.379945134506552\\end{matrix}\\right]$"
      ],
      "text/plain": [
       "<IPython.core.display.Math object>"
      ]
     },
     "metadata": {},
     "output_type": "display_data"
    },
    {
     "data": {
      "text/latex": [
       "$\\displaystyle \\text{{R}}_2= \\left[\\begin{matrix}-1.29191439495846 & -6.72449397444639 & -121700.454891182\\\\0 & 14.3394946521005 & 177485.960696693\\\\0 & 0 & 45033.7994240162\\end{matrix}\\right]$"
      ],
      "text/plain": [
       "<IPython.core.display.Math object>"
      ]
     },
     "metadata": {},
     "output_type": "display_data"
    },
    {
     "data": {
      "text/latex": [
       "$\\displaystyle Dg(\\lambda_{2}) = \\left[\\begin{matrix}0 & -1.0 & 0\\\\-0.0142628491031472 & -6.12249914173671 & -42148.7398900659\\\\-0.278591884774298 & -13.6596564102857 & -188072.645400646\\\\-0.805061086806009 & -5.01618965826538 & -103597.927047888\\\\-0.971134688539642 & -0.778818601902014 & -21446.2897670909\\end{matrix}\\right]$"
      ],
      "text/plain": [
       "<IPython.core.display.Math object>"
      ]
     },
     "metadata": {},
     "output_type": "display_data"
    },
    {
     "name": "stdout",
     "output_type": "stream",
     "text": [
      "\n"
     ]
    },
    {
     "data": {
      "text/latex": [
       "$\\displaystyle \\text{{Auflösen nach }} \\delta_2\\text{{ mit }} R_2\\cdot \\delta_2= -Q_2^T \\cdot g(\\lambda_2):$"
      ],
      "text/plain": [
       "<IPython.core.display.Math object>"
      ]
     },
     "metadata": {},
     "output_type": "display_data"
    },
    {
     "data": {
      "text/latex": [
       "$\\displaystyle Q_2^T\\left[\\begin{matrix}0 & 0.0110400883826406 & 0.215642681791819 & 0.623153585057695 & 0.751702041814361\\\\-0.069737464552387 & -0.421790326693579 & -0.851464350185779 & -0.0575889981080529 & 0.298197206568319\\\\0.274847360225866 & 0.756247655527815 & -0.237729547092346 & -0.389454450853527 & 0.379945134506552\\end{matrix}\\right]$"
      ],
      "text/plain": [
       "<IPython.core.display.Math object>"
      ]
     },
     "metadata": {},
     "output_type": "display_data"
    },
    {
     "data": {
      "text/latex": [
       "$\\displaystyle -Q_2^T\\left[\\begin{matrix}0 & -0.0110400883826406 & -0.215642681791819 & -0.623153585057695 & -0.751702041814361\\\\0.069737464552387 & 0.421790326693579 & 0.851464350185779 & 0.0575889981080529 & -0.298197206568319\\\\-0.274847360225866 & -0.756247655527815 & 0.237729547092346 & 0.389454450853527 & -0.379945134506552\\end{matrix}\\right]$"
      ],
      "text/plain": [
       "<IPython.core.display.Math object>"
      ]
     },
     "metadata": {},
     "output_type": "display_data"
    },
    {
     "data": {
      "text/latex": [
       "$\\displaystyle g(\\lambda_2) = \\left[\\begin{matrix}-472.035880019746\\\\-1380.40122486068\\\\1437.6557422528\\\\1620.28445479815\\\\2405.71910846057\\end{matrix}\\right]$"
      ],
      "text/plain": [
       "<IPython.core.display.Math object>"
      ]
     },
     "metadata": {},
     "output_type": "display_data"
    },
    {
     "data": {
      "text/latex": [
       "$\\displaystyle \\delta_2 = \\left[\\begin{matrix}1600.09375689566\\\\-339.78194005278\\\\0.0273666000228275\\end{matrix}\\right]$"
      ],
      "text/plain": [
       "<IPython.core.display.Math object>"
      ]
     },
     "metadata": {},
     "output_type": "display_data"
    },
    {
     "name": "stdout",
     "output_type": "stream",
     "text": [
      "\n"
     ]
    },
    {
     "data": {
      "text/latex": [
       "$\\displaystyle \\text{Aktuelles } p: 0$"
      ],
      "text/plain": [
       "<IPython.core.display.Math object>"
      ]
     },
     "metadata": {},
     "output_type": "display_data"
    },
    {
     "data": {
      "text/latex": [
       "$\\displaystyle \\text{Optimales } p: 1$"
      ],
      "text/plain": [
       "<IPython.core.display.Math object>"
      ]
     },
     "metadata": {},
     "output_type": "display_data"
    },
    {
     "data": {
      "text/latex": [
       "$\\displaystyle \\text{{Lambda berechnen: }} \\lambda_3 = \\lambda_2 + \\frac{{\\delta_2}}{{2^1}}$"
      ],
      "text/plain": [
       "<IPython.core.display.Math object>"
      ]
     },
     "metadata": {},
     "output_type": "display_data"
    },
    {
     "data": {
      "text/latex": [
       "$\\displaystyle \\left[\\begin{matrix}26979.8465003448\\\\501.035880019746\\\\0.146308910710451\\end{matrix}\\right] + \\frac{{\\left[\\begin{matrix}1600.09375689566\\\\-339.78194005278\\\\0.0273666000228275\\end{matrix}\\right]}}{{2^1}} = \\left[\\begin{matrix}27779.8933787927\\\\331.144909993356\\\\0.159992210721865\\end{matrix}\\right]$"
      ],
      "text/plain": [
       "<IPython.core.display.Math object>"
      ]
     },
     "metadata": {},
     "output_type": "display_data"
    },
    {
     "name": "stdout",
     "output_type": "stream",
     "text": [
      "\n"
     ]
    },
    {
     "data": {
      "text/latex": [
       "$\\displaystyle \\lambda_{3} = 27779.89, 331.14, 0.16$"
      ],
      "text/plain": [
       "<IPython.core.display.Math object>"
      ]
     },
     "metadata": {},
     "output_type": "display_data"
    },
    {
     "data": {
      "text/latex": [
       "$\\displaystyle \\text{Inkrement} = 817.8862693540327$"
      ],
      "text/plain": [
       "<IPython.core.display.Math object>"
      ]
     },
     "metadata": {},
     "output_type": "display_data"
    },
    {
     "data": {
      "text/latex": [
       "$\\displaystyle \\text{Fehlerfunktional} = 5480227.440094742$"
      ],
      "text/plain": [
       "<IPython.core.display.Math object>"
      ]
     },
     "metadata": {},
     "output_type": "display_data"
    },
    {
     "name": "stdout",
     "output_type": "stream",
     "text": [
      "-----------------------------------------\n",
      "\n"
     ]
    },
    {
     "data": {
      "text/latex": [
       "$\\displaystyle \\text{Iteration: } 4$"
      ],
      "text/plain": [
       "<IPython.core.display.Math object>"
      ]
     },
     "metadata": {},
     "output_type": "display_data"
    },
    {
     "data": {
      "text/latex": [
       "$\\displaystyle \\text{{QR-Zerlegung von }} Dg(\\lambda_{3}) = Q_3 \\cdot R_3:$"
      ],
      "text/plain": [
       "<IPython.core.display.Math object>"
      ]
     },
     "metadata": {},
     "output_type": "display_data"
    },
    {
     "data": {
      "text/latex": [
       "$\\displaystyle \\text{{Q}}_3= \\left[\\begin{matrix}0 & -0.0460120032720491 & 0.214811689574968\\\\0.00708083798716208 & -0.354063966428731 & 0.777675522198981\\\\0.201038912543871 & -0.88861346857601 & -0.174746626756695\\\\0.631434206249019 & -0.0494805398182983 & -0.411370263225735\\\\0.748881873565684 & 0.28361837542065 & 0.38641278856326\\end{matrix}\\right]$"
      ],
      "text/plain": [
       "<IPython.core.display.Math object>"
      ]
     },
     "metadata": {},
     "output_type": "display_data"
    },
    {
     "data": {
      "text/latex": [
       "$\\displaystyle \\text{{R}}_3= \\left[\\begin{matrix}-1.30715751363336 & -9.41322684786396 & -112365.122720243\\\\0 & 21.7334592907732 & 185392.073967263\\\\0 & 0 & 39710.4120863805\\end{matrix}\\right]$"
      ],
      "text/plain": [
       "<IPython.core.display.Math object>"
      ]
     },
     "metadata": {},
     "output_type": "display_data"
    },
    {
     "data": {
      "text/latex": [
       "$\\displaystyle Dg(\\lambda_{3}) = \\left[\\begin{matrix}1.73472347597681 \\cdot 10^{-18} & -1.0 & 0\\\\-0.00925577057773941 & -7.76168833495464 & -35554.4768266746\\\\-0.2627895250644 & -21.2050695335528 & -194270.916533299\\\\-0.82538396706352 & -7.0192167207494 & -96460.1646456408\\\\-0.97890656785521 & -0.885386541807236 & -16222.9937224187\\end{matrix}\\right]$"
      ],
      "text/plain": [
       "<IPython.core.display.Math object>"
      ]
     },
     "metadata": {},
     "output_type": "display_data"
    },
    {
     "name": "stdout",
     "output_type": "stream",
     "text": [
      "\n"
     ]
    },
    {
     "data": {
      "text/latex": [
       "$\\displaystyle \\text{{Auflösen nach }} \\delta_3\\text{{ mit }} R_3\\cdot \\delta_3= -Q_3^T \\cdot g(\\lambda_3):$"
      ],
      "text/plain": [
       "<IPython.core.display.Math object>"
      ]
     },
     "metadata": {},
     "output_type": "display_data"
    },
    {
     "data": {
      "text/latex": [
       "$\\displaystyle Q_3^T\\left[\\begin{matrix}0 & 0.00708083798716208 & 0.201038912543871 & 0.631434206249019 & 0.748881873565684\\\\-0.0460120032720491 & -0.354063966428731 & -0.88861346857601 & -0.0494805398182983 & 0.28361837542065\\\\0.214811689574968 & 0.777675522198981 & -0.174746626756695 & -0.411370263225735 & 0.38641278856326\\end{matrix}\\right]$"
      ],
      "text/plain": [
       "<IPython.core.display.Math object>"
      ]
     },
     "metadata": {},
     "output_type": "display_data"
    },
    {
     "data": {
      "text/latex": [
       "$\\displaystyle -Q_3^T\\left[\\begin{matrix}0 & -0.00708083798716208 & -0.201038912543871 & -0.631434206249019 & -0.748881873565684\\\\0.0460120032720491 & 0.354063966428731 & 0.88861346857601 & 0.0494805398182983 & -0.28361837542065\\\\-0.214811689574968 & -0.777675522198981 & 0.174746626756695 & 0.411370263225735 & -0.38641278856326\\end{matrix}\\right]$"
      ],
      "text/plain": [
       "<IPython.core.display.Math object>"
      ]
     },
     "metadata": {},
     "output_type": "display_data"
    },
    {
     "data": {
      "text/latex": [
       "$\\displaystyle g(\\lambda_3) = \\left[\\begin{matrix}-302.144909993356\\\\-755.3679048632\\\\1475.78417055622\\\\600.543509194082\\\\1509.88867048633\\end{matrix}\\right]$"
      ],
      "text/plain": [
       "<IPython.core.display.Math object>"
      ]
     },
     "metadata": {},
     "output_type": "display_data"
    },
    {
     "data": {
      "text/latex": [
       "$\\displaystyle \\delta_3 = \\left[\\begin{matrix}814.248562814648\\\\-94.2070686792697\\\\0.0144503447289684\\end{matrix}\\right]$"
      ],
      "text/plain": [
       "<IPython.core.display.Math object>"
      ]
     },
     "metadata": {},
     "output_type": "display_data"
    },
    {
     "name": "stdout",
     "output_type": "stream",
     "text": [
      "\n"
     ]
    },
    {
     "data": {
      "text/latex": [
       "$\\displaystyle \\text{Optimales } p: 0$"
      ],
      "text/plain": [
       "<IPython.core.display.Math object>"
      ]
     },
     "metadata": {},
     "output_type": "display_data"
    },
    {
     "data": {
      "text/latex": [
       "$\\displaystyle \\text{{Lambda berechnen: }} \\lambda_4 = \\lambda_3 + \\frac{{\\delta_3}}{{2^0}}$"
      ],
      "text/plain": [
       "<IPython.core.display.Math object>"
      ]
     },
     "metadata": {},
     "output_type": "display_data"
    },
    {
     "data": {
      "text/latex": [
       "$\\displaystyle \\left[\\begin{matrix}27779.8933787927\\\\331.144909993356\\\\0.159992210721865\\end{matrix}\\right] + \\frac{{\\left[\\begin{matrix}814.248562814648\\\\-94.2070686792697\\\\0.0144503447289684\\end{matrix}\\right]}}{{2^0}} = \\left[\\begin{matrix}28594.1419416073\\\\236.937841314086\\\\0.174442555450834\\end{matrix}\\right]$"
      ],
      "text/plain": [
       "<IPython.core.display.Math object>"
      ]
     },
     "metadata": {},
     "output_type": "display_data"
    },
    {
     "name": "stdout",
     "output_type": "stream",
     "text": [
      "\n"
     ]
    },
    {
     "data": {
      "text/latex": [
       "$\\displaystyle \\lambda_{4} = 28594.14, 236.94, 0.17$"
      ],
      "text/plain": [
       "<IPython.core.display.Math object>"
      ]
     },
     "metadata": {},
     "output_type": "display_data"
    },
    {
     "data": {
      "text/latex": [
       "$\\displaystyle \\text{Inkrement} = 819.6802389003117$"
      ],
      "text/plain": [
       "<IPython.core.display.Math object>"
      ]
     },
     "metadata": {},
     "output_type": "display_data"
    },
    {
     "data": {
      "text/latex": [
       "$\\displaystyle \\text{Fehlerfunktional} = 1639299.9637569177$"
      ],
      "text/plain": [
       "<IPython.core.display.Math object>"
      ]
     },
     "metadata": {},
     "output_type": "display_data"
    },
    {
     "name": "stdout",
     "output_type": "stream",
     "text": [
      "-----------------------------------------\n",
      "\n"
     ]
    },
    {
     "data": {
      "text/latex": [
       "$\\displaystyle \\text{Iteration: } 5$"
      ],
      "text/plain": [
       "<IPython.core.display.Math object>"
      ]
     },
     "metadata": {},
     "output_type": "display_data"
    },
    {
     "data": {
      "text/latex": [
       "$\\displaystyle \\text{{QR-Zerlegung von }} Dg(\\lambda_{4}) = Q_4 \\cdot R_4:$"
      ],
      "text/plain": [
       "<IPython.core.display.Math object>"
      ]
     },
     "metadata": {},
     "output_type": "display_data"
    },
    {
     "data": {
      "text/latex": [
       "$\\displaystyle \\text{{Q}}_4= \\left[\\begin{matrix}0 & -0.0326637789901329 & 0.175543454690614\\\\0.00524998097999932 & -0.315782735526613 & 0.80675801236516\\\\0.204619876907968 & -0.909990466438439 & -0.170384505737816\\\\0.642739963767951 & -0.0136489502629897 & -0.384422029742475\\\\0.738233352436377 & 0.266355774544656 & 0.376184566739596\\end{matrix}\\right]$"
      ],
      "text/plain": [
       "<IPython.core.display.Math object>"
      ]
     },
     "metadata": {},
     "output_type": "display_data"
    },
    {
     "data": {
      "text/latex": [
       "$\\displaystyle \\text{{R}}_4= \\left[\\begin{matrix}-1.33614788830176 & -12.1592845177681 & -101231.442077882\\\\0 & 30.6149512064137 & 190029.727303172\\\\0 & 0 & 35359.2734353195\\end{matrix}\\right]$"
      ],
      "text/plain": [
       "<IPython.core.display.Math object>"
      ]
     },
     "metadata": {},
     "output_type": "display_data"
    },
    {
     "data": {
      "text/latex": [
       "$\\displaystyle Dg(\\lambda_{4}) = \\left[\\begin{matrix}0 & -1.0 & 0\\\\-0.0070147510000505 & -9.73150905242379 & -32013.1931093041\\\\-0.273402416435147 & -30.3473450296291 & -199663.8777305\\\\-0.858795645315697 & -8.23312003671464 & -81252.0833739905\\\\-0.986388934931794 & -0.82192033154847 & -10815.2986972852\\end{matrix}\\right]$"
      ],
      "text/plain": [
       "<IPython.core.display.Math object>"
      ]
     },
     "metadata": {},
     "output_type": "display_data"
    },
    {
     "name": "stdout",
     "output_type": "stream",
     "text": [
      "\n"
     ]
    },
    {
     "data": {
      "text/latex": [
       "$\\displaystyle \\text{{Auflösen nach }} \\delta_4\\text{{ mit }} R_4\\cdot \\delta_4= -Q_4^T \\cdot g(\\lambda_4):$"
      ],
      "text/plain": [
       "<IPython.core.display.Math object>"
      ]
     },
     "metadata": {},
     "output_type": "display_data"
    },
    {
     "data": {
      "text/latex": [
       "$\\displaystyle Q_4^T\\left[\\begin{matrix}0 & 0.00524998097999932 & 0.204619876907968 & 0.642739963767951 & 0.738233352436377\\\\-0.0326637789901329 & -0.315782735526613 & -0.909990466438439 & -0.0136489502629897 & 0.266355774544656\\\\0.175543454690614 & 0.80675801236516 & -0.170384505737816 & -0.384422029742475 & 0.376184566739596\\end{matrix}\\right]$"
      ],
      "text/plain": [
       "<IPython.core.display.Math object>"
      ]
     },
     "metadata": {},
     "output_type": "display_data"
    },
    {
     "data": {
      "text/latex": [
       "$\\displaystyle -Q_4^T\\left[\\begin{matrix}0 & -0.00524998097999932 & -0.204619876907968 & -0.642739963767951 & -0.738233352436377\\\\0.0326637789901329 & 0.315782735526613 & 0.909990466438439 & 0.0136489502629897 & -0.266355774544656\\\\-0.175543454690614 & -0.80675801236516 & 0.170384505737816 & 0.384422029742475 & -0.376184566739596\\end{matrix}\\right]$"
      ],
      "text/plain": [
       "<IPython.core.display.Math object>"
      ]
     },
     "metadata": {},
     "output_type": "display_data"
    },
    {
     "data": {
      "text/latex": [
       "$\\displaystyle g(\\lambda_4) = \\left[\\begin{matrix}-207.937841314086\\\\-434.343533390255\\\\789.858076340888\\\\-653.262269770199\\\\597.310755840193\\end{matrix}\\right]$"
      ],
      "text/plain": [
       "<IPython.core.display.Math object>"
      ]
     },
     "metadata": {},
     "output_type": "display_data"
    },
    {
     "data": {
      "text/latex": [
       "$\\displaystyle \\delta_4 = \\left[\\begin{matrix}-10.7884729785302\\\\5.27153648352193\\\\0.00129143872644275\\end{matrix}\\right]$"
      ],
      "text/plain": [
       "<IPython.core.display.Math object>"
      ]
     },
     "metadata": {},
     "output_type": "display_data"
    },
    {
     "name": "stdout",
     "output_type": "stream",
     "text": [
      "\n"
     ]
    },
    {
     "data": {
      "text/latex": [
       "$\\displaystyle \\text{Optimales } p: 0$"
      ],
      "text/plain": [
       "<IPython.core.display.Math object>"
      ]
     },
     "metadata": {},
     "output_type": "display_data"
    },
    {
     "data": {
      "text/latex": [
       "$\\displaystyle \\text{{Lambda berechnen: }} \\lambda_5 = \\lambda_4 + \\frac{{\\delta_4}}{{2^0}}$"
      ],
      "text/plain": [
       "<IPython.core.display.Math object>"
      ]
     },
     "metadata": {},
     "output_type": "display_data"
    },
    {
     "data": {
      "text/latex": [
       "$\\displaystyle \\left[\\begin{matrix}28594.1419416073\\\\236.937841314086\\\\0.174442555450834\\end{matrix}\\right] + \\frac{{\\left[\\begin{matrix}-10.7884729785302\\\\5.27153648352193\\\\0.00129143872644275\\end{matrix}\\right]}}{{2^0}} = \\left[\\begin{matrix}28583.3534686288\\\\242.209377797608\\\\0.175733994177276\\end{matrix}\\right]$"
      ],
      "text/plain": [
       "<IPython.core.display.Math object>"
      ]
     },
     "metadata": {},
     "output_type": "display_data"
    },
    {
     "name": "stdout",
     "output_type": "stream",
     "text": [
      "\n"
     ]
    },
    {
     "data": {
      "text/latex": [
       "$\\displaystyle \\lambda_{5} = 28583.35, 242.21, 0.18$"
      ],
      "text/plain": [
       "<IPython.core.display.Math object>"
      ]
     },
     "metadata": {},
     "output_type": "display_data"
    },
    {
     "data": {
      "text/latex": [
       "$\\displaystyle \\text{Inkrement} = 12.007507975154299$"
      ],
      "text/plain": [
       "<IPython.core.display.Math object>"
      ]
     },
     "metadata": {},
     "output_type": "display_data"
    },
    {
     "data": {
      "text/latex": [
       "$\\displaystyle \\text{Fehlerfunktional} = 1434840.5839880628$"
      ],
      "text/plain": [
       "<IPython.core.display.Math object>"
      ]
     },
     "metadata": {},
     "output_type": "display_data"
    },
    {
     "name": "stdout",
     "output_type": "stream",
     "text": [
      "-----------------------------------------\n",
      "\n"
     ]
    },
    {
     "data": {
      "text/latex": [
       "$\\displaystyle \\text{Iteration: } 6$"
      ],
      "text/plain": [
       "<IPython.core.display.Math object>"
      ]
     },
     "metadata": {},
     "output_type": "display_data"
    },
    {
     "data": {
      "text/latex": [
       "$\\displaystyle \\text{{QR-Zerlegung von }} Dg(\\lambda_{5}) = Q_5 \\cdot R_5:$"
      ],
      "text/plain": [
       "<IPython.core.display.Math object>"
      ]
     },
     "metadata": {},
     "output_type": "display_data"
    },
    {
     "data": {
      "text/latex": [
       "$\\displaystyle \\text{{Q}}_5= \\left[\\begin{matrix}0 & -0.0335137069007906 & 0.177610450950953\\\\0.0056202464244808 & -0.327589344047446 & 0.820125697522246\\\\0.214600661518031 & -0.906118484631556 & -0.197715364454761\\\\0.644838141777491 & 0.00234966360291996 & -0.353893134724918\\\\0.733552138443549 & 0.265529327958887 & 0.362652246414855\\end{matrix}\\right]$"
      ],
      "text/plain": [
       "<IPython.core.display.Math object>"
      ]
     },
     "metadata": {},
     "output_type": "display_data"
    },
    {
     "data": {
      "text/latex": [
       "$\\displaystyle \\text{{R}}_5= \\left[\\begin{matrix}-1.3463371695038 & -11.7987714558682 & -99107.7408531324\\\\0 & 29.8385374963225 & 188214.986272497\\\\0 & 0 & 35514.7000106128\\end{matrix}\\right]$"
      ],
      "text/plain": [
       "<IPython.core.display.Math object>"
      ]
     },
     "metadata": {},
     "output_type": "display_data"
    },
    {
     "data": {
      "text/latex": [
       "$\\displaystyle Dg(\\lambda_{5}) = \\left[\\begin{matrix}0 & -1.0 & 0\\\\-0.00756674666304935 & -9.84109892884352 & -33087.7157005774\\\\-0.28892484720183 & -29.569274539319 & -198835.466750923\\\\-0.8681695585888 & -7.53818733533989 & -76034.6180603013\\\\-0.987608509755549 & -0.732007223784282 & -9844.61068279882\\end{matrix}\\right]$"
      ],
      "text/plain": [
       "<IPython.core.display.Math object>"
      ]
     },
     "metadata": {},
     "output_type": "display_data"
    },
    {
     "name": "stdout",
     "output_type": "stream",
     "text": [
      "\n"
     ]
    },
    {
     "data": {
      "text/latex": [
       "$\\displaystyle \\text{{Auflösen nach }} \\delta_5\\text{{ mit }} R_5\\cdot \\delta_5= -Q_5^T \\cdot g(\\lambda_5):$"
      ],
      "text/plain": [
       "<IPython.core.display.Math object>"
      ]
     },
     "metadata": {},
     "output_type": "display_data"
    },
    {
     "data": {
      "text/latex": [
       "$\\displaystyle Q_5^T\\left[\\begin{matrix}0 & 0.0056202464244808 & 0.214600661518031 & 0.644838141777491 & 0.733552138443549\\\\-0.0335137069007906 & -0.327589344047446 & -0.906118484631556 & 0.00234966360291996 & 0.265529327958887\\\\0.177610450950953 & 0.820125697522246 & -0.197715364454761 & -0.353893134724918 & 0.362652246414855\\end{matrix}\\right]$"
      ],
      "text/plain": [
       "<IPython.core.display.Math object>"
      ]
     },
     "metadata": {},
     "output_type": "display_data"
    },
    {
     "data": {
      "text/latex": [
       "$\\displaystyle -Q_5^T\\left[\\begin{matrix}0 & -0.0056202464244808 & -0.214600661518031 & -0.644838141777491 & -0.733552138443549\\\\0.0335137069007906 & 0.327589344047446 & 0.906118484631556 & -0.00234966360291996 & -0.265529327958887\\\\-0.177610450950953 & -0.820125697522246 & 0.197715364454761 & 0.353893134724918 & -0.362652246414855\\end{matrix}\\right]$"
      ],
      "text/plain": [
       "<IPython.core.display.Math object>"
      ]
     },
     "metadata": {},
     "output_type": "display_data"
    },
    {
     "data": {
      "text/latex": [
       "$\\displaystyle g(\\lambda_5) = \\left[\\begin{matrix}-213.209377797608\\\\-527.889442877402\\\\377.603378465432\\\\-787.017028061553\\\\590.537862815298\\end{matrix}\\right]$"
      ],
      "text/plain": [
       "<IPython.core.display.Math object>"
      ]
     },
     "metadata": {},
     "output_type": "display_data"
    },
    {
     "data": {
      "text/latex": [
       "$\\displaystyle \\delta_5 = \\left[\\begin{matrix}-26.5475981116564\\\\-9.13599688391197\\\\0.001486204168509\\end{matrix}\\right]$"
      ],
      "text/plain": [
       "<IPython.core.display.Math object>"
      ]
     },
     "metadata": {},
     "output_type": "display_data"
    },
    {
     "name": "stdout",
     "output_type": "stream",
     "text": [
      "\n"
     ]
    },
    {
     "data": {
      "text/latex": [
       "$\\displaystyle \\text{Optimales } p: 0$"
      ],
      "text/plain": [
       "<IPython.core.display.Math object>"
      ]
     },
     "metadata": {},
     "output_type": "display_data"
    },
    {
     "data": {
      "text/latex": [
       "$\\displaystyle \\text{{Lambda berechnen: }} \\lambda_6 = \\lambda_5 + \\frac{{\\delta_5}}{{2^0}}$"
      ],
      "text/plain": [
       "<IPython.core.display.Math object>"
      ]
     },
     "metadata": {},
     "output_type": "display_data"
    },
    {
     "data": {
      "text/latex": [
       "$\\displaystyle \\left[\\begin{matrix}28583.3534686288\\\\242.209377797608\\\\0.175733994177276\\end{matrix}\\right] + \\frac{{\\left[\\begin{matrix}-26.5475981116564\\\\-9.13599688391197\\\\0.001486204168509\\end{matrix}\\right]}}{{2^0}} = \\left[\\begin{matrix}28556.8058705171\\\\233.073380913696\\\\0.177220198345785\\end{matrix}\\right]$"
      ],
      "text/plain": [
       "<IPython.core.display.Math object>"
      ]
     },
     "metadata": {},
     "output_type": "display_data"
    },
    {
     "name": "stdout",
     "output_type": "stream",
     "text": [
      "\n"
     ]
    },
    {
     "data": {
      "text/latex": [
       "$\\displaystyle \\lambda_{6} = 28556.81, 233.07, 0.18$"
      ],
      "text/plain": [
       "<IPython.core.display.Math object>"
      ]
     },
     "metadata": {},
     "output_type": "display_data"
    },
    {
     "data": {
      "text/latex": [
       "$\\displaystyle \\text{Inkrement} = 28.075637246012363$"
      ],
      "text/plain": [
       "<IPython.core.display.Math object>"
      ]
     },
     "metadata": {},
     "output_type": "display_data"
    },
    {
     "data": {
      "text/latex": [
       "$\\displaystyle \\text{Fehlerfunktional} = 1431820.6182292192$"
      ],
      "text/plain": [
       "<IPython.core.display.Math object>"
      ]
     },
     "metadata": {},
     "output_type": "display_data"
    },
    {
     "name": "stdout",
     "output_type": "stream",
     "text": [
      "-----------------------------------------\n",
      "\n"
     ]
    },
    {
     "data": {
      "text/latex": [
       "$\\displaystyle \\text{Iteration: } 7$"
      ],
      "text/plain": [
       "<IPython.core.display.Math object>"
      ]
     },
     "metadata": {},
     "output_type": "display_data"
    },
    {
     "data": {
      "text/latex": [
       "$\\displaystyle \\text{{QR-Zerlegung von }} Dg(\\lambda_{6}) = Q_6 \\cdot R_6:$"
      ],
      "text/plain": [
       "<IPython.core.display.Math object>"
      ]
     },
     "metadata": {},
     "output_type": "display_data"
    },
    {
     "data": {
      "text/latex": [
       "$\\displaystyle \\text{{Q}}_6= \\left[\\begin{matrix}0 & -0.0323452717627694 & 0.173914773073129\\\\-0.00544911195597652 & -0.323662967185555 & 0.823060195103418\\\\-0.215011870084905 & -0.90802095598314 & -0.196799590178673\\\\-0.645792494426431 & 0.00563854591631574 & -0.35102805843465\\\\-0.732592831690271 & 0.263936009977134 & 0.361074494308794\\end{matrix}\\right]$"
      ],
      "text/plain": [
       "<IPython.core.display.Math object>"
      ]
     },
     "metadata": {},
     "output_type": "display_data"
    },
    {
     "data": {
      "text/latex": [
       "$\\displaystyle \\text{{R}}_6= \\left[\\begin{matrix}1.34884667145766 & 12.1300584483523 & 97790.3870143667\\\\0 & 30.9164197887814 & 187974.272992852\\\\0 & 0 & 34960.1062458693\\end{matrix}\\right]$"
      ],
      "text/plain": [
       "<IPython.core.display.Math object>"
      ]
     },
     "metadata": {},
     "output_type": "display_data"
    },
    {
     "data": {
      "text/latex": [
       "$\\displaystyle Dg(\\lambda_{6}) = \\left[\\begin{matrix}-1.73472347597681 \\cdot 10^{-18} & -1.0 & 0\\\\-0.00735001652421909 & -10.0725982101088 & -32598.9098509121\\\\-0.290018045287912 & -30.6808636034048 & -198590.807633281\\\\-0.871075056559434 & -7.65917705035273 & -74364.3746097343\\\\-0.988155402559168 & -0.726437385417859 & -9404.15425914751\\end{matrix}\\right]$"
      ],
      "text/plain": [
       "<IPython.core.display.Math object>"
      ]
     },
     "metadata": {},
     "output_type": "display_data"
    },
    {
     "name": "stdout",
     "output_type": "stream",
     "text": [
      "\n"
     ]
    },
    {
     "data": {
      "text/latex": [
       "$\\displaystyle \\text{{Auflösen nach }} \\delta_6\\text{{ mit }} R_6\\cdot \\delta_6= -Q_6^T \\cdot g(\\lambda_6):$"
      ],
      "text/plain": [
       "<IPython.core.display.Math object>"
      ]
     },
     "metadata": {},
     "output_type": "display_data"
    },
    {
     "data": {
      "text/latex": [
       "$\\displaystyle Q_6^T\\left[\\begin{matrix}0 & -0.00544911195597652 & -0.215011870084905 & -0.645792494426431 & -0.732592831690271\\\\-0.0323452717627694 & -0.323662967185555 & -0.90802095598314 & 0.00563854591631574 & 0.263936009977134\\\\0.173914773073129 & 0.823060195103418 & -0.196799590178673 & -0.35102805843465 & 0.361074494308794\\end{matrix}\\right]$"
      ],
      "text/plain": [
       "<IPython.core.display.Math object>"
      ]
     },
     "metadata": {},
     "output_type": "display_data"
    },
    {
     "data": {
      "text/latex": [
       "$\\displaystyle -Q_6^T\\left[\\begin{matrix}0 & 0.00544911195597652 & 0.215011870084905 & 0.645792494426431 & 0.732592831690271\\\\0.0323452717627694 & 0.323662967185555 & 0.90802095598314 & -0.00563854591631574 & -0.263936009977134\\\\-0.173914773073129 & -0.823060195103418 & 0.196799590178673 & 0.35102805843465 & -0.361074494308794\\end{matrix}\\right]$"
      ],
      "text/plain": [
       "<IPython.core.display.Math object>"
      ]
     },
     "metadata": {},
     "output_type": "display_data"
    },
    {
     "data": {
      "text/latex": [
       "$\\displaystyle g(\\lambda_6) = \\left[\\begin{matrix}-204.073380913696\\\\-485.547514442519\\\\365.118372368726\\\\-806.271578959779\\\\609.12478177372\\end{matrix}\\right]$"
      ],
      "text/plain": [
       "<IPython.core.display.Math object>"
      ]
     },
     "metadata": {},
     "output_type": "display_data"
    },
    {
     "data": {
      "text/latex": [
       "$\\displaystyle \\delta_6 = \\left[\\begin{matrix}-4.36061208390484\\\\-0.324978656422846\\\\0.000114930550792143\\end{matrix}\\right]$"
      ],
      "text/plain": [
       "<IPython.core.display.Math object>"
      ]
     },
     "metadata": {},
     "output_type": "display_data"
    },
    {
     "name": "stdout",
     "output_type": "stream",
     "text": [
      "\n"
     ]
    },
    {
     "data": {
      "text/latex": [
       "$\\displaystyle \\text{Optimales } p: 0$"
      ],
      "text/plain": [
       "<IPython.core.display.Math object>"
      ]
     },
     "metadata": {},
     "output_type": "display_data"
    },
    {
     "data": {
      "text/latex": [
       "$\\displaystyle \\text{{Lambda berechnen: }} \\lambda_7 = \\lambda_6 + \\frac{{\\delta_6}}{{2^0}}$"
      ],
      "text/plain": [
       "<IPython.core.display.Math object>"
      ]
     },
     "metadata": {},
     "output_type": "display_data"
    },
    {
     "data": {
      "text/latex": [
       "$\\displaystyle \\left[\\begin{matrix}28556.8058705171\\\\233.073380913696\\\\0.177220198345785\\end{matrix}\\right] + \\frac{{\\left[\\begin{matrix}-4.36061208390484\\\\-0.324978656422846\\\\0.000114930550792143\\end{matrix}\\right]}}{{2^0}} = \\left[\\begin{matrix}28552.4452584332\\\\232.748402257273\\\\0.177335128896578\\end{matrix}\\right]$"
      ],
      "text/plain": [
       "<IPython.core.display.Math object>"
      ]
     },
     "metadata": {},
     "output_type": "display_data"
    },
    {
     "name": "stdout",
     "output_type": "stream",
     "text": [
      "\n"
     ]
    },
    {
     "data": {
      "text/latex": [
       "$\\displaystyle \\lambda_{7} = 28552.45, 232.75, 0.18$"
      ],
      "text/plain": [
       "<IPython.core.display.Math object>"
      ]
     },
     "metadata": {},
     "output_type": "display_data"
    },
    {
     "data": {
      "text/latex": [
       "$\\displaystyle \\text{Inkrement} = 4.372704985090622$"
      ],
      "text/plain": [
       "<IPython.core.display.Math object>"
      ]
     },
     "metadata": {},
     "output_type": "display_data"
    },
    {
     "data": {
      "text/latex": [
       "$\\displaystyle \\text{Fehlerfunktional} = 1431656.770401779$"
      ],
      "text/plain": [
       "<IPython.core.display.Math object>"
      ]
     },
     "metadata": {},
     "output_type": "display_data"
    },
    {
     "name": "stdout",
     "output_type": "stream",
     "text": [
      "-----------------------------------------\n",
      "\n"
     ]
    },
    {
     "data": {
      "text/latex": [
       "$\\displaystyle \\text{Iteration: } 8$"
      ],
      "text/plain": [
       "<IPython.core.display.Math object>"
      ]
     },
     "metadata": {},
     "output_type": "display_data"
    },
    {
     "data": {
      "text/latex": [
       "$\\displaystyle \\text{{QR-Zerlegung von }} Dg(\\lambda_{7}) = Q_7 \\cdot R_7:$"
      ],
      "text/plain": [
       "<IPython.core.display.Math object>"
      ]
     },
     "metadata": {},
     "output_type": "display_data"
    },
    {
     "data": {
      "text/latex": [
       "$\\displaystyle \\text{{Q}}_7= \\left[\\begin{matrix}0 & -0.0323123334148219 & 0.17378108164589\\\\0.0054517220107664 & -0.323827839871265 & 0.823579575545203\\\\0.215337109147774 & -0.907987137090168 & -0.197550401249982\\\\0.645895997975702 & 0.00627167462278911 & -0.349962890695868\\\\0.732406013048752 & 0.263839853338776 & 0.360578191948059\\end{matrix}\\right]$"
      ],
      "text/plain": [
       "<IPython.core.display.Math object>"
      ]
     },
     "metadata": {},
     "output_type": "display_data"
    },
    {
     "data": {
      "text/latex": [
       "$\\displaystyle \\text{{R}}_7= \\left[\\begin{matrix}-1.34927368132573 & -12.1365959742343 & -97655.431512396\\\\0 & 30.9479351788718 & 187886.443262796\\\\0 & 0 & 34935.0420732407\\end{matrix}\\right]$"
      ],
      "text/plain": [
       "<IPython.core.display.Math object>"
      ]
     },
     "metadata": {},
     "output_type": "display_data"
    },
    {
     "data": {
      "text/latex": [
       "$\\displaystyle Dg(\\lambda_{7}) = \\left[\\begin{matrix}0 & -1.0 & 0\\\\-0.00735586502703131 & -10.0879683448585 & -32603.4642059998\\\\-0.290548693985858 & -30.713786553902 & -198528.743609952\\\\-0.871490470942234 & -7.64488338911689 & -74122.8580668025\\\\-0.988216157451393 & -0.72361719074099 & -9354.67930535061\\end{matrix}\\right]$"
      ],
      "text/plain": [
       "<IPython.core.display.Math object>"
      ]
     },
     "metadata": {},
     "output_type": "display_data"
    },
    {
     "name": "stdout",
     "output_type": "stream",
     "text": [
      "\n"
     ]
    },
    {
     "data": {
      "text/latex": [
       "$\\displaystyle \\text{{Auflösen nach }} \\delta_7\\text{{ mit }} R_7\\cdot \\delta_7= -Q_7^T \\cdot g(\\lambda_7):$"
      ],
      "text/plain": [
       "<IPython.core.display.Math object>"
      ]
     },
     "metadata": {},
     "output_type": "display_data"
    },
    {
     "data": {
      "text/latex": [
       "$\\displaystyle Q_7^T\\left[\\begin{matrix}0 & 0.0054517220107664 & 0.215337109147774 & 0.645895997975702 & 0.732406013048752\\\\-0.0323123334148219 & -0.323827839871265 & -0.907987137090168 & 0.00627167462278911 & 0.263839853338776\\\\0.17378108164589 & 0.823579575545203 & -0.197550401249982 & -0.349962890695868 & 0.360578191948059\\end{matrix}\\right]$"
      ],
      "text/plain": [
       "<IPython.core.display.Math object>"
      ]
     },
     "metadata": {},
     "output_type": "display_data"
    },
    {
     "data": {
      "text/latex": [
       "$\\displaystyle -Q_7^T\\left[\\begin{matrix}0 & -0.0054517220107664 & -0.215337109147774 & -0.645895997975702 & -0.732406013048752\\\\0.0323123334148219 & 0.323827839871265 & 0.907987137090168 & -0.00627167462278911 & -0.263839853338776\\\\-0.17378108164589 & -0.823579575545203 & 0.197550401249982 & 0.349962890695868 & -0.360578191948059\\end{matrix}\\right]$"
      ],
      "text/plain": [
       "<IPython.core.display.Math object>"
      ]
     },
     "metadata": {},
     "output_type": "display_data"
    },
    {
     "data": {
      "text/latex": [
       "$\\displaystyle g(\\lambda_7) = \\left[\\begin{matrix}-203.748402257273\\\\-485.986447800502\\\\353.539572367896\\\\-808.518359084439\\\\612.59151587903\\end{matrix}\\right]$"
      ],
      "text/plain": [
       "<IPython.core.display.Math object>"
      ]
     },
     "metadata": {},
     "output_type": "display_data"
    },
    {
     "data": {
      "text/latex": [
       "$\\displaystyle \\delta_7 = \\left[\\begin{matrix}-1.04134149632016\\\\-0.272400684396506\\\\4.75010500758429 \\cdot 10^{-5}\\end{matrix}\\right]$"
      ],
      "text/plain": [
       "<IPython.core.display.Math object>"
      ]
     },
     "metadata": {},
     "output_type": "display_data"
    },
    {
     "name": "stdout",
     "output_type": "stream",
     "text": [
      "\n"
     ]
    },
    {
     "data": {
      "text/latex": [
       "$\\displaystyle \\text{Optimales } p: 0$"
      ],
      "text/plain": [
       "<IPython.core.display.Math object>"
      ]
     },
     "metadata": {},
     "output_type": "display_data"
    },
    {
     "data": {
      "text/latex": [
       "$\\displaystyle \\text{{Lambda berechnen: }} \\lambda_8 = \\lambda_7 + \\frac{{\\delta_7}}{{2^0}}$"
      ],
      "text/plain": [
       "<IPython.core.display.Math object>"
      ]
     },
     "metadata": {},
     "output_type": "display_data"
    },
    {
     "data": {
      "text/latex": [
       "$\\displaystyle \\left[\\begin{matrix}28552.4452584332\\\\232.748402257273\\\\0.177335128896578\\end{matrix}\\right] + \\frac{{\\left[\\begin{matrix}-1.04134149632016\\\\-0.272400684396506\\\\4.75010500758429 \\cdot 10^{-5}\\end{matrix}\\right]}}{{2^0}} = \\left[\\begin{matrix}28551.4039169369\\\\232.476001572877\\\\0.177382629946653\\end{matrix}\\right]$"
      ],
      "text/plain": [
       "<IPython.core.display.Math object>"
      ]
     },
     "metadata": {},
     "output_type": "display_data"
    },
    {
     "name": "stdout",
     "output_type": "stream",
     "text": [
      "\n"
     ]
    },
    {
     "data": {
      "text/latex": [
       "$\\displaystyle \\lambda_{8} = 28551.40, 232.48, 0.18$"
      ],
      "text/plain": [
       "<IPython.core.display.Math object>"
      ]
     },
     "metadata": {},
     "output_type": "display_data"
    },
    {
     "data": {
      "text/latex": [
       "$\\displaystyle \\text{Inkrement} = 1.076380159179064$"
      ],
      "text/plain": [
       "<IPython.core.display.Math object>"
      ]
     },
     "metadata": {},
     "output_type": "display_data"
    },
    {
     "data": {
      "text/latex": [
       "$\\displaystyle \\text{Fehlerfunktional} = 1431653.3822425487$"
      ],
      "text/plain": [
       "<IPython.core.display.Math object>"
      ]
     },
     "metadata": {},
     "output_type": "display_data"
    },
    {
     "name": "stdout",
     "output_type": "stream",
     "text": [
      "-----------------------------------------\n",
      "\n"
     ]
    },
    {
     "data": {
      "text/latex": [
       "$\\displaystyle \\text{Iteration: } 9$"
      ],
      "text/plain": [
       "<IPython.core.display.Math object>"
      ]
     },
     "metadata": {},
     "output_type": "display_data"
    },
    {
     "data": {
      "text/latex": [
       "$\\displaystyle \\text{{QR-Zerlegung von }} Dg(\\lambda_{8}) = Q_8 \\cdot R_8:$"
      ],
      "text/plain": [
       "<IPython.core.display.Math object>"
      ]
     },
     "metadata": {},
     "output_type": "display_data"
    },
    {
     "data": {
      "text/latex": [
       "$\\displaystyle \\text{{Q}}_8= \\left[\\begin{matrix}0 & -0.0322778568416119 & 0.173670063044047\\\\0.00544694379659511 & -0.323720924642962 & 0.823684190804739\\\\0.215361827779126 & -0.908040028985205 & -0.197552463819807\\\\0.645927228107035 & 0.00639075022380256 & -0.34983844177219\\\\0.732371237781 & 0.263790384544513 & 0.360512346137756\\end{matrix}\\right]$"
      ],
      "text/plain": [
       "<IPython.core.display.Math object>"
      ]
     },
     "metadata": {},
     "output_type": "display_data"
    },
    {
     "data": {
      "text/latex": [
       "$\\displaystyle \\text{{R}}_8= \\left[\\begin{matrix}-1.34936198555682 & -12.1466196591966 & -97612.2881137442\\\\0 & 30.9809912382666 & 187875.39119072\\\\0 & 0 & 34918.0214173002\\end{matrix}\\right]$"
      ],
      "text/plain": [
       "<IPython.core.display.Math object>"
      ]
     },
     "metadata": {},
     "output_type": "display_data"
    },
    {
     "data": {
      "text/latex": [
       "$\\displaystyle Dg(\\lambda_{8}) = \\left[\\begin{matrix}0 & -1.0 & 0\\\\-0.00734989889658999 & -10.0953570846094 & -32589.4617855194\\\\-0.290601063545188 & -30.7478983931284 & -198518.477607007\\\\-0.871589647043723 & -7.6478405906457 & -74065.4361945932\\\\-0.988233907576877 & -0.723347282348289 & -9340.33275620813\\end{matrix}\\right]$"
      ],
      "text/plain": [
       "<IPython.core.display.Math object>"
      ]
     },
     "metadata": {},
     "output_type": "display_data"
    },
    {
     "name": "stdout",
     "output_type": "stream",
     "text": [
      "\n"
     ]
    },
    {
     "data": {
      "text/latex": [
       "$\\displaystyle \\text{{Auflösen nach }} \\delta_8\\text{{ mit }} R_8\\cdot \\delta_8= -Q_8^T \\cdot g(\\lambda_8):$"
      ],
      "text/plain": [
       "<IPython.core.display.Math object>"
      ]
     },
     "metadata": {},
     "output_type": "display_data"
    },
    {
     "data": {
      "text/latex": [
       "$\\displaystyle Q_8^T\\left[\\begin{matrix}0 & 0.00544694379659511 & 0.215361827779126 & 0.645927228107035 & 0.732371237781\\\\-0.0322778568416119 & -0.323720924642962 & -0.908040028985205 & 0.00639075022380256 & 0.263790384544513\\\\0.173670063044047 & 0.823684190804739 & -0.197552463819807 & -0.34983844177219 & 0.360512346137756\\end{matrix}\\right]$"
      ],
      "text/plain": [
       "<IPython.core.display.Math object>"
      ]
     },
     "metadata": {},
     "output_type": "display_data"
    },
    {
     "data": {
      "text/latex": [
       "$\\displaystyle -Q_8^T\\left[\\begin{matrix}0 & -0.00544694379659511 & -0.215361827779126 & -0.645927228107035 & -0.732371237781\\\\0.0322778568416119 & 0.323720924642962 & 0.908040028985205 & -0.00639075022380256 & -0.263790384544513\\\\-0.173670063044047 & -0.823684190804739 & 0.197552463819807 & 0.34983844177219 & -0.360512346137756\\end{matrix}\\right]$"
      ],
      "text/plain": [
       "<IPython.core.display.Math object>"
      ]
     },
     "metadata": {},
     "output_type": "display_data"
    },
    {
     "data": {
      "text/latex": [
       "$\\displaystyle g(\\lambda_8) = \\left[\\begin{matrix}-203.476001572877\\\\-484.778181625607\\\\352.783180826322\\\\-809.047463745846\\\\613.373656410764\\end{matrix}\\right]$"
      ],
      "text/plain": [
       "<IPython.core.display.Math object>"
      ]
     },
     "metadata": {},
     "output_type": "display_data"
    },
    {
     "data": {
      "text/latex": [
       "$\\displaystyle \\delta_8 = \\left[\\begin{matrix}-0.171830628066609\\\\-0.0228339886060782\\\\4.87773546093777 \\cdot 10^{-6}\\end{matrix}\\right]$"
      ],
      "text/plain": [
       "<IPython.core.display.Math object>"
      ]
     },
     "metadata": {},
     "output_type": "display_data"
    },
    {
     "name": "stdout",
     "output_type": "stream",
     "text": [
      "\n"
     ]
    },
    {
     "data": {
      "text/latex": [
       "$\\displaystyle \\text{Optimales } p: 0$"
      ],
      "text/plain": [
       "<IPython.core.display.Math object>"
      ]
     },
     "metadata": {},
     "output_type": "display_data"
    },
    {
     "data": {
      "text/latex": [
       "$\\displaystyle \\text{{Lambda berechnen: }} \\lambda_9 = \\lambda_8 + \\frac{{\\delta_8}}{{2^0}}$"
      ],
      "text/plain": [
       "<IPython.core.display.Math object>"
      ]
     },
     "metadata": {},
     "output_type": "display_data"
    },
    {
     "data": {
      "text/latex": [
       "$\\displaystyle \\left[\\begin{matrix}28551.4039169369\\\\232.476001572877\\\\0.177382629946653\\end{matrix}\\right] + \\frac{{\\left[\\begin{matrix}-0.171830628066609\\\\-0.0228339886060782\\\\4.87773546093777 \\cdot 10^{-6}\\end{matrix}\\right]}}{{2^0}} = \\left[\\begin{matrix}28551.2320863088\\\\232.453167584271\\\\0.177387507682114\\end{matrix}\\right]$"
      ],
      "text/plain": [
       "<IPython.core.display.Math object>"
      ]
     },
     "metadata": {},
     "output_type": "display_data"
    },
    {
     "name": "stdout",
     "output_type": "stream",
     "text": [
      "\n"
     ]
    },
    {
     "data": {
      "text/latex": [
       "$\\displaystyle \\lambda_{9} = 28551.23, 232.45, 0.18$"
      ],
      "text/plain": [
       "<IPython.core.display.Math object>"
      ]
     },
     "metadata": {},
     "output_type": "display_data"
    },
    {
     "data": {
      "text/latex": [
       "$\\displaystyle \\text{Inkrement} = 0.17334115437835346$"
      ],
      "text/plain": [
       "<IPython.core.display.Math object>"
      ]
     },
     "metadata": {},
     "output_type": "display_data"
    },
    {
     "data": {
      "text/latex": [
       "$\\displaystyle \\text{Fehlerfunktional} = 1431653.297596214$"
      ],
      "text/plain": [
       "<IPython.core.display.Math object>"
      ]
     },
     "metadata": {},
     "output_type": "display_data"
    },
    {
     "name": "stdout",
     "output_type": "stream",
     "text": [
      "-----------------------------------------\n",
      "\n"
     ]
    },
    {
     "data": {
      "text/latex": [
       "$\\displaystyle \\text{Iteration: } 10$"
      ],
      "text/plain": [
       "<IPython.core.display.Math object>"
      ]
     },
     "metadata": {},
     "output_type": "display_data"
    },
    {
     "data": {
      "text/latex": [
       "$\\displaystyle \\text{{QR-Zerlegung von }} Dg(\\lambda_{9}) = Q_9 \\cdot R_9:$"
      ],
      "text/plain": [
       "<IPython.core.display.Math object>"
      ]
     },
     "metadata": {},
     "output_type": "display_data"
    },
    {
     "data": {
      "text/latex": [
       "$\\displaystyle \\text{{Q}}_9= \\left[\\begin{matrix}0 & -0.0322751353806369 & 0.173660844154433\\\\0.00544668244428858 & -0.323716800162911 & 0.823699221441349\\\\0.215368661016989 & -0.908042833015884 & -0.197564712318072\\\\0.645930878877077 & 0.0064085410943276 & -0.349813307255635\\\\0.732366010417733 & 0.263785695097322 & 0.36050012249379\\end{matrix}\\right]$"
      ],
      "text/plain": [
       "<IPython.core.display.Math object>"
      ]
     },
     "metadata": {},
     "output_type": "display_data"
    },
    {
     "data": {
      "text/latex": [
       "$\\displaystyle \\text{{R}}_9= \\left[\\begin{matrix}-1.34937449200979 & -12.1473633503345 & -97607.250766219\\\\0 & 30.9836035761429 & 187873.035805639\\\\0 & 0 & 34916.4930904401\\end{matrix}\\right]$"
      ],
      "text/plain": [
       "<IPython.core.display.Math object>"
      ]
     },
     "metadata": {},
     "output_type": "display_data"
    },
    {
     "data": {
      "text/latex": [
       "$\\displaystyle Dg(\\lambda_{9}) = \\left[\\begin{matrix}0 & -1.0 & 0\\\\-0.00734961435640052 & -10.0960758378898 & -32588.6055130194\\\\-0.290612977554628 & -30.7506005479703 & -198516.573495886\\\\-0.871602651558191 & -7.64779738815267 & -74057.799127458\\\\-0.988236013272662 & -0.723284628026287 & -9338.61345530713\\end{matrix}\\right]$"
      ],
      "text/plain": [
       "<IPython.core.display.Math object>"
      ]
     },
     "metadata": {},
     "output_type": "display_data"
    },
    {
     "name": "stdout",
     "output_type": "stream",
     "text": [
      "\n"
     ]
    },
    {
     "data": {
      "text/latex": [
       "$\\displaystyle \\text{{Auflösen nach }} \\delta_9\\text{{ mit }} R_9\\cdot \\delta_9= -Q_9^T \\cdot g(\\lambda_9):$"
      ],
      "text/plain": [
       "<IPython.core.display.Math object>"
      ]
     },
     "metadata": {},
     "output_type": "display_data"
    },
    {
     "data": {
      "text/latex": [
       "$\\displaystyle Q_9^T\\left[\\begin{matrix}0 & 0.00544668244428858 & 0.215368661016989 & 0.645930878877077 & 0.732366010417733\\\\-0.0322751353806369 & -0.323716800162911 & -0.908042833015884 & 0.0064085410943276 & 0.263785695097322\\\\0.173660844154433 & 0.823699221441349 & -0.197564712318072 & -0.349813307255635 & 0.36050012249379\\end{matrix}\\right]$"
      ],
      "text/plain": [
       "<IPython.core.display.Math object>"
      ]
     },
     "metadata": {},
     "output_type": "display_data"
    },
    {
     "data": {
      "text/latex": [
       "$\\displaystyle -Q_9^T\\left[\\begin{matrix}0 & -0.00544668244428858 & -0.215368661016989 & -0.645930878877077 & -0.732366010417733\\\\0.0322751353806369 & 0.323716800162911 & 0.908042833015884 & -0.0064085410943276 & -0.263785695097322\\\\-0.173660844154433 & -0.823699221441349 & 0.197564712318072 & 0.349813307255635 & -0.36050012249379\\end{matrix}\\right]$"
      ],
      "text/plain": [
       "<IPython.core.display.Math object>"
      ]
     },
     "metadata": {},
     "output_type": "display_data"
    },
    {
     "data": {
      "text/latex": [
       "$\\displaystyle g(\\lambda_9) = \\left[\\begin{matrix}-203.453167584271\\\\-484.705353922956\\\\352.566928050259\\\\-809.084319598864\\\\613.51442615395\\end{matrix}\\right]$"
      ],
      "text/plain": [
       "<IPython.core.display.Math object>"
      ]
     },
     "metadata": {},
     "output_type": "display_data"
    },
    {
     "data": {
      "text/latex": [
       "$\\displaystyle \\delta_9 = \\left[\\begin{matrix}-0.0278235405626726\\\\-0.00585116471679136\\\\1.07593075366077 \\cdot 10^{-6}\\end{matrix}\\right]$"
      ],
      "text/plain": [
       "<IPython.core.display.Math object>"
      ]
     },
     "metadata": {},
     "output_type": "display_data"
    },
    {
     "name": "stdout",
     "output_type": "stream",
     "text": [
      "\n"
     ]
    },
    {
     "data": {
      "text/latex": [
       "$\\displaystyle \\text{Optimales } p: 0$"
      ],
      "text/plain": [
       "<IPython.core.display.Math object>"
      ]
     },
     "metadata": {},
     "output_type": "display_data"
    },
    {
     "data": {
      "text/latex": [
       "$\\displaystyle \\text{{Lambda berechnen: }} \\lambda_10 = \\lambda_9 + \\frac{{\\delta_9}}{{2^0}}$"
      ],
      "text/plain": [
       "<IPython.core.display.Math object>"
      ]
     },
     "metadata": {},
     "output_type": "display_data"
    },
    {
     "data": {
      "text/latex": [
       "$\\displaystyle \\left[\\begin{matrix}28551.2320863088\\\\232.453167584271\\\\0.177387507682114\\end{matrix}\\right] + \\frac{{\\left[\\begin{matrix}-0.0278235405626726\\\\-0.00585116471679136\\\\1.07593075366077 \\cdot 10^{-6}\\end{matrix}\\right]}}{{2^0}} = \\left[\\begin{matrix}28551.2042627683\\\\232.447316419554\\\\0.177388583612868\\end{matrix}\\right]$"
      ],
      "text/plain": [
       "<IPython.core.display.Math object>"
      ]
     },
     "metadata": {},
     "output_type": "display_data"
    },
    {
     "name": "stdout",
     "output_type": "stream",
     "text": [
      "\n"
     ]
    },
    {
     "data": {
      "text/latex": [
       "$\\displaystyle \\lambda_{10} = 28551.20, 232.45, 0.18$"
      ],
      "text/plain": [
       "<IPython.core.display.Math object>"
      ]
     },
     "metadata": {},
     "output_type": "display_data"
    },
    {
     "data": {
      "text/latex": [
       "$\\displaystyle \\text{Inkrement} = 0.02843212160819759$"
      ],
      "text/plain": [
       "<IPython.core.display.Math object>"
      ]
     },
     "metadata": {},
     "output_type": "display_data"
    },
    {
     "data": {
      "text/latex": [
       "$\\displaystyle \\text{Fehlerfunktional} = 1431653.2954468634$"
      ],
      "text/plain": [
       "<IPython.core.display.Math object>"
      ]
     },
     "metadata": {},
     "output_type": "display_data"
    },
    {
     "name": "stdout",
     "output_type": "stream",
     "text": [
      "-----------------------------------------\n",
      "\n"
     ]
    },
    {
     "data": {
      "text/latex": [
       "$\\displaystyle \\text{Iteration: } 11$"
      ],
      "text/plain": [
       "<IPython.core.display.Math object>"
      ]
     },
     "metadata": {},
     "output_type": "display_data"
    },
    {
     "data": {
      "text/latex": [
       "$\\displaystyle \\text{{QR-Zerlegung von }} Dg(\\lambda_{10}) = Q_10 \\cdot R_10:$"
      ],
      "text/plain": [
       "<IPython.core.display.Math object>"
      ]
     },
     "metadata": {},
     "output_type": "display_data"
    },
    {
     "data": {
      "text/latex": [
       "$\\displaystyle \\text{{Q}}_10= \\left[\\begin{matrix}0 & -0.0322744054265465 & 0.173658464962315\\\\0.00544658842549452 & -0.323714802271445 & 0.823701855730925\\\\0.215369486457754 & -0.908043868148969 & -0.197565502388018\\\\0.645931613395312 & 0.00641158151771302 & -0.349809724760689\\\\0.732365120547105 & 0.263784599027734 & 0.360498292841151\\end{matrix}\\right]$"
      ],
      "text/plain": [
       "<IPython.core.display.Math object>"
      ]
     },
     "metadata": {},
     "output_type": "display_data"
    },
    {
     "data": {
      "text/latex": [
       "$\\displaystyle \\text{{R}}_10= \\left[\\begin{matrix}-1.349376704056 & -12.1475728459699 & -97606.2356442073\\\\0 & 30.9843043360135 & 187872.708559576\\\\0 & 0 & 34916.1209385964\\end{matrix}\\right]$"
      ],
      "text/plain": [
       "<IPython.core.display.Math object>"
      ]
     },
     "metadata": {},
     "output_type": "display_data"
    },
    {
     "data": {
      "text/latex": [
       "$\\displaystyle Dg(\\lambda_{10}) = \\left[\\begin{matrix}0 & -1.0 & 0\\\\-0.00734949953794337 & -10.0962407813116 & -32588.3240848327\\\\-0.290614567790598 & -30.7513240867232 & -198516.286820504\\\\-0.871605071528942 & -7.64784293421442 & -74056.3907364639\\\\-0.988236432529429 & -0.723276356264851 & -9338.27344707756\\end{matrix}\\right]$"
      ],
      "text/plain": [
       "<IPython.core.display.Math object>"
      ]
     },
     "metadata": {},
     "output_type": "display_data"
    },
    {
     "name": "stdout",
     "output_type": "stream",
     "text": [
      "\n"
     ]
    },
    {
     "data": {
      "text/latex": [
       "$\\displaystyle \\text{{Auflösen nach }} \\delta_10\\text{{ mit }} R_10\\cdot \\delta_10= -Q_10^T \\cdot g(\\lambda_10):$"
      ],
      "text/plain": [
       "<IPython.core.display.Math object>"
      ]
     },
     "metadata": {},
     "output_type": "display_data"
    },
    {
     "data": {
      "text/latex": [
       "$\\displaystyle Q_10^T\\left[\\begin{matrix}0 & 0.00544658842549452 & 0.215369486457754 & 0.645931613395312 & 0.732365120547105\\\\-0.0322744054265465 & -0.323714802271445 & -0.908043868148969 & 0.00641158151771302 & 0.263784599027734\\\\0.173658464962315 & 0.823701855730925 & -0.197565502388018 & -0.349809724760689 & 0.360498292841151\\end{matrix}\\right]$"
      ],
      "text/plain": [
       "<IPython.core.display.Math object>"
      ]
     },
     "metadata": {},
     "output_type": "display_data"
    },
    {
     "data": {
      "text/latex": [
       "$\\displaystyle -Q_10^T\\left[\\begin{matrix}0 & -0.00544658842549452 & -0.215369486457754 & -0.645931613395312 & -0.732365120547105\\\\0.0322744054265465 & 0.323714802271445 & 0.908043868148969 & -0.00641158151771302 & -0.263784599027734\\\\-0.173658464962315 & -0.823701855730925 & 0.197565502388018 & 0.349809724760689 & -0.360498292841151\\end{matrix}\\right]$"
      ],
      "text/plain": [
       "<IPython.core.display.Math object>"
      ]
     },
     "metadata": {},
     "output_type": "display_data"
    },
    {
     "data": {
      "text/latex": [
       "$\\displaystyle g(\\lambda_10) = \\left[\\begin{matrix}-203.447316419554\\\\-484.681138078478\\\\352.541352967739\\\\-809.095000143941\\\\613.536106899381\\end{matrix}\\right]$"
      ],
      "text/plain": [
       "<IPython.core.display.Math object>"
      ]
     },
     "metadata": {},
     "output_type": "display_data"
    },
    {
     "data": {
      "text/latex": [
       "$\\displaystyle \\delta_10 = \\left[\\begin{matrix}-0.00452469815021802\\\\-0.000735381584992292\\\\1.45852843686597 \\cdot 10^{-7}\\end{matrix}\\right]$"
      ],
      "text/plain": [
       "<IPython.core.display.Math object>"
      ]
     },
     "metadata": {},
     "output_type": "display_data"
    },
    {
     "name": "stdout",
     "output_type": "stream",
     "text": [
      "\n"
     ]
    },
    {
     "data": {
      "text/latex": [
       "$\\displaystyle \\text{Optimales } p: 0$"
      ],
      "text/plain": [
       "<IPython.core.display.Math object>"
      ]
     },
     "metadata": {},
     "output_type": "display_data"
    },
    {
     "data": {
      "text/latex": [
       "$\\displaystyle \\text{{Lambda berechnen: }} \\lambda_11 = \\lambda_10 + \\frac{{\\delta_10}}{{2^0}}$"
      ],
      "text/plain": [
       "<IPython.core.display.Math object>"
      ]
     },
     "metadata": {},
     "output_type": "display_data"
    },
    {
     "data": {
      "text/latex": [
       "$\\displaystyle \\left[\\begin{matrix}28551.2042627683\\\\232.447316419554\\\\0.177388583612868\\end{matrix}\\right] + \\frac{{\\left[\\begin{matrix}-0.00452469815021802\\\\-0.000735381584992292\\\\1.45852843686597 \\cdot 10^{-7}\\end{matrix}\\right]}}{{2^0}} = \\left[\\begin{matrix}28551.1997380701\\\\232.446581037969\\\\0.177388729465712\\end{matrix}\\right]$"
      ],
      "text/plain": [
       "<IPython.core.display.Math object>"
      ]
     },
     "metadata": {},
     "output_type": "display_data"
    },
    {
     "name": "stdout",
     "output_type": "stream",
     "text": [
      "\n"
     ]
    },
    {
     "data": {
      "text/latex": [
       "$\\displaystyle \\lambda_{11} = 28551.20, 232.45, 0.18$"
      ],
      "text/plain": [
       "<IPython.core.display.Math object>"
      ]
     },
     "metadata": {},
     "output_type": "display_data"
    },
    {
     "data": {
      "text/latex": [
       "$\\displaystyle \\text{Inkrement} = 0.004584068002048528$"
      ],
      "text/plain": [
       "<IPython.core.display.Math object>"
      ]
     },
     "metadata": {},
     "output_type": "display_data"
    },
    {
     "data": {
      "text/latex": [
       "$\\displaystyle \\text{Fehlerfunktional} = 1431653.2953913356$"
      ],
      "text/plain": [
       "<IPython.core.display.Math object>"
      ]
     },
     "metadata": {},
     "output_type": "display_data"
    },
    {
     "name": "stdout",
     "output_type": "stream",
     "text": [
      "-----------------------------------------\n",
      "\n"
     ]
    },
    {
     "data": {
      "text/latex": [
       "$\\displaystyle \\text{Iteration: } 12$"
      ],
      "text/plain": [
       "<IPython.core.display.Math object>"
      ]
     },
     "metadata": {},
     "output_type": "display_data"
    },
    {
     "data": {
      "text/latex": [
       "$\\displaystyle \\text{{QR-Zerlegung von }} Dg(\\lambda_{11}) = Q_11 \\cdot R_11:$"
      ],
      "text/plain": [
       "<IPython.core.display.Math object>"
      ]
     },
     "metadata": {},
     "output_type": "display_data"
    },
    {
     "data": {
      "text/latex": [
       "$\\displaystyle \\text{{Q}}_11= \\left[\\begin{matrix}0 & -0.032274315718866 & 0.173658167083097\\\\0.00544657827283567 & -0.323714608995614 & 0.823702261376761\\\\0.215369646953933 & -0.908043978768448 & -0.197565745729169\\\\0.645931718004189 & 0.00641205666332211 & -0.349809099299551\\\\0.732364981161862 & 0.263784454847908 & 0.360497983031616\\end{matrix}\\right]$"
      ],
      "text/plain": [
       "<IPython.core.display.Math object>"
      ]
     },
     "metadata": {},
     "output_type": "display_data"
    },
    {
     "data": {
      "text/latex": [
       "$\\displaystyle \\text{{R}}_11= \\left[\\begin{matrix}-1.34937704287023 & -12.1475980066534 & -97606.0910797592\\\\0 & 30.9843904580584 & 187872.650263765\\\\0 & 0 & 34916.0729460623\\end{matrix}\\right]$"
      ],
      "text/plain": [
       "<IPython.core.display.Math object>"
      ]
     },
     "metadata": {},
     "output_type": "display_data"
    },
    {
     "data": {
      "text/latex": [
       "$\\displaystyle Dg(\\lambda_{11}) = \\left[\\begin{matrix}0 & -1.0 & 0\\\\-0.00734948768356024 & -10.096262685468 & -32588.2924920084\\\\-0.290614857330703 & -30.7514130852817 & -198516.238213206\\\\-0.87160543153658 & -7.64784518276632 & -74056.1800481819\\\\-0.988236492581905 & -0.723274839530923 & -9338.2245518116\\end{matrix}\\right]$"
      ],
      "text/plain": [
       "<IPython.core.display.Math object>"
      ]
     },
     "metadata": {},
     "output_type": "display_data"
    },
    {
     "name": "stdout",
     "output_type": "stream",
     "text": [
      "\n"
     ]
    },
    {
     "data": {
      "text/latex": [
       "$\\displaystyle \\text{{Auflösen nach }} \\delta_11\\text{{ mit }} R_11\\cdot \\delta_11= -Q_11^T \\cdot g(\\lambda_11):$"
      ],
      "text/plain": [
       "<IPython.core.display.Math object>"
      ]
     },
     "metadata": {},
     "output_type": "display_data"
    },
    {
     "data": {
      "text/latex": [
       "$\\displaystyle Q_11^T\\left[\\begin{matrix}0 & 0.00544657827283567 & 0.215369646953933 & 0.645931718004189 & 0.732364981161862\\\\-0.032274315718866 & -0.323714608995614 & -0.908043978768448 & 0.00641205666332211 & 0.263784454847908\\\\0.173658167083097 & 0.823702261376761 & -0.197565745729169 & -0.349809099299551 & 0.360497983031616\\end{matrix}\\right]$"
      ],
      "text/plain": [
       "<IPython.core.display.Math object>"
      ]
     },
     "metadata": {},
     "output_type": "display_data"
    },
    {
     "data": {
      "text/latex": [
       "$\\displaystyle -Q_11^T\\left[\\begin{matrix}0 & -0.00544657827283567 & -0.215369646953933 & -0.645931718004189 & -0.732364981161862\\\\0.032274315718866 & 0.323714608995614 & 0.908043978768448 & -0.00641205666332211 & -0.263784454847908\\\\-0.173658167083097 & -0.823702261376761 & 0.197565745729169 & 0.349809099299551 & -0.360497983031616\\end{matrix}\\right]$"
      ],
      "text/plain": [
       "<IPython.core.display.Math object>"
      ]
     },
     "metadata": {},
     "output_type": "display_data"
    },
    {
     "data": {
      "text/latex": [
       "$\\displaystyle g(\\lambda_11) = \\left[\\begin{matrix}-203.446581037969\\\\-484.678433324071\\\\352.536327740359\\\\-809.096233629407\\\\613.539748244457\\end{matrix}\\right]$"
      ],
      "text/plain": [
       "<IPython.core.display.Math object>"
      ]
     },
     "metadata": {},
     "output_type": "display_data"
    },
    {
     "data": {
      "text/latex": [
       "$\\displaystyle \\delta_11 = \\left[\\begin{matrix}-0.000728373314548909\\\\-0.000139272138903343\\\\2.62897317530982 \\cdot 10^{-8}\\end{matrix}\\right]$"
      ],
      "text/plain": [
       "<IPython.core.display.Math object>"
      ]
     },
     "metadata": {},
     "output_type": "display_data"
    },
    {
     "name": "stdout",
     "output_type": "stream",
     "text": [
      "\n"
     ]
    },
    {
     "data": {
      "text/latex": [
       "$\\displaystyle \\text{Optimales } p: 0$"
      ],
      "text/plain": [
       "<IPython.core.display.Math object>"
      ]
     },
     "metadata": {},
     "output_type": "display_data"
    },
    {
     "data": {
      "text/latex": [
       "$\\displaystyle \\text{{Lambda berechnen: }} \\lambda_12 = \\lambda_11 + \\frac{{\\delta_11}}{{2^0}}$"
      ],
      "text/plain": [
       "<IPython.core.display.Math object>"
      ]
     },
     "metadata": {},
     "output_type": "display_data"
    },
    {
     "data": {
      "text/latex": [
       "$\\displaystyle \\left[\\begin{matrix}28551.1997380701\\\\232.446581037969\\\\0.177388729465712\\end{matrix}\\right] + \\frac{{\\left[\\begin{matrix}-0.000728373314548909\\\\-0.000139272138903343\\\\2.62897317530982 \\cdot 10^{-8}\\end{matrix}\\right]}}{{2^0}} = \\left[\\begin{matrix}28551.1990096968\\\\232.44644176583\\\\0.177388755755443\\end{matrix}\\right]$"
      ],
      "text/plain": [
       "<IPython.core.display.Math object>"
      ]
     },
     "metadata": {},
     "output_type": "display_data"
    },
    {
     "name": "stdout",
     "output_type": "stream",
     "text": [
      "\n"
     ]
    },
    {
     "data": {
      "text/latex": [
       "$\\displaystyle \\lambda_{12} = 28551.20, 232.45, 0.18$"
      ],
      "text/plain": [
       "<IPython.core.display.Math object>"
      ]
     },
     "metadata": {},
     "output_type": "display_data"
    },
    {
     "data": {
      "text/latex": [
       "$\\displaystyle \\text{Inkrement} = 0.0007415688873684128$"
      ],
      "text/plain": [
       "<IPython.core.display.Math object>"
      ]
     },
     "metadata": {},
     "output_type": "display_data"
    },
    {
     "data": {
      "text/latex": [
       "$\\displaystyle \\text{Fehlerfunktional} = 1431653.295389897$"
      ],
      "text/plain": [
       "<IPython.core.display.Math object>"
      ]
     },
     "metadata": {},
     "output_type": "display_data"
    },
    {
     "name": "stdout",
     "output_type": "stream",
     "text": [
      "-----------------------------------------\n",
      "\n"
     ]
    },
    {
     "data": {
      "text/latex": [
       "$\\displaystyle \\text{Iteration: } 13$"
      ],
      "text/plain": [
       "<IPython.core.display.Math object>"
      ]
     },
     "metadata": {},
     "output_type": "display_data"
    },
    {
     "data": {
      "text/latex": [
       "$\\displaystyle \\text{{QR-Zerlegung von }} Dg(\\lambda_{12}) = Q_12 \\cdot R_12:$"
      ],
      "text/plain": [
       "<IPython.core.display.Math object>"
      ]
     },
     "metadata": {},
     "output_type": "display_data"
    },
    {
     "data": {
      "text/latex": [
       "$\\displaystyle \\text{{Q}}_12= \\left[\\begin{matrix}0 & -0.032274298474633 & 0.173658110526225\\\\0.00544657614145933 & -0.323714565141518 & 0.823702328850225\\\\0.215369670233164 & -0.908044002160267 & -0.197565773751946\\\\0.645931736273905 & 0.00641213498459435 & -0.349809002815995\\\\0.732364958218355 & 0.263784428348061 & 0.360497934371129\\end{matrix}\\right]$"
      ],
      "text/plain": [
       "<IPython.core.display.Math object>"
      ]
     },
     "metadata": {},
     "output_type": "display_data"
    },
    {
     "data": {
      "text/latex": [
       "$\\displaystyle \\text{{R}}_12= \\left[\\begin{matrix}-1.3493770994124 & -12.1476029183689 & -97606.065829872\\\\0 & 30.9844070130907 & 187872.641373773\\\\0 & 0 & 34916.0640095711\\end{matrix}\\right]$"
      ],
      "text/plain": [
       "<IPython.core.display.Math object>"
      ]
     },
     "metadata": {},
     "output_type": "display_data"
    },
    {
     "data": {
      "text/latex": [
       "$\\displaystyle Dg(\\lambda_{12}) = \\left[\\begin{matrix}0 & -1.0 & 0\\\\-0.00734948511549119 & -10.0962666866415 & -32588.2860347427\\\\-0.290614900920633 & -30.751430183382 & -198516.230582421\\\\-0.871605492711699 & -7.64784604444245 & -74056.1443694009\\\\-0.988236503031969 & -0.723274612112656 & -9338.2160645106\\end{matrix}\\right]$"
      ],
      "text/plain": [
       "<IPython.core.display.Math object>"
      ]
     },
     "metadata": {},
     "output_type": "display_data"
    },
    {
     "name": "stdout",
     "output_type": "stream",
     "text": [
      "\n"
     ]
    },
    {
     "data": {
      "text/latex": [
       "$\\displaystyle \\text{{Auflösen nach }} \\delta_12\\text{{ mit }} R_12\\cdot \\delta_12= -Q_12^T \\cdot g(\\lambda_12):$"
      ],
      "text/plain": [
       "<IPython.core.display.Math object>"
      ]
     },
     "metadata": {},
     "output_type": "display_data"
    },
    {
     "data": {
      "text/latex": [
       "$\\displaystyle Q_12^T\\left[\\begin{matrix}0 & 0.00544657614145933 & 0.215369670233164 & 0.645931736273905 & 0.732364958218355\\\\-0.032274298474633 & -0.323714565141518 & -0.908044002160267 & 0.00641213498459435 & 0.263784428348061\\\\0.173658110526225 & 0.823702328850225 & -0.197565773751946 & -0.349809002815995 & 0.360497934371129\\end{matrix}\\right]$"
      ],
      "text/plain": [
       "<IPython.core.display.Math object>"
      ]
     },
     "metadata": {},
     "output_type": "display_data"
    },
    {
     "data": {
      "text/latex": [
       "$\\displaystyle -Q_12^T\\left[\\begin{matrix}0 & -0.00544657614145933 & -0.215369670233164 & -0.645931736273905 & -0.732364958218355\\\\0.032274298474633 & 0.323714565141518 & 0.908044002160267 & -0.00641213498459435 & -0.263784428348061\\\\-0.173658110526225 & -0.823702328850225 & 0.197565773751946 & 0.349809002815995 & -0.360497934371129\\end{matrix}\\right]$"
      ],
      "text/plain": [
       "<IPython.core.display.Math object>"
      ]
     },
     "metadata": {},
     "output_type": "display_data"
    },
    {
     "data": {
      "text/latex": [
       "$\\displaystyle g(\\lambda_12) = \\left[\\begin{matrix}-203.44644176583\\\\-484.677878579906\\\\352.535603294196\\\\-809.096480560071\\\\613.540323282265\\end{matrix}\\right]$"
      ],
      "text/plain": [
       "<IPython.core.display.Math object>"
      ]
     },
     "metadata": {},
     "output_type": "display_data"
    },
    {
     "data": {
      "text/latex": [
       "$\\displaystyle \\delta_12 = \\left[\\begin{matrix}-0.00011792008160838\\\\-2.05023274486857 \\cdot 10^{-5}\\\\3.9808444372429 \\cdot 10^{-9}\\end{matrix}\\right]$"
      ],
      "text/plain": [
       "<IPython.core.display.Math object>"
      ]
     },
     "metadata": {},
     "output_type": "display_data"
    },
    {
     "name": "stdout",
     "output_type": "stream",
     "text": [
      "\n"
     ]
    },
    {
     "data": {
      "text/latex": [
       "$\\displaystyle \\text{Optimales } p: 0$"
      ],
      "text/plain": [
       "<IPython.core.display.Math object>"
      ]
     },
     "metadata": {},
     "output_type": "display_data"
    },
    {
     "data": {
      "text/latex": [
       "$\\displaystyle \\text{{Lambda berechnen: }} \\lambda_13 = \\lambda_12 + \\frac{{\\delta_12}}{{2^0}}$"
      ],
      "text/plain": [
       "<IPython.core.display.Math object>"
      ]
     },
     "metadata": {},
     "output_type": "display_data"
    },
    {
     "data": {
      "text/latex": [
       "$\\displaystyle \\left[\\begin{matrix}28551.1990096968\\\\232.44644176583\\\\0.177388755755443\\end{matrix}\\right] + \\frac{{\\left[\\begin{matrix}-0.00011792008160838\\\\-2.05023274486857 \\cdot 10^{-5}\\\\3.9808444372429 \\cdot 10^{-9}\\end{matrix}\\right]}}{{2^0}} = \\left[\\begin{matrix}28551.1988917767\\\\232.446421263502\\\\0.177388759736288\\end{matrix}\\right]$"
      ],
      "text/plain": [
       "<IPython.core.display.Math object>"
      ]
     },
     "metadata": {},
     "output_type": "display_data"
    },
    {
     "name": "stdout",
     "output_type": "stream",
     "text": [
      "\n"
     ]
    },
    {
     "data": {
      "text/latex": [
       "$\\displaystyle \\lambda_{13} = 28551.20, 232.45, 0.18$"
      ],
      "text/plain": [
       "<IPython.core.display.Math object>"
      ]
     },
     "metadata": {},
     "output_type": "display_data"
    },
    {
     "data": {
      "text/latex": [
       "$\\displaystyle \\text{Inkrement} = 0.00011968914358949691$"
      ],
      "text/plain": [
       "<IPython.core.display.Math object>"
      ]
     },
     "metadata": {},
     "output_type": "display_data"
    },
    {
     "data": {
      "text/latex": [
       "$\\displaystyle \\text{Fehlerfunktional} = 1431653.295389851$"
      ],
      "text/plain": [
       "<IPython.core.display.Math object>"
      ]
     },
     "metadata": {},
     "output_type": "display_data"
    },
    {
     "name": "stdout",
     "output_type": "stream",
     "text": [
      "-----------------------------------------\n",
      "\n"
     ]
    },
    {
     "data": {
      "text/latex": [
       "$\\displaystyle \\text{Iteration: } 14$"
      ],
      "text/plain": [
       "<IPython.core.display.Math object>"
      ]
     },
     "metadata": {},
     "output_type": "display_data"
    },
    {
     "data": {
      "text/latex": [
       "$\\displaystyle \\text{{QR-Zerlegung von }} Dg(\\lambda_{13}) = Q_13 \\cdot R_13:$"
      ],
      "text/plain": [
       "<IPython.core.display.Math object>"
      ]
     },
     "metadata": {},
     "output_type": "display_data"
    },
    {
     "data": {
      "text/latex": [
       "$\\displaystyle \\text{{Q}}_13= \\left[\\begin{matrix}0 & -0.0322742959572775 & 0.173658102212324\\\\0.005446575845029 & -0.323714559288077 & 0.823702339559804\\\\0.215369674251329 & -0.908044005400903 & -0.19756577937777\\\\0.645931739091476 & 0.00641214748335983 & -0.349808986787403\\\\0.732364954553877 & 0.263784424380069 & 0.360497926375929\\end{matrix}\\right]$"
      ],
      "text/plain": [
       "<IPython.core.display.Math object>"
      ]
     },
     "metadata": {},
     "output_type": "display_data"
    },
    {
     "data": {
      "text/latex": [
       "$\\displaystyle \\text{{R}}_13= \\left[\\begin{matrix}-1.34937710836941 & -12.1476036292438 & -97606.0619359343\\\\0 & 30.9844094298365 & 187872.639886311\\\\0 & 0 & 34916.062681327\\end{matrix}\\right]$"
      ],
      "text/plain": [
       "<IPython.core.display.Math object>"
      ]
     },
     "metadata": {},
     "output_type": "display_data"
    },
    {
     "data": {
      "text/latex": [
       "$\\displaystyle Dg(\\lambda_{13}) = \\left[\\begin{matrix}0 & -1.0 & 0\\\\-0.00734948476427993 & -10.0962672878829 & -32588.2851235274\\\\-0.290614908271721 & -30.7514326802147 & -198516.229328144\\\\-0.871605502299283 & -7.64784613508246 & -74056.1387662697\\\\-0.988236504647008 & -0.723274573663854 & -9338.21475088856\\end{matrix}\\right]$"
      ],
      "text/plain": [
       "<IPython.core.display.Math object>"
      ]
     },
     "metadata": {},
     "output_type": "display_data"
    },
    {
     "name": "stdout",
     "output_type": "stream",
     "text": [
      "\n"
     ]
    },
    {
     "data": {
      "text/latex": [
       "$\\displaystyle \\text{{Auflösen nach }} \\delta_13\\text{{ mit }} R_13\\cdot \\delta_13= -Q_13^T \\cdot g(\\lambda_13):$"
      ],
      "text/plain": [
       "<IPython.core.display.Math object>"
      ]
     },
     "metadata": {},
     "output_type": "display_data"
    },
    {
     "data": {
      "text/latex": [
       "$\\displaystyle Q_13^T\\left[\\begin{matrix}0 & 0.005446575845029 & 0.215369674251329 & 0.645931739091476 & 0.732364954553877\\\\-0.0322742959572775 & -0.323714559288077 & -0.908044005400903 & 0.00641214748335983 & 0.263784424380069\\\\0.173658102212324 & 0.823702339559804 & -0.19756577937777 & -0.349808986787403 & 0.360497926375929\\end{matrix}\\right]$"
      ],
      "text/plain": [
       "<IPython.core.display.Math object>"
      ]
     },
     "metadata": {},
     "output_type": "display_data"
    },
    {
     "data": {
      "text/latex": [
       "$\\displaystyle -Q_13^T\\left[\\begin{matrix}0 & -0.005446575845029 & -0.215369674251329 & -0.645931739091476 & -0.732364954553877\\\\0.0322742959572775 & 0.323714559288077 & 0.908044005400903 & -0.00641214748335983 & -0.263784424380069\\\\-0.173658102212324 & -0.823702339559804 & 0.19756577937777 & 0.349808986787403 & -0.360497926375929\\end{matrix}\\right]$"
      ],
      "text/plain": [
       "<IPython.core.display.Math object>"
      ]
     },
     "metadata": {},
     "output_type": "display_data"
    },
    {
     "data": {
      "text/latex": [
       "$\\displaystyle g(\\lambda_13) = \\left[\\begin{matrix}-203.446421263502\\\\-484.677800445178\\\\352.535477777214\\\\-809.096515787613\\\\613.54041747002\\end{matrix}\\right]$"
      ],
      "text/plain": [
       "<IPython.core.display.Math object>"
      ]
     },
     "metadata": {},
     "output_type": "display_data"
    },
    {
     "data": {
      "text/latex": [
       "$\\displaystyle \\delta_13 = \\left[\\begin{matrix}-1.90226242824438 \\cdot 10^{-5}\\\\-3.50614940011383 \\cdot 10^{-6}\\\\6.68936385403032 \\cdot 10^{-10}\\end{matrix}\\right]$"
      ],
      "text/plain": [
       "<IPython.core.display.Math object>"
      ]
     },
     "metadata": {},
     "output_type": "display_data"
    },
    {
     "name": "stdout",
     "output_type": "stream",
     "text": [
      "\n"
     ]
    },
    {
     "data": {
      "text/latex": [
       "$\\displaystyle \\text{Aktuelles } p: 0$"
      ],
      "text/plain": [
       "<IPython.core.display.Math object>"
      ]
     },
     "metadata": {},
     "output_type": "display_data"
    },
    {
     "data": {
      "text/latex": [
       "$\\displaystyle \\text{Aktuelles } p: 1$"
      ],
      "text/plain": [
       "<IPython.core.display.Math object>"
      ]
     },
     "metadata": {},
     "output_type": "display_data"
    },
    {
     "data": {
      "text/latex": [
       "$\\displaystyle \\text{Aktuelles } p: 2$"
      ],
      "text/plain": [
       "<IPython.core.display.Math object>"
      ]
     },
     "metadata": {},
     "output_type": "display_data"
    },
    {
     "data": {
      "text/latex": [
       "$\\displaystyle \\text{Optimales } p: 3$"
      ],
      "text/plain": [
       "<IPython.core.display.Math object>"
      ]
     },
     "metadata": {},
     "output_type": "display_data"
    },
    {
     "data": {
      "text/latex": [
       "$\\displaystyle \\text{{Lambda berechnen: }} \\lambda_14 = \\lambda_13 + \\frac{{\\delta_13}}{{2^3}}$"
      ],
      "text/plain": [
       "<IPython.core.display.Math object>"
      ]
     },
     "metadata": {},
     "output_type": "display_data"
    },
    {
     "data": {
      "text/latex": [
       "$\\displaystyle \\left[\\begin{matrix}28551.1988917767\\\\232.446421263502\\\\0.177388759736288\\end{matrix}\\right] + \\frac{{\\left[\\begin{matrix}-1.90226242824438 \\cdot 10^{-5}\\\\-3.50614940011383 \\cdot 10^{-6}\\\\6.68936385403032 \\cdot 10^{-10}\\end{matrix}\\right]}}{{2^3}} = \\left[\\begin{matrix}28551.1988893989\\\\232.446420825234\\\\0.177388759819905\\end{matrix}\\right]$"
      ],
      "text/plain": [
       "<IPython.core.display.Math object>"
      ]
     },
     "metadata": {},
     "output_type": "display_data"
    },
    {
     "name": "stdout",
     "output_type": "stream",
     "text": [
      "\n"
     ]
    },
    {
     "data": {
      "text/latex": [
       "$\\displaystyle \\lambda_{14} = 28551.20, 232.45, 0.18$"
      ],
      "text/plain": [
       "<IPython.core.display.Math object>"
      ]
     },
     "metadata": {},
     "output_type": "display_data"
    },
    {
     "data": {
      "text/latex": [
       "$\\displaystyle \\text{Inkrement} = 2.4178803948862357e-06$"
      ],
      "text/plain": [
       "<IPython.core.display.Math object>"
      ]
     },
     "metadata": {},
     "output_type": "display_data"
    },
    {
     "data": {
      "text/latex": [
       "$\\displaystyle \\text{Fehlerfunktional} = 1431653.295389847$"
      ],
      "text/plain": [
       "<IPython.core.display.Math object>"
      ]
     },
     "metadata": {},
     "output_type": "display_data"
    },
    {
     "name": "stdout",
     "output_type": "stream",
     "text": [
      "-----------------------------------------\n",
      "\n"
     ]
    },
    {
     "data": {
      "image/png": "[encoded data removed]",
      "text/plain": [
       "<Figure size 640x480 with 1 Axes>"
      ]
     },
     "metadata": {},
     "output_type": "display_data"
    }
   ],
   "source": [
    "import matplotlib.pyplot as plt\n",
    "import numpy as np\n",
    "import sympy as sp\n",
    "from IPython.display import display, Math\n",
    "\n",
    "\"\"\"INPUT\"\"\"\n",
    "x = np.array([0, 14, 28, 42, 56], dtype=np.float64)\n",
    "y = np.array([29, 2072, 15798, 25854, 28997], dtype=np.float64)\n",
    "\n",
    "# Symbole für Ansatzfunktion\n",
    "p = sp.symbols(\"p0 p1 p2\")\n",
    "\n",
    "# Ansatzfunktion - WICHTIG: Spezial Funktionen von sympy zb sp.exp etc\n",
    "def f(x, p):\n",
    "    return p[0] / (((p[0] - p[1]) /p[1]) * sp.exp(-p[2] * x) + 1)\n",
    "\n",
    "# Startvektor für Iteration\n",
    "lam0 = np.array([30000, 200, 0.5], dtype=np.float64) \n",
    "\n",
    "# Fehlertoleranz für Abbruch\n",
    "tol = 10**-5\n",
    "max_iter = 30\n",
    "pmax = 10  # Maximale Dämpfung\n",
    "\n",
    "# Parameter für Plot\n",
    "a, b = 0, 70\n",
    "steps = 0.001\n",
    "\"\"\"INPUT\"\"\"\n",
    "\n",
    "sp.init_printing()\n",
    "\n",
    "def gauss_newton_d(g, Dg, lam0, tol, max_iter, pmax):\n",
    "    k = 0\n",
    "    lam = np.copy(lam0)\n",
    "    increment = tol + 1\n",
    "    err_func = np.linalg.norm(g(lam)) ** 2\n",
    "\n",
    "    while k < max_iter and increment > tol:\n",
    "        display(Math(f\"\\\\text{{Iteration: }} {k+1}\"))\n",
    "        Df = Dg(lam)\n",
    "        Q, R = np.linalg.qr(Df)\n",
    "        display(Math('\\\\text{{QR-Zerlegung von }} Dg(\\\\lambda_{' + str(k) + '}) = Q_' + str(k) + ' \\\\cdot R_' + str(k) + ':'))\n",
    "        display(Math('\\\\text{{Q}}_' + str(k) + '= ' + sp.latex(sp.Matrix(Q))))\n",
    "        display(Math('\\\\text{{R}}_' + str(k) + '= ' + sp.latex(sp.Matrix(R))))\n",
    "        display(Math('Dg(\\\\lambda_{' + str(k) + '}) = ' + sp.latex(sp.Matrix(Df))))\n",
    "        print()\n",
    "        \n",
    "        QT = Q.T\n",
    "        g_lambda_val = g(lam)\n",
    "        display(Math('\\\\text{{Auflösen nach }} \\\\delta_' + str(k) + '\\\\text{{ mit }} R_' + str(k) + '\\\\cdot \\\\delta_' + str(k) + '= -Q_' + str(k) + '^T \\\\cdot g(\\\\lambda_' + str(k) + '):'))\n",
    "        display(Math('Q_' + str(k) + '^T' + sp.latex(sp.Matrix(QT))))\n",
    "        display(Math('-Q_' + str(k) + '^T' + sp.latex(sp.Matrix(-1 * QT))))\n",
    "        display(Math('g(\\\\lambda_' + str(k) + ') = ' + sp.latex(sp.Matrix(g_lambda_val))))\n",
    "        \n",
    "        delta = np.linalg.solve(R, -QT @ g(lam)).flatten()\n",
    "        display(Math('\\\\delta_' + str(k) + ' = ' + sp.latex(sp.Matrix(delta))))\n",
    "        print()\n",
    "        \n",
    "       # Bestimmung der optimalen Dämpfung p\n",
    "        p = 0\n",
    "        while p < pmax and np.linalg.norm(g(lam + delta / (2**p))) ** 2 >= err_func:\n",
    "            display(Math(f\"\\\\text{{Aktuelles }} p: {p}\"))\n",
    "            p += 1\n",
    "        if p >= pmax and np.linalg.norm(g(lam + delta / (2**p))) ** 2 >= err_func:\n",
    "            display(Math(\"\\\\text{Kein minimales } p \\\\text{ gefunden, daher } p = 0\"))\n",
    "            p = 0\n",
    "\n",
    "        display(Math(f\"\\\\text{{Optimales }} p: {p}\"))\n",
    "\n",
    "        # Update des Vektors Lambda\n",
    "        lam_new = lam + delta / 2**p\n",
    "        display(Math('\\\\text{{Lambda berechnen: }} \\\\lambda_' + str(k+1) + ' = \\\\lambda_' + str(k) + ' + \\\\frac{{\\\\delta_' + str(k) + '}}{{2^' + str(p) + '}}'))\n",
    "        display(Math(sp.latex(sp.Matrix(lam)) + ' + \\\\frac{{' + sp.latex(sp.Matrix(delta)) + '}}{{2^' + str(p) + '}} = ' + sp.latex(sp.Matrix(lam_new))))\n",
    "        print()\n",
    "\n",
    "        err_func = np.linalg.norm(g(lam_new), 2) ** 2\n",
    "        increment = np.linalg.norm(delta / 2**p, 2)\n",
    "\n",
    "        # Ausgabe der Zwischenergebnisse mit IPython.display\n",
    "        display(Math(f\"\\\\lambda_{{{k+1}}} = \" + ', '.join(f\"{val:.2f}\" for val in lam_new)))\n",
    "        display(Math(f\"\\\\text{{Inkrement}} = {increment}\"))\n",
    "        display(Math(f\"\\\\text{{Fehlerfunktional}} = {err_func}\"))\n",
    "        print(\"-----------------------------------------\")\n",
    "        print()\n",
    "        \n",
    "        \n",
    "        # Aktualisierung von lam für die nächste Iteration\n",
    "        lam = lam_new\n",
    "        k += 1\n",
    "    \n",
    "    return lam, k\n",
    "\n",
    "def showPlot(lam, x, y, f):\n",
    "    t = sp.symbols(\"t\")\n",
    "    F = f(t, lam)\n",
    "    F = sp.lambdify([t], F, \"numpy\")\n",
    "    t = np.arange(a, b, steps)\n",
    "    plt.scatter(x, y, color=\"orange\", label=\"Daten\")\n",
    "    plt.plot(t, F(t), label=\"f(x)\")\n",
    "    plt.xlabel(\"x\")\n",
    "    plt.ylabel(\"y\")\n",
    "    plt.grid()\n",
    "    plt.legend()\n",
    "    plt.show()\n",
    "\n",
    "g = sp.Matrix([y[k] - f(x[k], p) for k in range(len(x))])\n",
    "Dg = g.jacobian(p)\n",
    "g = sp.lambdify([p], g, \"numpy\")\n",
    "Dg = sp.lambdify([p], Dg, \"numpy\")\n",
    "\n",
    "# Starte den Gauss-Newton-Algorithmus und zeige Zwischenergebnisse an\n",
    "lam_damp, n = gauss_newton_d(g, Dg, lam0, tol, max_iter, 5)\n",
    "\n",
    "# Zeige den finalen Plot der Funktion\n",
    "showPlot(lam_damp, x, y, f)\n"
   ]
  }
 ],
 "metadata": {
  "kernelspec": {
   "display_name": "base",
   "language": "python",
   "name": "python3"
  },
  "language_info": {
   "codemirror_mode": {
    "name": "ipython",
    "version": 3
   },
   "file_extension": ".py",
   "mimetype": "text/x-python",
   "name": "python",
   "nbconvert_exporter": "python",
   "pygments_lexer": "ipython3",
   "version": "3.12.2"
  }
 },
 "nbformat": 4,
 "nbformat_minor": 2
}
