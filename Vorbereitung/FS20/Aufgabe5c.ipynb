{
 "cells": [
  {
   "cell_type": "code",
   "execution_count": 1,
   "metadata": {},
   "outputs": [
    {
     "data": {
      "text/latex": [
       "$\\displaystyle \\text{Bilde die Jacobi-Matrix } Df(x) \\text{ für } f(x) = \\left[\\begin{matrix}- 3.0 \\cdot 10^{-8} x_{1}^{4} + 2.756 \\cdot 10^{-5} x_{1}^{3} - 0.01060611 x_{1}^{2} + 1.94285784 x_{1} - 63.24584535\\end{matrix}\\right] \\text{ mit } x = \\left[\\begin{matrix}x_{1}\\end{matrix}\\right]$"
      ],
      "text/plain": [
       "<IPython.core.display.Math object>"
      ]
     },
     "metadata": {},
     "output_type": "display_data"
    },
    {
     "data": {
      "text/latex": [
       "$\\displaystyle \\text{Ganze Jacobi-Matrix: } Df = \\left[\\begin{matrix}- 1.2 \\cdot 10^{-7} x_{1}^{3} + 8.268 \\cdot 10^{-5} x_{1}^{2} - 0.02121222 x_{1} + 1.94285784\\end{matrix}\\right]$"
      ],
      "text/plain": [
       "<IPython.core.display.Math object>"
      ]
     },
     "metadata": {},
     "output_type": "display_data"
    },
    {
     "data": {
      "text/latex": [
       "$\\displaystyle x({0}) = \\left[\\begin{matrix}400\\end{matrix}\\right]$"
      ],
      "text/plain": [
       "<IPython.core.display.Math object>"
      ]
     },
     "metadata": {},
     "output_type": "display_data"
    },
    {
     "name": "stdout",
     "output_type": "stream",
     "text": [
      "\n",
      "ITERATION 1\n",
      "-------------------------------------\n"
     ]
    },
    {
     "data": {
      "text/latex": [
       "$\\displaystyle \\delta_{0} \\text{ ist die Lösung des LGS } Df(x_{0}) * \\delta_{0} = -1 * f(x_{0})$"
      ],
      "text/plain": [
       "<IPython.core.display.Math object>"
      ]
     },
     "metadata": {},
     "output_type": "display_data"
    },
    {
     "data": {
      "text/latex": [
       "$\\displaystyle \\left[\\begin{matrix}-0.99323016\\end{matrix}\\right]\\cdot\\delta_{0}=-1\\cdot\\left[\\begin{matrix}12.7596906500001\\end{matrix}\\right]$"
      ],
      "text/plain": [
       "<IPython.core.display.Math object>"
      ]
     },
     "metadata": {},
     "output_type": "display_data"
    },
    {
     "data": {
      "text/latex": [
       "$\\displaystyle \\delta_{0} = \\left[\\begin{matrix}12.8466604860248\\end{matrix}\\right]$"
      ],
      "text/plain": [
       "<IPython.core.display.Math object>"
      ]
     },
     "metadata": {},
     "output_type": "display_data"
    },
    {
     "name": "stdout",
     "output_type": "stream",
     "text": [
      "\n"
     ]
    },
    {
     "data": {
      "text/latex": [
       "$\\displaystyle x_{1} = x_{0} + \\delta_{0}$"
      ],
      "text/plain": [
       "<IPython.core.display.Math object>"
      ]
     },
     "metadata": {},
     "output_type": "display_data"
    },
    {
     "data": {
      "text/latex": [
       "$\\displaystyle x_{1} = \\left[\\begin{matrix}412.846660486025\\end{matrix}\\right]$"
      ],
      "text/plain": [
       "<IPython.core.display.Math object>"
      ]
     },
     "metadata": {},
     "output_type": "display_data"
    },
    {
     "data": {
      "text/latex": [
       "$\\displaystyle \\|f(x_{1})\\|_2 = 1.0895139144093164$"
      ],
      "text/plain": [
       "<IPython.core.display.Math object>"
      ]
     },
     "metadata": {},
     "output_type": "display_data"
    },
    {
     "data": {
      "text/latex": [
       "$\\displaystyle \\|x_{1} - x_{0}\\|_2 = 12.846660486024803$"
      ],
      "text/plain": [
       "<IPython.core.display.Math object>"
      ]
     },
     "metadata": {},
     "output_type": "display_data"
    },
    {
     "name": "stdout",
     "output_type": "stream",
     "text": [
      "\n",
      "ITERATION 2\n",
      "-------------------------------------\n"
     ]
    },
    {
     "data": {
      "text/latex": [
       "$\\displaystyle \\delta_{1} \\text{ ist die Lösung des LGS } Df(x_{1}) * \\delta_{1} = -1 * f(x_{1})$"
      ],
      "text/plain": [
       "<IPython.core.display.Math object>"
      ]
     },
     "metadata": {},
     "output_type": "display_data"
    },
    {
     "data": {
      "text/latex": [
       "$\\displaystyle \\left[\\begin{matrix}-1.16634895129809\\end{matrix}\\right]\\cdot\\delta_{1}=-1\\cdot\\left[\\begin{matrix}-1.08951391440932\\end{matrix}\\right]$"
      ],
      "text/plain": [
       "<IPython.core.display.Math object>"
      ]
     },
     "metadata": {},
     "output_type": "display_data"
    },
    {
     "data": {
      "text/latex": [
       "$\\displaystyle \\delta_{1} = \\left[\\begin{matrix}-0.934123456960919\\end{matrix}\\right]$"
      ],
      "text/plain": [
       "<IPython.core.display.Math object>"
      ]
     },
     "metadata": {},
     "output_type": "display_data"
    },
    {
     "name": "stdout",
     "output_type": "stream",
     "text": [
      "\n"
     ]
    },
    {
     "data": {
      "text/latex": [
       "$\\displaystyle x_{2} = x_{1} + \\delta_{1}$"
      ],
      "text/plain": [
       "<IPython.core.display.Math object>"
      ]
     },
     "metadata": {},
     "output_type": "display_data"
    },
    {
     "data": {
      "text/latex": [
       "$\\displaystyle x_{2} = \\left[\\begin{matrix}411.912537029064\\end{matrix}\\right]$"
      ],
      "text/plain": [
       "<IPython.core.display.Math object>"
      ]
     },
     "metadata": {},
     "output_type": "display_data"
    },
    {
     "data": {
      "text/latex": [
       "$\\displaystyle \\|f(x_{2})\\|_2 = 0.006222473283663987$"
      ],
      "text/plain": [
       "<IPython.core.display.Math object>"
      ]
     },
     "metadata": {},
     "output_type": "display_data"
    },
    {
     "data": {
      "text/latex": [
       "$\\displaystyle \\|x_{2} - x_{1}\\|_2 = 0.9341234569609469$"
      ],
      "text/plain": [
       "<IPython.core.display.Math object>"
      ]
     },
     "metadata": {},
     "output_type": "display_data"
    },
    {
     "name": "stdout",
     "output_type": "stream",
     "text": [
      "\n",
      "ITERATION 3\n",
      "-------------------------------------\n"
     ]
    },
    {
     "data": {
      "text/latex": [
       "$\\displaystyle \\delta_{2} \\text{ ist die Lösung des LGS } Df(x_{2}) * \\delta_{2} = -1 * f(x_{2})$"
      ],
      "text/plain": [
       "<IPython.core.display.Math object>"
      ]
     },
     "metadata": {},
     "output_type": "display_data"
    },
    {
     "data": {
      "text/latex": [
       "$\\displaystyle \\left[\\begin{matrix}-1.15304549030754\\end{matrix}\\right]\\cdot\\delta_{2}=-1\\cdot\\left[\\begin{matrix}-0.00622247328366399\\end{matrix}\\right]$"
      ],
      "text/plain": [
       "<IPython.core.display.Math object>"
      ]
     },
     "metadata": {},
     "output_type": "display_data"
    },
    {
     "data": {
      "text/latex": [
       "$\\displaystyle \\delta_{2} = \\left[\\begin{matrix}-0.00539655489394812\\end{matrix}\\right]$"
      ],
      "text/plain": [
       "<IPython.core.display.Math object>"
      ]
     },
     "metadata": {},
     "output_type": "display_data"
    },
    {
     "name": "stdout",
     "output_type": "stream",
     "text": [
      "\n"
     ]
    },
    {
     "data": {
      "text/latex": [
       "$\\displaystyle x_{3} = x_{2} + \\delta_{2}$"
      ],
      "text/plain": [
       "<IPython.core.display.Math object>"
      ]
     },
     "metadata": {},
     "output_type": "display_data"
    },
    {
     "data": {
      "text/latex": [
       "$\\displaystyle x_{3} = \\left[\\begin{matrix}411.90714047417\\end{matrix}\\right]$"
      ],
      "text/plain": [
       "<IPython.core.display.Math object>"
      ]
     },
     "metadata": {},
     "output_type": "display_data"
    },
    {
     "data": {
      "text/latex": [
       "$\\displaystyle \\|f(x_{3})\\|_2 = 2.0648136711542975e-07$"
      ],
      "text/plain": [
       "<IPython.core.display.Math object>"
      ]
     },
     "metadata": {},
     "output_type": "display_data"
    },
    {
     "data": {
      "text/latex": [
       "$\\displaystyle \\|x_{3} - x_{2}\\|_2 = 0.005396554893934535$"
      ],
      "text/plain": [
       "<IPython.core.display.Math object>"
      ]
     },
     "metadata": {},
     "output_type": "display_data"
    },
    {
     "name": "stdout",
     "output_type": "stream",
     "text": [
      "\n",
      "ITERATION 4\n",
      "-------------------------------------\n"
     ]
    },
    {
     "data": {
      "text/latex": [
       "$\\displaystyle \\delta_{3} \\text{ ist die Lösung des LGS } Df(x_{3}) * \\delta_{3} = -1 * f(x_{3})$"
      ],
      "text/plain": [
       "<IPython.core.display.Math object>"
      ]
     },
     "metadata": {},
     "output_type": "display_data"
    },
    {
     "data": {
      "text/latex": [
       "$\\displaystyle \\left[\\begin{matrix}-1.15296896766341\\end{matrix}\\right]\\cdot\\delta_{3}=-1\\cdot\\left[\\begin{matrix}-2.0648136711543 \\cdot 10^{-7}\\end{matrix}\\right]$"
      ],
      "text/plain": [
       "<IPython.core.display.Math object>"
      ]
     },
     "metadata": {},
     "output_type": "display_data"
    },
    {
     "data": {
      "text/latex": [
       "$\\displaystyle \\delta_{3} = \\left[\\begin{matrix}-1.79086664868251 \\cdot 10^{-7}\\end{matrix}\\right]$"
      ],
      "text/plain": [
       "<IPython.core.display.Math object>"
      ]
     },
     "metadata": {},
     "output_type": "display_data"
    },
    {
     "name": "stdout",
     "output_type": "stream",
     "text": [
      "\n"
     ]
    },
    {
     "data": {
      "text/latex": [
       "$\\displaystyle x_{4} = x_{3} + \\delta_{3}$"
      ],
      "text/plain": [
       "<IPython.core.display.Math object>"
      ]
     },
     "metadata": {},
     "output_type": "display_data"
    },
    {
     "data": {
      "text/latex": [
       "$\\displaystyle x_{4} = \\left[\\begin{matrix}411.907140295083\\end{matrix}\\right]$"
      ],
      "text/plain": [
       "<IPython.core.display.Math object>"
      ]
     },
     "metadata": {},
     "output_type": "display_data"
    },
    {
     "data": {
      "text/latex": [
       "$\\displaystyle \\|f(x_{4})\\|_2 = 7.815970093361102e-14$"
      ],
      "text/plain": [
       "<IPython.core.display.Math object>"
      ]
     },
     "metadata": {},
     "output_type": "display_data"
    },
    {
     "data": {
      "text/latex": [
       "$\\displaystyle \\|x_{4} - x_{3}\\|_2 = 1.7908666904986603e-07$"
      ],
      "text/plain": [
       "<IPython.core.display.Math object>"
      ]
     },
     "metadata": {},
     "output_type": "display_data"
    },
    {
     "name": "stdout",
     "output_type": "stream",
     "text": [
      "\n",
      "ITERATION 5\n",
      "-------------------------------------\n"
     ]
    },
    {
     "data": {
      "text/latex": [
       "$\\displaystyle \\delta_{4} \\text{ ist die Lösung des LGS } Df(x_{4}) * \\delta_{4} = -1 * f(x_{4})$"
      ],
      "text/plain": [
       "<IPython.core.display.Math object>"
      ]
     },
     "metadata": {},
     "output_type": "display_data"
    },
    {
     "data": {
      "text/latex": [
       "$\\displaystyle \\left[\\begin{matrix}-1.15296896512404\\end{matrix}\\right]\\cdot\\delta_{4}=-1\\cdot\\left[\\begin{matrix}7.8159700933611 \\cdot 10^{-14}\\end{matrix}\\right]$"
      ],
      "text/plain": [
       "<IPython.core.display.Math object>"
      ]
     },
     "metadata": {},
     "output_type": "display_data"
    },
    {
     "data": {
      "text/latex": [
       "$\\displaystyle \\delta_{4} = \\left[\\begin{matrix}6.77899434398066 \\cdot 10^{-14}\\end{matrix}\\right]$"
      ],
      "text/plain": [
       "<IPython.core.display.Math object>"
      ]
     },
     "metadata": {},
     "output_type": "display_data"
    },
    {
     "name": "stdout",
     "output_type": "stream",
     "text": [
      "\n"
     ]
    },
    {
     "data": {
      "text/latex": [
       "$\\displaystyle x_{5} = x_{4} + \\delta_{4}$"
      ],
      "text/plain": [
       "<IPython.core.display.Math object>"
      ]
     },
     "metadata": {},
     "output_type": "display_data"
    },
    {
     "data": {
      "text/latex": [
       "$\\displaystyle x_{5} = \\left[\\begin{matrix}411.907140295083\\end{matrix}\\right]$"
      ],
      "text/plain": [
       "<IPython.core.display.Math object>"
      ]
     },
     "metadata": {},
     "output_type": "display_data"
    },
    {
     "data": {
      "text/latex": [
       "$\\displaystyle \\|f(x_{5})\\|_2 = 3.552713678800501e-14$"
      ],
      "text/plain": [
       "<IPython.core.display.Math object>"
      ]
     },
     "metadata": {},
     "output_type": "display_data"
    },
    {
     "data": {
      "text/latex": [
       "$\\displaystyle \\|x_{5} - x_{4}\\|_2 = 5.684341886080802e-14$"
      ],
      "text/plain": [
       "<IPython.core.display.Math object>"
      ]
     },
     "metadata": {},
     "output_type": "display_data"
    },
    {
     "name": "stdout",
     "output_type": "stream",
     "text": [
      "\n",
      "ITERATION 6\n",
      "-------------------------------------\n"
     ]
    },
    {
     "data": {
      "text/latex": [
       "$\\displaystyle \\delta_{5} \\text{ ist die Lösung des LGS } Df(x_{5}) * \\delta_{5} = -1 * f(x_{5})$"
      ],
      "text/plain": [
       "<IPython.core.display.Math object>"
      ]
     },
     "metadata": {},
     "output_type": "display_data"
    },
    {
     "data": {
      "text/latex": [
       "$\\displaystyle \\left[\\begin{matrix}-1.15296896512404\\end{matrix}\\right]\\cdot\\delta_{5}=-1\\cdot\\left[\\begin{matrix}-3.5527136788005 \\cdot 10^{-14}\\end{matrix}\\right]$"
      ],
      "text/plain": [
       "<IPython.core.display.Math object>"
      ]
     },
     "metadata": {},
     "output_type": "display_data"
    },
    {
     "data": {
      "text/latex": [
       "$\\displaystyle \\delta_{5} = \\left[\\begin{matrix}-3.08136106544575 \\cdot 10^{-14}\\end{matrix}\\right]$"
      ],
      "text/plain": [
       "<IPython.core.display.Math object>"
      ]
     },
     "metadata": {},
     "output_type": "display_data"
    },
    {
     "name": "stdout",
     "output_type": "stream",
     "text": [
      "\n"
     ]
    },
    {
     "data": {
      "text/latex": [
       "$\\displaystyle x_{6} = x_{5} + \\delta_{5}$"
      ],
      "text/plain": [
       "<IPython.core.display.Math object>"
      ]
     },
     "metadata": {},
     "output_type": "display_data"
    },
    {
     "data": {
      "text/latex": [
       "$\\displaystyle x_{6} = \\left[\\begin{matrix}411.907140295083\\end{matrix}\\right]$"
      ],
      "text/plain": [
       "<IPython.core.display.Math object>"
      ]
     },
     "metadata": {},
     "output_type": "display_data"
    },
    {
     "data": {
      "text/latex": [
       "$\\displaystyle \\|f(x_{6})\\|_2 = 7.815970093361102e-14$"
      ],
      "text/plain": [
       "<IPython.core.display.Math object>"
      ]
     },
     "metadata": {},
     "output_type": "display_data"
    },
    {
     "data": {
      "text/latex": [
       "$\\displaystyle \\|x_{6} - x_{5}\\|_2 = 5.684341886080802e-14$"
      ],
      "text/plain": [
       "<IPython.core.display.Math object>"
      ]
     },
     "metadata": {},
     "output_type": "display_data"
    },
    {
     "name": "stdout",
     "output_type": "stream",
     "text": [
      "\n",
      "ITERATION 7\n",
      "-------------------------------------\n"
     ]
    },
    {
     "data": {
      "text/latex": [
       "$\\displaystyle \\delta_{6} \\text{ ist die Lösung des LGS } Df(x_{6}) * \\delta_{6} = -1 * f(x_{6})$"
      ],
      "text/plain": [
       "<IPython.core.display.Math object>"
      ]
     },
     "metadata": {},
     "output_type": "display_data"
    },
    {
     "data": {
      "text/latex": [
       "$\\displaystyle \\left[\\begin{matrix}-1.15296896512404\\end{matrix}\\right]\\cdot\\delta_{6}=-1\\cdot\\left[\\begin{matrix}7.8159700933611 \\cdot 10^{-14}\\end{matrix}\\right]$"
      ],
      "text/plain": [
       "<IPython.core.display.Math object>"
      ]
     },
     "metadata": {},
     "output_type": "display_data"
    },
    {
     "data": {
      "text/latex": [
       "$\\displaystyle \\delta_{6} = \\left[\\begin{matrix}6.77899434398066 \\cdot 10^{-14}\\end{matrix}\\right]$"
      ],
      "text/plain": [
       "<IPython.core.display.Math object>"
      ]
     },
     "metadata": {},
     "output_type": "display_data"
    },
    {
     "name": "stdout",
     "output_type": "stream",
     "text": [
      "\n"
     ]
    },
    {
     "data": {
      "text/latex": [
       "$\\displaystyle x_{7} = x_{6} + \\delta_{6}$"
      ],
      "text/plain": [
       "<IPython.core.display.Math object>"
      ]
     },
     "metadata": {},
     "output_type": "display_data"
    },
    {
     "data": {
      "text/latex": [
       "$\\displaystyle x_{7} = \\left[\\begin{matrix}411.907140295083\\end{matrix}\\right]$"
      ],
      "text/plain": [
       "<IPython.core.display.Math object>"
      ]
     },
     "metadata": {},
     "output_type": "display_data"
    },
    {
     "data": {
      "text/latex": [
       "$\\displaystyle \\|f(x_{7})\\|_2 = 3.552713678800501e-14$"
      ],
      "text/plain": [
       "<IPython.core.display.Math object>"
      ]
     },
     "metadata": {},
     "output_type": "display_data"
    },
    {
     "data": {
      "text/latex": [
       "$\\displaystyle \\|x_{7} - x_{6}\\|_2 = 5.684341886080802e-14$"
      ],
      "text/plain": [
       "<IPython.core.display.Math object>"
      ]
     },
     "metadata": {},
     "output_type": "display_data"
    },
    {
     "name": "stdout",
     "output_type": "stream",
     "text": [
      "\n",
      "ITERATION 8\n",
      "-------------------------------------\n"
     ]
    },
    {
     "data": {
      "text/latex": [
       "$\\displaystyle \\delta_{7} \\text{ ist die Lösung des LGS } Df(x_{7}) * \\delta_{7} = -1 * f(x_{7})$"
      ],
      "text/plain": [
       "<IPython.core.display.Math object>"
      ]
     },
     "metadata": {},
     "output_type": "display_data"
    },
    {
     "data": {
      "text/latex": [
       "$\\displaystyle \\left[\\begin{matrix}-1.15296896512404\\end{matrix}\\right]\\cdot\\delta_{7}=-1\\cdot\\left[\\begin{matrix}-3.5527136788005 \\cdot 10^{-14}\\end{matrix}\\right]$"
      ],
      "text/plain": [
       "<IPython.core.display.Math object>"
      ]
     },
     "metadata": {},
     "output_type": "display_data"
    },
    {
     "data": {
      "text/latex": [
       "$\\displaystyle \\delta_{7} = \\left[\\begin{matrix}-3.08136106544575 \\cdot 10^{-14}\\end{matrix}\\right]$"
      ],
      "text/plain": [
       "<IPython.core.display.Math object>"
      ]
     },
     "metadata": {},
     "output_type": "display_data"
    },
    {
     "name": "stdout",
     "output_type": "stream",
     "text": [
      "\n"
     ]
    },
    {
     "data": {
      "text/latex": [
       "$\\displaystyle x_{8} = x_{7} + \\delta_{7}$"
      ],
      "text/plain": [
       "<IPython.core.display.Math object>"
      ]
     },
     "metadata": {},
     "output_type": "display_data"
    },
    {
     "data": {
      "text/latex": [
       "$\\displaystyle x_{8} = \\left[\\begin{matrix}411.907140295083\\end{matrix}\\right]$"
      ],
      "text/plain": [
       "<IPython.core.display.Math object>"
      ]
     },
     "metadata": {},
     "output_type": "display_data"
    },
    {
     "data": {
      "text/latex": [
       "$\\displaystyle \\|f(x_{8})\\|_2 = 7.815970093361102e-14$"
      ],
      "text/plain": [
       "<IPython.core.display.Math object>"
      ]
     },
     "metadata": {},
     "output_type": "display_data"
    },
    {
     "data": {
      "text/latex": [
       "$\\displaystyle \\|x_{8} - x_{7}\\|_2 = 5.684341886080802e-14$"
      ],
      "text/plain": [
       "<IPython.core.display.Math object>"
      ]
     },
     "metadata": {},
     "output_type": "display_data"
    },
    {
     "name": "stdout",
     "output_type": "stream",
     "text": [
      "\n",
      "ITERATION 9\n",
      "-------------------------------------\n"
     ]
    },
    {
     "data": {
      "text/latex": [
       "$\\displaystyle \\delta_{8} \\text{ ist die Lösung des LGS } Df(x_{8}) * \\delta_{8} = -1 * f(x_{8})$"
      ],
      "text/plain": [
       "<IPython.core.display.Math object>"
      ]
     },
     "metadata": {},
     "output_type": "display_data"
    },
    {
     "data": {
      "text/latex": [
       "$\\displaystyle \\left[\\begin{matrix}-1.15296896512404\\end{matrix}\\right]\\cdot\\delta_{8}=-1\\cdot\\left[\\begin{matrix}7.8159700933611 \\cdot 10^{-14}\\end{matrix}\\right]$"
      ],
      "text/plain": [
       "<IPython.core.display.Math object>"
      ]
     },
     "metadata": {},
     "output_type": "display_data"
    },
    {
     "data": {
      "text/latex": [
       "$\\displaystyle \\delta_{8} = \\left[\\begin{matrix}6.77899434398066 \\cdot 10^{-14}\\end{matrix}\\right]$"
      ],
      "text/plain": [
       "<IPython.core.display.Math object>"
      ]
     },
     "metadata": {},
     "output_type": "display_data"
    },
    {
     "name": "stdout",
     "output_type": "stream",
     "text": [
      "\n"
     ]
    },
    {
     "data": {
      "text/latex": [
       "$\\displaystyle x_{9} = x_{8} + \\delta_{8}$"
      ],
      "text/plain": [
       "<IPython.core.display.Math object>"
      ]
     },
     "metadata": {},
     "output_type": "display_data"
    },
    {
     "data": {
      "text/latex": [
       "$\\displaystyle x_{9} = \\left[\\begin{matrix}411.907140295083\\end{matrix}\\right]$"
      ],
      "text/plain": [
       "<IPython.core.display.Math object>"
      ]
     },
     "metadata": {},
     "output_type": "display_data"
    },
    {
     "data": {
      "text/latex": [
       "$\\displaystyle \\|f(x_{9})\\|_2 = 3.552713678800501e-14$"
      ],
      "text/plain": [
       "<IPython.core.display.Math object>"
      ]
     },
     "metadata": {},
     "output_type": "display_data"
    },
    {
     "data": {
      "text/latex": [
       "$\\displaystyle \\|x_{9} - x_{8}\\|_2 = 5.684341886080802e-14$"
      ],
      "text/plain": [
       "<IPython.core.display.Math object>"
      ]
     },
     "metadata": {},
     "output_type": "display_data"
    },
    {
     "name": "stdout",
     "output_type": "stream",
     "text": [
      "\n",
      "-------------------------------------\n",
      "\n"
     ]
    },
    {
     "data": {
      "text/latex": [
       "$\\displaystyle \\text{Die approximierten Werte sind: }\\left[\\begin{matrix}400.0\\\\412.846660486025\\\\411.912537029064\\\\411.90714047417\\\\411.907140295083\\\\411.907140295083\\\\411.907140295083\\\\411.907140295083\\\\411.907140295083\\\\411.907140295083\\end{matrix}\\right]$"
      ],
      "text/plain": [
       "<IPython.core.display.Math object>"
      ]
     },
     "metadata": {},
     "output_type": "display_data"
    }
   ],
   "source": [
    "from IPython.display import display, Math\n",
    "import sympy as sy\n",
    "import numpy as np\n",
    "\n",
    "x1, x2, x3, x4, x5, x6, x7, x8, x9 = sy.symbols('x1, x2, x3, x4, x5, x6, x7, x8, x9')\n",
    "\n",
    "# Abbruchkriterium a): Abbruch nach einer bestimmten Anzahl Iterationen\n",
    "def is_finished_max_iterations(f, x, n_max):\n",
    "    return x.shape[0] - 1 >= n_max\n",
    "\n",
    "# Abbruchkriterium b): Abbruch, wenn ‖x(n+1) - x(n)‖₂ ≤ ‖x(n+1)‖₂ * 𝛜\n",
    "def is_finished_relative_error(f, x, eps):\n",
    "    if x.shape[0] < 2:\n",
    "        return False\n",
    "    return np.linalg.norm(x[-1] - x[-2], 2) <= np.linalg.norm(x[-1], 2) * 1.0 * eps\n",
    "\n",
    "# Abbruchkriterium c): Abbruch, wenn ‖x(n+1) - x(n)‖₂ ≤ 𝛜\n",
    "def is_finished_absolute_error(f, x, eps):\n",
    "    if x.shape[0] < 2:\n",
    "        return False\n",
    "    return np.linalg.norm(x[-1] - x[-2], 2) <= 1.0 * eps\n",
    "\n",
    "# Abbruchkriterium d): Abbruch, wenn ‖f(x(n+1))‖₂ ≤ 𝛜\n",
    "def is_finished_max_residual(f, x, eps):\n",
    "    if x.shape[0] < 1:\n",
    "        return False\n",
    "    return np.linalg.norm(f(x[-1]), 2) <= 1.0 * eps\n",
    "\n",
    "\"\"\"\n",
    "=======================================================================================================================\n",
    "INPUT\n",
    "=======================================================================================================================\n",
    "\"\"\"\n",
    "\n",
    "# ACHTUNG: Für sinus/cosinus/Exponentialfunktion immer sy.sin/sy.cos/sy.exp/sy.ln/sy.abs verwenden!\n",
    "f = sy.Matrix([\n",
    "    -0.00000003 * x1 ** 4 + 0.00002756 * x1 ** 3 - 0.01060611 * x1 ** 2 + 1.94285784 * x1 ** 1 - 63.24584535\n",
    "   \n",
    "])\n",
    "# f = sy.Matrix([\n",
    "#     x1 + x2 * sy.exp(x3 * 1) - 40,\n",
    "#     x1 + x2 * sy.exp(x3 * 1.6) - 250,\n",
    "#     x1 + x2 * sy.exp(x3 * 2) - 800\n",
    "# ])\n",
    "\n",
    "x = sy.Matrix([x1])\n",
    "# x = sy.Matrix([x1, x2, x3])\n",
    "\n",
    " # Startwert\n",
    "x0 = np.array([400])\n",
    "# x0 = np.array([1, 2, 3])\n",
    "\n",
    "# Wähle das Abbruchkriterium (bei passender Zeile Kommentar entfernen):\n",
    "def is_finished(f, x):\n",
    "    return is_finished_max_iterations(f, x, 9)      # Criterion a)\n",
    "    # return is_finished_relative_error(f, x, 1e-5)  # Criterion b)\n",
    "    # return is_finished_absolute_error(f, x, 1e-5)  # Criterion c)\n",
    "    # return is_finished_max_residual(f, x, 1e-5)    # Criterion d)\n",
    "\n",
    "\"\"\"\n",
    "=======================================================================================================================\n",
    "\"\"\"\n",
    "\n",
    "display(Math(r'\\text{Bilde die Jacobi-Matrix } Df(x) \\text{ für } f(x) = ' + sy.latex(f) + r' \\text{ mit } x = ' + sy.latex(x)))\n",
    "\n",
    "# Bilde die allgemeine Jacobi-Matrix\n",
    "Df = f.jacobian(x)\n",
    "\n",
    "display(Math(r'\\text{Ganze Jacobi-Matrix: } Df = ' + sy.latex(Df)))\n",
    "\n",
    "# Sympy-Funktionen kompatibel mit Numpy machen\n",
    "f_lambda = sy.lambdify([x], f, \"numpy\")\n",
    "Df_lambda = sy.lambdify([x], Df, \"numpy\")\n",
    "\n",
    "# Newton-Iterationen\n",
    "x_approx = np.empty(shape=(0, len(x)), dtype=np.float64) # Array mit Lösungsvektoren x0 bis xn\n",
    "x_approx = np.append(x_approx, [x0], axis=0) # Start-Vektor in Array einfügen\n",
    "display(Math(r'x({0}) = ' + sy.latex(sy.Matrix(x0))))\n",
    "\n",
    "while not is_finished(f_lambda, x_approx):\n",
    "    i = x_approx.shape[0] - 1\n",
    "    print()\n",
    "    print(f'ITERATION {i + 1}')\n",
    "    print('-------------------------------------')\n",
    "\n",
    "    x_n = x_approx[-1] # x(n) (letzter berechneter Wert)\n",
    "\n",
    "    display(Math(r'\\delta_{' + str(i) + r'} \\text{ ist die Lösung des LGS } Df(x_{' + str(i) + r'}) * \\delta_{' + str(i) + r'} = -1 * f(x_{' + str(i) + r'})'))\n",
    "    display(Math(sy.latex(sy.Matrix(Df_lambda(x_n))) + '\\\\cdot\\\\delta_{' + str(i) + '}=-1\\\\cdot' + sy.latex(sy.Matrix(f_lambda(x_n)))))\n",
    "\n",
    "    Q, R = np.linalg.qr(Df_lambda(x_n))\n",
    "    delta = np.linalg.solve(R, -Q.T @ f_lambda(x_n)).flatten()  # 𝛅(n) aus Df(x(n)) * 𝛅(n) = -1 * f(x(n))\n",
    "    display(Math(r'\\delta_{' + str(i) + r'} = ' + sy.latex(sy.Matrix(delta))))\n",
    "\n",
    "    x_next = x_n + delta.reshape(x0.shape[0], )  # x(n+1) = x(n) + 𝛅(n)\n",
    "\n",
    "    print()\n",
    "    display(Math(r'x_{' + str(i + 1) + r'} = x_{' + str(i) + r'} + \\delta_{' + str(i) + r'}'))\n",
    "    display(Math(r'x_{' + str(i + 1) + r'} = ' + sy.latex(sy.Matrix(x_next))))\n",
    "    display(Math(r'\\|f(x_{' + str(i + 1) + r'})\\|_2 = ' + str(np.linalg.norm(f_lambda(x_next), 2))))\n",
    "    display(Math(r'\\|x_{' + str(i + 1) + r'} - x_{' + str(i) + r'}\\|_2 = ' + str(np.linalg.norm(x_next - x_n, 2))))\n",
    "\n",
    "    x_approx = np.append(x_approx, [x_next], axis=0)\n",
    "\n",
    "print()\n",
    "print('-------------------------------------')\n",
    "print()\n",
    "\n",
    "display(Math(r'\\text{Die approximierten Werte sind: }' + sy.latex(sy.Matrix(x_approx))))"
   ]
  }
 ],
 "metadata": {
  "kernelspec": {
   "display_name": "base",
   "language": "python",
   "name": "python3"
  },
  "language_info": {
   "codemirror_mode": {
    "name": "ipython",
    "version": 3
   },
   "file_extension": ".py",
   "mimetype": "text/x-python",
   "name": "python",
   "nbconvert_exporter": "python",
   "pygments_lexer": "ipython3",
   "version": "3.12.2"
  }
 },
 "nbformat": 4,
 "nbformat_minor": 2
}
