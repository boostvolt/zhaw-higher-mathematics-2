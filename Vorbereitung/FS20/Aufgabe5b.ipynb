{
 "cells": [
  {
   "cell_type": "code",
   "execution_count": 1,
   "metadata": {},
   "outputs": [
    {
     "data": {
      "text/latex": [
       "Basisfunktionen: $[x^{4}, x^{3}, x^{2}, x, 1]$"
      ],
      "text/plain": [
       "<IPython.core.display.Latex object>"
      ]
     },
     "metadata": {},
     "output_type": "display_data"
    },
    {
     "data": {
      "text/latex": [
       "Matrix $A$: $$\\left[\\begin{matrix}6250000.0 & 125000.0 & 2500.0 & 50.0 & 1.0\\\\100000000.0 & 1000000.0 & 10000.0 & 100.0 & 1.0\\\\506250000.0 & 3375000.0 & 22500.0 & 150.0 & 1.0\\\\3906250000.0 & 15625000.0 & 62500.0 & 250.0 & 1.0\\\\15006250000.0 & 42875000.0 & 122500.0 & 350.0 & 1.0\\\\25600000000.0 & 64000000.0 & 160000.0 & 400.0 & 1.0\\\\41006250000.0 & 91125000.0 & 202500.0 & 450.0 & 1.0\\\\62500000000.0 & 125000000.0 & 250000.0 & 500.0 & 1.0\\\\75969140625.0 & 144703125.0 & 275625.0 & 525.0 & 1.0\\\\91506250000.0 & 166375000.0 & 302500.0 & 550.0 & 1.0\\end{matrix}\\right]$$"
      ],
      "text/plain": [
       "<IPython.core.display.Latex object>"
      ]
     },
     "metadata": {},
     "output_type": "display_data"
    },
    {
     "data": {
      "text/latex": [
       "Vektor $y$: $$\\left[\\begin{matrix}10.5\\\\49.2\\\\72.1\\\\85.4\\\\113.0\\\\121.0\\\\112.0\\\\80.2\\\\61.1\\\\13.8\\end{matrix}\\right]$$"
      ],
      "text/plain": [
       "<IPython.core.display.Latex object>"
      ]
     },
     "metadata": {},
     "output_type": "display_data"
    },
    {
     "data": {
      "text/latex": [
       "Matrix $A^T \\cdot A$: $$\\left[\\begin{matrix}2.0628539311676 \\cdot 10^{22} & 4.0111156427002 \\cdot 10^{19} & 7.87392131347656 \\cdot 10^{16} & 156470048828125.0 & 316106640625.0\\\\4.0111156427002 \\cdot 10^{19} & 7.87392131347656 \\cdot 10^{16} & 156470048828125.0 & 316106640625.0 & 654203125.0\\\\7.87392131347656 \\cdot 10^{16} & 156470048828125.0 & 316106640625.0 & 654203125.0 & 1410625.0\\\\156470048828125.0 & 316106640625.0 & 654203125.0 & 1410625.0 & 3325.0\\\\316106640625.0 & 654203125.0 & 1410625.0 & 3325.0 & 10.0\\end{matrix}\\right]$$"
      ],
      "text/plain": [
       "<IPython.core.display.Latex object>"
      ]
     },
     "metadata": {},
     "output_type": "display_data"
    },
    {
     "data": {
      "text/latex": [
       "Matrix $A^T \\cdot y$: $$\\left[\\begin{matrix}20678086992187.5\\\\45585435937.5\\\\104425687.5\\\\255727.5\\\\718.3\\end{matrix}\\right]$$"
      ],
      "text/plain": [
       "<IPython.core.display.Latex object>"
      ]
     },
     "metadata": {},
     "output_type": "display_data"
    },
    {
     "name": "stdout",
     "output_type": "stream",
     "text": [
      "Normalgleichung (λ): \t [ -0.00000003   0.00002756  -0.01060611   1.94285784 -63.24584535] \n",
      "\n",
      "E(f)\t\t= 1.1484637420894108e-21\n"
     ]
    },
    {
     "data": {
      "image/png": "[encoded data removed]",
      "text/plain": [
       "<Figure size 640x480 with 1 Axes>"
      ]
     },
     "metadata": {},
     "output_type": "display_data"
    }
   ],
   "source": [
    "import numpy as np\n",
    "import matplotlib.pyplot as plt\n",
    "import sympy as sp\n",
    "from IPython.display import display, Latex\n",
    "\n",
    "'''INPUT'''\n",
    "x_sym = sp.symbols('x')\n",
    "x = np.array([50, 100, 150, 250, 350, 400, 450, 500, 525, 550])\n",
    "y = np.array([10.5, 49.2, 72.1, 85.4, 113, 121, 112, 80.2, 61.1, 13.8])\n",
    "funcs = np.array([x_sym ** 4, x_sym ** 3, x_sym ** 2, x_sym ** 1, x_sym ** 0])\n",
    "'''INPUT'''\n",
    "\n",
    "def create_funcs_matrix(x, funcs, x_sym):\n",
    "    n = len(x)\n",
    "    m = len(funcs)\n",
    "    A = np.zeros((n, m))\n",
    "    for i in range(n):\n",
    "        for j in range(m):\n",
    "            A[i][j] = funcs[j].subs([(x_sym, x[i])])\n",
    "    return A\n",
    "\n",
    "def get_fx(lambdas, funcs, x):\n",
    "    f = 0\n",
    "    for lam, func in zip(lambdas, funcs):\n",
    "        f += lam * func\n",
    "    return sp.lambdify(x, f)\n",
    "\n",
    "def normalgleichung(A, y):\n",
    "    return np.linalg.solve(A.T @ A, A.T @ y)\n",
    "\n",
    "def fehlerfunktionale(A, y, lambdas):\n",
    "    Ef = np.linalg.norm(y - A @ lambdas, 2) ** 2\n",
    "    print(f\"E(f)\\t\\t= {Ef}\")\n",
    "\n",
    "def display_with_latex():\n",
    "    # Basisfunktionen ausgeben\n",
    "    basisfunktionen_str = ', '.join([sp.latex(func) for func in funcs])\n",
    "    display(Latex(f\"Basisfunktionen: $[{basisfunktionen_str}]$\"))\n",
    "\n",
    "    # Matrix A ausgeben\n",
    "    A = create_funcs_matrix(x, funcs, x_sym)\n",
    "    A_str = sp.latex(sp.Matrix(A))\n",
    "    display(Latex(f\"Matrix $A$: $${A_str}$$\"))\n",
    "\n",
    "    # Vektor y ausgeben\n",
    "    y_str = sp.latex(sp.Matrix(y))\n",
    "    display(Latex(f\"Vektor $y$: $${y_str}$$\"))\n",
    "\n",
    "    # Berechnung von A^T*A und A^T*y\n",
    "    ATA = A.T @ A\n",
    "    ATy = A.T @ y\n",
    "    ATA_str = sp.latex(sp.Matrix(ATA))\n",
    "    ATy_str = sp.latex(sp.Matrix(ATy))\n",
    "\n",
    "    # Ausgabe von A^T*A und A^T*y\n",
    "    display(Latex(rf\"Matrix $A^T \\cdot A$: $${ATA_str}$$\"))\n",
    "    display(Latex(rf\"Matrix $A^T \\cdot y$: $${ATy_str}$$\"))\n",
    "\n",
    "if __name__ == \"__main__\":\n",
    "    np.set_printoptions(suppress=True)\n",
    "    display_with_latex()  # Anzeige der Basisfunktionen, Matrix A und Vektor y mit Latex\n",
    "\n",
    "    A = create_funcs_matrix(x, funcs, x_sym)\n",
    "    lambdas = normalgleichung(A, y)\n",
    "    f = get_fx(lambdas, funcs, x_sym)\n",
    "    y_pred = f(x)\n",
    "\n",
    "    # Normalgleichung\n",
    "    print(f\"Normalgleichung (\\u03BB): \\t {lambdas} \\n\")\n",
    "\n",
    "    # Fehlerfunktionale\n",
    "    fehlerfunktionale(A, y_pred, lambdas)\n",
    "   \n",
    "    # Plot\n",
    "    plt.plot(x, y, 'o', label='Daten')\n",
    "    x = np.arange(50, 550, 1)\n",
    "    plt.plot(x, f(x), '-r', label='Normalgleichung a')\n",
    "    plt.xlabel('x')\n",
    "    plt.ylabel('y')\n",
    "    plt.legend()\n",
    "    plt.show()\n",
    "\n"
   ]
  }
 ],
 "metadata": {
  "kernelspec": {
   "display_name": "base",
   "language": "python",
   "name": "python3"
  },
  "language_info": {
   "codemirror_mode": {
    "name": "ipython",
    "version": 3
   },
   "file_extension": ".py",
   "mimetype": "text/x-python",
   "name": "python",
   "nbconvert_exporter": "python",
   "pygments_lexer": "ipython3",
   "version": "3.12.2"
  }
 },
 "nbformat": 4,
 "nbformat_minor": 2
}
