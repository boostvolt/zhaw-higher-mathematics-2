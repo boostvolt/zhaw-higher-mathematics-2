{
 "cells": [
  {
   "cell_type": "code",
   "execution_count": 2,
   "metadata": {},
   "outputs": [
    {
     "data": {
      "text/latex": [
       "$\\displaystyle \\text{Bilde die Jacobi-Matrix } Df(x) \\text{ für } f(x) = \\left[\\begin{matrix}x_{1} + x_{2} - 4\\\\x_{1}^{2} + x_{2}^{2} - 9\\end{matrix}\\right] \\text{ mit } x = \\left[\\begin{matrix}x_{1}\\\\x_{2}\\end{matrix}\\right]$"
      ],
      "text/plain": [
       "<IPython.core.display.Math object>"
      ]
     },
     "metadata": {},
     "output_type": "display_data"
    },
    {
     "data": {
      "text/latex": [
       "$\\displaystyle \\text{Ganze Jacobi-Matrix: } Df = \\left[\\begin{matrix}1 & 1\\\\2 x_{1} & 2 x_{2}\\end{matrix}\\right]$"
      ],
      "text/plain": [
       "<IPython.core.display.Math object>"
      ]
     },
     "metadata": {},
     "output_type": "display_data"
    },
    {
     "data": {
      "text/latex": [
       "$\\displaystyle x({0}) = \\left[\\begin{matrix}0\\\\3\\end{matrix}\\right]$"
      ],
      "text/plain": [
       "<IPython.core.display.Math object>"
      ]
     },
     "metadata": {},
     "output_type": "display_data"
    },
    {
     "name": "stdout",
     "output_type": "stream",
     "text": [
      "\n",
      "ITERATION 1\n",
      "-------------------------------------\n"
     ]
    },
    {
     "data": {
      "text/latex": [
       "$\\displaystyle \\delta_{0} \\text{ ist die Lösung des LGS } Df(x_{0}) * \\delta_{0} = -1 * f(x_{0})$"
      ],
      "text/plain": [
       "<IPython.core.display.Math object>"
      ]
     },
     "metadata": {},
     "output_type": "display_data"
    },
    {
     "data": {
      "text/latex": [
       "$\\displaystyle \\left[\\begin{matrix}1.0 & 1.0\\\\0 & 6.0\\end{matrix}\\right]\\cdot\\delta_{0}=-1\\cdot\\left[\\begin{matrix}-1.0\\\\0\\end{matrix}\\right]$"
      ],
      "text/plain": [
       "<IPython.core.display.Math object>"
      ]
     },
     "metadata": {},
     "output_type": "display_data"
    },
    {
     "data": {
      "text/latex": [
       "$\\displaystyle \\delta_{0} = \\left[\\begin{matrix}1.0\\\\0\\end{matrix}\\right]$"
      ],
      "text/plain": [
       "<IPython.core.display.Math object>"
      ]
     },
     "metadata": {},
     "output_type": "display_data"
    },
    {
     "name": "stdout",
     "output_type": "stream",
     "text": [
      "\n"
     ]
    },
    {
     "data": {
      "text/latex": [
       "$\\displaystyle x_{1} = x_{0} + \\delta_{0}$"
      ],
      "text/plain": [
       "<IPython.core.display.Math object>"
      ]
     },
     "metadata": {},
     "output_type": "display_data"
    },
    {
     "data": {
      "text/latex": [
       "$\\displaystyle x_{1} = \\left[\\begin{matrix}1.0\\\\3.0\\end{matrix}\\right]$"
      ],
      "text/plain": [
       "<IPython.core.display.Math object>"
      ]
     },
     "metadata": {},
     "output_type": "display_data"
    },
    {
     "data": {
      "text/latex": [
       "$\\displaystyle \\|f(x_{1})\\|_2 = 1.0$"
      ],
      "text/plain": [
       "<IPython.core.display.Math object>"
      ]
     },
     "metadata": {},
     "output_type": "display_data"
    },
    {
     "data": {
      "text/latex": [
       "$\\displaystyle \\|x_{1} - x_{0}\\|_2 = 1.0$"
      ],
      "text/plain": [
       "<IPython.core.display.Math object>"
      ]
     },
     "metadata": {},
     "output_type": "display_data"
    },
    {
     "name": "stdout",
     "output_type": "stream",
     "text": [
      "\n",
      "ITERATION 2\n",
      "-------------------------------------\n"
     ]
    },
    {
     "data": {
      "text/latex": [
       "$\\displaystyle \\delta_{1} \\text{ ist die Lösung des LGS } Df(x_{1}) * \\delta_{1} = -1 * f(x_{1})$"
      ],
      "text/plain": [
       "<IPython.core.display.Math object>"
      ]
     },
     "metadata": {},
     "output_type": "display_data"
    },
    {
     "data": {
      "text/latex": [
       "$\\displaystyle \\left[\\begin{matrix}1.0 & 1.0\\\\2.0 & 6.0\\end{matrix}\\right]\\cdot\\delta_{1}=-1\\cdot\\left[\\begin{matrix}0\\\\1.0\\end{matrix}\\right]$"
      ],
      "text/plain": [
       "<IPython.core.display.Math object>"
      ]
     },
     "metadata": {},
     "output_type": "display_data"
    },
    {
     "data": {
      "text/latex": [
       "$\\displaystyle \\delta_{1} = \\left[\\begin{matrix}0.25\\\\-0.25\\end{matrix}\\right]$"
      ],
      "text/plain": [
       "<IPython.core.display.Math object>"
      ]
     },
     "metadata": {},
     "output_type": "display_data"
    },
    {
     "name": "stdout",
     "output_type": "stream",
     "text": [
      "\n"
     ]
    },
    {
     "data": {
      "text/latex": [
       "$\\displaystyle x_{2} = x_{1} + \\delta_{1}$"
      ],
      "text/plain": [
       "<IPython.core.display.Math object>"
      ]
     },
     "metadata": {},
     "output_type": "display_data"
    },
    {
     "data": {
      "text/latex": [
       "$\\displaystyle x_{2} = \\left[\\begin{matrix}1.25\\\\2.75\\end{matrix}\\right]$"
      ],
      "text/plain": [
       "<IPython.core.display.Math object>"
      ]
     },
     "metadata": {},
     "output_type": "display_data"
    },
    {
     "data": {
      "text/latex": [
       "$\\displaystyle \\|f(x_{2})\\|_2 = 0.125$"
      ],
      "text/plain": [
       "<IPython.core.display.Math object>"
      ]
     },
     "metadata": {},
     "output_type": "display_data"
    },
    {
     "data": {
      "text/latex": [
       "$\\displaystyle \\|x_{2} - x_{1}\\|_2 = 0.3535533905932736$"
      ],
      "text/plain": [
       "<IPython.core.display.Math object>"
      ]
     },
     "metadata": {},
     "output_type": "display_data"
    },
    {
     "name": "stdout",
     "output_type": "stream",
     "text": [
      "\n",
      "ITERATION 3\n",
      "-------------------------------------\n"
     ]
    },
    {
     "data": {
      "text/latex": [
       "$\\displaystyle \\delta_{2} \\text{ ist die Lösung des LGS } Df(x_{2}) * \\delta_{2} = -1 * f(x_{2})$"
      ],
      "text/plain": [
       "<IPython.core.display.Math object>"
      ]
     },
     "metadata": {},
     "output_type": "display_data"
    },
    {
     "data": {
      "text/latex": [
       "$\\displaystyle \\left[\\begin{matrix}1.0 & 1.0\\\\2.5 & 5.5\\end{matrix}\\right]\\cdot\\delta_{2}=-1\\cdot\\left[\\begin{matrix}0\\\\0.125\\end{matrix}\\right]$"
      ],
      "text/plain": [
       "<IPython.core.display.Math object>"
      ]
     },
     "metadata": {},
     "output_type": "display_data"
    },
    {
     "data": {
      "text/latex": [
       "$\\displaystyle \\delta_{2} = \\left[\\begin{matrix}0.0416666666666666\\\\-0.0416666666666666\\end{matrix}\\right]$"
      ],
      "text/plain": [
       "<IPython.core.display.Math object>"
      ]
     },
     "metadata": {},
     "output_type": "display_data"
    },
    {
     "name": "stdout",
     "output_type": "stream",
     "text": [
      "\n"
     ]
    },
    {
     "data": {
      "text/latex": [
       "$\\displaystyle x_{3} = x_{2} + \\delta_{2}$"
      ],
      "text/plain": [
       "<IPython.core.display.Math object>"
      ]
     },
     "metadata": {},
     "output_type": "display_data"
    },
    {
     "data": {
      "text/latex": [
       "$\\displaystyle x_{3} = \\left[\\begin{matrix}1.29166666666667\\\\2.70833333333333\\end{matrix}\\right]$"
      ],
      "text/plain": [
       "<IPython.core.display.Math object>"
      ]
     },
     "metadata": {},
     "output_type": "display_data"
    },
    {
     "data": {
      "text/latex": [
       "$\\displaystyle \\|f(x_{3})\\|_2 = 0.0034722222222214327$"
      ],
      "text/plain": [
       "<IPython.core.display.Math object>"
      ]
     },
     "metadata": {},
     "output_type": "display_data"
    },
    {
     "data": {
      "text/latex": [
       "$\\displaystyle \\|x_{3} - x_{2}\\|_2 = 0.05892556509887875$"
      ],
      "text/plain": [
       "<IPython.core.display.Math object>"
      ]
     },
     "metadata": {},
     "output_type": "display_data"
    },
    {
     "name": "stdout",
     "output_type": "stream",
     "text": [
      "\n",
      "ITERATION 4\n",
      "-------------------------------------\n"
     ]
    },
    {
     "data": {
      "text/latex": [
       "$\\displaystyle \\delta_{3} \\text{ ist die Lösung des LGS } Df(x_{3}) * \\delta_{3} = -1 * f(x_{3})$"
      ],
      "text/plain": [
       "<IPython.core.display.Math object>"
      ]
     },
     "metadata": {},
     "output_type": "display_data"
    },
    {
     "data": {
      "text/latex": [
       "$\\displaystyle \\left[\\begin{matrix}1.0 & 1.0\\\\2.58333333333333 & 5.41666666666667\\end{matrix}\\right]\\cdot\\delta_{3}=-1\\cdot\\left[\\begin{matrix}0\\\\0.00347222222222143\\end{matrix}\\right]$"
      ],
      "text/plain": [
       "<IPython.core.display.Math object>"
      ]
     },
     "metadata": {},
     "output_type": "display_data"
    },
    {
     "data": {
      "text/latex": [
       "$\\displaystyle \\delta_{3} = \\left[\\begin{matrix}0.00122549019607815\\\\-0.00122549019607815\\end{matrix}\\right]$"
      ],
      "text/plain": [
       "<IPython.core.display.Math object>"
      ]
     },
     "metadata": {},
     "output_type": "display_data"
    },
    {
     "name": "stdout",
     "output_type": "stream",
     "text": [
      "\n"
     ]
    },
    {
     "data": {
      "text/latex": [
       "$\\displaystyle x_{4} = x_{3} + \\delta_{3}$"
      ],
      "text/plain": [
       "<IPython.core.display.Math object>"
      ]
     },
     "metadata": {},
     "output_type": "display_data"
    },
    {
     "data": {
      "text/latex": [
       "$\\displaystyle x_{4} = \\left[\\begin{matrix}1.29289215686274\\\\2.70710784313726\\end{matrix}\\right]$"
      ],
      "text/plain": [
       "<IPython.core.display.Math object>"
      ]
     },
     "metadata": {},
     "output_type": "display_data"
    },
    {
     "data": {
      "text/latex": [
       "$\\displaystyle \\|f(x_{4})\\|_2 = 3.0036524414356336e-06$"
      ],
      "text/plain": [
       "<IPython.core.display.Math object>"
      ]
     },
     "metadata": {},
     "output_type": "display_data"
    },
    {
     "data": {
      "text/latex": [
       "$\\displaystyle \\|x_{4} - x_{3}\\|_2 = 0.001733104855849061$"
      ],
      "text/plain": [
       "<IPython.core.display.Math object>"
      ]
     },
     "metadata": {},
     "output_type": "display_data"
    },
    {
     "name": "stdout",
     "output_type": "stream",
     "text": [
      "\n",
      "ITERATION 5\n",
      "-------------------------------------\n"
     ]
    },
    {
     "data": {
      "text/latex": [
       "$\\displaystyle \\delta_{4} \\text{ ist die Lösung des LGS } Df(x_{4}) * \\delta_{4} = -1 * f(x_{4})$"
      ],
      "text/plain": [
       "<IPython.core.display.Math object>"
      ]
     },
     "metadata": {},
     "output_type": "display_data"
    },
    {
     "data": {
      "text/latex": [
       "$\\displaystyle \\left[\\begin{matrix}1.0 & 1.0\\\\2.58578431372549 & 5.41421568627451\\end{matrix}\\right]\\cdot\\delta_{4}=-1\\cdot\\left[\\begin{matrix}0\\\\3.00365244143563 \\cdot 10^{-6}\\end{matrix}\\right]$"
      ],
      "text/plain": [
       "<IPython.core.display.Math object>"
      ]
     },
     "metadata": {},
     "output_type": "display_data"
    },
    {
     "data": {
      "text/latex": [
       "$\\displaystyle \\delta_{4} = \\left[\\begin{matrix}1.06194990997031 \\cdot 10^{-6}\\\\-1.06194990997031 \\cdot 10^{-6}\\end{matrix}\\right]$"
      ],
      "text/plain": [
       "<IPython.core.display.Math object>"
      ]
     },
     "metadata": {},
     "output_type": "display_data"
    },
    {
     "name": "stdout",
     "output_type": "stream",
     "text": [
      "\n"
     ]
    },
    {
     "data": {
      "text/latex": [
       "$\\displaystyle x_{5} = x_{4} + \\delta_{4}$"
      ],
      "text/plain": [
       "<IPython.core.display.Math object>"
      ]
     },
     "metadata": {},
     "output_type": "display_data"
    },
    {
     "data": {
      "text/latex": [
       "$\\displaystyle x_{5} = \\left[\\begin{matrix}1.29289321881265\\\\2.70710678118735\\end{matrix}\\right]$"
      ],
      "text/plain": [
       "<IPython.core.display.Math object>"
      ]
     },
     "metadata": {},
     "output_type": "display_data"
    },
    {
     "data": {
      "text/latex": [
       "$\\displaystyle \\|f(x_{5})\\|_2 = 2.2577495428777183e-12$"
      ],
      "text/plain": [
       "<IPython.core.display.Math object>"
      ]
     },
     "metadata": {},
     "output_type": "display_data"
    },
    {
     "data": {
      "text/latex": [
       "$\\displaystyle \\|x_{5} - x_{4}\\|_2 = 1.5018239651377699e-06$"
      ],
      "text/plain": [
       "<IPython.core.display.Math object>"
      ]
     },
     "metadata": {},
     "output_type": "display_data"
    },
    {
     "name": "stdout",
     "output_type": "stream",
     "text": [
      "\n",
      "-------------------------------------\n",
      "\n"
     ]
    },
    {
     "data": {
      "text/latex": [
       "$\\displaystyle \\text{Die approximierten Werte sind: }\\left[\\begin{matrix}0 & 3.0\\\\1.0 & 3.0\\\\1.25 & 2.75\\\\1.29166666666667 & 2.70833333333333\\\\1.29289215686274 & 2.70710784313726\\\\1.29289321881265 & 2.70710678118735\\end{matrix}\\right]$"
      ],
      "text/plain": [
       "<IPython.core.display.Math object>"
      ]
     },
     "metadata": {},
     "output_type": "display_data"
    }
   ],
   "source": [
    "import numpy as np\n",
    "import sympy as sy\n",
    "from IPython.display import Math, display\n",
    "\n",
    "x1, x2, x3, x4, x5, x6, x7, x8, x9 = sy.symbols(\"x1, x2, x3, x4, x5, x6, x7, x8, x9\")\n",
    "\n",
    "\n",
    "# Abbruchkriterium a): Abbruch nach einer bestimmten Anzahl Iterationen\n",
    "def is_finished_max_iterations(f, x, n_max):\n",
    "    return x.shape[0] - 1 >= n_max\n",
    "\n",
    "\n",
    "# Abbruchkriterium b): Abbruch, wenn ‖x(n+1) - x(n)‖₂ ≤ ‖x(n+1)‖₂ * 𝛜\n",
    "def is_finished_relative_error(f, x, eps):\n",
    "    if x.shape[0] < 2:\n",
    "        return False\n",
    "    return np.linalg.norm(x[-1] - x[-2], 2) <= np.linalg.norm(x[-1], 2) * 1.0 * eps\n",
    "\n",
    "\n",
    "# Abbruchkriterium c): Abbruch, wenn ‖x(n+1) - x(n)‖₂ ≤ 𝛜\n",
    "def is_finished_absolute_error(f, x, eps):\n",
    "    if x.shape[0] < 2:\n",
    "        return False\n",
    "    return np.linalg.norm(x[-1] - x[-2], 2) <= 1.0 * eps\n",
    "\n",
    "\n",
    "# Abbruchkriterium d): Abbruch, wenn ‖f(x(n+1))‖₂ ≤ 𝛜\n",
    "def is_finished_max_residual(f, x, eps):\n",
    "    if x.shape[0] < 1:\n",
    "        return False\n",
    "    return np.linalg.norm(f(x[-1]), 2) <= 1.0 * eps\n",
    "\n",
    "\n",
    "\"\"\"\n",
    "=======================================================================================================================\n",
    "INPUT\n",
    "=======================================================================================================================\n",
    "\"\"\"\n",
    "x3 = 1\n",
    "# ACHTUNG: Für sinus/cosinus/Exponentialfunktion immer sy.sin/sy.cos/sy.exp/sy.ln/sy.abs verwenden!\n",
    "f = sy.Matrix([x3 * x1 + x2 - 4, x1**2 + x2**2 - 9])\n",
    "\n",
    "x = sy.Matrix([x1, x2])\n",
    "\n",
    "# Startwert\n",
    "x0 = np.array([0, 3])\n",
    "\n",
    "\n",
    "# Wähle das Abbruchkriterium (bei passender Zeile Kommentar entfernen):\n",
    "def is_finished(f, x):\n",
    "    # return is_finished_max_iterations(f, x, 1)      # Criterion a)\n",
    "    # return is_finished_relative_error(f, x, 1e-5)  # Criterion b)\n",
    "    return is_finished_absolute_error(f, x, 1e-3)  # Criterion c)\n",
    "    # return is_finished_max_residual(f, x, 1e-5)    # Criterion d)\n",
    "\n",
    "\n",
    "\"\"\"\n",
    "=======================================================================================================================\n",
    "\"\"\"\n",
    "\n",
    "display(\n",
    "    Math(\n",
    "        r\"\\text{Bilde die Jacobi-Matrix } Df(x) \\text{ für } f(x) = \"\n",
    "        + sy.latex(f)\n",
    "        + r\" \\text{ mit } x = \"\n",
    "        + sy.latex(x)\n",
    "    )\n",
    ")\n",
    "\n",
    "# Bilde die allgemeine Jacobi-Matrix\n",
    "Df = f.jacobian(x)\n",
    "\n",
    "display(Math(r\"\\text{Ganze Jacobi-Matrix: } Df = \" + sy.latex(Df)))\n",
    "\n",
    "# Sympy-Funktionen kompatibel mit Numpy machen\n",
    "f_lambda = sy.lambdify([x], f, \"numpy\")\n",
    "Df_lambda = sy.lambdify([x], Df, \"numpy\")\n",
    "\n",
    "# Newton-Iterationen\n",
    "x_approx = np.empty(\n",
    "    shape=(0, len(x)), dtype=np.float64\n",
    ")  # Array mit Lösungsvektoren x0 bis xn\n",
    "x_approx = np.append(x_approx, [x0], axis=0)  # Start-Vektor in Array einfügen\n",
    "display(Math(r\"x({0}) = \" + sy.latex(sy.Matrix(x0))))\n",
    "\n",
    "while not is_finished(f_lambda, x_approx):\n",
    "    i = x_approx.shape[0] - 1\n",
    "    print()\n",
    "    print(f\"ITERATION {i + 1}\")\n",
    "    print(\"-------------------------------------\")\n",
    "\n",
    "    x_n = x_approx[-1]  # x(n) (letzter berechneter Wert)\n",
    "\n",
    "    display(\n",
    "        Math(\n",
    "            r\"\\delta_{\"\n",
    "            + str(i)\n",
    "            + r\"} \\text{ ist die Lösung des LGS } Df(x_{\"\n",
    "            + str(i)\n",
    "            + r\"}) * \\delta_{\"\n",
    "            + str(i)\n",
    "            + r\"} = -1 * f(x_{\"\n",
    "            + str(i)\n",
    "            + r\"})\"\n",
    "        )\n",
    "    )\n",
    "    display(\n",
    "        Math(\n",
    "            sy.latex(sy.Matrix(Df_lambda(x_n)))\n",
    "            + \"\\\\cdot\\\\delta_{\"\n",
    "            + str(i)\n",
    "            + \"}=-1\\\\cdot\"\n",
    "            + sy.latex(sy.Matrix(f_lambda(x_n)))\n",
    "        )\n",
    "    )\n",
    "\n",
    "    Q, R = np.linalg.qr(Df_lambda(x_n))\n",
    "    delta = np.linalg.solve(\n",
    "        R, -Q.T @ f_lambda(x_n)\n",
    "    ).flatten()  # 𝛅(n) aus Df(x(n)) * 𝛅(n) = -1 * f(x(n))\n",
    "    display(Math(r\"\\delta_{\" + str(i) + r\"} = \" + sy.latex(sy.Matrix(delta))))\n",
    "\n",
    "    x_next = x_n + delta.reshape(\n",
    "        x0.shape[0],\n",
    "    )  # x(n+1) = x(n) + 𝛅(n)\n",
    "\n",
    "    print()\n",
    "    display(\n",
    "        Math(\n",
    "            r\"x_{\" + str(i + 1) + r\"} = x_{\" + str(i) + r\"} + \\delta_{\" + str(i) + r\"}\"\n",
    "        )\n",
    "    )\n",
    "    display(Math(r\"x_{\" + str(i + 1) + r\"} = \" + sy.latex(sy.Matrix(x_next))))\n",
    "    display(\n",
    "        Math(\n",
    "            r\"\\|f(x_{\"\n",
    "            + str(i + 1)\n",
    "            + r\"})\\|_2 = \"\n",
    "            + str(np.linalg.norm(f_lambda(x_next), 2))\n",
    "        )\n",
    "    )\n",
    "    display(\n",
    "        Math(\n",
    "            r\"\\|x_{\"\n",
    "            + str(i + 1)\n",
    "            + r\"} - x_{\"\n",
    "            + str(i)\n",
    "            + r\"}\\|_2 = \"\n",
    "            + str(np.linalg.norm(x_next - x_n, 2))\n",
    "        )\n",
    "    )\n",
    "\n",
    "    x_approx = np.append(x_approx, [x_next], axis=0)\n",
    "\n",
    "print()\n",
    "print(\"-------------------------------------\")\n",
    "print()\n",
    "\n",
    "display(Math(r\"\\text{Die approximierten Werte sind: }\" + sy.latex(sy.Matrix(x_approx))))\n"
   ]
  }
 ],
 "metadata": {
  "kernelspec": {
   "display_name": "base",
   "language": "python",
   "name": "python3"
  },
  "language_info": {
   "codemirror_mode": {
    "name": "ipython",
    "version": 3
   },
   "file_extension": ".py",
   "mimetype": "text/x-python",
   "name": "python",
   "nbconvert_exporter": "python",
   "pygments_lexer": "ipython3",
   "version": "3.12.2"
  }
 },
 "nbformat": 4,
 "nbformat_minor": 2
}
