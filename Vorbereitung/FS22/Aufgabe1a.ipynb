{
 "cells": [
  {
   "cell_type": "code",
   "execution_count": 1,
   "metadata": {},
   "outputs": [
    {
     "data": {
      "text/latex": [
       "$\\displaystyle \\text{Bilde die Jacobi-Matrix } Df(x) \\text{ für } f(x) = \\left[\\begin{matrix}x_{1} x_{3} + x_{2} - 4\\\\x_{1}^{2} + x_{2}^{2} - 9\\end{matrix}\\right] \\text{ mit } x = \\left[\\begin{matrix}x_{1}\\\\x_{2}\\end{matrix}\\right]$"
      ],
      "text/plain": [
       "<IPython.core.display.Math object>"
      ]
     },
     "metadata": {},
     "output_type": "display_data"
    },
    {
     "data": {
      "text/latex": [
       "$\\displaystyle \\text{Ganze Jacobi-Matrix: } Df = \\left[\\begin{matrix}x_{3} & 1\\\\2 x_{1} & 2 x_{2}\\end{matrix}\\right]$"
      ],
      "text/plain": [
       "<IPython.core.display.Math object>"
      ]
     },
     "metadata": {},
     "output_type": "display_data"
    },
    {
     "data": {
      "text/latex": [
       "$\\displaystyle x({0}) = \\left[\\begin{matrix}0\\\\3\\end{matrix}\\right]$"
      ],
      "text/plain": [
       "<IPython.core.display.Math object>"
      ]
     },
     "metadata": {},
     "output_type": "display_data"
    },
    {
     "name": "stdout",
     "output_type": "stream",
     "text": [
      "\n",
      "ITERATION 1\n",
      "-------------------------------------\n"
     ]
    },
    {
     "data": {
      "text/latex": [
       "$\\displaystyle \\delta_{0} \\text{ ist die Lösung des LGS } Df(x_{0}) * \\delta_{0} = -1 * f(x_{0})$"
      ],
      "text/plain": [
       "<IPython.core.display.Math object>"
      ]
     },
     "metadata": {},
     "output_type": "display_data"
    },
    {
     "data": {
      "text/latex": [
       "$\\displaystyle \\left[\\begin{matrix}x_{3} & 1\\\\0 & 6.0\\end{matrix}\\right]\\cdot\\delta_{0}=-1\\cdot\\left[\\begin{matrix}-1.0\\\\0\\end{matrix}\\right]$"
      ],
      "text/plain": [
       "<IPython.core.display.Math object>"
      ]
     },
     "metadata": {},
     "output_type": "display_data"
    },
    {
     "ename": "TypeError",
     "evalue": "Cannot convert expression to float",
     "output_type": "error",
     "traceback": [
      "\u001b[0;31m---------------------------------------------------------------------------\u001b[0m",
      "\u001b[0;31mTypeError\u001b[0m                                 Traceback (most recent call last)",
      "Cell \u001b[0;32mIn[1], line 84\u001b[0m\n\u001b[1;32m     81\u001b[0m display(Math(\u001b[38;5;124mr\u001b[39m\u001b[38;5;124m'\u001b[39m\u001b[38;5;124m\\\u001b[39m\u001b[38;5;124mdelta_\u001b[39m\u001b[38;5;124m{\u001b[39m\u001b[38;5;124m'\u001b[39m \u001b[38;5;241m+\u001b[39m \u001b[38;5;28mstr\u001b[39m(i) \u001b[38;5;241m+\u001b[39m \u001b[38;5;124mr\u001b[39m\u001b[38;5;124m'\u001b[39m\u001b[38;5;124m} \u001b[39m\u001b[38;5;124m\\\u001b[39m\u001b[38;5;124mtext\u001b[39m\u001b[38;5;124m{\u001b[39m\u001b[38;5;124m ist die Lösung des LGS } Df(x_\u001b[39m\u001b[38;5;124m{\u001b[39m\u001b[38;5;124m'\u001b[39m \u001b[38;5;241m+\u001b[39m \u001b[38;5;28mstr\u001b[39m(i) \u001b[38;5;241m+\u001b[39m \u001b[38;5;124mr\u001b[39m\u001b[38;5;124m'\u001b[39m\u001b[38;5;124m}) * \u001b[39m\u001b[38;5;124m\\\u001b[39m\u001b[38;5;124mdelta_\u001b[39m\u001b[38;5;124m{\u001b[39m\u001b[38;5;124m'\u001b[39m \u001b[38;5;241m+\u001b[39m \u001b[38;5;28mstr\u001b[39m(i) \u001b[38;5;241m+\u001b[39m \u001b[38;5;124mr\u001b[39m\u001b[38;5;124m'\u001b[39m\u001b[38;5;124m} = -1 * f(x_\u001b[39m\u001b[38;5;124m{\u001b[39m\u001b[38;5;124m'\u001b[39m \u001b[38;5;241m+\u001b[39m \u001b[38;5;28mstr\u001b[39m(i) \u001b[38;5;241m+\u001b[39m \u001b[38;5;124mr\u001b[39m\u001b[38;5;124m'\u001b[39m\u001b[38;5;124m})\u001b[39m\u001b[38;5;124m'\u001b[39m))\n\u001b[1;32m     82\u001b[0m display(Math(sy\u001b[38;5;241m.\u001b[39mlatex(sy\u001b[38;5;241m.\u001b[39mMatrix(Df_lambda(x_n))) \u001b[38;5;241m+\u001b[39m \u001b[38;5;124m'\u001b[39m\u001b[38;5;130;01m\\\\\u001b[39;00m\u001b[38;5;124mcdot\u001b[39m\u001b[38;5;130;01m\\\\\u001b[39;00m\u001b[38;5;124mdelta_\u001b[39m\u001b[38;5;124m{\u001b[39m\u001b[38;5;124m'\u001b[39m \u001b[38;5;241m+\u001b[39m \u001b[38;5;28mstr\u001b[39m(i) \u001b[38;5;241m+\u001b[39m \u001b[38;5;124m'\u001b[39m\u001b[38;5;124m}=-1\u001b[39m\u001b[38;5;130;01m\\\\\u001b[39;00m\u001b[38;5;124mcdot\u001b[39m\u001b[38;5;124m'\u001b[39m \u001b[38;5;241m+\u001b[39m sy\u001b[38;5;241m.\u001b[39mlatex(sy\u001b[38;5;241m.\u001b[39mMatrix(f_lambda(x_n)))))\n\u001b[0;32m---> 84\u001b[0m Q, R \u001b[38;5;241m=\u001b[39m \u001b[43mnp\u001b[49m\u001b[38;5;241;43m.\u001b[39;49m\u001b[43mlinalg\u001b[49m\u001b[38;5;241;43m.\u001b[39;49m\u001b[43mqr\u001b[49m\u001b[43m(\u001b[49m\u001b[43mDf_lambda\u001b[49m\u001b[43m(\u001b[49m\u001b[43mx_n\u001b[49m\u001b[43m)\u001b[49m\u001b[43m)\u001b[49m\n\u001b[1;32m     85\u001b[0m delta \u001b[38;5;241m=\u001b[39m np\u001b[38;5;241m.\u001b[39mlinalg\u001b[38;5;241m.\u001b[39msolve(R, \u001b[38;5;241m-\u001b[39mQ\u001b[38;5;241m.\u001b[39mT \u001b[38;5;241m@\u001b[39m f_lambda(x_n))\u001b[38;5;241m.\u001b[39mflatten()  \u001b[38;5;66;03m# 𝛅(n) aus Df(x(n)) * 𝛅(n) = -1 * f(x(n))\u001b[39;00m\n\u001b[1;32m     86\u001b[0m display(Math(\u001b[38;5;124mr\u001b[39m\u001b[38;5;124m'\u001b[39m\u001b[38;5;124m\\\u001b[39m\u001b[38;5;124mdelta_\u001b[39m\u001b[38;5;124m{\u001b[39m\u001b[38;5;124m'\u001b[39m \u001b[38;5;241m+\u001b[39m \u001b[38;5;28mstr\u001b[39m(i) \u001b[38;5;241m+\u001b[39m \u001b[38;5;124mr\u001b[39m\u001b[38;5;124m'\u001b[39m\u001b[38;5;124m} = \u001b[39m\u001b[38;5;124m'\u001b[39m \u001b[38;5;241m+\u001b[39m sy\u001b[38;5;241m.\u001b[39mlatex(sy\u001b[38;5;241m.\u001b[39mMatrix(delta))))\n",
      "File \u001b[0;32m/opt/homebrew/Caskroom/miniconda/base/lib/python3.12/site-packages/numpy/linalg/linalg.py:941\u001b[0m, in \u001b[0;36mqr\u001b[0;34m(a, mode)\u001b[0m\n\u001b[1;32m    939\u001b[0m m, n \u001b[38;5;241m=\u001b[39m a\u001b[38;5;241m.\u001b[39mshape[\u001b[38;5;241m-\u001b[39m\u001b[38;5;241m2\u001b[39m:]\n\u001b[1;32m    940\u001b[0m t, result_t \u001b[38;5;241m=\u001b[39m _commonType(a)\n\u001b[0;32m--> 941\u001b[0m a \u001b[38;5;241m=\u001b[39m \u001b[43ma\u001b[49m\u001b[38;5;241;43m.\u001b[39;49m\u001b[43mastype\u001b[49m\u001b[43m(\u001b[49m\u001b[43mt\u001b[49m\u001b[43m,\u001b[49m\u001b[43m \u001b[49m\u001b[43mcopy\u001b[49m\u001b[38;5;241;43m=\u001b[39;49m\u001b[38;5;28;43;01mTrue\u001b[39;49;00m\u001b[43m)\u001b[49m\n\u001b[1;32m    942\u001b[0m a \u001b[38;5;241m=\u001b[39m _to_native_byte_order(a)\n\u001b[1;32m    943\u001b[0m mn \u001b[38;5;241m=\u001b[39m \u001b[38;5;28mmin\u001b[39m(m, n)\n",
      "File \u001b[0;32m/opt/homebrew/Caskroom/miniconda/base/lib/python3.12/site-packages/sympy/core/expr.py:351\u001b[0m, in \u001b[0;36mExpr.__float__\u001b[0;34m(self)\u001b[0m\n\u001b[1;32m    349\u001b[0m \u001b[38;5;28;01mif\u001b[39;00m result\u001b[38;5;241m.\u001b[39mis_number \u001b[38;5;129;01mand\u001b[39;00m result\u001b[38;5;241m.\u001b[39mas_real_imag()[\u001b[38;5;241m1\u001b[39m]:\n\u001b[1;32m    350\u001b[0m     \u001b[38;5;28;01mraise\u001b[39;00m \u001b[38;5;167;01mTypeError\u001b[39;00m(\u001b[38;5;124m\"\u001b[39m\u001b[38;5;124mCannot convert complex to float\u001b[39m\u001b[38;5;124m\"\u001b[39m)\n\u001b[0;32m--> 351\u001b[0m \u001b[38;5;28;01mraise\u001b[39;00m \u001b[38;5;167;01mTypeError\u001b[39;00m(\u001b[38;5;124m\"\u001b[39m\u001b[38;5;124mCannot convert expression to float\u001b[39m\u001b[38;5;124m\"\u001b[39m)\n",
      "\u001b[0;31mTypeError\u001b[0m: Cannot convert expression to float"
     ]
    }
   ],
   "source": [
    "from IPython.display import display, Math\n",
    "import sympy as sy\n",
    "import numpy as np\n",
    "\n",
    "x1, x2, x3, x4, x5, x6, x7, x8, x9 = sy.symbols('x1, x2, x3, x4, x5, x6, x7, x8, x9')\n",
    "\n",
    "# Abbruchkriterium a): Abbruch nach einer bestimmten Anzahl Iterationen\n",
    "def is_finished_max_iterations(f, x, n_max):\n",
    "    return x.shape[0] - 1 >= n_max\n",
    "\n",
    "# Abbruchkriterium b): Abbruch, wenn ‖x(n+1) - x(n)‖₂ ≤ ‖x(n+1)‖₂ * 𝛜\n",
    "def is_finished_relative_error(f, x, eps):\n",
    "    if x.shape[0] < 2:\n",
    "        return False\n",
    "    return np.linalg.norm(x[-1] - x[-2], 2) <= np.linalg.norm(x[-1], 2) * 1.0 * eps\n",
    "\n",
    "# Abbruchkriterium c): Abbruch, wenn ‖x(n+1) - x(n)‖₂ ≤ 𝛜\n",
    "def is_finished_absolute_error(f, x, eps):\n",
    "    if x.shape[0] < 2:\n",
    "        return False\n",
    "    return np.linalg.norm(x[-1] - x[-2], 2) <= 1.0 * eps\n",
    "\n",
    "# Abbruchkriterium d): Abbruch, wenn ‖f(x(n+1))‖₂ ≤ 𝛜\n",
    "def is_finished_max_residual(f, x, eps):\n",
    "    if x.shape[0] < 1:\n",
    "        return False\n",
    "    return np.linalg.norm(f(x[-1]), 2) <= 1.0 * eps\n",
    "\n",
    "\"\"\"\n",
    "=======================================================================================================================\n",
    "INPUT\n",
    "=======================================================================================================================\n",
    "\"\"\"\n",
    "\n",
    "# ACHTUNG: Für sinus/cosinus/Exponentialfunktion immer sy.sin/sy.cos/sy.exp/sy.ln/sy.abs verwenden!\n",
    "f = sy.Matrix([\n",
    "    x3 * x1 + x2 -4,\n",
    "    x1 ** 2 + x2 ** 2 - 9\n",
    "])\n",
    "\n",
    "x = sy.Matrix([x1, x2])\n",
    "\n",
    " # Startwert\n",
    "x0 = np.array([0, 3])\n",
    "\n",
    "# Wähle das Abbruchkriterium (bei passender Zeile Kommentar entfernen):\n",
    "def is_finished(f, x):\n",
    "    return is_finished_max_iterations(f, x, 1)      # Criterion a)\n",
    "    # return is_finished_relative_error(f, x, 1e-5)  # Criterion b)\n",
    "    # return is_finished_absolute_error(f, x, 1e-5)  # Criterion c)\n",
    "    # return is_finished_max_residual(f, x, 1e-5)    # Criterion d)\n",
    "\n",
    "\"\"\"\n",
    "=======================================================================================================================\n",
    "\"\"\"\n",
    "\n",
    "display(Math(r'\\text{Bilde die Jacobi-Matrix } Df(x) \\text{ für } f(x) = ' + sy.latex(f) + r' \\text{ mit } x = ' + sy.latex(x)))\n",
    "\n",
    "# Bilde die allgemeine Jacobi-Matrix\n",
    "Df = f.jacobian(x)\n",
    "\n",
    "display(Math(r'\\text{Ganze Jacobi-Matrix: } Df = ' + sy.latex(Df)))\n",
    "\n",
    "# Sympy-Funktionen kompatibel mit Numpy machen\n",
    "f_lambda = sy.lambdify([x], f, \"numpy\")\n",
    "Df_lambda = sy.lambdify([x], Df, \"numpy\")\n",
    "\n",
    "# Newton-Iterationen\n",
    "x_approx = np.empty(shape=(0, len(x)), dtype=np.float64) # Array mit Lösungsvektoren x0 bis xn\n",
    "x_approx = np.append(x_approx, [x0], axis=0) # Start-Vektor in Array einfügen\n",
    "display(Math(r'x({0}) = ' + sy.latex(sy.Matrix(x0))))\n",
    "\n",
    "while not is_finished(f_lambda, x_approx):\n",
    "    i = x_approx.shape[0] - 1\n",
    "    print()\n",
    "    print(f'ITERATION {i + 1}')\n",
    "    print('-------------------------------------')\n",
    "\n",
    "    x_n = x_approx[-1] # x(n) (letzter berechneter Wert)\n",
    "\n",
    "    display(Math(r'\\delta_{' + str(i) + r'} \\text{ ist die Lösung des LGS } Df(x_{' + str(i) + r'}) * \\delta_{' + str(i) + r'} = -1 * f(x_{' + str(i) + r'})'))\n",
    "    display(Math(sy.latex(sy.Matrix(Df_lambda(x_n))) + '\\\\cdot\\\\delta_{' + str(i) + '}=-1\\\\cdot' + sy.latex(sy.Matrix(f_lambda(x_n)))))\n",
    "\n",
    "    Q, R = np.linalg.qr(Df_lambda(x_n))\n",
    "    delta = np.linalg.solve(R, -Q.T @ f_lambda(x_n)).flatten()  # 𝛅(n) aus Df(x(n)) * 𝛅(n) = -1 * f(x(n))\n",
    "    display(Math(r'\\delta_{' + str(i) + r'} = ' + sy.latex(sy.Matrix(delta))))\n",
    "\n",
    "    x_next = x_n + delta.reshape(x0.shape[0], )  # x(n+1) = x(n) + 𝛅(n)\n",
    "\n",
    "    print()\n",
    "    display(Math(r'x_{' + str(i + 1) + r'} = x_{' + str(i) + r'} + \\delta_{' + str(i) + r'}'))\n",
    "    display(Math(r'x_{' + str(i + 1) + r'} = ' + sy.latex(sy.Matrix(x_next))))\n",
    "    display(Math(r'\\|f(x_{' + str(i + 1) + r'})\\|_2 = ' + str(np.linalg.norm(f_lambda(x_next), 2))))\n",
    "    display(Math(r'\\|x_{' + str(i + 1) + r'} - x_{' + str(i) + r'}\\|_2 = ' + str(np.linalg.norm(x_next - x_n, 2))))\n",
    "\n",
    "    x_approx = np.append(x_approx, [x_next], axis=0)\n",
    "\n",
    "print()\n",
    "print('-------------------------------------')\n",
    "print()\n",
    "\n",
    "display(Math(r'\\text{Die approximierten Werte sind: }' + sy.latex(sy.Matrix(x_approx))))"
   ]
  }
 ],
 "metadata": {
  "kernelspec": {
   "display_name": "base",
   "language": "python",
   "name": "python3"
  },
  "language_info": {
   "codemirror_mode": {
    "name": "ipython",
    "version": 3
   },
   "file_extension": ".py",
   "mimetype": "text/x-python",
   "name": "python",
   "nbconvert_exporter": "python",
   "pygments_lexer": "ipython3",
   "version": "3.12.2"
  }
 },
 "nbformat": 4,
 "nbformat_minor": 2
}
