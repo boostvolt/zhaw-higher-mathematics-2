{
 "cells": [
  {
   "cell_type": "code",
   "execution_count": 4,
   "metadata": {},
   "outputs": [
    {
     "data": {
      "text/latex": [
       "$\\displaystyle \\text{1. Berechne die Tj0 mit der Trapezregel:}$"
      ],
      "text/plain": [
       "<IPython.core.display.Math object>"
      ]
     },
     "metadata": {},
     "output_type": "display_data"
    },
    {
     "data": {
      "text/latex": [
       "$\\displaystyle \\text{----------------------------------------}$"
      ],
      "text/plain": [
       "<IPython.core.display.Math object>"
      ]
     },
     "metadata": {},
     "output_type": "display_data"
    },
    {
     "data": {
      "text/latex": [
       "$\\displaystyle \\text{{Startwert a = }}0$"
      ],
      "text/plain": [
       "<IPython.core.display.Math object>"
      ]
     },
     "metadata": {},
     "output_type": "display_data"
    },
    {
     "data": {
      "text/latex": [
       "$\\displaystyle \\text{{Endwert b = }}4$"
      ],
      "text/plain": [
       "<IPython.core.display.Math object>"
      ]
     },
     "metadata": {},
     "output_type": "display_data"
    },
    {
     "data": {
      "text/latex": [
       "$\\displaystyle \\text{{Schrittweite h = (}}4 - 0) / 1 = 4.0$"
      ],
      "text/plain": [
       "<IPython.core.display.Math object>"
      ]
     },
     "metadata": {},
     "output_type": "display_data"
    },
    {
     "data": {
      "text/latex": [
       "$\\displaystyle x_i = $"
      ],
      "text/plain": [
       "<IPython.core.display.Math object>"
      ]
     },
     "metadata": {},
     "output_type": "display_data"
    },
    {
     "data": {
      "text/latex": [
       "$\\displaystyle T_{0,0} = h \\times \\left(\\frac{f(a) + f(b)}{2} + \\sum_{i=1}^0 f(x_i)\\right) = 176.000000000000$"
      ],
      "text/plain": [
       "<IPython.core.display.Math object>"
      ]
     },
     "metadata": {},
     "output_type": "display_data"
    },
    {
     "name": "stdout",
     "output_type": "stream",
     "text": [
      "\n"
     ]
    },
    {
     "data": {
      "text/latex": [
       "$\\displaystyle \\text{{Startwert a = }}0$"
      ],
      "text/plain": [
       "<IPython.core.display.Math object>"
      ]
     },
     "metadata": {},
     "output_type": "display_data"
    },
    {
     "data": {
      "text/latex": [
       "$\\displaystyle \\text{{Endwert b = }}4$"
      ],
      "text/plain": [
       "<IPython.core.display.Math object>"
      ]
     },
     "metadata": {},
     "output_type": "display_data"
    },
    {
     "data": {
      "text/latex": [
       "$\\displaystyle \\text{{Schrittweite h = (}}4 - 0) / 2 = 2.0$"
      ],
      "text/plain": [
       "<IPython.core.display.Math object>"
      ]
     },
     "metadata": {},
     "output_type": "display_data"
    },
    {
     "data": {
      "text/latex": [
       "$\\displaystyle x_i = 2$"
      ],
      "text/plain": [
       "<IPython.core.display.Math object>"
      ]
     },
     "metadata": {},
     "output_type": "display_data"
    },
    {
     "data": {
      "text/latex": [
       "$\\displaystyle T_{1,0} = h \\times \\left(\\frac{f(a) + f(b)}{2} + \\sum_{i=1}^1 f(x_i)\\right) = 128.000000000000$"
      ],
      "text/plain": [
       "<IPython.core.display.Math object>"
      ]
     },
     "metadata": {},
     "output_type": "display_data"
    },
    {
     "name": "stdout",
     "output_type": "stream",
     "text": [
      "\n"
     ]
    },
    {
     "data": {
      "text/latex": [
       "$\\displaystyle \\text{{Startwert a = }}0$"
      ],
      "text/plain": [
       "<IPython.core.display.Math object>"
      ]
     },
     "metadata": {},
     "output_type": "display_data"
    },
    {
     "data": {
      "text/latex": [
       "$\\displaystyle \\text{{Endwert b = }}4$"
      ],
      "text/plain": [
       "<IPython.core.display.Math object>"
      ]
     },
     "metadata": {},
     "output_type": "display_data"
    },
    {
     "data": {
      "text/latex": [
       "$\\displaystyle \\text{{Schrittweite h = (}}4 - 0) / 4 = 1.0$"
      ],
      "text/plain": [
       "<IPython.core.display.Math object>"
      ]
     },
     "metadata": {},
     "output_type": "display_data"
    },
    {
     "data": {
      "text/latex": [
       "$\\displaystyle x_i = 1, 2, 3$"
      ],
      "text/plain": [
       "<IPython.core.display.Math object>"
      ]
     },
     "metadata": {},
     "output_type": "display_data"
    },
    {
     "data": {
      "text/latex": [
       "$\\displaystyle T_{2,0} = h \\times \\left(\\frac{f(a) + f(b)}{2} + \\sum_{i=1}^3 f(x_i)\\right) = 116.000000000000$"
      ],
      "text/plain": [
       "<IPython.core.display.Math object>"
      ]
     },
     "metadata": {},
     "output_type": "display_data"
    },
    {
     "name": "stdout",
     "output_type": "stream",
     "text": [
      "\n"
     ]
    },
    {
     "data": {
      "text/latex": [
       "$\\displaystyle \\text{2. Berechne die Tjk aus den Tj0:}$"
      ],
      "text/plain": [
       "<IPython.core.display.Math object>"
      ]
     },
     "metadata": {},
     "output_type": "display_data"
    },
    {
     "data": {
      "text/latex": [
       "$\\displaystyle \\text{--------------------------------}$"
      ],
      "text/plain": [
       "<IPython.core.display.Math object>"
      ]
     },
     "metadata": {},
     "output_type": "display_data"
    },
    {
     "data": {
      "text/latex": [
       "$\\displaystyle T_{0,1} = \\frac{4^{1} \\cdot T_{1,0} - T_{0,0}}{4^{1} - 1} = 112.000000000000$"
      ],
      "text/plain": [
       "<IPython.core.display.Math object>"
      ]
     },
     "metadata": {},
     "output_type": "display_data"
    },
    {
     "data": {
      "text/latex": [
       "$\\displaystyle T_{1,1} = \\frac{4^{1} \\cdot T_{2,0} - T_{1,0}}{4^{1} - 1} = 112.000000000000$"
      ],
      "text/plain": [
       "<IPython.core.display.Math object>"
      ]
     },
     "metadata": {},
     "output_type": "display_data"
    },
    {
     "data": {
      "text/latex": [
       "$\\displaystyle T_{0,2} = \\frac{4^{2} \\cdot T_{1,1} - T_{0,1}}{4^{2} - 1} = 112.000000000000$"
      ],
      "text/plain": [
       "<IPython.core.display.Math object>"
      ]
     },
     "metadata": {},
     "output_type": "display_data"
    },
    {
     "data": {
      "text/latex": [
       "$\\displaystyle \\text{Das Integral der Funktion }6 x^{2} - 2 x\\text{ im Intervall } [0,4] \\text{ mittels Romberg-Extrapolation ist: }112.0$"
      ],
      "text/plain": [
       "<IPython.core.display.Math object>"
      ]
     },
     "metadata": {},
     "output_type": "display_data"
    }
   ],
   "source": [
    "from IPython.display import display, Math\n",
    "import sympy as sy\n",
    "import numpy as np\n",
    "\n",
    "# Definition der Funktion Tf, die die Trapezsumme berechnet\n",
    "def Tf(f, a, b, n, j):\n",
    "    display(Math(r'\\text{{Startwert a = }}' + str(a)))\n",
    "    display(Math(r'\\text{{Endwert b = }}' + str(b)))\n",
    "    \n",
    "    '''----------INPUT----------'''\n",
    "    # Schritweite h definieren\n",
    "    h = (b - a) / 2**j\n",
    "    '''----------INPUT----------'''\n",
    "\n",
    "    display(Math(r'\\text{{Schrittweite h = (}}' + str(b) + r' - ' + str(a) + r') / ' + str(n) + r' = ' + str(h)))\n",
    "    \n",
    "    xi = np.array([a + i * h for i in range(1, n)], dtype=np.float64)\n",
    "    display(Math(r'x_i = ' + ', '.join(map(str, xi)).replace('.0', '')))\n",
    "    \n",
    "    T = h * ((f(a) + f(b)) / 2 + np.sum(f(xi)))\n",
    "    display(Math(r'T_{{{:d},0}} = h \\times \\left(\\frac{{f(a) + f(b)}}{{2}} + \\sum_{{i=1}}^{:d} f(x_i)\\right) = {:.12f}'.format(j, n - 1, T)))\n",
    "    print()\n",
    "    \n",
    "    return T\n",
    "\n",
    "# Definition der Funktion romberg_extrapolate, die die Romberg-Extrapolation durchführt\n",
    "def romberg_extrapolate(f_sympy, a, b, j_max):\n",
    "    f = sy.lambdify(x, f_sympy, \"numpy\")\n",
    "    T = np.zeros((j_max + 1, j_max + 1), dtype=np.float64)\n",
    "    \n",
    "    display(Math(r'\\text{1. Berechne die Tj0 mit der Trapezregel:}'))\n",
    "    display(Math(r'\\text{----------------------------------------}'))\n",
    "    for j in range(j_max + 1):\n",
    "        T[j, 0] = Tf(f, a, b, 2 ** j, j)\n",
    "    \n",
    "    display(Math(r'\\text{2. Berechne die Tjk aus den Tj0:}'))\n",
    "    display(Math(r'\\text{--------------------------------}'))\n",
    "    for k in range(1, j_max + 1):\n",
    "        for j in range(j_max + 1 - k):\n",
    "            T[j, k] = (4**k * T[j + 1, k - 1] - T[j, k - 1]) / (4**k - 1)\n",
    "            display(Math(r'T_{{{:d},{:d}}} = \\frac{{4^{{{:d}}} \\cdot T_{{{:d},{:d}}} - T_{{{:d},{:d}}}}}{{4^{{{:d}}} - 1}} = {:.12f}'.format(j, k, k, j+1, k-1, j, k-1, k, T[j, k])))\n",
    "    \n",
    "    return T[0, j_max]\n",
    "\n",
    "'''----------INPUT----------'''\n",
    "# Definition der zu integrierenden Funktion als Sympy-Ausdruck\n",
    "x = sy.symbols('x')\n",
    "f_sympy = 6 * x ** 2 - 2 * x\n",
    "\n",
    "# Start- und End-Intervall sowie grösstes J festlegen\n",
    "a = 0\n",
    "b = 4\n",
    "j_max = 2\n",
    "'''----------INPUT----------'''\n",
    "\n",
    "# Durchführung der Romberg-Extrapolation\n",
    "T = romberg_extrapolate(f_sympy, a, b, j_max)\n",
    "\n",
    "# Ausgabe\n",
    "display(Math(r'\\text{Das Integral der Funktion }' + sy.latex(f_sympy) + r'\\text{ im Intervall } [' + str(a) + ',' + str(b) + r'] \\text{ mittels Romberg-Extrapolation ist: }' + str(T)))"
   ]
  }
 ],
 "metadata": {
  "kernelspec": {
   "display_name": "base",
   "language": "python",
   "name": "python3"
  },
  "language_info": {
   "codemirror_mode": {
    "name": "ipython",
    "version": 3
   },
   "file_extension": ".py",
   "mimetype": "text/x-python",
   "name": "python",
   "nbconvert_exporter": "python",
   "pygments_lexer": "ipython3",
   "version": "3.12.2"
  }
 },
 "nbformat": 4,
 "nbformat_minor": 2
}
