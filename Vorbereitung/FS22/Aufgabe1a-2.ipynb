{
 "cells": [
  {
   "cell_type": "code",
   "execution_count": null,
   "metadata": {},
   "outputs": [],
   "source": [
    "from sympy import symbols, Matrix, linsolve\n",
    "from IPython.display import display\n",
    "\n",
    "a, x, y = symbols('a x y')\n",
    "\n",
    "# Definiere die Matrix und den Vektor\n",
    "Df = Matrix([[a, 1], [0, 6]])\n",
    "f = Matrix([-1, 0])\n",
    "\n",
    "# Multipliziere den Vektor f mit -1\n",
    "# ACHTUNG: Wird hier gebraucht weil wir vom Newton Verfahren ausgehen\n",
    "f = -1 * f\n",
    "\n",
    "solution = linsolve((Df, f), symbols('delta0:2'))\n",
    "\n",
    "display(solution)"
   ]
  }
 ],
 "metadata": {
  "kernelspec": {
   "display_name": "base",
   "language": "python",
   "name": "python3"
  },
  "language_info": {
   "name": "python",
   "version": "3.12.2"
  }
 },
 "nbformat": 4,
 "nbformat_minor": 2
}
