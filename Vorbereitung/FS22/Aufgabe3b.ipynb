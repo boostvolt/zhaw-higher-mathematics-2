{
 "cells": [
  {
   "cell_type": "code",
   "execution_count": 8,
   "metadata": {},
   "outputs": [
    {
     "data": {
      "text/latex": [
       "$\\displaystyle \\text{Iteration: } 1$"
      ],
      "text/plain": [
       "<IPython.core.display.Math object>"
      ]
     },
     "metadata": {},
     "output_type": "display_data"
    },
    {
     "data": {
      "text/latex": [
       "$\\displaystyle \\text{{QR-Zerlegung von }} Dg(\\lambda_{0}) = Q_0 \\cdot R_0:$"
      ],
      "text/plain": [
       "<IPython.core.display.Math object>"
      ]
     },
     "metadata": {},
     "output_type": "display_data"
    },
    {
     "data": {
      "text/latex": [
       "$\\displaystyle \\text{{Q}}_0= \\left[\\begin{matrix}-0.101045747902065 & -0.199234423190965 & 0.395956836787454\\\\-0.219173918993805 & -0.334715791813266 & 0.479086569614665\\\\-0.407737874560386 & -0.422865798371582 & 0.249588871475356\\\\-0.575120960411358 & -0.250230231475244 & -0.328165919992477\\\\-0.554647863339939 & 0.245295320235891 & -0.439064603259746\\\\-0.370275578860862 & 0.739371717757965 & 0.500928179055279\\end{matrix}\\right]$"
      ],
      "text/plain": [
       "<IPython.core.display.Math object>"
      ]
     },
     "metadata": {},
     "output_type": "display_data"
    },
    {
     "data": {
      "text/latex": [
       "$\\displaystyle \\text{{R}}_0= \\left[\\begin{matrix}9.89650748064343 & 1.80426948988836 & 559834.100919438\\\\0 & -0.915071588045305 & -180966.053409729\\\\0 & 0 & 51809.1525497861\\end{matrix}\\right]$"
      ],
      "text/plain": [
       "<IPython.core.display.Math object>"
      ]
     },
     "metadata": {},
     "output_type": "display_data"
    },
    {
     "data": {
      "text/latex": [
       "$\\displaystyle Dg(\\lambda_{0}) = \\left[\\begin{matrix}-1.0 & 0 & 0\\\\-2.16905632888412 & -0.0891599038613763 & -37307.7688568069\\\\-4.03518092572851 & -0.3487165292953 & -138810.223845061\\\\-5.69168888698584 & -0.808694626572506 & -293691.146568469\\\\-5.4890767286666 & -1.22519699568436 & -377648.478932262\\\\-3.6644350360961 & -1.34465498171397 & -315141.413104265\\end{matrix}\\right]$"
      ],
      "text/plain": [
       "<IPython.core.display.Math object>"
      ]
     },
     "metadata": {},
     "output_type": "display_data"
    },
    {
     "name": "stdout",
     "output_type": "stream",
     "text": [
      "\n"
     ]
    },
    {
     "data": {
      "text/latex": [
       "$\\displaystyle \\text{{Auflösen nach }} \\delta_0\\text{{ mit }} R_0\\cdot \\delta_0= -Q_0^T \\cdot g(\\lambda_0):$"
      ],
      "text/plain": [
       "<IPython.core.display.Math object>"
      ]
     },
     "metadata": {},
     "output_type": "display_data"
    },
    {
     "data": {
      "text/latex": [
       "$\\displaystyle Q_0^T\\left[\\begin{matrix}-0.101045747902065 & -0.219173918993805 & -0.407737874560386 & -0.575120960411358 & -0.554647863339939 & -0.370275578860862\\\\-0.199234423190965 & -0.334715791813266 & -0.422865798371582 & -0.250230231475244 & 0.245295320235891 & 0.739371717757965\\\\0.395956836787454 & 0.479086569614665 & 0.249588871475356 & -0.328165919992477 & -0.439064603259746 & 0.500928179055279\\end{matrix}\\right]$"
      ],
      "text/plain": [
       "<IPython.core.display.Math object>"
      ]
     },
     "metadata": {},
     "output_type": "display_data"
    },
    {
     "data": {
      "text/latex": [
       "$\\displaystyle -Q_0^T\\left[\\begin{matrix}0.101045747902065 & 0.219173918993805 & 0.407737874560386 & 0.575120960411358 & 0.554647863339939 & 0.370275578860862\\\\0.199234423190965 & 0.334715791813266 & 0.422865798371582 & 0.250230231475244 & -0.245295320235891 & -0.739371717757965\\\\-0.395956836787454 & -0.479086569614665 & -0.249588871475356 & 0.328165919992477 & 0.439064603259746 & -0.500928179055279\\end{matrix}\\right]$"
      ],
      "text/plain": [
       "<IPython.core.display.Math object>"
      ]
     },
     "metadata": {},
     "output_type": "display_data"
    },
    {
     "data": {
      "text/latex": [
       "$\\displaystyle g(\\lambda_0) = \\left[\\begin{matrix}32.9\\\\137.804685541505\\\\327.184167147605\\\\344.944786871125\\\\215.528296300969\\\\146.757970611057\\end{matrix}\\right]$"
      ],
      "text/plain": [
       "<IPython.core.display.Math object>"
      ]
     },
     "metadata": {},
     "output_type": "display_data"
    },
    {
     "data": {
      "text/latex": [
       "$\\displaystyle \\delta_0 = \\left[\\begin{matrix}88.0409369191159\\\\-25.9882357891793\\\\-0.000509448880949462\\end{matrix}\\right]$"
      ],
      "text/plain": [
       "<IPython.core.display.Math object>"
      ]
     },
     "metadata": {},
     "output_type": "display_data"
    },
    {
     "name": "stdout",
     "output_type": "stream",
     "text": [
      "\n"
     ]
    },
    {
     "data": {
      "text/latex": [
       "$\\displaystyle \\text{Optimales } p: 0$"
      ],
      "text/plain": [
       "<IPython.core.display.Math object>"
      ]
     },
     "metadata": {},
     "output_type": "display_data"
    },
    {
     "data": {
      "text/latex": [
       "$\\displaystyle \\text{{Lambda berechnen: }} \\lambda_1 = \\lambda_0 + \\frac{{\\delta_0}}{{2^0}}$"
      ],
      "text/plain": [
       "<IPython.core.display.Math object>"
      ]
     },
     "metadata": {},
     "output_type": "display_data"
    },
    {
     "data": {
      "text/latex": [
       "$\\displaystyle \\left[\\begin{matrix}20.0\\\\450.0\\\\0.001\\end{matrix}\\right] + \\frac{{\\left[\\begin{matrix}88.0409369191159\\\\-25.9882357891793\\\\-0.000509448880949462\\end{matrix}\\right]}}{{2^0}} = \\left[\\begin{matrix}108.040936919116\\\\424.011764210821\\\\0.000490551119050538\\end{matrix}\\right]$"
      ],
      "text/plain": [
       "<IPython.core.display.Math object>"
      ]
     },
     "metadata": {},
     "output_type": "display_data"
    },
    {
     "name": "stdout",
     "output_type": "stream",
     "text": [
      "\n"
     ]
    },
    {
     "data": {
      "text/latex": [
       "$\\displaystyle \\lambda_{1} = 108.04, 424.01, 0.00$"
      ],
      "text/plain": [
       "<IPython.core.display.Math object>"
      ]
     },
     "metadata": {},
     "output_type": "display_data"
    },
    {
     "data": {
      "text/latex": [
       "$\\displaystyle \\text{Inkrement} = 91.79648671539266$"
      ],
      "text/plain": [
       "<IPython.core.display.Math object>"
      ]
     },
     "metadata": {},
     "output_type": "display_data"
    },
    {
     "data": {
      "text/latex": [
       "$\\displaystyle \\text{Fehlerfunktional} = 241927.27268178275$"
      ],
      "text/plain": [
       "<IPython.core.display.Math object>"
      ]
     },
     "metadata": {},
     "output_type": "display_data"
    },
    {
     "name": "stdout",
     "output_type": "stream",
     "text": [
      "-----------------------------------------\n",
      "\n"
     ]
    },
    {
     "data": {
      "text/latex": [
       "$\\displaystyle \\text{Iteration: } 2$"
      ],
      "text/plain": [
       "<IPython.core.display.Math object>"
      ]
     },
     "metadata": {},
     "output_type": "display_data"
    },
    {
     "data": {
      "text/latex": [
       "$\\displaystyle \\text{{QR-Zerlegung von }} Dg(\\lambda_{1}) = Q_1 \\cdot R_1:$"
      ],
      "text/plain": [
       "<IPython.core.display.Math object>"
      ]
     },
     "metadata": {},
     "output_type": "display_data"
    },
    {
     "data": {
      "text/latex": [
       "$\\displaystyle \\text{{Q}}_1= \\left[\\begin{matrix}-0.346726918742567 & -0.477724606757362 & 0.574937114897614\\\\-0.410565422294946 & -0.390274881719962 & 0.114771836945662\\\\-0.449935020131702 & -0.205942653746072 & -0.31199002036849\\\\-0.453035920921822 & 0.0609934268180302 & -0.476323046370639\\\\-0.418873327761868 & 0.367683544677089 & -0.199876412945152\\\\-0.357880629733375 & 0.661922165381779 & 0.540465301006612\\end{matrix}\\right]$"
      ],
      "text/plain": [
       "<IPython.core.display.Math object>"
      ]
     },
     "metadata": {},
     "output_type": "display_data"
    },
    {
     "data": {
      "text/latex": [
       "$\\displaystyle \\text{{R}}_1= \\left[\\begin{matrix}2.88411411385819 & 1.04623611872398 & 498466.258991848\\\\0 & -0.759345908900597 & -302822.760242049\\\\0 & 0 & 48989.3334309821\\end{matrix}\\right]$"
      ],
      "text/plain": [
       "<IPython.core.display.Math object>"
      ]
     },
     "metadata": {},
     "output_type": "display_data"
    },
    {
     "data": {
      "text/latex": [
       "$\\displaystyle Dg(\\lambda_{1}) = \\left[\\begin{matrix}-1.0 & 0 & 0\\\\-1.184117529103 & -0.13319473912342 & -80846.2973985745\\\\-1.29766394188091 & -0.314356557550376 & -177197.486550484\\\\-1.30660729361537 & -0.520297652671892 & -267628.067095997\\\\-1.20807847651675 & -0.717439400095193 & -329928.97881438\\\\-1.03216857529048 & -0.87705552931202 & -352359.481016258\\end{matrix}\\right]$"
      ],
      "text/plain": [
       "<IPython.core.display.Math object>"
      ]
     },
     "metadata": {},
     "output_type": "display_data"
    },
    {
     "name": "stdout",
     "output_type": "stream",
     "text": [
      "\n"
     ]
    },
    {
     "data": {
      "text/latex": [
       "$\\displaystyle \\text{{Auflösen nach }} \\delta_1\\text{{ mit }} R_1\\cdot \\delta_1= -Q_1^T \\cdot g(\\lambda_1):$"
      ],
      "text/plain": [
       "<IPython.core.display.Math object>"
      ]
     },
     "metadata": {},
     "output_type": "display_data"
    },
    {
     "data": {
      "text/latex": [
       "$\\displaystyle Q_1^T\\left[\\begin{matrix}-0.346726918742567 & -0.410565422294946 & -0.449935020131702 & -0.453035920921822 & -0.418873327761868 & -0.357880629733375\\\\-0.477724606757362 & -0.390274881719962 & -0.205942653746072 & 0.0609934268180302 & 0.367683544677089 & 0.661922165381779\\\\0.574937114897614 & 0.114771836945662 & -0.31199002036849 & -0.476323046370639 & -0.199876412945152 & 0.540465301006612\\end{matrix}\\right]$"
      ],
      "text/plain": [
       "<IPython.core.display.Math object>"
      ]
     },
     "metadata": {},
     "output_type": "display_data"
    },
    {
     "data": {
      "text/latex": [
       "$\\displaystyle -Q_1^T\\left[\\begin{matrix}0.346726918742567 & 0.410565422294946 & 0.449935020131702 & 0.453035920921822 & 0.418873327761868 & 0.357880629733375\\\\0.477724606757362 & 0.390274881719962 & 0.205942653746072 & -0.0609934268180302 & -0.367683544677089 & -0.661922165381779\\\\-0.574937114897614 & -0.114771836945662 & 0.31199002036849 & 0.476323046370639 & 0.199876412945152 & -0.540465301006612\\end{matrix}\\right]$"
      ],
      "text/plain": [
       "<IPython.core.display.Math object>"
      ]
     },
     "metadata": {},
     "output_type": "display_data"
    },
    {
     "data": {
      "text/latex": [
       "$\\displaystyle g(\\lambda_1) = \\left[\\begin{matrix}-55.1409369191159\\\\39.2499380740053\\\\239.43271867514\\\\298.505845991561\\\\226.122353541192\\\\199.452015493294\\end{matrix}\\right]$"
      ],
      "text/plain": [
       "<IPython.core.display.Math object>"
      ]
     },
     "metadata": {},
     "output_type": "display_data"
    },
    {
     "data": {
      "text/latex": [
       "$\\displaystyle \\delta_1 = \\left[\\begin{matrix}-56.7477900407426\\\\-1220.44025782054\\\\0.00370454617368914\\end{matrix}\\right]$"
      ],
      "text/plain": [
       "<IPython.core.display.Math object>"
      ]
     },
     "metadata": {},
     "output_type": "display_data"
    },
    {
     "name": "stdout",
     "output_type": "stream",
     "text": [
      "\n"
     ]
    },
    {
     "data": {
      "text/latex": [
       "$\\displaystyle \\text{Aktuelles } p: 0$"
      ],
      "text/plain": [
       "<IPython.core.display.Math object>"
      ]
     },
     "metadata": {},
     "output_type": "display_data"
    },
    {
     "data": {
      "text/latex": [
       "$\\displaystyle \\text{Aktuelles } p: 1$"
      ],
      "text/plain": [
       "<IPython.core.display.Math object>"
      ]
     },
     "metadata": {},
     "output_type": "display_data"
    },
    {
     "data": {
      "text/latex": [
       "$\\displaystyle \\text{Aktuelles } p: 2$"
      ],
      "text/plain": [
       "<IPython.core.display.Math object>"
      ]
     },
     "metadata": {},
     "output_type": "display_data"
    },
    {
     "data": {
      "text/latex": [
       "$\\displaystyle \\text{Aktuelles } p: 3$"
      ],
      "text/plain": [
       "<IPython.core.display.Math object>"
      ]
     },
     "metadata": {},
     "output_type": "display_data"
    },
    {
     "data": {
      "text/latex": [
       "$\\displaystyle \\text{Aktuelles } p: 4$"
      ],
      "text/plain": [
       "<IPython.core.display.Math object>"
      ]
     },
     "metadata": {},
     "output_type": "display_data"
    },
    {
     "data": {
      "text/latex": [
       "$\\displaystyle \\text{Optimales } p: 5$"
      ],
      "text/plain": [
       "<IPython.core.display.Math object>"
      ]
     },
     "metadata": {},
     "output_type": "display_data"
    },
    {
     "data": {
      "text/latex": [
       "$\\displaystyle \\text{{Lambda berechnen: }} \\lambda_2 = \\lambda_1 + \\frac{{\\delta_1}}{{2^5}}$"
      ],
      "text/plain": [
       "<IPython.core.display.Math object>"
      ]
     },
     "metadata": {},
     "output_type": "display_data"
    },
    {
     "data": {
      "text/latex": [
       "$\\displaystyle \\left[\\begin{matrix}108.040936919116\\\\424.011764210821\\\\0.000490551119050538\\end{matrix}\\right] + \\frac{{\\left[\\begin{matrix}-56.7477900407426\\\\-1220.44025782054\\\\0.00370454617368914\\end{matrix}\\right]}}{{2^5}} = \\left[\\begin{matrix}106.267568480343\\\\385.873006153929\\\\0.000606318186978323\\end{matrix}\\right]$"
      ],
      "text/plain": [
       "<IPython.core.display.Math object>"
      ]
     },
     "metadata": {},
     "output_type": "display_data"
    },
    {
     "name": "stdout",
     "output_type": "stream",
     "text": [
      "\n"
     ]
    },
    {
     "data": {
      "text/latex": [
       "$\\displaystyle \\lambda_{2} = 106.27, 385.87, 0.00$"
      ],
      "text/plain": [
       "<IPython.core.display.Math object>"
      ]
     },
     "metadata": {},
     "output_type": "display_data"
    },
    {
     "data": {
      "text/latex": [
       "$\\displaystyle \\text{Inkrement} = 38.179964664142645$"
      ],
      "text/plain": [
       "<IPython.core.display.Math object>"
      ]
     },
     "metadata": {},
     "output_type": "display_data"
    },
    {
     "data": {
      "text/latex": [
       "$\\displaystyle \\text{Fehlerfunktional} = 238060.71751763922$"
      ],
      "text/plain": [
       "<IPython.core.display.Math object>"
      ]
     },
     "metadata": {},
     "output_type": "display_data"
    },
    {
     "name": "stdout",
     "output_type": "stream",
     "text": [
      "-----------------------------------------\n",
      "\n"
     ]
    },
    {
     "data": {
      "text/latex": [
       "$\\displaystyle \\text{Iteration: } 3$"
      ],
      "text/plain": [
       "<IPython.core.display.Math object>"
      ]
     },
     "metadata": {},
     "output_type": "display_data"
    },
    {
     "data": {
      "text/latex": [
       "$\\displaystyle \\text{{QR-Zerlegung von }} Dg(\\lambda_{2}) = Q_2 \\cdot R_2:$"
      ],
      "text/plain": [
       "<IPython.core.display.Math object>"
      ]
     },
     "metadata": {},
     "output_type": "display_data"
    },
    {
     "data": {
      "text/latex": [
       "$\\displaystyle \\text{{Q}}_2= \\left[\\begin{matrix}-0.375439891589191 & -0.462497983355537 & 0.578057130393122\\\\-0.442192321059811 & -0.366613036605858 & 0.0977191171533817\\\\-0.470234667396988 & -0.163557889906583 & -0.336518547179422\\\\-0.448654578812191 & 0.116069648925786 & -0.467603172515583\\\\-0.385931611278824 & 0.411112958229606 & -0.152367569495921\\\\-0.303572160950017 & 0.665171621167008 & 0.548805605262876\\end{matrix}\\right]$"
      ],
      "text/plain": [
       "<IPython.core.display.Math object>"
      ]
     },
     "metadata": {},
     "output_type": "display_data"
    },
    {
     "data": {
      "text/latex": [
       "$\\displaystyle \\text{{R}}_2= \\left[\\begin{matrix}2.66354221382049 & 1.1292507285918 & 363767.58119184\\\\0 & -0.916686745407068 & -234983.84788403\\\\0 & 0 & 48253.5445239973\\end{matrix}\\right]$"
      ],
      "text/plain": [
       "<IPython.core.display.Math object>"
      ]
     },
     "metadata": {},
     "output_type": "display_data"
    },
    {
     "data": {
      "text/latex": [
       "$\\displaystyle Dg(\\lambda_{2}) = \\left[\\begin{matrix}-1.0 & 0 & 0\\\\-1.17779791377007 & -0.163276689384463 & -69991.7952570333\\\\-1.25248988701372 & -0.381081490983057 & -148860.877928983\\\\-1.19501041009012 & -0.613043018724032 & -213043.994156827\\\\-1.02794513828891 & -0.812675352897388 & -244346.588878831\\\\-0.808577265631078 & -0.95256309247772 & -240252.482042478\\end{matrix}\\right]$"
      ],
      "text/plain": [
       "<IPython.core.display.Math object>"
      ]
     },
     "metadata": {},
     "output_type": "display_data"
    },
    {
     "name": "stdout",
     "output_type": "stream",
     "text": [
      "\n"
     ]
    },
    {
     "data": {
      "text/latex": [
       "$\\displaystyle \\text{{Auflösen nach }} \\delta_2\\text{{ mit }} R_2\\cdot \\delta_2= -Q_2^T \\cdot g(\\lambda_2):$"
      ],
      "text/plain": [
       "<IPython.core.display.Math object>"
      ]
     },
     "metadata": {},
     "output_type": "display_data"
    },
    {
     "data": {
      "text/latex": [
       "$\\displaystyle Q_2^T\\left[\\begin{matrix}-0.375439891589191 & -0.442192321059811 & -0.470234667396988 & -0.448654578812191 & -0.385931611278824 & -0.303572160950017\\\\-0.462497983355537 & -0.366613036605858 & -0.163557889906583 & 0.116069648925786 & 0.411112958229606 & 0.665171621167008\\\\0.578057130393122 & 0.0977191171533817 & -0.336518547179422 & -0.467603172515583 & -0.152367569495921 & 0.548805605262876\\end{matrix}\\right]$"
      ],
      "text/plain": [
       "<IPython.core.display.Math object>"
      ]
     },
     "metadata": {},
     "output_type": "display_data"
    },
    {
     "data": {
      "text/latex": [
       "$\\displaystyle -Q_2^T\\left[\\begin{matrix}0.375439891589191 & 0.442192321059811 & 0.470234667396988 & 0.448654578812191 & 0.385931611278824 & 0.303572160950017\\\\0.462497983355537 & 0.366613036605858 & 0.163557889906583 & -0.116069648925786 & -0.411112958229606 & -0.665171621167008\\\\-0.578057130393122 & -0.0977191171533817 & 0.336518547179422 & 0.467603172515583 & 0.152367569495921 & -0.548805605262876\\end{matrix}\\right]$"
      ],
      "text/plain": [
       "<IPython.core.display.Math object>"
      ]
     },
     "metadata": {},
     "output_type": "display_data"
    },
    {
     "data": {
      "text/latex": [
       "$\\displaystyle g(\\lambda_2) = \\left[\\begin{matrix}-53.3675684803427\\\\38.271510978393\\\\236.108942263483\\\\294.624845158092\\\\224.325068936479\\\\202.175525336278\\end{matrix}\\right]$"
      ],
      "text/plain": [
       "<IPython.core.display.Math object>"
      ]
     },
     "metadata": {},
     "output_type": "display_data"
    },
    {
     "data": {
      "text/latex": [
       "$\\displaystyle \\delta_2 = \\left[\\begin{matrix}-58.9012006197953\\\\-636.017973595924\\\\0.00347242884193296\\end{matrix}\\right]$"
      ],
      "text/plain": [
       "<IPython.core.display.Math object>"
      ]
     },
     "metadata": {},
     "output_type": "display_data"
    },
    {
     "name": "stdout",
     "output_type": "stream",
     "text": [
      "\n"
     ]
    },
    {
     "data": {
      "text/latex": [
       "$\\displaystyle \\text{Aktuelles } p: 0$"
      ],
      "text/plain": [
       "<IPython.core.display.Math object>"
      ]
     },
     "metadata": {},
     "output_type": "display_data"
    },
    {
     "data": {
      "text/latex": [
       "$\\displaystyle \\text{Aktuelles } p: 1$"
      ],
      "text/plain": [
       "<IPython.core.display.Math object>"
      ]
     },
     "metadata": {},
     "output_type": "display_data"
    },
    {
     "data": {
      "text/latex": [
       "$\\displaystyle \\text{Aktuelles } p: 2$"
      ],
      "text/plain": [
       "<IPython.core.display.Math object>"
      ]
     },
     "metadata": {},
     "output_type": "display_data"
    },
    {
     "data": {
      "text/latex": [
       "$\\displaystyle \\text{Aktuelles } p: 3$"
      ],
      "text/plain": [
       "<IPython.core.display.Math object>"
      ]
     },
     "metadata": {},
     "output_type": "display_data"
    },
    {
     "data": {
      "text/latex": [
       "$\\displaystyle \\text{Optimales } p: 4$"
      ],
      "text/plain": [
       "<IPython.core.display.Math object>"
      ]
     },
     "metadata": {},
     "output_type": "display_data"
    },
    {
     "data": {
      "text/latex": [
       "$\\displaystyle \\text{{Lambda berechnen: }} \\lambda_3 = \\lambda_2 + \\frac{{\\delta_2}}{{2^4}}$"
      ],
      "text/plain": [
       "<IPython.core.display.Math object>"
      ]
     },
     "metadata": {},
     "output_type": "display_data"
    },
    {
     "data": {
      "text/latex": [
       "$\\displaystyle \\left[\\begin{matrix}106.267568480343\\\\385.873006153929\\\\0.000606318186978323\\end{matrix}\\right] + \\frac{{\\left[\\begin{matrix}-58.9012006197953\\\\-636.017973595924\\\\0.00347242884193296\\end{matrix}\\right]}}{{2^4}} = \\left[\\begin{matrix}102.586243441605\\\\346.121882804183\\\\0.000823344989599133\\end{matrix}\\right]$"
      ],
      "text/plain": [
       "<IPython.core.display.Math object>"
      ]
     },
     "metadata": {},
     "output_type": "display_data"
    },
    {
     "name": "stdout",
     "output_type": "stream",
     "text": [
      "\n"
     ]
    },
    {
     "data": {
      "text/latex": [
       "$\\displaystyle \\lambda_{3} = 102.59, 346.12, 0.00$"
      ],
      "text/plain": [
       "<IPython.core.display.Math object>"
      ]
     },
     "metadata": {},
     "output_type": "display_data"
    },
    {
     "data": {
      "text/latex": [
       "$\\displaystyle \\text{Inkrement} = 39.92122194590988$"
      ],
      "text/plain": [
       "<IPython.core.display.Math object>"
      ]
     },
     "metadata": {},
     "output_type": "display_data"
    },
    {
     "data": {
      "text/latex": [
       "$\\displaystyle \\text{Fehlerfunktional} = 229560.8613260735$"
      ],
      "text/plain": [
       "<IPython.core.display.Math object>"
      ]
     },
     "metadata": {},
     "output_type": "display_data"
    },
    {
     "name": "stdout",
     "output_type": "stream",
     "text": [
      "-----------------------------------------\n",
      "\n"
     ]
    },
    {
     "data": {
      "text/latex": [
       "$\\displaystyle \\text{Iteration: } 4$"
      ],
      "text/plain": [
       "<IPython.core.display.Math object>"
      ]
     },
     "metadata": {},
     "output_type": "display_data"
    },
    {
     "data": {
      "text/latex": [
       "$\\displaystyle \\text{{QR-Zerlegung von }} Dg(\\lambda_{3}) = Q_3 \\cdot R_3:$"
      ],
      "text/plain": [
       "<IPython.core.display.Math object>"
      ]
     },
     "metadata": {},
     "output_type": "display_data"
    },
    {
     "data": {
      "text/latex": [
       "$\\displaystyle \\text{{Q}}_3= \\left[\\begin{matrix}-0.422449169905583 & -0.432278081006511 & 0.583964210657942\\\\-0.495600280875314 & -0.320900658177828 & 0.0647649621794395\\\\-0.496952555489875 & -0.0830882997121901 & -0.381184404666565\\\\-0.425741248505258 & 0.211996389908111 & -0.442327574471672\\\\-0.31848909485308 & 0.474522863191696 & -0.0650755061177077\\\\-0.215091384800338 & 0.6581339876405 & 0.556418228807316\\end{matrix}\\right]$"
      ],
      "text/plain": [
       "<IPython.core.display.Math object>"
      ]
     },
     "metadata": {},
     "output_type": "display_data"
    },
    {
     "data": {
      "text/latex": [
       "$\\displaystyle \\text{{R}}_3= \\left[\\begin{matrix}2.36714869205093 & 1.20117116082479 & 227139.545793442\\\\0 & -1.1738595642496 & -158666.695394834\\\\0 & 0 & 46863.7931379624\\end{matrix}\\right]$"
      ],
      "text/plain": [
       "<IPython.core.display.Math object>"
      ]
     },
     "metadata": {},
     "output_type": "display_data"
    },
    {
     "data": {
      "text/latex": [
       "$\\displaystyle Dg(\\lambda_{3}) = \\left[\\begin{matrix}-1.0 & 0 & 0\\\\-1.17315955665407 & -0.218608457908057 & -58619.0439198529\\\\-1.17636059173922 & -0.499391082658227 & -117557.978881263\\\\-1.00779283955135 & -0.76024209955808 & -151068.588382629\\\\-0.753911044313951 & -0.939583117187389 & -150682.127994063\\\\-0.509153290201542 & -1.03091844431356 & -127203.835620556\\end{matrix}\\right]$"
      ],
      "text/plain": [
       "<IPython.core.display.Math object>"
      ]
     },
     "metadata": {},
     "output_type": "display_data"
    },
    {
     "name": "stdout",
     "output_type": "stream",
     "text": [
      "\n"
     ]
    },
    {
     "data": {
      "text/latex": [
       "$\\displaystyle \\text{{Auflösen nach }} \\delta_3\\text{{ mit }} R_3\\cdot \\delta_3= -Q_3^T \\cdot g(\\lambda_3):$"
      ],
      "text/plain": [
       "<IPython.core.display.Math object>"
      ]
     },
     "metadata": {},
     "output_type": "display_data"
    },
    {
     "data": {
      "text/latex": [
       "$\\displaystyle Q_3^T\\left[\\begin{matrix}-0.422449169905583 & -0.495600280875314 & -0.496952555489875 & -0.425741248505258 & -0.31848909485308 & -0.215091384800338\\\\-0.432278081006511 & -0.320900658177828 & -0.0830882997121901 & 0.211996389908111 & 0.474522863191696 & 0.6581339876405\\\\0.583964210657942 & 0.0647649621794395 & -0.381184404666565 & -0.442327574471672 & -0.0650755061177077 & 0.556418228807316\\end{matrix}\\right]$"
      ],
      "text/plain": [
       "<IPython.core.display.Math object>"
      ]
     },
     "metadata": {},
     "output_type": "display_data"
    },
    {
     "data": {
      "text/latex": [
       "$\\displaystyle -Q_3^T\\left[\\begin{matrix}0.422449169905583 & 0.495600280875314 & 0.496952555489875 & 0.425741248505258 & 0.31848909485308 & 0.215091384800338\\\\0.432278081006511 & 0.320900658177828 & 0.0830882997121901 & -0.211996389908111 & -0.474522863191696 & -0.6581339876405\\\\-0.583964210657942 & -0.0647649621794395 & 0.381184404666565 & 0.442327574471672 & 0.0650755061177077 & -0.556418228807316\\end{matrix}\\right]$"
      ],
      "text/plain": [
       "<IPython.core.display.Math object>"
      ]
     },
     "metadata": {},
     "output_type": "display_data"
    },
    {
     "data": {
      "text/latex": [
       "$\\displaystyle g(\\lambda_3) = \\left[\\begin{matrix}-49.6862434416054\\\\36.2484931836859\\\\229.262177074733\\\\286.859456867682\\\\220.512195608818\\\\205.677084374896\\end{matrix}\\right]$"
      ],
      "text/plain": [
       "<IPython.core.display.Math object>"
      ]
     },
     "metadata": {},
     "output_type": "display_data"
    },
    {
     "data": {
      "text/latex": [
       "$\\displaystyle \\delta_3 = \\left[\\begin{matrix}-61.5063437929333\\\\-157.830186709168\\\\0.00300555768541296\\end{matrix}\\right]$"
      ],
      "text/plain": [
       "<IPython.core.display.Math object>"
      ]
     },
     "metadata": {},
     "output_type": "display_data"
    },
    {
     "name": "stdout",
     "output_type": "stream",
     "text": [
      "\n"
     ]
    },
    {
     "data": {
      "text/latex": [
       "$\\displaystyle \\text{Aktuelles } p: 0$"
      ],
      "text/plain": [
       "<IPython.core.display.Math object>"
      ]
     },
     "metadata": {},
     "output_type": "display_data"
    },
    {
     "data": {
      "text/latex": [
       "$\\displaystyle \\text{Aktuelles } p: 1$"
      ],
      "text/plain": [
       "<IPython.core.display.Math object>"
      ]
     },
     "metadata": {},
     "output_type": "display_data"
    },
    {
     "data": {
      "text/latex": [
       "$\\displaystyle \\text{Optimales } p: 2$"
      ],
      "text/plain": [
       "<IPython.core.display.Math object>"
      ]
     },
     "metadata": {},
     "output_type": "display_data"
    },
    {
     "data": {
      "text/latex": [
       "$\\displaystyle \\text{{Lambda berechnen: }} \\lambda_4 = \\lambda_3 + \\frac{{\\delta_3}}{{2^2}}$"
      ],
      "text/plain": [
       "<IPython.core.display.Math object>"
      ]
     },
     "metadata": {},
     "output_type": "display_data"
    },
    {
     "data": {
      "text/latex": [
       "$\\displaystyle \\left[\\begin{matrix}102.586243441605\\\\346.121882804183\\\\0.000823344989599133\\end{matrix}\\right] + \\frac{{\\left[\\begin{matrix}-61.5063437929333\\\\-157.830186709168\\\\0.00300555768541296\\end{matrix}\\right]}}{{2^2}} = \\left[\\begin{matrix}87.2096574933721\\\\306.664336126891\\\\0.00157473441095237\\end{matrix}\\right]$"
      ],
      "text/plain": [
       "<IPython.core.display.Math object>"
      ]
     },
     "metadata": {},
     "output_type": "display_data"
    },
    {
     "name": "stdout",
     "output_type": "stream",
     "text": [
      "\n"
     ]
    },
    {
     "data": {
      "text/latex": [
       "$\\displaystyle \\lambda_{4} = 87.21, 306.66, 0.00$"
      ],
      "text/plain": [
       "<IPython.core.display.Math object>"
      ]
     },
     "metadata": {},
     "output_type": "display_data"
    },
    {
     "data": {
      "text/latex": [
       "$\\displaystyle \\text{Inkrement} = 42.34781441560683$"
      ],
      "text/plain": [
       "<IPython.core.display.Math object>"
      ]
     },
     "metadata": {},
     "output_type": "display_data"
    },
    {
     "data": {
      "text/latex": [
       "$\\displaystyle \\text{Fehlerfunktional} = 196882.74755608093$"
      ],
      "text/plain": [
       "<IPython.core.display.Math object>"
      ]
     },
     "metadata": {},
     "output_type": "display_data"
    },
    {
     "name": "stdout",
     "output_type": "stream",
     "text": [
      "-----------------------------------------\n",
      "\n"
     ]
    },
    {
     "data": {
      "text/latex": [
       "$\\displaystyle \\text{Iteration: } 5$"
      ],
      "text/plain": [
       "<IPython.core.display.Math object>"
      ]
     },
     "metadata": {},
     "output_type": "display_data"
    },
    {
     "data": {
      "text/latex": [
       "$\\displaystyle \\text{{QR-Zerlegung von }} Dg(\\lambda_{4}) = Q_4 \\cdot R_4:$"
      ],
      "text/plain": [
       "<IPython.core.display.Math object>"
      ]
     },
     "metadata": {},
     "output_type": "display_data"
    },
    {
     "data": {
      "text/latex": [
       "$\\displaystyle \\text{{Q}}_4= \\left[\\begin{matrix}-0.514756958488259 & -0.341768504514598 & 0.61106549223116\\\\-0.632060463500253 & -0.18301915307236 & -0.0601189814961344\\\\-0.495279853452058 & 0.162980528999502 & -0.504613981833539\\\\-0.270728796241549 & 0.430274311572238 & -0.27096151426295\\\\-0.120574862478611 & 0.546818363464503 & 0.179775391303794\\\\-0.0488910253127906 & 0.582227893763785 & 0.512454942483879\\end{matrix}\\right]$"
      ],
      "text/plain": [
       "<IPython.core.display.Math object>"
      ]
     },
     "metadata": {},
     "output_type": "display_data"
    },
    {
     "data": {
      "text/latex": [
       "$\\displaystyle \\text{{R}}_4= \\left[\\begin{matrix}1.9426643652119 & 1.13047618641413 & 87751.1837718315\\\\0 & -1.70267439999606 & -59583.2156538951\\\\0 & 0 & 40596.0838393171\\end{matrix}\\right]$"
      ],
      "text/plain": [
       "<IPython.core.display.Math object>"
      ]
     },
     "metadata": {},
     "output_type": "display_data"
    },
    {
     "data": {
      "text/latex": [
       "$\\displaystyle Dg(\\lambda_{4}) = \\left[\\begin{matrix}-1.0 & 0 & 0\\\\-1.22788133910125 & -0.402907275715647 & -46999.7794343674\\\\-0.962162522108683 & -0.837404854363501 & -73657.6489585265\\\\-0.52593518509517 & -1.03866951241762 & -60393.8757983059\\\\-0.234236488677523 & -1.06736063963098 & -35863.6065318245\\\\-0.094978852653831 & -1.04661466952071 & -18177.5916919087\\end{matrix}\\right]$"
      ],
      "text/plain": [
       "<IPython.core.display.Math object>"
      ]
     },
     "metadata": {},
     "output_type": "display_data"
    },
    {
     "name": "stdout",
     "output_type": "stream",
     "text": [
      "\n"
     ]
    },
    {
     "data": {
      "text/latex": [
       "$\\displaystyle \\text{{Auflösen nach }} \\delta_4\\text{{ mit }} R_4\\cdot \\delta_4= -Q_4^T \\cdot g(\\lambda_4):$"
      ],
      "text/plain": [
       "<IPython.core.display.Math object>"
      ]
     },
     "metadata": {},
     "output_type": "display_data"
    },
    {
     "data": {
      "text/latex": [
       "$\\displaystyle Q_4^T\\left[\\begin{matrix}-0.514756958488259 & -0.632060463500253 & -0.495279853452058 & -0.270728796241549 & -0.120574862478611 & -0.0488910253127906\\\\-0.341768504514598 & -0.18301915307236 & 0.162980528999502 & 0.430274311572238 & 0.546818363464503 & 0.582227893763785\\\\0.61106549223116 & -0.0601189814961344 & -0.504613981833539 & -0.27096151426295 & 0.179775391303794 & 0.512454942483879\\end{matrix}\\right]$"
      ],
      "text/plain": [
       "<IPython.core.display.Math object>"
      ]
     },
     "metadata": {},
     "output_type": "display_data"
    },
    {
     "data": {
      "text/latex": [
       "$\\displaystyle -Q_4^T\\left[\\begin{matrix}0.514756958488259 & 0.632060463500253 & 0.495279853452058 & 0.270728796241549 & 0.120574862478611 & 0.0488910253127906\\\\0.341768504514598 & 0.18301915307236 & -0.162980528999502 & -0.430274311572238 & -0.546818363464503 & -0.582227893763785\\\\-0.61106549223116 & 0.0601189814961344 & 0.504613981833539 & 0.27096151426295 & -0.179775391303794 & -0.512454942483879\\end{matrix}\\right]$"
      ],
      "text/plain": [
       "<IPython.core.display.Math object>"
      ]
     },
     "metadata": {},
     "output_type": "display_data"
    },
    {
     "data": {
      "text/latex": [
       "$\\displaystyle g(\\lambda_4) = \\left[\\begin{matrix}-34.3096574933721\\\\27.3717667289133\\\\201.279166705965\\\\259.714790593723\\\\207.726529396095\\\\209.382413127204\\end{matrix}\\right]$"
      ],
      "text/plain": [
       "<IPython.core.display.Math object>"
      ]
     },
     "metadata": {},
     "output_type": "display_data"
    },
    {
     "data": {
      "text/latex": [
       "$\\displaystyle \\delta_4 = \\left[\\begin{matrix}-57.1957343937439\\\\184.130879085731\\\\0.00122940022501432\\end{matrix}\\right]$"
      ],
      "text/plain": [
       "<IPython.core.display.Math object>"
      ]
     },
     "metadata": {},
     "output_type": "display_data"
    },
    {
     "name": "stdout",
     "output_type": "stream",
     "text": [
      "\n"
     ]
    },
    {
     "data": {
      "text/latex": [
       "$\\displaystyle \\text{Optimales } p: 0$"
      ],
      "text/plain": [
       "<IPython.core.display.Math object>"
      ]
     },
     "metadata": {},
     "output_type": "display_data"
    },
    {
     "data": {
      "text/latex": [
       "$\\displaystyle \\text{{Lambda berechnen: }} \\lambda_5 = \\lambda_4 + \\frac{{\\delta_4}}{{2^0}}$"
      ],
      "text/plain": [
       "<IPython.core.display.Math object>"
      ]
     },
     "metadata": {},
     "output_type": "display_data"
    },
    {
     "data": {
      "text/latex": [
       "$\\displaystyle \\left[\\begin{matrix}87.2096574933721\\\\306.664336126891\\\\0.00157473441095237\\end{matrix}\\right] + \\frac{{\\left[\\begin{matrix}-57.1957343937439\\\\184.130879085731\\\\0.00122940022501432\\end{matrix}\\right]}}{{2^0}} = \\left[\\begin{matrix}30.0139230996282\\\\490.795215212622\\\\0.0028041346359667\\end{matrix}\\right]$"
      ],
      "text/plain": [
       "<IPython.core.display.Math object>"
      ]
     },
     "metadata": {},
     "output_type": "display_data"
    },
    {
     "name": "stdout",
     "output_type": "stream",
     "text": [
      "\n"
     ]
    },
    {
     "data": {
      "text/latex": [
       "$\\displaystyle \\lambda_{5} = 30.01, 490.80, 0.00$"
      ],
      "text/plain": [
       "<IPython.core.display.Math object>"
      ]
     },
     "metadata": {},
     "output_type": "display_data"
    },
    {
     "data": {
      "text/latex": [
       "$\\displaystyle \\text{Inkrement} = 192.80957618135898$"
      ],
      "text/plain": [
       "<IPython.core.display.Math object>"
      ]
     },
     "metadata": {},
     "output_type": "display_data"
    },
    {
     "data": {
      "text/latex": [
       "$\\displaystyle \\text{Fehlerfunktional} = 7963.869393895143$"
      ],
      "text/plain": [
       "<IPython.core.display.Math object>"
      ]
     },
     "metadata": {},
     "output_type": "display_data"
    },
    {
     "name": "stdout",
     "output_type": "stream",
     "text": [
      "-----------------------------------------\n",
      "\n"
     ]
    },
    {
     "data": {
      "text/latex": [
       "$\\displaystyle \\text{Iteration: } 6$"
      ],
      "text/plain": [
       "<IPython.core.display.Math object>"
      ]
     },
     "metadata": {},
     "output_type": "display_data"
    },
    {
     "data": {
      "text/latex": [
       "$\\displaystyle \\text{{QR-Zerlegung von }} Dg(\\lambda_{5}) = Q_5 \\cdot R_5:$"
      ],
      "text/plain": [
       "<IPython.core.display.Math object>"
      ]
     },
     "metadata": {},
     "output_type": "display_data"
    },
    {
     "data": {
      "text/latex": [
       "$\\displaystyle \\text{{Q}}_5= \\left[\\begin{matrix}-0.218798309071008 & 0.125775910936647 & 0.742854814300886\\\\-0.952616241182988 & 0.0840823989865132 & -0.0554816792163002\\\\-0.210765617653878 & -0.472204913188552 & -0.532858166297041\\\\-0.0150503395410275 & -0.503539125133774 & 0.156886022076519\\\\-0.000966887617110996 & -0.500550378111562 & 0.256445317706937\\\\-6.16853090083389 \\cdot 10^{-5} & -0.500030757855162 & 0.266032437599413\\end{matrix}\\right]$"
      ],
      "text/plain": [
       "<IPython.core.display.Math object>"
      ]
     },
     "metadata": {},
     "output_type": "display_data"
    },
    {
     "data": {
      "text/latex": [
       "$\\displaystyle \\text{{R}}_5= \\left[\\begin{matrix}4.57041923333815 & 1.14976270052801 & 126037.883328083\\\\0 & 2.00011379631476 & 18175.6904902783\\\\0 & 0 & 34045.4301915752\\end{matrix}\\right]$"
      ],
      "text/plain": [
       "<IPython.core.display.Math object>"
      ]
     },
     "metadata": {},
     "output_type": "display_data"
    },
    {
     "data": {
      "text/latex": [
       "$\\displaystyle Dg(\\lambda_{5}) = \\left[\\begin{matrix}-1.0 & 0 & 0\\\\-4.35385559069302 & -0.927108255789226 & -120426.37663967\\\\-0.963287232651679 & -1.18679400728821 & -53288.4881802114\\\\-0.0687863613065818 & -1.02443987019888 & -5707.83211465698\\\\-0.00441908176172059 & -1.00226940832926 & -488.922054076442\\\\-0.000281927722706119 & -1.0001893408353 & -38.9901931891673\\end{matrix}\\right]$"
      ],
      "text/plain": [
       "<IPython.core.display.Math object>"
      ]
     },
     "metadata": {},
     "output_type": "display_data"
    },
    {
     "name": "stdout",
     "output_type": "stream",
     "text": [
      "\n"
     ]
    },
    {
     "data": {
      "text/latex": [
       "$\\displaystyle \\text{{Auflösen nach }} \\delta_5\\text{{ mit }} R_5\\cdot \\delta_5= -Q_5^T \\cdot g(\\lambda_5):$"
      ],
      "text/plain": [
       "<IPython.core.display.Math object>"
      ]
     },
     "metadata": {},
     "output_type": "display_data"
    },
    {
     "data": {
      "text/latex": [
       "$\\displaystyle Q_5^T\\left[\\begin{matrix}-0.218798309071008 & -0.952616241182988 & -0.210765617653878 & -0.0150503395410275 & -0.000966887617110996 & -6.16853090083389 \\cdot 10^{-5}\\\\0.125775910936647 & 0.0840823989865132 & -0.472204913188552 & -0.503539125133774 & -0.500550378111562 & -0.500030757855162\\\\0.742854814300886 & -0.0554816792163002 & -0.532858166297041 & 0.156886022076519 & 0.256445317706937 & 0.266032437599413\\end{matrix}\\right]$"
      ],
      "text/plain": [
       "<IPython.core.display.Math object>"
      ]
     },
     "metadata": {},
     "output_type": "display_data"
    },
    {
     "data": {
      "text/latex": [
       "$\\displaystyle -Q_5^T\\left[\\begin{matrix}0.218798309071008 & 0.952616241182988 & 0.210765617653878 & 0.0150503395410275 & 0.000966887617110996 & 6.16853090083389 \\cdot 10^{-5}\\\\-0.125775910936647 & -0.0840823989865132 & 0.472204913188552 & 0.503539125133774 & 0.500550378111562 & 0.500030757855162\\\\-0.742854814300886 & 0.0554816792163002 & 0.532858166297041 & -0.156886022076519 & -0.256445317706937 & -0.266032437599413\\end{matrix}\\right]$"
      ],
      "text/plain": [
       "<IPython.core.display.Math object>"
      ]
     },
     "metadata": {},
     "output_type": "display_data"
    },
    {
     "data": {
      "text/latex": [
       "$\\displaystyle g(\\lambda_5) = \\left[\\begin{matrix}22.8860769003718\\\\-64.0048089921506\\\\-35.9567537392978\\\\40.1507946037826\\\\8.32933932396907\\\\19.2127292055623\\end{matrix}\\right]$"
      ],
      "text/plain": [
       "<IPython.core.display.Math object>"
      ]
     },
     "metadata": {},
     "output_type": "display_data"
    },
    {
     "data": {
      "text/latex": [
       "$\\displaystyle \\delta_5 = \\left[\\begin{matrix}23.3394340947612\\\\23.9739844752433\\\\-0.00156433048288273\\end{matrix}\\right]$"
      ],
      "text/plain": [
       "<IPython.core.display.Math object>"
      ]
     },
     "metadata": {},
     "output_type": "display_data"
    },
    {
     "name": "stdout",
     "output_type": "stream",
     "text": [
      "\n"
     ]
    },
    {
     "data": {
      "text/latex": [
       "$\\displaystyle \\text{Aktuelles } p: 0$"
      ],
      "text/plain": [
       "<IPython.core.display.Math object>"
      ]
     },
     "metadata": {},
     "output_type": "display_data"
    },
    {
     "data": {
      "text/latex": [
       "$\\displaystyle \\text{Optimales } p: 1$"
      ],
      "text/plain": [
       "<IPython.core.display.Math object>"
      ]
     },
     "metadata": {},
     "output_type": "display_data"
    },
    {
     "data": {
      "text/latex": [
       "$\\displaystyle \\text{{Lambda berechnen: }} \\lambda_6 = \\lambda_5 + \\frac{{\\delta_5}}{{2^1}}$"
      ],
      "text/plain": [
       "<IPython.core.display.Math object>"
      ]
     },
     "metadata": {},
     "output_type": "display_data"
    },
    {
     "data": {
      "text/latex": [
       "$\\displaystyle \\left[\\begin{matrix}30.0139230996282\\\\490.795215212622\\\\0.0028041346359667\\end{matrix}\\right] + \\frac{{\\left[\\begin{matrix}23.3394340947612\\\\23.9739844752433\\\\-0.00156433048288273\\end{matrix}\\right]}}{{2^1}} = \\left[\\begin{matrix}41.6836401470088\\\\502.782207450244\\\\0.00202196939452533\\end{matrix}\\right]$"
      ],
      "text/plain": [
       "<IPython.core.display.Math object>"
      ]
     },
     "metadata": {},
     "output_type": "display_data"
    },
    {
     "name": "stdout",
     "output_type": "stream",
     "text": [
      "\n"
     ]
    },
    {
     "data": {
      "text/latex": [
       "$\\displaystyle \\lambda_{6} = 41.68, 502.78, 0.00$"
      ],
      "text/plain": [
       "<IPython.core.display.Math object>"
      ]
     },
     "metadata": {},
     "output_type": "display_data"
    },
    {
     "data": {
      "text/latex": [
       "$\\displaystyle \\text{Inkrement} = 16.729323939792355$"
      ],
      "text/plain": [
       "<IPython.core.display.Math object>"
      ]
     },
     "metadata": {},
     "output_type": "display_data"
    },
    {
     "data": {
      "text/latex": [
       "$\\displaystyle \\text{Fehlerfunktional} = 2127.760470474673$"
      ],
      "text/plain": [
       "<IPython.core.display.Math object>"
      ]
     },
     "metadata": {},
     "output_type": "display_data"
    },
    {
     "name": "stdout",
     "output_type": "stream",
     "text": [
      "-----------------------------------------\n",
      "\n"
     ]
    },
    {
     "data": {
      "text/latex": [
       "$\\displaystyle \\text{Iteration: } 7$"
      ],
      "text/plain": [
       "<IPython.core.display.Math object>"
      ]
     },
     "metadata": {},
     "output_type": "display_data"
    },
    {
     "data": {
      "text/latex": [
       "$\\displaystyle \\text{{QR-Zerlegung von }} Dg(\\lambda_{6}) = Q_6 \\cdot R_6:$"
      ],
      "text/plain": [
       "<IPython.core.display.Math object>"
      ]
     },
     "metadata": {},
     "output_type": "display_data"
    },
    {
     "data": {
      "text/latex": [
       "$\\displaystyle \\text{{Q}}_6= \\left[\\begin{matrix}-0.264423950594085 & -0.166832650365438 & 0.582322396709836\\\\-0.840309005948572 & -0.199751638163191 & 0.16656721277529\\\\-0.465916688413267 & 0.349631529657787 & -0.643405942681742\\\\-0.0821837487034666 & 0.516349608615918 & 0.023430316524518\\\\-0.0112265428029298 & 0.522346273358966 & 0.300199535737675\\\\-0.00147801139829357 & 0.520155165006088 & 0.358491341388669\\end{matrix}\\right]$"
      ],
      "text/plain": [
       "<IPython.core.display.Math object>"
      ]
     },
     "metadata": {},
     "output_type": "display_data"
    },
    {
     "data": {
      "text/latex": [
       "$\\displaystyle \\text{{R}}_6= \\left[\\begin{matrix}3.78180568648674 & 1.21494705266997 & 168787.72318249\\\\0 & -1.92564883867714 & -45437.1911736882\\\\0 & 0 & 63626.4546175261\\end{matrix}\\right]$"
      ],
      "text/plain": [
       "<IPython.core.display.Math object>"
      ]
     },
     "metadata": {},
     "output_type": "display_data"
    },
    {
     "data": {
      "text/latex": [
       "$\\displaystyle Dg(\\lambda_{6}) = \\left[\\begin{matrix}-1.0 & 0 & 0\\\\-3.17788537710233 & -0.636279440056449 & -122159.609308908\\\\-1.76200638167036 & -1.23933165642788 & -135464.930696097\\\\-0.310802968183567 & -1.09415692744728 & -35842.2957343791\\\\-0.0424566034117067 & -1.01949514977112 & -6528.21794357667\\\\-0.00558955191075884 & -1.00343189501806 & -1074.32678747647\\end{matrix}\\right]$"
      ],
      "text/plain": [
       "<IPython.core.display.Math object>"
      ]
     },
     "metadata": {},
     "output_type": "display_data"
    },
    {
     "name": "stdout",
     "output_type": "stream",
     "text": [
      "\n"
     ]
    },
    {
     "data": {
      "text/latex": [
       "$\\displaystyle \\text{{Auflösen nach }} \\delta_6\\text{{ mit }} R_6\\cdot \\delta_6= -Q_6^T \\cdot g(\\lambda_6):$"
      ],
      "text/plain": [
       "<IPython.core.display.Math object>"
      ]
     },
     "metadata": {},
     "output_type": "display_data"
    },
    {
     "data": {
      "text/latex": [
       "$\\displaystyle Q_6^T\\left[\\begin{matrix}-0.264423950594085 & -0.840309005948572 & -0.465916688413267 & -0.0821837487034666 & -0.0112265428029298 & -0.00147801139829357\\\\-0.166832650365438 & -0.199751638163191 & 0.349631529657787 & 0.516349608615918 & 0.522346273358966 & 0.520155165006088\\\\0.582322396709836 & 0.16656721277529 & -0.643405942681742 & 0.023430316524518 & 0.300199535737675 & 0.358491341388669\\end{matrix}\\right]$"
      ],
      "text/plain": [
       "<IPython.core.display.Math object>"
      ]
     },
     "metadata": {},
     "output_type": "display_data"
    },
    {
     "data": {
      "text/latex": [
       "$\\displaystyle -Q_6^T\\left[\\begin{matrix}0.264423950594085 & 0.840309005948572 & 0.465916688413267 & 0.0821837487034666 & 0.0112265428029298 & 0.00147801139829357\\\\0.166832650365438 & 0.199751638163191 & -0.349631529657787 & -0.516349608615918 & -0.522346273358966 & -0.520155165006088\\\\-0.582322396709836 & -0.16656721277529 & 0.643405942681742 & -0.023430316524518 & -0.300199535737675 & -0.358491341388669\\end{matrix}\\right]$"
      ],
      "text/plain": [
       "<IPython.core.display.Math object>"
      ]
     },
     "metadata": {},
     "output_type": "display_data"
    },
    {
     "data": {
      "text/latex": [
       "$\\displaystyle g(\\lambda_6) = \\left[\\begin{matrix}11.2163598529912\\\\-21.3728206445778\\\\3.3451979669448\\\\38.3939906431318\\\\-2.15391078251406\\\\7.43155981040422\\end{matrix}\\right]$"
      ],
      "text/plain": [
       "<IPython.core.display.Math object>"
      ]
     },
     "metadata": {},
     "output_type": "display_data"
    },
    {
     "data": {
      "text/latex": [
       "$\\displaystyle \\delta_6 = \\left[\\begin{matrix}-4.90580534723981\\\\14.9565144916012\\\\-5.87230003720933 \\cdot 10^{-5}\\end{matrix}\\right]$"
      ],
      "text/plain": [
       "<IPython.core.display.Math object>"
      ]
     },
     "metadata": {},
     "output_type": "display_data"
    },
    {
     "name": "stdout",
     "output_type": "stream",
     "text": [
      "\n"
     ]
    },
    {
     "data": {
      "text/latex": [
       "$\\displaystyle \\text{Optimales } p: 0$"
      ],
      "text/plain": [
       "<IPython.core.display.Math object>"
      ]
     },
     "metadata": {},
     "output_type": "display_data"
    },
    {
     "data": {
      "text/latex": [
       "$\\displaystyle \\text{{Lambda berechnen: }} \\lambda_7 = \\lambda_6 + \\frac{{\\delta_6}}{{2^0}}$"
      ],
      "text/plain": [
       "<IPython.core.display.Math object>"
      ]
     },
     "metadata": {},
     "output_type": "display_data"
    },
    {
     "data": {
      "text/latex": [
       "$\\displaystyle \\left[\\begin{matrix}41.6836401470088\\\\502.782207450244\\\\0.00202196939452533\\end{matrix}\\right] + \\frac{{\\left[\\begin{matrix}-4.90580534723981\\\\14.9565144916012\\\\-5.87230003720933 \\cdot 10^{-5}\\end{matrix}\\right]}}{{2^0}} = \\left[\\begin{matrix}36.777834799769\\\\517.738721941845\\\\0.00196324639415324\\end{matrix}\\right]$"
      ],
      "text/plain": [
       "<IPython.core.display.Math object>"
      ]
     },
     "metadata": {},
     "output_type": "display_data"
    },
    {
     "name": "stdout",
     "output_type": "stream",
     "text": [
      "\n"
     ]
    },
    {
     "data": {
      "text/latex": [
       "$\\displaystyle \\lambda_{7} = 36.78, 517.74, 0.00$"
      ],
      "text/plain": [
       "<IPython.core.display.Math object>"
      ]
     },
     "metadata": {},
     "output_type": "display_data"
    },
    {
     "data": {
      "text/latex": [
       "$\\displaystyle \\text{Inkrement} = 15.740528956992915$"
      ],
      "text/plain": [
       "<IPython.core.display.Math object>"
      ]
     },
     "metadata": {},
     "output_type": "display_data"
    },
    {
     "data": {
      "text/latex": [
       "$\\displaystyle \\text{Fehlerfunktional} = 1331.0899279682576$"
      ],
      "text/plain": [
       "<IPython.core.display.Math object>"
      ]
     },
     "metadata": {},
     "output_type": "display_data"
    },
    {
     "name": "stdout",
     "output_type": "stream",
     "text": [
      "-----------------------------------------\n",
      "\n"
     ]
    },
    {
     "data": {
      "text/latex": [
       "$\\displaystyle \\text{Iteration: } 8$"
      ],
      "text/plain": [
       "<IPython.core.display.Math object>"
      ]
     },
     "metadata": {},
     "output_type": "display_data"
    },
    {
     "data": {
      "text/latex": [
       "$\\displaystyle \\text{{QR-Zerlegung von }} Dg(\\lambda_{7}) = Q_7 \\cdot R_7:$"
      ],
      "text/plain": [
       "<IPython.core.display.Math object>"
      ]
     },
     "metadata": {},
     "output_type": "display_data"
    },
    {
     "data": {
      "text/latex": [
       "$\\displaystyle \\text{{Q}}_7= \\left[\\begin{matrix}-0.230870124573336 & -0.153398569335923 & 0.524809067694071\\\\-0.814291228850545 & -0.230815519023592 & 0.267132508804267\\\\-0.523491958892671 & 0.315435992716179 & -0.655154039955286\\\\-0.0969718949017275 & 0.518326864930916 & -0.00383827033888446\\\\-0.0133529749941333 & 0.527936122233155 & 0.30029041394472\\\\-0.00176034918420206 & 0.525655706270776 & 0.365786528059741\\end{matrix}\\right]$"
      ],
      "text/plain": [
       "<IPython.core.display.Math object>"
      ]
     },
     "metadata": {},
     "output_type": "display_data"
    },
    {
     "data": {
      "text/latex": [
       "$\\displaystyle \\text{{R}}_7= \\left[\\begin{matrix}4.33143959985325 & 1.26634081100173 & 190026.385653442\\\\0 & -1.90588648938464 & -49942.3030218189\\\\0 & 0 & 68997.164348256\\end{matrix}\\right]$"
      ],
      "text/plain": [
       "<IPython.core.display.Math object>"
      ]
     },
     "metadata": {},
     "output_type": "display_data"
    },
    {
     "data": {
      "text/latex": [
       "$\\displaystyle Dg(\\lambda_{7}) = \\left[\\begin{matrix}-1.0 & 0 & 0\\\\-3.52705327445642 & -0.591262035886829 & -124777.974881824\\\\-2.26747380095247 & -1.26410442856043 & -160434.655767453\\\\-0.42002790565015 & -1.11067163699116 & -44578.4858202549\\\\-0.0578376046654393 & -1.02309573980565 & -8184.57632543848\\\\-0.00762484616602218 & -1.00406931066298 & -1348.73616776928\\end{matrix}\\right]$"
      ],
      "text/plain": [
       "<IPython.core.display.Math object>"
      ]
     },
     "metadata": {},
     "output_type": "display_data"
    },
    {
     "name": "stdout",
     "output_type": "stream",
     "text": [
      "\n"
     ]
    },
    {
     "data": {
      "text/latex": [
       "$\\displaystyle \\text{{Auflösen nach }} \\delta_7\\text{{ mit }} R_7\\cdot \\delta_7= -Q_7^T \\cdot g(\\lambda_7):$"
      ],
      "text/plain": [
       "<IPython.core.display.Math object>"
      ]
     },
     "metadata": {},
     "output_type": "display_data"
    },
    {
     "data": {
      "text/latex": [
       "$\\displaystyle Q_7^T\\left[\\begin{matrix}-0.230870124573336 & -0.814291228850545 & -0.523491958892671 & -0.0969718949017275 & -0.0133529749941333 & -0.00176034918420206\\\\-0.153398569335923 & -0.230815519023592 & 0.315435992716179 & 0.518326864930916 & 0.527936122233155 & 0.525655706270776\\\\0.524809067694071 & 0.267132508804267 & -0.655154039955286 & -0.00383827033888446 & 0.30029041394472 & 0.365786528059741\\end{matrix}\\right]$"
      ],
      "text/plain": [
       "<IPython.core.display.Math object>"
      ]
     },
     "metadata": {},
     "output_type": "display_data"
    },
    {
     "data": {
      "text/latex": [
       "$\\displaystyle -Q_7^T\\left[\\begin{matrix}0.230870124573336 & 0.814291228850545 & 0.523491958892671 & 0.0969718949017275 & 0.0133529749941333 & 0.00176034918420206\\\\0.153398569335923 & 0.230815519023592 & -0.315435992716179 & -0.518326864930916 & -0.527936122233155 & -0.525655706270776\\\\-0.524809067694071 & -0.267132508804267 & 0.655154039955286 & 0.00383827033888446 & -0.30029041394472 & -0.365786528059741\\end{matrix}\\right]$"
      ],
      "text/plain": [
       "<IPython.core.display.Math object>"
      ]
     },
     "metadata": {},
     "output_type": "display_data"
    },
    {
     "data": {
      "text/latex": [
       "$\\displaystyle g(\\lambda_7) = \\left[\\begin{matrix}16.122165200231\\\\-6.86672419423786\\\\3.1041713245308\\\\26.0331207852723\\\\-16.7550826621332\\\\-7.47808555831341\\end{matrix}\\right]$"
      ],
      "text/plain": [
       "<IPython.core.display.Math object>"
      ]
     },
     "metadata": {},
     "output_type": "display_data"
    },
    {
     "data": {
      "text/latex": [
       "$\\displaystyle \\delta_7 = \\left[\\begin{matrix}-1.37030665166898\\\\-0.819270094860179\\\\4.74464857327283 \\cdot 10^{-5}\\end{matrix}\\right]$"
      ],
      "text/plain": [
       "<IPython.core.display.Math object>"
      ]
     },
     "metadata": {},
     "output_type": "display_data"
    },
    {
     "name": "stdout",
     "output_type": "stream",
     "text": [
      "\n"
     ]
    },
    {
     "data": {
      "text/latex": [
       "$\\displaystyle \\text{Optimales } p: 0$"
      ],
      "text/plain": [
       "<IPython.core.display.Math object>"
      ]
     },
     "metadata": {},
     "output_type": "display_data"
    },
    {
     "data": {
      "text/latex": [
       "$\\displaystyle \\text{{Lambda berechnen: }} \\lambda_8 = \\lambda_7 + \\frac{{\\delta_7}}{{2^0}}$"
      ],
      "text/plain": [
       "<IPython.core.display.Math object>"
      ]
     },
     "metadata": {},
     "output_type": "display_data"
    },
    {
     "data": {
      "text/latex": [
       "$\\displaystyle \\left[\\begin{matrix}36.777834799769\\\\517.738721941845\\\\0.00196324639415324\\end{matrix}\\right] + \\frac{{\\left[\\begin{matrix}-1.37030665166898\\\\-0.819270094860179\\\\4.74464857327283 \\cdot 10^{-5}\\end{matrix}\\right]}}{{2^0}} = \\left[\\begin{matrix}35.4075281481\\\\516.919451846985\\\\0.00201069287988597\\end{matrix}\\right]$"
      ],
      "text/plain": [
       "<IPython.core.display.Math object>"
      ]
     },
     "metadata": {},
     "output_type": "display_data"
    },
    {
     "name": "stdout",
     "output_type": "stream",
     "text": [
      "\n"
     ]
    },
    {
     "data": {
      "text/latex": [
       "$\\displaystyle \\lambda_{8} = 35.41, 516.92, 0.00$"
      ],
      "text/plain": [
       "<IPython.core.display.Math object>"
      ]
     },
     "metadata": {},
     "output_type": "display_data"
    },
    {
     "data": {
      "text/latex": [
       "$\\displaystyle \\text{Inkrement} = 1.5965412021590988$"
      ],
      "text/plain": [
       "<IPython.core.display.Math object>"
      ]
     },
     "metadata": {},
     "output_type": "display_data"
    },
    {
     "data": {
      "text/latex": [
       "$\\displaystyle \\text{Fehlerfunktional} = 1317.3043679117484$"
      ],
      "text/plain": [
       "<IPython.core.display.Math object>"
      ]
     },
     "metadata": {},
     "output_type": "display_data"
    },
    {
     "name": "stdout",
     "output_type": "stream",
     "text": [
      "-----------------------------------------\n",
      "\n"
     ]
    },
    {
     "data": {
      "text/latex": [
       "$\\displaystyle \\text{Iteration: } 9$"
      ],
      "text/plain": [
       "<IPython.core.display.Math object>"
      ]
     },
     "metadata": {},
     "output_type": "display_data"
    },
    {
     "data": {
      "text/latex": [
       "$\\displaystyle \\text{{QR-Zerlegung von }} Dg(\\lambda_{8}) = Q_8 \\cdot R_8:$"
      ],
      "text/plain": [
       "<IPython.core.display.Math object>"
      ]
     },
     "metadata": {},
     "output_type": "display_data"
    },
    {
     "data": {
      "text/latex": [
       "$\\displaystyle \\text{{Q}}_8= \\left[\\begin{matrix}-0.225569537705432 & -0.148586048083539 & 0.5210354409102\\\\-0.824275109515006 & -0.226955434772312 & 0.262049820884157\\\\-0.511447440404357 & 0.327271004142814 & -0.662055433430663\\\\-0.0892835743277494 & 0.518465412633902 & 0.0113812862737275\\\\-0.0116928272927161 & 0.52576253220429 & 0.301755765162033\\\\-0.00147117041096757 & 0.523521233974393 & 0.361038070387685\\end{matrix}\\right]$"
      ],
      "text/plain": [
       "<IPython.core.display.Math object>"
      ]
     },
     "metadata": {},
     "output_type": "display_data"
    },
    {
     "data": {
      "text/latex": [
       "$\\displaystyle \\text{{R}}_8= \\left[\\begin{matrix}4.43322272223604 & 1.26026278151708 & 185488.751285056\\\\0 & -1.91321390319459 & -47617.5331605865\\\\0 & 0 & 66723.504920083\\end{matrix}\\right]$"
      ],
      "text/plain": [
       "<IPython.core.display.Math object>"
      ]
     },
     "metadata": {},
     "output_type": "display_data"
    },
    {
     "data": {
      "text/latex": [
       "$\\displaystyle Dg(\\lambda_{8}) = \\left[\\begin{matrix}-1.0 & 0 & 0\\\\-3.65419514487553 & -0.604588949040711 & -124601.820324974\\\\-2.26736041403006 & -1.27069760908227 & -154626.24393069\\\\-0.395813970432229 & -1.10445600150278 & -40489.7433803507\\\\-0.0518369076412509 & -1.02063222143976 & -7070.20046389714\\\\-0.00652202609418277 & -1.00346216477161 & -1111.94981565473\\end{matrix}\\right]$"
      ],
      "text/plain": [
       "<IPython.core.display.Math object>"
      ]
     },
     "metadata": {},
     "output_type": "display_data"
    },
    {
     "name": "stdout",
     "output_type": "stream",
     "text": [
      "\n"
     ]
    },
    {
     "data": {
      "text/latex": [
       "$\\displaystyle \\text{{Auflösen nach }} \\delta_8\\text{{ mit }} R_8\\cdot \\delta_8= -Q_8^T \\cdot g(\\lambda_8):$"
      ],
      "text/plain": [
       "<IPython.core.display.Math object>"
      ]
     },
     "metadata": {},
     "output_type": "display_data"
    },
    {
     "data": {
      "text/latex": [
       "$\\displaystyle Q_8^T\\left[\\begin{matrix}-0.225569537705432 & -0.824275109515006 & -0.511447440404357 & -0.0892835743277494 & -0.0116928272927161 & -0.00147117041096757\\\\-0.148586048083539 & -0.226955434772312 & 0.327271004142814 & 0.518465412633902 & 0.52576253220429 & 0.523521233974393\\\\0.5210354409102 & 0.262049820884157 & -0.662055433430663 & 0.0113812862737275 & 0.301755765162033 & 0.361038070387685\\end{matrix}\\right]$"
      ],
      "text/plain": [
       "<IPython.core.display.Math object>"
      ]
     },
     "metadata": {},
     "output_type": "display_data"
    },
    {
     "data": {
      "text/latex": [
       "$\\displaystyle -Q_8^T\\left[\\begin{matrix}0.225569537705432 & 0.824275109515006 & 0.511447440404357 & 0.0892835743277494 & 0.0116928272927161 & 0.00147117041096757\\\\0.148586048083539 & 0.226955434772312 & -0.327271004142814 & -0.518465412633902 & -0.52576253220429 & -0.523521233974393\\\\-0.5210354409102 & -0.262049820884157 & 0.662055433430663 & -0.0113812862737275 & -0.301755765162033 & -0.361038070387685\\end{matrix}\\right]$"
      ],
      "text/plain": [
       "<IPython.core.display.Math object>"
      ]
     },
     "metadata": {},
     "output_type": "display_data"
    },
    {
     "data": {
      "text/latex": [
       "$\\displaystyle g(\\lambda_8) = \\left[\\begin{matrix}17.4924718519\\\\-7.37381263344406\\\\-0.22405151679186\\\\25.4828535378607\\\\-16.2040634783056\\\\-6.70425140831571\\end{matrix}\\right]$"
      ],
      "text/plain": [
       "<IPython.core.display.Math object>"
      ]
     },
     "metadata": {},
     "output_type": "display_data"
    },
    {
     "data": {
      "text/latex": [
       "$\\displaystyle \\delta_8 = \\left[\\begin{matrix}0.0956958164776667\\\\0.211703907034679\\\\-4.64744941489302 \\cdot 10^{-6}\\end{matrix}\\right]$"
      ],
      "text/plain": [
       "<IPython.core.display.Math object>"
      ]
     },
     "metadata": {},
     "output_type": "display_data"
    },
    {
     "name": "stdout",
     "output_type": "stream",
     "text": [
      "\n"
     ]
    },
    {
     "data": {
      "text/latex": [
       "$\\displaystyle \\text{Optimales } p: 0$"
      ],
      "text/plain": [
       "<IPython.core.display.Math object>"
      ]
     },
     "metadata": {},
     "output_type": "display_data"
    },
    {
     "data": {
      "text/latex": [
       "$\\displaystyle \\text{{Lambda berechnen: }} \\lambda_9 = \\lambda_8 + \\frac{{\\delta_8}}{{2^0}}$"
      ],
      "text/plain": [
       "<IPython.core.display.Math object>"
      ]
     },
     "metadata": {},
     "output_type": "display_data"
    },
    {
     "data": {
      "text/latex": [
       "$\\displaystyle \\left[\\begin{matrix}35.4075281481\\\\516.919451846985\\\\0.00201069287988597\\end{matrix}\\right] + \\frac{{\\left[\\begin{matrix}0.0956958164776667\\\\0.211703907034679\\\\-4.64744941489302 \\cdot 10^{-6}\\end{matrix}\\right]}}{{2^0}} = \\left[\\begin{matrix}35.5032239645777\\\\517.13115575402\\\\0.00200604543047107\\end{matrix}\\right]$"
      ],
      "text/plain": [
       "<IPython.core.display.Math object>"
      ]
     },
     "metadata": {},
     "output_type": "display_data"
    },
    {
     "name": "stdout",
     "output_type": "stream",
     "text": [
      "\n"
     ]
    },
    {
     "data": {
      "text/latex": [
       "$\\displaystyle \\lambda_{9} = 35.50, 517.13, 0.00$"
      ],
      "text/plain": [
       "<IPython.core.display.Math object>"
      ]
     },
     "metadata": {},
     "output_type": "display_data"
    },
    {
     "data": {
      "text/latex": [
       "$\\displaystyle \\text{Inkrement} = 0.2323278579221052$"
      ],
      "text/plain": [
       "<IPython.core.display.Math object>"
      ]
     },
     "metadata": {},
     "output_type": "display_data"
    },
    {
     "data": {
      "text/latex": [
       "$\\displaystyle \\text{Fehlerfunktional} = 1317.1652107909522$"
      ],
      "text/plain": [
       "<IPython.core.display.Math object>"
      ]
     },
     "metadata": {},
     "output_type": "display_data"
    },
    {
     "name": "stdout",
     "output_type": "stream",
     "text": [
      "-----------------------------------------\n",
      "\n"
     ]
    },
    {
     "data": {
      "text/latex": [
       "$\\displaystyle \\text{Iteration: } 10$"
      ],
      "text/plain": [
       "<IPython.core.display.Math object>"
      ]
     },
     "metadata": {},
     "output_type": "display_data"
    },
    {
     "data": {
      "text/latex": [
       "$\\displaystyle \\text{{QR-Zerlegung von }} Dg(\\lambda_{9}) = Q_9 \\cdot R_9:$"
      ],
      "text/plain": [
       "<IPython.core.display.Math object>"
      ]
     },
     "metadata": {},
     "output_type": "display_data"
    },
    {
     "data": {
      "text/latex": [
       "$\\displaystyle \\text{{Q}}_9= \\left[\\begin{matrix}-0.225857623839193 & -0.148928849124243 & 0.521038582228941\\\\-0.823258735170385 & -0.227457245132966 & 0.263038284046016\\\\-0.512825191246514 & 0.326068412860931 & -0.661504598569581\\\\-0.0900072866878723 & 0.518473676073385 & 0.00994844326107049\\\\-0.0118390671183797 & 0.525978054455777 & 0.301635608063375\\\\-0.00149558523732568 & 0.523731728196096 & 0.361466888457572\\end{matrix}\\right]$"
      ],
      "text/plain": [
       "<IPython.core.display.Math object>"
      ]
     },
     "metadata": {},
     "output_type": "display_data"
    },
    {
     "data": {
      "text/latex": [
       "$\\displaystyle \\text{{R}}_9= \\left[\\begin{matrix}4.42756805372213 & 1.26107725008997 & 186032.47747201\\\\0 & -1.91248312773417 & -47847.7848167515\\\\0 & 0 & 66964.2114478046\\end{matrix}\\right]$"
      ],
      "text/plain": [
       "<IPython.core.display.Math object>"
      ]
     },
     "metadata": {},
     "output_type": "display_data"
    },
    {
     "data": {
      "text/latex": [
       "$\\displaystyle Dg(\\lambda_{9}) = \\left[\\begin{matrix}-1.0 & 0 & 0\\\\-3.64503407578809 & -0.60318471826352 & -124655.385512362\\\\-2.27056843390701 & -1.27031252003761 & -155300.925904065\\\\-0.398513387141433 & -1.10507829924906 & -40885.905760877\\\\-0.0524182753592102 & -1.0208541329104 & -7170.54511638027\\\\-0.00662180541840161 & -1.00351414215246 & -1132.28530934959\\end{matrix}\\right]$"
      ],
      "text/plain": [
       "<IPython.core.display.Math object>"
      ]
     },
     "metadata": {},
     "output_type": "display_data"
    },
    {
     "name": "stdout",
     "output_type": "stream",
     "text": [
      "\n"
     ]
    },
    {
     "data": {
      "text/latex": [
       "$\\displaystyle \\text{{Auflösen nach }} \\delta_9\\text{{ mit }} R_9\\cdot \\delta_9= -Q_9^T \\cdot g(\\lambda_9):$"
      ],
      "text/plain": [
       "<IPython.core.display.Math object>"
      ]
     },
     "metadata": {},
     "output_type": "display_data"
    },
    {
     "data": {
      "text/latex": [
       "$\\displaystyle Q_9^T\\left[\\begin{matrix}-0.225857623839193 & -0.823258735170385 & -0.512825191246514 & -0.0900072866878723 & -0.0118390671183797 & -0.00149558523732568\\\\-0.148928849124243 & -0.227457245132966 & 0.326068412860931 & 0.518473676073385 & 0.525978054455777 & 0.523731728196096\\\\0.521038582228941 & 0.263038284046016 & -0.661504598569581 & 0.00994844326107049 & 0.301635608063375 & 0.361466888457572\\end{matrix}\\right]$"
      ],
      "text/plain": [
       "<IPython.core.display.Math object>"
      ]
     },
     "metadata": {},
     "output_type": "display_data"
    },
    {
     "data": {
      "text/latex": [
       "$\\displaystyle -Q_9^T\\left[\\begin{matrix}0.225857623839193 & 0.823258735170385 & 0.512825191246514 & 0.0900072866878723 & 0.0118390671183797 & 0.00149558523732568\\\\0.148928849124243 & 0.227457245132966 & -0.326068412860931 & -0.518473676073385 & -0.525978054455777 & -0.523731728196096\\\\-0.521038582228941 & -0.263038284046016 & 0.661504598569581 & -0.00994844326107049 & -0.301635608063375 & -0.361466888457572\\end{matrix}\\right]$"
      ],
      "text/plain": [
       "<IPython.core.display.Math object>"
      ]
     },
     "metadata": {},
     "output_type": "display_data"
    },
    {
     "data": {
      "text/latex": [
       "$\\displaystyle g(\\lambda_9) = \\left[\\begin{matrix}17.3967760354223\\\\-7.27170514931527\\\\0.0100314660252252\\\\25.4000562963589\\\\-16.3920561134344\\\\-6.91210781681218\\end{matrix}\\right]$"
      ],
      "text/plain": [
       "<IPython.core.display.Math object>"
      ]
     },
     "metadata": {},
     "output_type": "display_data"
    },
    {
     "data": {
      "text/latex": [
       "$\\displaystyle \\delta_9 = \\left[\\begin{matrix}-0.0159288826949917\\\\-0.0201875813431084\\\\6.75227605326189 \\cdot 10^{-7}\\end{matrix}\\right]$"
      ],
      "text/plain": [
       "<IPython.core.display.Math object>"
      ]
     },
     "metadata": {},
     "output_type": "display_data"
    },
    {
     "name": "stdout",
     "output_type": "stream",
     "text": [
      "\n"
     ]
    },
    {
     "data": {
      "text/latex": [
       "$\\displaystyle \\text{Optimales } p: 0$"
      ],
      "text/plain": [
       "<IPython.core.display.Math object>"
      ]
     },
     "metadata": {},
     "output_type": "display_data"
    },
    {
     "data": {
      "text/latex": [
       "$\\displaystyle \\text{{Lambda berechnen: }} \\lambda_10 = \\lambda_9 + \\frac{{\\delta_9}}{{2^0}}$"
      ],
      "text/plain": [
       "<IPython.core.display.Math object>"
      ]
     },
     "metadata": {},
     "output_type": "display_data"
    },
    {
     "data": {
      "text/latex": [
       "$\\displaystyle \\left[\\begin{matrix}35.5032239645777\\\\517.13115575402\\\\0.00200604543047107\\end{matrix}\\right] + \\frac{{\\left[\\begin{matrix}-0.0159288826949917\\\\-0.0201875813431084\\\\6.75227605326189 \\cdot 10^{-7}\\end{matrix}\\right]}}{{2^0}} = \\left[\\begin{matrix}35.4872950818827\\\\517.110968172677\\\\0.0020067206580764\\end{matrix}\\right]$"
      ],
      "text/plain": [
       "<IPython.core.display.Math object>"
      ]
     },
     "metadata": {},
     "output_type": "display_data"
    },
    {
     "name": "stdout",
     "output_type": "stream",
     "text": [
      "\n"
     ]
    },
    {
     "data": {
      "text/latex": [
       "$\\displaystyle \\lambda_{10} = 35.49, 517.11, 0.00$"
      ],
      "text/plain": [
       "<IPython.core.display.Math object>"
      ]
     },
     "metadata": {},
     "output_type": "display_data"
    },
    {
     "data": {
      "text/latex": [
       "$\\displaystyle \\text{Inkrement} = 0.025715126771053604$"
      ],
      "text/plain": [
       "<IPython.core.display.Math object>"
      ]
     },
     "metadata": {},
     "output_type": "display_data"
    },
    {
     "data": {
      "text/latex": [
       "$\\displaystyle \\text{Fehlerfunktional} = 1317.1626643668615$"
      ],
      "text/plain": [
       "<IPython.core.display.Math object>"
      ]
     },
     "metadata": {},
     "output_type": "display_data"
    },
    {
     "name": "stdout",
     "output_type": "stream",
     "text": [
      "-----------------------------------------\n",
      "\n"
     ]
    },
    {
     "data": {
      "text/latex": [
       "$\\displaystyle \\text{Iteration: } 11$"
      ],
      "text/plain": [
       "<IPython.core.display.Math object>"
      ]
     },
     "metadata": {},
     "output_type": "display_data"
    },
    {
     "data": {
      "text/latex": [
       "$\\displaystyle \\text{{QR-Zerlegung von }} Dg(\\lambda_{10}) = Q_10 \\cdot R_10:$"
      ],
      "text/plain": [
       "<IPython.core.display.Math object>"
      ]
     },
     "metadata": {},
     "output_type": "display_data"
    },
    {
     "data": {
      "text/latex": [
       "$\\displaystyle \\text{{Q}}_10= \\left[\\begin{matrix}-0.225802286762854 & -0.148871064814691 & 0.521018425237222\\\\-0.823407475234982 & -0.227388956240278 & 0.262916928761502\\\\-0.512630240453728 & 0.326244282742059 & -0.661592555326639\\\\-0.0898990038965389 & 0.518473184195892 & 0.0101635168317965\\\\-0.0118168149733773 & 0.525946273397036 & 0.301654230147761\\\\-0.00149183593841913 & 0.523700688741727 & 0.361401726932625\\end{matrix}\\right]$"
      ],
      "text/plain": [
       "<IPython.core.display.Math object>"
      ]
     },
     "metadata": {},
     "output_type": "display_data"
    },
    {
     "data": {
      "text/latex": [
       "$\\displaystyle \\text{{R}}_10= \\left[\\begin{matrix}4.42865311213717 & 1.26096774890331 & 185960.313537552\\\\0 & -1.91259061383752 & -47814.7029122294\\\\0 & 0 & 66930.5280167345\\end{matrix}\\right]$"
      ],
      "text/plain": [
       "<IPython.core.display.Math object>"
      ]
     },
     "metadata": {},
     "output_type": "display_data"
    },
    {
     "data": {
      "text/latex": [
       "$\\displaystyle Dg(\\lambda_{10}) = \\left[\\begin{matrix}-1.0 & 0 & 0\\\\-3.64658607775641 & -0.603388287081748 & -124651.408009165\\\\-2.27026150976103 & -1.27038195331532 & -155208.892759683\\\\-0.398131503384438 & -1.10498669019158 & -40828.038673539\\\\-0.0523325744073963 & -1.02082052845818 & -7155.54652546678\\\\-0.00660682387147794 & -1.00350617875267 & -1129.20671621028\\end{matrix}\\right]$"
      ],
      "text/plain": [
       "<IPython.core.display.Math object>"
      ]
     },
     "metadata": {},
     "output_type": "display_data"
    },
    {
     "name": "stdout",
     "output_type": "stream",
     "text": [
      "\n"
     ]
    },
    {
     "data": {
      "text/latex": [
       "$\\displaystyle \\text{{Auflösen nach }} \\delta_10\\text{{ mit }} R_10\\cdot \\delta_10= -Q_10^T \\cdot g(\\lambda_10):$"
      ],
      "text/plain": [
       "<IPython.core.display.Math object>"
      ]
     },
     "metadata": {},
     "output_type": "display_data"
    },
    {
     "data": {
      "text/latex": [
       "$\\displaystyle Q_10^T\\left[\\begin{matrix}-0.225802286762854 & -0.823407475234982 & -0.512630240453728 & -0.0898990038965389 & -0.0118168149733773 & -0.00149183593841913\\\\-0.148871064814691 & -0.227388956240278 & 0.326244282742059 & 0.518473184195892 & 0.525946273397036 & 0.523700688741727\\\\0.521018425237222 & 0.262916928761502 & -0.661592555326639 & 0.0101635168317965 & 0.301654230147761 & 0.361401726932625\\end{matrix}\\right]$"
      ],
      "text/plain": [
       "<IPython.core.display.Math object>"
      ]
     },
     "metadata": {},
     "output_type": "display_data"
    },
    {
     "data": {
      "text/latex": [
       "$\\displaystyle -Q_10^T\\left[\\begin{matrix}0.225802286762854 & 0.823407475234982 & 0.512630240453728 & 0.0898990038965389 & 0.0118168149733773 & 0.00149183593841913\\\\0.148871064814691 & 0.227388956240278 & -0.326244282742059 & -0.518473184195892 & -0.525946273397036 & -0.523700688741727\\\\-0.521018425237222 & -0.262916928761502 & 0.661592555326639 & -0.0101635168317965 & -0.301654230147761 & -0.361401726932625\\end{matrix}\\right]$"
      ],
      "text/plain": [
       "<IPython.core.display.Math object>"
      ]
     },
     "metadata": {},
     "output_type": "display_data"
    },
    {
     "data": {
      "text/latex": [
       "$\\displaystyle g(\\lambda_10) = \\left[\\begin{matrix}17.4127049181173\\\\-7.28562198942112\\\\-0.0329905198888696\\\\25.4011213100439\\\\-16.3754502794626\\\\-6.89250752568159\\end{matrix}\\right]$"
      ],
      "text/plain": [
       "<IPython.core.display.Math object>"
      ]
     },
     "metadata": {},
     "output_type": "display_data"
    },
    {
     "data": {
      "text/latex": [
       "$\\displaystyle \\delta_10 = \\left[\\begin{matrix}0.00202180501931105\\\\0.00293864065220399\\\\-9.15841313074399 \\cdot 10^{-8}\\end{matrix}\\right]$"
      ],
      "text/plain": [
       "<IPython.core.display.Math object>"
      ]
     },
     "metadata": {},
     "output_type": "display_data"
    },
    {
     "name": "stdout",
     "output_type": "stream",
     "text": [
      "\n"
     ]
    },
    {
     "data": {
      "text/latex": [
       "$\\displaystyle \\text{Optimales } p: 0$"
      ],
      "text/plain": [
       "<IPython.core.display.Math object>"
      ]
     },
     "metadata": {},
     "output_type": "display_data"
    },
    {
     "data": {
      "text/latex": [
       "$\\displaystyle \\text{{Lambda berechnen: }} \\lambda_11 = \\lambda_10 + \\frac{{\\delta_10}}{{2^0}}$"
      ],
      "text/plain": [
       "<IPython.core.display.Math object>"
      ]
     },
     "metadata": {},
     "output_type": "display_data"
    },
    {
     "data": {
      "text/latex": [
       "$\\displaystyle \\left[\\begin{matrix}35.4872950818827\\\\517.110968172677\\\\0.0020067206580764\\end{matrix}\\right] + \\frac{{\\left[\\begin{matrix}0.00202180501931105\\\\0.00293864065220399\\\\-9.15841313074399 \\cdot 10^{-8}\\end{matrix}\\right]}}{{2^0}} = \\left[\\begin{matrix}35.489316886902\\\\517.113906813329\\\\0.00200662907394509\\end{matrix}\\right]$"
      ],
      "text/plain": [
       "<IPython.core.display.Math object>"
      ]
     },
     "metadata": {},
     "output_type": "display_data"
    },
    {
     "name": "stdout",
     "output_type": "stream",
     "text": [
      "\n"
     ]
    },
    {
     "data": {
      "text/latex": [
       "$\\displaystyle \\lambda_{11} = 35.49, 517.11, 0.00$"
      ],
      "text/plain": [
       "<IPython.core.display.Math object>"
      ]
     },
     "metadata": {},
     "output_type": "display_data"
    },
    {
     "data": {
      "text/latex": [
       "$\\displaystyle \\text{Inkrement} = 0.003566974127644454$"
      ],
      "text/plain": [
       "<IPython.core.display.Math object>"
      ]
     },
     "metadata": {},
     "output_type": "display_data"
    },
    {
     "data": {
      "text/latex": [
       "$\\displaystyle \\text{Fehlerfunktional} = 1317.1626143354792$"
      ],
      "text/plain": [
       "<IPython.core.display.Math object>"
      ]
     },
     "metadata": {},
     "output_type": "display_data"
    },
    {
     "name": "stdout",
     "output_type": "stream",
     "text": [
      "-----------------------------------------\n",
      "\n"
     ]
    },
    {
     "data": {
      "text/latex": [
       "$\\displaystyle \\text{Iteration: } 12$"
      ],
      "text/plain": [
       "<IPython.core.display.Math object>"
      ]
     },
     "metadata": {},
     "output_type": "display_data"
    },
    {
     "data": {
      "text/latex": [
       "$\\displaystyle \\text{{QR-Zerlegung von }} Dg(\\lambda_{11}) = Q_11 \\cdot R_11:$"
      ],
      "text/plain": [
       "<IPython.core.display.Math object>"
      ]
     },
     "metadata": {},
     "output_type": "display_data"
    },
    {
     "data": {
      "text/latex": [
       "$\\displaystyle \\text{{Q}}_11= \\left[\\begin{matrix}-0.22580897505024 & -0.148878521710298 & 0.521019739394883\\\\-0.823386777161665 & -0.227398840451765 & 0.26293557573266\\\\-0.512657855155164 & 0.32621979524999 & -0.661580858182035\\\\-0.0899139008127448 & 0.518473300684086 & 0.0101339889397061\\\\-0.0118198509290032 & 0.525950678499034 & 0.301651708759722\\\\-0.00149234528341601 & 0.523704991942753 & 0.361410612921998\\end{matrix}\\right]$"
      ],
      "text/plain": [
       "<IPython.core.display.Math object>"
      ]
     },
     "metadata": {},
     "output_type": "display_data"
    },
    {
     "data": {
      "text/latex": [
       "$\\displaystyle \\text{{R}}_11= \\left[\\begin{matrix}4.42852193885346 & 1.26098372287434 & 185970.427451268\\\\0 & -1.91257569423861 & -47819.226778018\\\\0 & 0 & 66935.1527082039\\end{matrix}\\right]$"
      ],
      "text/plain": [
       "<IPython.core.display.Math object>"
      ]
     },
     "metadata": {},
     "output_type": "display_data"
    },
    {
     "data": {
      "text/latex": [
       "$\\displaystyle Dg(\\lambda_{11}) = \\left[\\begin{matrix}-1.0 & 0 & 0\\\\-3.64638640682227 & -0.60335982848473 & -124651.92127177\\\\-2.2703165586802 & -1.27037326212896 & -155221.794599233\\\\-0.398185682357134 & -1.10499939838506 & -40835.9988144944\\\\-0.0523444691530682 & -1.02082512369383 & -7157.59430835208\\\\-0.00660888382795228 & -1.00350726165243 & -1129.62529845282\\end{matrix}\\right]$"
      ],
      "text/plain": [
       "<IPython.core.display.Math object>"
      ]
     },
     "metadata": {},
     "output_type": "display_data"
    },
    {
     "name": "stdout",
     "output_type": "stream",
     "text": [
      "\n"
     ]
    },
    {
     "data": {
      "text/latex": [
       "$\\displaystyle \\text{{Auflösen nach }} \\delta_11\\text{{ mit }} R_11\\cdot \\delta_11= -Q_11^T \\cdot g(\\lambda_11):$"
      ],
      "text/plain": [
       "<IPython.core.display.Math object>"
      ]
     },
     "metadata": {},
     "output_type": "display_data"
    },
    {
     "data": {
      "text/latex": [
       "$\\displaystyle Q_11^T\\left[\\begin{matrix}-0.22580897505024 & -0.823386777161665 & -0.512657855155164 & -0.0899139008127448 & -0.0118198509290032 & -0.00149234528341601\\\\-0.148878521710298 & -0.227398840451765 & 0.32621979524999 & 0.518473300684086 & 0.525950678499034 & 0.523704991942753\\\\0.521019739394883 & 0.26293557573266 & -0.661580858182035 & 0.0101339889397061 & 0.301651708759722 & 0.361410612921998\\end{matrix}\\right]$"
      ],
      "text/plain": [
       "<IPython.core.display.Math object>"
      ]
     },
     "metadata": {},
     "output_type": "display_data"
    },
    {
     "data": {
      "text/latex": [
       "$\\displaystyle -Q_11^T\\left[\\begin{matrix}0.22580897505024 & 0.823386777161665 & 0.512657855155164 & 0.0899139008127448 & 0.0118198509290032 & 0.00149234528341601\\\\0.148878521710298 & 0.227398840451765 & -0.32621979524999 & -0.518473300684086 & -0.525950678499034 & -0.523704991942753\\\\-0.521019739394883 & -0.26293557573266 & 0.661580858182035 & -0.0101339889397061 & -0.301651708759722 & -0.361410612921998\\end{matrix}\\right]$"
      ],
      "text/plain": [
       "<IPython.core.display.Math object>"
      ]
     },
     "metadata": {},
     "output_type": "display_data"
    },
    {
     "data": {
      "text/latex": [
       "$\\displaystyle g(\\lambda_11) = \\left[\\begin{matrix}17.410683113098\\\\-7.28335145871719\\\\-0.0270985225263303\\\\25.4008086984771\\\\-16.3779005009234\\\\-6.89536639453365\\end{matrix}\\right]$"
      ],
      "text/plain": [
       "<IPython.core.display.Math object>"
      ]
     },
     "metadata": {},
     "output_type": "display_data"
    },
    {
     "data": {
      "text/latex": [
       "$\\displaystyle \\delta_11 = \\left[\\begin{matrix}-0.000303437923369526\\\\-0.000411442705951267\\\\1.31996346337078 \\cdot 10^{-8}\\end{matrix}\\right]$"
      ],
      "text/plain": [
       "<IPython.core.display.Math object>"
      ]
     },
     "metadata": {},
     "output_type": "display_data"
    },
    {
     "name": "stdout",
     "output_type": "stream",
     "text": [
      "\n"
     ]
    },
    {
     "data": {
      "text/latex": [
       "$\\displaystyle \\text{Optimales } p: 0$"
      ],
      "text/plain": [
       "<IPython.core.display.Math object>"
      ]
     },
     "metadata": {},
     "output_type": "display_data"
    },
    {
     "data": {
      "text/latex": [
       "$\\displaystyle \\text{{Lambda berechnen: }} \\lambda_12 = \\lambda_11 + \\frac{{\\delta_11}}{{2^0}}$"
      ],
      "text/plain": [
       "<IPython.core.display.Math object>"
      ]
     },
     "metadata": {},
     "output_type": "display_data"
    },
    {
     "data": {
      "text/latex": [
       "$\\displaystyle \\left[\\begin{matrix}35.489316886902\\\\517.113906813329\\\\0.00200662907394509\\end{matrix}\\right] + \\frac{{\\left[\\begin{matrix}-0.000303437923369526\\\\-0.000411442705951267\\\\1.31996346337078 \\cdot 10^{-8}\\end{matrix}\\right]}}{{2^0}} = \\left[\\begin{matrix}35.4890134489786\\\\517.113495370623\\\\0.00200664227357973\\end{matrix}\\right]$"
      ],
      "text/plain": [
       "<IPython.core.display.Math object>"
      ]
     },
     "metadata": {},
     "output_type": "display_data"
    },
    {
     "name": "stdout",
     "output_type": "stream",
     "text": [
      "\n"
     ]
    },
    {
     "data": {
      "text/latex": [
       "$\\displaystyle \\lambda_{12} = 35.49, 517.11, 0.00$"
      ],
      "text/plain": [
       "<IPython.core.display.Math object>"
      ]
     },
     "metadata": {},
     "output_type": "display_data"
    },
    {
     "data": {
      "text/latex": [
       "$\\displaystyle \\text{Inkrement} = 0.00051123348266085$"
      ],
      "text/plain": [
       "<IPython.core.display.Math object>"
      ]
     },
     "metadata": {},
     "output_type": "display_data"
    },
    {
     "data": {
      "text/latex": [
       "$\\displaystyle \\text{Fehlerfunktional} = 1317.1626133426662$"
      ],
      "text/plain": [
       "<IPython.core.display.Math object>"
      ]
     },
     "metadata": {},
     "output_type": "display_data"
    },
    {
     "name": "stdout",
     "output_type": "stream",
     "text": [
      "-----------------------------------------\n",
      "\n"
     ]
    },
    {
     "data": {
      "text/latex": [
       "$\\displaystyle \\text{Iteration: } 13$"
      ],
      "text/plain": [
       "<IPython.core.display.Math object>"
      ]
     },
     "metadata": {},
     "output_type": "display_data"
    },
    {
     "data": {
      "text/latex": [
       "$\\displaystyle \\text{{QR-Zerlegung von }} Dg(\\lambda_{12}) = Q_12 \\cdot R_12:$"
      ],
      "text/plain": [
       "<IPython.core.display.Math object>"
      ]
     },
     "metadata": {},
     "output_type": "display_data"
    },
    {
     "data": {
      "text/latex": [
       "$\\displaystyle \\text{{Q}}_12= \\left[\\begin{matrix}-0.225807941058292 & -0.14887741560221 & 0.521019425870866\\\\-0.823389708457928 & -0.227397473017433 & 0.262933085077433\\\\-0.512653985356783 & 0.326223261875327 & -0.661582560829258\\\\-0.0899117767023138 & 0.5184732881171 & 0.0101382047599671\\\\-0.0118194159139201 & 0.525950053176257 & 0.301652071608482\\\\-0.00149227211948316 & 0.523704381185846 & 0.361409339035413\\end{matrix}\\right]$"
      ],
      "text/plain": [
       "<IPython.core.display.Math object>"
      ]
     },
     "metadata": {},
     "output_type": "display_data"
    },
    {
     "data": {
      "text/latex": [
       "$\\displaystyle \\text{{R}}_12= \\left[\\begin{matrix}4.42854221739638 & 1.26098152350972 & 185968.996810604\\\\0 & -1.91257781030456 & -47818.5781629188\\\\0 & 0 & 66934.4907390352\\end{matrix}\\right]$"
      ],
      "text/plain": [
       "<IPython.core.display.Math object>"
      ]
     },
     "metadata": {},
     "output_type": "display_data"
    },
    {
     "data": {
      "text/latex": [
       "$\\displaystyle Dg(\\lambda_{12}) = \\left[\\begin{matrix}-1.0 & 0 & 0\\\\-3.64641608527563 & -0.603363848001027 & -124651.842080461\\\\-2.27030981706902 & -1.27037457535644 & -155219.97170524\\\\-0.398178098967314 & -1.10499759525595 & -40834.862795385\\\\-0.0523427823597618 & -1.02082446611954 & -7157.30085451043\\\\-0.00660859008097478 & -1.00350710618604 & -1129.56517836047\\end{matrix}\\right]$"
      ],
      "text/plain": [
       "<IPython.core.display.Math object>"
      ]
     },
     "metadata": {},
     "output_type": "display_data"
    },
    {
     "name": "stdout",
     "output_type": "stream",
     "text": [
      "\n"
     ]
    },
    {
     "data": {
      "text/latex": [
       "$\\displaystyle \\text{{Auflösen nach }} \\delta_12\\text{{ mit }} R_12\\cdot \\delta_12= -Q_12^T \\cdot g(\\lambda_12):$"
      ],
      "text/plain": [
       "<IPython.core.display.Math object>"
      ]
     },
     "metadata": {},
     "output_type": "display_data"
    },
    {
     "data": {
      "text/latex": [
       "$\\displaystyle Q_12^T\\left[\\begin{matrix}-0.225807941058292 & -0.823389708457928 & -0.512653985356783 & -0.0899117767023138 & -0.0118194159139201 & -0.00149227211948316\\\\-0.14887741560221 & -0.227397473017433 & 0.326223261875327 & 0.5184732881171 & 0.525950053176257 & 0.523704381185846\\\\0.521019425870866 & 0.262933085077433 & -0.661582560829258 & 0.0101382047599671 & 0.301652071608482 & 0.361409339035413\\end{matrix}\\right]$"
      ],
      "text/plain": [
       "<IPython.core.display.Math object>"
      ]
     },
     "metadata": {},
     "output_type": "display_data"
    },
    {
     "data": {
      "text/latex": [
       "$\\displaystyle -Q_12^T\\left[\\begin{matrix}0.225807941058292 & 0.823389708457928 & 0.512653985356783 & 0.0899117767023138 & 0.0118194159139201 & 0.00149227211948316\\\\0.14887741560221 & 0.227397473017433 & -0.326223261875327 & -0.5184732881171 & -0.525950053176257 & -0.523704381185846\\\\-0.521019425870866 & -0.262933085077433 & 0.661582560829258 & -0.0101382047599671 & -0.301652071608482 & -0.361409339035413\\end{matrix}\\right]$"
      ],
      "text/plain": [
       "<IPython.core.display.Math object>"
      ]
     },
     "metadata": {},
     "output_type": "display_data"
    },
    {
     "data": {
      "text/latex": [
       "$\\displaystyle g(\\lambda_12) = \\left[\\begin{matrix}17.4109865510214\\\\-7.28364211276246\\\\-0.0279357962695599\\\\25.4008451527681\\\\-16.3775590826592\\\\-6.89496641372546\\end{matrix}\\right]$"
      ],
      "text/plain": [
       "<IPython.core.display.Math object>"
      ]
     },
     "metadata": {},
     "output_type": "display_data"
    },
    {
     "data": {
      "text/latex": [
       "$\\displaystyle \\delta_12 = \\left[\\begin{matrix}4.11084752352593 \\cdot 10^{-5}\\\\5.80180815360467 \\cdot 10^{-5}\\\\-1.83240042737716 \\cdot 10^{-9}\\end{matrix}\\right]$"
      ],
      "text/plain": [
       "<IPython.core.display.Math object>"
      ]
     },
     "metadata": {},
     "output_type": "display_data"
    },
    {
     "name": "stdout",
     "output_type": "stream",
     "text": [
      "\n"
     ]
    },
    {
     "data": {
      "text/latex": [
       "$\\displaystyle \\text{Optimales } p: 0$"
      ],
      "text/plain": [
       "<IPython.core.display.Math object>"
      ]
     },
     "metadata": {},
     "output_type": "display_data"
    },
    {
     "data": {
      "text/latex": [
       "$\\displaystyle \\text{{Lambda berechnen: }} \\lambda_13 = \\lambda_12 + \\frac{{\\delta_12}}{{2^0}}$"
      ],
      "text/plain": [
       "<IPython.core.display.Math object>"
      ]
     },
     "metadata": {},
     "output_type": "display_data"
    },
    {
     "data": {
      "text/latex": [
       "$\\displaystyle \\left[\\begin{matrix}35.4890134489786\\\\517.113495370623\\\\0.00200664227357973\\end{matrix}\\right] + \\frac{{\\left[\\begin{matrix}4.11084752352593 \\cdot 10^{-5}\\\\5.80180815360467 \\cdot 10^{-5}\\\\-1.83240042737716 \\cdot 10^{-9}\\end{matrix}\\right]}}{{2^0}} = \\left[\\begin{matrix}35.4890545574539\\\\517.113553388705\\\\0.0020066404411793\\end{matrix}\\right]$"
      ],
      "text/plain": [
       "<IPython.core.display.Math object>"
      ]
     },
     "metadata": {},
     "output_type": "display_data"
    },
    {
     "name": "stdout",
     "output_type": "stream",
     "text": [
      "\n"
     ]
    },
    {
     "data": {
      "text/latex": [
       "$\\displaystyle \\lambda_{13} = 35.49, 517.11, 0.00$"
      ],
      "text/plain": [
       "<IPython.core.display.Math object>"
      ]
     },
     "metadata": {},
     "output_type": "display_data"
    },
    {
     "data": {
      "text/latex": [
       "$\\displaystyle \\text{Inkrement} = 7.110558715494155e-05$"
      ],
      "text/plain": [
       "<IPython.core.display.Math object>"
      ]
     },
     "metadata": {},
     "output_type": "display_data"
    },
    {
     "data": {
      "text/latex": [
       "$\\displaystyle \\text{Fehlerfunktional} = 1317.1626133229852$"
      ],
      "text/plain": [
       "<IPython.core.display.Math object>"
      ]
     },
     "metadata": {},
     "output_type": "display_data"
    },
    {
     "name": "stdout",
     "output_type": "stream",
     "text": [
      "-----------------------------------------\n",
      "\n"
     ]
    },
    {
     "data": {
      "text/latex": [
       "$\\displaystyle \\text{Iteration: } 14$"
      ],
      "text/plain": [
       "<IPython.core.display.Math object>"
      ]
     },
     "metadata": {},
     "output_type": "display_data"
    },
    {
     "data": {
      "text/latex": [
       "$\\displaystyle \\text{{QR-Zerlegung von }} Dg(\\lambda_{13}) = Q_13 \\cdot R_13:$"
      ],
      "text/plain": [
       "<IPython.core.display.Math object>"
      ]
     },
     "metadata": {},
     "output_type": "display_data"
    },
    {
     "data": {
      "text/latex": [
       "$\\displaystyle \\text{{Q}}_13= \\left[\\begin{matrix}-0.225808078716186 & -0.148877566546515 & 0.521019458914314\\\\-0.823389297019589 & -0.227397667733706 & 0.262933447584553\\\\-0.512654532045725 & 0.326222775180601 & -0.661582325803361\\\\-0.0899120736104549 & 0.51847329021595 & 0.0101376159493182\\\\-0.0118194765397555 & 0.525950140821302 & 0.301652021170723\\\\-0.00149228230073821 & 0.523704466798429 & 0.361409516511442\\end{matrix}\\right]$"
      ],
      "text/plain": [
       "<IPython.core.display.Math object>"
      ]
     },
     "metadata": {},
     "output_type": "display_data"
    },
    {
     "data": {
      "text/latex": [
       "$\\displaystyle \\text{{R}}_13= \\left[\\begin{matrix}4.42853951765332 & 1.26098183762608 & 185969.197665165\\\\0 & -1.91257751355969 & -47818.6684946481\\\\0 & 0 & 66934.5830131826\\end{matrix}\\right]$"
      ],
      "text/plain": [
       "<IPython.core.display.Math object>"
      ]
     },
     "metadata": {},
     "output_type": "display_data"
    },
    {
     "data": {
      "text/latex": [
       "$\\displaystyle Dg(\\lambda_{13}) = \\left[\\begin{matrix}-1.0 & 0 & 0\\\\-3.64641204026404 & -0.603363282894004 & -124651.852568712\\\\-2.27031085406857 & -1.27037439810781 & -155220.227852259\\\\-0.398179171098054 & -1.10499784805441 & -40835.0214815981\\\\-0.0523430189342838 & -1.02082455783525 & -7157.34174542183\\\\-0.0066086311403138 & -1.00350712782728 & -1129.57354446941\\end{matrix}\\right]$"
      ],
      "text/plain": [
       "<IPython.core.display.Math object>"
      ]
     },
     "metadata": {},
     "output_type": "display_data"
    },
    {
     "name": "stdout",
     "output_type": "stream",
     "text": [
      "\n"
     ]
    },
    {
     "data": {
      "text/latex": [
       "$\\displaystyle \\text{{Auflösen nach }} \\delta_13\\text{{ mit }} R_13\\cdot \\delta_13= -Q_13^T \\cdot g(\\lambda_13):$"
      ],
      "text/plain": [
       "<IPython.core.display.Math object>"
      ]
     },
     "metadata": {},
     "output_type": "display_data"
    },
    {
     "data": {
      "text/latex": [
       "$\\displaystyle Q_13^T\\left[\\begin{matrix}-0.225808078716186 & -0.823389297019589 & -0.512654532045725 & -0.0899120736104549 & -0.0118194765397555 & -0.00149228230073821\\\\-0.148877566546515 & -0.227397667733706 & 0.326222775180601 & 0.51847329021595 & 0.525950140821302 & 0.523704466798429\\\\0.521019458914314 & 0.262933447584553 & -0.661582325803361 & 0.0101376159493182 & 0.301652021170723 & 0.361409516511442\\end{matrix}\\right]$"
      ],
      "text/plain": [
       "<IPython.core.display.Math object>"
      ]
     },
     "metadata": {},
     "output_type": "display_data"
    },
    {
     "data": {
      "text/latex": [
       "$\\displaystyle -Q_13^T\\left[\\begin{matrix}0.225808078716186 & 0.823389297019589 & 0.512654532045725 & 0.0899120736104549 & 0.0118194765397555 & 0.00149228230073821\\\\0.148877566546515 & 0.227397667733706 & -0.326222775180601 & -0.51847329021595 & -0.525950140821302 & -0.523704466798429\\\\-0.521019458914314 & -0.262933447584553 & 0.661582325803361 & -0.0101376159493182 & -0.301652021170723 & -0.361409516511442\\end{matrix}\\right]$"
      ],
      "text/plain": [
       "<IPython.core.display.Math object>"
      ]
     },
     "metadata": {},
     "output_type": "display_data"
    },
    {
     "data": {
      "text/latex": [
       "$\\displaystyle g(\\lambda_13) = \\left[\\begin{matrix}17.4109454425461\\\\-7.28359860518279\\\\-0.0278184045791363\\\\25.400839500369\\\\-16.3776073455973\\\\-6.89502283712977\\end{matrix}\\right]$"
      ],
      "text/plain": [
       "<IPython.core.display.Math object>"
      ]
     },
     "metadata": {},
     "output_type": "display_data"
    },
    {
     "data": {
      "text/latex": [
       "$\\displaystyle \\delta_13 = \\left[\\begin{matrix}-5.92992004223223 \\cdot 10^{-6}\\\\-8.16573691345878 \\cdot 10^{-6}\\\\2.60338014328557 \\cdot 10^{-10}\\end{matrix}\\right]$"
      ],
      "text/plain": [
       "<IPython.core.display.Math object>"
      ]
     },
     "metadata": {},
     "output_type": "display_data"
    },
    {
     "name": "stdout",
     "output_type": "stream",
     "text": [
      "\n"
     ]
    },
    {
     "data": {
      "text/latex": [
       "$\\displaystyle \\text{Optimales } p: 0$"
      ],
      "text/plain": [
       "<IPython.core.display.Math object>"
      ]
     },
     "metadata": {},
     "output_type": "display_data"
    },
    {
     "data": {
      "text/latex": [
       "$\\displaystyle \\text{{Lambda berechnen: }} \\lambda_14 = \\lambda_13 + \\frac{{\\delta_13}}{{2^0}}$"
      ],
      "text/plain": [
       "<IPython.core.display.Math object>"
      ]
     },
     "metadata": {},
     "output_type": "display_data"
    },
    {
     "data": {
      "text/latex": [
       "$\\displaystyle \\left[\\begin{matrix}35.4890545574539\\\\517.113553388705\\\\0.0020066404411793\\end{matrix}\\right] + \\frac{{\\left[\\begin{matrix}-5.92992004223223 \\cdot 10^{-6}\\\\-8.16573691345878 \\cdot 10^{-6}\\\\2.60338014328557 \\cdot 10^{-10}\\end{matrix}\\right]}}{{2^0}} = \\left[\\begin{matrix}35.4890486275338\\\\517.113545222968\\\\0.00200664070151731\\end{matrix}\\right]$"
      ],
      "text/plain": [
       "<IPython.core.display.Math object>"
      ]
     },
     "metadata": {},
     "output_type": "display_data"
    },
    {
     "name": "stdout",
     "output_type": "stream",
     "text": [
      "\n"
     ]
    },
    {
     "data": {
      "text/latex": [
       "$\\displaystyle \\lambda_{14} = 35.49, 517.11, 0.00$"
      ],
      "text/plain": [
       "<IPython.core.display.Math object>"
      ]
     },
     "metadata": {},
     "output_type": "display_data"
    },
    {
     "data": {
      "text/latex": [
       "$\\displaystyle \\text{Inkrement} = 1.0091739746687221e-05$"
      ],
      "text/plain": [
       "<IPython.core.display.Math object>"
      ]
     },
     "metadata": {},
     "output_type": "display_data"
    },
    {
     "data": {
      "text/latex": [
       "$\\displaystyle \\text{Fehlerfunktional} = 1317.162613322594$"
      ],
      "text/plain": [
       "<IPython.core.display.Math object>"
      ]
     },
     "metadata": {},
     "output_type": "display_data"
    },
    {
     "name": "stdout",
     "output_type": "stream",
     "text": [
      "-----------------------------------------\n",
      "\n"
     ]
    },
    {
     "data": {
      "text/latex": [
       "$\\displaystyle \\text{Iteration: } 15$"
      ],
      "text/plain": [
       "<IPython.core.display.Math object>"
      ]
     },
     "metadata": {},
     "output_type": "display_data"
    },
    {
     "data": {
      "text/latex": [
       "$\\displaystyle \\text{{QR-Zerlegung von }} Dg(\\lambda_{14}) = Q_14 \\cdot R_14:$"
      ],
      "text/plain": [
       "<IPython.core.display.Math object>"
      ]
     },
     "metadata": {},
     "output_type": "display_data"
    },
    {
     "data": {
      "text/latex": [
       "$\\displaystyle \\text{{Q}}_14= \\left[\\begin{matrix}-0.225808058640654 & -0.148877544872098 & 0.521019453296187\\\\-0.823389355074812 & -0.227397640501087 & 0.262933397559551\\\\-0.512654455213017 & 0.326222843844458 & -0.661582359311176\\\\-0.089912031608406 & 0.518473289948922 & 0.0101376992871241\\\\-0.0118194679475547 & 0.525950128443376 & 0.301652028330437\\\\-0.00149228085646584 & 0.523704454708346 & 0.361409491353351\\end{matrix}\\right]$"
      ],
      "text/plain": [
       "<IPython.core.display.Math object>"
      ]
     },
     "metadata": {},
     "output_type": "display_data"
    },
    {
     "data": {
      "text/latex": [
       "$\\displaystyle \\text{{R}}_14= \\left[\\begin{matrix}4.42853991137393 & 1.26098179377506 & 185969.169326457\\\\0 & -1.91257755545457 & -47818.6556863712\\\\0 & 0 & 66934.5699365395\\end{matrix}\\right]$"
      ],
      "text/plain": [
       "<IPython.core.display.Math object>"
      ]
     },
     "metadata": {},
     "output_type": "display_data"
    },
    {
     "data": {
      "text/latex": [
       "$\\displaystyle Dg(\\lambda_{14}) = \\left[\\begin{matrix}-1.0 & 0 & 0\\\\-3.64641262154924 & -0.603363362551819 & -124651.851032894\\\\-2.2703107156545 & -1.27037442373476 & -155220.191732394\\\\-0.39817902049054 & -1.10499781235853 & -40834.9990233875\\\\-0.0523429855369508 & -1.02082454484322 & -7157.33594954133\\\\-0.00660862533183822 & -1.00350712475796 & -1129.5723576759\\end{matrix}\\right]$"
      ],
      "text/plain": [
       "<IPython.core.display.Math object>"
      ]
     },
     "metadata": {},
     "output_type": "display_data"
    },
    {
     "name": "stdout",
     "output_type": "stream",
     "text": [
      "\n"
     ]
    },
    {
     "data": {
      "text/latex": [
       "$\\displaystyle \\text{{Auflösen nach }} \\delta_14\\text{{ mit }} R_14\\cdot \\delta_14= -Q_14^T \\cdot g(\\lambda_14):$"
      ],
      "text/plain": [
       "<IPython.core.display.Math object>"
      ]
     },
     "metadata": {},
     "output_type": "display_data"
    },
    {
     "data": {
      "text/latex": [
       "$\\displaystyle Q_14^T\\left[\\begin{matrix}-0.225808058640654 & -0.823389355074812 & -0.512654455213017 & -0.089912031608406 & -0.0118194679475547 & -0.00149228085646584\\\\-0.148877544872098 & -0.227397640501087 & 0.326222843844458 & 0.518473289948922 & 0.525950128443376 & 0.523704454708346\\\\0.521019453296187 & 0.262933397559551 & -0.661582359311176 & 0.0101376992871241 & 0.301652028330437 & 0.361409491353351\\end{matrix}\\right]$"
      ],
      "text/plain": [
       "<IPython.core.display.Math object>"
      ]
     },
     "metadata": {},
     "output_type": "display_data"
    },
    {
     "data": {
      "text/latex": [
       "$\\displaystyle -Q_14^T\\left[\\begin{matrix}0.225808058640654 & 0.823389355074812 & 0.512654455213017 & 0.089912031608406 & 0.0118194679475547 & 0.00149228085646584\\\\0.148877544872098 & 0.227397640501087 & -0.326222843844458 & -0.518473289948922 & -0.525950128443376 & -0.523704454708346\\\\-0.521019453296187 & -0.262933397559551 & 0.661582359311176 & -0.0101376992871241 & -0.301652028330437 & -0.361409491353351\\end{matrix}\\right]$"
      ],
      "text/plain": [
       "<IPython.core.display.Math object>"
      ]
     },
     "metadata": {},
     "output_type": "display_data"
    },
    {
     "data": {
      "text/latex": [
       "$\\displaystyle g(\\lambda_14) = \\left[\\begin{matrix}17.4109513724662\\\\-7.28360450695871\\\\-0.0278349779957239\\\\25.4008402537553\\\\-16.3776005627502\\\\-6.89501489763666\\end{matrix}\\right]$"
      ],
      "text/plain": [
       "<IPython.core.display.Math object>"
      ]
     },
     "metadata": {},
     "output_type": "display_data"
    },
    {
     "data": {
      "text/latex": [
       "$\\displaystyle \\delta_14 = \\left[\\begin{matrix}8.22801262898192 \\cdot 10^{-7}\\\\1.15025381268692 \\cdot 10^{-6}\\\\-3.64614699195963 \\cdot 10^{-11}\\end{matrix}\\right]$"
      ],
      "text/plain": [
       "<IPython.core.display.Math object>"
      ]
     },
     "metadata": {},
     "output_type": "display_data"
    },
    {
     "name": "stdout",
     "output_type": "stream",
     "text": [
      "\n"
     ]
    },
    {
     "data": {
      "text/latex": [
       "$\\displaystyle \\text{Optimales } p: 0$"
      ],
      "text/plain": [
       "<IPython.core.display.Math object>"
      ]
     },
     "metadata": {},
     "output_type": "display_data"
    },
    {
     "data": {
      "text/latex": [
       "$\\displaystyle \\text{{Lambda berechnen: }} \\lambda_15 = \\lambda_14 + \\frac{{\\delta_14}}{{2^0}}$"
      ],
      "text/plain": [
       "<IPython.core.display.Math object>"
      ]
     },
     "metadata": {},
     "output_type": "display_data"
    },
    {
     "data": {
      "text/latex": [
       "$\\displaystyle \\left[\\begin{matrix}35.4890486275338\\\\517.113545222968\\\\0.00200664070151731\\end{matrix}\\right] + \\frac{{\\left[\\begin{matrix}8.22801262898192 \\cdot 10^{-7}\\\\1.15025381268692 \\cdot 10^{-6}\\\\-3.64614699195963 \\cdot 10^{-11}\\end{matrix}\\right]}}{{2^0}} = \\left[\\begin{matrix}35.4890494503351\\\\517.113546373222\\\\0.00200664066505584\\end{matrix}\\right]$"
      ],
      "text/plain": [
       "<IPython.core.display.Math object>"
      ]
     },
     "metadata": {},
     "output_type": "display_data"
    },
    {
     "name": "stdout",
     "output_type": "stream",
     "text": [
      "\n"
     ]
    },
    {
     "data": {
      "text/latex": [
       "$\\displaystyle \\lambda_{15} = 35.49, 517.11, 0.00$"
      ],
      "text/plain": [
       "<IPython.core.display.Math object>"
      ]
     },
     "metadata": {},
     "output_type": "display_data"
    },
    {
     "data": {
      "text/latex": [
       "$\\displaystyle \\text{Inkrement} = 1.4142438803675633e-06$"
      ],
      "text/plain": [
       "<IPython.core.display.Math object>"
      ]
     },
     "metadata": {},
     "output_type": "display_data"
    },
    {
     "data": {
      "text/latex": [
       "$\\displaystyle \\text{Fehlerfunktional} = 1317.162613322583$"
      ],
      "text/plain": [
       "<IPython.core.display.Math object>"
      ]
     },
     "metadata": {},
     "output_type": "display_data"
    },
    {
     "name": "stdout",
     "output_type": "stream",
     "text": [
      "-----------------------------------------\n",
      "\n"
     ]
    },
    {
     "data": {
      "text/latex": [
       "$\\displaystyle \\text{Iteration: } 16$"
      ],
      "text/plain": [
       "<IPython.core.display.Math object>"
      ]
     },
     "metadata": {},
     "output_type": "display_data"
    },
    {
     "data": {
      "text/latex": [
       "$\\displaystyle \\text{{QR-Zerlegung von }} Dg(\\lambda_{15}) = Q_15 \\cdot R_15:$"
      ],
      "text/plain": [
       "<IPython.core.display.Math object>"
      ]
     },
     "metadata": {},
     "output_type": "display_data"
    },
    {
     "data": {
      "text/latex": [
       "$\\displaystyle \\text{{Q}}_15= \\left[\\begin{matrix}-0.225808061407692 & -0.148877547887966 & 0.521019454003419\\\\-0.823389346909407 & -0.22739764435237 & 0.262933404693246\\\\-0.512654466046083 & 0.326222834186067 & -0.661582354628278\\\\-0.0899120375066287 & 0.518473289989007 & 0.010137687587868\\\\-0.0118194691527661 & 0.525950130183369 & 0.301652027327144\\\\-0.00149228105893596 & 0.523704456407945 & 0.361409494881768\\end{matrix}\\right]$"
      ],
      "text/plain": [
       "<IPython.core.display.Math object>"
      ]
     },
     "metadata": {},
     "output_type": "display_data"
    },
    {
     "data": {
      "text/latex": [
       "$\\displaystyle \\text{{R}}_15= \\left[\\begin{matrix}4.42853985710687 & 1.26098179998361 & 185969.173312445\\\\0 & -1.91257754956412 & -47818.6574824335\\\\0 & 0 & 66934.5717708388\\end{matrix}\\right]$"
      ],
      "text/plain": [
       "<IPython.core.display.Math object>"
      ]
     },
     "metadata": {},
     "output_type": "display_data"
    },
    {
     "data": {
      "text/latex": [
       "$\\displaystyle Dg(\\lambda_{15}) = \\left[\\begin{matrix}-1.0 & 0 & 0\\\\-3.64641254070551 & -0.603363351341044 & -124651.851244027\\\\-2.27031073580892 & -1.27037442018388 & -155220.196814602\\\\-0.398179041731793 & -1.10499781737692 & -40835.0021762795\\\\-0.0523429902328697 & -1.02082454666614 & -7157.33676246392\\\\-0.00660862614750357 & -1.0035071251883 & -1129.57252404938\\end{matrix}\\right]$"
      ],
      "text/plain": [
       "<IPython.core.display.Math object>"
      ]
     },
     "metadata": {},
     "output_type": "display_data"
    },
    {
     "name": "stdout",
     "output_type": "stream",
     "text": [
      "\n"
     ]
    },
    {
     "data": {
      "text/latex": [
       "$\\displaystyle \\text{{Auflösen nach }} \\delta_15\\text{{ mit }} R_15\\cdot \\delta_15= -Q_15^T \\cdot g(\\lambda_15):$"
      ],
      "text/plain": [
       "<IPython.core.display.Math object>"
      ]
     },
     "metadata": {},
     "output_type": "display_data"
    },
    {
     "data": {
      "text/latex": [
       "$\\displaystyle Q_15^T\\left[\\begin{matrix}-0.225808061407692 & -0.823389346909407 & -0.512654466046083 & -0.0899120375066287 & -0.0118194691527661 & -0.00149228105893596\\\\-0.148877547887966 & -0.22739764435237 & 0.326222834186067 & 0.518473289989007 & 0.525950130183369 & 0.523704456407945\\\\0.521019454003419 & 0.262933404693246 & -0.661582354628278 & 0.010137687587868 & 0.301652027327144 & 0.361409494881768\\end{matrix}\\right]$"
      ],
      "text/plain": [
       "<IPython.core.display.Math object>"
      ]
     },
     "metadata": {},
     "output_type": "display_data"
    },
    {
     "data": {
      "text/latex": [
       "$\\displaystyle -Q_15^T\\left[\\begin{matrix}0.225808061407692 & 0.823389346909407 & 0.512654466046083 & 0.0899120375066287 & 0.0118194691527661 & 0.00149228105893596\\\\0.148877547887966 & 0.22739764435237 & -0.326222834186067 & -0.518473289989007 & -0.525950130183369 & -0.523704456407945\\\\-0.521019454003419 & -0.262933404693246 & 0.661582354628278 & -0.010137687587868 & -0.301652027327144 & -0.361409494881768\\end{matrix}\\right]$"
      ],
      "text/plain": [
       "<IPython.core.display.Math object>"
      ]
     },
     "metadata": {},
     "output_type": "display_data"
    },
    {
     "data": {
      "text/latex": [
       "$\\displaystyle g(\\lambda_15) = \\left[\\begin{matrix}17.4109505496649\\\\-7.28360365626287\\\\-0.0278326477069299\\\\25.4008401440092\\\\-16.3776015190584\\\\-6.89501601617633\\end{matrix}\\right]$"
      ],
      "text/plain": [
       "<IPython.core.display.Math object>"
      ]
     },
     "metadata": {},
     "output_type": "display_data"
    },
    {
     "data": {
      "text/latex": [
       "$\\displaystyle \\delta_15 = \\left[\\begin{matrix}-1.16934990453709 \\cdot 10^{-7}\\\\-1.61952160394366 \\cdot 10^{-7}\\\\5.15195140403185 \\cdot 10^{-12}\\end{matrix}\\right]$"
      ],
      "text/plain": [
       "<IPython.core.display.Math object>"
      ]
     },
     "metadata": {},
     "output_type": "display_data"
    },
    {
     "name": "stdout",
     "output_type": "stream",
     "text": [
      "\n"
     ]
    },
    {
     "data": {
      "text/latex": [
       "$\\displaystyle \\text{Aktuelles } p: 0$"
      ],
      "text/plain": [
       "<IPython.core.display.Math object>"
      ]
     },
     "metadata": {},
     "output_type": "display_data"
    },
    {
     "data": {
      "text/latex": [
       "$\\displaystyle \\text{Optimales } p: 1$"
      ],
      "text/plain": [
       "<IPython.core.display.Math object>"
      ]
     },
     "metadata": {},
     "output_type": "display_data"
    },
    {
     "data": {
      "text/latex": [
       "$\\displaystyle \\text{{Lambda berechnen: }} \\lambda_16 = \\lambda_15 + \\frac{{\\delta_15}}{{2^1}}$"
      ],
      "text/plain": [
       "<IPython.core.display.Math object>"
      ]
     },
     "metadata": {},
     "output_type": "display_data"
    },
    {
     "data": {
      "text/latex": [
       "$\\displaystyle \\left[\\begin{matrix}35.4890494503351\\\\517.113546373222\\\\0.00200664066505584\\end{matrix}\\right] + \\frac{{\\left[\\begin{matrix}-1.16934990453709 \\cdot 10^{-7}\\\\-1.61952160394366 \\cdot 10^{-7}\\\\5.15195140403185 \\cdot 10^{-12}\\end{matrix}\\right]}}{{2^1}} = \\left[\\begin{matrix}35.4890493918676\\\\517.113546292246\\\\0.00200664066763182\\end{matrix}\\right]$"
      ],
      "text/plain": [
       "<IPython.core.display.Math object>"
      ]
     },
     "metadata": {},
     "output_type": "display_data"
    },
    {
     "name": "stdout",
     "output_type": "stream",
     "text": [
      "\n"
     ]
    },
    {
     "data": {
      "text/latex": [
       "$\\displaystyle \\lambda_{16} = 35.49, 517.11, 0.00$"
      ],
      "text/plain": [
       "<IPython.core.display.Math object>"
      ]
     },
     "metadata": {},
     "output_type": "display_data"
    },
    {
     "data": {
      "text/latex": [
       "$\\displaystyle \\text{Inkrement} = 9.98777931716483e-08$"
      ],
      "text/plain": [
       "<IPython.core.display.Math object>"
      ]
     },
     "metadata": {},
     "output_type": "display_data"
    },
    {
     "data": {
      "text/latex": [
       "$\\displaystyle \\text{Fehlerfunktional} = 1317.1626133225782$"
      ],
      "text/plain": [
       "<IPython.core.display.Math object>"
      ]
     },
     "metadata": {},
     "output_type": "display_data"
    },
    {
     "name": "stdout",
     "output_type": "stream",
     "text": [
      "-----------------------------------------\n",
      "\n"
     ]
    },
    {
     "data": {
      "image/png": "[encoded data removed]",
      "text/plain": [
       "<Figure size 640x480 with 1 Axes>"
      ]
     },
     "metadata": {},
     "output_type": "display_data"
    }
   ],
   "source": [
    "import matplotlib.pyplot as plt\n",
    "import numpy as np\n",
    "import sympy as sp\n",
    "from IPython.display import display, Math\n",
    "\n",
    "\"\"\"INPUT\"\"\"\n",
    "x = np.array([0, 2, 4, 6, 8, 10], dtype=np.float64)\n",
    "y = np.array([52.9, 184, 426, 529, 499, 510], dtype=np.float64)\n",
    "\n",
    "# Symbole für Ansatzfunktion\n",
    "p = sp.symbols(\"p0 p1 p2\")\n",
    "\n",
    "# Ansatzfunktion - WICHTIG: Spezial Funktionen von sympy zb sp.exp etc\n",
    "def f(x, p):\n",
    "    return p[1] / (1 + ((p[1]/p[0]) -1) * sp.exp(-p[2] * p[1] * x))\n",
    "\n",
    "# Startvektor für Iteration\n",
    "lam0 = np.array([20, 450, 0.001], dtype=np.float64) \n",
    "\n",
    "# Fehlertoleranz für Abbruch\n",
    "tol = 10**-7\n",
    "max_iter = 30\n",
    "pmax = 5  # Maximale Dämpfung\n",
    "\n",
    "# Parameter für Plot\n",
    "a, b = 0, 70\n",
    "steps = 0.001\n",
    "\"\"\"INPUT\"\"\"\n",
    "\n",
    "sp.init_printing()\n",
    "\n",
    "def gauss_newton_d(g, Dg, lam0, tol, max_iter, pmax):\n",
    "    k = 0\n",
    "    lam = np.copy(lam0)\n",
    "    increment = tol + 1\n",
    "    err_func = np.linalg.norm(g(lam)) ** 2\n",
    "\n",
    "    while k < max_iter and increment > tol:\n",
    "        display(Math(f\"\\\\text{{Iteration: }} {k+1}\"))\n",
    "        Df = Dg(lam)\n",
    "        Q, R = np.linalg.qr(Df)\n",
    "        display(Math('\\\\text{{QR-Zerlegung von }} Dg(\\\\lambda_{' + str(k) + '}) = Q_' + str(k) + ' \\\\cdot R_' + str(k) + ':'))\n",
    "        display(Math('\\\\text{{Q}}_' + str(k) + '= ' + sp.latex(sp.Matrix(Q))))\n",
    "        display(Math('\\\\text{{R}}_' + str(k) + '= ' + sp.latex(sp.Matrix(R))))\n",
    "        display(Math('Dg(\\\\lambda_{' + str(k) + '}) = ' + sp.latex(sp.Matrix(Df))))\n",
    "        print()\n",
    "        \n",
    "        QT = Q.T\n",
    "        g_lambda_val = g(lam)\n",
    "        display(Math('\\\\text{{Auflösen nach }} \\\\delta_' + str(k) + '\\\\text{{ mit }} R_' + str(k) + '\\\\cdot \\\\delta_' + str(k) + '= -Q_' + str(k) + '^T \\\\cdot g(\\\\lambda_' + str(k) + '):'))\n",
    "        display(Math('Q_' + str(k) + '^T' + sp.latex(sp.Matrix(QT))))\n",
    "        display(Math('-Q_' + str(k) + '^T' + sp.latex(sp.Matrix(-1 * QT))))\n",
    "        display(Math('g(\\\\lambda_' + str(k) + ') = ' + sp.latex(sp.Matrix(g_lambda_val))))\n",
    "        \n",
    "        delta = np.linalg.solve(R, -QT @ g(lam)).flatten()\n",
    "        display(Math('\\\\delta_' + str(k) + ' = ' + sp.latex(sp.Matrix(delta))))\n",
    "        print()\n",
    "        \n",
    "       # Bestimmung der optimalen Dämpfung p\n",
    "        p = 0\n",
    "        while p < pmax and np.linalg.norm(g(lam + delta / (2**p))) ** 2 >= err_func:\n",
    "            display(Math(f\"\\\\text{{Aktuelles }} p: {p}\"))\n",
    "            p += 1\n",
    "        if p >= pmax and np.linalg.norm(g(lam + delta / (2**p))) ** 2 >= err_func:\n",
    "            display(Math(\"\\\\text{Kein minimales } p \\\\text{ gefunden, daher } p = 0\"))\n",
    "            p = 0\n",
    "\n",
    "        display(Math(f\"\\\\text{{Optimales }} p: {p}\"))\n",
    "\n",
    "        # Update des Vektors Lambda\n",
    "        lam_new = lam + delta / 2**p\n",
    "        display(Math('\\\\text{{Lambda berechnen: }} \\\\lambda_' + str(k+1) + ' = \\\\lambda_' + str(k) + ' + \\\\frac{{\\\\delta_' + str(k) + '}}{{2^' + str(p) + '}}'))\n",
    "        display(Math(sp.latex(sp.Matrix(lam)) + ' + \\\\frac{{' + sp.latex(sp.Matrix(delta)) + '}}{{2^' + str(p) + '}} = ' + sp.latex(sp.Matrix(lam_new))))\n",
    "        print()\n",
    "\n",
    "        err_func = np.linalg.norm(g(lam_new), 2) ** 2\n",
    "        increment = np.linalg.norm(delta / 2**p, 2)\n",
    "\n",
    "        # Ausgabe der Zwischenergebnisse mit IPython.display\n",
    "        display(Math(f\"\\\\lambda_{{{k+1}}} = \" + ', '.join(f\"{val:.2f}\" for val in lam_new)))\n",
    "        display(Math(f\"\\\\text{{Inkrement}} = {increment}\"))\n",
    "        display(Math(f\"\\\\text{{Fehlerfunktional}} = {err_func}\"))\n",
    "        print(\"-----------------------------------------\")\n",
    "        print()\n",
    "        \n",
    "        \n",
    "        # Aktualisierung von lam für die nächste Iteration\n",
    "        lam = lam_new\n",
    "        k += 1\n",
    "    \n",
    "    return lam, k\n",
    "\n",
    "def showPlot(lam, x, y, f):\n",
    "    t = sp.symbols(\"t\")\n",
    "    F = f(t, lam)\n",
    "    F = sp.lambdify([t], F, \"numpy\")\n",
    "    t = np.arange(a, b, steps)\n",
    "    plt.scatter(x, y, color=\"orange\", label=\"Daten\")\n",
    "    plt.plot(t, F(t), label=\"f(x)\")\n",
    "    plt.xlabel(\"x\")\n",
    "    plt.ylabel(\"y\")\n",
    "    plt.xlim(0, 10)\n",
    "    plt.grid()\n",
    "    plt.legend()\n",
    "    plt.show()\n",
    "\n",
    "g = sp.Matrix([y[k] - f(x[k], p) for k in range(len(x))])\n",
    "Dg = g.jacobian(p)\n",
    "g = sp.lambdify([p], g, \"numpy\")\n",
    "Dg = sp.lambdify([p], Dg, \"numpy\")\n",
    "\n",
    "# Starte den Gauss-Newton-Algorithmus und zeige Zwischenergebnisse an\n",
    "lam_damp, n = gauss_newton_d(g, Dg, lam0, tol, max_iter, 5)\n",
    "\n",
    "# Zeige den finalen Plot der Funktion\n",
    "showPlot(lam_damp, x, y, f)\n"
   ]
  }
 ],
 "metadata": {
  "kernelspec": {
   "display_name": "base",
   "language": "python",
   "name": "python3"
  },
  "language_info": {
   "codemirror_mode": {
    "name": "ipython",
    "version": 3
   },
   "file_extension": ".py",
   "mimetype": "text/x-python",
   "name": "python",
   "nbconvert_exporter": "python",
   "pygments_lexer": "ipython3",
   "version": "3.12.2"
  }
 },
 "nbformat": 4,
 "nbformat_minor": 2
}
