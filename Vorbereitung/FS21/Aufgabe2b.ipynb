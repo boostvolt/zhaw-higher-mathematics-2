{
 "cells": [
  {
   "cell_type": "code",
   "execution_count": 25,
   "metadata": {},
   "outputs": [
    {
     "data": {
      "text/latex": [
       "Basisfunktionen: $[1, x^{2}]$"
      ],
      "text/plain": [
       "<IPython.core.display.Latex object>"
      ]
     },
     "metadata": {},
     "output_type": "display_data"
    },
    {
     "data": {
      "text/latex": [
       "Matrix $A$: $$\\left[\\begin{matrix}1.0 & 0\\\\1.0 & 1.0\\\\1.0 & 4.0\\\\1.0 & 9.0\\\\1.0 & 16.0\\\\1.0 & 25.0\\end{matrix}\\right]$$"
      ],
      "text/plain": [
       "<IPython.core.display.Latex object>"
      ]
     },
     "metadata": {},
     "output_type": "display_data"
    },
    {
     "data": {
      "text/latex": [
       "Vektor $y$: $$\\left[\\begin{matrix}1.85185185185185\\\\2.27272727272727\\\\3.57142857142857\\\\5.55555555555556\\\\8.33333333333333\\\\12.5\\end{matrix}\\right]$$"
      ],
      "text/plain": [
       "<IPython.core.display.Latex object>"
      ]
     },
     "metadata": {},
     "output_type": "display_data"
    },
    {
     "data": {
      "text/latex": [
       "Matrix $A^T \\cdot A$: $$\\left[\\begin{matrix}6.0 & 55.0\\\\55.0 & 979.0\\end{matrix}\\right]$$"
      ],
      "text/plain": [
       "<IPython.core.display.Latex object>"
      ]
     },
     "metadata": {},
     "output_type": "display_data"
    },
    {
     "data": {
      "text/latex": [
       "Matrix $A^T \\cdot y$: $$\\left[\\begin{matrix}34.0848965848966\\\\512.391774891775\\end{matrix}\\right]$$"
      ],
      "text/plain": [
       "<IPython.core.display.Latex object>"
      ]
     },
     "metadata": {},
     "output_type": "display_data"
    },
    {
     "name": "stdout",
     "output_type": "stream",
     "text": [
      "Normalgleichung (λ): \t [1.82083754 0.42108857] \n",
      "\n",
      "E(f)\t\t= 4.442272972525823e-29\n",
      "x^1 bis x^n:  [-0.00291667  0.03231481 -0.10069444 -0.03203704  0.54055556]\n"
     ]
    },
    {
     "ename": "ValueError",
     "evalue": "matmul: Input operand 1 has a mismatch in its core dimension 0, with gufunc signature (n?,k),(k,m?)->(n?,m?) (size 5 is different from 2)",
     "output_type": "error",
     "traceback": [
      "\u001b[0;31m---------------------------------------------------------------------------\u001b[0m",
      "\u001b[0;31mValueError\u001b[0m                                Traceback (most recent call last)",
      "Cell \u001b[0;32mIn[25], line 87\u001b[0m\n\u001b[1;32m     85\u001b[0m coeff \u001b[38;5;241m=\u001b[39m np\u001b[38;5;241m.\u001b[39mpolyfit(x_in, y_in, grad) \u001b[38;5;66;03m# polynom 4. Grades. da 6 Datenpunkte -2\u001b[39;00m\n\u001b[1;32m     86\u001b[0m \u001b[38;5;28mprint\u001b[39m(\u001b[38;5;124m'\u001b[39m\u001b[38;5;124mx^1 bis x^n: \u001b[39m\u001b[38;5;124m'\u001b[39m, coeff)\n\u001b[0;32m---> 87\u001b[0m \u001b[38;5;28mprint\u001b[39m(np\u001b[38;5;241m.\u001b[39mlinalg\u001b[38;5;241m.\u001b[39mnorm(np\u001b[38;5;241m.\u001b[39mpolyval(coeff, x) \u001b[38;5;241m-\u001b[39m \u001b[43mA\u001b[49m\u001b[43m \u001b[49m\u001b[38;5;241;43m@\u001b[39;49m\u001b[43m \u001b[49m\u001b[43mcoeff\u001b[49m, \u001b[38;5;241m2\u001b[39m) \u001b[38;5;241m*\u001b[39m\u001b[38;5;241m*\u001b[39m \u001b[38;5;241m2\u001b[39m)\n\u001b[1;32m     89\u001b[0m plt\u001b[38;5;241m.\u001b[39mplot(x, \u001b[38;5;241m1\u001b[39m \u001b[38;5;241m/\u001b[39m f(x), \u001b[38;5;124m'\u001b[39m\u001b[38;5;124m-r\u001b[39m\u001b[38;5;124m'\u001b[39m, label\u001b[38;5;241m=\u001b[39m\u001b[38;5;124m'\u001b[39m\u001b[38;5;124mNormalgleichung a\u001b[39m\u001b[38;5;124m'\u001b[39m)\n\u001b[1;32m     90\u001b[0m plt\u001b[38;5;241m.\u001b[39mplot(x, np\u001b[38;5;241m.\u001b[39mpolyval(coeff, x), zorder\u001b[38;5;241m=\u001b[39m\u001b[38;5;241m0\u001b[39m, label\u001b[38;5;241m=\u001b[39m\u001b[38;5;124m'\u001b[39m\u001b[38;5;124mpolyfit\u001b[39m\u001b[38;5;124m'\u001b[39m)\n",
      "\u001b[0;31mValueError\u001b[0m: matmul: Input operand 1 has a mismatch in its core dimension 0, with gufunc signature (n?,k),(k,m?)->(n?,m?) (size 5 is different from 2)"
     ]
    },
    {
     "data": {
      "image/png": "[encoded data removed]",
      "text/plain": [
       "<Figure size 640x480 with 1 Axes>"
      ]
     },
     "metadata": {},
     "output_type": "display_data"
    }
   ],
   "source": [
    "import numpy as np\n",
    "import matplotlib.pyplot as plt\n",
    "import sympy as sp\n",
    "from IPython.display import display, Latex\n",
    "\n",
    "'''INPUT'''\n",
    "x_sym = sp.symbols('x')\n",
    "x = np.array([0, 1, 2, 3, 4, 5], dtype=np.float64)\n",
    "y = np.array([1 / 0.54, 1 / 0.44, 1 / 0.28, 1 / 0.18, 1/ 0.12, 1/ 0.08], dtype=np.float64)\n",
    "funcs = np.array([x_sym ** 0, x_sym ** 2])\n",
    "'''INPUT'''\n",
    "\n",
    "def create_funcs_matrix(x, funcs, x_sym):\n",
    "    n = len(x)\n",
    "    m = len(funcs)\n",
    "    A = np.zeros((n, m))\n",
    "    for i in range(n):\n",
    "        for j in range(m):\n",
    "            A[i][j] = funcs[j].subs([(x_sym, x[i])])\n",
    "    return A\n",
    "\n",
    "def get_fx(lambdas, funcs, x):\n",
    "    f = 0\n",
    "    for lam, func in zip(lambdas, funcs):\n",
    "        f += lam * func\n",
    "    return sp.lambdify(x, f)\n",
    "\n",
    "def normalgleichung(A, y):\n",
    "    return np.linalg.solve(A.T @ A, A.T @ y)\n",
    "\n",
    "def fehlerfunktionale(A, y, lambdas):\n",
    "    Ef = np.linalg.norm(y - A @ lambdas, 2) ** 2\n",
    "    print(f\"E(f)\\t\\t= {Ef}\")\n",
    "\n",
    "def display_with_latex():\n",
    "    # Basisfunktionen ausgeben\n",
    "    basisfunktionen_str = ', '.join([sp.latex(func) for func in funcs])\n",
    "    display(Latex(f\"Basisfunktionen: $[{basisfunktionen_str}]$\"))\n",
    "\n",
    "    # Matrix A ausgeben\n",
    "    A = create_funcs_matrix(x, funcs, x_sym)\n",
    "    A_str = sp.latex(sp.Matrix(A))\n",
    "    display(Latex(f\"Matrix $A$: $${A_str}$$\"))\n",
    "\n",
    "    # Vektor y ausgeben\n",
    "    y_str = sp.latex(sp.Matrix(y))\n",
    "    display(Latex(f\"Vektor $y$: $${y_str}$$\"))\n",
    "\n",
    "    # Berechnung von A^T*A und A^T*y\n",
    "    ATA = A.T @ A\n",
    "    ATy = A.T @ y\n",
    "    ATA_str = sp.latex(sp.Matrix(ATA))\n",
    "    ATy_str = sp.latex(sp.Matrix(ATy))\n",
    "\n",
    "    # Ausgabe von A^T*A und A^T*y\n",
    "    display(Latex(rf\"Matrix $A^T \\cdot A$: $${ATA_str}$$\"))\n",
    "    display(Latex(rf\"Matrix $A^T \\cdot y$: $${ATy_str}$$\"))\n",
    "\n",
    "if __name__ == \"__main__\":\n",
    "    np.set_printoptions(suppress=True)\n",
    "    display_with_latex()  # Anzeige der Basisfunktionen, Matrix A und Vektor y mit Latex\n",
    "\n",
    "    A = create_funcs_matrix(x, funcs, x_sym)\n",
    "    lambdas = normalgleichung(A, y)\n",
    "    f = get_fx(lambdas, funcs, x_sym)\n",
    "    y_pred = f(x)\n",
    "\n",
    "    # Normalgleichung\n",
    "    print(f\"Normalgleichung (\\u03BB): \\t {lambdas} \\n\")\n",
    "\n",
    "    # Fehlerfunktionale\n",
    "    fehlerfunktionale(A, y_pred, lambdas)\n",
    "\n",
    "    y = np.array([0.54, 0.44, 0.28, 0.18, 0.12, 0.08], dtype=np.float64)\n",
    "\n",
    "    # Plot\n",
    "    plt.plot(x, y, 'o', label='Daten')\n",
    "    '''INPUT'''\n",
    "    x_in = np.array([0, 1, 2, 3, 4, 5], dtype=np.float64)\n",
    "    y_in = np.array([0.54, 0.44, 0.28, 0.18, 0.12, 0.08], dtype=np.float64)\n",
    "    x = np.arange(0, 5, 0.1)\n",
    "    grad = 4\n",
    "    '''INPUT'''\n",
    "\n",
    "    coeff = np.polyfit(x_in, y_in, grad) # polynom 4. Grades. da 6 Datenpunkte -2\n",
    "    print('x^1 bis x^n: ', coeff)\n",
    "    print(np.linalg.norm(np.polyval(coeff, x) - A @ coeff, 2) ** 2)\n",
    "    \n",
    "    plt.plot(x, 1 / f(x), '-r', label='Normalgleichung a')\n",
    "    plt.plot(x, np.polyval(coeff, x), zorder=0, label='polyfit')\n",
    "    plt.xlabel('x')\n",
    "    plt.ylabel('y')\n",
    "    plt.legend()\n",
    "    plt.show()"
   ]
  }
 ],
 "metadata": {
  "kernelspec": {
   "display_name": "base",
   "language": "python",
   "name": "python3"
  },
  "language_info": {
   "codemirror_mode": {
    "name": "ipython",
    "version": 3
   },
   "file_extension": ".py",
   "mimetype": "text/x-python",
   "name": "python",
   "nbconvert_exporter": "python",
   "pygments_lexer": "ipython3",
   "version": "3.12.2"
  }
 },
 "nbformat": 4,
 "nbformat_minor": 2
}
