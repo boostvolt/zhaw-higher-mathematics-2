{
 "cells": [
  {
   "cell_type": "code",
   "execution_count": 1,
   "metadata": {},
   "outputs": [
    {
     "data": {
      "text/latex": [
       "RECHTECK-REGEL"
      ],
      "text/plain": [
       "<IPython.core.display.Latex object>"
      ]
     },
     "metadata": {},
     "output_type": "display_data"
    },
    {
     "data": {
      "text/latex": [
       "Rechteck-Regel: $R(f) = h \\sum_{i=0}^{n-1} f(x_i + \\frac{h}{2})$"
      ],
      "text/plain": [
       "<IPython.core.display.Latex object>"
      ]
     },
     "metadata": {},
     "output_type": "display_data"
    },
    {
     "data": {
      "text/latex": [
       "Rechteck-Regel: $R(f) = h \\sum_{i=0}^{n-1} f(a + i * h + \\frac{h}{2})$"
      ],
      "text/plain": [
       "<IPython.core.display.Latex object>"
      ]
     },
     "metadata": {},
     "output_type": "display_data"
    },
    {
     "data": {
      "text/latex": [
       "Rechteck-Regel: $R(f) = 0.06159985595274104 \\sum_0^50 f(0+0.06159985595274104*i + \\frac{0.06159985595274104}2)$"
      ],
      "text/plain": [
       "<IPython.core.display.Latex object>"
      ]
     },
     "metadata": {},
     "output_type": "display_data"
    },
    {
     "data": {
      "text/latex": [
       "Wert des Integrals (scipy) = 2.0"
      ],
      "text/plain": [
       "<IPython.core.display.Latex object>"
      ]
     },
     "metadata": {},
     "output_type": "display_data"
    },
    {
     "data": {
      "text/latex": [
       "Wert mit Rechteckregel     = 2.0003162468544287"
      ],
      "text/plain": [
       "<IPython.core.display.Latex object>"
      ]
     },
     "metadata": {},
     "output_type": "display_data"
    },
    {
     "data": {
      "text/latex": [
       "Absoluter Fehler           = 0.00031624685442865896"
      ],
      "text/plain": [
       "<IPython.core.display.Latex object>"
      ]
     },
     "metadata": {},
     "output_type": "display_data"
    },
    {
     "data": {
      "text/latex": [
       "n = 51"
      ],
      "text/plain": [
       "<IPython.core.display.Latex object>"
      ]
     },
     "metadata": {},
     "output_type": "display_data"
    },
    {
     "data": {
      "text/latex": [
       "h = 0.06159985595274104"
      ],
      "text/plain": [
       "<IPython.core.display.Latex object>"
      ]
     },
     "metadata": {},
     "output_type": "display_data"
    },
    {
     "data": {
      "text/latex": [
       "-----------------------------------------------"
      ],
      "text/plain": [
       "<IPython.core.display.Latex object>"
      ]
     },
     "metadata": {},
     "output_type": "display_data"
    },
    {
     "data": {
      "text/latex": [
       "TRAPEZ-REGEL"
      ],
      "text/plain": [
       "<IPython.core.display.Latex object>"
      ]
     },
     "metadata": {},
     "output_type": "display_data"
    },
    {
     "data": {
      "text/latex": [
       "Trapez-Regel: $T(f) = h \\left(\\frac{f(a) + f(b)}{2} + \\sum_{i=1}^{n-1} f(x_i)\\right)$"
      ],
      "text/plain": [
       "<IPython.core.display.Latex object>"
      ]
     },
     "metadata": {},
     "output_type": "display_data"
    },
    {
     "data": {
      "text/latex": [
       "Trapez-Regel: $T(f) = h \\left(\\frac{f(a) + f(b)}{2} + \\sum_{i=1}^{n-1} f(a + i\\cdot h)\\right)$"
      ],
      "text/plain": [
       "<IPython.core.display.Latex object>"
      ]
     },
     "metadata": {},
     "output_type": "display_data"
    },
    {
     "data": {
      "text/latex": [
       "Trapez-Regel: $T(f) = 0.06159985595274104 \\left(\\frac{f(0) + f(3.141592653589793)}2 + \\sum_1^50 f(0 + i * 0.06159985595274104)\\right)$"
      ],
      "text/plain": [
       "<IPython.core.display.Latex object>"
      ]
     },
     "metadata": {},
     "output_type": "display_data"
    },
    {
     "data": {
      "text/latex": [
       "Wert des Integrals (scipy) = 2.0"
      ],
      "text/plain": [
       "<IPython.core.display.Latex object>"
      ]
     },
     "metadata": {},
     "output_type": "display_data"
    },
    {
     "data": {
      "text/latex": [
       "Wert mit Trapezregel       = 1.999367536291511"
      ],
      "text/plain": [
       "<IPython.core.display.Latex object>"
      ]
     },
     "metadata": {},
     "output_type": "display_data"
    },
    {
     "data": {
      "text/latex": [
       "Absoluter Fehler           = 0.0006324637084889062"
      ],
      "text/plain": [
       "<IPython.core.display.Latex object>"
      ]
     },
     "metadata": {},
     "output_type": "display_data"
    },
    {
     "data": {
      "text/latex": [
       "n = 51"
      ],
      "text/plain": [
       "<IPython.core.display.Latex object>"
      ]
     },
     "metadata": {},
     "output_type": "display_data"
    },
    {
     "data": {
      "text/latex": [
       "h = 0.06159985595274104"
      ],
      "text/plain": [
       "<IPython.core.display.Latex object>"
      ]
     },
     "metadata": {},
     "output_type": "display_data"
    },
    {
     "data": {
      "text/latex": [
       "-----------------------------------------------"
      ],
      "text/plain": [
       "<IPython.core.display.Latex object>"
      ]
     },
     "metadata": {},
     "output_type": "display_data"
    },
    {
     "data": {
      "text/latex": [
       "SIMPSON-REGEL"
      ],
      "text/plain": [
       "<IPython.core.display.Latex object>"
      ]
     },
     "metadata": {},
     "output_type": "display_data"
    },
    {
     "data": {
      "text/latex": [
       "Simpson-Regel: $S(f) = \\frac{h}{3} \\left(\\frac{1}{2}f(a) + \\sum_{i=1}^{n-1} f(x_i) + 2\\sum_{i=1}^{n} f\\left(\\frac{x_{i-1} + x_i}{2}\\right) + \\frac{1}{2}f(b)\\right)$"
      ],
      "text/plain": [
       "<IPython.core.display.Latex object>"
      ]
     },
     "metadata": {},
     "output_type": "display_data"
    },
    {
     "data": {
      "text/latex": [
       "Simpson-Regel: $S(f) = \\frac{0.06159985595274104}3 \\left(\\frac12f(a) + \\sum_1^50 f(x_i) + 2\\sum_1^51 f\\left(\\frac{x_{i-1} + x_i}2\\right) + \\frac12f(3.141592653589793)\\right)$"
      ],
      "text/plain": [
       "<IPython.core.display.Latex object>"
      ]
     },
     "metadata": {},
     "output_type": "display_data"
    },
    {
     "data": {
      "text/latex": [
       "Wert des Integrals (scipy) = 2.0"
      ],
      "text/plain": [
       "<IPython.core.display.Latex object>"
      ]
     },
     "metadata": {},
     "output_type": "display_data"
    },
    {
     "data": {
      "text/latex": [
       "Wert mit Simpson-Regel     = 2.000000010000123"
      ],
      "text/plain": [
       "<IPython.core.display.Latex object>"
      ]
     },
     "metadata": {},
     "output_type": "display_data"
    },
    {
     "data": {
      "text/latex": [
       "Absoluter Fehler           = 1.0000122951936419e-08"
      ],
      "text/plain": [
       "<IPython.core.display.Latex object>"
      ]
     },
     "metadata": {},
     "output_type": "display_data"
    },
    {
     "data": {
      "text/latex": [
       "n = 51"
      ],
      "text/plain": [
       "<IPython.core.display.Latex object>"
      ]
     },
     "metadata": {},
     "output_type": "display_data"
    },
    {
     "data": {
      "text/latex": [
       "h = 0.06159985595274104"
      ],
      "text/plain": [
       "<IPython.core.display.Latex object>"
      ]
     },
     "metadata": {},
     "output_type": "display_data"
    },
    {
     "data": {
      "text/latex": [
       "-----------------------------------------------"
      ],
      "text/plain": [
       "<IPython.core.display.Latex object>"
      ]
     },
     "metadata": {},
     "output_type": "display_data"
    }
   ],
   "source": [
    "import numpy as np\n",
    "import scipy.integrate\n",
    "from IPython.display import display, Latex\n",
    "\n",
    "'''INPUT'''\n",
    "n = 51\n",
    "a, b = 0, np.pi\n",
    "# Zu integrierende Funktion\n",
    "def f(x):\n",
    "    return np.sin(x)\n",
    "'''INPUT'''\n",
    "\n",
    "def Rf(f, a, b, n):\n",
    "    xi = np.array([a + i * ((b - a) / n) for i in range(n)], dtype=np.float64)\n",
    "    h = (b - a) / n\n",
    "    return h * np.sum(f(xi + (h / 2)))\n",
    "\n",
    "def Tf(f, a, b, n):\n",
    "    h = (b - a) / n\n",
    "    xi = np.array([a + i * h for i in range(1, n)], dtype=np.float64)\n",
    "    return h * ((f(a) + f(b)) / 2 + np.sum(f(xi)))\n",
    "\n",
    "def Sf(f, a, b, n):\n",
    "    h = (b - a) / n\n",
    "    xi_1_n_m1 = np.array([a + i * h for i in range(1, n)], dtype=np.float64)\n",
    "    xi_1_n = np.array([a + i * h for i in range(1, n + 1)], dtype=np.float64)\n",
    "    xi_m1_1_n = np.array([a + (i - 1) * h for i in range(1, n + 1)], dtype=np.float64)\n",
    "    return (h / 3) * ((1 / 2) * f(a) + np.sum(f(xi_1_n_m1)) + 2 * np.sum(f((xi_m1_1_n + xi_1_n) / 2)) + (1 / 2) * f(b))\n",
    "\n",
    "integral, _ = scipy.integrate.quad(f, a, b, epsabs=1e-10)\n",
    "\n",
    "# Rechteck-Regel\n",
    "h = (b - a) / n\n",
    "display(Latex('RECHTECK-REGEL'))\n",
    "display(Latex(r'Rechteck-Regel: $R(f) = h \\sum_{i=0}^{n-1} f(x_i + \\frac{h}{2})$'))\n",
    "display(Latex(r'Rechteck-Regel: $R(f) = h \\sum_{i=0}^{n-1} f(a + i * h + \\frac{h}{2})$'))\n",
    "display(Latex(rf'Rechteck-Regel: $R(f) = {h} \\sum_{0}^{n-1} f({a}+{h}*i + \\frac{{{h}}}{2})$'))\n",
    "display(Latex(f'Wert des Integrals (scipy) = {integral}'))\n",
    "display(Latex(f'Wert mit Rechteckregel     = {Rf(f, a, b, n)}'))\n",
    "display(Latex(f'Absoluter Fehler           = {abs(integral - Rf(f, a, b, n))}'))\n",
    "display(Latex(f'n = {n}'))\n",
    "display(Latex(f'h = {(b - a) / n}'))\n",
    "display(Latex('-----------------------------------------------'))\n",
    "\n",
    "# Trapez-Regel\n",
    "display(Latex('TRAPEZ-REGEL'))\n",
    "display(Latex(r'Trapez-Regel: $T(f) = h \\left(\\frac{f(a) + f(b)}{2} + \\sum_{i=1}^{n-1} f(x_i)\\right)$'))\n",
    "display(Latex(r'Trapez-Regel: $T(f) = h \\left(\\frac{f(a) + f(b)}{2} + \\sum_{i=1}^{n-1} f(a + i\\cdot h)\\right)$'))\n",
    "display(Latex(rf'Trapez-Regel: $T(f) = {h} \\left(\\frac{{f({a}) + f({b})}}{2} + \\sum_{1}^{n-1} f({a} + i * {h})\\right)$'))\n",
    "display(Latex(f'Wert des Integrals (scipy) = {integral}'))\n",
    "display(Latex(f'Wert mit Trapezregel       = {Tf(f, a, b, n)}'))\n",
    "display(Latex(f'Absoluter Fehler           = {abs(integral - Tf(f, a, b, n))}'))\n",
    "display(Latex(f'n = {n}'))\n",
    "display(Latex(f'h = {(b - a) / n}'))\n",
    "display(Latex('-----------------------------------------------'))\n",
    "\n",
    "# Simpson-Regel\n",
    "display(Latex('SIMPSON-REGEL'))\n",
    "display(Latex(r'Simpson-Regel: $S(f) = \\frac{h}{3} \\left(\\frac{1}{2}f(a) + \\sum_{i=1}^{n-1} f(x_i) + 2\\sum_{i=1}^{n} f\\left(\\frac{x_{i-1} + x_i}{2}\\right) + \\frac{1}{2}f(b)\\right)$'))\n",
    "display(Latex(rf'Simpson-Regel: $S(f) = \\frac{{{h}}}{3} \\left(\\frac{1}{2}f(a) + \\sum_{1}^{n-1} f(x_i) + 2\\sum_{1}^{n} f\\left(\\frac{{x_{{i-1}} + x_i}}{2}\\right) + \\frac{1}{2}f({b})\\right)$'))\n",
    "display(Latex(f'Wert des Integrals (scipy) = {integral}'))\n",
    "display(Latex(f'Wert mit Simpson-Regel     = {Sf(f, a, b, n)}'))\n",
    "display(Latex(f'Absoluter Fehler           = {abs(integral - Sf(f, a, b, n))}'))\n",
    "display(Latex(f'n = {n}'))\n",
    "display(Latex(f'h = {(b - a) / n}'))\n",
    "display(Latex('-----------------------------------------------'))"
   ]
  }
 ],
 "metadata": {
  "kernelspec": {
   "display_name": "base",
   "language": "python",
   "name": "python3"
  },
  "language_info": {
   "codemirror_mode": {
    "name": "ipython",
    "version": 3
   },
   "file_extension": ".py",
   "mimetype": "text/x-python",
   "name": "python",
   "nbconvert_exporter": "python",
   "pygments_lexer": "ipython3",
   "version": "3.12.2"
  }
 },
 "nbformat": 4,
 "nbformat_minor": 2
}
