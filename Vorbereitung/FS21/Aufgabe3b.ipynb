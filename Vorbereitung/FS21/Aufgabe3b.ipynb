{
 "cells": [
  {
   "cell_type": "code",
   "execution_count": 5,
   "metadata": {},
   "outputs": [
    {
     "data": {
      "text/latex": [
       "$\\displaystyle \\text{Iteration: } 1$"
      ],
      "text/plain": [
       "<IPython.core.display.Math object>"
      ]
     },
     "metadata": {},
     "output_type": "display_data"
    },
    {
     "data": {
      "text/latex": [
       "$\\displaystyle \\text{{QR-Zerlegung von }} Dg(\\lambda_{0}) = Q_0 \\cdot R_0:$"
      ],
      "text/plain": [
       "<IPython.core.display.Math object>"
      ]
     },
     "metadata": {},
     "output_type": "display_data"
    },
    {
     "data": {
      "text/latex": [
       "$\\displaystyle \\text{{Q}}_0= \\left[\\begin{matrix}-0.795066737131749 & 0.227585815967018 & 0.46242060714375\\\\-0.482232352588091 & -0.0112109848149561 & -0.295171420607128\\\\-0.29248870695003 & -0.156048565930513 & -0.465750075104361\\\\-0.177403368384897 & -0.243896999555714 & -0.393969910989629\\\\-0.107600582061735 & -0.297179767957129 & -0.24414379030783\\\\-0.0652630520233673 & -0.329497400626954 & -0.0888019653309205\\\\-0.0395840419985929 & -0.349099035690534 & 0.0445192442881929\\\\-0.0240089351074992 & -0.360988028337093 & 0.14909898297307\\\\-0.0145621552497493 & -0.368199066890329 & 0.226914486676316\\\\-0.0088323936304682 & -0.372572782861237 & 0.28283672844507\\\\-0.00535711753552954 & -0.375225575694467 & 0.322047112813469\\end{matrix}\\right]$"
      ],
      "text/plain": [
       "<IPython.core.display.Math object>"
      ]
     },
     "metadata": {},
     "output_type": "display_data"
    },
    {
     "data": {
      "text/latex": [
       "$\\displaystyle \\text{{R}}_0= \\left[\\begin{matrix}1.25775605153293 & 0.754643391128775 & -18.2938411934771\\\\0 & 2.63633239239191 & -21.9514728726888\\\\0 & 0 & -20.6499896725558\\end{matrix}\\right]$"
      ],
      "text/plain": [
       "<IPython.core.display.Math object>"
      ]
     },
     "metadata": {},
     "output_type": "display_data"
    },
    {
     "data": {
      "text/latex": [
       "$\\displaystyle Dg(\\lambda_{0}) = \\left[\\begin{matrix}-1.0 & 0 & 0\\\\-0.606530659712633 & -0.393469340287367 & 15.1632664928158\\\\-0.367879441171442 & -0.632120558828558 & 18.3939720585721\\\\-0.22313016014843 & -0.77686983985157 & 16.7347620111322\\\\-0.135335283236613 & -0.864664716763387 & 13.5335283236613\\\\-0.0820849986238988 & -0.917915001376101 & 10.2606248279873\\\\-0.049787068367864 & -0.950212931632136 & 7.46806025517959\\\\-0.0301973834223185 & -0.969802616577682 & 5.28454209890574\\\\-0.0183156388887342 & -0.981684361111266 & 3.66312777774684\\\\-0.0111089965382423 & -0.988891003461758 & 2.49952422110452\\\\-0.00673794699908547 & -0.993262053000915 & 1.68448674977137\\end{matrix}\\right]$"
      ],
      "text/plain": [
       "<IPython.core.display.Math object>"
      ]
     },
     "metadata": {},
     "output_type": "display_data"
    },
    {
     "name": "stdout",
     "output_type": "stream",
     "text": [
      "\n"
     ]
    },
    {
     "data": {
      "text/latex": [
       "$\\displaystyle \\text{{Auflösen nach }} \\delta_0\\text{{ mit }} R_0\\cdot \\delta_0= -Q_0^T \\cdot g(\\lambda_0):$"
      ],
      "text/plain": [
       "<IPython.core.display.Math object>"
      ]
     },
     "metadata": {},
     "output_type": "display_data"
    },
    {
     "data": {
      "text/latex": [
       "$\\displaystyle Q_0^T\\left[\\begin{array}{ccccccccccc}-0.795066737131749 & -0.482232352588091 & -0.29248870695003 & -0.177403368384897 & -0.107600582061735 & -0.0652630520233673 & -0.0395840419985929 & -0.0240089351074992 & -0.0145621552497493 & -0.0088323936304682 & -0.00535711753552954\\\\0.227585815967018 & -0.0112109848149561 & -0.156048565930513 & -0.243896999555714 & -0.297179767957129 & -0.329497400626954 & -0.349099035690534 & -0.360988028337093 & -0.368199066890329 & -0.372572782861237 & -0.375225575694467\\\\0.46242060714375 & -0.295171420607128 & -0.465750075104361 & -0.393969910989629 & -0.24414379030783 & -0.0888019653309205 & 0.0445192442881929 & 0.14909898297307 & 0.226914486676316 & 0.28283672844507 & 0.322047112813469\\end{array}\\right]$"
      ],
      "text/plain": [
       "<IPython.core.display.Math object>"
      ]
     },
     "metadata": {},
     "output_type": "display_data"
    },
    {
     "data": {
      "text/latex": [
       "$\\displaystyle -Q_0^T\\left[\\begin{array}{ccccccccccc}0.795066737131749 & 0.482232352588091 & 0.29248870695003 & 0.177403368384897 & 0.107600582061735 & 0.0652630520233673 & 0.0395840419985929 & 0.0240089351074992 & 0.0145621552497493 & 0.0088323936304682 & 0.00535711753552954\\\\-0.227585815967018 & 0.0112109848149561 & 0.156048565930513 & 0.243896999555714 & 0.297179767957129 & 0.329497400626954 & 0.349099035690534 & 0.360988028337093 & 0.368199066890329 & 0.372572782861237 & 0.375225575694467\\\\-0.46242060714375 & 0.295171420607128 & 0.465750075104361 & 0.393969910989629 & 0.24414379030783 & 0.0888019653309205 & -0.0445192442881929 & -0.14909898297307 & -0.226914486676316 & -0.28283672844507 & -0.322047112813469\\end{array}\\right]$"
      ],
      "text/plain": [
       "<IPython.core.display.Math object>"
      ]
     },
     "metadata": {},
     "output_type": "display_data"
    },
    {
     "data": {
      "text/latex": [
       "$\\displaystyle g(\\lambda_0) = \\left[\\begin{matrix}-0.450000000000003\\\\-1.31938680574734\\\\-2.51241117657115\\\\-3.78739679703141\\\\-2.04329433526775\\\\-1.56830002752202\\\\-2.22425863264272\\\\-0.266052331553631\\\\-1.87368722222532\\\\-0.387820069235154\\\\0.214758939981706\\end{matrix}\\right]$"
      ],
      "text/plain": [
       "<IPython.core.display.Math object>"
      ]
     },
     "metadata": {},
     "output_type": "display_data"
    },
    {
     "data": {
      "text/latex": [
       "$\\displaystyle \\delta_0 = \\left[\\begin{matrix}-0.0275415132403831\\\\-0.348875372373748\\\\0.139340183169354\\end{matrix}\\right]$"
      ],
      "text/plain": [
       "<IPython.core.display.Math object>"
      ]
     },
     "metadata": {},
     "output_type": "display_data"
    },
    {
     "name": "stdout",
     "output_type": "stream",
     "text": [
      "\n"
     ]
    },
    {
     "data": {
      "text/latex": [
       "$\\displaystyle \\text{Optimales } p: 0$"
      ],
      "text/plain": [
       "<IPython.core.display.Math object>"
      ]
     },
     "metadata": {},
     "output_type": "display_data"
    },
    {
     "data": {
      "text/latex": [
       "$\\displaystyle \\text{{Lambda berechnen: }} \\lambda_1 = \\lambda_0 + \\frac{{\\delta_0}}{{2^0}}$"
      ],
      "text/plain": [
       "<IPython.core.display.Math object>"
      ]
     },
     "metadata": {},
     "output_type": "display_data"
    },
    {
     "data": {
      "text/latex": [
       "$\\displaystyle \\left[\\begin{matrix}40.0\\\\60.0\\\\0.4\\end{matrix}\\right] + \\frac{{\\left[\\begin{matrix}-0.0275415132403831\\\\-0.348875372373748\\\\0.139340183169354\\end{matrix}\\right]}}{{2^0}} = \\left[\\begin{matrix}39.9724584867596\\\\59.6511246276263\\\\0.539340183169354\\end{matrix}\\right]$"
      ],
      "text/plain": [
       "<IPython.core.display.Math object>"
      ]
     },
     "metadata": {},
     "output_type": "display_data"
    },
    {
     "name": "stdout",
     "output_type": "stream",
     "text": [
      "\n"
     ]
    },
    {
     "data": {
      "text/latex": [
       "$\\displaystyle \\lambda_{1} = 39.9725, 59.6511, 0.5393$"
      ],
      "text/plain": [
       "<IPython.core.display.Math object>"
      ]
     },
     "metadata": {},
     "output_type": "display_data"
    },
    {
     "data": {
      "text/latex": [
       "$\\displaystyle \\text{Inkrement} = 0.37668056366921865$"
      ],
      "text/plain": [
       "<IPython.core.display.Math object>"
      ]
     },
     "metadata": {},
     "output_type": "display_data"
    },
    {
     "data": {
      "text/latex": [
       "$\\displaystyle \\text{Fehlerfunktional} = 5.777772938306537$"
      ],
      "text/plain": [
       "<IPython.core.display.Math object>"
      ]
     },
     "metadata": {},
     "output_type": "display_data"
    },
    {
     "name": "stdout",
     "output_type": "stream",
     "text": [
      "-----------------------------------------\n",
      "\n"
     ]
    },
    {
     "data": {
      "text/latex": [
       "$\\displaystyle \\text{Iteration: } 2$"
      ],
      "text/plain": [
       "<IPython.core.display.Math object>"
      ]
     },
     "metadata": {},
     "output_type": "display_data"
    },
    {
     "data": {
      "text/latex": [
       "$\\displaystyle \\text{{QR-Zerlegung von }} Dg(\\lambda_{1}) = Q_1 \\cdot R_1:$"
      ],
      "text/plain": [
       "<IPython.core.display.Math object>"
      ]
     },
     "metadata": {},
     "output_type": "display_data"
    },
    {
     "data": {
      "text/latex": [
       "$\\displaystyle \\text{{Q}}_1= \\left[\\begin{matrix}-0.723754959908742 & 0.276655046453353 & 0.491785450868309\\\\-0.499510894497778 & 0.0614631742742581 & -0.156952148098004\\\\-0.344745317881388 & -0.0870548884888415 & -0.390642489460127\\\\-0.237931415531254 & -0.189556970670395 & -0.404200245420179\\\\-0.164212117062555 & -0.260300398480339 & -0.311601007947363\\\\-0.113333581149666 & -0.309125090347928 & -0.177325411714935\\\\-0.0782189575652018 & -0.342822221088743 & -0.0360882548444456\\\\-0.0539840465687505 & -0.366078827054491 & 0.0949065144825859\\\\-0.0372579407173477 & -0.382129740267434 & 0.208447401678071\\\\-0.0257141551019065 & -0.393207531040039 & 0.302774889072889\\\\-0.0177470294888584 & -0.40085304296659 & 0.378895301383199\\end{matrix}\\right]$"
      ],
      "text/plain": [
       "<IPython.core.display.Math object>"
      ]
     },
     "metadata": {},
     "output_type": "display_data"
    },
    {
     "data": {
      "text/latex": [
       "$\\displaystyle \\text{{R}}_1= \\left[\\begin{matrix}1.38168310463266 & 0.914727310840785 & -16.9453063263815\\\\0 & 2.39301048967719 & -20.3027527402647\\\\0 & 0 & -13.5168506645854\\end{matrix}\\right]$"
      ],
      "text/plain": [
       "<IPython.core.display.Math object>"
      ]
     },
     "metadata": {},
     "output_type": "display_data"
    },
    {
     "data": {
      "text/latex": [
       "$\\displaystyle Dg(\\lambda_{1}) = \\left[\\begin{matrix}-1.0 & 0 & 0\\\\-0.690165763507529 & -0.309834236492471 & 9.33799223803425\\\\-0.476328781117931 & -0.523671218882069 & 12.8895250851806\\\\-0.328745816900867 & -0.671254183099133 & 13.3438633824947\\\\-0.226889107721293 & -0.773110892278707 & 12.2793035460261\\\\-0.156591094262009 & -0.843408905737991 & 10.5934436339798\\\\-0.108073812129819 & -0.891926187870181 & 8.77347853658355\\\\-0.0745888450637455 & -0.925411154936254 & 7.06434693162112\\\\-0.0514786672025647 & -0.948521332797435 & 5.57208044999356\\\\-0.0355288136542081 & -0.964471186345792 & 4.32636655285708\\\\-0.0245207708021733 & -0.975479229197827 & 3.3176778612956\\end{matrix}\\right]$"
      ],
      "text/plain": [
       "<IPython.core.display.Math object>"
      ]
     },
     "metadata": {},
     "output_type": "display_data"
    },
    {
     "name": "stdout",
     "output_type": "stream",
     "text": [
      "\n"
     ]
    },
    {
     "data": {
      "text/latex": [
       "$\\displaystyle \\text{{Auflösen nach }} \\delta_1\\text{{ mit }} R_1\\cdot \\delta_1= -Q_1^T \\cdot g(\\lambda_1):$"
      ],
      "text/plain": [
       "<IPython.core.display.Math object>"
      ]
     },
     "metadata": {},
     "output_type": "display_data"
    },
    {
     "data": {
      "text/latex": [
       "$\\displaystyle Q_1^T\\left[\\begin{array}{ccccccccccc}-0.723754959908742 & -0.499510894497778 & -0.344745317881388 & -0.237931415531254 & -0.164212117062555 & -0.113333581149666 & -0.0782189575652018 & -0.0539840465687505 & -0.0372579407173477 & -0.0257141551019065 & -0.0177470294888584\\\\0.276655046453353 & 0.0614631742742581 & -0.0870548884888415 & -0.189556970670395 & -0.260300398480339 & -0.309125090347928 & -0.342822221088743 & -0.366078827054491 & -0.382129740267434 & -0.393207531040039 & -0.40085304296659\\\\0.491785450868309 & -0.156952148098004 & -0.390642489460127 & -0.404200245420179 & -0.311601007947363 & -0.177325411714935 & -0.0360882548444456 & 0.0949065144825859 & 0.208447401678071 & 0.302774889072889 & 0.378895301383199\\end{array}\\right]$"
      ],
      "text/plain": [
       "<IPython.core.display.Math object>"
      ]
     },
     "metadata": {},
     "output_type": "display_data"
    },
    {
     "data": {
      "text/latex": [
       "$\\displaystyle -Q_1^T\\left[\\begin{array}{ccccccccccc}0.723754959908742 & 0.499510894497778 & 0.344745317881388 & 0.237931415531254 & 0.164212117062555 & 0.113333581149666 & 0.0782189575652018 & 0.0539840465687505 & 0.0372579407173477 & 0.0257141551019065 & 0.0177470294888584\\\\-0.276655046453353 & -0.0614631742742581 & 0.0870548884888415 & 0.189556970670395 & 0.260300398480339 & 0.309125090347928 & 0.342822221088743 & 0.366078827054491 & 0.382129740267434 & 0.393207531040039 & 0.40085304296659\\\\-0.491785450868309 & 0.156952148098004 & 0.390642489460127 & 0.404200245420179 & 0.311601007947363 & 0.177325411714935 & 0.0360882548444456 & -0.0949065144825859 & -0.208447401678071 & -0.302774889072889 & -0.378895301383199\\end{array}\\right]$"
      ],
      "text/plain": [
       "<IPython.core.display.Math object>"
      ]
     },
     "metadata": {},
     "output_type": "display_data"
    },
    {
     "data": {
      "text/latex": [
       "$\\displaystyle g(\\lambda_1) = \\left[\\begin{matrix}-0.422458486759616\\\\0.48041701429473\\\\-0.147609570720554\\\\-1.43184545162761\\\\0.0637503742202057\\\\0.220379236988791\\\\-0.744376160152811\\\\0.946684352216032\\\\-0.878093122370203\\\\0.438035034655975\\\\0.911411434506419\\end{matrix}\\right]$"
      ],
      "text/plain": [
       "<IPython.core.display.Math object>"
      ]
     },
     "metadata": {},
     "output_type": "display_data"
    },
    {
     "data": {
      "text/latex": [
       "$\\displaystyle \\delta_1 = \\left[\\begin{matrix}-0.0172900850465296\\\\0.518823874237381\\\\0.0522265851149961\\end{matrix}\\right]$"
      ],
      "text/plain": [
       "<IPython.core.display.Math object>"
      ]
     },
     "metadata": {},
     "output_type": "display_data"
    },
    {
     "name": "stdout",
     "output_type": "stream",
     "text": [
      "\n"
     ]
    },
    {
     "data": {
      "text/latex": [
       "$\\displaystyle \\text{Optimales } p: 0$"
      ],
      "text/plain": [
       "<IPython.core.display.Math object>"
      ]
     },
     "metadata": {},
     "output_type": "display_data"
    },
    {
     "data": {
      "text/latex": [
       "$\\displaystyle \\text{{Lambda berechnen: }} \\lambda_2 = \\lambda_1 + \\frac{{\\delta_1}}{{2^0}}$"
      ],
      "text/plain": [
       "<IPython.core.display.Math object>"
      ]
     },
     "metadata": {},
     "output_type": "display_data"
    },
    {
     "data": {
      "text/latex": [
       "$\\displaystyle \\left[\\begin{matrix}39.9724584867596\\\\59.6511246276263\\\\0.539340183169354\\end{matrix}\\right] + \\frac{{\\left[\\begin{matrix}-0.0172900850465296\\\\0.518823874237381\\\\0.0522265851149961\\end{matrix}\\right]}}{{2^0}} = \\left[\\begin{matrix}39.9551684017131\\\\60.1699485018636\\\\0.59156676828435\\end{matrix}\\right]$"
      ],
      "text/plain": [
       "<IPython.core.display.Math object>"
      ]
     },
     "metadata": {},
     "output_type": "display_data"
    },
    {
     "name": "stdout",
     "output_type": "stream",
     "text": [
      "\n"
     ]
    },
    {
     "data": {
      "text/latex": [
       "$\\displaystyle \\lambda_{2} = 39.9552, 60.1699, 0.5916$"
      ],
      "text/plain": [
       "<IPython.core.display.Math object>"
      ]
     },
     "metadata": {},
     "output_type": "display_data"
    },
    {
     "data": {
      "text/latex": [
       "$\\displaystyle \\text{Inkrement} = 0.5217324752326387$"
      ],
      "text/plain": [
       "<IPython.core.display.Math object>"
      ]
     },
     "metadata": {},
     "output_type": "display_data"
    },
    {
     "data": {
      "text/latex": [
       "$\\displaystyle \\text{Fehlerfunktional} = 5.034640133716774$"
      ],
      "text/plain": [
       "<IPython.core.display.Math object>"
      ]
     },
     "metadata": {},
     "output_type": "display_data"
    },
    {
     "name": "stdout",
     "output_type": "stream",
     "text": [
      "-----------------------------------------\n",
      "\n"
     ]
    },
    {
     "data": {
      "text/latex": [
       "$\\displaystyle \\text{Iteration: } 3$"
      ],
      "text/plain": [
       "<IPython.core.display.Math object>"
      ]
     },
     "metadata": {},
     "output_type": "display_data"
    },
    {
     "data": {
      "text/latex": [
       "$\\displaystyle \\text{{QR-Zerlegung von }} Dg(\\lambda_{2}) = Q_2 \\cdot R_2:$"
      ],
      "text/plain": [
       "<IPython.core.display.Math object>"
      ]
     },
     "metadata": {},
     "output_type": "display_data"
    },
    {
     "data": {
      "text/latex": [
       "$\\displaystyle \\text{{Q}}_2= \\left[\\begin{matrix}-0.701233626955371 & 0.291838603978201 & 0.498069404813244\\\\-0.500073884285337 & 0.083642662752105 & -0.121030329777971\\\\-0.356619933972648 & -0.0648290434229356 & -0.365953440598147\\\\-0.254317974409737 & -0.170709337749079 & -0.40042981959148\\\\-0.181362918744839 & -0.246216227347115 & -0.325044116370131\\\\-0.129336152397367 & -0.300062794482717 & -0.199990491603271\\\\-0.0922340709596172 & -0.338462638625738 & -0.0599685994939533\\\\-0.0657752970696608 & -0.365846891859467 & 0.076142910091218\\\\-0.0469066328699332 & -0.385375547298171 & 0.199064888382385\\\\-0.0334507376662167 & -0.399302105016892 & 0.305163714615312\\\\-0.0238548747149849 & -0.409233613640292 & 0.393975879532796\\end{matrix}\\right]$"
      ],
      "text/plain": [
       "<IPython.core.display.Math object>"
      ]
     },
     "metadata": {},
     "output_type": "display_data"
    },
    {
     "data": {
      "text/latex": [
       "$\\displaystyle \\text{{R}}_2= \\left[\\begin{matrix}1.42605825157276 & 0.959107852472952 & -16.9423938683199\\\\0 & 2.3045569327121 & -20.1905622290412\\\\0 & 0 & -12.022803949131\\end{matrix}\\right]$"
      ],
      "text/plain": [
       "<IPython.core.display.Math object>"
      ]
     },
     "metadata": {},
     "output_type": "display_data"
    },
    {
     "data": {
      "text/latex": [
       "$\\displaystyle Dg(\\lambda_{2}) = \\left[\\begin{matrix}-1.0 & 0 & 0\\\\-0.713134489081146 & -0.286865510918854 & 8.23878025034294\\\\-0.508560799517027 & -0.491439200482973 & 11.7507166889603\\\\-0.362672245930275 & -0.637327754069725 & 12.5697620134785\\\\-0.258634086805398 & -0.741365913194602 & 11.9519077484714\\\\-0.184440887352936 & -0.815559112647064 & 10.654147032189\\\\-0.13153115796811 & -0.86846884203189 & 9.11740764047459\\\\-0.0937994051358393 & -0.906200594864161 & 7.58559414600678\\\\-0.0668915908576622 & -0.933108409142338 & 6.18234149221655\\\\-0.047702700470104 & -0.952297299529896 & 4.95994605904915\\\\-0.0340184409275386 & -0.965981559072461 & 3.93012066521118\\end{matrix}\\right]$"
      ],
      "text/plain": [
       "<IPython.core.display.Math object>"
      ]
     },
     "metadata": {},
     "output_type": "display_data"
    },
    {
     "name": "stdout",
     "output_type": "stream",
     "text": [
      "\n"
     ]
    },
    {
     "data": {
      "text/latex": [
       "$\\displaystyle \\text{{Auflösen nach }} \\delta_2\\text{{ mit }} R_2\\cdot \\delta_2= -Q_2^T \\cdot g(\\lambda_2):$"
      ],
      "text/plain": [
       "<IPython.core.display.Math object>"
      ]
     },
     "metadata": {},
     "output_type": "display_data"
    },
    {
     "data": {
      "text/latex": [
       "$\\displaystyle Q_2^T\\left[\\begin{array}{ccccccccccc}-0.701233626955371 & -0.500073884285337 & -0.356619933972648 & -0.254317974409737 & -0.181362918744839 & -0.129336152397367 & -0.0922340709596172 & -0.0657752970696608 & -0.0469066328699332 & -0.0334507376662167 & -0.0238548747149849\\\\0.291838603978201 & 0.083642662752105 & -0.0648290434229356 & -0.170709337749079 & -0.246216227347115 & -0.300062794482717 & -0.338462638625738 & -0.365846891859467 & -0.385375547298171 & -0.399302105016892 & -0.409233613640292\\\\0.498069404813244 & -0.121030329777971 & -0.365953440598147 & -0.40042981959148 & -0.325044116370131 & -0.199990491603271 & -0.0599685994939533 & 0.076142910091218 & 0.199064888382385 & 0.305163714615312 & 0.393975879532796\\end{array}\\right]$"
      ],
      "text/plain": [
       "<IPython.core.display.Math object>"
      ]
     },
     "metadata": {},
     "output_type": "display_data"
    },
    {
     "data": {
      "text/latex": [
       "$\\displaystyle -Q_2^T\\left[\\begin{array}{ccccccccccc}0.701233626955371 & 0.500073884285337 & 0.356619933972648 & 0.254317974409737 & 0.181362918744839 & 0.129336152397367 & 0.0922340709596172 & 0.0657752970696608 & 0.0469066328699332 & 0.0334507376662167 & 0.0238548747149849\\\\-0.291838603978201 & -0.083642662752105 & 0.0648290434229356 & 0.170709337749079 & 0.246216227347115 & 0.300062794482717 & 0.338462638625738 & 0.365846891859467 & 0.385375547298171 & 0.399302105016892 & 0.409233613640292\\\\-0.498069404813244 & 0.121030329777971 & 0.365953440598147 & 0.40042981959148 & 0.325044116370131 & 0.199990491603271 & 0.0599685994939533 & -0.076142910091218 & -0.199064888382385 & -0.305163714615312 & -0.393975879532796\\end{array}\\right]$"
      ],
      "text/plain": [
       "<IPython.core.display.Math object>"
      ]
     },
     "metadata": {},
     "output_type": "display_data"
    },
    {
     "data": {
      "text/latex": [
       "$\\displaystyle g(\\lambda_2) = \\left[\\begin{matrix}-0.405168401713084\\\\0.795908376744947\\\\0.240496227929825\\\\-1.08860880195542\\\\0.308282689310737\\\\0.348483477452611\\\\-0.731075067220132\\\\0.85618584648229\\\\-1.05774970212676\\\\0.184351098322864\\\\0.597726800836512\\end{matrix}\\right]$"
      ],
      "text/plain": [
       "<IPython.core.display.Math object>"
      ]
     },
     "metadata": {},
     "output_type": "display_data"
    },
    {
     "data": {
      "text/latex": [
       "$\\displaystyle \\delta_2 = \\left[\\begin{matrix}0.0121589031574545\\\\0.0676872808129413\\\\0.00582988141363572\\end{matrix}\\right]$"
      ],
      "text/plain": [
       "<IPython.core.display.Math object>"
      ]
     },
     "metadata": {},
     "output_type": "display_data"
    },
    {
     "name": "stdout",
     "output_type": "stream",
     "text": [
      "\n"
     ]
    },
    {
     "data": {
      "text/latex": [
       "$\\displaystyle \\text{Optimales } p: 0$"
      ],
      "text/plain": [
       "<IPython.core.display.Math object>"
      ]
     },
     "metadata": {},
     "output_type": "display_data"
    },
    {
     "data": {
      "text/latex": [
       "$\\displaystyle \\text{{Lambda berechnen: }} \\lambda_3 = \\lambda_2 + \\frac{{\\delta_2}}{{2^0}}$"
      ],
      "text/plain": [
       "<IPython.core.display.Math object>"
      ]
     },
     "metadata": {},
     "output_type": "display_data"
    },
    {
     "data": {
      "text/latex": [
       "$\\displaystyle \\left[\\begin{matrix}39.9551684017131\\\\60.1699485018636\\\\0.59156676828435\\end{matrix}\\right] + \\frac{{\\left[\\begin{matrix}0.0121589031574545\\\\0.0676872808129413\\\\0.00582988141363572\\end{matrix}\\right]}}{{2^0}} = \\left[\\begin{matrix}39.9673273048705\\\\60.2376357826766\\\\0.597396649697985\\end{matrix}\\right]$"
      ],
      "text/plain": [
       "<IPython.core.display.Math object>"
      ]
     },
     "metadata": {},
     "output_type": "display_data"
    },
    {
     "name": "stdout",
     "output_type": "stream",
     "text": [
      "\n"
     ]
    },
    {
     "data": {
      "text/latex": [
       "$\\displaystyle \\lambda_{3} = 39.9673, 60.2376, 0.5974$"
      ],
      "text/plain": [
       "<IPython.core.display.Math object>"
      ]
     },
     "metadata": {},
     "output_type": "display_data"
    },
    {
     "data": {
      "text/latex": [
       "$\\displaystyle \\text{Inkrement} = 0.0690173487402942$"
      ],
      "text/plain": [
       "<IPython.core.display.Math object>"
      ]
     },
     "metadata": {},
     "output_type": "display_data"
    },
    {
     "data": {
      "text/latex": [
       "$\\displaystyle \\text{Fehlerfunktional} = 5.027724302472906$"
      ],
      "text/plain": [
       "<IPython.core.display.Math object>"
      ]
     },
     "metadata": {},
     "output_type": "display_data"
    },
    {
     "name": "stdout",
     "output_type": "stream",
     "text": [
      "-----------------------------------------\n",
      "\n"
     ]
    },
    {
     "data": {
      "text/latex": [
       "$\\displaystyle \\text{Iteration: } 4$"
      ],
      "text/plain": [
       "<IPython.core.display.Math object>"
      ]
     },
     "metadata": {},
     "output_type": "display_data"
    },
    {
     "data": {
      "text/latex": [
       "$\\displaystyle \\text{{QR-Zerlegung von }} Dg(\\lambda_{3}) = Q_3 \\cdot R_3:$"
      ],
      "text/plain": [
       "<IPython.core.display.Math object>"
      ]
     },
     "metadata": {},
     "output_type": "display_data"
    },
    {
     "data": {
      "text/latex": [
       "$\\displaystyle \\text{{Q}}_3= \\left[\\begin{matrix}-0.698842881079077 & 0.29343939306398 & 0.498671128682044\\\\-0.500015950269471 & 0.0859753877229571 & -0.11740776657988\\\\-0.35775702563906 & -0.0624632879592297 & -0.363346914638644\\\\-0.255972013143041 & -0.168669858116123 & -0.39989367101798\\\\-0.183145729690311 & -0.244659727283655 & -0.326288376824068\\\\-0.131039162805086 & -0.299029811992806 & -0.202251195580057\\\\-0.0937573713440847 & -0.337931130598356 & -0.0624367542796471\\\\-0.0670825766372449 & -0.365764682768559 & 0.0741371896067878\\\\-0.0479969950498803 & -0.385679345154859 & 0.197997222171153\\\\-0.0343414288672269 & -0.399928111375394 & 0.305322771092446\\\\-0.0245709910676115 & -0.410122978597806 & 0.395496367367846\\end{matrix}\\right]$"
      ],
      "text/plain": [
       "<IPython.core.display.Math object>"
      ]
     },
     "metadata": {},
     "output_type": "display_data"
    },
    {
     "data": {
      "text/latex": [
       "$\\displaystyle \\text{{R}}_3= \\left[\\begin{matrix}1.43093680578946 & 0.963585319802632 & -16.9361973035366\\\\0 & 2.29483415305985 & -20.1676813660034\\\\0 & 0 & -11.8670370073753\\end{matrix}\\right]$"
      ],
      "text/plain": [
       "<IPython.core.display.Math object>"
      ]
     },
     "metadata": {},
     "output_type": "display_data"
    },
    {
     "data": {
      "text/latex": [
       "$\\displaystyle Dg(\\lambda_{3}) = \\left[\\begin{matrix}-1.0 & 0 & 0\\\\-0.715491226722379 & -0.284508773277621 & 8.12772687472062\\\\-0.511927695516695 & -0.488072304483305 & 11.6306345441166\\\\-0.366279774858401 & -0.633720225141599 & 12.4824254662945\\\\-0.262069965437034 & -0.737930034562966 & 11.908087879133\\\\-0.187508761057635 & -0.812491238942365 & 10.6501655056984\\\\-0.134160873470321 & -0.865839126529679 & 9.14411997896226\\\\-0.095990927937426 & -0.904009072062574 & 7.63296055788505\\\\-0.0686806667841684 & -0.931319333215832 & 6.2415043578111\\\\-0.0491404145295156 & -0.950859585470484 & 5.02395931075876\\\\-0.0351595354733694 & -0.964840464526631 & 3.99399867806456\\end{matrix}\\right]$"
      ],
      "text/plain": [
       "<IPython.core.display.Math object>"
      ]
     },
     "metadata": {},
     "output_type": "display_data"
    },
    {
     "name": "stdout",
     "output_type": "stream",
     "text": [
      "\n"
     ]
    },
    {
     "data": {
      "text/latex": [
       "$\\displaystyle \\text{{Auflösen nach }} \\delta_3\\text{{ mit }} R_3\\cdot \\delta_3= -Q_3^T \\cdot g(\\lambda_3):$"
      ],
      "text/plain": [
       "<IPython.core.display.Math object>"
      ]
     },
     "metadata": {},
     "output_type": "display_data"
    },
    {
     "data": {
      "text/latex": [
       "$\\displaystyle Q_3^T\\left[\\begin{array}{ccccccccccc}-0.698842881079077 & -0.500015950269471 & -0.35775702563906 & -0.255972013143041 & -0.183145729690311 & -0.131039162805086 & -0.0937573713440847 & -0.0670825766372449 & -0.0479969950498803 & -0.0343414288672269 & -0.0245709910676115\\\\0.29343939306398 & 0.0859753877229571 & -0.0624632879592297 & -0.168669858116123 & -0.244659727283655 & -0.299029811992806 & -0.337931130598356 & -0.365764682768559 & -0.385679345154859 & -0.399928111375394 & -0.410122978597806\\\\0.498671128682044 & -0.11740776657988 & -0.363346914638644 & -0.39989367101798 & -0.326288376824068 & -0.202251195580057 & -0.0624367542796471 & 0.0741371896067878 & 0.197997222171153 & 0.305322771092446 & 0.395496367367846\\end{array}\\right]$"
      ],
      "text/plain": [
       "<IPython.core.display.Math object>"
      ]
     },
     "metadata": {},
     "output_type": "display_data"
    },
    {
     "data": {
      "text/latex": [
       "$\\displaystyle -Q_3^T\\left[\\begin{array}{ccccccccccc}0.698842881079077 & 0.500015950269471 & 0.35775702563906 & 0.255972013143041 & 0.183145729690311 & 0.131039162805086 & 0.0937573713440847 & 0.0670825766372449 & 0.0479969950498803 & 0.0343414288672269 & 0.0245709910676115\\\\-0.29343939306398 & -0.0859753877229571 & 0.0624632879592297 & 0.168669858116123 & 0.244659727283655 & 0.299029811992806 & 0.337931130598356 & 0.365764682768559 & 0.385679345154859 & 0.399928111375394 & 0.410122978597806\\\\-0.498671128682044 & 0.11740776657988 & 0.363346914638644 & 0.39989367101798 & 0.326288376824068 & 0.202251195580057 & 0.0624367542796471 & -0.0741371896067878 & -0.197997222171153 & -0.305322771092446 & -0.395496367367846\\end{array}\\right]$"
      ],
      "text/plain": [
       "<IPython.core.display.Math object>"
      ]
     },
     "metadata": {},
     "output_type": "display_data"
    },
    {
     "data": {
      "text/latex": [
       "$\\displaystyle g(\\lambda_3) = \\left[\\begin{matrix}-0.41732730487054\\\\0.815592096149913\\\\0.269296523779204\\\\-1.06303175711544\\\\0.32460325950008\\\\0.353224646252919\\\\-0.738153491781262\\\\0.838129937685899\\\\-1.08545748050008\\\\0.148455578563969\\\\0.555058847304984\\end{matrix}\\right]$"
      ],
      "text/plain": [
       "<IPython.core.display.Math object>"
      ]
     },
     "metadata": {},
     "output_type": "display_data"
    },
    {
     "data": {
      "text/latex": [
       "$\\displaystyle \\delta_3 = \\left[\\begin{matrix}0.00182739251472871\\\\0.00327203320063538\\\\0.000352984088552006\\end{matrix}\\right]$"
      ],
      "text/plain": [
       "<IPython.core.display.Math object>"
      ]
     },
     "metadata": {},
     "output_type": "display_data"
    },
    {
     "name": "stdout",
     "output_type": "stream",
     "text": [
      "\n"
     ]
    },
    {
     "data": {
      "text/latex": [
       "$\\displaystyle \\text{Optimales } p: 0$"
      ],
      "text/plain": [
       "<IPython.core.display.Math object>"
      ]
     },
     "metadata": {},
     "output_type": "display_data"
    },
    {
     "data": {
      "text/latex": [
       "$\\displaystyle \\text{{Lambda berechnen: }} \\lambda_4 = \\lambda_3 + \\frac{{\\delta_3}}{{2^0}}$"
      ],
      "text/plain": [
       "<IPython.core.display.Math object>"
      ]
     },
     "metadata": {},
     "output_type": "display_data"
    },
    {
     "data": {
      "text/latex": [
       "$\\displaystyle \\left[\\begin{matrix}39.9673273048705\\\\60.2376357826766\\\\0.597396649697985\\end{matrix}\\right] + \\frac{{\\left[\\begin{matrix}0.00182739251472871\\\\0.00327203320063538\\\\0.000352984088552006\\end{matrix}\\right]}}{{2^0}} = \\left[\\begin{matrix}39.9691546973853\\\\60.2409078158772\\\\0.597749633786537\\end{matrix}\\right]$"
      ],
      "text/plain": [
       "<IPython.core.display.Math object>"
      ]
     },
     "metadata": {},
     "output_type": "display_data"
    },
    {
     "name": "stdout",
     "output_type": "stream",
     "text": [
      "\n"
     ]
    },
    {
     "data": {
      "text/latex": [
       "$\\displaystyle \\lambda_{4} = 39.9692, 60.2409, 0.5977$"
      ],
      "text/plain": [
       "<IPython.core.display.Math object>"
      ]
     },
     "metadata": {},
     "output_type": "display_data"
    },
    {
     "data": {
      "text/latex": [
       "$\\displaystyle \\text{Inkrement} = 0.0037643276206671544$"
      ],
      "text/plain": [
       "<IPython.core.display.Math object>"
      ]
     },
     "metadata": {},
     "output_type": "display_data"
    },
    {
     "data": {
      "text/latex": [
       "$\\displaystyle \\text{Fehlerfunktional} = 5.02770560581111$"
      ],
      "text/plain": [
       "<IPython.core.display.Math object>"
      ]
     },
     "metadata": {},
     "output_type": "display_data"
    },
    {
     "name": "stdout",
     "output_type": "stream",
     "text": [
      "-----------------------------------------\n",
      "\n"
     ]
    },
    {
     "data": {
      "text/latex": [
       "$\\displaystyle \\text{Iteration: } 5$"
      ],
      "text/plain": [
       "<IPython.core.display.Math object>"
      ]
     },
     "metadata": {},
     "output_type": "display_data"
    },
    {
     "data": {
      "text/latex": [
       "$\\displaystyle \\text{{QR-Zerlegung von }} Dg(\\lambda_{4}) = Q_4 \\cdot R_4:$"
      ],
      "text/plain": [
       "<IPython.core.display.Math object>"
      ]
     },
     "metadata": {},
     "output_type": "display_data"
    },
    {
     "data": {
      "text/latex": [
       "$\\displaystyle \\text{{Q}}_4= \\left[\\begin{matrix}-0.698698888772837 & 0.293535733229626 & 0.49870699305608\\\\-0.500011766763327 & 0.0861157496355352 & -0.117190709705858\\\\-0.357824766747365 & -0.062320771626231 & -0.36319005724454\\\\-0.256071101139528 & -0.168546798947749 & -0.399860624997778\\\\-0.18325285148612 & -0.244565616854515 & -0.326362256477103\\\\-0.131141731450189 & -0.298967168165955 & -0.20238648244743\\\\-0.0938493103287727 & -0.33789869678721 & -0.0625849790899647\\\\-0.0671616346054702 & -0.365759371423319 & 0.0740163415776715\\\\-0.0480630613808122 & -0.385697381017818 & 0.197932518402722\\\\-0.0343954980081377 & -0.399965672499717 & 0.305331797992557\\\\-0.0246145428368427 & -0.410176528345057 & 0.395587458933644\\end{matrix}\\right]$"
      ],
      "text/plain": [
       "<IPython.core.display.Math object>"
      ]
     },
     "metadata": {},
     "output_type": "display_data"
    },
    {
     "data": {
      "text/latex": [
       "$\\displaystyle \\text{{R}}_4= \\left[\\begin{matrix}1.43123170233798 & 0.963853451181425 & -16.9342075069582\\\\0 & 2.29424652280241 & -20.1643534419536\\\\0 & 0 & -11.8565686405168\\end{matrix}\\right]$"
      ],
      "text/plain": [
       "<IPython.core.display.Math object>"
      ]
     },
     "metadata": {},
     "output_type": "display_data"
    },
    {
     "data": {
      "text/latex": [
       "$\\displaystyle Dg(\\lambda_{4}) = \\left[\\begin{matrix}-1.0 & 0 & 0\\\\-0.715632692133695 & -0.284367307866305 & 8.12031429537962\\\\-0.512130150050521 & -0.487869849949479 & 11.6223247603485\\\\-0.366497078003487 & -0.633502921996512 & 12.4759733356505\\\\-0.262277290590769 & -0.737722709409231 & 11.9042858469063\\\\-0.187694203551003 & -0.812305796448997 & 10.6488701606883\\\\-0.134320108185094 & -0.865679891814906 & 9.14481554553063\\\\-0.0961238606281883 & -0.903876139371812 & 7.63505046256651\\\\-0.0687893771596345 & -0.931210622840365 & 6.24444767668924\\\\-0.0492279271669494 & -0.950772072833051 & 5.02732226447676\\\\-0.0352291140466455 & -0.964770885953354 & 3.99746240705686\\end{matrix}\\right]$"
      ],
      "text/plain": [
       "<IPython.core.display.Math object>"
      ]
     },
     "metadata": {},
     "output_type": "display_data"
    },
    {
     "name": "stdout",
     "output_type": "stream",
     "text": [
      "\n"
     ]
    },
    {
     "data": {
      "text/latex": [
       "$\\displaystyle \\text{{Auflösen nach }} \\delta_4\\text{{ mit }} R_4\\cdot \\delta_4= -Q_4^T \\cdot g(\\lambda_4):$"
      ],
      "text/plain": [
       "<IPython.core.display.Math object>"
      ]
     },
     "metadata": {},
     "output_type": "display_data"
    },
    {
     "data": {
      "text/latex": [
       "$\\displaystyle Q_4^T\\left[\\begin{array}{ccccccccccc}-0.698698888772837 & -0.500011766763327 & -0.357824766747365 & -0.256071101139528 & -0.18325285148612 & -0.131141731450189 & -0.0938493103287727 & -0.0671616346054702 & -0.0480630613808122 & -0.0343954980081377 & -0.0246145428368427\\\\0.293535733229626 & 0.0861157496355352 & -0.062320771626231 & -0.168546798947749 & -0.244565616854515 & -0.298967168165955 & -0.33789869678721 & -0.365759371423319 & -0.385697381017818 & -0.399965672499717 & -0.410176528345057\\\\0.49870699305608 & -0.117190709705858 & -0.36319005724454 & -0.399860624997778 & -0.326362256477103 & -0.20238648244743 & -0.0625849790899647 & 0.0740163415776715 & 0.197932518402722 & 0.305331797992557 & 0.395587458933644\\end{array}\\right]$"
      ],
      "text/plain": [
       "<IPython.core.display.Math object>"
      ]
     },
     "metadata": {},
     "output_type": "display_data"
    },
    {
     "data": {
      "text/latex": [
       "$\\displaystyle -Q_4^T\\left[\\begin{array}{ccccccccccc}0.698698888772837 & 0.500011766763327 & 0.357824766747365 & 0.256071101139528 & 0.18325285148612 & 0.131141731450189 & 0.0938493103287727 & 0.0671616346054702 & 0.0480630613808122 & 0.0343954980081377 & 0.0246145428368427\\\\-0.293535733229626 & -0.0861157496355352 & 0.062320771626231 & 0.168546798947749 & 0.244565616854515 & 0.298967168165955 & 0.33789869678721 & 0.365759371423319 & 0.385697381017818 & 0.399965672499717 & 0.410176528345057\\\\-0.49870699305608 & 0.117190709705858 & 0.36319005724454 & 0.399860624997778 & 0.326362256477103 & 0.20238648244743 & 0.0625849790899647 & -0.0740163415776715 & -0.197932518402722 & -0.305331797992557 & -0.395587458933644\\end{array}\\right]$"
      ],
      "text/plain": [
       "<IPython.core.display.Math object>"
      ]
     },
     "metadata": {},
     "output_type": "display_data"
    },
    {
     "data": {
      "text/latex": [
       "$\\displaystyle g(\\lambda_4) = \\left[\\begin{matrix}-0.419154697385267\\\\0.816221442578815\\\\0.270868150483174\\\\-1.06136953194183\\\\0.325912667565817\\\\0.353982740280699\\\\-0.738003743899853\\\\0.837691355573746\\\\-1.08642654492228\\\\0.147028570186286\\\\0.553248086659579\\end{matrix}\\right]$"
      ],
      "text/plain": [
       "<IPython.core.display.Math object>"
      ]
     },
     "metadata": {},
     "output_type": "display_data"
    },
    {
     "data": {
      "text/latex": [
       "$\\displaystyle \\delta_4 = \\left[\\begin{matrix}0.000113338517835498\\\\0.000170488761923572\\\\1.9361412727337 \\cdot 10^{-5}\\end{matrix}\\right]$"
      ],
      "text/plain": [
       "<IPython.core.display.Math object>"
      ]
     },
     "metadata": {},
     "output_type": "display_data"
    },
    {
     "name": "stdout",
     "output_type": "stream",
     "text": [
      "\n"
     ]
    },
    {
     "data": {
      "text/latex": [
       "$\\displaystyle \\text{Optimales } p: 0$"
      ],
      "text/plain": [
       "<IPython.core.display.Math object>"
      ]
     },
     "metadata": {},
     "output_type": "display_data"
    },
    {
     "data": {
      "text/latex": [
       "$\\displaystyle \\text{{Lambda berechnen: }} \\lambda_5 = \\lambda_4 + \\frac{{\\delta_4}}{{2^0}}$"
      ],
      "text/plain": [
       "<IPython.core.display.Math object>"
      ]
     },
     "metadata": {},
     "output_type": "display_data"
    },
    {
     "data": {
      "text/latex": [
       "$\\displaystyle \\left[\\begin{matrix}39.9691546973853\\\\60.2409078158772\\\\0.597749633786537\\end{matrix}\\right] + \\frac{{\\left[\\begin{matrix}0.000113338517835498\\\\0.000170488761923572\\\\1.9361412727337 \\cdot 10^{-5}\\end{matrix}\\right]}}{{2^0}} = \\left[\\begin{matrix}39.9692680359031\\\\60.2410783046391\\\\0.597768995199265\\end{matrix}\\right]$"
      ],
      "text/plain": [
       "<IPython.core.display.Math object>"
      ]
     },
     "metadata": {},
     "output_type": "display_data"
    },
    {
     "name": "stdout",
     "output_type": "stream",
     "text": [
      "\n"
     ]
    },
    {
     "data": {
      "text/latex": [
       "$\\displaystyle \\lambda_{5} = 39.9693, 60.2411, 0.5978$"
      ],
      "text/plain": [
       "<IPython.core.display.Math object>"
      ]
     },
     "metadata": {},
     "output_type": "display_data"
    },
    {
     "data": {
      "text/latex": [
       "$\\displaystyle \\text{Inkrement} = 0.000205637792903392$"
      ],
      "text/plain": [
       "<IPython.core.display.Math object>"
      ]
     },
     "metadata": {},
     "output_type": "display_data"
    },
    {
     "data": {
      "text/latex": [
       "$\\displaystyle \\text{Fehlerfunktional} = 5.027705550245123$"
      ],
      "text/plain": [
       "<IPython.core.display.Math object>"
      ]
     },
     "metadata": {},
     "output_type": "display_data"
    },
    {
     "name": "stdout",
     "output_type": "stream",
     "text": [
      "-----------------------------------------\n",
      "\n"
     ]
    },
    {
     "data": {
      "text/latex": [
       "$\\displaystyle \\text{Iteration: } 6$"
      ],
      "text/plain": [
       "<IPython.core.display.Math object>"
      ]
     },
     "metadata": {},
     "output_type": "display_data"
    },
    {
     "data": {
      "text/latex": [
       "$\\displaystyle \\text{{QR-Zerlegung von }} Dg(\\lambda_{5}) = Q_5 \\cdot R_5:$"
      ],
      "text/plain": [
       "<IPython.core.display.Math object>"
      ]
     },
     "metadata": {},
     "output_type": "display_data"
    },
    {
     "data": {
      "text/latex": [
       "$\\displaystyle \\text{{Q}}_5= \\left[\\begin{matrix}-0.698690993201526 & 0.293541015632694 & 0.498708958386671\\\\-0.500011535095659 & 0.0861234456929923 & -0.117178811452046\\\\-0.357828478771595 & -0.0623129568948507 & -0.363181456681946\\\\-0.256076532705387 & -0.16854005048015 & -0.399858810522085\\\\-0.183258724480312 & -0.244560455278779 & -0.326366304074553\\\\-0.131147355610241 & -0.29896373179417 & -0.202393897808375\\\\-0.0938543522679976 & -0.337896916949526 & -0.0625931053257043\\\\-0.0671659706645088 & -0.365759078999864 & 0.0740097149460744\\\\-0.0480666853085715 & -0.385698369120147 & 0.197928969183357\\\\-0.0343984641879685 & -0.399967731626276 & 0.305332291159172\\\\-0.0246169323075819 & -0.410179464596861 & 0.395592452189435\\end{matrix}\\right]$"
      ],
      "text/plain": [
       "<IPython.core.display.Math object>"
      ]
     },
     "metadata": {},
     "output_type": "display_data"
    },
    {
     "data": {
      "text/latex": [
       "$\\displaystyle \\text{{R}}_5= \\left[\\begin{matrix}1.43124787599998 & 0.963868148601368 & -16.9340798883852\\\\0 & 2.29421429441494 & -20.164148841799\\\\0 & 0 & -11.8559818634639\\end{matrix}\\right]$"
      ],
      "text/plain": [
       "<IPython.core.display.Math object>"
      ]
     },
     "metadata": {},
     "output_type": "display_data"
    },
    {
     "data": {
      "text/latex": [
       "$\\displaystyle Dg(\\lambda_{5}) = \\left[\\begin{matrix}-1.0 & 0 & 0\\\\-0.715640447581151 & -0.284359552418849 & 8.11989916605965\\\\-0.51214125021415 & -0.48785874978585 & 11.6218565470255\\\\-0.366508993528024 & -0.633491006471976 & 12.4756059315559\\\\-0.262288660170913 & -0.737711339829088 & 11.9040642836063\\\\-0.187704374160172 & -0.812295625839828 & 10.6487873649435\\\\-0.134328842336925 & -0.865671157663075 & 9.14484354725359\\\\-0.0961311528530552 & -0.903868847146945 & 7.63515658408552\\\\-0.0687953412542524 & -0.931204658745748 & 6.24460214307101\\\\-0.0492327288066912 & -0.950767271193309 & 5.02750110671274\\\\-0.0352329320788619 & -0.964767067921138 & 3.99764793580293\\end{matrix}\\right]$"
      ],
      "text/plain": [
       "<IPython.core.display.Math object>"
      ]
     },
     "metadata": {},
     "output_type": "display_data"
    },
    {
     "name": "stdout",
     "output_type": "stream",
     "text": [
      "\n"
     ]
    },
    {
     "data": {
      "text/latex": [
       "$\\displaystyle \\text{{Auflösen nach }} \\delta_5\\text{{ mit }} R_5\\cdot \\delta_5= -Q_5^T \\cdot g(\\lambda_5):$"
      ],
      "text/plain": [
       "<IPython.core.display.Math object>"
      ]
     },
     "metadata": {},
     "output_type": "display_data"
    },
    {
     "data": {
      "text/latex": [
       "$\\displaystyle Q_5^T\\left[\\begin{array}{ccccccccccc}-0.698690993201526 & -0.500011535095659 & -0.357828478771595 & -0.256076532705387 & -0.183258724480312 & -0.131147355610241 & -0.0938543522679976 & -0.0671659706645088 & -0.0480666853085715 & -0.0343984641879685 & -0.0246169323075819\\\\0.293541015632694 & 0.0861234456929923 & -0.0623129568948507 & -0.16854005048015 & -0.244560455278779 & -0.29896373179417 & -0.337896916949526 & -0.365759078999864 & -0.385698369120147 & -0.399967731626276 & -0.410179464596861\\\\0.498708958386671 & -0.117178811452046 & -0.363181456681946 & -0.399858810522085 & -0.326366304074553 & -0.202393897808375 & -0.0625931053257043 & 0.0740097149460744 & 0.197928969183357 & 0.305332291159172 & 0.395592452189435\\end{array}\\right]$"
      ],
      "text/plain": [
       "<IPython.core.display.Math object>"
      ]
     },
     "metadata": {},
     "output_type": "display_data"
    },
    {
     "data": {
      "text/latex": [
       "$\\displaystyle -Q_5^T\\left[\\begin{array}{ccccccccccc}0.698690993201526 & 0.500011535095659 & 0.357828478771595 & 0.256076532705387 & 0.183258724480312 & 0.131147355610241 & 0.0938543522679976 & 0.0671659706645088 & 0.0480666853085715 & 0.0343984641879685 & 0.0246169323075819\\\\-0.293541015632694 & -0.0861234456929923 & 0.0623129568948507 & 0.16854005048015 & 0.244560455278779 & 0.29896373179417 & 0.337896916949526 & 0.365759078999864 & 0.385698369120147 & 0.399967731626276 & 0.410179464596861\\\\-0.498708958386671 & 0.117178811452046 & 0.363181456681946 & 0.399858810522085 & 0.326366304074553 & 0.202393897808375 & 0.0625931053257043 & -0.0740097149460744 & -0.197928969183357 & -0.305332291159172 & -0.395592452189435\\end{array}\\right]$"
      ],
      "text/plain": [
       "<IPython.core.display.Math object>"
      ]
     },
     "metadata": {},
     "output_type": "display_data"
    },
    {
     "data": {
      "text/latex": [
       "$\\displaystyle g(\\lambda_5) = \\left[\\begin{matrix}-0.419268035903102\\\\0.816249069359287\\\\0.27095195049538\\\\-1.06127752605362\\\\0.32598764998658\\\\0.354029154947717\\\\-0.737989499166027\\\\0.837674186912857\\\\-1.08647219935998\\\\0.146958232742243\\\\0.553157009674813\\end{matrix}\\right]$"
      ],
      "text/plain": [
       "<IPython.core.display.Math object>"
      ]
     },
     "metadata": {},
     "output_type": "display_data"
    },
    {
     "data": {
      "text/latex": [
       "$\\displaystyle \\delta_5 = \\left[\\begin{matrix}6.22548012843162 \\cdot 10^{-6}\\\\9.26017151202435 \\cdot 10^{-6}\\\\1.05350554452073 \\cdot 10^{-6}\\end{matrix}\\right]$"
      ],
      "text/plain": [
       "<IPython.core.display.Math object>"
      ]
     },
     "metadata": {},
     "output_type": "display_data"
    },
    {
     "name": "stdout",
     "output_type": "stream",
     "text": [
      "\n"
     ]
    },
    {
     "data": {
      "text/latex": [
       "$\\displaystyle \\text{Optimales } p: 0$"
      ],
      "text/plain": [
       "<IPython.core.display.Math object>"
      ]
     },
     "metadata": {},
     "output_type": "display_data"
    },
    {
     "data": {
      "text/latex": [
       "$\\displaystyle \\text{{Lambda berechnen: }} \\lambda_6 = \\lambda_5 + \\frac{{\\delta_5}}{{2^0}}$"
      ],
      "text/plain": [
       "<IPython.core.display.Math object>"
      ]
     },
     "metadata": {},
     "output_type": "display_data"
    },
    {
     "data": {
      "text/latex": [
       "$\\displaystyle \\left[\\begin{matrix}39.9692680359031\\\\60.2410783046391\\\\0.597768995199265\\end{matrix}\\right] + \\frac{{\\left[\\begin{matrix}6.22548012843162 \\cdot 10^{-6}\\\\9.26017151202435 \\cdot 10^{-6}\\\\1.05350554452073 \\cdot 10^{-6}\\end{matrix}\\right]}}{{2^0}} = \\left[\\begin{matrix}39.9692742613832\\\\60.2410875648106\\\\0.597770048704809\\end{matrix}\\right]$"
      ],
      "text/plain": [
       "<IPython.core.display.Math object>"
      ]
     },
     "metadata": {},
     "output_type": "display_data"
    },
    {
     "name": "stdout",
     "output_type": "stream",
     "text": [
      "\n"
     ]
    },
    {
     "data": {
      "text/latex": [
       "$\\displaystyle \\lambda_{6} = 39.9693, 60.2411, 0.5978$"
      ],
      "text/plain": [
       "<IPython.core.display.Math object>"
      ]
     },
     "metadata": {},
     "output_type": "display_data"
    },
    {
     "data": {
      "text/latex": [
       "$\\displaystyle \\text{Inkrement} = 1.120791029558768e-05$"
      ],
      "text/plain": [
       "<IPython.core.display.Math object>"
      ]
     },
     "metadata": {},
     "output_type": "display_data"
    },
    {
     "data": {
      "text/latex": [
       "$\\displaystyle \\text{Fehlerfunktional} = 5.027705550080651$"
      ],
      "text/plain": [
       "<IPython.core.display.Math object>"
      ]
     },
     "metadata": {},
     "output_type": "display_data"
    },
    {
     "name": "stdout",
     "output_type": "stream",
     "text": [
      "-----------------------------------------\n",
      "\n"
     ]
    },
    {
     "data": {
      "text/latex": [
       "$\\displaystyle \\text{Iteration: } 7$"
      ],
      "text/plain": [
       "<IPython.core.display.Math object>"
      ]
     },
     "metadata": {},
     "output_type": "display_data"
    },
    {
     "data": {
      "text/latex": [
       "$\\displaystyle \\text{{QR-Zerlegung von }} Dg(\\lambda_{6}) = Q_6 \\cdot R_6:$"
      ],
      "text/plain": [
       "<IPython.core.display.Math object>"
      ]
     },
     "metadata": {},
     "output_type": "display_data"
    },
    {
     "data": {
      "text/latex": [
       "$\\displaystyle \\text{{Q}}_6= \\left[\\begin{matrix}-0.698690563590125 & 0.293541303056456 & 0.498709065319966\\\\-0.500011522483453 & 0.0861238644471713 & -0.117178164058911\\\\-0.357828680741831 & -0.0623125316818126 & -0.363180988712103\\\\-0.256076828240846 & -0.168539683282432 & -0.399858711786077\\\\-0.183259044037344 & -0.244560174425153 & -0.326366524300847\\\\-0.131147661630261 & -0.298963544811175 & -0.20239430128218\\\\-0.0938546266103007 & -0.337896820101413 & -0.0625935474837173\\\\-0.0671662065999538 & -0.365759063085074 & 0.0740093543794253\\\\-0.048066882496473 & -0.385698422881892 & 0.197928776060451\\\\-0.0343986255869828 & -0.399967843665426 & 0.305332317987812\\\\-0.0246170623268578 & -0.410179624363121 & 0.395592723876181\\end{matrix}\\right]$"
      ],
      "text/plain": [
       "<IPython.core.display.Math object>"
      ]
     },
     "metadata": {},
     "output_type": "display_data"
    },
    {
     "data": {
      "text/latex": [
       "$\\displaystyle \\text{{R}}_6= \\left[\\begin{matrix}1.43124875604679 & 0.963868948297636 & -16.9340728816048\\\\0 & 2.29421254079387 & -20.164137634109\\\\0 & 0 & -11.8559498925593\\end{matrix}\\right]$"
      ],
      "text/plain": [
       "<IPython.core.display.Math object>"
      ]
     },
     "metadata": {},
     "output_type": "display_data"
    },
    {
     "data": {
      "text/latex": [
       "$\\displaystyle Dg(\\lambda_{6}) = \\left[\\begin{matrix}-1.0 & 0 & 0\\\\-0.715640869563506 & -0.284359130436494 & 8.11987654866744\\\\-0.512141854189611 & -0.487858145810389 & 11.6218310280734\\\\-0.366509641872119 & -0.633490358127881 & 12.4755858942758\\\\-0.262289278812773 & -0.737710721187227 & 11.9040521835917\\\\-0.187704927566757 & -0.812295072433243 & 10.6487828199936\\\\-0.134329317585229 & -0.865670682414771 & 9.1448450365118\\\\-0.0961315496445658 & -0.903868450355434 & 7.63516232961162\\\\-0.0687956657801244 & -0.931204334219876 & 6.24461052436775\\\\-0.0492329900810885 & -0.950767009918911 & 5.02751081896195\\\\-0.0352331398328417 & -0.964766860167158 & 3.99765801580207\\end{matrix}\\right]$"
      ],
      "text/plain": [
       "<IPython.core.display.Math object>"
      ]
     },
     "metadata": {},
     "output_type": "display_data"
    },
    {
     "name": "stdout",
     "output_type": "stream",
     "text": [
      "\n"
     ]
    },
    {
     "data": {
      "text/latex": [
       "$\\displaystyle \\text{{Auflösen nach }} \\delta_6\\text{{ mit }} R_6\\cdot \\delta_6= -Q_6^T \\cdot g(\\lambda_6):$"
      ],
      "text/plain": [
       "<IPython.core.display.Math object>"
      ]
     },
     "metadata": {},
     "output_type": "display_data"
    },
    {
     "data": {
      "text/latex": [
       "$\\displaystyle Q_6^T\\left[\\begin{array}{ccccccccccc}-0.698690563590125 & -0.500011522483453 & -0.357828680741831 & -0.256076828240846 & -0.183259044037344 & -0.131147661630261 & -0.0938546266103007 & -0.0671662065999538 & -0.048066882496473 & -0.0343986255869828 & -0.0246170623268578\\\\0.293541303056456 & 0.0861238644471713 & -0.0623125316818126 & -0.168539683282432 & -0.244560174425153 & -0.298963544811175 & -0.337896820101413 & -0.365759063085074 & -0.385698422881892 & -0.399967843665426 & -0.410179624363121\\\\0.498709065319966 & -0.117178164058911 & -0.363180988712103 & -0.399858711786077 & -0.326366524300847 & -0.20239430128218 & -0.0625935474837173 & 0.0740093543794253 & 0.197928776060451 & 0.305332317987812 & 0.395592723876181\\end{array}\\right]$"
      ],
      "text/plain": [
       "<IPython.core.display.Math object>"
      ]
     },
     "metadata": {},
     "output_type": "display_data"
    },
    {
     "data": {
      "text/latex": [
       "$\\displaystyle -Q_6^T\\left[\\begin{array}{ccccccccccc}0.698690563590125 & 0.500011522483453 & 0.357828680741831 & 0.256076828240846 & 0.183259044037344 & 0.131147661630261 & 0.0938546266103007 & 0.0671662065999538 & 0.048066882496473 & 0.0343986255869828 & 0.0246170623268578\\\\-0.293541303056456 & -0.0861238644471713 & 0.0623125316818126 & 0.168539683282432 & 0.244560174425153 & 0.298963544811175 & 0.337896820101413 & 0.365759063085074 & 0.385698422881892 & 0.399967843665426 & 0.410179624363121\\\\-0.498709065319966 & 0.117178164058911 & 0.363180988712103 & 0.399858711786077 & 0.326366524300847 & 0.20239430128218 & 0.0625935474837173 & -0.0740093543794253 & -0.197928776060451 & -0.305332317987812 & -0.395592723876181\\end{array}\\right]$"
      ],
      "text/plain": [
       "<IPython.core.display.Math object>"
      ]
     },
     "metadata": {},
     "output_type": "display_data"
    },
    {
     "data": {
      "text/latex": [
       "$\\displaystyle g(\\lambda_6) = \\left[\\begin{matrix}-0.419274261383229\\\\0.816250535283196\\\\0.270956488192297\\\\-1.061272530873\\\\0.3259917267725\\\\0.354031682956027\\\\-0.737988717546074\\\\0.837673262153153\\\\-1.08647467203098\\\\0.146954418482672\\\\0.553152067974267\\end{matrix}\\right]$"
      ],
      "text/plain": [
       "<IPython.core.display.Math object>"
      ]
     },
     "metadata": {},
     "output_type": "display_data"
    },
    {
     "data": {
      "text/latex": [
       "$\\displaystyle \\delta_6 = \\left[\\begin{matrix}3.3877099184501 \\cdot 10^{-7}\\\\5.0359812630294 \\cdot 10^{-7}\\\\5.72975636937479 \\cdot 10^{-8}\\end{matrix}\\right]$"
      ],
      "text/plain": [
       "<IPython.core.display.Math object>"
      ]
     },
     "metadata": {},
     "output_type": "display_data"
    },
    {
     "name": "stdout",
     "output_type": "stream",
     "text": [
      "\n"
     ]
    },
    {
     "data": {
      "text/latex": [
       "$\\displaystyle \\text{Optimales } p: 0$"
      ],
      "text/plain": [
       "<IPython.core.display.Math object>"
      ]
     },
     "metadata": {},
     "output_type": "display_data"
    },
    {
     "data": {
      "text/latex": [
       "$\\displaystyle \\text{{Lambda berechnen: }} \\lambda_7 = \\lambda_6 + \\frac{{\\delta_6}}{{2^0}}$"
      ],
      "text/plain": [
       "<IPython.core.display.Math object>"
      ]
     },
     "metadata": {},
     "output_type": "display_data"
    },
    {
     "data": {
      "text/latex": [
       "$\\displaystyle \\left[\\begin{matrix}39.9692742613832\\\\60.2410875648106\\\\0.597770048704809\\end{matrix}\\right] + \\frac{{\\left[\\begin{matrix}3.3877099184501 \\cdot 10^{-7}\\\\5.0359812630294 \\cdot 10^{-7}\\\\5.72975636937479 \\cdot 10^{-8}\\end{matrix}\\right]}}{{2^0}} = \\left[\\begin{matrix}39.9692746001542\\\\60.2410880684088\\\\0.597770106002373\\end{matrix}\\right]$"
      ],
      "text/plain": [
       "<IPython.core.display.Math object>"
      ]
     },
     "metadata": {},
     "output_type": "display_data"
    },
    {
     "name": "stdout",
     "output_type": "stream",
     "text": [
      "\n"
     ]
    },
    {
     "data": {
      "text/latex": [
       "$\\displaystyle \\lambda_{7} = 39.9693, 60.2411, 0.5978$"
      ],
      "text/plain": [
       "<IPython.core.display.Math object>"
      ]
     },
     "metadata": {},
     "output_type": "display_data"
    },
    {
     "data": {
      "text/latex": [
       "$\\displaystyle \\text{Inkrement} = 6.096391297617983e-07$"
      ],
      "text/plain": [
       "<IPython.core.display.Math object>"
      ]
     },
     "metadata": {},
     "output_type": "display_data"
    },
    {
     "data": {
      "text/latex": [
       "$\\displaystyle \\text{Fehlerfunktional} = 5.027705550080159$"
      ],
      "text/plain": [
       "<IPython.core.display.Math object>"
      ]
     },
     "metadata": {},
     "output_type": "display_data"
    },
    {
     "name": "stdout",
     "output_type": "stream",
     "text": [
      "-----------------------------------------\n",
      "\n"
     ]
    },
    {
     "data": {
      "text/latex": [
       "$\\displaystyle \\text{Iteration: } 8$"
      ],
      "text/plain": [
       "<IPython.core.display.Math object>"
      ]
     },
     "metadata": {},
     "output_type": "display_data"
    },
    {
     "data": {
      "text/latex": [
       "$\\displaystyle \\text{{QR-Zerlegung von }} Dg(\\lambda_{7}) = Q_7 \\cdot R_7:$"
      ],
      "text/plain": [
       "<IPython.core.display.Math object>"
      ]
     },
     "metadata": {},
     "output_type": "display_data"
    },
    {
     "data": {
      "text/latex": [
       "$\\displaystyle \\text{{Q}}_7= \\left[\\begin{matrix}-0.698690540224645 & 0.293541318688708 & 0.498709071135788\\\\-0.500011521797487 & 0.086123887222151 & -0.117178128848866\\\\-0.357828691726461 & -0.0623125085555471 & -0.363180963260407\\\\-0.256076844314259 & -0.168539663311467 & -0.399858706416052\\\\-0.183259061417237 & -0.244560159150222 & -0.326366536278369\\\\-0.131147678273918 & -0.298963534641629 & -0.202394323226077\\\\-0.0938546415310922 & -0.337896814834076 & -0.0625935715315643\\\\-0.0671662194318969 & -0.365759062219499 & 0.0740093347691135\\\\-0.0480668932210371 & -0.38569842580585 & 0.197928765556972\\\\-0.0343986343650804 & -0.399967849758948 & 0.305332319446938\\\\-0.0246170693982906 & -0.410179633052405 & 0.395592738652524\\end{matrix}\\right]$"
      ],
      "text/plain": [
       "<IPython.core.display.Math object>"
      ]
     },
     "metadata": {},
     "output_type": "display_data"
    },
    {
     "data": {
      "text/latex": [
       "$\\displaystyle \\text{{R}}_7= \\left[\\begin{matrix}1.43124880391035 & 0.963868991791054 & -16.9340725003375\\\\0 & 2.29421244541879 & -20.1641370243287\\\\0 & 0 & -11.855948153614\\end{matrix}\\right]$"
      ],
      "text/plain": [
       "<IPython.core.display.Math object>"
      ]
     },
     "metadata": {},
     "output_type": "display_data"
    },
    {
     "data": {
      "text/latex": [
       "$\\displaystyle Dg(\\lambda_{7}) = \\left[\\begin{matrix}-1.0 & 0 & 0\\\\-0.715640892514048 & -0.284359107485952 & 8.1198753184771\\\\-0.512141887038303 & -0.487858112961697 & 11.6218296400355\\\\-0.36650967713392 & -0.63349032286608 & 12.4755848043618\\\\-0.262289312459154 & -0.737710687540846 & 11.9040515253709\\\\-0.187704957665165 & -0.812295042334835 & 10.6487825726871\\\\-0.13432934343281 & -0.86567065656719 & 9.14484511740699\\\\-0.0961315712250826 & -0.903868428774917 & 7.63516264201118\\\\-0.0687956834302959 & -0.931204316569704 & 6.24461098013577\\\\-0.0492330042911708 & -0.950766995708829 & 5.02751134713081\\\\-0.0352331511320815 & -0.964766848867919 & 3.99765856398355\\end{matrix}\\right]$"
      ],
      "text/plain": [
       "<IPython.core.display.Math object>"
      ]
     },
     "metadata": {},
     "output_type": "display_data"
    },
    {
     "name": "stdout",
     "output_type": "stream",
     "text": [
      "\n"
     ]
    },
    {
     "data": {
      "text/latex": [
       "$\\displaystyle \\text{{Auflösen nach }} \\delta_7\\text{{ mit }} R_7\\cdot \\delta_7= -Q_7^T \\cdot g(\\lambda_7):$"
      ],
      "text/plain": [
       "<IPython.core.display.Math object>"
      ]
     },
     "metadata": {},
     "output_type": "display_data"
    },
    {
     "data": {
      "text/latex": [
       "$\\displaystyle Q_7^T\\left[\\begin{array}{ccccccccccc}-0.698690540224645 & -0.500011521797487 & -0.357828691726461 & -0.256076844314259 & -0.183259061417237 & -0.131147678273918 & -0.0938546415310922 & -0.0671662194318969 & -0.0480668932210371 & -0.0343986343650804 & -0.0246170693982906\\\\0.293541318688708 & 0.086123887222151 & -0.0623125085555471 & -0.168539663311467 & -0.244560159150222 & -0.298963534641629 & -0.337896814834076 & -0.365759062219499 & -0.38569842580585 & -0.399967849758948 & -0.410179633052405\\\\0.498709071135788 & -0.117178128848866 & -0.363180963260407 & -0.399858706416052 & -0.326366536278369 & -0.202394323226077 & -0.0625935715315643 & 0.0740093347691135 & 0.197928765556972 & 0.305332319446938 & 0.395592738652524\\end{array}\\right]$"
      ],
      "text/plain": [
       "<IPython.core.display.Math object>"
      ]
     },
     "metadata": {},
     "output_type": "display_data"
    },
    {
     "data": {
      "text/latex": [
       "$\\displaystyle -Q_7^T\\left[\\begin{array}{ccccccccccc}0.698690540224645 & 0.500011521797487 & 0.357828691726461 & 0.256076844314259 & 0.183259061417237 & 0.131147678273918 & 0.0938546415310922 & 0.0671662194318969 & 0.0480668932210371 & 0.0343986343650804 & 0.0246170693982906\\\\-0.293541318688708 & -0.086123887222151 & 0.0623125085555471 & 0.168539663311467 & 0.244560159150222 & 0.298963534641629 & 0.337896814834076 & 0.365759062219499 & 0.38569842580585 & 0.399967849758948 & 0.410179633052405\\\\-0.498709071135788 & 0.117178128848866 & 0.363180963260407 & 0.399858706416052 & 0.326366536278369 & 0.202394323226077 & 0.0625935715315643 & -0.0740093347691135 & -0.197928765556972 & -0.305332319446938 & -0.395592738652524\\end{array}\\right]$"
      ],
      "text/plain": [
       "<IPython.core.display.Math object>"
      ]
     },
     "metadata": {},
     "output_type": "display_data"
    },
    {
     "data": {
      "text/latex": [
       "$\\displaystyle g(\\lambda_7) = \\left[\\begin{matrix}-0.419274600154225\\\\0.81625061489121\\\\0.270956734911607\\\\-1.06127225923974\\\\0.325991948479938\\\\0.354031820446075\\\\-0.737988675025733\\\\0.837673211876329\\\\-1.08647480648873\\\\0.146954211063616\\\\0.5531517992396\\end{matrix}\\right]$"
      ],
      "text/plain": [
       "<IPython.core.display.Math object>"
      ]
     },
     "metadata": {},
     "output_type": "display_data"
    },
    {
     "data": {
      "text/latex": [
       "$\\displaystyle \\delta_7 = \\left[\\begin{matrix}1.84249892741173 \\cdot 10^{-8}\\\\2.73886542378988 \\cdot 10^{-8}\\\\3.11619439467116 \\cdot 10^{-9}\\end{matrix}\\right]$"
      ],
      "text/plain": [
       "<IPython.core.display.Math object>"
      ]
     },
     "metadata": {},
     "output_type": "display_data"
    },
    {
     "name": "stdout",
     "output_type": "stream",
     "text": [
      "\n"
     ]
    },
    {
     "data": {
      "text/latex": [
       "$\\displaystyle \\text{Aktuelles } p: 0$"
      ],
      "text/plain": [
       "<IPython.core.display.Math object>"
      ]
     },
     "metadata": {},
     "output_type": "display_data"
    },
    {
     "data": {
      "text/latex": [
       "$\\displaystyle \\text{Optimales } p: 1$"
      ],
      "text/plain": [
       "<IPython.core.display.Math object>"
      ]
     },
     "metadata": {},
     "output_type": "display_data"
    },
    {
     "data": {
      "text/latex": [
       "$\\displaystyle \\text{{Lambda berechnen: }} \\lambda_8 = \\lambda_7 + \\frac{{\\delta_7}}{{2^1}}$"
      ],
      "text/plain": [
       "<IPython.core.display.Math object>"
      ]
     },
     "metadata": {},
     "output_type": "display_data"
    },
    {
     "data": {
      "text/latex": [
       "$\\displaystyle \\left[\\begin{matrix}39.9692746001542\\\\60.2410880684088\\\\0.597770106002373\\end{matrix}\\right] + \\frac{{\\left[\\begin{matrix}1.84249892741173 \\cdot 10^{-8}\\\\2.73886542378988 \\cdot 10^{-8}\\\\3.11619439467116 \\cdot 10^{-9}\\end{matrix}\\right]}}{{2^1}} = \\left[\\begin{matrix}39.9692746093667\\\\60.2410880821031\\\\0.59777010756047\\end{matrix}\\right]$"
      ],
      "text/plain": [
       "<IPython.core.display.Math object>"
      ]
     },
     "metadata": {},
     "output_type": "display_data"
    },
    {
     "name": "stdout",
     "output_type": "stream",
     "text": [
      "\n"
     ]
    },
    {
     "data": {
      "text/latex": [
       "$\\displaystyle \\lambda_{8} = 39.9693, 60.2411, 0.5978$"
      ],
      "text/plain": [
       "<IPython.core.display.Math object>"
      ]
     },
     "metadata": {},
     "output_type": "display_data"
    },
    {
     "data": {
      "text/latex": [
       "$\\displaystyle \\text{Inkrement} = 1.657806742521494e-08$"
      ],
      "text/plain": [
       "<IPython.core.display.Math object>"
      ]
     },
     "metadata": {},
     "output_type": "display_data"
    },
    {
     "data": {
      "text/latex": [
       "$\\displaystyle \\text{Fehlerfunktional} = 5.0277055500801415$"
      ],
      "text/plain": [
       "<IPython.core.display.Math object>"
      ]
     },
     "metadata": {},
     "output_type": "display_data"
    },
    {
     "name": "stdout",
     "output_type": "stream",
     "text": [
      "-----------------------------------------\n",
      "\n"
     ]
    },
    {
     "data": {
      "image/png": "[encoded data removed]",
      "text/plain": [
       "<Figure size 640x480 with 1 Axes>"
      ]
     },
     "metadata": {},
     "output_type": "display_data"
    }
   ],
   "source": [
    "import matplotlib.pyplot as plt\n",
    "import numpy as np\n",
    "import sympy as sp\n",
    "from IPython.display import display, Math\n",
    "\n",
    "\"\"\"INPUT\"\"\"\n",
    "x = np.arange(0.0, 2.2, 0.2)\n",
    "y = np.array([39.55, 46.55, 50.13, 51.75, 55.25, 56.79, 56.78, 59.13, 57.76, 59.39, 60.08])\n",
    "\n",
    "# Symbole für Ansatzfunktion\n",
    "p = sp.symbols(\"p0 p1 p2\")\n",
    "\n",
    "# Ansatzfunktion WICHTIG: Spezial Funktionen von sympy zb sp.exp etc\n",
    "def f(x, p):\n",
    "    return p[0] + (p[1] - p[0]) * (1 - sp.exp((-x) / p[2]))\n",
    "\n",
    "# Startvektor für Iteration\n",
    "lam0 = np.array([40, 60, 0.4], dtype=np.float64) \n",
    "\n",
    "# Fehlertoleranz für Abbruch\n",
    "tol = 10**-7\n",
    "max_iter = 30\n",
    "pmax = 5  # Maximale Dämpfung\n",
    "\n",
    "# Parameter für Plot\n",
    "a, b = 0, 3\n",
    "steps = 0.001\n",
    "\"\"\"INPUT\"\"\"\n",
    "\n",
    "sp.init_printing()\n",
    "\n",
    "def gauss_newton_d(g, Dg, lam0, tol, max_iter, pmax):\n",
    "    k = 0\n",
    "    lam = np.copy(lam0)\n",
    "    increment = tol + 1\n",
    "    err_func = np.linalg.norm(g(lam)) ** 2\n",
    "\n",
    "    while k < max_iter and increment > tol:\n",
    "        display(Math(f\"\\\\text{{Iteration: }} {k+1}\"))\n",
    "        Df = Dg(lam)\n",
    "        Q, R = np.linalg.qr(Df)\n",
    "        display(Math('\\\\text{{QR-Zerlegung von }} Dg(\\\\lambda_{' + str(k) + '}) = Q_' + str(k) + ' \\\\cdot R_' + str(k) + ':'))\n",
    "        display(Math('\\\\text{{Q}}_' + str(k) + '= ' + sp.latex(sp.Matrix(Q))))\n",
    "        display(Math('\\\\text{{R}}_' + str(k) + '= ' + sp.latex(sp.Matrix(R))))\n",
    "        display(Math('Dg(\\\\lambda_{' + str(k) + '}) = ' + sp.latex(sp.Matrix(Df))))\n",
    "        print()\n",
    "        \n",
    "        QT = Q.T\n",
    "        g_lambda_val = g(lam)\n",
    "        display(Math('\\\\text{{Auflösen nach }} \\\\delta_' + str(k) + '\\\\text{{ mit }} R_' + str(k) + '\\\\cdot \\\\delta_' + str(k) + '= -Q_' + str(k) + '^T \\\\cdot g(\\\\lambda_' + str(k) + '):'))\n",
    "        display(Math('Q_' + str(k) + '^T' + sp.latex(sp.Matrix(QT))))\n",
    "        display(Math('-Q_' + str(k) + '^T' + sp.latex(sp.Matrix(-1 * QT))))\n",
    "        display(Math('g(\\\\lambda_' + str(k) + ') = ' + sp.latex(sp.Matrix(g_lambda_val))))\n",
    "        \n",
    "        delta = np.linalg.solve(R, -QT @ g(lam)).flatten()\n",
    "        display(Math('\\\\delta_' + str(k) + ' = ' + sp.latex(sp.Matrix(delta))))\n",
    "        print()\n",
    "        \n",
    "       # Bestimmung der optimalen Dämpfung p\n",
    "        p = 0\n",
    "        while p < pmax and np.linalg.norm(g(lam + delta / (2**p))) ** 2 >= err_func:\n",
    "            display(Math(f\"\\\\text{{Aktuelles }} p: {p}\"))\n",
    "            p += 1\n",
    "        if p >= pmax and np.linalg.norm(g(lam + delta / (2**p))) ** 2 >= err_func:\n",
    "            display(Math(\"\\\\text{Kein minimales } p \\\\text{ gefunden, daher } p = 0\"))\n",
    "            p = 0\n",
    "\n",
    "        display(Math(f\"\\\\text{{Optimales }} p: {p}\"))\n",
    "\n",
    "        # Update des Vektors Lambda\n",
    "        lam_new = lam + delta / 2**p\n",
    "        display(Math('\\\\text{{Lambda berechnen: }} \\\\lambda_' + str(k+1) + ' = \\\\lambda_' + str(k) + ' + \\\\frac{{\\\\delta_' + str(k) + '}}{{2^' + str(p) + '}}'))\n",
    "        display(Math(sp.latex(sp.Matrix(lam)) + ' + \\\\frac{{' + sp.latex(sp.Matrix(delta)) + '}}{{2^' + str(p) + '}} = ' + sp.latex(sp.Matrix(lam_new))))\n",
    "        print()\n",
    "\n",
    "        err_func = np.linalg.norm(g(lam_new), 2) ** 2\n",
    "        increment = np.linalg.norm(delta / 2**p, 2)\n",
    "\n",
    "        # Ausgabe der Zwischenergebnisse mit IPython.display\n",
    "        display(Math(f\"\\\\lambda_{{{k+1}}} = \" + ', '.join(f\"{val:.4f}\" for val in lam_new)))\n",
    "        display(Math(f\"\\\\text{{Inkrement}} = {increment}\"))\n",
    "        display(Math(f\"\\\\text{{Fehlerfunktional}} = {err_func}\"))\n",
    "        print(\"-----------------------------------------\")\n",
    "        print()\n",
    "        \n",
    "        \n",
    "        # Aktualisierung von lam für die nächste Iteration\n",
    "        lam = lam_new\n",
    "        k += 1\n",
    "    \n",
    "    return lam, k\n",
    "\n",
    "def showPlot(lam, x, y, f):\n",
    "    t = sp.symbols(\"t\")\n",
    "    F = f(t, lam)\n",
    "    F = sp.lambdify([t], F, \"numpy\")\n",
    "    t = np.arange(a, b, steps)\n",
    "    plt.scatter(x, y, color=\"orange\", label=\"Daten\")\n",
    "    plt.plot(t, F(t), label=\"f(x)\")\n",
    "    plt.xlabel(\"x\")\n",
    "    plt.ylabel(\"y\")\n",
    "    plt.grid()\n",
    "    plt.legend()\n",
    "    plt.show()\n",
    "\n",
    "g = sp.Matrix([y[k] - f(x[k], p) for k in range(len(x))])\n",
    "Dg = g.jacobian(p)\n",
    "g = sp.lambdify([p], g, \"numpy\")\n",
    "Dg = sp.lambdify([p], Dg, \"numpy\")\n",
    "\n",
    "# Starte den Gauss-Newton-Algorithmus und zeige Zwischenergebnisse an\n",
    "lam_damp, n = gauss_newton_d(g, Dg, lam0, tol, max_iter, 5)\n",
    "\n",
    "# Zeige den finalen Plot der Funktion\n",
    "showPlot(lam_damp, x, y, f)\n"
   ]
  }
 ],
 "metadata": {
  "kernelspec": {
   "display_name": "base",
   "language": "python",
   "name": "python3"
  },
  "language_info": {
   "codemirror_mode": {
    "name": "ipython",
    "version": 3
   },
   "file_extension": ".py",
   "mimetype": "text/x-python",
   "name": "python",
   "nbconvert_exporter": "python",
   "pygments_lexer": "ipython3",
   "version": "3.12.2"
  }
 },
 "nbformat": 4,
 "nbformat_minor": 2
}
